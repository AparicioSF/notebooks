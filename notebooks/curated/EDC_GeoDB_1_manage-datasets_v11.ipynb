{
 "cells": [
  {
   "cell_type": "code",
   "execution_count": 1,
   "id": "1bc2e278",
   "metadata": {
    "execution": {
     "iopub.execute_input": "2022-06-30T10:01:44.578648Z",
     "iopub.status.busy": "2022-06-30T10:01:44.578023Z",
     "iopub.status.idle": "2022-06-30T10:02:02.198272Z",
     "shell.execute_reply": "2022-06-30T10:02:02.197590Z"
    },
    "papermill": {
     "duration": 17.647293,
     "end_time": "2022-06-30T10:02:02.209956",
     "exception": false,
     "start_time": "2022-06-30T10:01:44.562663",
     "status": "completed"
    },
    "tags": []
   },
   "outputs": [
    {
     "data": {
      "text/markdown": [
       "\n",
       "***Notebook Title***  \n",
       "GeoDB: Manage Datasets\n",
       "\n",
       "***Notebook Description***  \n",
       "Euro Data Cube GeoDB: Manage Datasets\n",
       "\n",
       "\n",
       "***Notebook Dependencies***  \n",
       "This notebook requires an active subscription to:\n",
       "* EDC GeoDB\n",
       "* EDC EOxHub Workspace\n",
       "* EDC EOxHub Workspace\n"
      ],
      "text/plain": [
       "<IPython.core.display.Markdown object>"
      ]
     },
     "metadata": {},
     "output_type": "display_data"
    }
   ],
   "source": [
    "from edc import print_info \n",
    "print_info(\"geodb-manage\")"
   ]
  },
  {
   "cell_type": "code",
   "execution_count": 2,
   "id": "f1fdb01e",
   "metadata": {
    "execution": {
     "iopub.execute_input": "2022-06-30T10:02:02.252700Z",
     "iopub.status.busy": "2022-06-30T10:02:02.252232Z",
     "iopub.status.idle": "2022-06-30T10:02:02.268477Z",
     "shell.execute_reply": "2022-06-30T10:02:02.267366Z"
    },
    "papermill": {
     "duration": 0.059157,
     "end_time": "2022-06-30T10:02:02.279752",
     "exception": false,
     "start_time": "2022-06-30T10:02:02.220595",
     "status": "completed"
    },
    "tags": []
   },
   "outputs": [
    {
     "data": {
      "text/html": [
       "<script type=\"text/javascript\">\n",
       "        function toggle(id) {\n",
       "            el = document.getElementById(id);\n",
       "            el.style.display = el.style.display === \"none\" ? \"block\" : \"none\";\n",
       "        }\n",
       "    </script>"
      ],
      "text/plain": [
       "<IPython.core.display.HTML object>"
      ]
     },
     "metadata": {},
     "output_type": "display_data"
    },
    {
     "data": {
      "text/html": [
       "This notebook is compatible with this base image version (user-2022.07-00)."
      ],
      "text/plain": [
       "<IPython.core.display.HTML object>"
      ]
     },
     "metadata": {},
     "output_type": "display_data"
    },
    {
     "data": {
      "text/markdown": [
       "\n",
       "\n",
       "---------\n",
       "\n",
       "The following environment variables are available:\n",
       "\n",
       "* `GEODB_AUTH_AUD`, `GEODB_AUTH_CLIENT_ID`, `GEODB_AUTH_DOMAIN`, `GEODB_API_SERVER_URL`, `GEODB_AUTH_CLIENT_SECRET`, `GEODB_API_SERVER_PORT`\n"
      ],
      "text/plain": [
       "<IPython.core.display.Markdown object>"
      ]
     },
     "metadata": {},
     "output_type": "display_data"
    }
   ],
   "source": [
    "from edc import check_compatibility\n",
    "check_compatibility(\"user-2022.07-00\", dependencies=[\"GEODB\"])"
   ]
  },
  {
   "cell_type": "markdown",
   "id": "4589dc0f",
   "metadata": {
    "papermill": {
     "duration": 0.012155,
     "end_time": "2022-06-30T10:02:02.299678",
     "exception": false,
     "start_time": "2022-06-30T10:02:02.287523",
     "status": "completed"
    },
    "tags": []
   },
   "source": [
    "## Manage Collections in your GeoDB\n",
    "\n"
   ]
  },
  {
   "cell_type": "markdown",
   "id": "b700341c",
   "metadata": {
    "papermill": {
     "duration": 0.011179,
     "end_time": "2022-06-30T10:02:02.326230",
     "exception": false,
     "start_time": "2022-06-30T10:02:02.315051",
     "status": "completed"
    },
    "tags": []
   },
   "source": [
    "### Connecting to the GeoDB"
   ]
  },
  {
   "cell_type": "code",
   "execution_count": 1,
   "id": "baa87b49",
   "metadata": {
    "papermill": {
     "duration": 0.678813,
     "end_time": "2022-06-30T10:02:03.026472",
     "exception": false,
     "start_time": "2022-06-30T10:02:02.347659",
     "status": "completed"
    },
    "tags": []
   },
   "outputs": [],
   "source": [
    "from xcube_geodb.core.geodb import GeoDBClient\n",
    "from xcube_geodb.version import version"
   ]
  },
  {
   "cell_type": "code",
   "execution_count": 2,
   "id": "9baa3452",
   "metadata": {
    "papermill": {
     "duration": 0.031925,
     "end_time": "2022-06-30T10:02:03.069311",
     "exception": false,
     "start_time": "2022-06-30T10:02:03.037386",
     "status": "completed"
    },
    "tags": []
   },
   "outputs": [],
   "source": [
    "geodb = GeoDBClient()"
   ]
  },
  {
   "cell_type": "code",
   "execution_count": 3,
   "id": "a780e3fb",
   "metadata": {
    "papermill": {
     "duration": 1.169833,
     "end_time": "2022-06-30T10:02:04.251498",
     "exception": false,
     "start_time": "2022-06-30T10:02:03.081665",
     "status": "completed"
    },
    "tags": []
   },
   "outputs": [
    {
     "data": {
      "text/plain": [
       "'geodb_139b9f28-6757-4ffa-8345-3f658eb33850'"
      ]
     },
     "execution_count": 3,
     "metadata": {},
     "output_type": "execute_result"
    }
   ],
   "source": [
    "# If you are logged in, this will tell you what account the system currently uses\n",
    "geodb.whoami"
   ]
  },
  {
   "cell_type": "markdown",
   "id": "5988fdc1-a7d5-44ef-bf43-47272919b63e",
   "metadata": {},
   "source": [
    "Checkout the deployed SQL version:"
   ]
  },
  {
   "cell_type": "code",
   "execution_count": null,
   "id": "5fd0efdb-7b23-4e2d-957a-3328bd06d27d",
   "metadata": {},
   "outputs": [],
   "source": [
    "geodb.get_geodb_sql_version()"
   ]
  },
  {
   "cell_type": "markdown",
   "id": "795e0288-7e79-49e9-b994-a1e7e690dfd1",
   "metadata": {},
   "source": [
    "Checkout the version of xcube geoDB software in your workspace: "
   ]
  },
  {
   "cell_type": "code",
   "execution_count": null,
   "id": "5f8f9ce4-676b-4dcb-8f5d-57a97d6fd91f",
   "metadata": {},
   "outputs": [],
   "source": [
    "version"
   ]
  },
  {
   "cell_type": "code",
   "execution_count": 4,
   "id": "f0b2b694",
   "metadata": {
    "papermill": {
     "duration": 0.298533,
     "end_time": "2022-06-30T10:02:04.556380",
     "exception": false,
     "start_time": "2022-06-30T10:02:04.257847",
     "status": "completed"
    },
    "tags": []
   },
   "outputs": [
    {
     "data": {
      "text/html": [
       "<div>\n",
       "<style scoped>\n",
       "    .dataframe tbody tr th:only-of-type {\n",
       "        vertical-align: middle;\n",
       "    }\n",
       "\n",
       "    .dataframe tbody tr th {\n",
       "        vertical-align: top;\n",
       "    }\n",
       "\n",
       "    .dataframe thead th {\n",
       "        text-align: right;\n",
       "    }\n",
       "</style>\n",
       "<table border=\"1\" class=\"dataframe\">\n",
       "  <thead>\n",
       "    <tr style=\"text-align: right;\">\n",
       "      <th></th>\n",
       "      <th>owner</th>\n",
       "      <th>database</th>\n",
       "      <th>collection</th>\n",
       "    </tr>\n",
       "  </thead>\n",
       "  <tbody>\n",
       "    <tr>\n",
       "      <th>0</th>\n",
       "      <td>geodb_49a05d04-5d72-4c0f-9065-6e6827fd1871</td>\n",
       "      <td>anja</td>\n",
       "      <td>E1</td>\n",
       "    </tr>\n",
       "    <tr>\n",
       "      <th>1</th>\n",
       "      <td>geodb_49a05d04-5d72-4c0f-9065-6e6827fd1871</td>\n",
       "      <td>anja</td>\n",
       "      <td>E10a1</td>\n",
       "    </tr>\n",
       "    <tr>\n",
       "      <th>2</th>\n",
       "      <td>geodb_49a05d04-5d72-4c0f-9065-6e6827fd1871</td>\n",
       "      <td>anja</td>\n",
       "      <td>E10a2</td>\n",
       "    </tr>\n",
       "    <tr>\n",
       "      <th>3</th>\n",
       "      <td>geodb_49a05d04-5d72-4c0f-9065-6e6827fd1871</td>\n",
       "      <td>anja</td>\n",
       "      <td>E11</td>\n",
       "    </tr>\n",
       "    <tr>\n",
       "      <th>4</th>\n",
       "      <td>geodb_49a05d04-5d72-4c0f-9065-6e6827fd1871</td>\n",
       "      <td>anja</td>\n",
       "      <td>E1a</td>\n",
       "    </tr>\n",
       "    <tr>\n",
       "      <th>...</th>\n",
       "      <td>...</td>\n",
       "      <td>...</td>\n",
       "      <td>...</td>\n",
       "    </tr>\n",
       "    <tr>\n",
       "      <th>910</th>\n",
       "      <td>geodb_cdcbc7da-dc26-42dc-bff9-d4336f98dca0</td>\n",
       "      <td>polar</td>\n",
       "      <td>polar_sea_ice</td>\n",
       "    </tr>\n",
       "    <tr>\n",
       "      <th>911</th>\n",
       "      <td>geodb_cdcbc7da-dc26-42dc-bff9-d4336f98dca0</td>\n",
       "      <td>polar</td>\n",
       "      <td>polar_sea_ice_3413</td>\n",
       "    </tr>\n",
       "    <tr>\n",
       "      <th>912</th>\n",
       "      <td>geodb_admin</td>\n",
       "      <td>public</td>\n",
       "      <td>land_use</td>\n",
       "    </tr>\n",
       "    <tr>\n",
       "      <th>913</th>\n",
       "      <td>geodb_d2c4722a-cc19-4ec1-b575-0cdb6876d4a7</td>\n",
       "      <td>test_duplicate</td>\n",
       "      <td>test</td>\n",
       "    </tr>\n",
       "    <tr>\n",
       "      <th>914</th>\n",
       "      <td>None</td>\n",
       "      <td>None</td>\n",
       "      <td>None</td>\n",
       "    </tr>\n",
       "  </tbody>\n",
       "</table>\n",
       "<p>915 rows × 3 columns</p>\n",
       "</div>"
      ],
      "text/plain": [
       "                                          owner        database  \\\n",
       "0    geodb_49a05d04-5d72-4c0f-9065-6e6827fd1871            anja   \n",
       "1    geodb_49a05d04-5d72-4c0f-9065-6e6827fd1871            anja   \n",
       "2    geodb_49a05d04-5d72-4c0f-9065-6e6827fd1871            anja   \n",
       "3    geodb_49a05d04-5d72-4c0f-9065-6e6827fd1871            anja   \n",
       "4    geodb_49a05d04-5d72-4c0f-9065-6e6827fd1871            anja   \n",
       "..                                          ...             ...   \n",
       "910  geodb_cdcbc7da-dc26-42dc-bff9-d4336f98dca0           polar   \n",
       "911  geodb_cdcbc7da-dc26-42dc-bff9-d4336f98dca0           polar   \n",
       "912                                 geodb_admin          public   \n",
       "913  geodb_d2c4722a-cc19-4ec1-b575-0cdb6876d4a7  test_duplicate   \n",
       "914                                        None            None   \n",
       "\n",
       "             collection  \n",
       "0                    E1  \n",
       "1                 E10a1  \n",
       "2                 E10a2  \n",
       "3                   E11  \n",
       "4                   E1a  \n",
       "..                  ...  \n",
       "910       polar_sea_ice  \n",
       "911  polar_sea_ice_3413  \n",
       "912            land_use  \n",
       "913                test  \n",
       "914                None  \n",
       "\n",
       "[915 rows x 3 columns]"
      ]
     },
     "execution_count": 4,
     "metadata": {},
     "output_type": "execute_result"
    }
   ],
   "source": [
    "# Lets get already existing collections\n",
    "ds = geodb.get_my_collections()\n",
    "ds\n"
   ]
  },
  {
   "cell_type": "markdown",
   "id": "66a44538",
   "metadata": {
    "papermill": {
     "duration": 0.00761,
     "end_time": "2022-06-30T10:02:04.571343",
     "exception": false,
     "start_time": "2022-06-30T10:02:04.563733",
     "status": "completed"
    },
    "tags": []
   },
   "source": [
    "### Creating collections\n",
    "\n",
    "Once the connection has been established you will be able to create a collection. The collection will contain standard properties (fields) plus custom properties\n",
    "which you can add at your disgretion. Please use [PostGreSQL type definitions](https://www.postgresql.org/docs/11/datatype.html). We recommend stying simple with\n",
    "your data types as we have not tested every single type."
   ]
  },
  {
   "cell_type": "code",
   "execution_count": 5,
   "id": "16370ff2",
   "metadata": {
    "papermill": {
     "duration": 0.438958,
     "end_time": "2022-06-30T10:02:05.032615",
     "exception": false,
     "start_time": "2022-06-30T10:02:04.593657",
     "status": "completed"
    },
    "tags": []
   },
   "outputs": [
    {
     "name": "stdout",
     "output_type": "stream",
     "text": [
      "Processing rows from 0 to 999\n",
      "Processing rows from 1000 to 1999\n",
      "Processing rows from 2000 to 2999\n",
      "Processing rows from 3000 to 3999\n",
      "Processing rows from 4000 to 4999\n",
      "Processing rows from 5000 to 5999\n",
      "Processing rows from 6000 to 6999\n",
      "Processing rows from 7000 to 7999\n",
      "Processing rows from 8000 to 8999\n",
      "Processing rows from 9000 to 9827\n"
     ]
    }
   ],
   "source": [
    "ds = geodb.get_my_collections()\n",
    "\n",
    "if ds[(ds.database == geodb.whoami) & (ds.collection == 'land_use')].collection.count() == 0:\n",
    "    # Have a look at fiona feature schema\n",
    "    collections = {\n",
    "            \"land_use\": \n",
    "            {\n",
    "                \"crs\": 3794,\n",
    "                \"properties\": \n",
    "                {\n",
    "                    \"RABA_PID\": \"float\", \n",
    "                    \"RABA_ID\": \"float\", \n",
    "                    \"D_OD\": \"date\"\n",
    "                }\n",
    "            }\n",
    "        }\n",
    "\n",
    "\n",
    "    geodb.create_collections(collections)\n",
    "    import geopandas\n",
    "    import os\n",
    "    gdf = geopandas.read_file(os.path.expanduser(\"~/.shared/notebooks/eurodatacube/notebooks/curated/data/sample/land_use.shp\"))\n",
    "    geodb.insert_into_collection('land_use', gdf)"
   ]
  },
  {
   "cell_type": "code",
   "execution_count": 6,
   "id": "b916f81a",
   "metadata": {
    "papermill": {
     "duration": 0.144265,
     "end_time": "2022-06-30T10:02:05.183070",
     "exception": false,
     "start_time": "2022-06-30T10:02:05.038805",
     "status": "completed"
    },
    "tags": []
   },
   "outputs": [
    {
     "data": {
      "text/html": [
       "<div>\n",
       "<style scoped>\n",
       "    .dataframe tbody tr th:only-of-type {\n",
       "        vertical-align: middle;\n",
       "    }\n",
       "\n",
       "    .dataframe tbody tr th {\n",
       "        vertical-align: top;\n",
       "    }\n",
       "\n",
       "    .dataframe thead th {\n",
       "        text-align: right;\n",
       "    }\n",
       "</style>\n",
       "<table border=\"1\" class=\"dataframe\">\n",
       "  <thead>\n",
       "    <tr style=\"text-align: right;\">\n",
       "      <th></th>\n",
       "      <th>owner</th>\n",
       "      <th>database</th>\n",
       "      <th>collection</th>\n",
       "    </tr>\n",
       "  </thead>\n",
       "  <tbody>\n",
       "    <tr>\n",
       "      <th>0</th>\n",
       "      <td>geodb_139b9f28-6757-4ffa-8345-3f658eb33850</td>\n",
       "      <td>geodb_139b9f28-6757-4ffa-8345-3f658eb33850</td>\n",
       "      <td>alster</td>\n",
       "    </tr>\n",
       "    <tr>\n",
       "      <th>1</th>\n",
       "      <td>geodb_139b9f28-6757-4ffa-8345-3f658eb33850</td>\n",
       "      <td>geodb_139b9f28-6757-4ffa-8345-3f658eb33850</td>\n",
       "      <td>alster_renamed_1</td>\n",
       "    </tr>\n",
       "    <tr>\n",
       "      <th>2</th>\n",
       "      <td>geodb_139b9f28-6757-4ffa-8345-3f658eb33850</td>\n",
       "      <td>geodb_139b9f28-6757-4ffa-8345-3f658eb33850</td>\n",
       "      <td>land_use</td>\n",
       "    </tr>\n",
       "  </tbody>\n",
       "</table>\n",
       "</div>"
      ],
      "text/plain": [
       "                                        owner  \\\n",
       "0  geodb_139b9f28-6757-4ffa-8345-3f658eb33850   \n",
       "1  geodb_139b9f28-6757-4ffa-8345-3f658eb33850   \n",
       "2  geodb_139b9f28-6757-4ffa-8345-3f658eb33850   \n",
       "\n",
       "                                     database        collection  \n",
       "0  geodb_139b9f28-6757-4ffa-8345-3f658eb33850            alster  \n",
       "1  geodb_139b9f28-6757-4ffa-8345-3f658eb33850  alster_renamed_1  \n",
       "2  geodb_139b9f28-6757-4ffa-8345-3f658eb33850          land_use  "
      ]
     },
     "execution_count": 6,
     "metadata": {},
     "output_type": "execute_result"
    }
   ],
   "source": [
    "ds = geodb.get_my_collections(database=geodb.whoami)\n",
    "ds"
   ]
  },
  {
   "cell_type": "markdown",
   "id": "9301faaf-d8c7-4b5c-abc8-774883c58334",
   "metadata": {},
   "source": [
    "See the chanhes made to the collection: "
   ]
  },
  {
   "cell_type": "code",
   "execution_count": null,
   "id": "ea80bd80-9e5b-4c9c-a707-095539e3df38",
   "metadata": {},
   "outputs": [],
   "source": [
    "geodb.get_event_log('land_use')"
   ]
  },
  {
   "cell_type": "markdown",
   "id": "454c4c30",
   "metadata": {
    "papermill": {
     "duration": 0.013947,
     "end_time": "2022-06-30T10:02:05.215149",
     "exception": false,
     "start_time": "2022-06-30T10:02:05.201202",
     "status": "completed"
    },
    "tags": []
   },
   "source": [
    "### Loading data into a dataset\n",
    "\n",
    "Once the table has been created, you can load data into the dataset. The example below loads a shapefile. The attributes of the shapefile correspond to the dataset's properties.\n"
   ]
  },
  {
   "cell_type": "code",
   "execution_count": 9,
   "id": "35ddeb73",
   "metadata": {
    "execution": {
     "iopub.execute_input": "2022-06-30T10:02:05.233768Z",
     "iopub.status.busy": "2022-06-30T10:02:05.232516Z",
     "iopub.status.idle": "2022-06-30T10:02:08.164225Z",
     "shell.execute_reply": "2022-06-30T10:02:08.157740Z"
    },
    "papermill": {
     "duration": 2.949049,
     "end_time": "2022-06-30T10:02:08.173157",
     "exception": false,
     "start_time": "2022-06-30T10:02:05.224108",
     "status": "completed"
    },
    "tags": []
   },
   "outputs": [
    {
     "data": {
      "text/html": [
       "<div>\n",
       "<style scoped>\n",
       "    .dataframe tbody tr th:only-of-type {\n",
       "        vertical-align: middle;\n",
       "    }\n",
       "\n",
       "    .dataframe tbody tr th {\n",
       "        vertical-align: top;\n",
       "    }\n",
       "\n",
       "    .dataframe thead th {\n",
       "        text-align: right;\n",
       "    }\n",
       "</style>\n",
       "<table border=\"1\" class=\"dataframe\">\n",
       "  <thead>\n",
       "    <tr style=\"text-align: right;\">\n",
       "      <th></th>\n",
       "      <th>RABA_PID</th>\n",
       "      <th>RABA_ID</th>\n",
       "      <th>D_OD</th>\n",
       "      <th>geometry</th>\n",
       "    </tr>\n",
       "  </thead>\n",
       "  <tbody>\n",
       "    <tr>\n",
       "      <th>0</th>\n",
       "      <td>4770326.0</td>\n",
       "      <td>1410</td>\n",
       "      <td>2019-03-26</td>\n",
       "      <td>POLYGON ((453952.629 91124.177, 453952.696 911...</td>\n",
       "    </tr>\n",
       "    <tr>\n",
       "      <th>1</th>\n",
       "      <td>4770325.0</td>\n",
       "      <td>1300</td>\n",
       "      <td>2019-03-26</td>\n",
       "      <td>POLYGON ((453810.376 91150.199, 453812.552 911...</td>\n",
       "    </tr>\n",
       "    <tr>\n",
       "      <th>2</th>\n",
       "      <td>2305689.0</td>\n",
       "      <td>7000</td>\n",
       "      <td>2019-02-25</td>\n",
       "      <td>POLYGON ((456099.635 97696.070, 456112.810 976...</td>\n",
       "    </tr>\n",
       "    <tr>\n",
       "      <th>3</th>\n",
       "      <td>2305596.0</td>\n",
       "      <td>1100</td>\n",
       "      <td>2019-02-25</td>\n",
       "      <td>POLYGON ((455929.405 97963.785, 455933.284 979...</td>\n",
       "    </tr>\n",
       "    <tr>\n",
       "      <th>4</th>\n",
       "      <td>2310160.0</td>\n",
       "      <td>1100</td>\n",
       "      <td>2019-03-11</td>\n",
       "      <td>POLYGON ((461561.512 96119.256, 461632.114 960...</td>\n",
       "    </tr>\n",
       "    <tr>\n",
       "      <th>...</th>\n",
       "      <td>...</td>\n",
       "      <td>...</td>\n",
       "      <td>...</td>\n",
       "      <td>...</td>\n",
       "    </tr>\n",
       "    <tr>\n",
       "      <th>9822</th>\n",
       "      <td>6253989.0</td>\n",
       "      <td>1600</td>\n",
       "      <td>2019-03-08</td>\n",
       "      <td>POLYGON ((460637.334 96865.891, 460647.927 969...</td>\n",
       "    </tr>\n",
       "    <tr>\n",
       "      <th>9823</th>\n",
       "      <td>6252044.0</td>\n",
       "      <td>1600</td>\n",
       "      <td>2019-03-26</td>\n",
       "      <td>POLYGON ((459467.868 96839.686, 459467.770 968...</td>\n",
       "    </tr>\n",
       "    <tr>\n",
       "      <th>9824</th>\n",
       "      <td>6245985.0</td>\n",
       "      <td>2000</td>\n",
       "      <td>2019-04-08</td>\n",
       "      <td>POLYGON ((459488.998 94066.248, 459498.145 940...</td>\n",
       "    </tr>\n",
       "    <tr>\n",
       "      <th>9825</th>\n",
       "      <td>6245986.0</td>\n",
       "      <td>2000</td>\n",
       "      <td>2019-02-20</td>\n",
       "      <td>POLYGON ((459676.680 94000.000, 459672.469 939...</td>\n",
       "    </tr>\n",
       "    <tr>\n",
       "      <th>9826</th>\n",
       "      <td>6245987.0</td>\n",
       "      <td>2000</td>\n",
       "      <td>2019-03-11</td>\n",
       "      <td>POLYGON ((459690.580 94042.607, 459686.872 940...</td>\n",
       "    </tr>\n",
       "  </tbody>\n",
       "</table>\n",
       "<p>9827 rows × 4 columns</p>\n",
       "</div>"
      ],
      "text/plain": [
       "       RABA_PID  RABA_ID        D_OD  \\\n",
       "0     4770326.0     1410  2019-03-26   \n",
       "1     4770325.0     1300  2019-03-26   \n",
       "2     2305689.0     7000  2019-02-25   \n",
       "3     2305596.0     1100  2019-02-25   \n",
       "4     2310160.0     1100  2019-03-11   \n",
       "...         ...      ...         ...   \n",
       "9822  6253989.0     1600  2019-03-08   \n",
       "9823  6252044.0     1600  2019-03-26   \n",
       "9824  6245985.0     2000  2019-04-08   \n",
       "9825  6245986.0     2000  2019-02-20   \n",
       "9826  6245987.0     2000  2019-03-11   \n",
       "\n",
       "                                               geometry  \n",
       "0     POLYGON ((453952.629 91124.177, 453952.696 911...  \n",
       "1     POLYGON ((453810.376 91150.199, 453812.552 911...  \n",
       "2     POLYGON ((456099.635 97696.070, 456112.810 976...  \n",
       "3     POLYGON ((455929.405 97963.785, 455933.284 979...  \n",
       "4     POLYGON ((461561.512 96119.256, 461632.114 960...  \n",
       "...                                                 ...  \n",
       "9822  POLYGON ((460637.334 96865.891, 460647.927 969...  \n",
       "9823  POLYGON ((459467.868 96839.686, 459467.770 968...  \n",
       "9824  POLYGON ((459488.998 94066.248, 459498.145 940...  \n",
       "9825  POLYGON ((459676.680 94000.000, 459672.469 939...  \n",
       "9826  POLYGON ((459690.580 94042.607, 459686.872 940...  \n",
       "\n",
       "[9827 rows x 4 columns]"
      ]
     },
     "execution_count": 9,
     "metadata": {},
     "output_type": "execute_result"
    }
   ],
   "source": [
    "import geopandas\n",
    "import os\n",
    "gdf = geopandas.read_file(os.path.expanduser(\"~/.shared/notebooks/eurodatacube/notebooks/curated/data/sample/land_use.shp\"))\n",
    "gdf"
   ]
  },
  {
   "cell_type": "code",
   "execution_count": 10,
   "id": "582ac5f4",
   "metadata": {
    "execution": {
     "iopub.execute_input": "2022-06-30T10:02:08.243371Z",
     "iopub.status.busy": "2022-06-30T10:02:08.241430Z",
     "iopub.status.idle": "2022-06-30T10:02:11.928138Z",
     "shell.execute_reply": "2022-06-30T10:02:11.924203Z"
    },
    "papermill": {
     "duration": 3.737132,
     "end_time": "2022-06-30T10:02:11.931633",
     "exception": false,
     "start_time": "2022-06-30T10:02:08.194501",
     "status": "completed"
    },
    "tags": []
   },
   "outputs": [
    {
     "name": "stdout",
     "output_type": "stream",
     "text": [
      "Processing rows from 0 to 999\n",
      "Processing rows from 1000 to 1999\n",
      "Processing rows from 2000 to 2999\n",
      "Processing rows from 3000 to 3999\n",
      "Processing rows from 4000 to 4999\n",
      "Processing rows from 5000 to 5999\n",
      "Processing rows from 6000 to 6999\n",
      "Processing rows from 7000 to 7999\n",
      "Processing rows from 8000 to 8999\n",
      "Processing rows from 9000 to 9827\n"
     ]
    },
    {
     "data": {
      "application/json": {
       "Message": "9827 rows inserted into land_use"
      },
      "text/plain": [
       "<xcube_geodb.core.message.Message at 0x7fcb92f61a30>"
      ]
     },
     "execution_count": 10,
     "metadata": {},
     "output_type": "execute_result"
    }
   ],
   "source": [
    "geodb.insert_into_collection('land_use', gdf)"
   ]
  },
  {
   "cell_type": "markdown",
   "id": "8ac520f3-9c73-4382-8023-19bdb438a92e",
   "metadata": {},
   "source": [
    "See the chanhes made to the collection: "
   ]
  },
  {
   "cell_type": "code",
   "execution_count": null,
   "id": "bd589d78-ba2f-410b-b13d-6bc81a6b6654",
   "metadata": {},
   "outputs": [],
   "source": [
    "geodb.get_event_log('land_use')"
   ]
  },
  {
   "cell_type": "code",
   "execution_count": 11,
   "id": "20127563",
   "metadata": {
    "execution": {
     "iopub.execute_input": "2022-06-30T10:02:11.964226Z",
     "iopub.status.busy": "2022-06-30T10:02:11.963605Z",
     "iopub.status.idle": "2022-06-30T10:02:12.340915Z",
     "shell.execute_reply": "2022-06-30T10:02:12.333152Z"
    },
    "papermill": {
     "duration": 0.398679,
     "end_time": "2022-06-30T10:02:12.348249",
     "exception": false,
     "start_time": "2022-06-30T10:02:11.949570",
     "status": "completed"
    },
    "tags": []
   },
   "outputs": [
    {
     "data": {
      "text/html": [
       "<div>\n",
       "<style scoped>\n",
       "    .dataframe tbody tr th:only-of-type {\n",
       "        vertical-align: middle;\n",
       "    }\n",
       "\n",
       "    .dataframe tbody tr th {\n",
       "        vertical-align: top;\n",
       "    }\n",
       "\n",
       "    .dataframe thead th {\n",
       "        text-align: right;\n",
       "    }\n",
       "</style>\n",
       "<table border=\"1\" class=\"dataframe\">\n",
       "  <thead>\n",
       "    <tr style=\"text-align: right;\">\n",
       "      <th></th>\n",
       "      <th>id</th>\n",
       "      <th>created_at</th>\n",
       "      <th>modified_at</th>\n",
       "      <th>geometry</th>\n",
       "      <th>raba_pid</th>\n",
       "      <th>raba_id</th>\n",
       "      <th>d_od</th>\n",
       "    </tr>\n",
       "  </thead>\n",
       "  <tbody>\n",
       "    <tr>\n",
       "      <th>0</th>\n",
       "      <td>3</td>\n",
       "      <td>2022-06-30T07:58:46.769609+00:00</td>\n",
       "      <td>None</td>\n",
       "      <td>POLYGON ((456099.635 97696.070, 456112.810 976...</td>\n",
       "      <td>2305689</td>\n",
       "      <td>7000</td>\n",
       "      <td>2019-02-25</td>\n",
       "    </tr>\n",
       "    <tr>\n",
       "      <th>1</th>\n",
       "      <td>26</td>\n",
       "      <td>2022-06-30T07:58:46.769609+00:00</td>\n",
       "      <td>None</td>\n",
       "      <td>POLYGON ((459898.930 100306.841, 459906.288 10...</td>\n",
       "      <td>2301992</td>\n",
       "      <td>7000</td>\n",
       "      <td>2019-04-06</td>\n",
       "    </tr>\n",
       "    <tr>\n",
       "      <th>2</th>\n",
       "      <td>95</td>\n",
       "      <td>2022-06-30T07:58:46.769609+00:00</td>\n",
       "      <td>None</td>\n",
       "      <td>POLYGON ((459591.248 92619.056, 459592.745 926...</td>\n",
       "      <td>2333229</td>\n",
       "      <td>7000</td>\n",
       "      <td>2019-02-20</td>\n",
       "    </tr>\n",
       "    <tr>\n",
       "      <th>3</th>\n",
       "      <td>115</td>\n",
       "      <td>2022-06-30T07:58:46.769609+00:00</td>\n",
       "      <td>None</td>\n",
       "      <td>POLYGON ((459013.303 100354.458, 459022.756 10...</td>\n",
       "      <td>2336738</td>\n",
       "      <td>7000</td>\n",
       "      <td>2019-03-15</td>\n",
       "    </tr>\n",
       "    <tr>\n",
       "      <th>4</th>\n",
       "      <td>129</td>\n",
       "      <td>2022-06-30T07:58:46.769609+00:00</td>\n",
       "      <td>None</td>\n",
       "      <td>POLYGON ((460851.200 93442.039, 460846.405 934...</td>\n",
       "      <td>6292562</td>\n",
       "      <td>7000</td>\n",
       "      <td>2019-02-21</td>\n",
       "    </tr>\n",
       "    <tr>\n",
       "      <th>...</th>\n",
       "      <td>...</td>\n",
       "      <td>...</td>\n",
       "      <td>...</td>\n",
       "      <td>...</td>\n",
       "      <td>...</td>\n",
       "      <td>...</td>\n",
       "      <td>...</td>\n",
       "    </tr>\n",
       "    <tr>\n",
       "      <th>763</th>\n",
       "      <td>19246</td>\n",
       "      <td>2022-06-30T10:02:11.720983+00:00</td>\n",
       "      <td>None</td>\n",
       "      <td>POLYGON ((456523.670 94000.000, 456550.368 939...</td>\n",
       "      <td>6187993</td>\n",
       "      <td>7000</td>\n",
       "      <td>2019-03-13</td>\n",
       "    </tr>\n",
       "    <tr>\n",
       "      <th>764</th>\n",
       "      <td>19373</td>\n",
       "      <td>2022-06-30T10:02:11.720983+00:00</td>\n",
       "      <td>None</td>\n",
       "      <td>POLYGON ((460793.279 94000.000, 460797.466 939...</td>\n",
       "      <td>6219403</td>\n",
       "      <td>7000</td>\n",
       "      <td>2019-02-21</td>\n",
       "    </tr>\n",
       "    <tr>\n",
       "      <th>765</th>\n",
       "      <td>19387</td>\n",
       "      <td>2022-06-30T10:02:11.720983+00:00</td>\n",
       "      <td>None</td>\n",
       "      <td>POLYGON ((461750.000 98434.292, 461750.000 984...</td>\n",
       "      <td>6219602</td>\n",
       "      <td>7000</td>\n",
       "      <td>2019-03-20</td>\n",
       "    </tr>\n",
       "    <tr>\n",
       "      <th>766</th>\n",
       "      <td>19451</td>\n",
       "      <td>2022-06-30T10:02:11.720983+00:00</td>\n",
       "      <td>None</td>\n",
       "      <td>POLYGON ((463628.912 97501.218, 463636.859 975...</td>\n",
       "      <td>6215237</td>\n",
       "      <td>7000</td>\n",
       "      <td>2019-03-20</td>\n",
       "    </tr>\n",
       "    <tr>\n",
       "      <th>767</th>\n",
       "      <td>19471</td>\n",
       "      <td>2022-06-30T10:02:11.720983+00:00</td>\n",
       "      <td>None</td>\n",
       "      <td>POLYGON ((462450.205 94000.000, 462457.333 940...</td>\n",
       "      <td>6213419</td>\n",
       "      <td>7000</td>\n",
       "      <td>2019-03-21</td>\n",
       "    </tr>\n",
       "  </tbody>\n",
       "</table>\n",
       "<p>768 rows × 7 columns</p>\n",
       "</div>"
      ],
      "text/plain": [
       "        id                        created_at modified_at  \\\n",
       "0        3  2022-06-30T07:58:46.769609+00:00        None   \n",
       "1       26  2022-06-30T07:58:46.769609+00:00        None   \n",
       "2       95  2022-06-30T07:58:46.769609+00:00        None   \n",
       "3      115  2022-06-30T07:58:46.769609+00:00        None   \n",
       "4      129  2022-06-30T07:58:46.769609+00:00        None   \n",
       "..     ...                               ...         ...   \n",
       "763  19246  2022-06-30T10:02:11.720983+00:00        None   \n",
       "764  19373  2022-06-30T10:02:11.720983+00:00        None   \n",
       "765  19387  2022-06-30T10:02:11.720983+00:00        None   \n",
       "766  19451  2022-06-30T10:02:11.720983+00:00        None   \n",
       "767  19471  2022-06-30T10:02:11.720983+00:00        None   \n",
       "\n",
       "                                              geometry  raba_pid  raba_id  \\\n",
       "0    POLYGON ((456099.635 97696.070, 456112.810 976...   2305689     7000   \n",
       "1    POLYGON ((459898.930 100306.841, 459906.288 10...   2301992     7000   \n",
       "2    POLYGON ((459591.248 92619.056, 459592.745 926...   2333229     7000   \n",
       "3    POLYGON ((459013.303 100354.458, 459022.756 10...   2336738     7000   \n",
       "4    POLYGON ((460851.200 93442.039, 460846.405 934...   6292562     7000   \n",
       "..                                                 ...       ...      ...   \n",
       "763  POLYGON ((456523.670 94000.000, 456550.368 939...   6187993     7000   \n",
       "764  POLYGON ((460793.279 94000.000, 460797.466 939...   6219403     7000   \n",
       "765  POLYGON ((461750.000 98434.292, 461750.000 984...   6219602     7000   \n",
       "766  POLYGON ((463628.912 97501.218, 463636.859 975...   6215237     7000   \n",
       "767  POLYGON ((462450.205 94000.000, 462457.333 940...   6213419     7000   \n",
       "\n",
       "           d_od  \n",
       "0    2019-02-25  \n",
       "1    2019-04-06  \n",
       "2    2019-02-20  \n",
       "3    2019-03-15  \n",
       "4    2019-02-21  \n",
       "..          ...  \n",
       "763  2019-03-13  \n",
       "764  2019-02-21  \n",
       "765  2019-03-20  \n",
       "766  2019-03-20  \n",
       "767  2019-03-21  \n",
       "\n",
       "[768 rows x 7 columns]"
      ]
     },
     "execution_count": 11,
     "metadata": {},
     "output_type": "execute_result"
    }
   ],
   "source": [
    "geodb.get_collection('land_use', query=\"raba_id=eq.7000\")"
   ]
  },
  {
   "cell_type": "markdown",
   "id": "1ae225fe",
   "metadata": {
    "papermill": {
     "duration": 0.010888,
     "end_time": "2022-06-30T10:02:12.379454",
     "exception": false,
     "start_time": "2022-06-30T10:02:12.368566",
     "status": "completed"
    },
    "tags": []
   },
   "source": [
    "### Delete from a Collection"
   ]
  },
  {
   "cell_type": "code",
   "execution_count": 12,
   "id": "ba7e7a44",
   "metadata": {
    "execution": {
     "iopub.execute_input": "2022-06-30T10:02:12.439631Z",
     "iopub.status.busy": "2022-06-30T10:02:12.436399Z",
     "iopub.status.idle": "2022-06-30T10:02:12.607463Z",
     "shell.execute_reply": "2022-06-30T10:02:12.606433Z"
    },
    "papermill": {
     "duration": 0.220955,
     "end_time": "2022-06-30T10:02:12.610538",
     "exception": false,
     "start_time": "2022-06-30T10:02:12.389583",
     "status": "completed"
    },
    "tags": []
   },
   "outputs": [
    {
     "data": {
      "application/json": {
       "Message": "Data from land_use deleted"
      },
      "text/plain": [
       "<xcube_geodb.core.message.Message at 0x7fcb8c589fa0>"
      ]
     },
     "execution_count": 12,
     "metadata": {},
     "output_type": "execute_result"
    }
   ],
   "source": [
    "geodb.delete_from_collection('land_use', query=\"raba_id=eq.7000\")"
   ]
  },
  {
   "cell_type": "markdown",
   "id": "399b905f-96d6-426b-b61f-cd154b1916b0",
   "metadata": {},
   "source": [
    "See the chanhes made to the collection: "
   ]
  },
  {
   "cell_type": "code",
   "execution_count": null,
   "id": "ed86d65d-e400-4b4a-9e7a-c752bdc73747",
   "metadata": {},
   "outputs": [],
   "source": [
    "geodb.get_event_log('land_use')"
   ]
  },
  {
   "cell_type": "code",
   "execution_count": 13,
   "id": "b99b8942",
   "metadata": {
    "execution": {
     "iopub.execute_input": "2022-06-30T10:02:12.631659Z",
     "iopub.status.busy": "2022-06-30T10:02:12.631014Z",
     "iopub.status.idle": "2022-06-30T10:02:12.856808Z",
     "shell.execute_reply": "2022-06-30T10:02:12.855490Z"
    },
    "papermill": {
     "duration": 0.23977,
     "end_time": "2022-06-30T10:02:12.859292",
     "exception": false,
     "start_time": "2022-06-30T10:02:12.619522",
     "status": "completed"
    },
    "tags": []
   },
   "outputs": [
    {
     "data": {
      "text/html": [
       "<div>\n",
       "<style scoped>\n",
       "    .dataframe tbody tr th:only-of-type {\n",
       "        vertical-align: middle;\n",
       "    }\n",
       "\n",
       "    .dataframe tbody tr th {\n",
       "        vertical-align: top;\n",
       "    }\n",
       "\n",
       "    .dataframe thead th {\n",
       "        text-align: right;\n",
       "    }\n",
       "</style>\n",
       "<table border=\"1\" class=\"dataframe\">\n",
       "  <thead>\n",
       "    <tr style=\"text-align: right;\">\n",
       "      <th></th>\n",
       "      <th>Empty Result</th>\n",
       "    </tr>\n",
       "  </thead>\n",
       "  <tbody>\n",
       "  </tbody>\n",
       "</table>\n",
       "</div>"
      ],
      "text/plain": [
       "Empty DataFrame\n",
       "Columns: [Empty Result]\n",
       "Index: []"
      ]
     },
     "execution_count": 13,
     "metadata": {},
     "output_type": "execute_result"
    }
   ],
   "source": [
    "geodb.get_collection('land_use', query=\"raba_id=eq.7000\")"
   ]
  },
  {
   "cell_type": "markdown",
   "id": "1545a8f9",
   "metadata": {
    "papermill": {
     "duration": 0.027507,
     "end_time": "2022-06-30T10:02:12.904120",
     "exception": false,
     "start_time": "2022-06-30T10:02:12.876613",
     "status": "completed"
    },
    "tags": []
   },
   "source": [
    "### Updating a Collection"
   ]
  },
  {
   "cell_type": "code",
   "execution_count": 14,
   "id": "292b9530",
   "metadata": {
    "execution": {
     "iopub.execute_input": "2022-06-30T10:02:12.942311Z",
     "iopub.status.busy": "2022-06-30T10:02:12.941856Z",
     "iopub.status.idle": "2022-06-30T10:02:13.531926Z",
     "shell.execute_reply": "2022-06-30T10:02:13.527449Z"
    },
    "papermill": {
     "duration": 0.608357,
     "end_time": "2022-06-30T10:02:13.534217",
     "exception": false,
     "start_time": "2022-06-30T10:02:12.925860",
     "status": "completed"
    },
    "tags": []
   },
   "outputs": [
    {
     "data": {
      "text/html": [
       "<div>\n",
       "<style scoped>\n",
       "    .dataframe tbody tr th:only-of-type {\n",
       "        vertical-align: middle;\n",
       "    }\n",
       "\n",
       "    .dataframe tbody tr th {\n",
       "        vertical-align: top;\n",
       "    }\n",
       "\n",
       "    .dataframe thead th {\n",
       "        text-align: right;\n",
       "    }\n",
       "</style>\n",
       "<table border=\"1\" class=\"dataframe\">\n",
       "  <thead>\n",
       "    <tr style=\"text-align: right;\">\n",
       "      <th></th>\n",
       "      <th>id</th>\n",
       "      <th>created_at</th>\n",
       "      <th>modified_at</th>\n",
       "      <th>geometry</th>\n",
       "      <th>raba_pid</th>\n",
       "      <th>raba_id</th>\n",
       "      <th>d_od</th>\n",
       "    </tr>\n",
       "  </thead>\n",
       "  <tbody>\n",
       "    <tr>\n",
       "      <th>0</th>\n",
       "      <td>2</td>\n",
       "      <td>2022-06-30T07:58:46.769609+00:00</td>\n",
       "      <td>None</td>\n",
       "      <td>POLYGON ((453810.376 91150.199, 453812.552 911...</td>\n",
       "      <td>4770325</td>\n",
       "      <td>1300</td>\n",
       "      <td>2019-03-26</td>\n",
       "    </tr>\n",
       "    <tr>\n",
       "      <th>1</th>\n",
       "      <td>10</td>\n",
       "      <td>2022-06-30T07:58:46.769609+00:00</td>\n",
       "      <td>None</td>\n",
       "      <td>POLYGON ((456547.427 91543.640, 456544.255 915...</td>\n",
       "      <td>2318555</td>\n",
       "      <td>1300</td>\n",
       "      <td>2019-03-14</td>\n",
       "    </tr>\n",
       "    <tr>\n",
       "      <th>2</th>\n",
       "      <td>63</td>\n",
       "      <td>2022-06-30T07:58:46.769609+00:00</td>\n",
       "      <td>None</td>\n",
       "      <td>POLYGON ((456201.531 98685.274, 456199.109 986...</td>\n",
       "      <td>2304287</td>\n",
       "      <td>1300</td>\n",
       "      <td>2019-02-25</td>\n",
       "    </tr>\n",
       "    <tr>\n",
       "      <th>3</th>\n",
       "      <td>86</td>\n",
       "      <td>2022-06-30T07:58:46.769609+00:00</td>\n",
       "      <td>None</td>\n",
       "      <td>POLYGON ((454709.766 97354.278, 454704.878 973...</td>\n",
       "      <td>2331038</td>\n",
       "      <td>1300</td>\n",
       "      <td>2019-01-05</td>\n",
       "    </tr>\n",
       "    <tr>\n",
       "      <th>4</th>\n",
       "      <td>87</td>\n",
       "      <td>2022-06-30T07:58:46.769609+00:00</td>\n",
       "      <td>None</td>\n",
       "      <td>POLYGON ((453820.737 98574.017, 453816.740 985...</td>\n",
       "      <td>2357574</td>\n",
       "      <td>1300</td>\n",
       "      <td>2019-01-16</td>\n",
       "    </tr>\n",
       "    <tr>\n",
       "      <th>...</th>\n",
       "      <td>...</td>\n",
       "      <td>...</td>\n",
       "      <td>...</td>\n",
       "      <td>...</td>\n",
       "      <td>...</td>\n",
       "      <td>...</td>\n",
       "      <td>...</td>\n",
       "    </tr>\n",
       "    <tr>\n",
       "      <th>1785</th>\n",
       "      <td>19593</td>\n",
       "      <td>2022-06-30T10:02:11.720983+00:00</td>\n",
       "      <td>None</td>\n",
       "      <td>POLYGON ((458247.583 99746.065, 458245.202 997...</td>\n",
       "      <td>6268059</td>\n",
       "      <td>1300</td>\n",
       "      <td>2019-03-04</td>\n",
       "    </tr>\n",
       "    <tr>\n",
       "      <th>1786</th>\n",
       "      <td>19594</td>\n",
       "      <td>2022-06-30T10:02:11.720983+00:00</td>\n",
       "      <td>None</td>\n",
       "      <td>POLYGON ((461932.283 90520.703, 461931.619 905...</td>\n",
       "      <td>6263561</td>\n",
       "      <td>1300</td>\n",
       "      <td>2019-04-01</td>\n",
       "    </tr>\n",
       "    <tr>\n",
       "      <th>1787</th>\n",
       "      <td>19625</td>\n",
       "      <td>2022-06-30T10:02:11.720983+00:00</td>\n",
       "      <td>None</td>\n",
       "      <td>POLYGON ((457231.170 90902.256, 457234.861 909...</td>\n",
       "      <td>6264862</td>\n",
       "      <td>1300</td>\n",
       "      <td>2019-01-05</td>\n",
       "    </tr>\n",
       "    <tr>\n",
       "      <th>1788</th>\n",
       "      <td>19626</td>\n",
       "      <td>2022-06-30T10:02:11.720983+00:00</td>\n",
       "      <td>None</td>\n",
       "      <td>POLYGON ((461378.845 91124.318, 461490.224 911...</td>\n",
       "      <td>6264865</td>\n",
       "      <td>1300</td>\n",
       "      <td>2019-02-21</td>\n",
       "    </tr>\n",
       "    <tr>\n",
       "      <th>1789</th>\n",
       "      <td>19648</td>\n",
       "      <td>2022-06-30T10:02:11.720983+00:00</td>\n",
       "      <td>None</td>\n",
       "      <td>POLYGON ((457450.306 97213.244, 457490.521 972...</td>\n",
       "      <td>6263915</td>\n",
       "      <td>1300</td>\n",
       "      <td>2019-01-05</td>\n",
       "    </tr>\n",
       "  </tbody>\n",
       "</table>\n",
       "<p>1790 rows × 7 columns</p>\n",
       "</div>"
      ],
      "text/plain": [
       "         id                        created_at modified_at  \\\n",
       "0         2  2022-06-30T07:58:46.769609+00:00        None   \n",
       "1        10  2022-06-30T07:58:46.769609+00:00        None   \n",
       "2        63  2022-06-30T07:58:46.769609+00:00        None   \n",
       "3        86  2022-06-30T07:58:46.769609+00:00        None   \n",
       "4        87  2022-06-30T07:58:46.769609+00:00        None   \n",
       "...     ...                               ...         ...   \n",
       "1785  19593  2022-06-30T10:02:11.720983+00:00        None   \n",
       "1786  19594  2022-06-30T10:02:11.720983+00:00        None   \n",
       "1787  19625  2022-06-30T10:02:11.720983+00:00        None   \n",
       "1788  19626  2022-06-30T10:02:11.720983+00:00        None   \n",
       "1789  19648  2022-06-30T10:02:11.720983+00:00        None   \n",
       "\n",
       "                                               geometry  raba_pid  raba_id  \\\n",
       "0     POLYGON ((453810.376 91150.199, 453812.552 911...   4770325     1300   \n",
       "1     POLYGON ((456547.427 91543.640, 456544.255 915...   2318555     1300   \n",
       "2     POLYGON ((456201.531 98685.274, 456199.109 986...   2304287     1300   \n",
       "3     POLYGON ((454709.766 97354.278, 454704.878 973...   2331038     1300   \n",
       "4     POLYGON ((453820.737 98574.017, 453816.740 985...   2357574     1300   \n",
       "...                                                 ...       ...      ...   \n",
       "1785  POLYGON ((458247.583 99746.065, 458245.202 997...   6268059     1300   \n",
       "1786  POLYGON ((461932.283 90520.703, 461931.619 905...   6263561     1300   \n",
       "1787  POLYGON ((457231.170 90902.256, 457234.861 909...   6264862     1300   \n",
       "1788  POLYGON ((461378.845 91124.318, 461490.224 911...   6264865     1300   \n",
       "1789  POLYGON ((457450.306 97213.244, 457490.521 972...   6263915     1300   \n",
       "\n",
       "            d_od  \n",
       "0     2019-03-26  \n",
       "1     2019-03-14  \n",
       "2     2019-02-25  \n",
       "3     2019-01-05  \n",
       "4     2019-01-16  \n",
       "...          ...  \n",
       "1785  2019-03-04  \n",
       "1786  2019-04-01  \n",
       "1787  2019-01-05  \n",
       "1788  2019-02-21  \n",
       "1789  2019-01-05  \n",
       "\n",
       "[1790 rows x 7 columns]"
      ]
     },
     "execution_count": 14,
     "metadata": {},
     "output_type": "execute_result"
    }
   ],
   "source": [
    "geodb.get_collection('land_use', query=\"raba_id=eq.1300\")"
   ]
  },
  {
   "cell_type": "code",
   "execution_count": 15,
   "id": "8cfc5ba7",
   "metadata": {
    "execution": {
     "iopub.execute_input": "2022-06-30T10:02:13.555165Z",
     "iopub.status.busy": "2022-06-30T10:02:13.554651Z",
     "iopub.status.idle": "2022-06-30T10:02:13.953521Z",
     "shell.execute_reply": "2022-06-30T10:02:13.952470Z"
    },
    "papermill": {
     "duration": 0.41896,
     "end_time": "2022-06-30T10:02:13.962399",
     "exception": false,
     "start_time": "2022-06-30T10:02:13.543439",
     "status": "completed"
    },
    "tags": []
   },
   "outputs": [
    {
     "data": {
      "application/json": {
       "Message": "land_use updated"
      },
      "text/plain": [
       "<xcube_geodb.core.message.Message at 0x7fcb92f76100>"
      ]
     },
     "execution_count": 15,
     "metadata": {},
     "output_type": "execute_result"
    }
   ],
   "source": [
    "geodb.update_collection('land_use', query=\"raba_id=eq.1300\", values={'d_od': '2000-01-01'})"
   ]
  },
  {
   "cell_type": "code",
   "execution_count": 16,
   "id": "b32cc2e6",
   "metadata": {
    "execution": {
     "iopub.execute_input": "2022-06-30T10:02:14.012686Z",
     "iopub.status.busy": "2022-06-30T10:02:14.012340Z",
     "iopub.status.idle": "2022-06-30T10:02:14.544387Z",
     "shell.execute_reply": "2022-06-30T10:02:14.540973Z"
    },
    "papermill": {
     "duration": 0.575611,
     "end_time": "2022-06-30T10:02:14.548914",
     "exception": false,
     "start_time": "2022-06-30T10:02:13.973303",
     "status": "completed"
    },
    "tags": []
   },
   "outputs": [
    {
     "data": {
      "text/html": [
       "<div>\n",
       "<style scoped>\n",
       "    .dataframe tbody tr th:only-of-type {\n",
       "        vertical-align: middle;\n",
       "    }\n",
       "\n",
       "    .dataframe tbody tr th {\n",
       "        vertical-align: top;\n",
       "    }\n",
       "\n",
       "    .dataframe thead th {\n",
       "        text-align: right;\n",
       "    }\n",
       "</style>\n",
       "<table border=\"1\" class=\"dataframe\">\n",
       "  <thead>\n",
       "    <tr style=\"text-align: right;\">\n",
       "      <th></th>\n",
       "      <th>id</th>\n",
       "      <th>created_at</th>\n",
       "      <th>modified_at</th>\n",
       "      <th>geometry</th>\n",
       "      <th>raba_pid</th>\n",
       "      <th>raba_id</th>\n",
       "      <th>d_od</th>\n",
       "    </tr>\n",
       "  </thead>\n",
       "  <tbody>\n",
       "    <tr>\n",
       "      <th>0</th>\n",
       "      <td>10</td>\n",
       "      <td>2022-06-30T07:58:46.769609+00:00</td>\n",
       "      <td>2022-06-30T10:02:13.74007+00:00</td>\n",
       "      <td>POLYGON ((456547.427 91543.640, 456544.255 915...</td>\n",
       "      <td>2318555</td>\n",
       "      <td>1300</td>\n",
       "      <td>2000-01-01</td>\n",
       "    </tr>\n",
       "    <tr>\n",
       "      <th>1</th>\n",
       "      <td>103</td>\n",
       "      <td>2022-06-30T07:58:46.769609+00:00</td>\n",
       "      <td>2022-06-30T10:02:13.74007+00:00</td>\n",
       "      <td>POLYGON ((456100.880 96973.323, 456111.084 969...</td>\n",
       "      <td>2332420</td>\n",
       "      <td>1300</td>\n",
       "      <td>2000-01-01</td>\n",
       "    </tr>\n",
       "    <tr>\n",
       "      <th>2</th>\n",
       "      <td>108</td>\n",
       "      <td>2022-06-30T07:58:46.769609+00:00</td>\n",
       "      <td>2022-06-30T10:02:13.74007+00:00</td>\n",
       "      <td>POLYGON ((454070.991 90528.946, 454064.259 905...</td>\n",
       "      <td>4674624</td>\n",
       "      <td>1300</td>\n",
       "      <td>2000-01-01</td>\n",
       "    </tr>\n",
       "    <tr>\n",
       "      <th>3</th>\n",
       "      <td>117</td>\n",
       "      <td>2022-06-30T07:58:46.769609+00:00</td>\n",
       "      <td>2022-06-30T10:02:13.74007+00:00</td>\n",
       "      <td>POLYGON ((454637.692 96679.827, 454630.584 966...</td>\n",
       "      <td>2336101</td>\n",
       "      <td>1300</td>\n",
       "      <td>2000-01-01</td>\n",
       "    </tr>\n",
       "    <tr>\n",
       "      <th>4</th>\n",
       "      <td>136</td>\n",
       "      <td>2022-06-30T07:58:46.769609+00:00</td>\n",
       "      <td>2022-06-30T10:02:13.74007+00:00</td>\n",
       "      <td>POLYGON ((462781.112 100486.430, 462803.178 10...</td>\n",
       "      <td>2334416</td>\n",
       "      <td>1300</td>\n",
       "      <td>2000-01-01</td>\n",
       "    </tr>\n",
       "    <tr>\n",
       "      <th>...</th>\n",
       "      <td>...</td>\n",
       "      <td>...</td>\n",
       "      <td>...</td>\n",
       "      <td>...</td>\n",
       "      <td>...</td>\n",
       "      <td>...</td>\n",
       "      <td>...</td>\n",
       "    </tr>\n",
       "    <tr>\n",
       "      <th>1785</th>\n",
       "      <td>19480</td>\n",
       "      <td>2022-06-30T10:02:11.720983+00:00</td>\n",
       "      <td>2022-06-30T10:02:13.74007+00:00</td>\n",
       "      <td>POLYGON ((453916.368 91001.124, 453918.965 910...</td>\n",
       "      <td>6218068</td>\n",
       "      <td>1300</td>\n",
       "      <td>2000-01-01</td>\n",
       "    </tr>\n",
       "    <tr>\n",
       "      <th>1786</th>\n",
       "      <td>19482</td>\n",
       "      <td>2022-06-30T10:02:11.720983+00:00</td>\n",
       "      <td>2022-06-30T10:02:13.74007+00:00</td>\n",
       "      <td>POLYGON ((453868.385 91018.094, 453851.514 910...</td>\n",
       "      <td>6218069</td>\n",
       "      <td>1300</td>\n",
       "      <td>2000-01-01</td>\n",
       "    </tr>\n",
       "    <tr>\n",
       "      <th>1787</th>\n",
       "      <td>19570</td>\n",
       "      <td>2022-06-30T10:02:11.720983+00:00</td>\n",
       "      <td>2022-06-30T10:02:13.74007+00:00</td>\n",
       "      <td>POLYGON ((461750.000 91058.602, 461750.000 910...</td>\n",
       "      <td>6262132</td>\n",
       "      <td>1300</td>\n",
       "      <td>2000-01-01</td>\n",
       "    </tr>\n",
       "    <tr>\n",
       "      <th>1788</th>\n",
       "      <td>19571</td>\n",
       "      <td>2022-06-30T10:02:11.720983+00:00</td>\n",
       "      <td>2022-06-30T10:02:13.74007+00:00</td>\n",
       "      <td>POLYGON ((461750.000 91333.460, 461750.000 913...</td>\n",
       "      <td>6262135</td>\n",
       "      <td>1300</td>\n",
       "      <td>2000-01-01</td>\n",
       "    </tr>\n",
       "    <tr>\n",
       "      <th>1789</th>\n",
       "      <td>19592</td>\n",
       "      <td>2022-06-30T10:02:11.720983+00:00</td>\n",
       "      <td>2022-06-30T10:02:13.74007+00:00</td>\n",
       "      <td>POLYGON ((458304.555 100146.103, 458306.726 10...</td>\n",
       "      <td>6268058</td>\n",
       "      <td>1300</td>\n",
       "      <td>2000-01-01</td>\n",
       "    </tr>\n",
       "  </tbody>\n",
       "</table>\n",
       "<p>1790 rows × 7 columns</p>\n",
       "</div>"
      ],
      "text/plain": [
       "         id                        created_at  \\\n",
       "0        10  2022-06-30T07:58:46.769609+00:00   \n",
       "1       103  2022-06-30T07:58:46.769609+00:00   \n",
       "2       108  2022-06-30T07:58:46.769609+00:00   \n",
       "3       117  2022-06-30T07:58:46.769609+00:00   \n",
       "4       136  2022-06-30T07:58:46.769609+00:00   \n",
       "...     ...                               ...   \n",
       "1785  19480  2022-06-30T10:02:11.720983+00:00   \n",
       "1786  19482  2022-06-30T10:02:11.720983+00:00   \n",
       "1787  19570  2022-06-30T10:02:11.720983+00:00   \n",
       "1788  19571  2022-06-30T10:02:11.720983+00:00   \n",
       "1789  19592  2022-06-30T10:02:11.720983+00:00   \n",
       "\n",
       "                          modified_at  \\\n",
       "0     2022-06-30T10:02:13.74007+00:00   \n",
       "1     2022-06-30T10:02:13.74007+00:00   \n",
       "2     2022-06-30T10:02:13.74007+00:00   \n",
       "3     2022-06-30T10:02:13.74007+00:00   \n",
       "4     2022-06-30T10:02:13.74007+00:00   \n",
       "...                               ...   \n",
       "1785  2022-06-30T10:02:13.74007+00:00   \n",
       "1786  2022-06-30T10:02:13.74007+00:00   \n",
       "1787  2022-06-30T10:02:13.74007+00:00   \n",
       "1788  2022-06-30T10:02:13.74007+00:00   \n",
       "1789  2022-06-30T10:02:13.74007+00:00   \n",
       "\n",
       "                                               geometry  raba_pid  raba_id  \\\n",
       "0     POLYGON ((456547.427 91543.640, 456544.255 915...   2318555     1300   \n",
       "1     POLYGON ((456100.880 96973.323, 456111.084 969...   2332420     1300   \n",
       "2     POLYGON ((454070.991 90528.946, 454064.259 905...   4674624     1300   \n",
       "3     POLYGON ((454637.692 96679.827, 454630.584 966...   2336101     1300   \n",
       "4     POLYGON ((462781.112 100486.430, 462803.178 10...   2334416     1300   \n",
       "...                                                 ...       ...      ...   \n",
       "1785  POLYGON ((453916.368 91001.124, 453918.965 910...   6218068     1300   \n",
       "1786  POLYGON ((453868.385 91018.094, 453851.514 910...   6218069     1300   \n",
       "1787  POLYGON ((461750.000 91058.602, 461750.000 910...   6262132     1300   \n",
       "1788  POLYGON ((461750.000 91333.460, 461750.000 913...   6262135     1300   \n",
       "1789  POLYGON ((458304.555 100146.103, 458306.726 10...   6268058     1300   \n",
       "\n",
       "            d_od  \n",
       "0     2000-01-01  \n",
       "1     2000-01-01  \n",
       "2     2000-01-01  \n",
       "3     2000-01-01  \n",
       "4     2000-01-01  \n",
       "...          ...  \n",
       "1785  2000-01-01  \n",
       "1786  2000-01-01  \n",
       "1787  2000-01-01  \n",
       "1788  2000-01-01  \n",
       "1789  2000-01-01  \n",
       "\n",
       "[1790 rows x 7 columns]"
      ]
     },
     "execution_count": 16,
     "metadata": {},
     "output_type": "execute_result"
    }
   ],
   "source": [
    "geodb.get_collection('land_use', query=\"raba_id=eq.1300\")"
   ]
  },
  {
   "cell_type": "markdown",
   "id": "3a0f67d3",
   "metadata": {
    "papermill": {
     "duration": 0.016981,
     "end_time": "2022-06-30T10:02:14.573230",
     "exception": false,
     "start_time": "2022-06-30T10:02:14.556249",
     "status": "completed"
    },
    "tags": []
   },
   "source": [
    "### Managing Properties of a Collection"
   ]
  },
  {
   "cell_type": "code",
   "execution_count": 17,
   "id": "c864fbd2",
   "metadata": {
    "execution": {
     "iopub.execute_input": "2022-06-30T10:02:14.622942Z",
     "iopub.status.busy": "2022-06-30T10:02:14.622610Z",
     "iopub.status.idle": "2022-06-30T10:02:14.818382Z",
     "shell.execute_reply": "2022-06-30T10:02:14.817247Z"
    },
    "papermill": {
     "duration": 0.22302,
     "end_time": "2022-06-30T10:02:14.821811",
     "exception": false,
     "start_time": "2022-06-30T10:02:14.598791",
     "status": "completed"
    },
    "tags": []
   },
   "outputs": [
    {
     "data": {
      "text/html": [
       "<div>\n",
       "<style scoped>\n",
       "    .dataframe tbody tr th:only-of-type {\n",
       "        vertical-align: middle;\n",
       "    }\n",
       "\n",
       "    .dataframe tbody tr th {\n",
       "        vertical-align: top;\n",
       "    }\n",
       "\n",
       "    .dataframe thead th {\n",
       "        text-align: right;\n",
       "    }\n",
       "</style>\n",
       "<table border=\"1\" class=\"dataframe\">\n",
       "  <thead>\n",
       "    <tr style=\"text-align: right;\">\n",
       "      <th></th>\n",
       "      <th>owner</th>\n",
       "      <th>database</th>\n",
       "      <th>collection</th>\n",
       "      <th>table_name</th>\n",
       "    </tr>\n",
       "  </thead>\n",
       "  <tbody>\n",
       "    <tr>\n",
       "      <th>0</th>\n",
       "      <td>geodb_0b01bfcd-2d09-46f8-84e8-cb5720fba14c</td>\n",
       "      <td>geodb_0b01bfcd-2d09-46f8-84e8-cb5720fba14c</td>\n",
       "      <td>delineated_parcels_s</td>\n",
       "      <td>delineated_parcels_s</td>\n",
       "    </tr>\n",
       "    <tr>\n",
       "      <th>1</th>\n",
       "      <td>geodb_0b01bfcd-2d09-46f8-84e8-cb5720fba14c</td>\n",
       "      <td>geodb_0b01bfcd-2d09-46f8-84e8-cb5720fba14c</td>\n",
       "      <td>test_batic</td>\n",
       "      <td>test_batic</td>\n",
       "    </tr>\n",
       "    <tr>\n",
       "      <th>2</th>\n",
       "      <td>geodb_0d6df427-8c09-41b9-abc9-64ce13a68125</td>\n",
       "      <td>geodb_0d6df427-8c09-41b9-abc9-64ce13a68125</td>\n",
       "      <td>land_use</td>\n",
       "      <td>land_use</td>\n",
       "    </tr>\n",
       "    <tr>\n",
       "      <th>3</th>\n",
       "      <td>geodb_0d6df427-8c09-41b9-abc9-64ce13a68125</td>\n",
       "      <td>geodb_0d6df427-8c09-41b9-abc9-64ce13a68125</td>\n",
       "      <td>lpis_aut</td>\n",
       "      <td>lpis_aut</td>\n",
       "    </tr>\n",
       "    <tr>\n",
       "      <th>4</th>\n",
       "      <td>geodb_0e5d743f-2134-4561-8946-a073b039176f</td>\n",
       "      <td>geodb_0e5d743f-2134-4561-8946-a073b039176f</td>\n",
       "      <td>ai4eo_bboxes</td>\n",
       "      <td>ai4eo_bboxes</td>\n",
       "    </tr>\n",
       "    <tr>\n",
       "      <th>...</th>\n",
       "      <td>...</td>\n",
       "      <td>...</td>\n",
       "      <td>...</td>\n",
       "      <td>...</td>\n",
       "    </tr>\n",
       "    <tr>\n",
       "      <th>891</th>\n",
       "      <td>geodb_geodb_ci</td>\n",
       "      <td>geodb_geodb_ci</td>\n",
       "      <td>land_use</td>\n",
       "      <td>land_use</td>\n",
       "    </tr>\n",
       "    <tr>\n",
       "      <th>892</th>\n",
       "      <td>geodb_lpis_iacs_admin</td>\n",
       "      <td>lpis_iacs</td>\n",
       "      <td>land_use_slo</td>\n",
       "      <td>land_use_slo</td>\n",
       "    </tr>\n",
       "    <tr>\n",
       "      <th>893</th>\n",
       "      <td>geodb_lpis_iacs_admin</td>\n",
       "      <td>lpis_iacs</td>\n",
       "      <td>lpis_aut</td>\n",
       "      <td>lpis_aut</td>\n",
       "    </tr>\n",
       "    <tr>\n",
       "      <th>894</th>\n",
       "      <td>geodb_lpis_iacs_admin</td>\n",
       "      <td>lpis_iacs</td>\n",
       "      <td>lpis_slo</td>\n",
       "      <td>lpis_slo</td>\n",
       "    </tr>\n",
       "    <tr>\n",
       "      <th>895</th>\n",
       "      <td>geodb_lpis_iacs_admin</td>\n",
       "      <td>lpis_iacs</td>\n",
       "      <td>metadata</td>\n",
       "      <td>metadata</td>\n",
       "    </tr>\n",
       "  </tbody>\n",
       "</table>\n",
       "<p>896 rows × 4 columns</p>\n",
       "</div>"
      ],
      "text/plain": [
       "                                          owner  \\\n",
       "0    geodb_0b01bfcd-2d09-46f8-84e8-cb5720fba14c   \n",
       "1    geodb_0b01bfcd-2d09-46f8-84e8-cb5720fba14c   \n",
       "2    geodb_0d6df427-8c09-41b9-abc9-64ce13a68125   \n",
       "3    geodb_0d6df427-8c09-41b9-abc9-64ce13a68125   \n",
       "4    geodb_0e5d743f-2134-4561-8946-a073b039176f   \n",
       "..                                          ...   \n",
       "891                              geodb_geodb_ci   \n",
       "892                       geodb_lpis_iacs_admin   \n",
       "893                       geodb_lpis_iacs_admin   \n",
       "894                       geodb_lpis_iacs_admin   \n",
       "895                       geodb_lpis_iacs_admin   \n",
       "\n",
       "                                       database            collection  \\\n",
       "0    geodb_0b01bfcd-2d09-46f8-84e8-cb5720fba14c  delineated_parcels_s   \n",
       "1    geodb_0b01bfcd-2d09-46f8-84e8-cb5720fba14c            test_batic   \n",
       "2    geodb_0d6df427-8c09-41b9-abc9-64ce13a68125              land_use   \n",
       "3    geodb_0d6df427-8c09-41b9-abc9-64ce13a68125              lpis_aut   \n",
       "4    geodb_0e5d743f-2134-4561-8946-a073b039176f          ai4eo_bboxes   \n",
       "..                                          ...                   ...   \n",
       "891                              geodb_geodb_ci              land_use   \n",
       "892                                   lpis_iacs          land_use_slo   \n",
       "893                                   lpis_iacs              lpis_aut   \n",
       "894                                   lpis_iacs              lpis_slo   \n",
       "895                                   lpis_iacs              metadata   \n",
       "\n",
       "               table_name  \n",
       "0    delineated_parcels_s  \n",
       "1              test_batic  \n",
       "2                land_use  \n",
       "3                lpis_aut  \n",
       "4            ai4eo_bboxes  \n",
       "..                    ...  \n",
       "891              land_use  \n",
       "892          land_use_slo  \n",
       "893              lpis_aut  \n",
       "894              lpis_slo  \n",
       "895              metadata  \n",
       "\n",
       "[896 rows x 4 columns]"
      ]
     },
     "execution_count": 17,
     "metadata": {},
     "output_type": "execute_result"
    }
   ],
   "source": [
    "geodb.get_my_collections()"
   ]
  },
  {
   "cell_type": "code",
   "execution_count": 18,
   "id": "8d33a09b",
   "metadata": {
    "execution": {
     "iopub.execute_input": "2022-06-30T10:02:14.848721Z",
     "iopub.status.busy": "2022-06-30T10:02:14.846943Z",
     "iopub.status.idle": "2022-06-30T10:02:14.974987Z",
     "shell.execute_reply": "2022-06-30T10:02:14.969123Z"
    },
    "papermill": {
     "duration": 0.159065,
     "end_time": "2022-06-30T10:02:14.993351",
     "exception": false,
     "start_time": "2022-06-30T10:02:14.834286",
     "status": "completed"
    },
    "tags": []
   },
   "outputs": [
    {
     "data": {
      "text/html": [
       "<div>\n",
       "<style scoped>\n",
       "    .dataframe tbody tr th:only-of-type {\n",
       "        vertical-align: middle;\n",
       "    }\n",
       "\n",
       "    .dataframe tbody tr th {\n",
       "        vertical-align: top;\n",
       "    }\n",
       "\n",
       "    .dataframe thead th {\n",
       "        text-align: right;\n",
       "    }\n",
       "</style>\n",
       "<table border=\"1\" class=\"dataframe\">\n",
       "  <thead>\n",
       "    <tr style=\"text-align: right;\">\n",
       "      <th></th>\n",
       "      <th>database</th>\n",
       "      <th>collection</th>\n",
       "      <th>column_name</th>\n",
       "      <th>data_type</th>\n",
       "    </tr>\n",
       "  </thead>\n",
       "  <tbody>\n",
       "    <tr>\n",
       "      <th>0</th>\n",
       "      <td>geodb_418dfeac-15f0-4606-9edb-fd9eb722bf04</td>\n",
       "      <td>land_use</td>\n",
       "      <td>id</td>\n",
       "      <td>integer</td>\n",
       "    </tr>\n",
       "    <tr>\n",
       "      <th>1</th>\n",
       "      <td>geodb_418dfeac-15f0-4606-9edb-fd9eb722bf04</td>\n",
       "      <td>land_use</td>\n",
       "      <td>created_at</td>\n",
       "      <td>timestamp with time zone</td>\n",
       "    </tr>\n",
       "    <tr>\n",
       "      <th>2</th>\n",
       "      <td>geodb_418dfeac-15f0-4606-9edb-fd9eb722bf04</td>\n",
       "      <td>land_use</td>\n",
       "      <td>modified_at</td>\n",
       "      <td>timestamp with time zone</td>\n",
       "    </tr>\n",
       "    <tr>\n",
       "      <th>3</th>\n",
       "      <td>geodb_418dfeac-15f0-4606-9edb-fd9eb722bf04</td>\n",
       "      <td>land_use</td>\n",
       "      <td>raba_pid</td>\n",
       "      <td>double precision</td>\n",
       "    </tr>\n",
       "    <tr>\n",
       "      <th>4</th>\n",
       "      <td>geodb_418dfeac-15f0-4606-9edb-fd9eb722bf04</td>\n",
       "      <td>land_use</td>\n",
       "      <td>raba_id</td>\n",
       "      <td>double precision</td>\n",
       "    </tr>\n",
       "    <tr>\n",
       "      <th>5</th>\n",
       "      <td>geodb_418dfeac-15f0-4606-9edb-fd9eb722bf04</td>\n",
       "      <td>land_use</td>\n",
       "      <td>d_od</td>\n",
       "      <td>date</td>\n",
       "    </tr>\n",
       "    <tr>\n",
       "      <th>6</th>\n",
       "      <td>geodb_418dfeac-15f0-4606-9edb-fd9eb722bf04</td>\n",
       "      <td>land_use</td>\n",
       "      <td>geometry</td>\n",
       "      <td>USER-DEFINED</td>\n",
       "    </tr>\n",
       "  </tbody>\n",
       "</table>\n",
       "</div>"
      ],
      "text/plain": [
       "                                     database collection  column_name  \\\n",
       "0  geodb_418dfeac-15f0-4606-9edb-fd9eb722bf04   land_use           id   \n",
       "1  geodb_418dfeac-15f0-4606-9edb-fd9eb722bf04   land_use   created_at   \n",
       "2  geodb_418dfeac-15f0-4606-9edb-fd9eb722bf04   land_use  modified_at   \n",
       "3  geodb_418dfeac-15f0-4606-9edb-fd9eb722bf04   land_use     raba_pid   \n",
       "4  geodb_418dfeac-15f0-4606-9edb-fd9eb722bf04   land_use      raba_id   \n",
       "5  geodb_418dfeac-15f0-4606-9edb-fd9eb722bf04   land_use         d_od   \n",
       "6  geodb_418dfeac-15f0-4606-9edb-fd9eb722bf04   land_use     geometry   \n",
       "\n",
       "                  data_type  \n",
       "0                   integer  \n",
       "1  timestamp with time zone  \n",
       "2  timestamp with time zone  \n",
       "3          double precision  \n",
       "4          double precision  \n",
       "5                      date  \n",
       "6              USER-DEFINED  "
      ]
     },
     "execution_count": 18,
     "metadata": {},
     "output_type": "execute_result"
    }
   ],
   "source": [
    "geodb.get_properties('land_use')"
   ]
  },
  {
   "cell_type": "code",
   "execution_count": 19,
   "id": "41bf8173",
   "metadata": {
    "execution": {
     "iopub.execute_input": "2022-06-30T10:02:15.027676Z",
     "iopub.status.busy": "2022-06-30T10:02:15.027064Z",
     "iopub.status.idle": "2022-06-30T10:02:15.147290Z",
     "shell.execute_reply": "2022-06-30T10:02:15.145033Z"
    },
    "papermill": {
     "duration": 0.134561,
     "end_time": "2022-06-30T10:02:15.150595",
     "exception": false,
     "start_time": "2022-06-30T10:02:15.016034",
     "status": "completed"
    },
    "tags": []
   },
   "outputs": [
    {
     "data": {
      "application/json": {
       "Message": "Properties added"
      },
      "text/plain": [
       "<xcube_geodb.core.message.Message at 0x7fcb8c6811c0>"
      ]
     },
     "execution_count": 19,
     "metadata": {},
     "output_type": "execute_result"
    }
   ],
   "source": [
    "geodb.add_property('land_use', \"test_prop\", 'integer')"
   ]
  },
  {
   "cell_type": "code",
   "execution_count": 20,
   "id": "f95a80bc",
   "metadata": {
    "execution": {
     "iopub.execute_input": "2022-06-30T10:02:15.216908Z",
     "iopub.status.busy": "2022-06-30T10:02:15.216560Z",
     "iopub.status.idle": "2022-06-30T10:02:15.334854Z",
     "shell.execute_reply": "2022-06-30T10:02:15.333866Z"
    },
    "papermill": {
     "duration": 0.171829,
     "end_time": "2022-06-30T10:02:15.341583",
     "exception": false,
     "start_time": "2022-06-30T10:02:15.169754",
     "status": "completed"
    },
    "tags": []
   },
   "outputs": [
    {
     "data": {
      "text/html": [
       "<div>\n",
       "<style scoped>\n",
       "    .dataframe tbody tr th:only-of-type {\n",
       "        vertical-align: middle;\n",
       "    }\n",
       "\n",
       "    .dataframe tbody tr th {\n",
       "        vertical-align: top;\n",
       "    }\n",
       "\n",
       "    .dataframe thead th {\n",
       "        text-align: right;\n",
       "    }\n",
       "</style>\n",
       "<table border=\"1\" class=\"dataframe\">\n",
       "  <thead>\n",
       "    <tr style=\"text-align: right;\">\n",
       "      <th></th>\n",
       "      <th>database</th>\n",
       "      <th>collection</th>\n",
       "      <th>column_name</th>\n",
       "      <th>data_type</th>\n",
       "    </tr>\n",
       "  </thead>\n",
       "  <tbody>\n",
       "    <tr>\n",
       "      <th>0</th>\n",
       "      <td>geodb_418dfeac-15f0-4606-9edb-fd9eb722bf04</td>\n",
       "      <td>land_use</td>\n",
       "      <td>id</td>\n",
       "      <td>integer</td>\n",
       "    </tr>\n",
       "    <tr>\n",
       "      <th>1</th>\n",
       "      <td>geodb_418dfeac-15f0-4606-9edb-fd9eb722bf04</td>\n",
       "      <td>land_use</td>\n",
       "      <td>created_at</td>\n",
       "      <td>timestamp with time zone</td>\n",
       "    </tr>\n",
       "    <tr>\n",
       "      <th>2</th>\n",
       "      <td>geodb_418dfeac-15f0-4606-9edb-fd9eb722bf04</td>\n",
       "      <td>land_use</td>\n",
       "      <td>modified_at</td>\n",
       "      <td>timestamp with time zone</td>\n",
       "    </tr>\n",
       "    <tr>\n",
       "      <th>3</th>\n",
       "      <td>geodb_418dfeac-15f0-4606-9edb-fd9eb722bf04</td>\n",
       "      <td>land_use</td>\n",
       "      <td>raba_pid</td>\n",
       "      <td>double precision</td>\n",
       "    </tr>\n",
       "    <tr>\n",
       "      <th>4</th>\n",
       "      <td>geodb_418dfeac-15f0-4606-9edb-fd9eb722bf04</td>\n",
       "      <td>land_use</td>\n",
       "      <td>raba_id</td>\n",
       "      <td>double precision</td>\n",
       "    </tr>\n",
       "    <tr>\n",
       "      <th>5</th>\n",
       "      <td>geodb_418dfeac-15f0-4606-9edb-fd9eb722bf04</td>\n",
       "      <td>land_use</td>\n",
       "      <td>d_od</td>\n",
       "      <td>date</td>\n",
       "    </tr>\n",
       "    <tr>\n",
       "      <th>6</th>\n",
       "      <td>geodb_418dfeac-15f0-4606-9edb-fd9eb722bf04</td>\n",
       "      <td>land_use</td>\n",
       "      <td>test_prop</td>\n",
       "      <td>integer</td>\n",
       "    </tr>\n",
       "    <tr>\n",
       "      <th>7</th>\n",
       "      <td>geodb_418dfeac-15f0-4606-9edb-fd9eb722bf04</td>\n",
       "      <td>land_use</td>\n",
       "      <td>geometry</td>\n",
       "      <td>USER-DEFINED</td>\n",
       "    </tr>\n",
       "  </tbody>\n",
       "</table>\n",
       "</div>"
      ],
      "text/plain": [
       "                                     database collection  column_name  \\\n",
       "0  geodb_418dfeac-15f0-4606-9edb-fd9eb722bf04   land_use           id   \n",
       "1  geodb_418dfeac-15f0-4606-9edb-fd9eb722bf04   land_use   created_at   \n",
       "2  geodb_418dfeac-15f0-4606-9edb-fd9eb722bf04   land_use  modified_at   \n",
       "3  geodb_418dfeac-15f0-4606-9edb-fd9eb722bf04   land_use     raba_pid   \n",
       "4  geodb_418dfeac-15f0-4606-9edb-fd9eb722bf04   land_use      raba_id   \n",
       "5  geodb_418dfeac-15f0-4606-9edb-fd9eb722bf04   land_use         d_od   \n",
       "6  geodb_418dfeac-15f0-4606-9edb-fd9eb722bf04   land_use    test_prop   \n",
       "7  geodb_418dfeac-15f0-4606-9edb-fd9eb722bf04   land_use     geometry   \n",
       "\n",
       "                  data_type  \n",
       "0                   integer  \n",
       "1  timestamp with time zone  \n",
       "2  timestamp with time zone  \n",
       "3          double precision  \n",
       "4          double precision  \n",
       "5                      date  \n",
       "6                   integer  \n",
       "7              USER-DEFINED  "
      ]
     },
     "execution_count": 20,
     "metadata": {},
     "output_type": "execute_result"
    }
   ],
   "source": [
    "geodb.get_properties('land_use')"
   ]
  },
  {
   "cell_type": "code",
   "execution_count": 21,
   "id": "489c6225",
   "metadata": {
    "execution": {
     "iopub.execute_input": "2022-06-30T10:02:15.368087Z",
     "iopub.status.busy": "2022-06-30T10:02:15.365532Z",
     "iopub.status.idle": "2022-06-30T10:02:18.367801Z",
     "shell.execute_reply": "2022-06-30T10:02:18.364156Z"
    },
    "papermill": {
     "duration": 3.015707,
     "end_time": "2022-06-30T10:02:18.370760",
     "exception": false,
     "start_time": "2022-06-30T10:02:15.355053",
     "status": "completed"
    },
    "tags": []
   },
   "outputs": [
    {
     "data": {
      "application/json": {
       "Message": "Properties ['test_prop'] dropped from geodb_418dfeac-15f0-4606-9edb-fd9eb722bf04_land_use"
      },
      "text/plain": [
       "<xcube_geodb.core.message.Message at 0x7fcb8c62a730>"
      ]
     },
     "execution_count": 21,
     "metadata": {},
     "output_type": "execute_result"
    }
   ],
   "source": [
    "geodb.drop_property('land_use', 'test_prop')"
   ]
  },
  {
   "cell_type": "code",
   "execution_count": 22,
   "id": "29ea7224",
   "metadata": {
    "execution": {
     "iopub.execute_input": "2022-06-30T10:02:18.397863Z",
     "iopub.status.busy": "2022-06-30T10:02:18.397358Z",
     "iopub.status.idle": "2022-06-30T10:02:18.498241Z",
     "shell.execute_reply": "2022-06-30T10:02:18.497518Z"
    },
    "papermill": {
     "duration": 0.133008,
     "end_time": "2022-06-30T10:02:18.515800",
     "exception": false,
     "start_time": "2022-06-30T10:02:18.382792",
     "status": "completed"
    },
    "tags": []
   },
   "outputs": [
    {
     "data": {
      "text/html": [
       "<div>\n",
       "<style scoped>\n",
       "    .dataframe tbody tr th:only-of-type {\n",
       "        vertical-align: middle;\n",
       "    }\n",
       "\n",
       "    .dataframe tbody tr th {\n",
       "        vertical-align: top;\n",
       "    }\n",
       "\n",
       "    .dataframe thead th {\n",
       "        text-align: right;\n",
       "    }\n",
       "</style>\n",
       "<table border=\"1\" class=\"dataframe\">\n",
       "  <thead>\n",
       "    <tr style=\"text-align: right;\">\n",
       "      <th></th>\n",
       "      <th>database</th>\n",
       "      <th>collection</th>\n",
       "      <th>column_name</th>\n",
       "      <th>data_type</th>\n",
       "    </tr>\n",
       "  </thead>\n",
       "  <tbody>\n",
       "    <tr>\n",
       "      <th>0</th>\n",
       "      <td>geodb_418dfeac-15f0-4606-9edb-fd9eb722bf04</td>\n",
       "      <td>land_use</td>\n",
       "      <td>id</td>\n",
       "      <td>integer</td>\n",
       "    </tr>\n",
       "    <tr>\n",
       "      <th>1</th>\n",
       "      <td>geodb_418dfeac-15f0-4606-9edb-fd9eb722bf04</td>\n",
       "      <td>land_use</td>\n",
       "      <td>created_at</td>\n",
       "      <td>timestamp with time zone</td>\n",
       "    </tr>\n",
       "    <tr>\n",
       "      <th>2</th>\n",
       "      <td>geodb_418dfeac-15f0-4606-9edb-fd9eb722bf04</td>\n",
       "      <td>land_use</td>\n",
       "      <td>modified_at</td>\n",
       "      <td>timestamp with time zone</td>\n",
       "    </tr>\n",
       "    <tr>\n",
       "      <th>3</th>\n",
       "      <td>geodb_418dfeac-15f0-4606-9edb-fd9eb722bf04</td>\n",
       "      <td>land_use</td>\n",
       "      <td>raba_pid</td>\n",
       "      <td>double precision</td>\n",
       "    </tr>\n",
       "    <tr>\n",
       "      <th>4</th>\n",
       "      <td>geodb_418dfeac-15f0-4606-9edb-fd9eb722bf04</td>\n",
       "      <td>land_use</td>\n",
       "      <td>raba_id</td>\n",
       "      <td>double precision</td>\n",
       "    </tr>\n",
       "    <tr>\n",
       "      <th>5</th>\n",
       "      <td>geodb_418dfeac-15f0-4606-9edb-fd9eb722bf04</td>\n",
       "      <td>land_use</td>\n",
       "      <td>d_od</td>\n",
       "      <td>date</td>\n",
       "    </tr>\n",
       "    <tr>\n",
       "      <th>6</th>\n",
       "      <td>geodb_418dfeac-15f0-4606-9edb-fd9eb722bf04</td>\n",
       "      <td>land_use</td>\n",
       "      <td>geometry</td>\n",
       "      <td>USER-DEFINED</td>\n",
       "    </tr>\n",
       "  </tbody>\n",
       "</table>\n",
       "</div>"
      ],
      "text/plain": [
       "                                     database collection  column_name  \\\n",
       "0  geodb_418dfeac-15f0-4606-9edb-fd9eb722bf04   land_use           id   \n",
       "1  geodb_418dfeac-15f0-4606-9edb-fd9eb722bf04   land_use   created_at   \n",
       "2  geodb_418dfeac-15f0-4606-9edb-fd9eb722bf04   land_use  modified_at   \n",
       "3  geodb_418dfeac-15f0-4606-9edb-fd9eb722bf04   land_use     raba_pid   \n",
       "4  geodb_418dfeac-15f0-4606-9edb-fd9eb722bf04   land_use      raba_id   \n",
       "5  geodb_418dfeac-15f0-4606-9edb-fd9eb722bf04   land_use         d_od   \n",
       "6  geodb_418dfeac-15f0-4606-9edb-fd9eb722bf04   land_use     geometry   \n",
       "\n",
       "                  data_type  \n",
       "0                   integer  \n",
       "1  timestamp with time zone  \n",
       "2  timestamp with time zone  \n",
       "3          double precision  \n",
       "4          double precision  \n",
       "5                      date  \n",
       "6              USER-DEFINED  "
      ]
     },
     "execution_count": 22,
     "metadata": {},
     "output_type": "execute_result"
    }
   ],
   "source": [
    "geodb.get_properties('land_use')"
   ]
  },
  {
   "cell_type": "code",
   "execution_count": 23,
   "id": "5ac6b44c",
   "metadata": {
    "execution": {
     "iopub.execute_input": "2022-06-30T10:02:18.561810Z",
     "iopub.status.busy": "2022-06-30T10:02:18.561251Z",
     "iopub.status.idle": "2022-06-30T10:02:18.655191Z",
     "shell.execute_reply": "2022-06-30T10:02:18.653760Z"
    },
    "papermill": {
     "duration": 0.120317,
     "end_time": "2022-06-30T10:02:18.657965",
     "exception": false,
     "start_time": "2022-06-30T10:02:18.537648",
     "status": "completed"
    },
    "tags": []
   },
   "outputs": [
    {
     "data": {
      "application/json": {
       "Message": "Properties added"
      },
      "text/plain": [
       "<xcube_geodb.core.message.Message at 0x7fcb8bf20be0>"
      ]
     },
     "execution_count": 23,
     "metadata": {},
     "output_type": "execute_result"
    }
   ],
   "source": [
    "geodb.add_properties('land_use', properties={'test1': 'integer', 'test2': 'date'})"
   ]
  },
  {
   "cell_type": "code",
   "execution_count": 24,
   "id": "ff58d13e",
   "metadata": {
    "execution": {
     "iopub.execute_input": "2022-06-30T10:02:18.706316Z",
     "iopub.status.busy": "2022-06-30T10:02:18.705949Z",
     "iopub.status.idle": "2022-06-30T10:02:18.818522Z",
     "shell.execute_reply": "2022-06-30T10:02:18.815528Z"
    },
    "papermill": {
     "duration": 0.154912,
     "end_time": "2022-06-30T10:02:18.821871",
     "exception": false,
     "start_time": "2022-06-30T10:02:18.666959",
     "status": "completed"
    },
    "tags": []
   },
   "outputs": [
    {
     "data": {
      "text/html": [
       "<div>\n",
       "<style scoped>\n",
       "    .dataframe tbody tr th:only-of-type {\n",
       "        vertical-align: middle;\n",
       "    }\n",
       "\n",
       "    .dataframe tbody tr th {\n",
       "        vertical-align: top;\n",
       "    }\n",
       "\n",
       "    .dataframe thead th {\n",
       "        text-align: right;\n",
       "    }\n",
       "</style>\n",
       "<table border=\"1\" class=\"dataframe\">\n",
       "  <thead>\n",
       "    <tr style=\"text-align: right;\">\n",
       "      <th></th>\n",
       "      <th>database</th>\n",
       "      <th>collection</th>\n",
       "      <th>column_name</th>\n",
       "      <th>data_type</th>\n",
       "    </tr>\n",
       "  </thead>\n",
       "  <tbody>\n",
       "    <tr>\n",
       "      <th>0</th>\n",
       "      <td>geodb_418dfeac-15f0-4606-9edb-fd9eb722bf04</td>\n",
       "      <td>land_use</td>\n",
       "      <td>id</td>\n",
       "      <td>integer</td>\n",
       "    </tr>\n",
       "    <tr>\n",
       "      <th>1</th>\n",
       "      <td>geodb_418dfeac-15f0-4606-9edb-fd9eb722bf04</td>\n",
       "      <td>land_use</td>\n",
       "      <td>created_at</td>\n",
       "      <td>timestamp with time zone</td>\n",
       "    </tr>\n",
       "    <tr>\n",
       "      <th>2</th>\n",
       "      <td>geodb_418dfeac-15f0-4606-9edb-fd9eb722bf04</td>\n",
       "      <td>land_use</td>\n",
       "      <td>modified_at</td>\n",
       "      <td>timestamp with time zone</td>\n",
       "    </tr>\n",
       "    <tr>\n",
       "      <th>3</th>\n",
       "      <td>geodb_418dfeac-15f0-4606-9edb-fd9eb722bf04</td>\n",
       "      <td>land_use</td>\n",
       "      <td>raba_pid</td>\n",
       "      <td>double precision</td>\n",
       "    </tr>\n",
       "    <tr>\n",
       "      <th>4</th>\n",
       "      <td>geodb_418dfeac-15f0-4606-9edb-fd9eb722bf04</td>\n",
       "      <td>land_use</td>\n",
       "      <td>raba_id</td>\n",
       "      <td>double precision</td>\n",
       "    </tr>\n",
       "    <tr>\n",
       "      <th>5</th>\n",
       "      <td>geodb_418dfeac-15f0-4606-9edb-fd9eb722bf04</td>\n",
       "      <td>land_use</td>\n",
       "      <td>d_od</td>\n",
       "      <td>date</td>\n",
       "    </tr>\n",
       "    <tr>\n",
       "      <th>6</th>\n",
       "      <td>geodb_418dfeac-15f0-4606-9edb-fd9eb722bf04</td>\n",
       "      <td>land_use</td>\n",
       "      <td>test1</td>\n",
       "      <td>integer</td>\n",
       "    </tr>\n",
       "    <tr>\n",
       "      <th>7</th>\n",
       "      <td>geodb_418dfeac-15f0-4606-9edb-fd9eb722bf04</td>\n",
       "      <td>land_use</td>\n",
       "      <td>test2</td>\n",
       "      <td>date</td>\n",
       "    </tr>\n",
       "    <tr>\n",
       "      <th>8</th>\n",
       "      <td>geodb_418dfeac-15f0-4606-9edb-fd9eb722bf04</td>\n",
       "      <td>land_use</td>\n",
       "      <td>geometry</td>\n",
       "      <td>USER-DEFINED</td>\n",
       "    </tr>\n",
       "  </tbody>\n",
       "</table>\n",
       "</div>"
      ],
      "text/plain": [
       "                                     database collection  column_name  \\\n",
       "0  geodb_418dfeac-15f0-4606-9edb-fd9eb722bf04   land_use           id   \n",
       "1  geodb_418dfeac-15f0-4606-9edb-fd9eb722bf04   land_use   created_at   \n",
       "2  geodb_418dfeac-15f0-4606-9edb-fd9eb722bf04   land_use  modified_at   \n",
       "3  geodb_418dfeac-15f0-4606-9edb-fd9eb722bf04   land_use     raba_pid   \n",
       "4  geodb_418dfeac-15f0-4606-9edb-fd9eb722bf04   land_use      raba_id   \n",
       "5  geodb_418dfeac-15f0-4606-9edb-fd9eb722bf04   land_use         d_od   \n",
       "6  geodb_418dfeac-15f0-4606-9edb-fd9eb722bf04   land_use        test1   \n",
       "7  geodb_418dfeac-15f0-4606-9edb-fd9eb722bf04   land_use        test2   \n",
       "8  geodb_418dfeac-15f0-4606-9edb-fd9eb722bf04   land_use     geometry   \n",
       "\n",
       "                  data_type  \n",
       "0                   integer  \n",
       "1  timestamp with time zone  \n",
       "2  timestamp with time zone  \n",
       "3          double precision  \n",
       "4          double precision  \n",
       "5                      date  \n",
       "6                   integer  \n",
       "7                      date  \n",
       "8              USER-DEFINED  "
      ]
     },
     "execution_count": 24,
     "metadata": {},
     "output_type": "execute_result"
    }
   ],
   "source": [
    "geodb.get_properties('land_use')"
   ]
  },
  {
   "cell_type": "code",
   "execution_count": 25,
   "id": "d78c16c0",
   "metadata": {
    "execution": {
     "iopub.execute_input": "2022-06-30T10:02:18.848097Z",
     "iopub.status.busy": "2022-06-30T10:02:18.847755Z",
     "iopub.status.idle": "2022-06-30T10:02:21.852271Z",
     "shell.execute_reply": "2022-06-30T10:02:21.848264Z"
    },
    "papermill": {
     "duration": 3.022837,
     "end_time": "2022-06-30T10:02:21.857963",
     "exception": false,
     "start_time": "2022-06-30T10:02:18.835126",
     "status": "completed"
    },
    "tags": []
   },
   "outputs": [
    {
     "data": {
      "application/json": {
       "Message": "Properties ['test1', 'test2'] dropped from geodb_418dfeac-15f0-4606-9edb-fd9eb722bf04_land_use"
      },
      "text/plain": [
       "<xcube_geodb.core.message.Message at 0x7fcb8c504b50>"
      ]
     },
     "execution_count": 25,
     "metadata": {},
     "output_type": "execute_result"
    }
   ],
   "source": [
    "geodb.drop_properties('land_use', properties=['test1', 'test2'])"
   ]
  },
  {
   "cell_type": "code",
   "execution_count": 26,
   "id": "f065e1cd",
   "metadata": {
    "execution": {
     "iopub.execute_input": "2022-06-30T10:02:21.893197Z",
     "iopub.status.busy": "2022-06-30T10:02:21.892822Z",
     "iopub.status.idle": "2022-06-30T10:02:21.986045Z",
     "shell.execute_reply": "2022-06-30T10:02:21.985044Z"
    },
    "papermill": {
     "duration": 0.115431,
     "end_time": "2022-06-30T10:02:21.990805",
     "exception": false,
     "start_time": "2022-06-30T10:02:21.875374",
     "status": "completed"
    },
    "tags": []
   },
   "outputs": [
    {
     "data": {
      "text/html": [
       "<div>\n",
       "<style scoped>\n",
       "    .dataframe tbody tr th:only-of-type {\n",
       "        vertical-align: middle;\n",
       "    }\n",
       "\n",
       "    .dataframe tbody tr th {\n",
       "        vertical-align: top;\n",
       "    }\n",
       "\n",
       "    .dataframe thead th {\n",
       "        text-align: right;\n",
       "    }\n",
       "</style>\n",
       "<table border=\"1\" class=\"dataframe\">\n",
       "  <thead>\n",
       "    <tr style=\"text-align: right;\">\n",
       "      <th></th>\n",
       "      <th>database</th>\n",
       "      <th>collection</th>\n",
       "      <th>column_name</th>\n",
       "      <th>data_type</th>\n",
       "    </tr>\n",
       "  </thead>\n",
       "  <tbody>\n",
       "    <tr>\n",
       "      <th>0</th>\n",
       "      <td>geodb_418dfeac-15f0-4606-9edb-fd9eb722bf04</td>\n",
       "      <td>land_use</td>\n",
       "      <td>id</td>\n",
       "      <td>integer</td>\n",
       "    </tr>\n",
       "    <tr>\n",
       "      <th>1</th>\n",
       "      <td>geodb_418dfeac-15f0-4606-9edb-fd9eb722bf04</td>\n",
       "      <td>land_use</td>\n",
       "      <td>created_at</td>\n",
       "      <td>timestamp with time zone</td>\n",
       "    </tr>\n",
       "    <tr>\n",
       "      <th>2</th>\n",
       "      <td>geodb_418dfeac-15f0-4606-9edb-fd9eb722bf04</td>\n",
       "      <td>land_use</td>\n",
       "      <td>modified_at</td>\n",
       "      <td>timestamp with time zone</td>\n",
       "    </tr>\n",
       "    <tr>\n",
       "      <th>3</th>\n",
       "      <td>geodb_418dfeac-15f0-4606-9edb-fd9eb722bf04</td>\n",
       "      <td>land_use</td>\n",
       "      <td>raba_pid</td>\n",
       "      <td>double precision</td>\n",
       "    </tr>\n",
       "    <tr>\n",
       "      <th>4</th>\n",
       "      <td>geodb_418dfeac-15f0-4606-9edb-fd9eb722bf04</td>\n",
       "      <td>land_use</td>\n",
       "      <td>raba_id</td>\n",
       "      <td>double precision</td>\n",
       "    </tr>\n",
       "    <tr>\n",
       "      <th>5</th>\n",
       "      <td>geodb_418dfeac-15f0-4606-9edb-fd9eb722bf04</td>\n",
       "      <td>land_use</td>\n",
       "      <td>d_od</td>\n",
       "      <td>date</td>\n",
       "    </tr>\n",
       "    <tr>\n",
       "      <th>6</th>\n",
       "      <td>geodb_418dfeac-15f0-4606-9edb-fd9eb722bf04</td>\n",
       "      <td>land_use</td>\n",
       "      <td>geometry</td>\n",
       "      <td>USER-DEFINED</td>\n",
       "    </tr>\n",
       "  </tbody>\n",
       "</table>\n",
       "</div>"
      ],
      "text/plain": [
       "                                     database collection  column_name  \\\n",
       "0  geodb_418dfeac-15f0-4606-9edb-fd9eb722bf04   land_use           id   \n",
       "1  geodb_418dfeac-15f0-4606-9edb-fd9eb722bf04   land_use   created_at   \n",
       "2  geodb_418dfeac-15f0-4606-9edb-fd9eb722bf04   land_use  modified_at   \n",
       "3  geodb_418dfeac-15f0-4606-9edb-fd9eb722bf04   land_use     raba_pid   \n",
       "4  geodb_418dfeac-15f0-4606-9edb-fd9eb722bf04   land_use      raba_id   \n",
       "5  geodb_418dfeac-15f0-4606-9edb-fd9eb722bf04   land_use         d_od   \n",
       "6  geodb_418dfeac-15f0-4606-9edb-fd9eb722bf04   land_use     geometry   \n",
       "\n",
       "                  data_type  \n",
       "0                   integer  \n",
       "1  timestamp with time zone  \n",
       "2  timestamp with time zone  \n",
       "3          double precision  \n",
       "4          double precision  \n",
       "5                      date  \n",
       "6              USER-DEFINED  "
      ]
     },
     "execution_count": 26,
     "metadata": {},
     "output_type": "execute_result"
    }
   ],
   "source": [
    "geodb.get_properties('land_use')"
   ]
  },
  {
   "cell_type": "code",
   "execution_count": 27,
   "id": "12bba166",
   "metadata": {
    "execution": {
     "iopub.execute_input": "2022-06-30T10:02:22.039301Z",
     "iopub.status.busy": "2022-06-30T10:02:22.038441Z",
     "iopub.status.idle": "2022-06-30T10:02:22.138273Z",
     "shell.execute_reply": "2022-06-30T10:02:22.134615Z"
    },
    "papermill": {
     "duration": 0.126438,
     "end_time": "2022-06-30T10:02:22.141435",
     "exception": false,
     "start_time": "2022-06-30T10:02:22.014997",
     "status": "completed"
    },
    "tags": []
   },
   "outputs": [
    {
     "data": {
      "application/json": {
       "Message": "Collection ['geodb_418dfeac-15f0-4606-9edb-fd9eb722bf04_land_use'] deleted"
      },
      "text/plain": [
       "<xcube_geodb.core.message.Message at 0x7fcb8c643310>"
      ]
     },
     "execution_count": 27,
     "metadata": {},
     "output_type": "execute_result"
    }
   ],
   "source": [
    "geodb.drop_collection('land_use')"
   ]
  },
  {
   "cell_type": "markdown",
   "id": "4526a1cc-af7d-47f7-9f80-8662cbf3e33f",
   "metadata": {},
   "source": [
    "See the chanhes made to the collection: "
   ]
  },
  {
   "cell_type": "code",
   "execution_count": null,
   "id": "138cac02-fb5b-4f97-b14e-1e656864c10d",
   "metadata": {},
   "outputs": [],
   "source": [
    "geodb.get_event_log('land_use')"
   ]
  },
  {
   "cell_type": "code",
   "execution_count": null,
   "id": "93e62f0f",
   "metadata": {
    "papermill": {
     "duration": 0.019728,
     "end_time": "2022-06-30T10:02:22.175882",
     "exception": false,
     "start_time": "2022-06-30T10:02:22.156154",
     "status": "completed"
    },
    "tags": []
   },
   "outputs": [],
   "source": []
  }
 ],
 "metadata": {
  "kernelspec": {
   "display_name": "Python [conda env:edc-default-2022.07-00]",
   "language": "python",
   "name": "conda-env-edc-default-2022.07-00-py"
  },
  "language_info": {
   "codemirror_mode": {
    "name": "ipython",
    "version": 3
   },
   "file_extension": ".py",
   "mimetype": "text/x-python",
   "name": "python",
   "nbconvert_exporter": "python",
   "pygments_lexer": "ipython3",
   "version": "3.9.13"
  },
  "papermill": {
   "duration": 40.065965,
   "end_time": "2022-06-30T10:02:22.821566",
   "environment_variables": {},
   "exception": null,
   "input_path": "/tmp/tmpt2n04i_c",
   "output_path": "/tmp/cur_notebook.ipynb",
   "parameters": {},
   "start_time": "2022-06-30T10:01:42.755601",
   "version": "2.1.2"
  },
  "properties": {
   "authors": [],
   "description": "Euro Data Cube GeoDB: Manage Datasets",
   "id": "geodb-manage",
   "license": null,
   "name": "GeoDB: Manage Datasets",
   "requirements": [
    "eurodatacube-geodb",
    "eoxhub",
    "eoxhub"
   ],
   "tags": [
    "Getting started",
    "GeoDB"
   ],
   "tosAgree": true,
   "type": "Jupyter Notebook",
   "version": "0.2.2"
  },
  "pycharm": {
   "stem_cell": {
    "cell_type": "raw",
    "metadata": {
     "collapsed": false
    },
    "source": []
   }
  }
 },
 "nbformat": 4,
 "nbformat_minor": 5
}
