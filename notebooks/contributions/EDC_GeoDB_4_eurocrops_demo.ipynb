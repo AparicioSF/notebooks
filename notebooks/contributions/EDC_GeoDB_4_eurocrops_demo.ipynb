{
 "cells": [
  {
   "cell_type": "code",
   "execution_count": 1,
   "id": "4ca1e6fe",
   "metadata": {
    "collapsed": true,
    "execution": {
     "iopub.execute_input": "2022-11-17T12:01:05.777763Z",
     "iopub.status.busy": "2022-11-17T12:01:05.777094Z",
     "iopub.status.idle": "2022-11-17T12:01:05.856067Z",
     "shell.execute_reply": "2022-11-17T12:01:05.855187Z"
    },
    "papermill": {
     "duration": 0.086104,
     "end_time": "2022-11-17T12:01:05.858040",
     "exception": false,
     "start_time": "2022-11-17T12:01:05.771936",
     "status": "completed"
    },
    "pycharm": {
     "name": "#%%\n"
    },
    "tags": []
   },
   "outputs": [
    {
     "data": {
      "text/html": [
       "<script type=\"text/javascript\">\n",
       "        function toggle(id) {\n",
       "            el = document.getElementById(id);\n",
       "            el.style.display = el.style.display === \"none\" ? \"block\" : \"none\";\n",
       "        }\n",
       "    </script>"
      ],
      "text/plain": [
       "<IPython.core.display.HTML object>"
      ]
     },
     "metadata": {},
     "output_type": "display_data"
    },
    {
     "data": {
      "text/html": [
       "This notebook is compatible with this base image version (user-2022.10-14)."
      ],
      "text/plain": [
       "<IPython.core.display.HTML object>"
      ]
     },
     "metadata": {},
     "output_type": "display_data"
    },
    {
     "data": {
      "text/markdown": [
       "\n",
       "\n",
       "---------\n",
       "\n",
       "The following environment variables are available:\n",
       "\n",
       "* `GEODB_AUTH_AUD`, `GEODB_AUTH_CLIENT_ID`, `GEODB_AUTH_DOMAIN`, `GEODB_API_SERVER_URL`, `GEODB_AUTH_CLIENT_SECRET`, `GEODB_API_SERVER_PORT`\n"
      ],
      "text/plain": [
       "<IPython.core.display.Markdown object>"
      ]
     },
     "metadata": {},
     "output_type": "display_data"
    }
   ],
   "source": [
    "from edc import check_compatibility\n",
    "check_compatibility(\"user-2022.10-14\", dependencies=[\"GEODB\"])"
   ]
  },
  {
   "cell_type": "markdown",
   "id": "9ef55c56",
   "metadata": {
    "collapsed": false,
    "papermill": {
     "duration": 0.00295,
     "end_time": "2022-11-17T12:01:05.864216",
     "exception": false,
     "start_time": "2022-11-17T12:01:05.861266",
     "status": "completed"
    },
    "pycharm": {
     "name": "#%% md\n"
    },
    "tags": []
   },
   "source": [
    "# Demonstration of Eurocrops data use in geoDB\n",
    "\n",
    "This notebook demonstrates how the [Eurocrops](https://github.com/maja601/EuroCrops) data can be used for analysis, using the geoDB."
   ]
  },
  {
   "cell_type": "code",
   "execution_count": 2,
   "id": "ea0b67eb",
   "metadata": {
    "collapsed": false,
    "execution": {
     "iopub.execute_input": "2022-11-17T12:01:05.873905Z",
     "iopub.status.busy": "2022-11-17T12:01:05.873192Z",
     "iopub.status.idle": "2022-11-17T12:01:06.507878Z",
     "shell.execute_reply": "2022-11-17T12:01:06.506880Z"
    },
    "papermill": {
     "duration": 0.642217,
     "end_time": "2022-11-17T12:01:06.510395",
     "exception": false,
     "start_time": "2022-11-17T12:01:05.868178",
     "status": "completed"
    },
    "pycharm": {
     "name": "#%%\n"
    },
    "tags": []
   },
   "outputs": [],
   "source": [
    "from xcube_geodb.core.geodb import GeoDBClient\n",
    "import time\n",
    "\n",
    "geodb = GeoDBClient()"
   ]
  },
  {
   "cell_type": "code",
   "execution_count": 3,
   "id": "dc99faaa",
   "metadata": {
    "collapsed": false,
    "execution": {
     "iopub.execute_input": "2022-11-17T12:01:06.519300Z",
     "iopub.status.busy": "2022-11-17T12:01:06.518743Z",
     "iopub.status.idle": "2022-11-17T12:01:06.523235Z",
     "shell.execute_reply": "2022-11-17T12:01:06.522368Z"
    },
    "papermill": {
     "duration": 0.011506,
     "end_time": "2022-11-17T12:01:06.525304",
     "exception": false,
     "start_time": "2022-11-17T12:01:06.513798",
     "status": "completed"
    },
    "pycharm": {
     "name": "#%%\n"
    },
    "tags": []
   },
   "outputs": [],
   "source": [
    "# Setting the database name; this database contains the Eurocrops data collections\n",
    "db = 'geodb_b34bfae7-9265-4a3e-b921-06549d3c6035'"
   ]
  },
  {
   "cell_type": "markdown",
   "id": "e95ab049",
   "metadata": {
    "collapsed": false,
    "papermill": {
     "duration": 0.003322,
     "end_time": "2022-11-17T12:01:06.531707",
     "exception": false,
     "start_time": "2022-11-17T12:01:06.528385",
     "status": "completed"
    },
    "pycharm": {
     "name": "#%% md\n"
    },
    "tags": []
   },
   "source": [
    "### Demo #1\n",
    "This step computes the area growing wheat in NRW (Germany), and measures the time needed to do that. Within the collection 'DE_NRW_2021_EC21', the crop types are identified by different codes stored in the column 'code'; the values 112 and 115 identify wheat, therefore the respective query is `'or=(code.eq.112,code.eq.115)'`. The sizes of the fields are stored in the column `'area_ha'`."
   ]
  },
  {
   "cell_type": "code",
   "execution_count": 4,
   "id": "6fb96b49",
   "metadata": {
    "collapsed": false,
    "execution": {
     "iopub.execute_input": "2022-11-17T12:01:06.540585Z",
     "iopub.status.busy": "2022-11-17T12:01:06.540184Z",
     "iopub.status.idle": "2022-11-17T12:01:25.594901Z",
     "shell.execute_reply": "2022-11-17T12:01:25.594108Z"
    },
    "papermill": {
     "duration": 19.060814,
     "end_time": "2022-11-17T12:01:25.596920",
     "exception": false,
     "start_time": "2022-11-17T12:01:06.536106",
     "status": "completed"
    },
    "pycharm": {
     "name": "#%%\n"
    },
    "tags": []
   },
   "outputs": [
    {
     "name": "stdout",
     "output_type": "stream",
     "text": [
      "Computed the area growing wheat in NRW (Germany): 226049 ha, within 19.049326442000165 seconds\n"
     ]
    }
   ],
   "source": [
    "tic = time.perf_counter()\n",
    "df = geodb.get_collection('DE_NRW_2021_EC21', query='or=(code.eq.112,code.eq.115)', database=db)\n",
    "area_acc = df['area_ha'].sum()\n",
    "toc = time.perf_counter()\n",
    "print(f\"Computed the area growing wheat in NRW (Germany): {area_acc:0.0f} ha, within {toc - tic} seconds\")"
   ]
  },
  {
   "cell_type": "markdown",
   "id": "197775ec",
   "metadata": {
    "collapsed": false,
    "papermill": {
     "duration": 0.003734,
     "end_time": "2022-11-17T12:01:25.604080",
     "exception": false,
     "start_time": "2022-11-17T12:01:25.600346",
     "status": "completed"
    },
    "pycharm": {
     "name": "#%% md\n"
    },
    "tags": []
   },
   "source": [
    "### Demo #2\n",
    "This step computes the area growing wheat in Belgium, and measures the time needed to do that. Within the collection 'BE_VLG_2021_EC21', the crop types are identified by different codes stored in the column 'gwscod_h'; the values 311 and 312 identify wheat, therefore the respective query is `'or=(gwscod_h.eq.311,gwscod_h.eq.312)'`. The sizes of the fields are stored in the column `'graf_opp'`"
   ]
  },
  {
   "cell_type": "code",
   "execution_count": 5,
   "id": "aecca457",
   "metadata": {
    "collapsed": false,
    "execution": {
     "iopub.execute_input": "2022-11-17T12:01:25.613463Z",
     "iopub.status.busy": "2022-11-17T12:01:25.612830Z",
     "iopub.status.idle": "2022-11-17T12:01:32.039364Z",
     "shell.execute_reply": "2022-11-17T12:01:32.038439Z"
    },
    "papermill": {
     "duration": 6.432959,
     "end_time": "2022-11-17T12:01:32.041248",
     "exception": false,
     "start_time": "2022-11-17T12:01:25.608289",
     "status": "completed"
    },
    "pycharm": {
     "name": "#%%\n"
    },
    "tags": []
   },
   "outputs": [
    {
     "name": "stdout",
     "output_type": "stream",
     "text": [
      "Computed the area growing wheat in Belgium (VLG): 71014 ha, within 6.420155139001508 seconds\n"
     ]
    }
   ],
   "source": [
    "tic = time.perf_counter()\n",
    "df = geodb.get_collection('BE_VLG_2021_EC21', query='or=(gwscod_h.eq.311,gwscod_h.eq.312)', database=db)\n",
    "area_acc = df['graf_opp'].sum()\n",
    "toc = time.perf_counter()\n",
    "print(f\"Computed the area growing wheat in Belgium (VLG): {area_acc:0.0f} ha, within {toc - tic} seconds\")"
   ]
  },
  {
   "cell_type": "markdown",
   "id": "35781087",
   "metadata": {
    "collapsed": false,
    "papermill": {
     "duration": 0.004017,
     "end_time": "2022-11-17T12:01:32.048747",
     "exception": false,
     "start_time": "2022-11-17T12:01:32.044730",
     "status": "completed"
    },
    "pycharm": {
     "name": "#%% md\n"
    },
    "tags": []
   },
   "source": [
    "### Demo #3\n",
    "This step extracts 1000 fields growing wheat in Austria. Within the collection 'AT_2021_EC21', the crop types are identified by different codes stored in the column 'snar_code'; the values 140, 168 and 170 identify wheat, and the column `'sl_flaeche'` stores the sizes of the fields."
   ]
  },
  {
   "cell_type": "code",
   "execution_count": 6,
   "id": "24af4c57",
   "metadata": {
    "collapsed": false,
    "execution": {
     "iopub.execute_input": "2022-11-17T12:01:32.057768Z",
     "iopub.status.busy": "2022-11-17T12:01:32.057457Z",
     "iopub.status.idle": "2022-11-17T12:01:36.189298Z",
     "shell.execute_reply": "2022-11-17T12:01:36.188072Z"
    },
    "papermill": {
     "duration": 4.13957,
     "end_time": "2022-11-17T12:01:36.191490",
     "exception": false,
     "start_time": "2022-11-17T12:01:32.051920",
     "status": "completed"
    },
    "pycharm": {
     "name": "#%%\n"
    },
    "tags": []
   },
   "outputs": [
    {
     "name": "stdout",
     "output_type": "stream",
     "text": [
      "Extracted 1000 areas in Austria growing wheat, larger than 1 ha, within 4.126500705999206 seconds\n"
     ]
    }
   ],
   "source": [
    "tic = time.perf_counter()\n",
    "df = geodb.get_collection('AT_2021_EC21', query='and=(or(snar_code.eq.140,snar_code.eq.168,snar_code.eq.170),sl_flaeche.gt.1)', database=db, limit=1000)\n",
    "toc = time.perf_counter()\n",
    "print(f\"Extracted 1000 areas in Austria growing wheat, larger than 1 ha, within {toc - tic} seconds\")"
   ]
  }
 ],
 "metadata": {
  "kernelspec": {
   "display_name": "Python 3",
   "language": "python",
   "name": "python3"
  },
  "language_info": {
   "codemirror_mode": {
    "name": "ipython",
    "version": 3
   },
   "file_extension": ".py",
   "mimetype": "text/x-python",
   "name": "python",
   "nbconvert_exporter": "python",
   "pygments_lexer": "ipython3",
   "version": "3.9.13"
  },
  "papermill": {
   "default_parameters": {},
   "duration": 32.190744,
   "end_time": "2022-11-17T12:01:36.515177",
   "environment_variables": {},
   "exception": null,
   "input_path": "/tmp/tmpjiyoy9vv",
   "output_path": "/tmp/notebook_output.ipynb",
   "parameters": {},
   "start_time": "2022-11-17T12:01:04.324433",
   "version": "2.3.4"
  },
  "properties": {
   "authors": [
    {
     "id": "b34bfae7-9265-4a3e-b921-06549d3c6035",
     "name": "thomas.storm@brockmann-consult.de"
    }
   ],
   "description": "Demonstrates how the Eurocrops data can be used",
   "id": "46d04c94-f499-4d6f-9d82-d326670ce5a8",
   "license": null,
   "name": "GeoDB: Eurocrops Dataset Demo",
   "requirements": [
    "eurodatacube-geodb",
    "eoxhub"
   ],
   "tags": [
    "GeoDB",
    "Vector Data",
    "Eurocrops"
   ],
   "tosAgree": true,
   "type": "Jupyter Notebook",
   "version": "0.0.2"
  }
 },
 "nbformat": 4,
 "nbformat_minor": 5
}
