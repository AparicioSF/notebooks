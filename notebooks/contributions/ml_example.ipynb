{
 "cells": [
  {
   "cell_type": "code",
   "execution_count": 1,
   "id": "62f7ab77",
   "metadata": {
    "execution": {
     "iopub.execute_input": "2022-10-25T10:02:36.267426Z",
     "iopub.status.busy": "2022-10-25T10:02:36.267081Z",
     "iopub.status.idle": "2022-10-25T10:02:36.327695Z",
     "shell.execute_reply": "2022-10-25T10:02:36.327100Z"
    },
    "papermill": {
     "duration": 0.077576,
     "end_time": "2022-10-25T10:02:36.330331",
     "exception": false,
     "start_time": "2022-10-25T10:02:36.252755",
     "status": "completed"
    },
    "tags": []
   },
   "outputs": [
    {
     "data": {
      "text/html": [
       "<script type=\"text/javascript\">\n",
       "        function toggle(id) {\n",
       "            el = document.getElementById(id);\n",
       "            el.style.display = el.style.display === \"none\" ? \"block\" : \"none\";\n",
       "        }\n",
       "    </script>"
      ],
      "text/plain": [
       "<IPython.core.display.HTML object>"
      ]
     },
     "metadata": {},
     "output_type": "display_data"
    },
    {
     "data": {
      "text/html": [
       "This notebook is compatible with this base image version (user-2022.10-14)."
      ],
      "text/plain": [
       "<IPython.core.display.HTML object>"
      ]
     },
     "metadata": {},
     "output_type": "display_data"
    }
   ],
   "source": [
    "from eoxhub import check_compatibility\n",
    "check_compatibility(\"user-2022.10-14\", dependencies=[])"
   ]
  },
  {
   "cell_type": "markdown",
   "id": "0a615556-b62f-4392-a82e-9746d300e708",
   "metadata": {
    "papermill": {
     "duration": 0.006575,
     "end_time": "2022-10-25T10:02:36.343988",
     "exception": false,
     "start_time": "2022-10-25T10:02:36.337413",
     "status": "completed"
    },
    "tags": []
   },
   "source": [
    "# Crop-classification using Sentinel-2 time-series\n",
    "\n",
    "This notebook implements a crop classification algorithm for Sentinel-2 time-series based on deep learning. The input time-series are derived from the signals computed by the Eurocrops BYOA. The method here implemented is described in more detail in the [crop-classification marker blog-post](https://medium.com/sentinel-hub/area-monitoring-crop-type-marker-1e70f672bf44).\n",
    "\n",
    "For more examples on how to create markers for monitoring agricultural activity using Sentinel-2 signals, consult [this blog series](https://medium.com/sentinel-hub/area-monitoring-concept-effc2c262583).\n",
    "\n",
    "This notebook will use a sample of pre-downloaded signals, and can be run on a CPU-based instance or laptop.\n",
    "\n",
    "**Table of Contents**:\n",
    "\n",
    " 0. [Constants](#constants)\n",
    " 1. [Retrieve signals and labels](#retrieve-signals)\n",
    " 2. [AI-ready dataset](#dataset)\n",
    " 3. [Model training](#model-training)\n",
    " 4. [Model evaluation](#model-evaluation)"
   ]
  },
  {
   "cell_type": "code",
   "execution_count": 2,
   "id": "36298b14-3b51-4455-9bda-f6dfbe45e947",
   "metadata": {
    "execution": {
     "iopub.execute_input": "2022-10-25T10:02:36.373945Z",
     "iopub.status.busy": "2022-10-25T10:02:36.373352Z",
     "iopub.status.idle": "2022-10-25T10:03:27.968498Z",
     "shell.execute_reply": "2022-10-25T10:03:27.967533Z"
    },
    "papermill": {
     "duration": 51.61321,
     "end_time": "2022-10-25T10:03:27.971014",
     "exception": false,
     "start_time": "2022-10-25T10:02:36.357804",
     "status": "completed"
    },
    "tags": []
   },
   "outputs": [
    {
     "name": "stdout",
     "output_type": "stream",
     "text": [
      "Collecting torch\r\n"
     ]
    },
    {
     "name": "stdout",
     "output_type": "stream",
     "text": [
      "  Downloading torch-1.12.1-cp39-cp39-manylinux1_x86_64.whl (776.4 MB)\r\n",
      "\u001b[?25l     \u001b[90m━━━━━━━━━━━━━━━━━━━━━━━━━━━━━━━━━━━━━━━━\u001b[0m \u001b[32m0.0/776.4 MB\u001b[0m \u001b[31m?\u001b[0m eta \u001b[36m-:--:--\u001b[0m"
     ]
    },
    {
     "name": "stdout",
     "output_type": "stream",
     "text": [
      "\r",
      "\u001b[2K     \u001b[90m━━━━━━━━━━━━━━━━━━━━━━━━━━━━━━━━━━━━━━━━\u001b[0m \u001b[32m1.5/776.4 MB\u001b[0m \u001b[31m44.2 MB/s\u001b[0m eta \u001b[36m0:00:18\u001b[0m\r",
      "\u001b[2K     \u001b[90m━━━━━━━━━━━━━━━━━━━━━━━━━━━━━━━━━━━━━━━━\u001b[0m \u001b[32m4.2/776.4 MB\u001b[0m \u001b[31m60.1 MB/s\u001b[0m eta \u001b[36m0:00:13\u001b[0m"
     ]
    },
    {
     "name": "stdout",
     "output_type": "stream",
     "text": [
      "\r",
      "\u001b[2K     \u001b[90m━━━━━━━━━━━━━━━━━━━━━━━━━━━━━━━━━━━━━━━━\u001b[0m \u001b[32m8.7/776.4 MB\u001b[0m \u001b[31m79.9 MB/s\u001b[0m eta \u001b[36m0:00:10\u001b[0m"
     ]
    },
    {
     "name": "stdout",
     "output_type": "stream",
     "text": [
      "\r",
      "\u001b[2K     \u001b[91m╸\u001b[0m\u001b[90m━━━━━━━━━━━━━━━━━━━━━━━━━━━━━━━━━━━━━\u001b[0m \u001b[32m15.1/776.4 MB\u001b[0m \u001b[31m154.0 MB/s\u001b[0m eta \u001b[36m0:00:05\u001b[0m"
     ]
    },
    {
     "name": "stdout",
     "output_type": "stream",
     "text": [
      "\r",
      "\u001b[2K     \u001b[91m╸\u001b[0m\u001b[90m━━━━━━━━━━━━━━━━━━━━━━━━━━━━━━━━━━━━━\u001b[0m \u001b[32m18.8/776.4 MB\u001b[0m \u001b[31m135.3 MB/s\u001b[0m eta \u001b[36m0:00:06\u001b[0m\r",
      "\u001b[2K     \u001b[91m━\u001b[0m\u001b[90m╺\u001b[0m\u001b[90m━━━━━━━━━━━━━━━━━━━━━━━━━━━━━━━━━━━━\u001b[0m \u001b[32m25.7/776.4 MB\u001b[0m \u001b[31m138.4 MB/s\u001b[0m eta \u001b[36m0:00:06\u001b[0m"
     ]
    },
    {
     "name": "stdout",
     "output_type": "stream",
     "text": [
      "\r",
      "\u001b[2K     \u001b[91m━\u001b[0m\u001b[91m╸\u001b[0m\u001b[90m━━━━━━━━━━━━━━━━━━━━━━━━━━━━━━━━━━━━\u001b[0m \u001b[32m33.6/776.4 MB\u001b[0m \u001b[31m225.6 MB/s\u001b[0m eta \u001b[36m0:00:04\u001b[0m"
     ]
    },
    {
     "name": "stdout",
     "output_type": "stream",
     "text": [
      "\r",
      "\u001b[2K     \u001b[91m━━\u001b[0m\u001b[90m╺\u001b[0m\u001b[90m━━━━━━━━━━━━━━━━━━━━━━━━━━━━━━━━━━━\u001b[0m \u001b[32m41.5/776.4 MB\u001b[0m \u001b[31m215.9 MB/s\u001b[0m eta \u001b[36m0:00:04\u001b[0m\r",
      "\u001b[2K     \u001b[91m━━\u001b[0m\u001b[90m╺\u001b[0m\u001b[90m━━━━━━━━━━━━━━━━━━━━━━━━━━━━━━━━━━━\u001b[0m \u001b[32m46.9/776.4 MB\u001b[0m \u001b[31m178.2 MB/s\u001b[0m eta \u001b[36m0:00:05\u001b[0m"
     ]
    },
    {
     "name": "stdout",
     "output_type": "stream",
     "text": [
      "\r",
      "\u001b[2K     \u001b[91m━━\u001b[0m\u001b[91m╸\u001b[0m\u001b[90m━━━━━━━━━━━━━━━━━━━━━━━━━━━━━━━━━━━\u001b[0m \u001b[32m54.1/776.4 MB\u001b[0m \u001b[31m214.8 MB/s\u001b[0m eta \u001b[36m0:00:04\u001b[0m"
     ]
    },
    {
     "name": "stdout",
     "output_type": "stream",
     "text": [
      "\r",
      "\u001b[2K     \u001b[91m━━\u001b[0m\u001b[91m╸\u001b[0m\u001b[90m━━━━━━━━━━━━━━━━━━━━━━━━━━━━━━━━━━━\u001b[0m \u001b[32m61.1/776.4 MB\u001b[0m \u001b[31m178.7 MB/s\u001b[0m eta \u001b[36m0:00:05\u001b[0m\r",
      "\u001b[2K     \u001b[91m━━━\u001b[0m\u001b[90m╺\u001b[0m\u001b[90m━━━━━━━━━━━━━━━━━━━━━━━━━━━━━━━━━━\u001b[0m \u001b[32m68.9/776.4 MB\u001b[0m \u001b[31m204.7 MB/s\u001b[0m eta \u001b[36m0:00:04\u001b[0m"
     ]
    },
    {
     "name": "stdout",
     "output_type": "stream",
     "text": [
      "\r",
      "\u001b[2K     \u001b[91m━━━\u001b[0m\u001b[91m╸\u001b[0m\u001b[90m━━━━━━━━━━━━━━━━━━━━━━━━━━━━━━━━━━\u001b[0m \u001b[32m73.9/776.4 MB\u001b[0m \u001b[31m179.5 MB/s\u001b[0m eta \u001b[36m0:00:04\u001b[0m"
     ]
    },
    {
     "name": "stdout",
     "output_type": "stream",
     "text": [
      "\r",
      "\u001b[2K     \u001b[91m━━━\u001b[0m\u001b[91m╸\u001b[0m\u001b[90m━━━━━━━━━━━━━━━━━━━━━━━━━━━━━━━━━━\u001b[0m \u001b[32m79.7/776.4 MB\u001b[0m \u001b[31m157.0 MB/s\u001b[0m eta \u001b[36m0:00:05\u001b[0m"
     ]
    },
    {
     "name": "stdout",
     "output_type": "stream",
     "text": [
      "\r",
      "\u001b[2K     \u001b[91m━━━━\u001b[0m\u001b[90m╺\u001b[0m\u001b[90m━━━━━━━━━━━━━━━━━━━━━━━━━━━━━━━━━\u001b[0m \u001b[32m85.2/776.4 MB\u001b[0m \u001b[31m161.9 MB/s\u001b[0m eta \u001b[36m0:00:05\u001b[0m\r",
      "\u001b[2K     \u001b[91m━━━━\u001b[0m\u001b[90m╺\u001b[0m\u001b[90m━━━━━━━━━━━━━━━━━━━━━━━━━━━━━━━━━\u001b[0m \u001b[32m90.2/776.4 MB\u001b[0m \u001b[31m153.5 MB/s\u001b[0m eta \u001b[36m0:00:05\u001b[0m"
     ]
    },
    {
     "name": "stdout",
     "output_type": "stream",
     "text": [
      "\r",
      "\u001b[2K     \u001b[91m━━━━\u001b[0m\u001b[91m╸\u001b[0m\u001b[90m━━━━━━━━━━━━━━━━━━━━━━━━━━━━━━━━━\u001b[0m \u001b[32m95.6/776.4 MB\u001b[0m \u001b[31m152.4 MB/s\u001b[0m eta \u001b[36m0:00:05\u001b[0m"
     ]
    },
    {
     "name": "stdout",
     "output_type": "stream",
     "text": [
      "\r",
      "\u001b[2K     \u001b[91m━━━━\u001b[0m\u001b[91m╸\u001b[0m\u001b[90m━━━━━━━━━━━━━━━━━━━━━━━━━━━━━━━━\u001b[0m \u001b[32m101.0/776.4 MB\u001b[0m \u001b[31m153.0 MB/s\u001b[0m eta \u001b[36m0:00:05\u001b[0m\r",
      "\u001b[2K     \u001b[91m━━━━━\u001b[0m\u001b[90m╺\u001b[0m\u001b[90m━━━━━━━━━━━━━━━━━━━━━━━━━━━━━━━\u001b[0m \u001b[32m107.6/776.4 MB\u001b[0m \u001b[31m171.1 MB/s\u001b[0m eta \u001b[36m0:00:04\u001b[0m"
     ]
    },
    {
     "name": "stdout",
     "output_type": "stream",
     "text": [
      "\r",
      "\u001b[2K     \u001b[91m━━━━━\u001b[0m\u001b[90m╺\u001b[0m\u001b[90m━━━━━━━━━━━━━━━━━━━━━━━━━━━━━━━\u001b[0m \u001b[32m112.8/776.4 MB\u001b[0m \u001b[31m171.6 MB/s\u001b[0m eta \u001b[36m0:00:04\u001b[0m"
     ]
    },
    {
     "name": "stdout",
     "output_type": "stream",
     "text": [
      "\r",
      "\u001b[2K     \u001b[91m━━━━━\u001b[0m\u001b[91m╸\u001b[0m\u001b[90m━━━━━━━━━━━━━━━━━━━━━━━━━━━━━━━\u001b[0m \u001b[32m117.6/776.4 MB\u001b[0m \u001b[31m141.0 MB/s\u001b[0m eta \u001b[36m0:00:05\u001b[0m\r",
      "\u001b[2K     \u001b[91m━━━━━\u001b[0m\u001b[91m╸\u001b[0m\u001b[90m━━━━━━━━━━━━━━━━━━━━━━━━━━━━━━━\u001b[0m \u001b[32m122.9/776.4 MB\u001b[0m \u001b[31m140.2 MB/s\u001b[0m eta \u001b[36m0:00:05\u001b[0m"
     ]
    },
    {
     "name": "stdout",
     "output_type": "stream",
     "text": [
      "\r",
      "\u001b[2K     \u001b[91m━━━━━━\u001b[0m\u001b[90m╺\u001b[0m\u001b[90m━━━━━━━━━━━━━━━━━━━━━━━━━━━━━━\u001b[0m \u001b[32m128.2/776.4 MB\u001b[0m \u001b[31m153.7 MB/s\u001b[0m eta \u001b[36m0:00:05\u001b[0m"
     ]
    },
    {
     "name": "stdout",
     "output_type": "stream",
     "text": [
      "\r",
      "\u001b[2K     \u001b[91m━━━━━━\u001b[0m\u001b[90m╺\u001b[0m\u001b[90m━━━━━━━━━━━━━━━━━━━━━━━━━━━━━━\u001b[0m \u001b[32m134.2/776.4 MB\u001b[0m \u001b[31m158.7 MB/s\u001b[0m eta \u001b[36m0:00:05\u001b[0m"
     ]
    },
    {
     "name": "stdout",
     "output_type": "stream",
     "text": [
      "\r",
      "\u001b[2K     \u001b[91m━━━━━━\u001b[0m\u001b[91m╸\u001b[0m\u001b[90m━━━━━━━━━━━━━━━━━━━━━━━━━━━━━━\u001b[0m \u001b[32m140.4/776.4 MB\u001b[0m \u001b[31m169.3 MB/s\u001b[0m eta \u001b[36m0:00:04\u001b[0m\r",
      "\u001b[2K     \u001b[91m━━━━━━\u001b[0m\u001b[91m╸\u001b[0m\u001b[90m━━━━━━━━━━━━━━━━━━━━━━━━━━━━━━\u001b[0m \u001b[32m146.9/776.4 MB\u001b[0m \u001b[31m187.4 MB/s\u001b[0m eta \u001b[36m0:00:04\u001b[0m"
     ]
    },
    {
     "name": "stdout",
     "output_type": "stream",
     "text": [
      "\r",
      "\u001b[2K     \u001b[91m━━━━━━━\u001b[0m\u001b[90m╺\u001b[0m\u001b[90m━━━━━━━━━━━━━━━━━━━━━━━━━━━━━\u001b[0m \u001b[32m150.7/776.4 MB\u001b[0m \u001b[31m141.7 MB/s\u001b[0m eta \u001b[36m0:00:05\u001b[0m"
     ]
    },
    {
     "name": "stdout",
     "output_type": "stream",
     "text": [
      "\r",
      "\u001b[2K     \u001b[91m━━━━━━━\u001b[0m\u001b[90m╺\u001b[0m\u001b[90m━━━━━━━━━━━━━━━━━━━━━━━━━━━━━\u001b[0m \u001b[32m157.3/776.4 MB\u001b[0m \u001b[31m153.0 MB/s\u001b[0m eta \u001b[36m0:00:05\u001b[0m\r",
      "\u001b[2K     \u001b[91m━━━━━━━\u001b[0m\u001b[91m╸\u001b[0m\u001b[90m━━━━━━━━━━━━━━━━━━━━━━━━━━━━━\u001b[0m \u001b[32m162.9/776.4 MB\u001b[0m \u001b[31m175.2 MB/s\u001b[0m eta \u001b[36m0:00:04\u001b[0m"
     ]
    },
    {
     "name": "stdout",
     "output_type": "stream",
     "text": [
      "\r",
      "\u001b[2K     \u001b[91m━━━━━━━━\u001b[0m\u001b[90m╺\u001b[0m\u001b[90m━━━━━━━━━━━━━━━━━━━━━━━━━━━━\u001b[0m \u001b[32m169.1/776.4 MB\u001b[0m \u001b[31m182.0 MB/s\u001b[0m eta \u001b[36m0:00:04\u001b[0m"
     ]
    },
    {
     "name": "stdout",
     "output_type": "stream",
     "text": [
      "\r",
      "\u001b[2K     \u001b[91m━━━━━━━━\u001b[0m\u001b[90m╺\u001b[0m\u001b[90m━━━━━━━━━━━━━━━━━━━━━━━━━━━━\u001b[0m \u001b[32m174.8/776.4 MB\u001b[0m \u001b[31m174.4 MB/s\u001b[0m eta \u001b[36m0:00:04\u001b[0m\r",
      "\u001b[2K     \u001b[91m━━━━━━━━\u001b[0m\u001b[91m╸\u001b[0m\u001b[90m━━━━━━━━━━━━━━━━━━━━━━━━━━━━\u001b[0m \u001b[32m181.4/776.4 MB\u001b[0m \u001b[31m178.4 MB/s\u001b[0m eta \u001b[36m0:00:04\u001b[0m"
     ]
    },
    {
     "name": "stdout",
     "output_type": "stream",
     "text": [
      "\r",
      "\u001b[2K     \u001b[91m━━━━━━━━\u001b[0m\u001b[91m╸\u001b[0m\u001b[90m━━━━━━━━━━━━━━━━━━━━━━━━━━━━\u001b[0m \u001b[32m188.3/776.4 MB\u001b[0m \u001b[31m192.2 MB/s\u001b[0m eta \u001b[36m0:00:04\u001b[0m"
     ]
    },
    {
     "name": "stdout",
     "output_type": "stream",
     "text": [
      "\r",
      "\u001b[2K     \u001b[91m━━━━━━━━━\u001b[0m\u001b[90m╺\u001b[0m\u001b[90m━━━━━━━━━━━━━━━━━━━━━━━━━━━\u001b[0m \u001b[32m195.7/776.4 MB\u001b[0m \u001b[31m210.0 MB/s\u001b[0m eta \u001b[36m0:00:03\u001b[0m"
     ]
    },
    {
     "name": "stdout",
     "output_type": "stream",
     "text": [
      "\r",
      "\u001b[2K     \u001b[91m━━━━━━━━━\u001b[0m\u001b[91m╸\u001b[0m\u001b[90m━━━━━━━━━━━━━━━━━━━━━━━━━━━\u001b[0m \u001b[32m203.0/776.4 MB\u001b[0m \u001b[31m194.1 MB/s\u001b[0m eta \u001b[36m0:00:03\u001b[0m\r",
      "\u001b[2K     \u001b[91m━━━━━━━━━━\u001b[0m\u001b[90m╺\u001b[0m\u001b[90m━━━━━━━━━━━━━━━━━━━━━━━━━━\u001b[0m \u001b[32m209.9/776.4 MB\u001b[0m \u001b[31m202.8 MB/s\u001b[0m eta \u001b[36m0:00:03\u001b[0m"
     ]
    },
    {
     "name": "stdout",
     "output_type": "stream",
     "text": [
      "\r",
      "\u001b[2K     \u001b[91m━━━━━━━━━━\u001b[0m\u001b[90m╺\u001b[0m\u001b[90m━━━━━━━━━━━━━━━━━━━━━━━━━━\u001b[0m \u001b[32m215.0/776.4 MB\u001b[0m \u001b[31m166.8 MB/s\u001b[0m eta \u001b[36m0:00:04\u001b[0m"
     ]
    },
    {
     "name": "stdout",
     "output_type": "stream",
     "text": [
      "\r",
      "\u001b[2K     \u001b[91m━━━━━━━━━━\u001b[0m\u001b[91m╸\u001b[0m\u001b[90m━━━━━━━━━━━━━━━━━━━━━━━━━━\u001b[0m \u001b[32m220.4/776.4 MB\u001b[0m \u001b[31m153.2 MB/s\u001b[0m eta \u001b[36m0:00:04\u001b[0m\r",
      "\u001b[2K     \u001b[91m━━━━━━━━━━\u001b[0m\u001b[91m╸\u001b[0m\u001b[90m━━━━━━━━━━━━━━━━━━━━━━━━━━\u001b[0m \u001b[32m226.0/776.4 MB\u001b[0m \u001b[31m157.8 MB/s\u001b[0m eta \u001b[36m0:00:04\u001b[0m"
     ]
    },
    {
     "name": "stdout",
     "output_type": "stream",
     "text": [
      "\r",
      "\u001b[2K     \u001b[91m━━━━━━━━━━━\u001b[0m\u001b[90m╺\u001b[0m\u001b[90m━━━━━━━━━━━━━━━━━━━━━━━━━\u001b[0m \u001b[32m231.9/776.4 MB\u001b[0m \u001b[31m165.7 MB/s\u001b[0m eta \u001b[36m0:00:04\u001b[0m"
     ]
    },
    {
     "name": "stdout",
     "output_type": "stream",
     "text": [
      "\r",
      "\u001b[2K     \u001b[91m━━━━━━━━━━━\u001b[0m\u001b[90m╺\u001b[0m\u001b[90m━━━━━━━━━━━━━━━━━━━━━━━━━\u001b[0m \u001b[32m237.4/776.4 MB\u001b[0m \u001b[31m170.2 MB/s\u001b[0m eta \u001b[36m0:00:04\u001b[0m"
     ]
    },
    {
     "name": "stdout",
     "output_type": "stream",
     "text": [
      "\r",
      "\u001b[2K     \u001b[91m━━━━━━━━━━━\u001b[0m\u001b[90m╺\u001b[0m\u001b[90m━━━━━━━━━━━━━━━━━━━━━━━━━\u001b[0m \u001b[32m240.2/776.4 MB\u001b[0m \u001b[31m157.3 MB/s\u001b[0m eta \u001b[36m0:00:04\u001b[0m\r",
      "\u001b[2K     \u001b[91m━━━━━━━━━━━\u001b[0m\u001b[91m╸\u001b[0m\u001b[90m━━━━━━━━━━━━━━━━━━━━━━━━━━\u001b[0m \u001b[32m245.0/776.4 MB\u001b[0m \u001b[31m52.1 MB/s\u001b[0m eta \u001b[36m0:00:11\u001b[0m"
     ]
    },
    {
     "name": "stdout",
     "output_type": "stream",
     "text": [
      "\r",
      "\u001b[2K     \u001b[91m━━━━━━━━━━━\u001b[0m\u001b[91m╸\u001b[0m\u001b[90m━━━━━━━━━━━━━━━━━━━━━━━━━\u001b[0m \u001b[32m250.9/776.4 MB\u001b[0m \u001b[31m155.4 MB/s\u001b[0m eta \u001b[36m0:00:04\u001b[0m"
     ]
    },
    {
     "name": "stdout",
     "output_type": "stream",
     "text": [
      "\r",
      "\u001b[2K     \u001b[91m━━━━━━━━━━━━\u001b[0m\u001b[90m╺\u001b[0m\u001b[90m━━━━━━━━━━━━━━━━━━━━━━━━\u001b[0m \u001b[32m252.8/776.4 MB\u001b[0m \u001b[31m119.3 MB/s\u001b[0m eta \u001b[36m0:00:05\u001b[0m\r",
      "\u001b[2K     \u001b[91m━━━━━━━━━━━━\u001b[0m\u001b[90m╺\u001b[0m\u001b[90m━━━━━━━━━━━━━━━━━━━━━━━━\u001b[0m \u001b[32m259.6/776.4 MB\u001b[0m \u001b[31m127.2 MB/s\u001b[0m eta \u001b[36m0:00:05\u001b[0m"
     ]
    },
    {
     "name": "stdout",
     "output_type": "stream",
     "text": [
      "\r",
      "\u001b[2K     \u001b[91m━━━━━━━━━━━━\u001b[0m\u001b[91m╸\u001b[0m\u001b[90m━━━━━━━━━━━━━━━━━━━━━━━━\u001b[0m \u001b[32m266.5/776.4 MB\u001b[0m \u001b[31m192.4 MB/s\u001b[0m eta \u001b[36m0:00:03\u001b[0m"
     ]
    },
    {
     "name": "stdout",
     "output_type": "stream",
     "text": [
      "\r",
      "\u001b[2K     \u001b[91m━━━━━━━━━━━━━\u001b[0m\u001b[90m╺\u001b[0m\u001b[90m━━━━━━━━━━━━━━━━━━━━━━━\u001b[0m \u001b[32m273.0/776.4 MB\u001b[0m \u001b[31m196.2 MB/s\u001b[0m eta \u001b[36m0:00:03\u001b[0m\r",
      "\u001b[2K     \u001b[91m━━━━━━━━━━━━━\u001b[0m\u001b[90m╺\u001b[0m\u001b[90m━━━━━━━━━━━━━━━━━━━━━━━\u001b[0m \u001b[32m280.8/776.4 MB\u001b[0m \u001b[31m209.7 MB/s\u001b[0m eta \u001b[36m0:00:03\u001b[0m"
     ]
    },
    {
     "name": "stdout",
     "output_type": "stream",
     "text": [
      "\r",
      "\u001b[2K     \u001b[91m━━━━━━━━━━━━━\u001b[0m\u001b[91m╸\u001b[0m\u001b[90m━━━━━━━━━━━━━━━━━━━━━━━\u001b[0m \u001b[32m286.8/776.4 MB\u001b[0m \u001b[31m189.9 MB/s\u001b[0m eta \u001b[36m0:00:03\u001b[0m"
     ]
    },
    {
     "name": "stdout",
     "output_type": "stream",
     "text": [
      "\r",
      "\u001b[2K     \u001b[91m━━━━━━━━━━━━━\u001b[0m\u001b[91m╸\u001b[0m\u001b[90m━━━━━━━━━━━━━━━━━━━━━━━\u001b[0m \u001b[32m291.5/776.4 MB\u001b[0m \u001b[31m152.9 MB/s\u001b[0m eta \u001b[36m0:00:04\u001b[0m"
     ]
    },
    {
     "name": "stdout",
     "output_type": "stream",
     "text": [
      "\r",
      "\u001b[2K     \u001b[91m━━━━━━━━━━━━━━\u001b[0m\u001b[90m╺\u001b[0m\u001b[90m━━━━━━━━━━━━━━━━━━━━━━\u001b[0m \u001b[32m297.7/776.4 MB\u001b[0m \u001b[31m161.7 MB/s\u001b[0m eta \u001b[36m0:00:03\u001b[0m\r",
      "\u001b[2K     \u001b[91m━━━━━━━━━━━━━━\u001b[0m\u001b[90m╺\u001b[0m\u001b[90m━━━━━━━━━━━━━━━━━━━━━━\u001b[0m \u001b[32m302.9/776.4 MB\u001b[0m \u001b[31m159.6 MB/s\u001b[0m eta \u001b[36m0:00:03\u001b[0m"
     ]
    },
    {
     "name": "stdout",
     "output_type": "stream",
     "text": [
      "\r",
      "\u001b[2K     \u001b[91m━━━━━━━━━━━━━━\u001b[0m\u001b[91m╸\u001b[0m\u001b[90m━━━━━━━━━━━━━━━━━━━━━━\u001b[0m \u001b[32m308.0/776.4 MB\u001b[0m \u001b[31m148.6 MB/s\u001b[0m eta \u001b[36m0:00:04\u001b[0m"
     ]
    },
    {
     "name": "stdout",
     "output_type": "stream",
     "text": [
      "\r",
      "\u001b[2K     \u001b[91m━━━━━━━━━━━━━━\u001b[0m\u001b[91m╸\u001b[0m\u001b[90m━━━━━━━━━━━━━━━━━━━━━━\u001b[0m \u001b[32m313.2/776.4 MB\u001b[0m \u001b[31m150.2 MB/s\u001b[0m eta \u001b[36m0:00:04\u001b[0m\r",
      "\u001b[2K     \u001b[91m━━━━━━━━━━━━━━━\u001b[0m\u001b[90m╺\u001b[0m\u001b[90m━━━━━━━━━━━━━━━━━━━━━\u001b[0m \u001b[32m317.9/776.4 MB\u001b[0m \u001b[31m140.0 MB/s\u001b[0m eta \u001b[36m0:00:04\u001b[0m"
     ]
    },
    {
     "name": "stdout",
     "output_type": "stream",
     "text": [
      "\r",
      "\u001b[2K     \u001b[91m━━━━━━━━━━━━━━━\u001b[0m\u001b[90m╺\u001b[0m\u001b[90m━━━━━━━━━━━━━━━━━━━━━\u001b[0m \u001b[32m323.0/776.4 MB\u001b[0m \u001b[31m136.4 MB/s\u001b[0m eta \u001b[36m0:00:04\u001b[0m"
     ]
    },
    {
     "name": "stdout",
     "output_type": "stream",
     "text": [
      "\r",
      "\u001b[2K     \u001b[91m━━━━━━━━━━━━━━━\u001b[0m\u001b[91m╸\u001b[0m\u001b[90m━━━━━━━━━━━━━━━━━━━━━\u001b[0m \u001b[32m328.7/776.4 MB\u001b[0m \u001b[31m154.8 MB/s\u001b[0m eta \u001b[36m0:00:03\u001b[0m\r",
      "\u001b[2K     \u001b[91m━━━━━━━━━━━━━━━\u001b[0m\u001b[91m╸\u001b[0m\u001b[90m━━━━━━━━━━━━━━━━━━━━━\u001b[0m \u001b[32m334.4/776.4 MB\u001b[0m \u001b[31m161.2 MB/s\u001b[0m eta \u001b[36m0:00:03\u001b[0m"
     ]
    },
    {
     "name": "stdout",
     "output_type": "stream",
     "text": [
      "\r",
      "\u001b[2K     \u001b[91m━━━━━━━━━━━━━━━━\u001b[0m\u001b[90m╺\u001b[0m\u001b[90m━━━━━━━━━━━━━━━━━━━━\u001b[0m \u001b[32m339.5/776.4 MB\u001b[0m \u001b[31m151.5 MB/s\u001b[0m eta \u001b[36m0:00:03\u001b[0m"
     ]
    },
    {
     "name": "stdout",
     "output_type": "stream",
     "text": [
      "\r",
      "\u001b[2K     \u001b[91m━━━━━━━━━━━━━━━━\u001b[0m\u001b[90m╺\u001b[0m\u001b[90m━━━━━━━━━━━━━━━━━━━━\u001b[0m \u001b[32m344.5/776.4 MB\u001b[0m \u001b[31m140.0 MB/s\u001b[0m eta \u001b[36m0:00:04\u001b[0m\r",
      "\u001b[2K     \u001b[91m━━━━━━━━━━━━━━━━\u001b[0m\u001b[91m╸\u001b[0m\u001b[90m━━━━━━━━━━━━━━━━━━━━\u001b[0m \u001b[32m350.7/776.4 MB\u001b[0m \u001b[31m161.2 MB/s\u001b[0m eta \u001b[36m0:00:03\u001b[0m"
     ]
    },
    {
     "name": "stdout",
     "output_type": "stream",
     "text": [
      "\r",
      "\u001b[2K     \u001b[91m━━━━━━━━━━━━━━━━\u001b[0m\u001b[91m╸\u001b[0m\u001b[90m━━━━━━━━━━━━━━━━━━━━\u001b[0m \u001b[32m356.6/776.4 MB\u001b[0m \u001b[31m175.7 MB/s\u001b[0m eta \u001b[36m0:00:03\u001b[0m"
     ]
    },
    {
     "name": "stdout",
     "output_type": "stream",
     "text": [
      "\r",
      "\u001b[2K     \u001b[91m━━━━━━━━━━━━━━━━━\u001b[0m\u001b[90m╺\u001b[0m\u001b[90m━━━━━━━━━━━━━━━━━━━\u001b[0m \u001b[32m362.8/776.4 MB\u001b[0m \u001b[31m185.1 MB/s\u001b[0m eta \u001b[36m0:00:03\u001b[0m"
     ]
    },
    {
     "name": "stdout",
     "output_type": "stream",
     "text": [
      "\r",
      "\u001b[2K     \u001b[91m━━━━━━━━━━━━━━━━━\u001b[0m\u001b[91m╸\u001b[0m\u001b[90m━━━━━━━━━━━━━━━━━━━\u001b[0m \u001b[32m367.8/776.4 MB\u001b[0m \u001b[31m158.0 MB/s\u001b[0m eta \u001b[36m0:00:03\u001b[0m\r",
      "\u001b[2K     \u001b[91m━━━━━━━━━━━━━━━━━\u001b[0m\u001b[91m╸\u001b[0m\u001b[90m━━━━━━━━━━━━━━━━━━━\u001b[0m \u001b[32m374.5/776.4 MB\u001b[0m \u001b[31m165.9 MB/s\u001b[0m eta \u001b[36m0:00:03\u001b[0m"
     ]
    },
    {
     "name": "stdout",
     "output_type": "stream",
     "text": [
      "\r",
      "\u001b[2K     \u001b[91m━━━━━━━━━━━━━━━━━━\u001b[0m\u001b[90m╺\u001b[0m\u001b[90m━━━━━━━━━━━━━━━━━━\u001b[0m \u001b[32m379.6/776.4 MB\u001b[0m \u001b[31m161.8 MB/s\u001b[0m eta \u001b[36m0:00:03\u001b[0m"
     ]
    },
    {
     "name": "stdout",
     "output_type": "stream",
     "text": [
      "\r",
      "\u001b[2K     \u001b[91m━━━━━━━━━━━━━━━━━━\u001b[0m\u001b[90m╺\u001b[0m\u001b[90m━━━━━━━━━━━━━━━━━━\u001b[0m \u001b[32m386.0/776.4 MB\u001b[0m \u001b[31m153.9 MB/s\u001b[0m eta \u001b[36m0:00:03\u001b[0m"
     ]
    },
    {
     "name": "stdout",
     "output_type": "stream",
     "text": [
      "\r",
      "\u001b[2K     \u001b[91m━━━━━━━━━━━━━━━━━━\u001b[0m\u001b[91m╸\u001b[0m\u001b[90m━━━━━━━━━━━━━━━━━━\u001b[0m \u001b[32m393.6/776.4 MB\u001b[0m \u001b[31m195.0 MB/s\u001b[0m eta \u001b[36m0:00:02\u001b[0m"
     ]
    },
    {
     "name": "stdout",
     "output_type": "stream",
     "text": [
      "\r",
      "\u001b[2K     \u001b[91m━━━━━━━━━━━━━━━━━━━\u001b[0m\u001b[90m╺\u001b[0m\u001b[90m━━━━━━━━━━━━━━━━━\u001b[0m \u001b[32m401.1/776.4 MB\u001b[0m \u001b[31m168.7 MB/s\u001b[0m eta \u001b[36m0:00:03\u001b[0m\r",
      "\u001b[2K     \u001b[91m━━━━━━━━━━━━━━━━━━━\u001b[0m\u001b[90m╺\u001b[0m\u001b[90m━━━━━━━━━━━━━━━━━\u001b[0m \u001b[32m408.0/776.4 MB\u001b[0m \u001b[31m199.2 MB/s\u001b[0m eta \u001b[36m0:00:02\u001b[0m"
     ]
    },
    {
     "name": "stdout",
     "output_type": "stream",
     "text": [
      "\r",
      "\u001b[2K     \u001b[91m━━━━━━━━━━━━━━━━━━━\u001b[0m\u001b[91m╸\u001b[0m\u001b[90m━━━━━━━━━━━━━━━━━\u001b[0m \u001b[32m414.0/776.4 MB\u001b[0m \u001b[31m176.4 MB/s\u001b[0m eta \u001b[36m0:00:03\u001b[0m"
     ]
    },
    {
     "name": "stdout",
     "output_type": "stream",
     "text": [
      "\r",
      "\u001b[2K     \u001b[91m━━━━━━━━━━━━━━━━━━━━\u001b[0m\u001b[90m╺\u001b[0m\u001b[90m━━━━━━━━━━━━━━━━\u001b[0m \u001b[32m420.9/776.4 MB\u001b[0m \u001b[31m186.0 MB/s\u001b[0m eta \u001b[36m0:00:02\u001b[0m\r",
      "\u001b[2K     \u001b[91m━━━━━━━━━━━━━━━━━━━━\u001b[0m\u001b[90m╺\u001b[0m\u001b[90m━━━━━━━━━━━━━━━━\u001b[0m \u001b[32m427.8/776.4 MB\u001b[0m \u001b[31m197.8 MB/s\u001b[0m eta \u001b[36m0:00:02\u001b[0m"
     ]
    },
    {
     "name": "stdout",
     "output_type": "stream",
     "text": [
      "\r",
      "\u001b[2K     \u001b[91m━━━━━━━━━━━━━━━━━━━━\u001b[0m\u001b[91m╸\u001b[0m\u001b[90m━━━━━━━━━━━━━━━━\u001b[0m \u001b[32m433.1/776.4 MB\u001b[0m \u001b[31m172.5 MB/s\u001b[0m eta \u001b[36m0:00:02\u001b[0m"
     ]
    },
    {
     "name": "stdout",
     "output_type": "stream",
     "text": [
      "\r",
      "\u001b[2K     \u001b[91m━━━━━━━━━━━━━━━━━━━━\u001b[0m\u001b[91m╸\u001b[0m\u001b[90m━━━━━━━━━━━━━━━━\u001b[0m \u001b[32m438.4/776.4 MB\u001b[0m \u001b[31m158.6 MB/s\u001b[0m eta \u001b[36m0:00:03\u001b[0m\r",
      "\u001b[2K     \u001b[91m━━━━━━━━━━━━━━━━━━━━\u001b[0m\u001b[91m╸\u001b[0m\u001b[90m━━━━━━━━━━━━━━━━\u001b[0m \u001b[32m440.2/776.4 MB\u001b[0m \u001b[31m116.8 MB/s\u001b[0m eta \u001b[36m0:00:03\u001b[0m"
     ]
    },
    {
     "name": "stdout",
     "output_type": "stream",
     "text": [
      "\r",
      "\u001b[2K     \u001b[91m━━━━━━━━━━━━━━━━━━━━━\u001b[0m\u001b[90m╺\u001b[0m\u001b[90m━━━━━━━━━━━━━━━\u001b[0m \u001b[32m446.4/776.4 MB\u001b[0m \u001b[31m117.2 MB/s\u001b[0m eta \u001b[36m0:00:03\u001b[0m"
     ]
    },
    {
     "name": "stdout",
     "output_type": "stream",
     "text": [
      "\r",
      "\u001b[2K     \u001b[91m━━━━━━━━━━━━━━━━━━━━━\u001b[0m\u001b[91m╸\u001b[0m\u001b[90m━━━━━━━━━━━━━━━\u001b[0m \u001b[32m453.6/776.4 MB\u001b[0m \u001b[31m174.2 MB/s\u001b[0m eta \u001b[36m0:00:02\u001b[0m"
     ]
    },
    {
     "name": "stdout",
     "output_type": "stream",
     "text": [
      "\r",
      "\u001b[2K     \u001b[91m━━━━━━━━━━━━━━━━━━━━━\u001b[0m\u001b[91m╸\u001b[0m\u001b[90m━━━━━━━━━━━━━━━\u001b[0m \u001b[32m461.0/776.4 MB\u001b[0m \u001b[31m191.4 MB/s\u001b[0m eta \u001b[36m0:00:02\u001b[0m\r",
      "\u001b[2K     \u001b[91m━━━━━━━━━━━━━━━━━━━━━━\u001b[0m\u001b[90m╺\u001b[0m\u001b[90m━━━━━━━━━━━━━━\u001b[0m \u001b[32m466.2/776.4 MB\u001b[0m \u001b[31m173.9 MB/s\u001b[0m eta \u001b[36m0:00:02\u001b[0m"
     ]
    },
    {
     "name": "stdout",
     "output_type": "stream",
     "text": [
      "\r",
      "\u001b[2K     \u001b[91m━━━━━━━━━━━━━━━━━━━━━━\u001b[0m\u001b[90m╺\u001b[0m\u001b[90m━━━━━━━━━━━━━━\u001b[0m \u001b[32m471.9/776.4 MB\u001b[0m \u001b[31m163.1 MB/s\u001b[0m eta \u001b[36m0:00:02\u001b[0m"
     ]
    },
    {
     "name": "stdout",
     "output_type": "stream",
     "text": [
      "\r",
      "\u001b[2K     \u001b[91m━━━━━━━━━━━━━━━━━━━━━━\u001b[0m\u001b[91m╸\u001b[0m\u001b[90m━━━━━━━━━━━━━━\u001b[0m \u001b[32m477.8/776.4 MB\u001b[0m \u001b[31m170.7 MB/s\u001b[0m eta \u001b[36m0:00:02\u001b[0m"
     ]
    },
    {
     "name": "stdout",
     "output_type": "stream",
     "text": [
      "\r",
      "\u001b[2K     \u001b[91m━━━━━━━━━━━━━━━━━━━━━━━\u001b[0m\u001b[90m╺\u001b[0m\u001b[90m━━━━━━━━━━━━━\u001b[0m \u001b[32m484.1/776.4 MB\u001b[0m \u001b[31m172.9 MB/s\u001b[0m eta \u001b[36m0:00:02\u001b[0m\r",
      "\u001b[2K     \u001b[91m━━━━━━━━━━━━━━━━━━━━━━━\u001b[0m\u001b[90m╺\u001b[0m\u001b[90m━━━━━━━━━━━━━\u001b[0m \u001b[32m491.1/776.4 MB\u001b[0m \u001b[31m194.1 MB/s\u001b[0m eta \u001b[36m0:00:02\u001b[0m"
     ]
    },
    {
     "name": "stdout",
     "output_type": "stream",
     "text": [
      "\r",
      "\u001b[2K     \u001b[91m━━━━━━━━━━━━━━━━━━━━━━━\u001b[0m\u001b[91m╸\u001b[0m\u001b[90m━━━━━━━━━━━━━\u001b[0m \u001b[32m497.4/776.4 MB\u001b[0m \u001b[31m185.6 MB/s\u001b[0m eta \u001b[36m0:00:02\u001b[0m"
     ]
    },
    {
     "name": "stdout",
     "output_type": "stream",
     "text": [
      "\r",
      "\u001b[2K     \u001b[91m━━━━━━━━━━━━━━━━━━━━━━━━\u001b[0m\u001b[90m╺\u001b[0m\u001b[90m━━━━━━━━━━━━\u001b[0m \u001b[32m503.7/776.4 MB\u001b[0m \u001b[31m175.0 MB/s\u001b[0m eta \u001b[36m0:00:02\u001b[0m\r",
      "\u001b[2K     \u001b[91m━━━━━━━━━━━━━━━━━━━━━━━━\u001b[0m\u001b[90m╺\u001b[0m\u001b[90m━━━━━━━━━━━━\u001b[0m \u001b[32m509.7/776.4 MB\u001b[0m \u001b[31m169.3 MB/s\u001b[0m eta \u001b[36m0:00:02\u001b[0m"
     ]
    },
    {
     "name": "stdout",
     "output_type": "stream",
     "text": [
      "\r",
      "\u001b[2K     \u001b[91m━━━━━━━━━━━━━━━━━━━━━━━━\u001b[0m\u001b[91m╸\u001b[0m\u001b[90m━━━━━━━━━━━━\u001b[0m \u001b[32m515.1/776.4 MB\u001b[0m \u001b[31m161.9 MB/s\u001b[0m eta \u001b[36m0:00:02\u001b[0m"
     ]
    },
    {
     "name": "stdout",
     "output_type": "stream",
     "text": [
      "\r",
      "\u001b[2K     \u001b[91m━━━━━━━━━━━━━━━━━━━━━━━━\u001b[0m\u001b[91m╸\u001b[0m\u001b[90m━━━━━━━━━━━━\u001b[0m \u001b[32m521.3/776.4 MB\u001b[0m \u001b[31m163.9 MB/s\u001b[0m eta \u001b[36m0:00:02\u001b[0m\r",
      "\u001b[2K     \u001b[91m━━━━━━━━━━━━━━━━━━━━━━━━━\u001b[0m\u001b[90m╺\u001b[0m\u001b[90m━━━━━━━━━━━\u001b[0m \u001b[32m528.8/776.4 MB\u001b[0m \u001b[31m202.0 MB/s\u001b[0m eta \u001b[36m0:00:02\u001b[0m"
     ]
    },
    {
     "name": "stdout",
     "output_type": "stream",
     "text": [
      "\r",
      "\u001b[2K     \u001b[91m━━━━━━━━━━━━━━━━━━━━━━━━━\u001b[0m\u001b[90m╺\u001b[0m\u001b[90m━━━━━━━━━━━\u001b[0m \u001b[32m533.4/776.4 MB\u001b[0m \u001b[31m168.3 MB/s\u001b[0m eta \u001b[36m0:00:02\u001b[0m"
     ]
    },
    {
     "name": "stdout",
     "output_type": "stream",
     "text": [
      "\r",
      "\u001b[2K     \u001b[91m━━━━━━━━━━━━━━━━━━━━━━━━━\u001b[0m\u001b[91m╸\u001b[0m\u001b[90m━━━━━━━━━━━\u001b[0m \u001b[32m539.4/776.4 MB\u001b[0m \u001b[31m148.5 MB/s\u001b[0m eta \u001b[36m0:00:02\u001b[0m"
     ]
    },
    {
     "name": "stdout",
     "output_type": "stream",
     "text": [
      "\r",
      "\u001b[2K     \u001b[91m━━━━━━━━━━━━━━━━━━━━━━━━━\u001b[0m\u001b[91m╸\u001b[0m\u001b[90m━━━━━━━━━━━\u001b[0m \u001b[32m544.3/776.4 MB\u001b[0m \u001b[31m155.2 MB/s\u001b[0m eta \u001b[36m0:00:02\u001b[0m\r",
      "\u001b[2K     \u001b[91m━━━━━━━━━━━━━━━━━━━━━━━━━━\u001b[0m\u001b[90m╺\u001b[0m\u001b[90m━━━━━━━━━━\u001b[0m \u001b[32m549.9/776.4 MB\u001b[0m \u001b[31m150.2 MB/s\u001b[0m eta \u001b[36m0:00:02\u001b[0m"
     ]
    },
    {
     "name": "stdout",
     "output_type": "stream",
     "text": [
      "\r",
      "\u001b[2K     \u001b[91m━━━━━━━━━━━━━━━━━━━━━━━━━━\u001b[0m\u001b[91m╸\u001b[0m\u001b[90m━━━━━━━━━━\u001b[0m \u001b[32m556.2/776.4 MB\u001b[0m \u001b[31m172.6 MB/s\u001b[0m eta \u001b[36m0:00:02\u001b[0m"
     ]
    },
    {
     "name": "stdout",
     "output_type": "stream",
     "text": [
      "\r",
      "\u001b[2K     \u001b[91m━━━━━━━━━━━━━━━━━━━━━━━━━━\u001b[0m\u001b[91m╸\u001b[0m\u001b[90m━━━━━━━━━━\u001b[0m \u001b[32m561.5/776.4 MB\u001b[0m \u001b[31m161.8 MB/s\u001b[0m eta \u001b[36m0:00:02\u001b[0m\r",
      "\u001b[2K     \u001b[91m━━━━━━━━━━━━━━━━━━━━━━━━━━━\u001b[0m\u001b[90m╺\u001b[0m\u001b[90m━━━━━━━━━\u001b[0m \u001b[32m567.4/776.4 MB\u001b[0m \u001b[31m162.3 MB/s\u001b[0m eta \u001b[36m0:00:02\u001b[0m"
     ]
    },
    {
     "name": "stdout",
     "output_type": "stream",
     "text": [
      "\r",
      "\u001b[2K     \u001b[91m━━━━━━━━━━━━━━━━━━━━━━━━━━━\u001b[0m\u001b[90m╺\u001b[0m\u001b[90m━━━━━━━━━\u001b[0m \u001b[32m574.7/776.4 MB\u001b[0m \u001b[31m198.0 MB/s\u001b[0m eta \u001b[36m0:00:02\u001b[0m"
     ]
    },
    {
     "name": "stdout",
     "output_type": "stream",
     "text": [
      "\r",
      "\u001b[2K     \u001b[91m━━━━━━━━━━━━━━━━━━━━━━━━━━━\u001b[0m\u001b[91m╸\u001b[0m\u001b[90m━━━━━━━━━\u001b[0m \u001b[32m580.8/776.4 MB\u001b[0m \u001b[31m189.4 MB/s\u001b[0m eta \u001b[36m0:00:02\u001b[0m\r",
      "\u001b[2K     \u001b[91m━━━━━━━━━━━━━━━━━━━━━━━━━━━━\u001b[0m\u001b[90m╺\u001b[0m\u001b[90m━━━━━━━━\u001b[0m \u001b[32m587.6/776.4 MB\u001b[0m \u001b[31m178.9 MB/s\u001b[0m eta \u001b[36m0:00:02\u001b[0m"
     ]
    },
    {
     "name": "stdout",
     "output_type": "stream",
     "text": [
      "\r",
      "\u001b[2K     \u001b[91m━━━━━━━━━━━━━━━━━━━━━━━━━━━━\u001b[0m\u001b[90m╺\u001b[0m\u001b[90m━━━━━━━━\u001b[0m \u001b[32m592.5/776.4 MB\u001b[0m \u001b[31m166.3 MB/s\u001b[0m eta \u001b[36m0:00:02\u001b[0m"
     ]
    },
    {
     "name": "stdout",
     "output_type": "stream",
     "text": [
      "\r",
      "\u001b[2K     \u001b[91m━━━━━━━━━━━━━━━━━━━━━━━━━━━━\u001b[0m\u001b[91m╸\u001b[0m\u001b[90m━━━━━━━━\u001b[0m \u001b[32m598.3/776.4 MB\u001b[0m \u001b[31m168.7 MB/s\u001b[0m eta \u001b[36m0:00:02\u001b[0m\r",
      "\u001b[2K     \u001b[91m━━━━━━━━━━━━━━━━━━━━━━━━━━━━\u001b[0m\u001b[91m╸\u001b[0m\u001b[90m━━━━━━━━\u001b[0m \u001b[32m605.3/776.4 MB\u001b[0m \u001b[31m194.7 MB/s\u001b[0m eta \u001b[36m0:00:01\u001b[0m"
     ]
    },
    {
     "name": "stdout",
     "output_type": "stream",
     "text": [
      "\r",
      "\u001b[2K     \u001b[91m━━━━━━━━━━━━━━━━━━━━━━━━━━━━━\u001b[0m\u001b[90m╺\u001b[0m\u001b[90m━━━━━━━\u001b[0m \u001b[32m608.6/776.4 MB\u001b[0m \u001b[31m147.7 MB/s\u001b[0m eta \u001b[36m0:00:02\u001b[0m"
     ]
    },
    {
     "name": "stdout",
     "output_type": "stream",
     "text": [
      "\r",
      "\u001b[2K     \u001b[91m━━━━━━━━━━━━━━━━━━━━━━━━━━━━━\u001b[0m\u001b[90m╺\u001b[0m\u001b[90m━━━━━━━\u001b[0m \u001b[32m615.4/776.4 MB\u001b[0m \u001b[31m141.9 MB/s\u001b[0m eta \u001b[36m0:00:02\u001b[0m"
     ]
    },
    {
     "name": "stdout",
     "output_type": "stream",
     "text": [
      "\r",
      "\u001b[2K     \u001b[91m━━━━━━━━━━━━━━━━━━━━━━━━━━━━━\u001b[0m\u001b[91m╸\u001b[0m\u001b[90m━━━━━━━\u001b[0m \u001b[32m621.0/776.4 MB\u001b[0m \u001b[31m182.9 MB/s\u001b[0m eta \u001b[36m0:00:01\u001b[0m\r",
      "\u001b[2K     \u001b[91m━━━━━━━━━━━━━━━━━━━━━━━━━━━━━\u001b[0m\u001b[91m╸\u001b[0m\u001b[90m━━━━━━━\u001b[0m \u001b[32m627.6/776.4 MB\u001b[0m \u001b[31m166.9 MB/s\u001b[0m eta \u001b[36m0:00:01\u001b[0m"
     ]
    },
    {
     "name": "stdout",
     "output_type": "stream",
     "text": [
      "\r",
      "\u001b[2K     \u001b[91m━━━━━━━━━━━━━━━━━━━━━━━━━━━━━━\u001b[0m\u001b[90m╺\u001b[0m\u001b[90m━━━━━━\u001b[0m \u001b[32m632.0/776.4 MB\u001b[0m \u001b[31m157.1 MB/s\u001b[0m eta \u001b[36m0:00:01\u001b[0m"
     ]
    },
    {
     "name": "stdout",
     "output_type": "stream",
     "text": [
      "\r",
      "\u001b[2K     \u001b[91m━━━━━━━━━━━━━━━━━━━━━━━━━━━━━━\u001b[0m\u001b[90m╺\u001b[0m\u001b[90m━━━━━━\u001b[0m \u001b[32m636.8/776.4 MB\u001b[0m \u001b[31m133.4 MB/s\u001b[0m eta \u001b[36m0:00:02\u001b[0m\r",
      "\u001b[2K     \u001b[91m━━━━━━━━━━━━━━━━━━━━━━━━━━━━━━\u001b[0m\u001b[91m╸\u001b[0m\u001b[90m━━━━━━\u001b[0m \u001b[32m642.8/776.4 MB\u001b[0m \u001b[31m152.9 MB/s\u001b[0m eta \u001b[36m0:00:01\u001b[0m"
     ]
    },
    {
     "name": "stdout",
     "output_type": "stream",
     "text": [
      "\r",
      "\u001b[2K     \u001b[91m━━━━━━━━━━━━━━━━━━━━━━━━━━━━━━\u001b[0m\u001b[91m╸\u001b[0m\u001b[90m━━━━━━\u001b[0m \u001b[32m649.1/776.4 MB\u001b[0m \u001b[31m173.8 MB/s\u001b[0m eta \u001b[36m0:00:01\u001b[0m"
     ]
    },
    {
     "name": "stdout",
     "output_type": "stream",
     "text": [
      "\r",
      "\u001b[2K     \u001b[91m━━━━━━━━━━━━━━━━━━━━━━━━━━━━━━━\u001b[0m\u001b[90m╺\u001b[0m\u001b[90m━━━━━\u001b[0m \u001b[32m655.2/776.4 MB\u001b[0m \u001b[31m173.2 MB/s\u001b[0m eta \u001b[36m0:00:01\u001b[0m\r",
      "\u001b[2K     \u001b[91m━━━━━━━━━━━━━━━━━━━━━━━━━━━━━━━\u001b[0m\u001b[90m╺\u001b[0m\u001b[90m━━━━━\u001b[0m \u001b[32m660.4/776.4 MB\u001b[0m \u001b[31m159.1 MB/s\u001b[0m eta \u001b[36m0:00:01\u001b[0m"
     ]
    },
    {
     "name": "stdout",
     "output_type": "stream",
     "text": [
      "\r",
      "\u001b[2K     \u001b[91m━━━━━━━━━━━━━━━━━━━━━━━━━━━━━━━\u001b[0m\u001b[91m╸\u001b[0m\u001b[90m━━━━━\u001b[0m \u001b[32m666.4/776.4 MB\u001b[0m \u001b[31m160.0 MB/s\u001b[0m eta \u001b[36m0:00:01\u001b[0m"
     ]
    },
    {
     "name": "stdout",
     "output_type": "stream",
     "text": [
      "\r",
      "\u001b[2K     \u001b[91m━━━━━━━━━━━━━━━━━━━━━━━━━━━━━━━━\u001b[0m\u001b[90m╺\u001b[0m\u001b[90m━━━━\u001b[0m \u001b[32m672.5/776.4 MB\u001b[0m \u001b[31m174.3 MB/s\u001b[0m eta \u001b[36m0:00:01\u001b[0m"
     ]
    },
    {
     "name": "stdout",
     "output_type": "stream",
     "text": [
      "\r",
      "\u001b[2K     \u001b[91m━━━━━━━━━━━━━━━━━━━━━━━━━━━━━━━━\u001b[0m\u001b[90m╺\u001b[0m\u001b[90m━━━━\u001b[0m \u001b[32m678.2/776.4 MB\u001b[0m \u001b[31m166.6 MB/s\u001b[0m eta \u001b[36m0:00:01\u001b[0m\r",
      "\u001b[2K     \u001b[91m━━━━━━━━━━━━━━━━━━━━━━━━━━━━━━━━\u001b[0m\u001b[91m╸\u001b[0m\u001b[90m━━━━\u001b[0m \u001b[32m684.3/776.4 MB\u001b[0m \u001b[31m170.5 MB/s\u001b[0m eta \u001b[36m0:00:01\u001b[0m"
     ]
    },
    {
     "name": "stdout",
     "output_type": "stream",
     "text": [
      "\r",
      "\u001b[2K     \u001b[91m━━━━━━━━━━━━━━━━━━━━━━━━━━━━━━━━\u001b[0m\u001b[91m╸\u001b[0m\u001b[90m━━━━\u001b[0m \u001b[32m690.1/776.4 MB\u001b[0m \u001b[31m189.3 MB/s\u001b[0m eta \u001b[36m0:00:01\u001b[0m"
     ]
    },
    {
     "name": "stdout",
     "output_type": "stream",
     "text": [
      "\r",
      "\u001b[2K     \u001b[91m━━━━━━━━━━━━━━━━━━━━━━━━━━━━━━━━━\u001b[0m\u001b[90m╺\u001b[0m\u001b[90m━━━\u001b[0m \u001b[32m696.0/776.4 MB\u001b[0m \u001b[31m161.8 MB/s\u001b[0m eta \u001b[36m0:00:01\u001b[0m\r",
      "\u001b[2K     \u001b[91m━━━━━━━━━━━━━━━━━━━━━━━━━━━━━━━━━\u001b[0m\u001b[90m╺\u001b[0m\u001b[90m━━━\u001b[0m \u001b[32m702.0/776.4 MB\u001b[0m \u001b[31m165.1 MB/s\u001b[0m eta \u001b[36m0:00:01\u001b[0m"
     ]
    },
    {
     "name": "stdout",
     "output_type": "stream",
     "text": [
      "\r",
      "\u001b[2K     \u001b[91m━━━━━━━━━━━━━━━━━━━━━━━━━━━━━━━━━\u001b[0m\u001b[91m╸\u001b[0m\u001b[90m━━━\u001b[0m \u001b[32m707.9/776.4 MB\u001b[0m \u001b[31m165.4 MB/s\u001b[0m eta \u001b[36m0:00:01\u001b[0m"
     ]
    },
    {
     "name": "stdout",
     "output_type": "stream",
     "text": [
      "\r",
      "\u001b[2K     \u001b[91m━━━━━━━━━━━━━━━━━━━━━━━━━━━━━━━━━━\u001b[0m\u001b[90m╺\u001b[0m\u001b[90m━━\u001b[0m \u001b[32m713.9/776.4 MB\u001b[0m \u001b[31m169.9 MB/s\u001b[0m eta \u001b[36m0:00:01\u001b[0m"
     ]
    },
    {
     "name": "stdout",
     "output_type": "stream",
     "text": [
      "\r",
      "\u001b[2K     \u001b[91m━━━━━━━━━━━━━━━━━━━━━━━━━━━━━━━━━━\u001b[0m\u001b[90m╺\u001b[0m\u001b[90m━━\u001b[0m \u001b[32m719.6/776.4 MB\u001b[0m \u001b[31m167.2 MB/s\u001b[0m eta \u001b[36m0:00:01\u001b[0m\r",
      "\u001b[2K     \u001b[91m━━━━━━━━━━━━━━━━━━━━━━━━━━━━━━━━━━\u001b[0m\u001b[91m╸\u001b[0m\u001b[90m━━\u001b[0m \u001b[32m724.2/776.4 MB\u001b[0m \u001b[31m146.0 MB/s\u001b[0m eta \u001b[36m0:00:01\u001b[0m"
     ]
    },
    {
     "name": "stdout",
     "output_type": "stream",
     "text": [
      "\r",
      "\u001b[2K     \u001b[91m━━━━━━━━━━━━━━━━━━━━━━━━━━━━━━━━━━\u001b[0m\u001b[91m╸\u001b[0m\u001b[90m━━\u001b[0m \u001b[32m730.2/776.4 MB\u001b[0m \u001b[31m149.1 MB/s\u001b[0m eta \u001b[36m0:00:01\u001b[0m"
     ]
    },
    {
     "name": "stdout",
     "output_type": "stream",
     "text": [
      "\r",
      "\u001b[2K     \u001b[91m━━━━━━━━━━━━━━━━━━━━━━━━━━━━━━━━━━━\u001b[0m\u001b[90m╺\u001b[0m\u001b[90m━\u001b[0m \u001b[32m736.0/776.4 MB\u001b[0m \u001b[31m167.2 MB/s\u001b[0m eta \u001b[36m0:00:01\u001b[0m"
     ]
    },
    {
     "name": "stdout",
     "output_type": "stream",
     "text": [
      "\r",
      "\u001b[2K     \u001b[91m━━━━━━━━━━━━━━━━━━━━━━━━━━━━━━━━━━━\u001b[0m\u001b[90m╺\u001b[0m\u001b[90m━\u001b[0m \u001b[32m741.8/776.4 MB\u001b[0m \u001b[31m150.3 MB/s\u001b[0m eta \u001b[36m0:00:01\u001b[0m\r",
      "\u001b[2K     \u001b[91m━━━━━━━━━━━━━━━━━━━━━━━━━━━━━━━━━━━\u001b[0m\u001b[91m╸\u001b[0m\u001b[90m━\u001b[0m \u001b[32m748.9/776.4 MB\u001b[0m \u001b[31m189.4 MB/s\u001b[0m eta \u001b[36m0:00:01\u001b[0m"
     ]
    },
    {
     "name": "stdout",
     "output_type": "stream",
     "text": [
      "\r",
      "\u001b[2K     \u001b[91m━━━━━━━━━━━━━━━━━━━━━━━━━━━━━━━━━━━\u001b[0m\u001b[91m╸\u001b[0m\u001b[90m━\u001b[0m \u001b[32m753.7/776.4 MB\u001b[0m \u001b[31m168.8 MB/s\u001b[0m eta \u001b[36m0:00:01\u001b[0m"
     ]
    },
    {
     "name": "stdout",
     "output_type": "stream",
     "text": [
      "\r",
      "\u001b[2K     \u001b[91m━━━━━━━━━━━━━━━━━━━━━━━━━━━━━━━━━━━━\u001b[0m\u001b[90m╺\u001b[0m \u001b[32m759.0/776.4 MB\u001b[0m \u001b[31m140.7 MB/s\u001b[0m eta \u001b[36m0:00:01\u001b[0m\r",
      "\u001b[2K     \u001b[91m━━━━━━━━━━━━━━━━━━━━━━━━━━━━━━━━━━━━\u001b[0m\u001b[90m╺\u001b[0m \u001b[32m765.2/776.4 MB\u001b[0m \u001b[31m169.3 MB/s\u001b[0m eta \u001b[36m0:00:01\u001b[0m"
     ]
    },
    {
     "name": "stdout",
     "output_type": "stream",
     "text": [
      "\r",
      "\u001b[2K     \u001b[91m━━━━━━━━━━━━━━━━━━━━━━━━━━━━━━━━━━━━\u001b[0m\u001b[91m╸\u001b[0m \u001b[32m770.4/776.4 MB\u001b[0m \u001b[31m162.7 MB/s\u001b[0m eta \u001b[36m0:00:01\u001b[0m"
     ]
    },
    {
     "name": "stdout",
     "output_type": "stream",
     "text": [
      "\r",
      "\u001b[2K     \u001b[91m━━━━━━━━━━━━━━━━━━━━━━━━━━━━━━━━━━━━\u001b[0m\u001b[91m╸\u001b[0m \u001b[32m776.3/776.4 MB\u001b[0m \u001b[31m170.3 MB/s\u001b[0m eta \u001b[36m0:00:01\u001b[0m\r",
      "\u001b[2K     \u001b[91m━━━━━━━━━━━━━━━━━━━━━━━━━━━━━━━━━━━━\u001b[0m\u001b[91m╸\u001b[0m \u001b[32m776.3/776.4 MB\u001b[0m \u001b[31m170.3 MB/s\u001b[0m eta \u001b[36m0:00:01\u001b[0m"
     ]
    },
    {
     "name": "stdout",
     "output_type": "stream",
     "text": [
      "\r",
      "\u001b[2K     \u001b[91m━━━━━━━━━━━━━━━━━━━━━━━━━━━━━━━━━━━━\u001b[0m\u001b[91m╸\u001b[0m \u001b[32m776.3/776.4 MB\u001b[0m \u001b[31m170.3 MB/s\u001b[0m eta \u001b[36m0:00:01\u001b[0m"
     ]
    },
    {
     "name": "stdout",
     "output_type": "stream",
     "text": [
      "\r",
      "\u001b[2K     \u001b[91m━━━━━━━━━━━━━━━━━━━━━━━━━━━━━━━━━━━━\u001b[0m\u001b[91m╸\u001b[0m \u001b[32m776.3/776.4 MB\u001b[0m \u001b[31m170.3 MB/s\u001b[0m eta \u001b[36m0:00:01\u001b[0m\r",
      "\u001b[2K     \u001b[91m━━━━━━━━━━━━━━━━━━━━━━━━━━━━━━━━━━━━\u001b[0m\u001b[91m╸\u001b[0m \u001b[32m776.3/776.4 MB\u001b[0m \u001b[31m170.3 MB/s\u001b[0m eta \u001b[36m0:00:01\u001b[0m"
     ]
    },
    {
     "name": "stdout",
     "output_type": "stream",
     "text": [
      "\r",
      "\u001b[2K     \u001b[91m━━━━━━━━━━━━━━━━━━━━━━━━━━━━━━━━━━━━\u001b[0m\u001b[91m╸\u001b[0m \u001b[32m776.3/776.4 MB\u001b[0m \u001b[31m170.3 MB/s\u001b[0m eta \u001b[36m0:00:01\u001b[0m"
     ]
    },
    {
     "name": "stdout",
     "output_type": "stream",
     "text": [
      "\r",
      "\u001b[2K     \u001b[91m━━━━━━━━━━━━━━━━━━━━━━━━━━━━━━━━━━━━\u001b[0m\u001b[91m╸\u001b[0m \u001b[32m776.3/776.4 MB\u001b[0m \u001b[31m170.3 MB/s\u001b[0m eta \u001b[36m0:00:01\u001b[0m"
     ]
    },
    {
     "name": "stdout",
     "output_type": "stream",
     "text": [
      "\r",
      "\u001b[2K     \u001b[91m━━━━━━━━━━━━━━━━━━━━━━━━━━━━━━━━━━━━\u001b[0m\u001b[91m╸\u001b[0m \u001b[32m776.3/776.4 MB\u001b[0m \u001b[31m170.3 MB/s\u001b[0m eta \u001b[36m0:00:01\u001b[0m\r",
      "\u001b[2K     \u001b[91m━━━━━━━━━━━━━━━━━━━━━━━━━━━━━━━━━━━━\u001b[0m\u001b[91m╸\u001b[0m \u001b[32m776.3/776.4 MB\u001b[0m \u001b[31m170.3 MB/s\u001b[0m eta \u001b[36m0:00:01\u001b[0m"
     ]
    },
    {
     "name": "stdout",
     "output_type": "stream",
     "text": [
      "\r",
      "\u001b[2K     \u001b[91m━━━━━━━━━━━━━━━━━━━━━━━━━━━━━━━━━━━━\u001b[0m\u001b[91m╸\u001b[0m \u001b[32m776.3/776.4 MB\u001b[0m \u001b[31m170.3 MB/s\u001b[0m eta \u001b[36m0:00:01\u001b[0m"
     ]
    },
    {
     "name": "stdout",
     "output_type": "stream",
     "text": [
      "\r",
      "\u001b[2K     \u001b[91m━━━━━━━━━━━━━━━━━━━━━━━━━━━━━━━━━━━━\u001b[0m\u001b[91m╸\u001b[0m \u001b[32m776.3/776.4 MB\u001b[0m \u001b[31m170.3 MB/s\u001b[0m eta \u001b[36m0:00:01\u001b[0m\r",
      "\u001b[2K     \u001b[91m━━━━━━━━━━━━━━━━━━━━━━━━━━━━━━━━━━━━\u001b[0m\u001b[91m╸\u001b[0m \u001b[32m776.3/776.4 MB\u001b[0m \u001b[31m170.3 MB/s\u001b[0m eta \u001b[36m0:00:01\u001b[0m"
     ]
    },
    {
     "name": "stdout",
     "output_type": "stream",
     "text": [
      "\r",
      "\u001b[2K     \u001b[91m━━━━━━━━━━━━━━━━━━━━━━━━━━━━━━━━━━━━\u001b[0m\u001b[91m╸\u001b[0m \u001b[32m776.3/776.4 MB\u001b[0m \u001b[31m170.3 MB/s\u001b[0m eta \u001b[36m0:00:01\u001b[0m"
     ]
    },
    {
     "name": "stdout",
     "output_type": "stream",
     "text": [
      "\r",
      "\u001b[2K     \u001b[91m━━━━━━━━━━━━━━━━━━━━━━━━━━━━━━━━━━━━\u001b[0m\u001b[91m╸\u001b[0m \u001b[32m776.3/776.4 MB\u001b[0m \u001b[31m170.3 MB/s\u001b[0m eta \u001b[36m0:00:01\u001b[0m"
     ]
    },
    {
     "name": "stdout",
     "output_type": "stream",
     "text": [
      "\r",
      "\u001b[2K     \u001b[91m━━━━━━━━━━━━━━━━━━━━━━━━━━━━━━━━━━━━\u001b[0m\u001b[91m╸\u001b[0m \u001b[32m776.3/776.4 MB\u001b[0m \u001b[31m170.3 MB/s\u001b[0m eta \u001b[36m0:00:01\u001b[0m\r",
      "\u001b[2K     \u001b[91m━━━━━━━━━━━━━━━━━━━━━━━━━━━━━━━━━━━━\u001b[0m\u001b[91m╸\u001b[0m \u001b[32m776.3/776.4 MB\u001b[0m \u001b[31m170.3 MB/s\u001b[0m eta \u001b[36m0:00:01\u001b[0m"
     ]
    },
    {
     "name": "stdout",
     "output_type": "stream",
     "text": [
      "\r",
      "\u001b[2K     \u001b[91m━━━━━━━━━━━━━━━━━━━━━━━━━━━━━━━━━━━━\u001b[0m\u001b[91m╸\u001b[0m \u001b[32m776.3/776.4 MB\u001b[0m \u001b[31m170.3 MB/s\u001b[0m eta \u001b[36m0:00:01\u001b[0m"
     ]
    },
    {
     "name": "stdout",
     "output_type": "stream",
     "text": [
      "\r",
      "\u001b[2K     \u001b[91m━━━━━━━━━━━━━━━━━━━━━━━━━━━━━━━━━━━━\u001b[0m\u001b[91m╸\u001b[0m \u001b[32m776.3/776.4 MB\u001b[0m \u001b[31m170.3 MB/s\u001b[0m eta \u001b[36m0:00:01\u001b[0m\r",
      "\u001b[2K     \u001b[91m━━━━━━━━━━━━━━━━━━━━━━━━━━━━━━━━━━━━\u001b[0m\u001b[91m╸\u001b[0m \u001b[32m776.3/776.4 MB\u001b[0m \u001b[31m170.3 MB/s\u001b[0m eta \u001b[36m0:00:01\u001b[0m"
     ]
    },
    {
     "name": "stdout",
     "output_type": "stream",
     "text": [
      "\r",
      "\u001b[2K     \u001b[91m━━━━━━━━━━━━━━━━━━━━━━━━━━━━━━━━━━━━\u001b[0m\u001b[91m╸\u001b[0m \u001b[32m776.3/776.4 MB\u001b[0m \u001b[31m170.3 MB/s\u001b[0m eta \u001b[36m0:00:01\u001b[0m"
     ]
    },
    {
     "name": "stdout",
     "output_type": "stream",
     "text": [
      "\r",
      "\u001b[2K     \u001b[91m━━━━━━━━━━━━━━━━━━━━━━━━━━━━━━━━━━━━\u001b[0m\u001b[91m╸\u001b[0m \u001b[32m776.3/776.4 MB\u001b[0m \u001b[31m170.3 MB/s\u001b[0m eta \u001b[36m0:00:01\u001b[0m"
     ]
    },
    {
     "name": "stdout",
     "output_type": "stream",
     "text": [
      "\r",
      "\u001b[2K     \u001b[91m━━━━━━━━━━━━━━━━━━━━━━━━━━━━━━━━━━━━\u001b[0m\u001b[91m╸\u001b[0m \u001b[32m776.3/776.4 MB\u001b[0m \u001b[31m170.3 MB/s\u001b[0m eta \u001b[36m0:00:01\u001b[0m"
     ]
    },
    {
     "name": "stdout",
     "output_type": "stream",
     "text": [
      "\r",
      "\u001b[2K     \u001b[91m━━━━━━━━━━━━━━━━━━━━━━━━━━━━━━━━━━━━\u001b[0m\u001b[91m╸\u001b[0m \u001b[32m776.3/776.4 MB\u001b[0m \u001b[31m170.3 MB/s\u001b[0m eta \u001b[36m0:00:01\u001b[0m\r",
      "\u001b[2K     \u001b[91m━━━━━━━━━━━━━━━━━━━━━━━━━━━━━━━━━━━━\u001b[0m\u001b[91m╸\u001b[0m \u001b[32m776.3/776.4 MB\u001b[0m \u001b[31m170.3 MB/s\u001b[0m eta \u001b[36m0:00:01\u001b[0m"
     ]
    },
    {
     "name": "stdout",
     "output_type": "stream",
     "text": [
      "\r",
      "\u001b[2K     \u001b[91m━━━━━━━━━━━━━━━━━━━━━━━━━━━━━━━━━━━━\u001b[0m\u001b[91m╸\u001b[0m \u001b[32m776.3/776.4 MB\u001b[0m \u001b[31m170.3 MB/s\u001b[0m eta \u001b[36m0:00:01\u001b[0m"
     ]
    },
    {
     "name": "stdout",
     "output_type": "stream",
     "text": [
      "\r",
      "\u001b[2K     \u001b[91m━━━━━━━━━━━━━━━━━━━━━━━━━━━━━━━━━━━━\u001b[0m\u001b[91m╸\u001b[0m \u001b[32m776.3/776.4 MB\u001b[0m \u001b[31m170.3 MB/s\u001b[0m eta \u001b[36m0:00:01\u001b[0m"
     ]
    },
    {
     "name": "stdout",
     "output_type": "stream",
     "text": [
      "\r",
      "\u001b[2K     \u001b[91m━━━━━━━━━━━━━━━━━━━━━━━━━━━━━━━━━━━━\u001b[0m\u001b[91m╸\u001b[0m \u001b[32m776.3/776.4 MB\u001b[0m \u001b[31m170.3 MB/s\u001b[0m eta \u001b[36m0:00:01\u001b[0m\r",
      "\u001b[2K     \u001b[91m━━━━━━━━━━━━━━━━━━━━━━━━━━━━━━━━━━━━\u001b[0m\u001b[91m╸\u001b[0m \u001b[32m776.3/776.4 MB\u001b[0m \u001b[31m170.3 MB/s\u001b[0m eta \u001b[36m0:00:01\u001b[0m"
     ]
    },
    {
     "name": "stdout",
     "output_type": "stream",
     "text": [
      "\r",
      "\u001b[2K     \u001b[91m━━━━━━━━━━━━━━━━━━━━━━━━━━━━━━━━━━━━\u001b[0m\u001b[91m╸\u001b[0m \u001b[32m776.3/776.4 MB\u001b[0m \u001b[31m170.3 MB/s\u001b[0m eta \u001b[36m0:00:01\u001b[0m\r",
      "\u001b[2K     \u001b[91m━━━━━━━━━━━━━━━━━━━━━━━━━━━━━━━━━━━━\u001b[0m\u001b[91m╸\u001b[0m \u001b[32m776.3/776.4 MB\u001b[0m \u001b[31m170.3 MB/s\u001b[0m eta \u001b[36m0:00:01\u001b[0m"
     ]
    },
    {
     "name": "stdout",
     "output_type": "stream",
     "text": [
      "\r",
      "\u001b[2K     \u001b[91m━━━━━━━━━━━━━━━━━━━━━━━━━━━━━━━━━━━━\u001b[0m\u001b[91m╸\u001b[0m \u001b[32m776.3/776.4 MB\u001b[0m \u001b[31m170.3 MB/s\u001b[0m eta \u001b[36m0:00:01\u001b[0m"
     ]
    },
    {
     "name": "stdout",
     "output_type": "stream",
     "text": [
      "\r",
      "\u001b[2K     \u001b[91m━━━━━━━━━━━━━━━━━━━━━━━━━━━━━━━━━━━━\u001b[0m\u001b[91m╸\u001b[0m \u001b[32m776.3/776.4 MB\u001b[0m \u001b[31m170.3 MB/s\u001b[0m eta \u001b[36m0:00:01\u001b[0m"
     ]
    },
    {
     "name": "stdout",
     "output_type": "stream",
     "text": [
      "\r",
      "\u001b[2K     \u001b[91m━━━━━━━━━━━━━━━━━━━━━━━━━━━━━━━━━━━━\u001b[0m\u001b[91m╸\u001b[0m \u001b[32m776.3/776.4 MB\u001b[0m \u001b[31m170.3 MB/s\u001b[0m eta \u001b[36m0:00:01\u001b[0m\r",
      "\u001b[2K     \u001b[91m━━━━━━━━━━━━━━━━━━━━━━━━━━━━━━━━━━━━\u001b[0m\u001b[91m╸\u001b[0m \u001b[32m776.3/776.4 MB\u001b[0m \u001b[31m170.3 MB/s\u001b[0m eta \u001b[36m0:00:01\u001b[0m"
     ]
    },
    {
     "name": "stdout",
     "output_type": "stream",
     "text": [
      "\r",
      "\u001b[2K     \u001b[91m━━━━━━━━━━━━━━━━━━━━━━━━━━━━━━━━━━━━\u001b[0m\u001b[91m╸\u001b[0m \u001b[32m776.3/776.4 MB\u001b[0m \u001b[31m170.3 MB/s\u001b[0m eta \u001b[36m0:00:01\u001b[0m"
     ]
    },
    {
     "name": "stdout",
     "output_type": "stream",
     "text": [
      "\r",
      "\u001b[2K     \u001b[91m━━━━━━━━━━━━━━━━━━━━━━━━━━━━━━━━━━━━\u001b[0m\u001b[91m╸\u001b[0m \u001b[32m776.3/776.4 MB\u001b[0m \u001b[31m170.3 MB/s\u001b[0m eta \u001b[36m0:00:01\u001b[0m\r",
      "\u001b[2K     \u001b[91m━━━━━━━━━━━━━━━━━━━━━━━━━━━━━━━━━━━━\u001b[0m\u001b[91m╸\u001b[0m \u001b[32m776.3/776.4 MB\u001b[0m \u001b[31m170.3 MB/s\u001b[0m eta \u001b[36m0:00:01\u001b[0m"
     ]
    },
    {
     "name": "stdout",
     "output_type": "stream",
     "text": [
      "\r",
      "\u001b[2K     \u001b[91m━━━━━━━━━━━━━━━━━━━━━━━━━━━━━━━━━━━━\u001b[0m\u001b[91m╸\u001b[0m \u001b[32m776.3/776.4 MB\u001b[0m \u001b[31m170.3 MB/s\u001b[0m eta \u001b[36m0:00:01\u001b[0m"
     ]
    },
    {
     "name": "stdout",
     "output_type": "stream",
     "text": [
      "\r",
      "\u001b[2K     \u001b[91m━━━━━━━━━━━━━━━━━━━━━━━━━━━━━━━━━━━━\u001b[0m\u001b[91m╸\u001b[0m \u001b[32m776.3/776.4 MB\u001b[0m \u001b[31m170.3 MB/s\u001b[0m eta \u001b[36m0:00:01\u001b[0m\r",
      "\u001b[2K     \u001b[91m━━━━━━━━━━━━━━━━━━━━━━━━━━━━━━━━━━━━\u001b[0m\u001b[91m╸\u001b[0m \u001b[32m776.3/776.4 MB\u001b[0m \u001b[31m170.3 MB/s\u001b[0m eta \u001b[36m0:00:01\u001b[0m"
     ]
    },
    {
     "name": "stdout",
     "output_type": "stream",
     "text": [
      "\r",
      "\u001b[2K     \u001b[91m━━━━━━━━━━━━━━━━━━━━━━━━━━━━━━━━━━━━\u001b[0m\u001b[91m╸\u001b[0m \u001b[32m776.3/776.4 MB\u001b[0m \u001b[31m170.3 MB/s\u001b[0m eta \u001b[36m0:00:01\u001b[0m"
     ]
    },
    {
     "name": "stdout",
     "output_type": "stream",
     "text": [
      "\r",
      "\u001b[2K     \u001b[91m━━━━━━━━━━━━━━━━━━━━━━━━━━━━━━━━━━━━\u001b[0m\u001b[91m╸\u001b[0m \u001b[32m776.3/776.4 MB\u001b[0m \u001b[31m170.3 MB/s\u001b[0m eta \u001b[36m0:00:01\u001b[0m\r",
      "\u001b[2K     \u001b[91m━━━━━━━━━━━━━━━━━━━━━━━━━━━━━━━━━━━━\u001b[0m\u001b[91m╸\u001b[0m \u001b[32m776.3/776.4 MB\u001b[0m \u001b[31m170.3 MB/s\u001b[0m eta \u001b[36m0:00:01\u001b[0m"
     ]
    },
    {
     "name": "stdout",
     "output_type": "stream",
     "text": [
      "\r",
      "\u001b[2K     \u001b[91m━━━━━━━━━━━━━━━━━━━━━━━━━━━━━━━━━━━━\u001b[0m\u001b[91m╸\u001b[0m \u001b[32m776.3/776.4 MB\u001b[0m \u001b[31m170.3 MB/s\u001b[0m eta \u001b[36m0:00:01\u001b[0m"
     ]
    },
    {
     "name": "stdout",
     "output_type": "stream",
     "text": [
      "\r",
      "\u001b[2K     \u001b[91m━━━━━━━━━━━━━━━━━━━━━━━━━━━━━━━━━━━━\u001b[0m\u001b[91m╸\u001b[0m \u001b[32m776.3/776.4 MB\u001b[0m \u001b[31m170.3 MB/s\u001b[0m eta \u001b[36m0:00:01\u001b[0m"
     ]
    },
    {
     "name": "stdout",
     "output_type": "stream",
     "text": [
      "\r",
      "\u001b[2K     \u001b[91m━━━━━━━━━━━━━━━━━━━━━━━━━━━━━━━━━━━━\u001b[0m\u001b[91m╸\u001b[0m \u001b[32m776.3/776.4 MB\u001b[0m \u001b[31m170.3 MB/s\u001b[0m eta \u001b[36m0:00:01\u001b[0m\r",
      "\u001b[2K     \u001b[91m━━━━━━━━━━━━━━━━━━━━━━━━━━━━━━━━━━━━\u001b[0m\u001b[91m╸\u001b[0m \u001b[32m776.3/776.4 MB\u001b[0m \u001b[31m170.3 MB/s\u001b[0m eta \u001b[36m0:00:01\u001b[0m"
     ]
    },
    {
     "name": "stdout",
     "output_type": "stream",
     "text": [
      "\r",
      "\u001b[2K     \u001b[91m━━━━━━━━━━━━━━━━━━━━━━━━━━━━━━━━━━━━\u001b[0m\u001b[91m╸\u001b[0m \u001b[32m776.3/776.4 MB\u001b[0m \u001b[31m170.3 MB/s\u001b[0m eta \u001b[36m0:00:01\u001b[0m"
     ]
    },
    {
     "name": "stdout",
     "output_type": "stream",
     "text": [
      "\r",
      "\u001b[2K     \u001b[91m━━━━━━━━━━━━━━━━━━━━━━━━━━━━━━━━━━━━\u001b[0m\u001b[91m╸\u001b[0m \u001b[32m776.3/776.4 MB\u001b[0m \u001b[31m170.3 MB/s\u001b[0m eta \u001b[36m0:00:01\u001b[0m\r",
      "\u001b[2K     \u001b[91m━━━━━━━━━━━━━━━━━━━━━━━━━━━━━━━━━━━━\u001b[0m\u001b[91m╸\u001b[0m \u001b[32m776.3/776.4 MB\u001b[0m \u001b[31m170.3 MB/s\u001b[0m eta \u001b[36m0:00:01\u001b[0m"
     ]
    },
    {
     "name": "stdout",
     "output_type": "stream",
     "text": [
      "\r",
      "\u001b[2K     \u001b[91m━━━━━━━━━━━━━━━━━━━━━━━━━━━━━━━━━━━━\u001b[0m\u001b[91m╸\u001b[0m \u001b[32m776.3/776.4 MB\u001b[0m \u001b[31m170.3 MB/s\u001b[0m eta \u001b[36m0:00:01\u001b[0m"
     ]
    },
    {
     "name": "stdout",
     "output_type": "stream",
     "text": [
      "\r",
      "\u001b[2K     \u001b[91m━━━━━━━━━━━━━━━━━━━━━━━━━━━━━━━━━━━━\u001b[0m\u001b[91m╸\u001b[0m \u001b[32m776.3/776.4 MB\u001b[0m \u001b[31m170.3 MB/s\u001b[0m eta \u001b[36m0:00:01\u001b[0m\r",
      "\u001b[2K     \u001b[91m━━━━━━━━━━━━━━━━━━━━━━━━━━━━━━━━━━━━\u001b[0m\u001b[91m╸\u001b[0m \u001b[32m776.3/776.4 MB\u001b[0m \u001b[31m170.3 MB/s\u001b[0m eta \u001b[36m0:00:01\u001b[0m"
     ]
    },
    {
     "name": "stdout",
     "output_type": "stream",
     "text": [
      "\r",
      "\u001b[2K     \u001b[91m━━━━━━━━━━━━━━━━━━━━━━━━━━━━━━━━━━━━\u001b[0m\u001b[91m╸\u001b[0m \u001b[32m776.3/776.4 MB\u001b[0m \u001b[31m170.3 MB/s\u001b[0m eta \u001b[36m0:00:01\u001b[0m"
     ]
    },
    {
     "name": "stdout",
     "output_type": "stream",
     "text": [
      "\r",
      "\u001b[2K     \u001b[91m━━━━━━━━━━━━━━━━━━━━━━━━━━━━━━━━━━━━\u001b[0m\u001b[91m╸\u001b[0m \u001b[32m776.3/776.4 MB\u001b[0m \u001b[31m170.3 MB/s\u001b[0m eta \u001b[36m0:00:01\u001b[0m\r",
      "\u001b[2K     \u001b[91m━━━━━━━━━━━━━━━━━━━━━━━━━━━━━━━━━━━━\u001b[0m\u001b[91m╸\u001b[0m \u001b[32m776.3/776.4 MB\u001b[0m \u001b[31m170.3 MB/s\u001b[0m eta \u001b[36m0:00:01\u001b[0m"
     ]
    },
    {
     "name": "stdout",
     "output_type": "stream",
     "text": [
      "\r",
      "\u001b[2K     \u001b[91m━━━━━━━━━━━━━━━━━━━━━━━━━━━━━━━━━━━━\u001b[0m\u001b[91m╸\u001b[0m \u001b[32m776.3/776.4 MB\u001b[0m \u001b[31m170.3 MB/s\u001b[0m eta \u001b[36m0:00:01\u001b[0m"
     ]
    },
    {
     "name": "stdout",
     "output_type": "stream",
     "text": [
      "\r",
      "\u001b[2K     \u001b[91m━━━━━━━━━━━━━━━━━━━━━━━━━━━━━━━━━━━━\u001b[0m\u001b[91m╸\u001b[0m \u001b[32m776.3/776.4 MB\u001b[0m \u001b[31m170.3 MB/s\u001b[0m eta \u001b[36m0:00:01\u001b[0m"
     ]
    },
    {
     "name": "stdout",
     "output_type": "stream",
     "text": [
      "\r",
      "\u001b[2K     \u001b[91m━━━━━━━━━━━━━━━━━━━━━━━━━━━━━━━━━━━━\u001b[0m\u001b[91m╸\u001b[0m \u001b[32m776.3/776.4 MB\u001b[0m \u001b[31m170.3 MB/s\u001b[0m eta \u001b[36m0:00:01\u001b[0m\r",
      "\u001b[2K     \u001b[91m━━━━━━━━━━━━━━━━━━━━━━━━━━━━━━━━━━━━\u001b[0m\u001b[91m╸\u001b[0m \u001b[32m776.3/776.4 MB\u001b[0m \u001b[31m170.3 MB/s\u001b[0m eta \u001b[36m0:00:01\u001b[0m"
     ]
    },
    {
     "name": "stdout",
     "output_type": "stream",
     "text": [
      "\r",
      "\u001b[2K     \u001b[91m━━━━━━━━━━━━━━━━━━━━━━━━━━━━━━━━━━━━\u001b[0m\u001b[91m╸\u001b[0m \u001b[32m776.3/776.4 MB\u001b[0m \u001b[31m170.3 MB/s\u001b[0m eta \u001b[36m0:00:01\u001b[0m"
     ]
    },
    {
     "name": "stdout",
     "output_type": "stream",
     "text": [
      "\r",
      "\u001b[2K     \u001b[91m━━━━━━━━━━━━━━━━━━━━━━━━━━━━━━━━━━━━\u001b[0m\u001b[91m╸\u001b[0m \u001b[32m776.3/776.4 MB\u001b[0m \u001b[31m170.3 MB/s\u001b[0m eta \u001b[36m0:00:01\u001b[0m\r",
      "\u001b[2K     \u001b[91m━━━━━━━━━━━━━━━━━━━━━━━━━━━━━━━━━━━━\u001b[0m\u001b[91m╸\u001b[0m \u001b[32m776.3/776.4 MB\u001b[0m \u001b[31m170.3 MB/s\u001b[0m eta \u001b[36m0:00:01\u001b[0m"
     ]
    },
    {
     "name": "stdout",
     "output_type": "stream",
     "text": [
      "\r",
      "\u001b[2K     \u001b[91m━━━━━━━━━━━━━━━━━━━━━━━━━━━━━━━━━━━━\u001b[0m\u001b[91m╸\u001b[0m \u001b[32m776.3/776.4 MB\u001b[0m \u001b[31m170.3 MB/s\u001b[0m eta \u001b[36m0:00:01\u001b[0m"
     ]
    },
    {
     "name": "stdout",
     "output_type": "stream",
     "text": [
      "\r",
      "\u001b[2K     \u001b[91m━━━━━━━━━━━━━━━━━━━━━━━━━━━━━━━━━━━━\u001b[0m\u001b[91m╸\u001b[0m \u001b[32m776.3/776.4 MB\u001b[0m \u001b[31m170.3 MB/s\u001b[0m eta \u001b[36m0:00:01\u001b[0m\r",
      "\u001b[2K     \u001b[91m━━━━━━━━━━━━━━━━━━━━━━━━━━━━━━━━━━━━\u001b[0m\u001b[91m╸\u001b[0m \u001b[32m776.3/776.4 MB\u001b[0m \u001b[31m170.3 MB/s\u001b[0m eta \u001b[36m0:00:01\u001b[0m"
     ]
    },
    {
     "name": "stdout",
     "output_type": "stream",
     "text": [
      "\r",
      "\u001b[2K     \u001b[91m━━━━━━━━━━━━━━━━━━━━━━━━━━━━━━━━━━━━\u001b[0m\u001b[91m╸\u001b[0m \u001b[32m776.3/776.4 MB\u001b[0m \u001b[31m170.3 MB/s\u001b[0m eta \u001b[36m0:00:01\u001b[0m"
     ]
    },
    {
     "name": "stdout",
     "output_type": "stream",
     "text": [
      "\r",
      "\u001b[2K     \u001b[91m━━━━━━━━━━━━━━━━━━━━━━━━━━━━━━━━━━━━\u001b[0m\u001b[91m╸\u001b[0m \u001b[32m776.3/776.4 MB\u001b[0m \u001b[31m170.3 MB/s\u001b[0m eta \u001b[36m0:00:01\u001b[0m\r",
      "\u001b[2K     \u001b[91m━━━━━━━━━━━━━━━━━━━━━━━━━━━━━━━━━━━━\u001b[0m\u001b[91m╸\u001b[0m \u001b[32m776.3/776.4 MB\u001b[0m \u001b[31m170.3 MB/s\u001b[0m eta \u001b[36m0:00:01\u001b[0m"
     ]
    },
    {
     "name": "stdout",
     "output_type": "stream",
     "text": [
      "\r",
      "\u001b[2K     \u001b[91m━━━━━━━━━━━━━━━━━━━━━━━━━━━━━━━━━━━━\u001b[0m\u001b[91m╸\u001b[0m \u001b[32m776.3/776.4 MB\u001b[0m \u001b[31m170.3 MB/s\u001b[0m eta \u001b[36m0:00:01\u001b[0m"
     ]
    },
    {
     "name": "stdout",
     "output_type": "stream",
     "text": [
      "\r",
      "\u001b[2K     \u001b[91m━━━━━━━━━━━━━━━━━━━━━━━━━━━━━━━━━━━━\u001b[0m\u001b[91m╸\u001b[0m \u001b[32m776.3/776.4 MB\u001b[0m \u001b[31m170.3 MB/s\u001b[0m eta \u001b[36m0:00:01\u001b[0m"
     ]
    },
    {
     "name": "stdout",
     "output_type": "stream",
     "text": [
      "\r",
      "\u001b[2K     \u001b[91m━━━━━━━━━━━━━━━━━━━━━━━━━━━━━━━━━━━━\u001b[0m\u001b[91m╸\u001b[0m \u001b[32m776.3/776.4 MB\u001b[0m \u001b[31m170.3 MB/s\u001b[0m eta \u001b[36m0:00:01\u001b[0m\r",
      "\u001b[2K     \u001b[91m━━━━━━━━━━━━━━━━━━━━━━━━━━━━━━━━━━━━\u001b[0m\u001b[91m╸\u001b[0m \u001b[32m776.3/776.4 MB\u001b[0m \u001b[31m170.3 MB/s\u001b[0m eta \u001b[36m0:00:01\u001b[0m"
     ]
    },
    {
     "name": "stdout",
     "output_type": "stream",
     "text": [
      "\r",
      "\u001b[2K     \u001b[91m━━━━━━━━━━━━━━━━━━━━━━━━━━━━━━━━━━━━\u001b[0m\u001b[91m╸\u001b[0m \u001b[32m776.3/776.4 MB\u001b[0m \u001b[31m170.3 MB/s\u001b[0m eta \u001b[36m0:00:01\u001b[0m"
     ]
    },
    {
     "name": "stdout",
     "output_type": "stream",
     "text": [
      "\r",
      "\u001b[2K     \u001b[91m━━━━━━━━━━━━━━━━━━━━━━━━━━━━━━━━━━━━\u001b[0m\u001b[91m╸\u001b[0m \u001b[32m776.3/776.4 MB\u001b[0m \u001b[31m170.3 MB/s\u001b[0m eta \u001b[36m0:00:01\u001b[0m\r",
      "\u001b[2K     \u001b[91m━━━━━━━━━━━━━━━━━━━━━━━━━━━━━━━━━━━━\u001b[0m\u001b[91m╸\u001b[0m \u001b[32m776.3/776.4 MB\u001b[0m \u001b[31m170.3 MB/s\u001b[0m eta \u001b[36m0:00:01\u001b[0m"
     ]
    },
    {
     "name": "stdout",
     "output_type": "stream",
     "text": [
      "\r",
      "\u001b[2K     \u001b[91m━━━━━━━━━━━━━━━━━━━━━━━━━━━━━━━━━━━━\u001b[0m\u001b[91m╸\u001b[0m \u001b[32m776.3/776.4 MB\u001b[0m \u001b[31m170.3 MB/s\u001b[0m eta \u001b[36m0:00:01\u001b[0m"
     ]
    },
    {
     "name": "stdout",
     "output_type": "stream",
     "text": [
      "\r",
      "\u001b[2K     \u001b[91m━━━━━━━━━━━━━━━━━━━━━━━━━━━━━━━━━━━━\u001b[0m\u001b[91m╸\u001b[0m \u001b[32m776.3/776.4 MB\u001b[0m \u001b[31m170.3 MB/s\u001b[0m eta \u001b[36m0:00:01\u001b[0m\r",
      "\u001b[2K     \u001b[91m━━━━━━━━━━━━━━━━━━━━━━━━━━━━━━━━━━━━\u001b[0m\u001b[91m╸\u001b[0m \u001b[32m776.3/776.4 MB\u001b[0m \u001b[31m170.3 MB/s\u001b[0m eta \u001b[36m0:00:01\u001b[0m"
     ]
    },
    {
     "name": "stdout",
     "output_type": "stream",
     "text": [
      "\r",
      "\u001b[2K     \u001b[91m━━━━━━━━━━━━━━━━━━━━━━━━━━━━━━━━━━━━\u001b[0m\u001b[91m╸\u001b[0m \u001b[32m776.3/776.4 MB\u001b[0m \u001b[31m170.3 MB/s\u001b[0m eta \u001b[36m0:00:01\u001b[0m"
     ]
    },
    {
     "name": "stdout",
     "output_type": "stream",
     "text": [
      "\r",
      "\u001b[2K     \u001b[91m━━━━━━━━━━━━━━━━━━━━━━━━━━━━━━━━━━━━\u001b[0m\u001b[91m╸\u001b[0m \u001b[32m776.3/776.4 MB\u001b[0m \u001b[31m170.3 MB/s\u001b[0m eta \u001b[36m0:00:01\u001b[0m"
     ]
    },
    {
     "name": "stdout",
     "output_type": "stream",
     "text": [
      "\r",
      "\u001b[2K     \u001b[91m━━━━━━━━━━━━━━━━━━━━━━━━━━━━━━━━━━━━\u001b[0m\u001b[91m╸\u001b[0m \u001b[32m776.3/776.4 MB\u001b[0m \u001b[31m170.3 MB/s\u001b[0m eta \u001b[36m0:00:01\u001b[0m\r",
      "\u001b[2K     \u001b[91m━━━━━━━━━━━━━━━━━━━━━━━━━━━━━━━━━━━━\u001b[0m\u001b[91m╸\u001b[0m \u001b[32m776.3/776.4 MB\u001b[0m \u001b[31m170.3 MB/s\u001b[0m eta \u001b[36m0:00:01\u001b[0m"
     ]
    },
    {
     "name": "stdout",
     "output_type": "stream",
     "text": [
      "\r",
      "\u001b[2K     \u001b[91m━━━━━━━━━━━━━━━━━━━━━━━━━━━━━━━━━━━━\u001b[0m\u001b[91m╸\u001b[0m \u001b[32m776.3/776.4 MB\u001b[0m \u001b[31m170.3 MB/s\u001b[0m eta \u001b[36m0:00:01\u001b[0m"
     ]
    },
    {
     "name": "stdout",
     "output_type": "stream",
     "text": [
      "\r",
      "\u001b[2K     \u001b[91m━━━━━━━━━━━━━━━━━━━━━━━━━━━━━━━━━━━━\u001b[0m\u001b[91m╸\u001b[0m \u001b[32m776.3/776.4 MB\u001b[0m \u001b[31m170.3 MB/s\u001b[0m eta \u001b[36m0:00:01\u001b[0m\r",
      "\u001b[2K     \u001b[91m━━━━━━━━━━━━━━━━━━━━━━━━━━━━━━━━━━━━\u001b[0m\u001b[91m╸\u001b[0m \u001b[32m776.3/776.4 MB\u001b[0m \u001b[31m170.3 MB/s\u001b[0m eta \u001b[36m0:00:01\u001b[0m"
     ]
    },
    {
     "name": "stdout",
     "output_type": "stream",
     "text": [
      "\r",
      "\u001b[2K     \u001b[91m━━━━━━━━━━━━━━━━━━━━━━━━━━━━━━━━━━━━\u001b[0m\u001b[91m╸\u001b[0m \u001b[32m776.3/776.4 MB\u001b[0m \u001b[31m170.3 MB/s\u001b[0m eta \u001b[36m0:00:01\u001b[0m"
     ]
    },
    {
     "name": "stdout",
     "output_type": "stream",
     "text": [
      "\r",
      "\u001b[2K     \u001b[91m━━━━━━━━━━━━━━━━━━━━━━━━━━━━━━━━━━━━\u001b[0m\u001b[91m╸\u001b[0m \u001b[32m776.3/776.4 MB\u001b[0m \u001b[31m170.3 MB/s\u001b[0m eta \u001b[36m0:00:01\u001b[0m\r",
      "\u001b[2K     \u001b[91m━━━━━━━━━━━━━━━━━━━━━━━━━━━━━━━━━━━━\u001b[0m\u001b[91m╸\u001b[0m \u001b[32m776.3/776.4 MB\u001b[0m \u001b[31m170.3 MB/s\u001b[0m eta \u001b[36m0:00:01\u001b[0m"
     ]
    },
    {
     "name": "stdout",
     "output_type": "stream",
     "text": [
      "\r",
      "\u001b[2K     \u001b[91m━━━━━━━━━━━━━━━━━━━━━━━━━━━━━━━━━━━━\u001b[0m\u001b[91m╸\u001b[0m \u001b[32m776.3/776.4 MB\u001b[0m \u001b[31m170.3 MB/s\u001b[0m eta \u001b[36m0:00:01\u001b[0m"
     ]
    },
    {
     "name": "stdout",
     "output_type": "stream",
     "text": [
      "\r",
      "\u001b[2K     \u001b[91m━━━━━━━━━━━━━━━━━━━━━━━━━━━━━━━━━━━━\u001b[0m\u001b[91m╸\u001b[0m \u001b[32m776.3/776.4 MB\u001b[0m \u001b[31m170.3 MB/s\u001b[0m eta \u001b[36m0:00:01\u001b[0m"
     ]
    },
    {
     "name": "stdout",
     "output_type": "stream",
     "text": [
      "\r",
      "\u001b[2K     \u001b[91m━━━━━━━━━━━━━━━━━━━━━━━━━━━━━━━━━━━━\u001b[0m\u001b[91m╸\u001b[0m \u001b[32m776.3/776.4 MB\u001b[0m \u001b[31m170.3 MB/s\u001b[0m eta \u001b[36m0:00:01\u001b[0m\r",
      "\u001b[2K     \u001b[91m━━━━━━━━━━━━━━━━━━━━━━━━━━━━━━━━━━━━\u001b[0m\u001b[91m╸\u001b[0m \u001b[32m776.3/776.4 MB\u001b[0m \u001b[31m170.3 MB/s\u001b[0m eta \u001b[36m0:00:01\u001b[0m"
     ]
    },
    {
     "name": "stdout",
     "output_type": "stream",
     "text": [
      "\r",
      "\u001b[2K     \u001b[91m━━━━━━━━━━━━━━━━━━━━━━━━━━━━━━━━━━━━\u001b[0m\u001b[91m╸\u001b[0m \u001b[32m776.3/776.4 MB\u001b[0m \u001b[31m170.3 MB/s\u001b[0m eta \u001b[36m0:00:01\u001b[0m"
     ]
    },
    {
     "name": "stdout",
     "output_type": "stream",
     "text": [
      "\r",
      "\u001b[2K     \u001b[91m━━━━━━━━━━━━━━━━━━━━━━━━━━━━━━━━━━━━\u001b[0m\u001b[91m╸\u001b[0m \u001b[32m776.3/776.4 MB\u001b[0m \u001b[31m170.3 MB/s\u001b[0m eta \u001b[36m0:00:01\u001b[0m\r",
      "\u001b[2K     \u001b[91m━━━━━━━━━━━━━━━━━━━━━━━━━━━━━━━━━━━━\u001b[0m\u001b[91m╸\u001b[0m \u001b[32m776.3/776.4 MB\u001b[0m \u001b[31m170.3 MB/s\u001b[0m eta \u001b[36m0:00:01\u001b[0m"
     ]
    },
    {
     "name": "stdout",
     "output_type": "stream",
     "text": [
      "\r",
      "\u001b[2K     \u001b[91m━━━━━━━━━━━━━━━━━━━━━━━━━━━━━━━━━━━━\u001b[0m\u001b[91m╸\u001b[0m \u001b[32m776.3/776.4 MB\u001b[0m \u001b[31m170.3 MB/s\u001b[0m eta \u001b[36m0:00:01\u001b[0m"
     ]
    },
    {
     "name": "stdout",
     "output_type": "stream",
     "text": [
      "\r",
      "\u001b[2K     \u001b[91m━━━━━━━━━━━━━━━━━━━━━━━━━━━━━━━━━━━━\u001b[0m\u001b[91m╸\u001b[0m \u001b[32m776.3/776.4 MB\u001b[0m \u001b[31m170.3 MB/s\u001b[0m eta \u001b[36m0:00:01\u001b[0m\r",
      "\u001b[2K     \u001b[91m━━━━━━━━━━━━━━━━━━━━━━━━━━━━━━━━━━━━\u001b[0m\u001b[91m╸\u001b[0m \u001b[32m776.3/776.4 MB\u001b[0m \u001b[31m170.3 MB/s\u001b[0m eta \u001b[36m0:00:01\u001b[0m"
     ]
    },
    {
     "name": "stdout",
     "output_type": "stream",
     "text": [
      "\r",
      "\u001b[2K     \u001b[91m━━━━━━━━━━━━━━━━━━━━━━━━━━━━━━━━━━━━\u001b[0m\u001b[91m╸\u001b[0m \u001b[32m776.3/776.4 MB\u001b[0m \u001b[31m170.3 MB/s\u001b[0m eta \u001b[36m0:00:01\u001b[0m"
     ]
    },
    {
     "name": "stdout",
     "output_type": "stream",
     "text": [
      "\r",
      "\u001b[2K     \u001b[91m━━━━━━━━━━━━━━━━━━━━━━━━━━━━━━━━━━━━\u001b[0m\u001b[91m╸\u001b[0m \u001b[32m776.3/776.4 MB\u001b[0m \u001b[31m170.3 MB/s\u001b[0m eta \u001b[36m0:00:01\u001b[0m\r",
      "\u001b[2K     \u001b[91m━━━━━━━━━━━━━━━━━━━━━━━━━━━━━━━━━━━━\u001b[0m\u001b[91m╸\u001b[0m \u001b[32m776.3/776.4 MB\u001b[0m \u001b[31m170.3 MB/s\u001b[0m eta \u001b[36m0:00:01\u001b[0m"
     ]
    },
    {
     "name": "stdout",
     "output_type": "stream",
     "text": [
      "\r",
      "\u001b[2K     \u001b[91m━━━━━━━━━━━━━━━━━━━━━━━━━━━━━━━━━━━━\u001b[0m\u001b[91m╸\u001b[0m \u001b[32m776.3/776.4 MB\u001b[0m \u001b[31m170.3 MB/s\u001b[0m eta \u001b[36m0:00:01\u001b[0m"
     ]
    },
    {
     "name": "stdout",
     "output_type": "stream",
     "text": [
      "\r",
      "\u001b[2K     \u001b[91m━━━━━━━━━━━━━━━━━━━━━━━━━━━━━━━━━━━━\u001b[0m\u001b[91m╸\u001b[0m \u001b[32m776.3/776.4 MB\u001b[0m \u001b[31m170.3 MB/s\u001b[0m eta \u001b[36m0:00:01\u001b[0m\r",
      "\u001b[2K     \u001b[91m━━━━━━━━━━━━━━━━━━━━━━━━━━━━━━━━━━━━\u001b[0m\u001b[91m╸\u001b[0m \u001b[32m776.3/776.4 MB\u001b[0m \u001b[31m170.3 MB/s\u001b[0m eta \u001b[36m0:00:01\u001b[0m"
     ]
    },
    {
     "name": "stdout",
     "output_type": "stream",
     "text": [
      "\r",
      "\u001b[2K     \u001b[91m━━━━━━━━━━━━━━━━━━━━━━━━━━━━━━━━━━━━\u001b[0m\u001b[91m╸\u001b[0m \u001b[32m776.3/776.4 MB\u001b[0m \u001b[31m170.3 MB/s\u001b[0m eta \u001b[36m0:00:01\u001b[0m"
     ]
    },
    {
     "name": "stdout",
     "output_type": "stream",
     "text": [
      "\r",
      "\u001b[2K     \u001b[91m━━━━━━━━━━━━━━━━━━━━━━━━━━━━━━━━━━━━\u001b[0m\u001b[91m╸\u001b[0m \u001b[32m776.3/776.4 MB\u001b[0m \u001b[31m170.3 MB/s\u001b[0m eta \u001b[36m0:00:01\u001b[0m"
     ]
    },
    {
     "name": "stdout",
     "output_type": "stream",
     "text": [
      "\r",
      "\u001b[2K     \u001b[91m━━━━━━━━━━━━━━━━━━━━━━━━━━━━━━━━━━━━\u001b[0m\u001b[91m╸\u001b[0m \u001b[32m776.3/776.4 MB\u001b[0m \u001b[31m170.3 MB/s\u001b[0m eta \u001b[36m0:00:01\u001b[0m\r",
      "\u001b[2K     \u001b[91m━━━━━━━━━━━━━━━━━━━━━━━━━━━━━━━━━━━━\u001b[0m\u001b[91m╸\u001b[0m \u001b[32m776.3/776.4 MB\u001b[0m \u001b[31m170.3 MB/s\u001b[0m eta \u001b[36m0:00:01\u001b[0m"
     ]
    },
    {
     "name": "stdout",
     "output_type": "stream",
     "text": [
      "\r",
      "\u001b[2K     \u001b[91m━━━━━━━━━━━━━━━━━━━━━━━━━━━━━━━━━━━━\u001b[0m\u001b[91m╸\u001b[0m \u001b[32m776.3/776.4 MB\u001b[0m \u001b[31m170.3 MB/s\u001b[0m eta \u001b[36m0:00:01\u001b[0m"
     ]
    },
    {
     "name": "stdout",
     "output_type": "stream",
     "text": [
      "\r",
      "\u001b[2K     \u001b[91m━━━━━━━━━━━━━━━━━━━━━━━━━━━━━━━━━━━━\u001b[0m\u001b[91m╸\u001b[0m \u001b[32m776.3/776.4 MB\u001b[0m \u001b[31m170.3 MB/s\u001b[0m eta \u001b[36m0:00:01\u001b[0m\r",
      "\u001b[2K     \u001b[91m━━━━━━━━━━━━━━━━━━━━━━━━━━━━━━━━━━━━\u001b[0m\u001b[91m╸\u001b[0m \u001b[32m776.3/776.4 MB\u001b[0m \u001b[31m170.3 MB/s\u001b[0m eta \u001b[36m0:00:01\u001b[0m"
     ]
    },
    {
     "name": "stdout",
     "output_type": "stream",
     "text": [
      "\r",
      "\u001b[2K     \u001b[91m━━━━━━━━━━━━━━━━━━━━━━━━━━━━━━━━━━━━\u001b[0m\u001b[91m╸\u001b[0m \u001b[32m776.3/776.4 MB\u001b[0m \u001b[31m170.3 MB/s\u001b[0m eta \u001b[36m0:00:01\u001b[0m"
     ]
    },
    {
     "name": "stdout",
     "output_type": "stream",
     "text": [
      "\r",
      "\u001b[2K     \u001b[91m━━━━━━━━━━━━━━━━━━━━━━━━━━━━━━━━━━━━\u001b[0m\u001b[91m╸\u001b[0m \u001b[32m776.3/776.4 MB\u001b[0m \u001b[31m170.3 MB/s\u001b[0m eta \u001b[36m0:00:01\u001b[0m\r",
      "\u001b[2K     \u001b[91m━━━━━━━━━━━━━━━━━━━━━━━━━━━━━━━━━━━━\u001b[0m\u001b[91m╸\u001b[0m \u001b[32m776.3/776.4 MB\u001b[0m \u001b[31m170.3 MB/s\u001b[0m eta \u001b[36m0:00:01\u001b[0m"
     ]
    },
    {
     "name": "stdout",
     "output_type": "stream",
     "text": [
      "\r",
      "\u001b[2K     \u001b[91m━━━━━━━━━━━━━━━━━━━━━━━━━━━━━━━━━━━━\u001b[0m\u001b[91m╸\u001b[0m \u001b[32m776.3/776.4 MB\u001b[0m \u001b[31m170.3 MB/s\u001b[0m eta \u001b[36m0:00:01\u001b[0m"
     ]
    },
    {
     "name": "stdout",
     "output_type": "stream",
     "text": [
      "\r",
      "\u001b[2K     \u001b[91m━━━━━━━━━━━━━━━━━━━━━━━━━━━━━━━━━━━━\u001b[0m\u001b[91m╸\u001b[0m \u001b[32m776.3/776.4 MB\u001b[0m \u001b[31m170.3 MB/s\u001b[0m eta \u001b[36m0:00:01\u001b[0m"
     ]
    },
    {
     "name": "stdout",
     "output_type": "stream",
     "text": [
      "\r",
      "\u001b[2K     \u001b[91m━━━━━━━━━━━━━━━━━━━━━━━━━━━━━━━━━━━━\u001b[0m\u001b[91m╸\u001b[0m \u001b[32m776.3/776.4 MB\u001b[0m \u001b[31m170.3 MB/s\u001b[0m eta \u001b[36m0:00:01\u001b[0m\r",
      "\u001b[2K     \u001b[91m━━━━━━━━━━━━━━━━━━━━━━━━━━━━━━━━━━━━\u001b[0m\u001b[91m╸\u001b[0m \u001b[32m776.3/776.4 MB\u001b[0m \u001b[31m170.3 MB/s\u001b[0m eta \u001b[36m0:00:01\u001b[0m"
     ]
    },
    {
     "name": "stdout",
     "output_type": "stream",
     "text": [
      "\r",
      "\u001b[2K     \u001b[91m━━━━━━━━━━━━━━━━━━━━━━━━━━━━━━━━━━━━\u001b[0m\u001b[91m╸\u001b[0m \u001b[32m776.3/776.4 MB\u001b[0m \u001b[31m170.3 MB/s\u001b[0m eta \u001b[36m0:00:01\u001b[0m"
     ]
    },
    {
     "name": "stdout",
     "output_type": "stream",
     "text": [
      "\r",
      "\u001b[2K     \u001b[91m━━━━━━━━━━━━━━━━━━━━━━━━━━━━━━━━━━━━\u001b[0m\u001b[91m╸\u001b[0m \u001b[32m776.3/776.4 MB\u001b[0m \u001b[31m170.3 MB/s\u001b[0m eta \u001b[36m0:00:01\u001b[0m\r",
      "\u001b[2K     \u001b[91m━━━━━━━━━━━━━━━━━━━━━━━━━━━━━━━━━━━━\u001b[0m\u001b[91m╸\u001b[0m \u001b[32m776.3/776.4 MB\u001b[0m \u001b[31m170.3 MB/s\u001b[0m eta \u001b[36m0:00:01\u001b[0m"
     ]
    },
    {
     "name": "stdout",
     "output_type": "stream",
     "text": [
      "\r",
      "\u001b[2K     \u001b[91m━━━━━━━━━━━━━━━━━━━━━━━━━━━━━━━━━━━━\u001b[0m\u001b[91m╸\u001b[0m \u001b[32m776.3/776.4 MB\u001b[0m \u001b[31m170.3 MB/s\u001b[0m eta \u001b[36m0:00:01\u001b[0m"
     ]
    },
    {
     "name": "stdout",
     "output_type": "stream",
     "text": [
      "\r",
      "\u001b[2K     \u001b[91m━━━━━━━━━━━━━━━━━━━━━━━━━━━━━━━━━━━━\u001b[0m\u001b[91m╸\u001b[0m \u001b[32m776.3/776.4 MB\u001b[0m \u001b[31m170.3 MB/s\u001b[0m eta \u001b[36m0:00:01\u001b[0m\r",
      "\u001b[2K     \u001b[91m━━━━━━━━━━━━━━━━━━━━━━━━━━━━━━━━━━━━\u001b[0m\u001b[91m╸\u001b[0m \u001b[32m776.3/776.4 MB\u001b[0m \u001b[31m170.3 MB/s\u001b[0m eta \u001b[36m0:00:01\u001b[0m"
     ]
    },
    {
     "name": "stdout",
     "output_type": "stream",
     "text": [
      "\r",
      "\u001b[2K     \u001b[91m━━━━━━━━━━━━━━━━━━━━━━━━━━━━━━━━━━━━\u001b[0m\u001b[91m╸\u001b[0m \u001b[32m776.3/776.4 MB\u001b[0m \u001b[31m170.3 MB/s\u001b[0m eta \u001b[36m0:00:01\u001b[0m"
     ]
    },
    {
     "name": "stdout",
     "output_type": "stream",
     "text": [
      "\r",
      "\u001b[2K     \u001b[91m━━━━━━━━━━━━━━━━━━━━━━━━━━━━━━━━━━━━\u001b[0m\u001b[91m╸\u001b[0m \u001b[32m776.3/776.4 MB\u001b[0m \u001b[31m170.3 MB/s\u001b[0m eta \u001b[36m0:00:01\u001b[0m\r",
      "\u001b[2K     \u001b[91m━━━━━━━━━━━━━━━━━━━━━━━━━━━━━━━━━━━━\u001b[0m\u001b[91m╸\u001b[0m \u001b[32m776.3/776.4 MB\u001b[0m \u001b[31m170.3 MB/s\u001b[0m eta \u001b[36m0:00:01\u001b[0m"
     ]
    },
    {
     "name": "stdout",
     "output_type": "stream",
     "text": [
      "\r",
      "\u001b[2K     \u001b[91m━━━━━━━━━━━━━━━━━━━━━━━━━━━━━━━━━━━━\u001b[0m\u001b[91m╸\u001b[0m \u001b[32m776.3/776.4 MB\u001b[0m \u001b[31m170.3 MB/s\u001b[0m eta \u001b[36m0:00:01\u001b[0m"
     ]
    },
    {
     "name": "stdout",
     "output_type": "stream",
     "text": [
      "\r",
      "\u001b[2K     \u001b[91m━━━━━━━━━━━━━━━━━━━━━━━━━━━━━━━━━━━━\u001b[0m\u001b[91m╸\u001b[0m \u001b[32m776.3/776.4 MB\u001b[0m \u001b[31m170.3 MB/s\u001b[0m eta \u001b[36m0:00:01\u001b[0m"
     ]
    },
    {
     "name": "stdout",
     "output_type": "stream",
     "text": [
      "\r",
      "\u001b[2K     \u001b[91m━━━━━━━━━━━━━━━━━━━━━━━━━━━━━━━━━━━━\u001b[0m\u001b[91m╸\u001b[0m \u001b[32m776.3/776.4 MB\u001b[0m \u001b[31m170.3 MB/s\u001b[0m eta \u001b[36m0:00:01\u001b[0m\r",
      "\u001b[2K     \u001b[91m━━━━━━━━━━━━━━━━━━━━━━━━━━━━━━━━━━━━\u001b[0m\u001b[91m╸\u001b[0m \u001b[32m776.3/776.4 MB\u001b[0m \u001b[31m170.3 MB/s\u001b[0m eta \u001b[36m0:00:01\u001b[0m"
     ]
    },
    {
     "name": "stdout",
     "output_type": "stream",
     "text": [
      "\r",
      "\u001b[2K     \u001b[91m━━━━━━━━━━━━━━━━━━━━━━━━━━━━━━━━━━━━\u001b[0m\u001b[91m╸\u001b[0m \u001b[32m776.3/776.4 MB\u001b[0m \u001b[31m170.3 MB/s\u001b[0m eta \u001b[36m0:00:01\u001b[0m"
     ]
    },
    {
     "name": "stdout",
     "output_type": "stream",
     "text": [
      "\r",
      "\u001b[2K     \u001b[91m━━━━━━━━━━━━━━━━━━━━━━━━━━━━━━━━━━━━\u001b[0m\u001b[91m╸\u001b[0m \u001b[32m776.3/776.4 MB\u001b[0m \u001b[31m170.3 MB/s\u001b[0m eta \u001b[36m0:00:01\u001b[0m\r",
      "\u001b[2K     \u001b[91m━━━━━━━━━━━━━━━━━━━━━━━━━━━━━━━━━━━━\u001b[0m\u001b[91m╸\u001b[0m \u001b[32m776.3/776.4 MB\u001b[0m \u001b[31m170.3 MB/s\u001b[0m eta \u001b[36m0:00:01\u001b[0m"
     ]
    },
    {
     "name": "stdout",
     "output_type": "stream",
     "text": [
      "\r",
      "\u001b[2K     \u001b[91m━━━━━━━━━━━━━━━━━━━━━━━━━━━━━━━━━━━━\u001b[0m\u001b[91m╸\u001b[0m \u001b[32m776.3/776.4 MB\u001b[0m \u001b[31m170.3 MB/s\u001b[0m eta \u001b[36m0:00:01\u001b[0m"
     ]
    },
    {
     "name": "stdout",
     "output_type": "stream",
     "text": [
      "\r",
      "\u001b[2K     \u001b[91m━━━━━━━━━━━━━━━━━━━━━━━━━━━━━━━━━━━━\u001b[0m\u001b[91m╸\u001b[0m \u001b[32m776.3/776.4 MB\u001b[0m \u001b[31m170.3 MB/s\u001b[0m eta \u001b[36m0:00:01\u001b[0m\r",
      "\u001b[2K     \u001b[91m━━━━━━━━━━━━━━━━━━━━━━━━━━━━━━━━━━━━\u001b[0m\u001b[91m╸\u001b[0m \u001b[32m776.3/776.4 MB\u001b[0m \u001b[31m170.3 MB/s\u001b[0m eta \u001b[36m0:00:01\u001b[0m"
     ]
    },
    {
     "name": "stdout",
     "output_type": "stream",
     "text": [
      "\r",
      "\u001b[2K     \u001b[91m━━━━━━━━━━━━━━━━━━━━━━━━━━━━━━━━━━━━\u001b[0m\u001b[91m╸\u001b[0m \u001b[32m776.3/776.4 MB\u001b[0m \u001b[31m170.3 MB/s\u001b[0m eta \u001b[36m0:00:01\u001b[0m"
     ]
    },
    {
     "name": "stdout",
     "output_type": "stream",
     "text": [
      "\r",
      "\u001b[2K     \u001b[91m━━━━━━━━━━━━━━━━━━━━━━━━━━━━━━━━━━━━\u001b[0m\u001b[91m╸\u001b[0m \u001b[32m776.3/776.4 MB\u001b[0m \u001b[31m170.3 MB/s\u001b[0m eta \u001b[36m0:00:01\u001b[0m"
     ]
    },
    {
     "name": "stdout",
     "output_type": "stream",
     "text": [
      "\r",
      "\u001b[2K     \u001b[91m━━━━━━━━━━━━━━━━━━━━━━━━━━━━━━━━━━━━\u001b[0m\u001b[91m╸\u001b[0m \u001b[32m776.3/776.4 MB\u001b[0m \u001b[31m170.3 MB/s\u001b[0m eta \u001b[36m0:00:01\u001b[0m\r",
      "\u001b[2K     \u001b[91m━━━━━━━━━━━━━━━━━━━━━━━━━━━━━━━━━━━━\u001b[0m\u001b[91m╸\u001b[0m \u001b[32m776.3/776.4 MB\u001b[0m \u001b[31m170.3 MB/s\u001b[0m eta \u001b[36m0:00:01\u001b[0m"
     ]
    },
    {
     "name": "stdout",
     "output_type": "stream",
     "text": [
      "\r",
      "\u001b[2K     \u001b[91m━━━━━━━━━━━━━━━━━━━━━━━━━━━━━━━━━━━━\u001b[0m\u001b[91m╸\u001b[0m \u001b[32m776.3/776.4 MB\u001b[0m \u001b[31m170.3 MB/s\u001b[0m eta \u001b[36m0:00:01\u001b[0m"
     ]
    },
    {
     "name": "stdout",
     "output_type": "stream",
     "text": [
      "\r",
      "\u001b[2K     \u001b[91m━━━━━━━━━━━━━━━━━━━━━━━━━━━━━━━━━━━━\u001b[0m\u001b[91m╸\u001b[0m \u001b[32m776.3/776.4 MB\u001b[0m \u001b[31m170.3 MB/s\u001b[0m eta \u001b[36m0:00:01\u001b[0m\r",
      "\u001b[2K     \u001b[91m━━━━━━━━━━━━━━━━━━━━━━━━━━━━━━━━━━━━\u001b[0m\u001b[91m╸\u001b[0m \u001b[32m776.3/776.4 MB\u001b[0m \u001b[31m170.3 MB/s\u001b[0m eta \u001b[36m0:00:01\u001b[0m"
     ]
    },
    {
     "name": "stdout",
     "output_type": "stream",
     "text": [
      "\r",
      "\u001b[2K     \u001b[91m━━━━━━━━━━━━━━━━━━━━━━━━━━━━━━━━━━━━\u001b[0m\u001b[91m╸\u001b[0m \u001b[32m776.3/776.4 MB\u001b[0m \u001b[31m170.3 MB/s\u001b[0m eta \u001b[36m0:00:01\u001b[0m"
     ]
    },
    {
     "name": "stdout",
     "output_type": "stream",
     "text": [
      "\r",
      "\u001b[2K     \u001b[91m━━━━━━━━━━━━━━━━━━━━━━━━━━━━━━━━━━━━\u001b[0m\u001b[91m╸\u001b[0m \u001b[32m776.3/776.4 MB\u001b[0m \u001b[31m170.3 MB/s\u001b[0m eta \u001b[36m0:00:01\u001b[0m\r",
      "\u001b[2K     \u001b[91m━━━━━━━━━━━━━━━━━━━━━━━━━━━━━━━━━━━━\u001b[0m\u001b[91m╸\u001b[0m \u001b[32m776.3/776.4 MB\u001b[0m \u001b[31m170.3 MB/s\u001b[0m eta \u001b[36m0:00:01\u001b[0m"
     ]
    },
    {
     "name": "stdout",
     "output_type": "stream",
     "text": [
      "\r",
      "\u001b[2K     \u001b[91m━━━━━━━━━━━━━━━━━━━━━━━━━━━━━━━━━━━━\u001b[0m\u001b[91m╸\u001b[0m \u001b[32m776.3/776.4 MB\u001b[0m \u001b[31m170.3 MB/s\u001b[0m eta \u001b[36m0:00:01\u001b[0m"
     ]
    },
    {
     "name": "stdout",
     "output_type": "stream",
     "text": [
      "\r",
      "\u001b[2K     \u001b[91m━━━━━━━━━━━━━━━━━━━━━━━━━━━━━━━━━━━━\u001b[0m\u001b[91m╸\u001b[0m \u001b[32m776.3/776.4 MB\u001b[0m \u001b[31m170.3 MB/s\u001b[0m eta \u001b[36m0:00:01\u001b[0m\r",
      "\u001b[2K     \u001b[91m━━━━━━━━━━━━━━━━━━━━━━━━━━━━━━━━━━━━\u001b[0m\u001b[91m╸\u001b[0m \u001b[32m776.3/776.4 MB\u001b[0m \u001b[31m170.3 MB/s\u001b[0m eta \u001b[36m0:00:01\u001b[0m"
     ]
    },
    {
     "name": "stdout",
     "output_type": "stream",
     "text": [
      "\r",
      "\u001b[2K     \u001b[91m━━━━━━━━━━━━━━━━━━━━━━━━━━━━━━━━━━━━\u001b[0m\u001b[91m╸\u001b[0m \u001b[32m776.3/776.4 MB\u001b[0m \u001b[31m170.3 MB/s\u001b[0m eta \u001b[36m0:00:01\u001b[0m"
     ]
    },
    {
     "name": "stdout",
     "output_type": "stream",
     "text": [
      "\r",
      "\u001b[2K     \u001b[91m━━━━━━━━━━━━━━━━━━━━━━━━━━━━━━━━━━━━\u001b[0m\u001b[91m╸\u001b[0m \u001b[32m776.3/776.4 MB\u001b[0m \u001b[31m170.3 MB/s\u001b[0m eta \u001b[36m0:00:01\u001b[0m"
     ]
    },
    {
     "name": "stdout",
     "output_type": "stream",
     "text": [
      "\r",
      "\u001b[2K     \u001b[91m━━━━━━━━━━━━━━━━━━━━━━━━━━━━━━━━━━━━\u001b[0m\u001b[91m╸\u001b[0m \u001b[32m776.3/776.4 MB\u001b[0m \u001b[31m170.3 MB/s\u001b[0m eta \u001b[36m0:00:01\u001b[0m\r",
      "\u001b[2K     \u001b[91m━━━━━━━━━━━━━━━━━━━━━━━━━━━━━━━━━━━━\u001b[0m\u001b[91m╸\u001b[0m \u001b[32m776.3/776.4 MB\u001b[0m \u001b[31m170.3 MB/s\u001b[0m eta \u001b[36m0:00:01\u001b[0m"
     ]
    },
    {
     "name": "stdout",
     "output_type": "stream",
     "text": [
      "\r",
      "\u001b[2K     \u001b[91m━━━━━━━━━━━━━━━━━━━━━━━━━━━━━━━━━━━━\u001b[0m\u001b[91m╸\u001b[0m \u001b[32m776.3/776.4 MB\u001b[0m \u001b[31m170.3 MB/s\u001b[0m eta \u001b[36m0:00:01\u001b[0m"
     ]
    },
    {
     "name": "stdout",
     "output_type": "stream",
     "text": [
      "\r",
      "\u001b[2K     \u001b[91m━━━━━━━━━━━━━━━━━━━━━━━━━━━━━━━━━━━━\u001b[0m\u001b[91m╸\u001b[0m \u001b[32m776.3/776.4 MB\u001b[0m \u001b[31m170.3 MB/s\u001b[0m eta \u001b[36m0:00:01\u001b[0m\r",
      "\u001b[2K     \u001b[91m━━━━━━━━━━━━━━━━━━━━━━━━━━━━━━━━━━━━\u001b[0m\u001b[91m╸\u001b[0m \u001b[32m776.3/776.4 MB\u001b[0m \u001b[31m170.3 MB/s\u001b[0m eta \u001b[36m0:00:01\u001b[0m"
     ]
    },
    {
     "name": "stdout",
     "output_type": "stream",
     "text": [
      "\r",
      "\u001b[2K     \u001b[91m━━━━━━━━━━━━━━━━━━━━━━━━━━━━━━━━━━━━\u001b[0m\u001b[91m╸\u001b[0m \u001b[32m776.3/776.4 MB\u001b[0m \u001b[31m170.3 MB/s\u001b[0m eta \u001b[36m0:00:01\u001b[0m"
     ]
    },
    {
     "name": "stdout",
     "output_type": "stream",
     "text": [
      "\r",
      "\u001b[2K     \u001b[91m━━━━━━━━━━━━━━━━━━━━━━━━━━━━━━━━━━━━\u001b[0m\u001b[91m╸\u001b[0m \u001b[32m776.3/776.4 MB\u001b[0m \u001b[31m170.3 MB/s\u001b[0m eta \u001b[36m0:00:01\u001b[0m"
     ]
    },
    {
     "name": "stdout",
     "output_type": "stream",
     "text": [
      "\r",
      "\u001b[2K     \u001b[91m━━━━━━━━━━━━━━━━━━━━━━━━━━━━━━━━━━━━\u001b[0m\u001b[91m╸\u001b[0m \u001b[32m776.3/776.4 MB\u001b[0m \u001b[31m170.3 MB/s\u001b[0m eta \u001b[36m0:00:01\u001b[0m\r",
      "\u001b[2K     \u001b[91m━━━━━━━━━━━━━━━━━━━━━━━━━━━━━━━━━━━━\u001b[0m\u001b[91m╸\u001b[0m \u001b[32m776.3/776.4 MB\u001b[0m \u001b[31m170.3 MB/s\u001b[0m eta \u001b[36m0:00:01\u001b[0m"
     ]
    },
    {
     "name": "stdout",
     "output_type": "stream",
     "text": [
      "\r",
      "\u001b[2K     \u001b[91m━━━━━━━━━━━━━━━━━━━━━━━━━━━━━━━━━━━━\u001b[0m\u001b[91m╸\u001b[0m \u001b[32m776.3/776.4 MB\u001b[0m \u001b[31m170.3 MB/s\u001b[0m eta \u001b[36m0:00:01\u001b[0m"
     ]
    },
    {
     "name": "stdout",
     "output_type": "stream",
     "text": [
      "\r",
      "\u001b[2K     \u001b[91m━━━━━━━━━━━━━━━━━━━━━━━━━━━━━━━━━━━━\u001b[0m\u001b[91m╸\u001b[0m \u001b[32m776.3/776.4 MB\u001b[0m \u001b[31m170.3 MB/s\u001b[0m eta \u001b[36m0:00:01\u001b[0m\r",
      "\u001b[2K     \u001b[91m━━━━━━━━━━━━━━━━━━━━━━━━━━━━━━━━━━━━\u001b[0m\u001b[91m╸\u001b[0m \u001b[32m776.3/776.4 MB\u001b[0m \u001b[31m170.3 MB/s\u001b[0m eta \u001b[36m0:00:01\u001b[0m"
     ]
    },
    {
     "name": "stdout",
     "output_type": "stream",
     "text": [
      "\r",
      "\u001b[2K     \u001b[91m━━━━━━━━━━━━━━━━━━━━━━━━━━━━━━━━━━━━\u001b[0m\u001b[91m╸\u001b[0m \u001b[32m776.3/776.4 MB\u001b[0m \u001b[31m170.3 MB/s\u001b[0m eta \u001b[36m0:00:01\u001b[0m"
     ]
    },
    {
     "name": "stdout",
     "output_type": "stream",
     "text": [
      "\r",
      "\u001b[2K     \u001b[91m━━━━━━━━━━━━━━━━━━━━━━━━━━━━━━━━━━━━\u001b[0m\u001b[91m╸\u001b[0m \u001b[32m776.3/776.4 MB\u001b[0m \u001b[31m170.3 MB/s\u001b[0m eta \u001b[36m0:00:01\u001b[0m\r",
      "\u001b[2K     \u001b[91m━━━━━━━━━━━━━━━━━━━━━━━━━━━━━━━━━━━━\u001b[0m\u001b[91m╸\u001b[0m \u001b[32m776.3/776.4 MB\u001b[0m \u001b[31m170.3 MB/s\u001b[0m eta \u001b[36m0:00:01\u001b[0m"
     ]
    },
    {
     "name": "stdout",
     "output_type": "stream",
     "text": [
      "\r",
      "\u001b[2K     \u001b[91m━━━━━━━━━━━━━━━━━━━━━━━━━━━━━━━━━━━━\u001b[0m\u001b[91m╸\u001b[0m \u001b[32m776.3/776.4 MB\u001b[0m \u001b[31m170.3 MB/s\u001b[0m eta \u001b[36m0:00:01\u001b[0m"
     ]
    },
    {
     "name": "stdout",
     "output_type": "stream",
     "text": [
      "\r",
      "\u001b[2K     \u001b[91m━━━━━━━━━━━━━━━━━━━━━━━━━━━━━━━━━━━━\u001b[0m\u001b[91m╸\u001b[0m \u001b[32m776.3/776.4 MB\u001b[0m \u001b[31m170.3 MB/s\u001b[0m eta \u001b[36m0:00:01\u001b[0m"
     ]
    },
    {
     "name": "stdout",
     "output_type": "stream",
     "text": [
      "\r",
      "\u001b[2K     \u001b[91m━━━━━━━━━━━━━━━━━━━━━━━━━━━━━━━━━━━━\u001b[0m\u001b[91m╸\u001b[0m \u001b[32m776.3/776.4 MB\u001b[0m \u001b[31m170.3 MB/s\u001b[0m eta \u001b[36m0:00:01\u001b[0m\r",
      "\u001b[2K     \u001b[91m━━━━━━━━━━━━━━━━━━━━━━━━━━━━━━━━━━━━\u001b[0m\u001b[91m╸\u001b[0m \u001b[32m776.3/776.4 MB\u001b[0m \u001b[31m170.3 MB/s\u001b[0m eta \u001b[36m0:00:01\u001b[0m"
     ]
    },
    {
     "name": "stdout",
     "output_type": "stream",
     "text": [
      "\r",
      "\u001b[2K     \u001b[91m━━━━━━━━━━━━━━━━━━━━━━━━━━━━━━━━━━━━\u001b[0m\u001b[91m╸\u001b[0m \u001b[32m776.3/776.4 MB\u001b[0m \u001b[31m170.3 MB/s\u001b[0m eta \u001b[36m0:00:01\u001b[0m"
     ]
    },
    {
     "name": "stdout",
     "output_type": "stream",
     "text": [
      "\r",
      "\u001b[2K     \u001b[91m━━━━━━━━━━━━━━━━━━━━━━━━━━━━━━━━━━━━\u001b[0m\u001b[91m╸\u001b[0m \u001b[32m776.3/776.4 MB\u001b[0m \u001b[31m170.3 MB/s\u001b[0m eta \u001b[36m0:00:01\u001b[0m\r",
      "\u001b[2K     \u001b[91m━━━━━━━━━━━━━━━━━━━━━━━━━━━━━━━━━━━━\u001b[0m\u001b[91m╸\u001b[0m \u001b[32m776.3/776.4 MB\u001b[0m \u001b[31m170.3 MB/s\u001b[0m eta \u001b[36m0:00:01\u001b[0m"
     ]
    },
    {
     "name": "stdout",
     "output_type": "stream",
     "text": [
      "\r",
      "\u001b[2K     \u001b[91m━━━━━━━━━━━━━━━━━━━━━━━━━━━━━━━━━━━━\u001b[0m\u001b[91m╸\u001b[0m \u001b[32m776.3/776.4 MB\u001b[0m \u001b[31m170.3 MB/s\u001b[0m eta \u001b[36m0:00:01\u001b[0m"
     ]
    },
    {
     "name": "stdout",
     "output_type": "stream",
     "text": [
      "\r",
      "\u001b[2K     \u001b[91m━━━━━━━━━━━━━━━━━━━━━━━━━━━━━━━━━━━━\u001b[0m\u001b[91m╸\u001b[0m \u001b[32m776.3/776.4 MB\u001b[0m \u001b[31m170.3 MB/s\u001b[0m eta \u001b[36m0:00:01\u001b[0m\r",
      "\u001b[2K     \u001b[91m━━━━━━━━━━━━━━━━━━━━━━━━━━━━━━━━━━━━\u001b[0m\u001b[91m╸\u001b[0m \u001b[32m776.3/776.4 MB\u001b[0m \u001b[31m170.3 MB/s\u001b[0m eta \u001b[36m0:00:01\u001b[0m"
     ]
    },
    {
     "name": "stdout",
     "output_type": "stream",
     "text": [
      "\r",
      "\u001b[2K     \u001b[91m━━━━━━━━━━━━━━━━━━━━━━━━━━━━━━━━━━━━\u001b[0m\u001b[91m╸\u001b[0m \u001b[32m776.3/776.4 MB\u001b[0m \u001b[31m170.3 MB/s\u001b[0m eta \u001b[36m0:00:01\u001b[0m"
     ]
    },
    {
     "name": "stdout",
     "output_type": "stream",
     "text": [
      "\r",
      "\u001b[2K     \u001b[91m━━━━━━━━━━━━━━━━━━━━━━━━━━━━━━━━━━━━\u001b[0m\u001b[91m╸\u001b[0m \u001b[32m776.3/776.4 MB\u001b[0m \u001b[31m170.3 MB/s\u001b[0m eta \u001b[36m0:00:01\u001b[0m"
     ]
    },
    {
     "name": "stdout",
     "output_type": "stream",
     "text": [
      "\r",
      "\u001b[2K     \u001b[91m━━━━━━━━━━━━━━━━━━━━━━━━━━━━━━━━━━━━\u001b[0m\u001b[91m╸\u001b[0m \u001b[32m776.3/776.4 MB\u001b[0m \u001b[31m170.3 MB/s\u001b[0m eta \u001b[36m0:00:01\u001b[0m\r",
      "\u001b[2K     \u001b[91m━━━━━━━━━━━━━━━━━━━━━━━━━━━━━━━━━━━━\u001b[0m\u001b[91m╸\u001b[0m \u001b[32m776.3/776.4 MB\u001b[0m \u001b[31m170.3 MB/s\u001b[0m eta \u001b[36m0:00:01\u001b[0m"
     ]
    },
    {
     "name": "stdout",
     "output_type": "stream",
     "text": [
      "\r",
      "\u001b[2K     \u001b[91m━━━━━━━━━━━━━━━━━━━━━━━━━━━━━━━━━━━━\u001b[0m\u001b[91m╸\u001b[0m \u001b[32m776.3/776.4 MB\u001b[0m \u001b[31m170.3 MB/s\u001b[0m eta \u001b[36m0:00:01\u001b[0m"
     ]
    },
    {
     "name": "stdout",
     "output_type": "stream",
     "text": [
      "\r",
      "\u001b[2K     \u001b[91m━━━━━━━━━━━━━━━━━━━━━━━━━━━━━━━━━━━━\u001b[0m\u001b[91m╸\u001b[0m \u001b[32m776.3/776.4 MB\u001b[0m \u001b[31m170.3 MB/s\u001b[0m eta \u001b[36m0:00:01\u001b[0m\r",
      "\u001b[2K     \u001b[91m━━━━━━━━━━━━━━━━━━━━━━━━━━━━━━━━━━━━\u001b[0m\u001b[91m╸\u001b[0m \u001b[32m776.3/776.4 MB\u001b[0m \u001b[31m170.3 MB/s\u001b[0m eta \u001b[36m0:00:01\u001b[0m"
     ]
    },
    {
     "name": "stdout",
     "output_type": "stream",
     "text": [
      "\r",
      "\u001b[2K     \u001b[91m━━━━━━━━━━━━━━━━━━━━━━━━━━━━━━━━━━━━\u001b[0m\u001b[91m╸\u001b[0m \u001b[32m776.3/776.4 MB\u001b[0m \u001b[31m170.3 MB/s\u001b[0m eta \u001b[36m0:00:01\u001b[0m"
     ]
    },
    {
     "name": "stdout",
     "output_type": "stream",
     "text": [
      "\r",
      "\u001b[2K     \u001b[91m━━━━━━━━━━━━━━━━━━━━━━━━━━━━━━━━━━━━\u001b[0m\u001b[91m╸\u001b[0m \u001b[32m776.3/776.4 MB\u001b[0m \u001b[31m170.3 MB/s\u001b[0m eta \u001b[36m0:00:01\u001b[0m"
     ]
    },
    {
     "name": "stdout",
     "output_type": "stream",
     "text": [
      "\r",
      "\u001b[2K     \u001b[91m━━━━━━━━━━━━━━━━━━━━━━━━━━━━━━━━━━━━\u001b[0m\u001b[91m╸\u001b[0m \u001b[32m776.3/776.4 MB\u001b[0m \u001b[31m170.3 MB/s\u001b[0m eta \u001b[36m0:00:01\u001b[0m\r",
      "\u001b[2K     \u001b[91m━━━━━━━━━━━━━━━━━━━━━━━━━━━━━━━━━━━━\u001b[0m\u001b[91m╸\u001b[0m \u001b[32m776.3/776.4 MB\u001b[0m \u001b[31m170.3 MB/s\u001b[0m eta \u001b[36m0:00:01\u001b[0m"
     ]
    },
    {
     "name": "stdout",
     "output_type": "stream",
     "text": [
      "\r",
      "\u001b[2K     \u001b[91m━━━━━━━━━━━━━━━━━━━━━━━━━━━━━━━━━━━━\u001b[0m\u001b[91m╸\u001b[0m \u001b[32m776.3/776.4 MB\u001b[0m \u001b[31m170.3 MB/s\u001b[0m eta \u001b[36m0:00:01\u001b[0m"
     ]
    },
    {
     "name": "stdout",
     "output_type": "stream",
     "text": [
      "\r",
      "\u001b[2K     \u001b[91m━━━━━━━━━━━━━━━━━━━━━━━━━━━━━━━━━━━━\u001b[0m\u001b[91m╸\u001b[0m \u001b[32m776.3/776.4 MB\u001b[0m \u001b[31m170.3 MB/s\u001b[0m eta \u001b[36m0:00:01\u001b[0m\r",
      "\u001b[2K     \u001b[91m━━━━━━━━━━━━━━━━━━━━━━━━━━━━━━━━━━━━\u001b[0m\u001b[91m╸\u001b[0m \u001b[32m776.3/776.4 MB\u001b[0m \u001b[31m170.3 MB/s\u001b[0m eta \u001b[36m0:00:01\u001b[0m"
     ]
    },
    {
     "name": "stdout",
     "output_type": "stream",
     "text": [
      "\r",
      "\u001b[2K     \u001b[91m━━━━━━━━━━━━━━━━━━━━━━━━━━━━━━━━━━━━\u001b[0m\u001b[91m╸\u001b[0m \u001b[32m776.3/776.4 MB\u001b[0m \u001b[31m170.3 MB/s\u001b[0m eta \u001b[36m0:00:01\u001b[0m"
     ]
    },
    {
     "name": "stdout",
     "output_type": "stream",
     "text": [
      "\r",
      "\u001b[2K     \u001b[91m━━━━━━━━━━━━━━━━━━━━━━━━━━━━━━━━━━━━\u001b[0m\u001b[91m╸\u001b[0m \u001b[32m776.3/776.4 MB\u001b[0m \u001b[31m170.3 MB/s\u001b[0m eta \u001b[36m0:00:01\u001b[0m\r",
      "\u001b[2K     \u001b[91m━━━━━━━━━━━━━━━━━━━━━━━━━━━━━━━━━━━━\u001b[0m\u001b[91m╸\u001b[0m \u001b[32m776.3/776.4 MB\u001b[0m \u001b[31m170.3 MB/s\u001b[0m eta \u001b[36m0:00:01\u001b[0m"
     ]
    },
    {
     "name": "stdout",
     "output_type": "stream",
     "text": [
      "\r",
      "\u001b[2K     \u001b[91m━━━━━━━━━━━━━━━━━━━━━━━━━━━━━━━━━━━━\u001b[0m\u001b[91m╸\u001b[0m \u001b[32m776.3/776.4 MB\u001b[0m \u001b[31m170.3 MB/s\u001b[0m eta \u001b[36m0:00:01\u001b[0m"
     ]
    },
    {
     "name": "stdout",
     "output_type": "stream",
     "text": [
      "\r",
      "\u001b[2K     \u001b[91m━━━━━━━━━━━━━━━━━━━━━━━━━━━━━━━━━━━━\u001b[0m\u001b[91m╸\u001b[0m \u001b[32m776.3/776.4 MB\u001b[0m \u001b[31m170.3 MB/s\u001b[0m eta \u001b[36m0:00:01\u001b[0m\r",
      "\u001b[2K     \u001b[91m━━━━━━━━━━━━━━━━━━━━━━━━━━━━━━━━━━━━\u001b[0m\u001b[91m╸\u001b[0m \u001b[32m776.3/776.4 MB\u001b[0m \u001b[31m170.3 MB/s\u001b[0m eta \u001b[36m0:00:01\u001b[0m"
     ]
    },
    {
     "name": "stdout",
     "output_type": "stream",
     "text": [
      "\r",
      "\u001b[2K     \u001b[91m━━━━━━━━━━━━━━━━━━━━━━━━━━━━━━━━━━━━\u001b[0m\u001b[91m╸\u001b[0m \u001b[32m776.3/776.4 MB\u001b[0m \u001b[31m170.3 MB/s\u001b[0m eta \u001b[36m0:00:01\u001b[0m"
     ]
    },
    {
     "name": "stdout",
     "output_type": "stream",
     "text": [
      "\r",
      "\u001b[2K     \u001b[91m━━━━━━━━━━━━━━━━━━━━━━━━━━━━━━━━━━━━\u001b[0m\u001b[91m╸\u001b[0m \u001b[32m776.3/776.4 MB\u001b[0m \u001b[31m170.3 MB/s\u001b[0m eta \u001b[36m0:00:01\u001b[0m"
     ]
    },
    {
     "name": "stdout",
     "output_type": "stream",
     "text": [
      "\r",
      "\u001b[2K     \u001b[91m━━━━━━━━━━━━━━━━━━━━━━━━━━━━━━━━━━━━\u001b[0m\u001b[91m╸\u001b[0m \u001b[32m776.3/776.4 MB\u001b[0m \u001b[31m170.3 MB/s\u001b[0m eta \u001b[36m0:00:01\u001b[0m\r",
      "\u001b[2K     \u001b[91m━━━━━━━━━━━━━━━━━━━━━━━━━━━━━━━━━━━━\u001b[0m\u001b[91m╸\u001b[0m \u001b[32m776.3/776.4 MB\u001b[0m \u001b[31m170.3 MB/s\u001b[0m eta \u001b[36m0:00:01\u001b[0m"
     ]
    },
    {
     "name": "stdout",
     "output_type": "stream",
     "text": [
      "\r",
      "\u001b[2K     \u001b[91m━━━━━━━━━━━━━━━━━━━━━━━━━━━━━━━━━━━━\u001b[0m\u001b[91m╸\u001b[0m \u001b[32m776.3/776.4 MB\u001b[0m \u001b[31m170.3 MB/s\u001b[0m eta \u001b[36m0:00:01\u001b[0m"
     ]
    },
    {
     "name": "stdout",
     "output_type": "stream",
     "text": [
      "\r",
      "\u001b[2K     \u001b[91m━━━━━━━━━━━━━━━━━━━━━━━━━━━━━━━━━━━━\u001b[0m\u001b[91m╸\u001b[0m \u001b[32m776.3/776.4 MB\u001b[0m \u001b[31m170.3 MB/s\u001b[0m eta \u001b[36m0:00:01\u001b[0m\r",
      "\u001b[2K     \u001b[91m━━━━━━━━━━━━━━━━━━━━━━━━━━━━━━━━━━━━\u001b[0m\u001b[91m╸\u001b[0m \u001b[32m776.3/776.4 MB\u001b[0m \u001b[31m170.3 MB/s\u001b[0m eta \u001b[36m0:00:01\u001b[0m"
     ]
    },
    {
     "name": "stdout",
     "output_type": "stream",
     "text": [
      "\r",
      "\u001b[2K     \u001b[91m━━━━━━━━━━━━━━━━━━━━━━━━━━━━━━━━━━━━\u001b[0m\u001b[91m╸\u001b[0m \u001b[32m776.3/776.4 MB\u001b[0m \u001b[31m170.3 MB/s\u001b[0m eta \u001b[36m0:00:01\u001b[0m"
     ]
    },
    {
     "name": "stdout",
     "output_type": "stream",
     "text": [
      "\r",
      "\u001b[2K     \u001b[91m━━━━━━━━━━━━━━━━━━━━━━━━━━━━━━━━━━━━\u001b[0m\u001b[91m╸\u001b[0m \u001b[32m776.3/776.4 MB\u001b[0m \u001b[31m170.3 MB/s\u001b[0m eta \u001b[36m0:00:01\u001b[0m\r",
      "\u001b[2K     \u001b[91m━━━━━━━━━━━━━━━━━━━━━━━━━━━━━━━━━━━━\u001b[0m\u001b[91m╸\u001b[0m \u001b[32m776.3/776.4 MB\u001b[0m \u001b[31m170.3 MB/s\u001b[0m eta \u001b[36m0:00:01\u001b[0m"
     ]
    },
    {
     "name": "stdout",
     "output_type": "stream",
     "text": [
      "\r",
      "\u001b[2K     \u001b[91m━━━━━━━━━━━━━━━━━━━━━━━━━━━━━━━━━━━━\u001b[0m\u001b[91m╸\u001b[0m \u001b[32m776.3/776.4 MB\u001b[0m \u001b[31m170.3 MB/s\u001b[0m eta \u001b[36m0:00:01\u001b[0m"
     ]
    },
    {
     "name": "stdout",
     "output_type": "stream",
     "text": [
      "\r",
      "\u001b[2K     \u001b[91m━━━━━━━━━━━━━━━━━━━━━━━━━━━━━━━━━━━━\u001b[0m\u001b[91m╸\u001b[0m \u001b[32m776.3/776.4 MB\u001b[0m \u001b[31m170.3 MB/s\u001b[0m eta \u001b[36m0:00:01\u001b[0m"
     ]
    },
    {
     "name": "stdout",
     "output_type": "stream",
     "text": [
      "\r",
      "\u001b[2K     \u001b[91m━━━━━━━━━━━━━━━━━━━━━━━━━━━━━━━━━━━━\u001b[0m\u001b[91m╸\u001b[0m \u001b[32m776.3/776.4 MB\u001b[0m \u001b[31m170.3 MB/s\u001b[0m eta \u001b[36m0:00:01\u001b[0m\r",
      "\u001b[2K     \u001b[91m━━━━━━━━━━━━━━━━━━━━━━━━━━━━━━━━━━━━\u001b[0m\u001b[91m╸\u001b[0m \u001b[32m776.3/776.4 MB\u001b[0m \u001b[31m170.3 MB/s\u001b[0m eta \u001b[36m0:00:01\u001b[0m"
     ]
    },
    {
     "name": "stdout",
     "output_type": "stream",
     "text": [
      "\r",
      "\u001b[2K     \u001b[91m━━━━━━━━━━━━━━━━━━━━━━━━━━━━━━━━━━━━\u001b[0m\u001b[91m╸\u001b[0m \u001b[32m776.3/776.4 MB\u001b[0m \u001b[31m170.3 MB/s\u001b[0m eta \u001b[36m0:00:01\u001b[0m"
     ]
    },
    {
     "name": "stdout",
     "output_type": "stream",
     "text": [
      "\r",
      "\u001b[2K     \u001b[91m━━━━━━━━━━━━━━━━━━━━━━━━━━━━━━━━━━━━\u001b[0m\u001b[91m╸\u001b[0m \u001b[32m776.3/776.4 MB\u001b[0m \u001b[31m170.3 MB/s\u001b[0m eta \u001b[36m0:00:01\u001b[0m\r",
      "\u001b[2K     \u001b[91m━━━━━━━━━━━━━━━━━━━━━━━━━━━━━━━━━━━━\u001b[0m\u001b[91m╸\u001b[0m \u001b[32m776.3/776.4 MB\u001b[0m \u001b[31m170.3 MB/s\u001b[0m eta \u001b[36m0:00:01\u001b[0m"
     ]
    },
    {
     "name": "stdout",
     "output_type": "stream",
     "text": [
      "\r",
      "\u001b[2K     \u001b[91m━━━━━━━━━━━━━━━━━━━━━━━━━━━━━━━━━━━━\u001b[0m\u001b[91m╸\u001b[0m \u001b[32m776.3/776.4 MB\u001b[0m \u001b[31m170.3 MB/s\u001b[0m eta \u001b[36m0:00:01\u001b[0m"
     ]
    },
    {
     "name": "stdout",
     "output_type": "stream",
     "text": [
      "\r",
      "\u001b[2K     \u001b[91m━━━━━━━━━━━━━━━━━━━━━━━━━━━━━━━━━━━━\u001b[0m\u001b[91m╸\u001b[0m \u001b[32m776.3/776.4 MB\u001b[0m \u001b[31m170.3 MB/s\u001b[0m eta \u001b[36m0:00:01\u001b[0m\r",
      "\u001b[2K     \u001b[91m━━━━━━━━━━━━━━━━━━━━━━━━━━━━━━━━━━━━\u001b[0m\u001b[91m╸\u001b[0m \u001b[32m776.3/776.4 MB\u001b[0m \u001b[31m170.3 MB/s\u001b[0m eta \u001b[36m0:00:01\u001b[0m"
     ]
    },
    {
     "name": "stdout",
     "output_type": "stream",
     "text": [
      "\r",
      "\u001b[2K     \u001b[91m━━━━━━━━━━━━━━━━━━━━━━━━━━━━━━━━━━━━\u001b[0m\u001b[91m╸\u001b[0m \u001b[32m776.3/776.4 MB\u001b[0m \u001b[31m170.3 MB/s\u001b[0m eta \u001b[36m0:00:01\u001b[0m"
     ]
    },
    {
     "name": "stdout",
     "output_type": "stream",
     "text": [
      "\r",
      "\u001b[2K     \u001b[91m━━━━━━━━━━━━━━━━━━━━━━━━━━━━━━━━━━━━\u001b[0m\u001b[91m╸\u001b[0m \u001b[32m776.3/776.4 MB\u001b[0m \u001b[31m170.3 MB/s\u001b[0m eta \u001b[36m0:00:01\u001b[0m"
     ]
    },
    {
     "name": "stdout",
     "output_type": "stream",
     "text": [
      "\r",
      "\u001b[2K     \u001b[91m━━━━━━━━━━━━━━━━━━━━━━━━━━━━━━━━━━━━\u001b[0m\u001b[91m╸\u001b[0m \u001b[32m776.3/776.4 MB\u001b[0m \u001b[31m170.3 MB/s\u001b[0m eta \u001b[36m0:00:01\u001b[0m\r",
      "\u001b[2K     \u001b[91m━━━━━━━━━━━━━━━━━━━━━━━━━━━━━━━━━━━━\u001b[0m\u001b[91m╸\u001b[0m \u001b[32m776.3/776.4 MB\u001b[0m \u001b[31m170.3 MB/s\u001b[0m eta \u001b[36m0:00:01\u001b[0m"
     ]
    },
    {
     "name": "stdout",
     "output_type": "stream",
     "text": [
      "\r",
      "\u001b[2K     \u001b[91m━━━━━━━━━━━━━━━━━━━━━━━━━━━━━━━━━━━━\u001b[0m\u001b[91m╸\u001b[0m \u001b[32m776.3/776.4 MB\u001b[0m \u001b[31m170.3 MB/s\u001b[0m eta \u001b[36m0:00:01\u001b[0m"
     ]
    },
    {
     "name": "stdout",
     "output_type": "stream",
     "text": [
      "\r",
      "\u001b[2K     \u001b[91m━━━━━━━━━━━━━━━━━━━━━━━━━━━━━━━━━━━━\u001b[0m\u001b[91m╸\u001b[0m \u001b[32m776.3/776.4 MB\u001b[0m \u001b[31m170.3 MB/s\u001b[0m eta \u001b[36m0:00:01\u001b[0m\r",
      "\u001b[2K     \u001b[91m━━━━━━━━━━━━━━━━━━━━━━━━━━━━━━━━━━━━\u001b[0m\u001b[91m╸\u001b[0m \u001b[32m776.3/776.4 MB\u001b[0m \u001b[31m170.3 MB/s\u001b[0m eta \u001b[36m0:00:01\u001b[0m"
     ]
    },
    {
     "name": "stdout",
     "output_type": "stream",
     "text": [
      "\r",
      "\u001b[2K     \u001b[91m━━━━━━━━━━━━━━━━━━━━━━━━━━━━━━━━━━━━\u001b[0m\u001b[91m╸\u001b[0m \u001b[32m776.3/776.4 MB\u001b[0m \u001b[31m170.3 MB/s\u001b[0m eta \u001b[36m0:00:01\u001b[0m"
     ]
    },
    {
     "name": "stdout",
     "output_type": "stream",
     "text": [
      "\r",
      "\u001b[2K     \u001b[91m━━━━━━━━━━━━━━━━━━━━━━━━━━━━━━━━━━━━\u001b[0m\u001b[91m╸\u001b[0m \u001b[32m776.3/776.4 MB\u001b[0m \u001b[31m170.3 MB/s\u001b[0m eta \u001b[36m0:00:01\u001b[0m\r",
      "\u001b[2K     \u001b[91m━━━━━━━━━━━━━━━━━━━━━━━━━━━━━━━━━━━━\u001b[0m\u001b[91m╸\u001b[0m \u001b[32m776.3/776.4 MB\u001b[0m \u001b[31m170.3 MB/s\u001b[0m eta \u001b[36m0:00:01\u001b[0m"
     ]
    },
    {
     "name": "stdout",
     "output_type": "stream",
     "text": [
      "\r",
      "\u001b[2K     \u001b[91m━━━━━━━━━━━━━━━━━━━━━━━━━━━━━━━━━━━━\u001b[0m\u001b[91m╸\u001b[0m \u001b[32m776.3/776.4 MB\u001b[0m \u001b[31m170.3 MB/s\u001b[0m eta \u001b[36m0:00:01\u001b[0m"
     ]
    },
    {
     "name": "stdout",
     "output_type": "stream",
     "text": [
      "\r",
      "\u001b[2K     \u001b[91m━━━━━━━━━━━━━━━━━━━━━━━━━━━━━━━━━━━━\u001b[0m\u001b[91m╸\u001b[0m \u001b[32m776.3/776.4 MB\u001b[0m \u001b[31m170.3 MB/s\u001b[0m eta \u001b[36m0:00:01\u001b[0m"
     ]
    },
    {
     "name": "stdout",
     "output_type": "stream",
     "text": [
      "\r",
      "\u001b[2K     \u001b[91m━━━━━━━━━━━━━━━━━━━━━━━━━━━━━━━━━━━━\u001b[0m\u001b[91m╸\u001b[0m \u001b[32m776.3/776.4 MB\u001b[0m \u001b[31m170.3 MB/s\u001b[0m eta \u001b[36m0:00:01\u001b[0m\r",
      "\u001b[2K     \u001b[91m━━━━━━━━━━━━━━━━━━━━━━━━━━━━━━━━━━━━\u001b[0m\u001b[91m╸\u001b[0m \u001b[32m776.3/776.4 MB\u001b[0m \u001b[31m170.3 MB/s\u001b[0m eta \u001b[36m0:00:01\u001b[0m"
     ]
    },
    {
     "name": "stdout",
     "output_type": "stream",
     "text": [
      "\r",
      "\u001b[2K     \u001b[91m━━━━━━━━━━━━━━━━━━━━━━━━━━━━━━━━━━━━\u001b[0m\u001b[91m╸\u001b[0m \u001b[32m776.3/776.4 MB\u001b[0m \u001b[31m170.3 MB/s\u001b[0m eta \u001b[36m0:00:01\u001b[0m"
     ]
    },
    {
     "name": "stdout",
     "output_type": "stream",
     "text": [
      "\r",
      "\u001b[2K     \u001b[91m━━━━━━━━━━━━━━━━━━━━━━━━━━━━━━━━━━━━\u001b[0m\u001b[91m╸\u001b[0m \u001b[32m776.3/776.4 MB\u001b[0m \u001b[31m170.3 MB/s\u001b[0m eta \u001b[36m0:00:01\u001b[0m\r",
      "\u001b[2K     \u001b[91m━━━━━━━━━━━━━━━━━━━━━━━━━━━━━━━━━━━━\u001b[0m\u001b[91m╸\u001b[0m \u001b[32m776.3/776.4 MB\u001b[0m \u001b[31m170.3 MB/s\u001b[0m eta \u001b[36m0:00:01\u001b[0m"
     ]
    },
    {
     "name": "stdout",
     "output_type": "stream",
     "text": [
      "\r",
      "\u001b[2K     \u001b[91m━━━━━━━━━━━━━━━━━━━━━━━━━━━━━━━━━━━━\u001b[0m\u001b[91m╸\u001b[0m \u001b[32m776.3/776.4 MB\u001b[0m \u001b[31m170.3 MB/s\u001b[0m eta \u001b[36m0:00:01\u001b[0m"
     ]
    },
    {
     "name": "stdout",
     "output_type": "stream",
     "text": [
      "\r",
      "\u001b[2K     \u001b[91m━━━━━━━━━━━━━━━━━━━━━━━━━━━━━━━━━━━━\u001b[0m\u001b[91m╸\u001b[0m \u001b[32m776.3/776.4 MB\u001b[0m \u001b[31m170.3 MB/s\u001b[0m eta \u001b[36m0:00:01\u001b[0m\r",
      "\u001b[2K     \u001b[91m━━━━━━━━━━━━━━━━━━━━━━━━━━━━━━━━━━━━\u001b[0m\u001b[91m╸\u001b[0m \u001b[32m776.3/776.4 MB\u001b[0m \u001b[31m170.3 MB/s\u001b[0m eta \u001b[36m0:00:01\u001b[0m"
     ]
    },
    {
     "name": "stdout",
     "output_type": "stream",
     "text": [
      "\r",
      "\u001b[2K     \u001b[91m━━━━━━━━━━━━━━━━━━━━━━━━━━━━━━━━━━━━\u001b[0m\u001b[91m╸\u001b[0m \u001b[32m776.3/776.4 MB\u001b[0m \u001b[31m170.3 MB/s\u001b[0m eta \u001b[36m0:00:01\u001b[0m"
     ]
    },
    {
     "name": "stdout",
     "output_type": "stream",
     "text": [
      "\r",
      "\u001b[2K     \u001b[91m━━━━━━━━━━━━━━━━━━━━━━━━━━━━━━━━━━━━\u001b[0m\u001b[91m╸\u001b[0m \u001b[32m776.3/776.4 MB\u001b[0m \u001b[31m170.3 MB/s\u001b[0m eta \u001b[36m0:00:01\u001b[0m\r",
      "\u001b[2K     \u001b[91m━━━━━━━━━━━━━━━━━━━━━━━━━━━━━━━━━━━━\u001b[0m\u001b[91m╸\u001b[0m \u001b[32m776.3/776.4 MB\u001b[0m \u001b[31m170.3 MB/s\u001b[0m eta \u001b[36m0:00:01\u001b[0m"
     ]
    },
    {
     "name": "stdout",
     "output_type": "stream",
     "text": [
      "\r",
      "\u001b[2K     \u001b[91m━━━━━━━━━━━━━━━━━━━━━━━━━━━━━━━━━━━━\u001b[0m\u001b[91m╸\u001b[0m \u001b[32m776.3/776.4 MB\u001b[0m \u001b[31m170.3 MB/s\u001b[0m eta \u001b[36m0:00:01\u001b[0m"
     ]
    },
    {
     "name": "stdout",
     "output_type": "stream",
     "text": [
      "\r",
      "\u001b[2K     \u001b[91m━━━━━━━━━━━━━━━━━━━━━━━━━━━━━━━━━━━━\u001b[0m\u001b[91m╸\u001b[0m \u001b[32m776.3/776.4 MB\u001b[0m \u001b[31m170.3 MB/s\u001b[0m eta \u001b[36m0:00:01\u001b[0m"
     ]
    },
    {
     "name": "stdout",
     "output_type": "stream",
     "text": [
      "\r",
      "\u001b[2K     \u001b[91m━━━━━━━━━━━━━━━━━━━━━━━━━━━━━━━━━━━━\u001b[0m\u001b[91m╸\u001b[0m \u001b[32m776.3/776.4 MB\u001b[0m \u001b[31m170.3 MB/s\u001b[0m eta \u001b[36m0:00:01\u001b[0m\r",
      "\u001b[2K     \u001b[91m━━━━━━━━━━━━━━━━━━━━━━━━━━━━━━━━━━━━\u001b[0m\u001b[91m╸\u001b[0m \u001b[32m776.3/776.4 MB\u001b[0m \u001b[31m170.3 MB/s\u001b[0m eta \u001b[36m0:00:01\u001b[0m"
     ]
    },
    {
     "name": "stdout",
     "output_type": "stream",
     "text": [
      "\r",
      "\u001b[2K     \u001b[91m━━━━━━━━━━━━━━━━━━━━━━━━━━━━━━━━━━━━\u001b[0m\u001b[91m╸\u001b[0m \u001b[32m776.3/776.4 MB\u001b[0m \u001b[31m170.3 MB/s\u001b[0m eta \u001b[36m0:00:01\u001b[0m"
     ]
    },
    {
     "name": "stdout",
     "output_type": "stream",
     "text": [
      "\r",
      "\u001b[2K     \u001b[91m━━━━━━━━━━━━━━━━━━━━━━━━━━━━━━━━━━━━\u001b[0m\u001b[91m╸\u001b[0m \u001b[32m776.3/776.4 MB\u001b[0m \u001b[31m170.3 MB/s\u001b[0m eta \u001b[36m0:00:01\u001b[0m\r",
      "\u001b[2K     \u001b[91m━━━━━━━━━━━━━━━━━━━━━━━━━━━━━━━━━━━━\u001b[0m\u001b[91m╸\u001b[0m \u001b[32m776.3/776.4 MB\u001b[0m \u001b[31m170.3 MB/s\u001b[0m eta \u001b[36m0:00:01\u001b[0m"
     ]
    },
    {
     "name": "stdout",
     "output_type": "stream",
     "text": [
      "\r",
      "\u001b[2K     \u001b[91m━━━━━━━━━━━━━━━━━━━━━━━━━━━━━━━━━━━━\u001b[0m\u001b[91m╸\u001b[0m \u001b[32m776.3/776.4 MB\u001b[0m \u001b[31m170.3 MB/s\u001b[0m eta \u001b[36m0:00:01\u001b[0m"
     ]
    },
    {
     "name": "stdout",
     "output_type": "stream",
     "text": [
      "\r",
      "\u001b[2K     \u001b[91m━━━━━━━━━━━━━━━━━━━━━━━━━━━━━━━━━━━━\u001b[0m\u001b[91m╸\u001b[0m \u001b[32m776.3/776.4 MB\u001b[0m \u001b[31m170.3 MB/s\u001b[0m eta \u001b[36m0:00:01\u001b[0m\r",
      "\u001b[2K     \u001b[91m━━━━━━━━━━━━━━━━━━━━━━━━━━━━━━━━━━━━\u001b[0m\u001b[91m╸\u001b[0m \u001b[32m776.3/776.4 MB\u001b[0m \u001b[31m170.3 MB/s\u001b[0m eta \u001b[36m0:00:01\u001b[0m"
     ]
    },
    {
     "name": "stdout",
     "output_type": "stream",
     "text": [
      "\r",
      "\u001b[2K     \u001b[91m━━━━━━━━━━━━━━━━━━━━━━━━━━━━━━━━━━━━\u001b[0m\u001b[91m╸\u001b[0m \u001b[32m776.3/776.4 MB\u001b[0m \u001b[31m170.3 MB/s\u001b[0m eta \u001b[36m0:00:01\u001b[0m"
     ]
    },
    {
     "name": "stdout",
     "output_type": "stream",
     "text": [
      "\r",
      "\u001b[2K     \u001b[91m━━━━━━━━━━━━━━━━━━━━━━━━━━━━━━━━━━━━\u001b[0m\u001b[91m╸\u001b[0m \u001b[32m776.3/776.4 MB\u001b[0m \u001b[31m170.3 MB/s\u001b[0m eta \u001b[36m0:00:01\u001b[0m\r",
      "\u001b[2K     \u001b[91m━━━━━━━━━━━━━━━━━━━━━━━━━━━━━━━━━━━━\u001b[0m\u001b[91m╸\u001b[0m \u001b[32m776.3/776.4 MB\u001b[0m \u001b[31m170.3 MB/s\u001b[0m eta \u001b[36m0:00:01\u001b[0m"
     ]
    },
    {
     "name": "stdout",
     "output_type": "stream",
     "text": [
      "\r",
      "\u001b[2K     \u001b[91m━━━━━━━━━━━━━━━━━━━━━━━━━━━━━━━━━━━━\u001b[0m\u001b[91m╸\u001b[0m \u001b[32m776.3/776.4 MB\u001b[0m \u001b[31m170.3 MB/s\u001b[0m eta \u001b[36m0:00:01\u001b[0m"
     ]
    },
    {
     "name": "stdout",
     "output_type": "stream",
     "text": [
      "\r",
      "\u001b[2K     \u001b[91m━━━━━━━━━━━━━━━━━━━━━━━━━━━━━━━━━━━━\u001b[0m\u001b[91m╸\u001b[0m \u001b[32m776.3/776.4 MB\u001b[0m \u001b[31m170.3 MB/s\u001b[0m eta \u001b[36m0:00:01\u001b[0m"
     ]
    },
    {
     "name": "stdout",
     "output_type": "stream",
     "text": [
      "\r",
      "\u001b[2K     \u001b[91m━━━━━━━━━━━━━━━━━━━━━━━━━━━━━━━━━━━━\u001b[0m\u001b[91m╸\u001b[0m \u001b[32m776.3/776.4 MB\u001b[0m \u001b[31m170.3 MB/s\u001b[0m eta \u001b[36m0:00:01\u001b[0m\r",
      "\u001b[2K     \u001b[91m━━━━━━━━━━━━━━━━━━━━━━━━━━━━━━━━━━━━\u001b[0m\u001b[91m╸\u001b[0m \u001b[32m776.3/776.4 MB\u001b[0m \u001b[31m170.3 MB/s\u001b[0m eta \u001b[36m0:00:01\u001b[0m"
     ]
    },
    {
     "name": "stdout",
     "output_type": "stream",
     "text": [
      "\r",
      "\u001b[2K     \u001b[91m━━━━━━━━━━━━━━━━━━━━━━━━━━━━━━━━━━━━\u001b[0m\u001b[91m╸\u001b[0m \u001b[32m776.3/776.4 MB\u001b[0m \u001b[31m170.3 MB/s\u001b[0m eta \u001b[36m0:00:01\u001b[0m"
     ]
    },
    {
     "name": "stdout",
     "output_type": "stream",
     "text": [
      "\r",
      "\u001b[2K     \u001b[91m━━━━━━━━━━━━━━━━━━━━━━━━━━━━━━━━━━━━\u001b[0m\u001b[91m╸\u001b[0m \u001b[32m776.3/776.4 MB\u001b[0m \u001b[31m170.3 MB/s\u001b[0m eta \u001b[36m0:00:01\u001b[0m\r",
      "\u001b[2K     \u001b[91m━━━━━━━━━━━━━━━━━━━━━━━━━━━━━━━━━━━━\u001b[0m\u001b[91m╸\u001b[0m \u001b[32m776.3/776.4 MB\u001b[0m \u001b[31m170.3 MB/s\u001b[0m eta \u001b[36m0:00:01\u001b[0m"
     ]
    },
    {
     "name": "stdout",
     "output_type": "stream",
     "text": [
      "\r",
      "\u001b[2K     \u001b[91m━━━━━━━━━━━━━━━━━━━━━━━━━━━━━━━━━━━━\u001b[0m\u001b[91m╸\u001b[0m \u001b[32m776.3/776.4 MB\u001b[0m \u001b[31m170.3 MB/s\u001b[0m eta \u001b[36m0:00:01\u001b[0m"
     ]
    },
    {
     "name": "stdout",
     "output_type": "stream",
     "text": [
      "\r",
      "\u001b[2K     \u001b[91m━━━━━━━━━━━━━━━━━━━━━━━━━━━━━━━━━━━━\u001b[0m\u001b[91m╸\u001b[0m \u001b[32m776.3/776.4 MB\u001b[0m \u001b[31m170.3 MB/s\u001b[0m eta \u001b[36m0:00:01\u001b[0m\r",
      "\u001b[2K     \u001b[91m━━━━━━━━━━━━━━━━━━━━━━━━━━━━━━━━━━━━\u001b[0m\u001b[91m╸\u001b[0m \u001b[32m776.3/776.4 MB\u001b[0m \u001b[31m170.3 MB/s\u001b[0m eta \u001b[36m0:00:01\u001b[0m"
     ]
    },
    {
     "name": "stdout",
     "output_type": "stream",
     "text": [
      "\r",
      "\u001b[2K     \u001b[91m━━━━━━━━━━━━━━━━━━━━━━━━━━━━━━━━━━━━\u001b[0m\u001b[91m╸\u001b[0m \u001b[32m776.3/776.4 MB\u001b[0m \u001b[31m170.3 MB/s\u001b[0m eta \u001b[36m0:00:01\u001b[0m"
     ]
    },
    {
     "name": "stdout",
     "output_type": "stream",
     "text": [
      "\r",
      "\u001b[2K     \u001b[91m━━━━━━━━━━━━━━━━━━━━━━━━━━━━━━━━━━━━\u001b[0m\u001b[91m╸\u001b[0m \u001b[32m776.3/776.4 MB\u001b[0m \u001b[31m170.3 MB/s\u001b[0m eta \u001b[36m0:00:01\u001b[0m\r",
      "\u001b[2K     \u001b[91m━━━━━━━━━━━━━━━━━━━━━━━━━━━━━━━━━━━━\u001b[0m\u001b[91m╸\u001b[0m \u001b[32m776.3/776.4 MB\u001b[0m \u001b[31m170.3 MB/s\u001b[0m eta \u001b[36m0:00:01\u001b[0m"
     ]
    },
    {
     "name": "stdout",
     "output_type": "stream",
     "text": [
      "\r",
      "\u001b[2K     \u001b[91m━━━━━━━━━━━━━━━━━━━━━━━━━━━━━━━━━━━━\u001b[0m\u001b[91m╸\u001b[0m \u001b[32m776.3/776.4 MB\u001b[0m \u001b[31m170.3 MB/s\u001b[0m eta \u001b[36m0:00:01\u001b[0m"
     ]
    },
    {
     "name": "stdout",
     "output_type": "stream",
     "text": [
      "\r",
      "\u001b[2K     \u001b[91m━━━━━━━━━━━━━━━━━━━━━━━━━━━━━━━━━━━━\u001b[0m\u001b[91m╸\u001b[0m \u001b[32m776.3/776.4 MB\u001b[0m \u001b[31m170.3 MB/s\u001b[0m eta \u001b[36m0:00:01\u001b[0m"
     ]
    },
    {
     "name": "stdout",
     "output_type": "stream",
     "text": [
      "\r",
      "\u001b[2K     \u001b[91m━━━━━━━━━━━━━━━━━━━━━━━━━━━━━━━━━━━━\u001b[0m\u001b[91m╸\u001b[0m \u001b[32m776.3/776.4 MB\u001b[0m \u001b[31m170.3 MB/s\u001b[0m eta \u001b[36m0:00:01\u001b[0m\r",
      "\u001b[2K     \u001b[91m━━━━━━━━━━━━━━━━━━━━━━━━━━━━━━━━━━━━\u001b[0m\u001b[91m╸\u001b[0m \u001b[32m776.3/776.4 MB\u001b[0m \u001b[31m170.3 MB/s\u001b[0m eta \u001b[36m0:00:01\u001b[0m"
     ]
    },
    {
     "name": "stdout",
     "output_type": "stream",
     "text": [
      "\r",
      "\u001b[2K     \u001b[91m━━━━━━━━━━━━━━━━━━━━━━━━━━━━━━━━━━━━\u001b[0m\u001b[91m╸\u001b[0m \u001b[32m776.3/776.4 MB\u001b[0m \u001b[31m170.3 MB/s\u001b[0m eta \u001b[36m0:00:01\u001b[0m"
     ]
    },
    {
     "name": "stdout",
     "output_type": "stream",
     "text": [
      "\r",
      "\u001b[2K     \u001b[91m━━━━━━━━━━━━━━━━━━━━━━━━━━━━━━━━━━━━\u001b[0m\u001b[91m╸\u001b[0m \u001b[32m776.3/776.4 MB\u001b[0m \u001b[31m170.3 MB/s\u001b[0m eta \u001b[36m0:00:01\u001b[0m\r",
      "\u001b[2K     \u001b[91m━━━━━━━━━━━━━━━━━━━━━━━━━━━━━━━━━━━━\u001b[0m\u001b[91m╸\u001b[0m \u001b[32m776.3/776.4 MB\u001b[0m \u001b[31m170.3 MB/s\u001b[0m eta \u001b[36m0:00:01\u001b[0m"
     ]
    },
    {
     "name": "stdout",
     "output_type": "stream",
     "text": [
      "\r",
      "\u001b[2K     \u001b[91m━━━━━━━━━━━━━━━━━━━━━━━━━━━━━━━━━━━━\u001b[0m\u001b[91m╸\u001b[0m \u001b[32m776.3/776.4 MB\u001b[0m \u001b[31m170.3 MB/s\u001b[0m eta \u001b[36m0:00:01\u001b[0m"
     ]
    },
    {
     "name": "stdout",
     "output_type": "stream",
     "text": [
      "\r",
      "\u001b[2K     \u001b[91m━━━━━━━━━━━━━━━━━━━━━━━━━━━━━━━━━━━━\u001b[0m\u001b[91m╸\u001b[0m \u001b[32m776.3/776.4 MB\u001b[0m \u001b[31m170.3 MB/s\u001b[0m eta \u001b[36m0:00:01\u001b[0m\r",
      "\u001b[2K     \u001b[91m━━━━━━━━━━━━━━━━━━━━━━━━━━━━━━━━━━━━\u001b[0m\u001b[91m╸\u001b[0m \u001b[32m776.3/776.4 MB\u001b[0m \u001b[31m170.3 MB/s\u001b[0m eta \u001b[36m0:00:01\u001b[0m"
     ]
    },
    {
     "name": "stdout",
     "output_type": "stream",
     "text": [
      "\r",
      "\u001b[2K     \u001b[91m━━━━━━━━━━━━━━━━━━━━━━━━━━━━━━━━━━━━\u001b[0m\u001b[91m╸\u001b[0m \u001b[32m776.3/776.4 MB\u001b[0m \u001b[31m170.3 MB/s\u001b[0m eta \u001b[36m0:00:01\u001b[0m"
     ]
    },
    {
     "name": "stdout",
     "output_type": "stream",
     "text": [
      "\r",
      "\u001b[2K     \u001b[91m━━━━━━━━━━━━━━━━━━━━━━━━━━━━━━━━━━━━\u001b[0m\u001b[91m╸\u001b[0m \u001b[32m776.3/776.4 MB\u001b[0m \u001b[31m170.3 MB/s\u001b[0m eta \u001b[36m0:00:01\u001b[0m"
     ]
    },
    {
     "name": "stdout",
     "output_type": "stream",
     "text": [
      "\r",
      "\u001b[2K     \u001b[91m━━━━━━━━━━━━━━━━━━━━━━━━━━━━━━━━━━━━\u001b[0m\u001b[91m╸\u001b[0m \u001b[32m776.3/776.4 MB\u001b[0m \u001b[31m170.3 MB/s\u001b[0m eta \u001b[36m0:00:01\u001b[0m\r",
      "\u001b[2K     \u001b[91m━━━━━━━━━━━━━━━━━━━━━━━━━━━━━━━━━━━━\u001b[0m\u001b[91m╸\u001b[0m \u001b[32m776.3/776.4 MB\u001b[0m \u001b[31m170.3 MB/s\u001b[0m eta \u001b[36m0:00:01\u001b[0m"
     ]
    },
    {
     "name": "stdout",
     "output_type": "stream",
     "text": [
      "\r",
      "\u001b[2K     \u001b[91m━━━━━━━━━━━━━━━━━━━━━━━━━━━━━━━━━━━━\u001b[0m\u001b[91m╸\u001b[0m \u001b[32m776.3/776.4 MB\u001b[0m \u001b[31m170.3 MB/s\u001b[0m eta \u001b[36m0:00:01\u001b[0m"
     ]
    },
    {
     "name": "stdout",
     "output_type": "stream",
     "text": [
      "\r",
      "\u001b[2K     \u001b[91m━━━━━━━━━━━━━━━━━━━━━━━━━━━━━━━━━━━━\u001b[0m\u001b[91m╸\u001b[0m \u001b[32m776.3/776.4 MB\u001b[0m \u001b[31m170.3 MB/s\u001b[0m eta \u001b[36m0:00:01\u001b[0m\r",
      "\u001b[2K     \u001b[91m━━━━━━━━━━━━━━━━━━━━━━━━━━━━━━━━━━━━\u001b[0m\u001b[91m╸\u001b[0m \u001b[32m776.3/776.4 MB\u001b[0m \u001b[31m170.3 MB/s\u001b[0m eta \u001b[36m0:00:01\u001b[0m"
     ]
    },
    {
     "name": "stdout",
     "output_type": "stream",
     "text": [
      "\r",
      "\u001b[2K     \u001b[91m━━━━━━━━━━━━━━━━━━━━━━━━━━━━━━━━━━━━\u001b[0m\u001b[91m╸\u001b[0m \u001b[32m776.3/776.4 MB\u001b[0m \u001b[31m170.3 MB/s\u001b[0m eta \u001b[36m0:00:01\u001b[0m"
     ]
    },
    {
     "name": "stdout",
     "output_type": "stream",
     "text": [
      "\r",
      "\u001b[2K     \u001b[91m━━━━━━━━━━━━━━━━━━━━━━━━━━━━━━━━━━━━\u001b[0m\u001b[91m╸\u001b[0m \u001b[32m776.3/776.4 MB\u001b[0m \u001b[31m170.3 MB/s\u001b[0m eta \u001b[36m0:00:01\u001b[0m"
     ]
    },
    {
     "name": "stdout",
     "output_type": "stream",
     "text": [
      "\r",
      "\u001b[2K     \u001b[91m━━━━━━━━━━━━━━━━━━━━━━━━━━━━━━━━━━━━\u001b[0m\u001b[91m╸\u001b[0m \u001b[32m776.3/776.4 MB\u001b[0m \u001b[31m170.3 MB/s\u001b[0m eta \u001b[36m0:00:01\u001b[0m\r",
      "\u001b[2K     \u001b[91m━━━━━━━━━━━━━━━━━━━━━━━━━━━━━━━━━━━━\u001b[0m\u001b[91m╸\u001b[0m \u001b[32m776.3/776.4 MB\u001b[0m \u001b[31m170.3 MB/s\u001b[0m eta \u001b[36m0:00:01\u001b[0m"
     ]
    },
    {
     "name": "stdout",
     "output_type": "stream",
     "text": [
      "\r",
      "\u001b[2K     \u001b[91m━━━━━━━━━━━━━━━━━━━━━━━━━━━━━━━━━━━━\u001b[0m\u001b[91m╸\u001b[0m \u001b[32m776.3/776.4 MB\u001b[0m \u001b[31m170.3 MB/s\u001b[0m eta \u001b[36m0:00:01\u001b[0m"
     ]
    },
    {
     "name": "stdout",
     "output_type": "stream",
     "text": [
      "\r",
      "\u001b[2K     \u001b[91m━━━━━━━━━━━━━━━━━━━━━━━━━━━━━━━━━━━━\u001b[0m\u001b[91m╸\u001b[0m \u001b[32m776.3/776.4 MB\u001b[0m \u001b[31m170.3 MB/s\u001b[0m eta \u001b[36m0:00:01\u001b[0m\r",
      "\u001b[2K     \u001b[91m━━━━━━━━━━━━━━━━━━━━━━━━━━━━━━━━━━━━\u001b[0m\u001b[91m╸\u001b[0m \u001b[32m776.3/776.4 MB\u001b[0m \u001b[31m170.3 MB/s\u001b[0m eta \u001b[36m0:00:01\u001b[0m"
     ]
    },
    {
     "name": "stdout",
     "output_type": "stream",
     "text": [
      "\r",
      "\u001b[2K     \u001b[91m━━━━━━━━━━━━━━━━━━━━━━━━━━━━━━━━━━━━\u001b[0m\u001b[91m╸\u001b[0m \u001b[32m776.3/776.4 MB\u001b[0m \u001b[31m170.3 MB/s\u001b[0m eta \u001b[36m0:00:01\u001b[0m"
     ]
    },
    {
     "name": "stdout",
     "output_type": "stream",
     "text": [
      "\r",
      "\u001b[2K     \u001b[91m━━━━━━━━━━━━━━━━━━━━━━━━━━━━━━━━━━━━\u001b[0m\u001b[91m╸\u001b[0m \u001b[32m776.3/776.4 MB\u001b[0m \u001b[31m170.3 MB/s\u001b[0m eta \u001b[36m0:00:01\u001b[0m\r",
      "\u001b[2K     \u001b[91m━━━━━━━━━━━━━━━━━━━━━━━━━━━━━━━━━━━━\u001b[0m\u001b[91m╸\u001b[0m \u001b[32m776.3/776.4 MB\u001b[0m \u001b[31m170.3 MB/s\u001b[0m eta \u001b[36m0:00:01\u001b[0m"
     ]
    },
    {
     "name": "stdout",
     "output_type": "stream",
     "text": [
      "\r",
      "\u001b[2K     \u001b[91m━━━━━━━━━━━━━━━━━━━━━━━━━━━━━━━━━━━━\u001b[0m\u001b[91m╸\u001b[0m \u001b[32m776.3/776.4 MB\u001b[0m \u001b[31m170.3 MB/s\u001b[0m eta \u001b[36m0:00:01\u001b[0m"
     ]
    },
    {
     "name": "stdout",
     "output_type": "stream",
     "text": [
      "\r",
      "\u001b[2K     \u001b[91m━━━━━━━━━━━━━━━━━━━━━━━━━━━━━━━━━━━━\u001b[0m\u001b[91m╸\u001b[0m \u001b[32m776.3/776.4 MB\u001b[0m \u001b[31m170.3 MB/s\u001b[0m eta \u001b[36m0:00:01\u001b[0m"
     ]
    },
    {
     "name": "stdout",
     "output_type": "stream",
     "text": [
      "\r",
      "\u001b[2K     \u001b[91m━━━━━━━━━━━━━━━━━━━━━━━━━━━━━━━━━━━━\u001b[0m\u001b[91m╸\u001b[0m \u001b[32m776.3/776.4 MB\u001b[0m \u001b[31m170.3 MB/s\u001b[0m eta \u001b[36m0:00:01\u001b[0m\r",
      "\u001b[2K     \u001b[91m━━━━━━━━━━━━━━━━━━━━━━━━━━━━━━━━━━━━\u001b[0m\u001b[91m╸\u001b[0m \u001b[32m776.3/776.4 MB\u001b[0m \u001b[31m170.3 MB/s\u001b[0m eta \u001b[36m0:00:01\u001b[0m"
     ]
    },
    {
     "name": "stdout",
     "output_type": "stream",
     "text": [
      "\r",
      "\u001b[2K     \u001b[91m━━━━━━━━━━━━━━━━━━━━━━━━━━━━━━━━━━━━\u001b[0m\u001b[91m╸\u001b[0m \u001b[32m776.3/776.4 MB\u001b[0m \u001b[31m170.3 MB/s\u001b[0m eta \u001b[36m0:00:01\u001b[0m"
     ]
    },
    {
     "name": "stdout",
     "output_type": "stream",
     "text": [
      "\r",
      "\u001b[2K     \u001b[91m━━━━━━━━━━━━━━━━━━━━━━━━━━━━━━━━━━━━\u001b[0m\u001b[91m╸\u001b[0m \u001b[32m776.3/776.4 MB\u001b[0m \u001b[31m170.3 MB/s\u001b[0m eta \u001b[36m0:00:01\u001b[0m\r",
      "\u001b[2K     \u001b[91m━━━━━━━━━━━━━━━━━━━━━━━━━━━━━━━━━━━━\u001b[0m\u001b[91m╸\u001b[0m \u001b[32m776.3/776.4 MB\u001b[0m \u001b[31m170.3 MB/s\u001b[0m eta \u001b[36m0:00:01\u001b[0m"
     ]
    },
    {
     "name": "stdout",
     "output_type": "stream",
     "text": [
      "\r",
      "\u001b[2K     \u001b[91m━━━━━━━━━━━━━━━━━━━━━━━━━━━━━━━━━━━━\u001b[0m\u001b[91m╸\u001b[0m \u001b[32m776.3/776.4 MB\u001b[0m \u001b[31m170.3 MB/s\u001b[0m eta \u001b[36m0:00:01\u001b[0m"
     ]
    },
    {
     "name": "stdout",
     "output_type": "stream",
     "text": [
      "\r",
      "\u001b[2K     \u001b[91m━━━━━━━━━━━━━━━━━━━━━━━━━━━━━━━━━━━━\u001b[0m\u001b[91m╸\u001b[0m \u001b[32m776.3/776.4 MB\u001b[0m \u001b[31m170.3 MB/s\u001b[0m eta \u001b[36m0:00:01\u001b[0m\r",
      "\u001b[2K     \u001b[91m━━━━━━━━━━━━━━━━━━━━━━━━━━━━━━━━━━━━\u001b[0m\u001b[91m╸\u001b[0m \u001b[32m776.3/776.4 MB\u001b[0m \u001b[31m170.3 MB/s\u001b[0m eta \u001b[36m0:00:01\u001b[0m"
     ]
    },
    {
     "name": "stdout",
     "output_type": "stream",
     "text": [
      "\r",
      "\u001b[2K     \u001b[91m━━━━━━━━━━━━━━━━━━━━━━━━━━━━━━━━━━━━\u001b[0m\u001b[91m╸\u001b[0m \u001b[32m776.3/776.4 MB\u001b[0m \u001b[31m170.3 MB/s\u001b[0m eta \u001b[36m0:00:01\u001b[0m"
     ]
    },
    {
     "name": "stdout",
     "output_type": "stream",
     "text": [
      "\r",
      "\u001b[2K     \u001b[91m━━━━━━━━━━━━━━━━━━━━━━━━━━━━━━━━━━━━\u001b[0m\u001b[91m╸\u001b[0m \u001b[32m776.3/776.4 MB\u001b[0m \u001b[31m170.3 MB/s\u001b[0m eta \u001b[36m0:00:01\u001b[0m\r",
      "\u001b[2K     \u001b[91m━━━━━━━━━━━━━━━━━━━━━━━━━━━━━━━━━━━━\u001b[0m\u001b[91m╸\u001b[0m \u001b[32m776.3/776.4 MB\u001b[0m \u001b[31m170.3 MB/s\u001b[0m eta \u001b[36m0:00:01\u001b[0m"
     ]
    },
    {
     "name": "stdout",
     "output_type": "stream",
     "text": [
      "\r",
      "\u001b[2K     \u001b[91m━━━━━━━━━━━━━━━━━━━━━━━━━━━━━━━━━━━━\u001b[0m\u001b[91m╸\u001b[0m \u001b[32m776.3/776.4 MB\u001b[0m \u001b[31m170.3 MB/s\u001b[0m eta \u001b[36m0:00:01\u001b[0m"
     ]
    },
    {
     "name": "stdout",
     "output_type": "stream",
     "text": [
      "\r",
      "\u001b[2K     \u001b[91m━━━━━━━━━━━━━━━━━━━━━━━━━━━━━━━━━━━━\u001b[0m\u001b[91m╸\u001b[0m \u001b[32m776.3/776.4 MB\u001b[0m \u001b[31m170.3 MB/s\u001b[0m eta \u001b[36m0:00:01\u001b[0m"
     ]
    },
    {
     "name": "stdout",
     "output_type": "stream",
     "text": [
      "\r",
      "\u001b[2K     \u001b[91m━━━━━━━━━━━━━━━━━━━━━━━━━━━━━━━━━━━━\u001b[0m\u001b[91m╸\u001b[0m \u001b[32m776.3/776.4 MB\u001b[0m \u001b[31m170.3 MB/s\u001b[0m eta \u001b[36m0:00:01\u001b[0m\r",
      "\u001b[2K     \u001b[91m━━━━━━━━━━━━━━━━━━━━━━━━━━━━━━━━━━━━\u001b[0m\u001b[91m╸\u001b[0m \u001b[32m776.3/776.4 MB\u001b[0m \u001b[31m170.3 MB/s\u001b[0m eta \u001b[36m0:00:01\u001b[0m"
     ]
    },
    {
     "name": "stdout",
     "output_type": "stream",
     "text": [
      "\r",
      "\u001b[2K     \u001b[91m━━━━━━━━━━━━━━━━━━━━━━━━━━━━━━━━━━━━\u001b[0m\u001b[91m╸\u001b[0m \u001b[32m776.3/776.4 MB\u001b[0m \u001b[31m170.3 MB/s\u001b[0m eta \u001b[36m0:00:01\u001b[0m"
     ]
    },
    {
     "name": "stdout",
     "output_type": "stream",
     "text": [
      "\r",
      "\u001b[2K     \u001b[91m━━━━━━━━━━━━━━━━━━━━━━━━━━━━━━━━━━━━\u001b[0m\u001b[91m╸\u001b[0m \u001b[32m776.3/776.4 MB\u001b[0m \u001b[31m170.3 MB/s\u001b[0m eta \u001b[36m0:00:01\u001b[0m\r",
      "\u001b[2K     \u001b[91m━━━━━━━━━━━━━━━━━━━━━━━━━━━━━━━━━━━━\u001b[0m\u001b[91m╸\u001b[0m \u001b[32m776.3/776.4 MB\u001b[0m \u001b[31m170.3 MB/s\u001b[0m eta \u001b[36m0:00:01\u001b[0m"
     ]
    },
    {
     "name": "stdout",
     "output_type": "stream",
     "text": [
      "\r",
      "\u001b[2K     \u001b[91m━━━━━━━━━━━━━━━━━━━━━━━━━━━━━━━━━━━━\u001b[0m\u001b[91m╸\u001b[0m \u001b[32m776.3/776.4 MB\u001b[0m \u001b[31m170.3 MB/s\u001b[0m eta \u001b[36m0:00:01\u001b[0m"
     ]
    },
    {
     "name": "stdout",
     "output_type": "stream",
     "text": [
      "\r",
      "\u001b[2K     \u001b[91m━━━━━━━━━━━━━━━━━━━━━━━━━━━━━━━━━━━━\u001b[0m\u001b[91m╸\u001b[0m \u001b[32m776.3/776.4 MB\u001b[0m \u001b[31m170.3 MB/s\u001b[0m eta \u001b[36m0:00:01\u001b[0m"
     ]
    },
    {
     "name": "stdout",
     "output_type": "stream",
     "text": [
      "\r",
      "\u001b[2K     \u001b[91m━━━━━━━━━━━━━━━━━━━━━━━━━━━━━━━━━━━━\u001b[0m\u001b[91m╸\u001b[0m \u001b[32m776.3/776.4 MB\u001b[0m \u001b[31m170.3 MB/s\u001b[0m eta \u001b[36m0:00:01\u001b[0m\r",
      "\u001b[2K     \u001b[91m━━━━━━━━━━━━━━━━━━━━━━━━━━━━━━━━━━━━\u001b[0m\u001b[91m╸\u001b[0m \u001b[32m776.3/776.4 MB\u001b[0m \u001b[31m170.3 MB/s\u001b[0m eta \u001b[36m0:00:01\u001b[0m"
     ]
    },
    {
     "name": "stdout",
     "output_type": "stream",
     "text": [
      "\r",
      "\u001b[2K     \u001b[91m━━━━━━━━━━━━━━━━━━━━━━━━━━━━━━━━━━━━\u001b[0m\u001b[91m╸\u001b[0m \u001b[32m776.3/776.4 MB\u001b[0m \u001b[31m170.3 MB/s\u001b[0m eta \u001b[36m0:00:01\u001b[0m"
     ]
    },
    {
     "name": "stdout",
     "output_type": "stream",
     "text": [
      "\r",
      "\u001b[2K     \u001b[91m━━━━━━━━━━━━━━━━━━━━━━━━━━━━━━━━━━━━\u001b[0m\u001b[91m╸\u001b[0m \u001b[32m776.3/776.4 MB\u001b[0m \u001b[31m170.3 MB/s\u001b[0m eta \u001b[36m0:00:01\u001b[0m\r",
      "\u001b[2K     \u001b[91m━━━━━━━━━━━━━━━━━━━━━━━━━━━━━━━━━━━━\u001b[0m\u001b[91m╸\u001b[0m \u001b[32m776.3/776.4 MB\u001b[0m \u001b[31m170.3 MB/s\u001b[0m eta \u001b[36m0:00:01\u001b[0m"
     ]
    },
    {
     "name": "stdout",
     "output_type": "stream",
     "text": [
      "\r",
      "\u001b[2K     \u001b[91m━━━━━━━━━━━━━━━━━━━━━━━━━━━━━━━━━━━━\u001b[0m\u001b[91m╸\u001b[0m \u001b[32m776.3/776.4 MB\u001b[0m \u001b[31m170.3 MB/s\u001b[0m eta \u001b[36m0:00:01\u001b[0m"
     ]
    },
    {
     "name": "stdout",
     "output_type": "stream",
     "text": [
      "\r",
      "\u001b[2K     \u001b[91m━━━━━━━━━━━━━━━━━━━━━━━━━━━━━━━━━━━━\u001b[0m\u001b[91m╸\u001b[0m \u001b[32m776.3/776.4 MB\u001b[0m \u001b[31m170.3 MB/s\u001b[0m eta \u001b[36m0:00:01\u001b[0m\r",
      "\u001b[2K     \u001b[91m━━━━━━━━━━━━━━━━━━━━━━━━━━━━━━━━━━━━\u001b[0m\u001b[91m╸\u001b[0m \u001b[32m776.3/776.4 MB\u001b[0m \u001b[31m170.3 MB/s\u001b[0m eta \u001b[36m0:00:01\u001b[0m"
     ]
    },
    {
     "name": "stdout",
     "output_type": "stream",
     "text": [
      "\r",
      "\u001b[2K     \u001b[91m━━━━━━━━━━━━━━━━━━━━━━━━━━━━━━━━━━━━\u001b[0m\u001b[91m╸\u001b[0m \u001b[32m776.3/776.4 MB\u001b[0m \u001b[31m170.3 MB/s\u001b[0m eta \u001b[36m0:00:01\u001b[0m"
     ]
    },
    {
     "name": "stdout",
     "output_type": "stream",
     "text": [
      "\r",
      "\u001b[2K     \u001b[91m━━━━━━━━━━━━━━━━━━━━━━━━━━━━━━━━━━━━\u001b[0m\u001b[91m╸\u001b[0m \u001b[32m776.3/776.4 MB\u001b[0m \u001b[31m170.3 MB/s\u001b[0m eta \u001b[36m0:00:01\u001b[0m"
     ]
    },
    {
     "name": "stdout",
     "output_type": "stream",
     "text": [
      "\r",
      "\u001b[2K     \u001b[91m━━━━━━━━━━━━━━━━━━━━━━━━━━━━━━━━━━━━\u001b[0m\u001b[91m╸\u001b[0m \u001b[32m776.3/776.4 MB\u001b[0m \u001b[31m170.3 MB/s\u001b[0m eta \u001b[36m0:00:01\u001b[0m\r",
      "\u001b[2K     \u001b[91m━━━━━━━━━━━━━━━━━━━━━━━━━━━━━━━━━━━━\u001b[0m\u001b[91m╸\u001b[0m \u001b[32m776.3/776.4 MB\u001b[0m \u001b[31m170.3 MB/s\u001b[0m eta \u001b[36m0:00:01\u001b[0m"
     ]
    },
    {
     "name": "stdout",
     "output_type": "stream",
     "text": [
      "\r",
      "\u001b[2K     \u001b[91m━━━━━━━━━━━━━━━━━━━━━━━━━━━━━━━━━━━━\u001b[0m\u001b[91m╸\u001b[0m \u001b[32m776.3/776.4 MB\u001b[0m \u001b[31m170.3 MB/s\u001b[0m eta \u001b[36m0:00:01\u001b[0m"
     ]
    },
    {
     "name": "stdout",
     "output_type": "stream",
     "text": [
      "\r",
      "\u001b[2K     \u001b[91m━━━━━━━━━━━━━━━━━━━━━━━━━━━━━━━━━━━━\u001b[0m\u001b[91m╸\u001b[0m \u001b[32m776.3/776.4 MB\u001b[0m \u001b[31m170.3 MB/s\u001b[0m eta \u001b[36m0:00:01\u001b[0m\r",
      "\u001b[2K     \u001b[91m━━━━━━━━━━━━━━━━━━━━━━━━━━━━━━━━━━━━\u001b[0m\u001b[91m╸\u001b[0m \u001b[32m776.3/776.4 MB\u001b[0m \u001b[31m170.3 MB/s\u001b[0m eta \u001b[36m0:00:01\u001b[0m"
     ]
    },
    {
     "name": "stdout",
     "output_type": "stream",
     "text": [
      "\r",
      "\u001b[2K     \u001b[91m━━━━━━━━━━━━━━━━━━━━━━━━━━━━━━━━━━━━\u001b[0m\u001b[91m╸\u001b[0m \u001b[32m776.3/776.4 MB\u001b[0m \u001b[31m170.3 MB/s\u001b[0m eta \u001b[36m0:00:01\u001b[0m"
     ]
    },
    {
     "name": "stdout",
     "output_type": "stream",
     "text": [
      "\r",
      "\u001b[2K     \u001b[91m━━━━━━━━━━━━━━━━━━━━━━━━━━━━━━━━━━━━\u001b[0m\u001b[91m╸\u001b[0m \u001b[32m776.3/776.4 MB\u001b[0m \u001b[31m170.3 MB/s\u001b[0m eta \u001b[36m0:00:01\u001b[0m"
     ]
    },
    {
     "name": "stdout",
     "output_type": "stream",
     "text": [
      "\r",
      "\u001b[2K     \u001b[91m━━━━━━━━━━━━━━━━━━━━━━━━━━━━━━━━━━━━\u001b[0m\u001b[91m╸\u001b[0m \u001b[32m776.3/776.4 MB\u001b[0m \u001b[31m170.3 MB/s\u001b[0m eta \u001b[36m0:00:01\u001b[0m\r",
      "\u001b[2K     \u001b[91m━━━━━━━━━━━━━━━━━━━━━━━━━━━━━━━━━━━━\u001b[0m\u001b[91m╸\u001b[0m \u001b[32m776.3/776.4 MB\u001b[0m \u001b[31m170.3 MB/s\u001b[0m eta \u001b[36m0:00:01\u001b[0m"
     ]
    },
    {
     "name": "stdout",
     "output_type": "stream",
     "text": [
      "\r",
      "\u001b[2K     \u001b[91m━━━━━━━━━━━━━━━━━━━━━━━━━━━━━━━━━━━━\u001b[0m\u001b[91m╸\u001b[0m \u001b[32m776.3/776.4 MB\u001b[0m \u001b[31m170.3 MB/s\u001b[0m eta \u001b[36m0:00:01\u001b[0m"
     ]
    },
    {
     "name": "stdout",
     "output_type": "stream",
     "text": [
      "\r",
      "\u001b[2K     \u001b[91m━━━━━━━━━━━━━━━━━━━━━━━━━━━━━━━━━━━━\u001b[0m\u001b[91m╸\u001b[0m \u001b[32m776.3/776.4 MB\u001b[0m \u001b[31m170.3 MB/s\u001b[0m eta \u001b[36m0:00:01\u001b[0m\r",
      "\u001b[2K     \u001b[91m━━━━━━━━━━━━━━━━━━━━━━━━━━━━━━━━━━━━\u001b[0m\u001b[91m╸\u001b[0m \u001b[32m776.3/776.4 MB\u001b[0m \u001b[31m170.3 MB/s\u001b[0m eta \u001b[36m0:00:01\u001b[0m"
     ]
    },
    {
     "name": "stdout",
     "output_type": "stream",
     "text": [
      "\r",
      "\u001b[2K     \u001b[91m━━━━━━━━━━━━━━━━━━━━━━━━━━━━━━━━━━━━\u001b[0m\u001b[91m╸\u001b[0m \u001b[32m776.3/776.4 MB\u001b[0m \u001b[31m170.3 MB/s\u001b[0m eta \u001b[36m0:00:01\u001b[0m"
     ]
    },
    {
     "name": "stdout",
     "output_type": "stream",
     "text": [
      "\r",
      "\u001b[2K     \u001b[91m━━━━━━━━━━━━━━━━━━━━━━━━━━━━━━━━━━━━\u001b[0m\u001b[91m╸\u001b[0m \u001b[32m776.3/776.4 MB\u001b[0m \u001b[31m170.3 MB/s\u001b[0m eta \u001b[36m0:00:01\u001b[0m\r",
      "\u001b[2K     \u001b[91m━━━━━━━━━━━━━━━━━━━━━━━━━━━━━━━━━━━━\u001b[0m\u001b[91m╸\u001b[0m \u001b[32m776.3/776.4 MB\u001b[0m \u001b[31m170.3 MB/s\u001b[0m eta \u001b[36m0:00:01\u001b[0m"
     ]
    },
    {
     "name": "stdout",
     "output_type": "stream",
     "text": [
      "\r",
      "\u001b[2K     \u001b[91m━━━━━━━━━━━━━━━━━━━━━━━━━━━━━━━━━━━━\u001b[0m\u001b[91m╸\u001b[0m \u001b[32m776.3/776.4 MB\u001b[0m \u001b[31m170.3 MB/s\u001b[0m eta \u001b[36m0:00:01\u001b[0m"
     ]
    },
    {
     "name": "stdout",
     "output_type": "stream",
     "text": [
      "\r",
      "\u001b[2K     \u001b[91m━━━━━━━━━━━━━━━━━━━━━━━━━━━━━━━━━━━━\u001b[0m\u001b[91m╸\u001b[0m \u001b[32m776.3/776.4 MB\u001b[0m \u001b[31m170.3 MB/s\u001b[0m eta \u001b[36m0:00:01\u001b[0m"
     ]
    },
    {
     "name": "stdout",
     "output_type": "stream",
     "text": [
      "\r",
      "\u001b[2K     \u001b[91m━━━━━━━━━━━━━━━━━━━━━━━━━━━━━━━━━━━━\u001b[0m\u001b[91m╸\u001b[0m \u001b[32m776.3/776.4 MB\u001b[0m \u001b[31m170.3 MB/s\u001b[0m eta \u001b[36m0:00:01\u001b[0m\r",
      "\u001b[2K     \u001b[91m━━━━━━━━━━━━━━━━━━━━━━━━━━━━━━━━━━━━\u001b[0m\u001b[91m╸\u001b[0m \u001b[32m776.3/776.4 MB\u001b[0m \u001b[31m170.3 MB/s\u001b[0m eta \u001b[36m0:00:01\u001b[0m"
     ]
    },
    {
     "name": "stdout",
     "output_type": "stream",
     "text": [
      "\r",
      "\u001b[2K     \u001b[91m━━━━━━━━━━━━━━━━━━━━━━━━━━━━━━━━━━━━\u001b[0m\u001b[91m╸\u001b[0m \u001b[32m776.3/776.4 MB\u001b[0m \u001b[31m170.3 MB/s\u001b[0m eta \u001b[36m0:00:01\u001b[0m"
     ]
    },
    {
     "name": "stdout",
     "output_type": "stream",
     "text": [
      "\r",
      "\u001b[2K     \u001b[91m━━━━━━━━━━━━━━━━━━━━━━━━━━━━━━━━━━━━\u001b[0m\u001b[91m╸\u001b[0m \u001b[32m776.3/776.4 MB\u001b[0m \u001b[31m170.3 MB/s\u001b[0m eta \u001b[36m0:00:01\u001b[0m\r",
      "\u001b[2K     \u001b[91m━━━━━━━━━━━━━━━━━━━━━━━━━━━━━━━━━━━━\u001b[0m\u001b[91m╸\u001b[0m \u001b[32m776.3/776.4 MB\u001b[0m \u001b[31m170.3 MB/s\u001b[0m eta \u001b[36m0:00:01\u001b[0m"
     ]
    },
    {
     "name": "stdout",
     "output_type": "stream",
     "text": [
      "\r",
      "\u001b[2K     \u001b[91m━━━━━━━━━━━━━━━━━━━━━━━━━━━━━━━━━━━━\u001b[0m\u001b[91m╸\u001b[0m \u001b[32m776.3/776.4 MB\u001b[0m \u001b[31m170.3 MB/s\u001b[0m eta \u001b[36m0:00:01\u001b[0m"
     ]
    },
    {
     "name": "stdout",
     "output_type": "stream",
     "text": [
      "\r",
      "\u001b[2K     \u001b[91m━━━━━━━━━━━━━━━━━━━━━━━━━━━━━━━━━━━━\u001b[0m\u001b[91m╸\u001b[0m \u001b[32m776.3/776.4 MB\u001b[0m \u001b[31m170.3 MB/s\u001b[0m eta \u001b[36m0:00:01\u001b[0m\r",
      "\u001b[2K     \u001b[91m━━━━━━━━━━━━━━━━━━━━━━━━━━━━━━━━━━━━\u001b[0m\u001b[91m╸\u001b[0m \u001b[32m776.3/776.4 MB\u001b[0m \u001b[31m170.3 MB/s\u001b[0m eta \u001b[36m0:00:01\u001b[0m"
     ]
    },
    {
     "name": "stdout",
     "output_type": "stream",
     "text": [
      "\r",
      "\u001b[2K     \u001b[91m━━━━━━━━━━━━━━━━━━━━━━━━━━━━━━━━━━━━\u001b[0m\u001b[91m╸\u001b[0m \u001b[32m776.3/776.4 MB\u001b[0m \u001b[31m170.3 MB/s\u001b[0m eta \u001b[36m0:00:01\u001b[0m"
     ]
    },
    {
     "name": "stdout",
     "output_type": "stream",
     "text": [
      "\r",
      "\u001b[2K     \u001b[91m━━━━━━━━━━━━━━━━━━━━━━━━━━━━━━━━━━━━\u001b[0m\u001b[91m╸\u001b[0m \u001b[32m776.3/776.4 MB\u001b[0m \u001b[31m170.3 MB/s\u001b[0m eta \u001b[36m0:00:01\u001b[0m"
     ]
    },
    {
     "name": "stdout",
     "output_type": "stream",
     "text": [
      "\r",
      "\u001b[2K     \u001b[91m━━━━━━━━━━━━━━━━━━━━━━━━━━━━━━━━━━━━\u001b[0m\u001b[91m╸\u001b[0m \u001b[32m776.3/776.4 MB\u001b[0m \u001b[31m170.3 MB/s\u001b[0m eta \u001b[36m0:00:01\u001b[0m\r",
      "\u001b[2K     \u001b[91m━━━━━━━━━━━━━━━━━━━━━━━━━━━━━━━━━━━━\u001b[0m\u001b[91m╸\u001b[0m \u001b[32m776.3/776.4 MB\u001b[0m \u001b[31m170.3 MB/s\u001b[0m eta \u001b[36m0:00:01\u001b[0m"
     ]
    },
    {
     "name": "stdout",
     "output_type": "stream",
     "text": [
      "\r",
      "\u001b[2K     \u001b[91m━━━━━━━━━━━━━━━━━━━━━━━━━━━━━━━━━━━━\u001b[0m\u001b[91m╸\u001b[0m \u001b[32m776.3/776.4 MB\u001b[0m \u001b[31m170.3 MB/s\u001b[0m eta \u001b[36m0:00:01\u001b[0m"
     ]
    },
    {
     "name": "stdout",
     "output_type": "stream",
     "text": [
      "\r",
      "\u001b[2K     \u001b[91m━━━━━━━━━━━━━━━━━━━━━━━━━━━━━━━━━━━━\u001b[0m\u001b[91m╸\u001b[0m \u001b[32m776.3/776.4 MB\u001b[0m \u001b[31m170.3 MB/s\u001b[0m eta \u001b[36m0:00:01\u001b[0m\r",
      "\u001b[2K     \u001b[91m━━━━━━━━━━━━━━━━━━━━━━━━━━━━━━━━━━━━\u001b[0m\u001b[91m╸\u001b[0m \u001b[32m776.3/776.4 MB\u001b[0m \u001b[31m170.3 MB/s\u001b[0m eta \u001b[36m0:00:01\u001b[0m"
     ]
    },
    {
     "name": "stdout",
     "output_type": "stream",
     "text": [
      "\r",
      "\u001b[2K     \u001b[91m━━━━━━━━━━━━━━━━━━━━━━━━━━━━━━━━━━━━\u001b[0m\u001b[91m╸\u001b[0m \u001b[32m776.3/776.4 MB\u001b[0m \u001b[31m170.3 MB/s\u001b[0m eta \u001b[36m0:00:01\u001b[0m"
     ]
    },
    {
     "name": "stdout",
     "output_type": "stream",
     "text": [
      "\r",
      "\u001b[2K     \u001b[91m━━━━━━━━━━━━━━━━━━━━━━━━━━━━━━━━━━━━\u001b[0m\u001b[91m╸\u001b[0m \u001b[32m776.3/776.4 MB\u001b[0m \u001b[31m170.3 MB/s\u001b[0m eta \u001b[36m0:00:01\u001b[0m\r",
      "\u001b[2K     \u001b[91m━━━━━━━━━━━━━━━━━━━━━━━━━━━━━━━━━━━━\u001b[0m\u001b[91m╸\u001b[0m \u001b[32m776.3/776.4 MB\u001b[0m \u001b[31m170.3 MB/s\u001b[0m eta \u001b[36m0:00:01\u001b[0m"
     ]
    },
    {
     "name": "stdout",
     "output_type": "stream",
     "text": [
      "\r",
      "\u001b[2K     \u001b[91m━━━━━━━━━━━━━━━━━━━━━━━━━━━━━━━━━━━━\u001b[0m\u001b[91m╸\u001b[0m \u001b[32m776.3/776.4 MB\u001b[0m \u001b[31m170.3 MB/s\u001b[0m eta \u001b[36m0:00:01\u001b[0m"
     ]
    },
    {
     "name": "stdout",
     "output_type": "stream",
     "text": [
      "\r",
      "\u001b[2K     \u001b[91m━━━━━━━━━━━━━━━━━━━━━━━━━━━━━━━━━━━━\u001b[0m\u001b[91m╸\u001b[0m \u001b[32m776.3/776.4 MB\u001b[0m \u001b[31m170.3 MB/s\u001b[0m eta \u001b[36m0:00:01\u001b[0m"
     ]
    },
    {
     "name": "stdout",
     "output_type": "stream",
     "text": [
      "\r",
      "\u001b[2K     \u001b[91m━━━━━━━━━━━━━━━━━━━━━━━━━━━━━━━━━━━━\u001b[0m\u001b[91m╸\u001b[0m \u001b[32m776.3/776.4 MB\u001b[0m \u001b[31m170.3 MB/s\u001b[0m eta \u001b[36m0:00:01\u001b[0m\r",
      "\u001b[2K     \u001b[91m━━━━━━━━━━━━━━━━━━━━━━━━━━━━━━━━━━━━\u001b[0m\u001b[91m╸\u001b[0m \u001b[32m776.3/776.4 MB\u001b[0m \u001b[31m170.3 MB/s\u001b[0m eta \u001b[36m0:00:01\u001b[0m"
     ]
    },
    {
     "name": "stdout",
     "output_type": "stream",
     "text": [
      "\r",
      "\u001b[2K     \u001b[91m━━━━━━━━━━━━━━━━━━━━━━━━━━━━━━━━━━━━\u001b[0m\u001b[91m╸\u001b[0m \u001b[32m776.3/776.4 MB\u001b[0m \u001b[31m170.3 MB/s\u001b[0m eta \u001b[36m0:00:01\u001b[0m"
     ]
    },
    {
     "name": "stdout",
     "output_type": "stream",
     "text": [
      "\r",
      "\u001b[2K     \u001b[91m━━━━━━━━━━━━━━━━━━━━━━━━━━━━━━━━━━━━\u001b[0m\u001b[91m╸\u001b[0m \u001b[32m776.3/776.4 MB\u001b[0m \u001b[31m170.3 MB/s\u001b[0m eta \u001b[36m0:00:01\u001b[0m\r",
      "\u001b[2K     \u001b[91m━━━━━━━━━━━━━━━━━━━━━━━━━━━━━━━━━━━━\u001b[0m\u001b[91m╸\u001b[0m \u001b[32m776.3/776.4 MB\u001b[0m \u001b[31m170.3 MB/s\u001b[0m eta \u001b[36m0:00:01\u001b[0m"
     ]
    },
    {
     "name": "stdout",
     "output_type": "stream",
     "text": [
      "\r",
      "\u001b[2K     \u001b[91m━━━━━━━━━━━━━━━━━━━━━━━━━━━━━━━━━━━━\u001b[0m\u001b[91m╸\u001b[0m \u001b[32m776.3/776.4 MB\u001b[0m \u001b[31m170.3 MB/s\u001b[0m eta \u001b[36m0:00:01\u001b[0m"
     ]
    },
    {
     "name": "stdout",
     "output_type": "stream",
     "text": [
      "\r",
      "\u001b[2K     \u001b[91m━━━━━━━━━━━━━━━━━━━━━━━━━━━━━━━━━━━━\u001b[0m\u001b[91m╸\u001b[0m \u001b[32m776.3/776.4 MB\u001b[0m \u001b[31m170.3 MB/s\u001b[0m eta \u001b[36m0:00:01\u001b[0m\r",
      "\u001b[2K     \u001b[91m━━━━━━━━━━━━━━━━━━━━━━━━━━━━━━━━━━━━\u001b[0m\u001b[91m╸\u001b[0m \u001b[32m776.3/776.4 MB\u001b[0m \u001b[31m170.3 MB/s\u001b[0m eta \u001b[36m0:00:01\u001b[0m"
     ]
    },
    {
     "name": "stdout",
     "output_type": "stream",
     "text": [
      "\r",
      "\u001b[2K     \u001b[91m━━━━━━━━━━━━━━━━━━━━━━━━━━━━━━━━━━━━\u001b[0m\u001b[91m╸\u001b[0m \u001b[32m776.3/776.4 MB\u001b[0m \u001b[31m170.3 MB/s\u001b[0m eta \u001b[36m0:00:01\u001b[0m"
     ]
    },
    {
     "name": "stdout",
     "output_type": "stream",
     "text": [
      "\r",
      "\u001b[2K     \u001b[91m━━━━━━━━━━━━━━━━━━━━━━━━━━━━━━━━━━━━\u001b[0m\u001b[91m╸\u001b[0m \u001b[32m776.3/776.4 MB\u001b[0m \u001b[31m170.3 MB/s\u001b[0m eta \u001b[36m0:00:01\u001b[0m\r",
      "\u001b[2K     \u001b[91m━━━━━━━━━━━━━━━━━━━━━━━━━━━━━━━━━━━━\u001b[0m\u001b[91m╸\u001b[0m \u001b[32m776.3/776.4 MB\u001b[0m \u001b[31m170.3 MB/s\u001b[0m eta \u001b[36m0:00:01\u001b[0m"
     ]
    },
    {
     "name": "stdout",
     "output_type": "stream",
     "text": [
      "\r",
      "\u001b[2K     \u001b[91m━━━━━━━━━━━━━━━━━━━━━━━━━━━━━━━━━━━━\u001b[0m\u001b[91m╸\u001b[0m \u001b[32m776.3/776.4 MB\u001b[0m \u001b[31m170.3 MB/s\u001b[0m eta \u001b[36m0:00:01\u001b[0m"
     ]
    },
    {
     "name": "stdout",
     "output_type": "stream",
     "text": [
      "\r",
      "\u001b[2K     \u001b[91m━━━━━━━━━━━━━━━━━━━━━━━━━━━━━━━━━━━━\u001b[0m\u001b[91m╸\u001b[0m \u001b[32m776.3/776.4 MB\u001b[0m \u001b[31m170.3 MB/s\u001b[0m eta \u001b[36m0:00:01\u001b[0m"
     ]
    },
    {
     "name": "stdout",
     "output_type": "stream",
     "text": [
      "\r",
      "\u001b[2K     \u001b[91m━━━━━━━━━━━━━━━━━━━━━━━━━━━━━━━━━━━━\u001b[0m\u001b[91m╸\u001b[0m \u001b[32m776.3/776.4 MB\u001b[0m \u001b[31m170.3 MB/s\u001b[0m eta \u001b[36m0:00:01\u001b[0m\r",
      "\u001b[2K     \u001b[91m━━━━━━━━━━━━━━━━━━━━━━━━━━━━━━━━━━━━\u001b[0m\u001b[91m╸\u001b[0m \u001b[32m776.3/776.4 MB\u001b[0m \u001b[31m170.3 MB/s\u001b[0m eta \u001b[36m0:00:01\u001b[0m"
     ]
    },
    {
     "name": "stdout",
     "output_type": "stream",
     "text": [
      "\r",
      "\u001b[2K     \u001b[91m━━━━━━━━━━━━━━━━━━━━━━━━━━━━━━━━━━━━\u001b[0m\u001b[91m╸\u001b[0m \u001b[32m776.3/776.4 MB\u001b[0m \u001b[31m170.3 MB/s\u001b[0m eta \u001b[36m0:00:01\u001b[0m"
     ]
    },
    {
     "name": "stdout",
     "output_type": "stream",
     "text": [
      "\r",
      "\u001b[2K     \u001b[91m━━━━━━━━━━━━━━━━━━━━━━━━━━━━━━━━━━━━\u001b[0m\u001b[91m╸\u001b[0m \u001b[32m776.3/776.4 MB\u001b[0m \u001b[31m170.3 MB/s\u001b[0m eta \u001b[36m0:00:01\u001b[0m\r",
      "\u001b[2K     \u001b[91m━━━━━━━━━━━━━━━━━━━━━━━━━━━━━━━━━━━━\u001b[0m\u001b[91m╸\u001b[0m \u001b[32m776.3/776.4 MB\u001b[0m \u001b[31m170.3 MB/s\u001b[0m eta \u001b[36m0:00:01\u001b[0m"
     ]
    },
    {
     "name": "stdout",
     "output_type": "stream",
     "text": [
      "\r",
      "\u001b[2K     \u001b[91m━━━━━━━━━━━━━━━━━━━━━━━━━━━━━━━━━━━━\u001b[0m\u001b[91m╸\u001b[0m \u001b[32m776.3/776.4 MB\u001b[0m \u001b[31m170.3 MB/s\u001b[0m eta \u001b[36m0:00:01\u001b[0m"
     ]
    },
    {
     "name": "stdout",
     "output_type": "stream",
     "text": [
      "\r",
      "\u001b[2K     \u001b[91m━━━━━━━━━━━━━━━━━━━━━━━━━━━━━━━━━━━━\u001b[0m\u001b[91m╸\u001b[0m \u001b[32m776.3/776.4 MB\u001b[0m \u001b[31m170.3 MB/s\u001b[0m eta \u001b[36m0:00:01\u001b[0m\r",
      "\u001b[2K     \u001b[91m━━━━━━━━━━━━━━━━━━━━━━━━━━━━━━━━━━━━\u001b[0m\u001b[91m╸\u001b[0m \u001b[32m776.3/776.4 MB\u001b[0m \u001b[31m170.3 MB/s\u001b[0m eta \u001b[36m0:00:01\u001b[0m"
     ]
    },
    {
     "name": "stdout",
     "output_type": "stream",
     "text": [
      "\r",
      "\u001b[2K     \u001b[91m━━━━━━━━━━━━━━━━━━━━━━━━━━━━━━━━━━━━\u001b[0m\u001b[91m╸\u001b[0m \u001b[32m776.3/776.4 MB\u001b[0m \u001b[31m170.3 MB/s\u001b[0m eta \u001b[36m0:00:01\u001b[0m"
     ]
    },
    {
     "name": "stdout",
     "output_type": "stream",
     "text": [
      "\r",
      "\u001b[2K     \u001b[91m━━━━━━━━━━━━━━━━━━━━━━━━━━━━━━━━━━━━\u001b[0m\u001b[91m╸\u001b[0m \u001b[32m776.3/776.4 MB\u001b[0m \u001b[31m170.3 MB/s\u001b[0m eta \u001b[36m0:00:01\u001b[0m\r",
      "\u001b[2K     \u001b[91m━━━━━━━━━━━━━━━━━━━━━━━━━━━━━━━━━━━━\u001b[0m\u001b[91m╸\u001b[0m \u001b[32m776.3/776.4 MB\u001b[0m \u001b[31m170.3 MB/s\u001b[0m eta \u001b[36m0:00:01\u001b[0m"
     ]
    },
    {
     "name": "stdout",
     "output_type": "stream",
     "text": [
      "\r",
      "\u001b[2K     \u001b[91m━━━━━━━━━━━━━━━━━━━━━━━━━━━━━━━━━━━━\u001b[0m\u001b[91m╸\u001b[0m \u001b[32m776.3/776.4 MB\u001b[0m \u001b[31m170.3 MB/s\u001b[0m eta \u001b[36m0:00:01\u001b[0m"
     ]
    },
    {
     "name": "stdout",
     "output_type": "stream",
     "text": [
      "\r",
      "\u001b[2K     \u001b[91m━━━━━━━━━━━━━━━━━━━━━━━━━━━━━━━━━━━━\u001b[0m\u001b[91m╸\u001b[0m \u001b[32m776.3/776.4 MB\u001b[0m \u001b[31m170.3 MB/s\u001b[0m eta \u001b[36m0:00:01\u001b[0m"
     ]
    },
    {
     "name": "stdout",
     "output_type": "stream",
     "text": [
      "\r",
      "\u001b[2K     \u001b[91m━━━━━━━━━━━━━━━━━━━━━━━━━━━━━━━━━━━━\u001b[0m\u001b[91m╸\u001b[0m \u001b[32m776.3/776.4 MB\u001b[0m \u001b[31m170.3 MB/s\u001b[0m eta \u001b[36m0:00:01\u001b[0m\r",
      "\u001b[2K     \u001b[91m━━━━━━━━━━━━━━━━━━━━━━━━━━━━━━━━━━━━\u001b[0m\u001b[91m╸\u001b[0m \u001b[32m776.3/776.4 MB\u001b[0m \u001b[31m170.3 MB/s\u001b[0m eta \u001b[36m0:00:01\u001b[0m"
     ]
    },
    {
     "name": "stdout",
     "output_type": "stream",
     "text": [
      "\r",
      "\u001b[2K     \u001b[91m━━━━━━━━━━━━━━━━━━━━━━━━━━━━━━━━━━━━\u001b[0m\u001b[91m╸\u001b[0m \u001b[32m776.3/776.4 MB\u001b[0m \u001b[31m170.3 MB/s\u001b[0m eta \u001b[36m0:00:01\u001b[0m"
     ]
    },
    {
     "name": "stdout",
     "output_type": "stream",
     "text": [
      "\r",
      "\u001b[2K     \u001b[91m━━━━━━━━━━━━━━━━━━━━━━━━━━━━━━━━━━━━\u001b[0m\u001b[91m╸\u001b[0m \u001b[32m776.3/776.4 MB\u001b[0m \u001b[31m170.3 MB/s\u001b[0m eta \u001b[36m0:00:01\u001b[0m\r",
      "\u001b[2K     \u001b[91m━━━━━━━━━━━━━━━━━━━━━━━━━━━━━━━━━━━━\u001b[0m\u001b[91m╸\u001b[0m \u001b[32m776.3/776.4 MB\u001b[0m \u001b[31m170.3 MB/s\u001b[0m eta \u001b[36m0:00:01\u001b[0m"
     ]
    },
    {
     "name": "stdout",
     "output_type": "stream",
     "text": [
      "\r",
      "\u001b[2K     \u001b[91m━━━━━━━━━━━━━━━━━━━━━━━━━━━━━━━━━━━━\u001b[0m\u001b[91m╸\u001b[0m \u001b[32m776.3/776.4 MB\u001b[0m \u001b[31m170.3 MB/s\u001b[0m eta \u001b[36m0:00:01\u001b[0m"
     ]
    },
    {
     "name": "stdout",
     "output_type": "stream",
     "text": [
      "\r",
      "\u001b[2K     \u001b[91m━━━━━━━━━━━━━━━━━━━━━━━━━━━━━━━━━━━━\u001b[0m\u001b[91m╸\u001b[0m \u001b[32m776.3/776.4 MB\u001b[0m \u001b[31m170.3 MB/s\u001b[0m eta \u001b[36m0:00:01\u001b[0m\r",
      "\u001b[2K     \u001b[91m━━━━━━━━━━━━━━━━━━━━━━━━━━━━━━━━━━━━\u001b[0m\u001b[91m╸\u001b[0m \u001b[32m776.3/776.4 MB\u001b[0m \u001b[31m170.3 MB/s\u001b[0m eta \u001b[36m0:00:01\u001b[0m"
     ]
    },
    {
     "name": "stdout",
     "output_type": "stream",
     "text": [
      "\r",
      "\u001b[2K     \u001b[91m━━━━━━━━━━━━━━━━━━━━━━━━━━━━━━━━━━━━\u001b[0m\u001b[91m╸\u001b[0m \u001b[32m776.3/776.4 MB\u001b[0m \u001b[31m170.3 MB/s\u001b[0m eta \u001b[36m0:00:01\u001b[0m"
     ]
    },
    {
     "name": "stdout",
     "output_type": "stream",
     "text": [
      "\r",
      "\u001b[2K     \u001b[91m━━━━━━━━━━━━━━━━━━━━━━━━━━━━━━━━━━━━\u001b[0m\u001b[91m╸\u001b[0m \u001b[32m776.3/776.4 MB\u001b[0m \u001b[31m170.3 MB/s\u001b[0m eta \u001b[36m0:00:01\u001b[0m\r",
      "\u001b[2K     \u001b[91m━━━━━━━━━━━━━━━━━━━━━━━━━━━━━━━━━━━━\u001b[0m\u001b[91m╸\u001b[0m \u001b[32m776.3/776.4 MB\u001b[0m \u001b[31m170.3 MB/s\u001b[0m eta \u001b[36m0:00:01\u001b[0m"
     ]
    },
    {
     "name": "stdout",
     "output_type": "stream",
     "text": [
      "\r",
      "\u001b[2K     \u001b[91m━━━━━━━━━━━━━━━━━━━━━━━━━━━━━━━━━━━━\u001b[0m\u001b[91m╸\u001b[0m \u001b[32m776.3/776.4 MB\u001b[0m \u001b[31m170.3 MB/s\u001b[0m eta \u001b[36m0:00:01\u001b[0m"
     ]
    },
    {
     "name": "stdout",
     "output_type": "stream",
     "text": [
      "\r",
      "\u001b[2K     \u001b[91m━━━━━━━━━━━━━━━━━━━━━━━━━━━━━━━━━━━━\u001b[0m\u001b[91m╸\u001b[0m \u001b[32m776.3/776.4 MB\u001b[0m \u001b[31m170.3 MB/s\u001b[0m eta \u001b[36m0:00:01\u001b[0m"
     ]
    },
    {
     "name": "stdout",
     "output_type": "stream",
     "text": [
      "\r",
      "\u001b[2K     \u001b[91m━━━━━━━━━━━━━━━━━━━━━━━━━━━━━━━━━━━━\u001b[0m\u001b[91m╸\u001b[0m \u001b[32m776.3/776.4 MB\u001b[0m \u001b[31m170.3 MB/s\u001b[0m eta \u001b[36m0:00:01\u001b[0m\r",
      "\u001b[2K     \u001b[91m━━━━━━━━━━━━━━━━━━━━━━━━━━━━━━━━━━━━\u001b[0m\u001b[91m╸\u001b[0m \u001b[32m776.3/776.4 MB\u001b[0m \u001b[31m170.3 MB/s\u001b[0m eta \u001b[36m0:00:01\u001b[0m"
     ]
    },
    {
     "name": "stdout",
     "output_type": "stream",
     "text": [
      "\r",
      "\u001b[2K     \u001b[91m━━━━━━━━━━━━━━━━━━━━━━━━━━━━━━━━━━━━\u001b[0m\u001b[91m╸\u001b[0m \u001b[32m776.3/776.4 MB\u001b[0m \u001b[31m170.3 MB/s\u001b[0m eta \u001b[36m0:00:01\u001b[0m"
     ]
    },
    {
     "name": "stdout",
     "output_type": "stream",
     "text": [
      "\r",
      "\u001b[2K     \u001b[91m━━━━━━━━━━━━━━━━━━━━━━━━━━━━━━━━━━━━\u001b[0m\u001b[91m╸\u001b[0m \u001b[32m776.3/776.4 MB\u001b[0m \u001b[31m170.3 MB/s\u001b[0m eta \u001b[36m0:00:01\u001b[0m\r",
      "\u001b[2K     \u001b[91m━━━━━━━━━━━━━━━━━━━━━━━━━━━━━━━━━━━━\u001b[0m\u001b[91m╸\u001b[0m \u001b[32m776.3/776.4 MB\u001b[0m \u001b[31m170.3 MB/s\u001b[0m eta \u001b[36m0:00:01\u001b[0m"
     ]
    },
    {
     "name": "stdout",
     "output_type": "stream",
     "text": [
      "\r",
      "\u001b[2K     \u001b[91m━━━━━━━━━━━━━━━━━━━━━━━━━━━━━━━━━━━━\u001b[0m\u001b[91m╸\u001b[0m \u001b[32m776.3/776.4 MB\u001b[0m \u001b[31m170.3 MB/s\u001b[0m eta \u001b[36m0:00:01\u001b[0m"
     ]
    },
    {
     "name": "stdout",
     "output_type": "stream",
     "text": [
      "\r",
      "\u001b[2K     \u001b[91m━━━━━━━━━━━━━━━━━━━━━━━━━━━━━━━━━━━━\u001b[0m\u001b[91m╸\u001b[0m \u001b[32m776.3/776.4 MB\u001b[0m \u001b[31m170.3 MB/s\u001b[0m eta \u001b[36m0:00:01\u001b[0m"
     ]
    },
    {
     "name": "stdout",
     "output_type": "stream",
     "text": [
      "\r",
      "\u001b[2K     \u001b[91m━━━━━━━━━━━━━━━━━━━━━━━━━━━━━━━━━━━━\u001b[0m\u001b[91m╸\u001b[0m \u001b[32m776.3/776.4 MB\u001b[0m \u001b[31m170.3 MB/s\u001b[0m eta \u001b[36m0:00:01\u001b[0m\r",
      "\u001b[2K     \u001b[91m━━━━━━━━━━━━━━━━━━━━━━━━━━━━━━━━━━━━\u001b[0m\u001b[91m╸\u001b[0m \u001b[32m776.3/776.4 MB\u001b[0m \u001b[31m170.3 MB/s\u001b[0m eta \u001b[36m0:00:01\u001b[0m"
     ]
    },
    {
     "name": "stdout",
     "output_type": "stream",
     "text": [
      "\r",
      "\u001b[2K     \u001b[91m━━━━━━━━━━━━━━━━━━━━━━━━━━━━━━━━━━━━\u001b[0m\u001b[91m╸\u001b[0m \u001b[32m776.3/776.4 MB\u001b[0m \u001b[31m170.3 MB/s\u001b[0m eta \u001b[36m0:00:01\u001b[0m"
     ]
    },
    {
     "name": "stdout",
     "output_type": "stream",
     "text": [
      "\r",
      "\u001b[2K     \u001b[91m━━━━━━━━━━━━━━━━━━━━━━━━━━━━━━━━━━━━\u001b[0m\u001b[91m╸\u001b[0m \u001b[32m776.3/776.4 MB\u001b[0m \u001b[31m170.3 MB/s\u001b[0m eta \u001b[36m0:00:01\u001b[0m\r",
      "\u001b[2K     \u001b[91m━━━━━━━━━━━━━━━━━━━━━━━━━━━━━━━━━━━━\u001b[0m\u001b[91m╸\u001b[0m \u001b[32m776.3/776.4 MB\u001b[0m \u001b[31m170.3 MB/s\u001b[0m eta \u001b[36m0:00:01\u001b[0m"
     ]
    },
    {
     "name": "stdout",
     "output_type": "stream",
     "text": [
      "\r",
      "\u001b[2K     \u001b[91m━━━━━━━━━━━━━━━━━━━━━━━━━━━━━━━━━━━━\u001b[0m\u001b[91m╸\u001b[0m \u001b[32m776.3/776.4 MB\u001b[0m \u001b[31m170.3 MB/s\u001b[0m eta \u001b[36m0:00:01\u001b[0m"
     ]
    },
    {
     "name": "stdout",
     "output_type": "stream",
     "text": [
      "\r",
      "\u001b[2K     \u001b[91m━━━━━━━━━━━━━━━━━━━━━━━━━━━━━━━━━━━━\u001b[0m\u001b[91m╸\u001b[0m \u001b[32m776.3/776.4 MB\u001b[0m \u001b[31m170.3 MB/s\u001b[0m eta \u001b[36m0:00:01\u001b[0m\r",
      "\u001b[2K     \u001b[91m━━━━━━━━━━━━━━━━━━━━━━━━━━━━━━━━━━━━\u001b[0m\u001b[91m╸\u001b[0m \u001b[32m776.3/776.4 MB\u001b[0m \u001b[31m170.3 MB/s\u001b[0m eta \u001b[36m0:00:01\u001b[0m"
     ]
    },
    {
     "name": "stdout",
     "output_type": "stream",
     "text": [
      "\r",
      "\u001b[2K     \u001b[91m━━━━━━━━━━━━━━━━━━━━━━━━━━━━━━━━━━━━\u001b[0m\u001b[91m╸\u001b[0m \u001b[32m776.3/776.4 MB\u001b[0m \u001b[31m170.3 MB/s\u001b[0m eta \u001b[36m0:00:01\u001b[0m"
     ]
    },
    {
     "name": "stdout",
     "output_type": "stream",
     "text": [
      "\r",
      "\u001b[2K     \u001b[91m━━━━━━━━━━━━━━━━━━━━━━━━━━━━━━━━━━━━\u001b[0m\u001b[91m╸\u001b[0m \u001b[32m776.3/776.4 MB\u001b[0m \u001b[31m170.3 MB/s\u001b[0m eta \u001b[36m0:00:01\u001b[0m\r",
      "\u001b[2K     \u001b[91m━━━━━━━━━━━━━━━━━━━━━━━━━━━━━━━━━━━━\u001b[0m\u001b[91m╸\u001b[0m \u001b[32m776.3/776.4 MB\u001b[0m \u001b[31m170.3 MB/s\u001b[0m eta \u001b[36m0:00:01\u001b[0m"
     ]
    },
    {
     "name": "stdout",
     "output_type": "stream",
     "text": [
      "\r",
      "\u001b[2K     \u001b[91m━━━━━━━━━━━━━━━━━━━━━━━━━━━━━━━━━━━━\u001b[0m\u001b[91m╸\u001b[0m \u001b[32m776.3/776.4 MB\u001b[0m \u001b[31m170.3 MB/s\u001b[0m eta \u001b[36m0:00:01\u001b[0m"
     ]
    },
    {
     "name": "stdout",
     "output_type": "stream",
     "text": [
      "\r",
      "\u001b[2K     \u001b[91m━━━━━━━━━━━━━━━━━━━━━━━━━━━━━━━━━━━━\u001b[0m\u001b[91m╸\u001b[0m \u001b[32m776.3/776.4 MB\u001b[0m \u001b[31m170.3 MB/s\u001b[0m eta \u001b[36m0:00:01\u001b[0m"
     ]
    },
    {
     "name": "stdout",
     "output_type": "stream",
     "text": [
      "\r",
      "\u001b[2K     \u001b[91m━━━━━━━━━━━━━━━━━━━━━━━━━━━━━━━━━━━━\u001b[0m\u001b[91m╸\u001b[0m \u001b[32m776.3/776.4 MB\u001b[0m \u001b[31m170.3 MB/s\u001b[0m eta \u001b[36m0:00:01\u001b[0m\r",
      "\u001b[2K     \u001b[91m━━━━━━━━━━━━━━━━━━━━━━━━━━━━━━━━━━━━\u001b[0m\u001b[91m╸\u001b[0m \u001b[32m776.3/776.4 MB\u001b[0m \u001b[31m170.3 MB/s\u001b[0m eta \u001b[36m0:00:01\u001b[0m"
     ]
    },
    {
     "name": "stdout",
     "output_type": "stream",
     "text": [
      "\r",
      "\u001b[2K     \u001b[91m━━━━━━━━━━━━━━━━━━━━━━━━━━━━━━━━━━━━\u001b[0m\u001b[91m╸\u001b[0m \u001b[32m776.3/776.4 MB\u001b[0m \u001b[31m170.3 MB/s\u001b[0m eta \u001b[36m0:00:01\u001b[0m"
     ]
    },
    {
     "name": "stdout",
     "output_type": "stream",
     "text": [
      "\r",
      "\u001b[2K     \u001b[91m━━━━━━━━━━━━━━━━━━━━━━━━━━━━━━━━━━━━\u001b[0m\u001b[91m╸\u001b[0m \u001b[32m776.3/776.4 MB\u001b[0m \u001b[31m170.3 MB/s\u001b[0m eta \u001b[36m0:00:01\u001b[0m\r",
      "\u001b[2K     \u001b[91m━━━━━━━━━━━━━━━━━━━━━━━━━━━━━━━━━━━━\u001b[0m\u001b[91m╸\u001b[0m \u001b[32m776.3/776.4 MB\u001b[0m \u001b[31m170.3 MB/s\u001b[0m eta \u001b[36m0:00:01\u001b[0m"
     ]
    },
    {
     "name": "stdout",
     "output_type": "stream",
     "text": [
      "\r",
      "\u001b[2K     \u001b[91m━━━━━━━━━━━━━━━━━━━━━━━━━━━━━━━━━━━━\u001b[0m\u001b[91m╸\u001b[0m \u001b[32m776.3/776.4 MB\u001b[0m \u001b[31m170.3 MB/s\u001b[0m eta \u001b[36m0:00:01\u001b[0m"
     ]
    },
    {
     "name": "stdout",
     "output_type": "stream",
     "text": [
      "\r",
      "\u001b[2K     \u001b[91m━━━━━━━━━━━━━━━━━━━━━━━━━━━━━━━━━━━━\u001b[0m\u001b[91m╸\u001b[0m \u001b[32m776.3/776.4 MB\u001b[0m \u001b[31m170.3 MB/s\u001b[0m eta \u001b[36m0:00:01\u001b[0m\r",
      "\u001b[2K     \u001b[91m━━━━━━━━━━━━━━━━━━━━━━━━━━━━━━━━━━━━\u001b[0m\u001b[91m╸\u001b[0m \u001b[32m776.3/776.4 MB\u001b[0m \u001b[31m170.3 MB/s\u001b[0m eta \u001b[36m0:00:01\u001b[0m"
     ]
    },
    {
     "name": "stdout",
     "output_type": "stream",
     "text": [
      "\r",
      "\u001b[2K     \u001b[91m━━━━━━━━━━━━━━━━━━━━━━━━━━━━━━━━━━━━\u001b[0m\u001b[91m╸\u001b[0m \u001b[32m776.3/776.4 MB\u001b[0m \u001b[31m170.3 MB/s\u001b[0m eta \u001b[36m0:00:01\u001b[0m"
     ]
    },
    {
     "name": "stdout",
     "output_type": "stream",
     "text": [
      "\r",
      "\u001b[2K     \u001b[91m━━━━━━━━━━━━━━━━━━━━━━━━━━━━━━━━━━━━\u001b[0m\u001b[91m╸\u001b[0m \u001b[32m776.3/776.4 MB\u001b[0m \u001b[31m170.3 MB/s\u001b[0m eta \u001b[36m0:00:01\u001b[0m\r",
      "\u001b[2K     \u001b[91m━━━━━━━━━━━━━━━━━━━━━━━━━━━━━━━━━━━━\u001b[0m\u001b[91m╸\u001b[0m \u001b[32m776.3/776.4 MB\u001b[0m \u001b[31m170.3 MB/s\u001b[0m eta \u001b[36m0:00:01\u001b[0m"
     ]
    },
    {
     "name": "stdout",
     "output_type": "stream",
     "text": [
      "\r",
      "\u001b[2K     \u001b[91m━━━━━━━━━━━━━━━━━━━━━━━━━━━━━━━━━━━━\u001b[0m\u001b[91m╸\u001b[0m \u001b[32m776.3/776.4 MB\u001b[0m \u001b[31m170.3 MB/s\u001b[0m eta \u001b[36m0:00:01\u001b[0m"
     ]
    },
    {
     "name": "stdout",
     "output_type": "stream",
     "text": [
      "\r",
      "\u001b[2K     \u001b[91m━━━━━━━━━━━━━━━━━━━━━━━━━━━━━━━━━━━━\u001b[0m\u001b[91m╸\u001b[0m \u001b[32m776.3/776.4 MB\u001b[0m \u001b[31m170.3 MB/s\u001b[0m eta \u001b[36m0:00:01\u001b[0m"
     ]
    },
    {
     "name": "stdout",
     "output_type": "stream",
     "text": [
      "\r",
      "\u001b[2K     \u001b[91m━━━━━━━━━━━━━━━━━━━━━━━━━━━━━━━━━━━━\u001b[0m\u001b[91m╸\u001b[0m \u001b[32m776.3/776.4 MB\u001b[0m \u001b[31m170.3 MB/s\u001b[0m eta \u001b[36m0:00:01\u001b[0m\r",
      "\u001b[2K     \u001b[91m━━━━━━━━━━━━━━━━━━━━━━━━━━━━━━━━━━━━\u001b[0m\u001b[91m╸\u001b[0m \u001b[32m776.3/776.4 MB\u001b[0m \u001b[31m170.3 MB/s\u001b[0m eta \u001b[36m0:00:01\u001b[0m"
     ]
    },
    {
     "name": "stdout",
     "output_type": "stream",
     "text": [
      "\r",
      "\u001b[2K     \u001b[91m━━━━━━━━━━━━━━━━━━━━━━━━━━━━━━━━━━━━\u001b[0m\u001b[91m╸\u001b[0m \u001b[32m776.3/776.4 MB\u001b[0m \u001b[31m170.3 MB/s\u001b[0m eta \u001b[36m0:00:01\u001b[0m"
     ]
    },
    {
     "name": "stdout",
     "output_type": "stream",
     "text": [
      "\r",
      "\u001b[2K     \u001b[91m━━━━━━━━━━━━━━━━━━━━━━━━━━━━━━━━━━━━\u001b[0m\u001b[91m╸\u001b[0m \u001b[32m776.3/776.4 MB\u001b[0m \u001b[31m170.3 MB/s\u001b[0m eta \u001b[36m0:00:01\u001b[0m\r",
      "\u001b[2K     \u001b[91m━━━━━━━━━━━━━━━━━━━━━━━━━━━━━━━━━━━━\u001b[0m\u001b[91m╸\u001b[0m \u001b[32m776.3/776.4 MB\u001b[0m \u001b[31m170.3 MB/s\u001b[0m eta \u001b[36m0:00:01\u001b[0m"
     ]
    },
    {
     "name": "stdout",
     "output_type": "stream",
     "text": [
      "\r",
      "\u001b[2K     \u001b[91m━━━━━━━━━━━━━━━━━━━━━━━━━━━━━━━━━━━━\u001b[0m\u001b[91m╸\u001b[0m \u001b[32m776.3/776.4 MB\u001b[0m \u001b[31m170.3 MB/s\u001b[0m eta \u001b[36m0:00:01\u001b[0m"
     ]
    },
    {
     "name": "stdout",
     "output_type": "stream",
     "text": [
      "\r",
      "\u001b[2K     \u001b[91m━━━━━━━━━━━━━━━━━━━━━━━━━━━━━━━━━━━━\u001b[0m\u001b[91m╸\u001b[0m \u001b[32m776.3/776.4 MB\u001b[0m \u001b[31m170.3 MB/s\u001b[0m eta \u001b[36m0:00:01\u001b[0m\r",
      "\u001b[2K     \u001b[91m━━━━━━━━━━━━━━━━━━━━━━━━━━━━━━━━━━━━\u001b[0m\u001b[91m╸\u001b[0m \u001b[32m776.3/776.4 MB\u001b[0m \u001b[31m170.3 MB/s\u001b[0m eta \u001b[36m0:00:01\u001b[0m"
     ]
    },
    {
     "name": "stdout",
     "output_type": "stream",
     "text": [
      "\r",
      "\u001b[2K     \u001b[91m━━━━━━━━━━━━━━━━━━━━━━━━━━━━━━━━━━━━\u001b[0m\u001b[91m╸\u001b[0m \u001b[32m776.3/776.4 MB\u001b[0m \u001b[31m170.3 MB/s\u001b[0m eta \u001b[36m0:00:01\u001b[0m"
     ]
    },
    {
     "name": "stdout",
     "output_type": "stream",
     "text": [
      "\r",
      "\u001b[2K     \u001b[91m━━━━━━━━━━━━━━━━━━━━━━━━━━━━━━━━━━━━\u001b[0m\u001b[91m╸\u001b[0m \u001b[32m776.3/776.4 MB\u001b[0m \u001b[31m170.3 MB/s\u001b[0m eta \u001b[36m0:00:01\u001b[0m\r",
      "\u001b[2K     \u001b[91m━━━━━━━━━━━━━━━━━━━━━━━━━━━━━━━━━━━━\u001b[0m\u001b[91m╸\u001b[0m \u001b[32m776.3/776.4 MB\u001b[0m \u001b[31m170.3 MB/s\u001b[0m eta \u001b[36m0:00:01\u001b[0m"
     ]
    },
    {
     "name": "stdout",
     "output_type": "stream",
     "text": [
      "\r",
      "\u001b[2K     \u001b[91m━━━━━━━━━━━━━━━━━━━━━━━━━━━━━━━━━━━━\u001b[0m\u001b[91m╸\u001b[0m \u001b[32m776.3/776.4 MB\u001b[0m \u001b[31m170.3 MB/s\u001b[0m eta \u001b[36m0:00:01\u001b[0m"
     ]
    },
    {
     "name": "stdout",
     "output_type": "stream",
     "text": [
      "\r",
      "\u001b[2K     \u001b[91m━━━━━━━━━━━━━━━━━━━━━━━━━━━━━━━━━━━━\u001b[0m\u001b[91m╸\u001b[0m \u001b[32m776.3/776.4 MB\u001b[0m \u001b[31m170.3 MB/s\u001b[0m eta \u001b[36m0:00:01\u001b[0m"
     ]
    },
    {
     "name": "stdout",
     "output_type": "stream",
     "text": [
      "\r",
      "\u001b[2K     \u001b[91m━━━━━━━━━━━━━━━━━━━━━━━━━━━━━━━━━━━━\u001b[0m\u001b[91m╸\u001b[0m \u001b[32m776.3/776.4 MB\u001b[0m \u001b[31m170.3 MB/s\u001b[0m eta \u001b[36m0:00:01\u001b[0m\r",
      "\u001b[2K     \u001b[91m━━━━━━━━━━━━━━━━━━━━━━━━━━━━━━━━━━━━\u001b[0m\u001b[91m╸\u001b[0m \u001b[32m776.3/776.4 MB\u001b[0m \u001b[31m170.3 MB/s\u001b[0m eta \u001b[36m0:00:01\u001b[0m"
     ]
    },
    {
     "name": "stdout",
     "output_type": "stream",
     "text": [
      "\r",
      "\u001b[2K     \u001b[91m━━━━━━━━━━━━━━━━━━━━━━━━━━━━━━━━━━━━\u001b[0m\u001b[91m╸\u001b[0m \u001b[32m776.3/776.4 MB\u001b[0m \u001b[31m170.3 MB/s\u001b[0m eta \u001b[36m0:00:01\u001b[0m"
     ]
    },
    {
     "name": "stdout",
     "output_type": "stream",
     "text": [
      "\r",
      "\u001b[2K     \u001b[91m━━━━━━━━━━━━━━━━━━━━━━━━━━━━━━━━━━━━\u001b[0m\u001b[91m╸\u001b[0m \u001b[32m776.3/776.4 MB\u001b[0m \u001b[31m170.3 MB/s\u001b[0m eta \u001b[36m0:00:01\u001b[0m\r",
      "\u001b[2K     \u001b[91m━━━━━━━━━━━━━━━━━━━━━━━━━━━━━━━━━━━━\u001b[0m\u001b[91m╸\u001b[0m \u001b[32m776.3/776.4 MB\u001b[0m \u001b[31m170.3 MB/s\u001b[0m eta \u001b[36m0:00:01\u001b[0m"
     ]
    },
    {
     "name": "stdout",
     "output_type": "stream",
     "text": [
      "\r",
      "\u001b[2K     \u001b[91m━━━━━━━━━━━━━━━━━━━━━━━━━━━━━━━━━━━━\u001b[0m\u001b[91m╸\u001b[0m \u001b[32m776.3/776.4 MB\u001b[0m \u001b[31m170.3 MB/s\u001b[0m eta \u001b[36m0:00:01\u001b[0m"
     ]
    },
    {
     "name": "stdout",
     "output_type": "stream",
     "text": [
      "\r",
      "\u001b[2K     \u001b[91m━━━━━━━━━━━━━━━━━━━━━━━━━━━━━━━━━━━━\u001b[0m\u001b[91m╸\u001b[0m \u001b[32m776.3/776.4 MB\u001b[0m \u001b[31m170.3 MB/s\u001b[0m eta \u001b[36m0:00:01\u001b[0m\r",
      "\u001b[2K     \u001b[91m━━━━━━━━━━━━━━━━━━━━━━━━━━━━━━━━━━━━\u001b[0m\u001b[91m╸\u001b[0m \u001b[32m776.3/776.4 MB\u001b[0m \u001b[31m170.3 MB/s\u001b[0m eta \u001b[36m0:00:01\u001b[0m"
     ]
    },
    {
     "name": "stdout",
     "output_type": "stream",
     "text": [
      "\r",
      "\u001b[2K     \u001b[91m━━━━━━━━━━━━━━━━━━━━━━━━━━━━━━━━━━━━\u001b[0m\u001b[91m╸\u001b[0m \u001b[32m776.3/776.4 MB\u001b[0m \u001b[31m170.3 MB/s\u001b[0m eta \u001b[36m0:00:01\u001b[0m"
     ]
    },
    {
     "name": "stdout",
     "output_type": "stream",
     "text": [
      "\r",
      "\u001b[2K     \u001b[91m━━━━━━━━━━━━━━━━━━━━━━━━━━━━━━━━━━━━\u001b[0m\u001b[91m╸\u001b[0m \u001b[32m776.3/776.4 MB\u001b[0m \u001b[31m170.3 MB/s\u001b[0m eta \u001b[36m0:00:01\u001b[0m"
     ]
    },
    {
     "name": "stdout",
     "output_type": "stream",
     "text": [
      "\r",
      "\u001b[2K     \u001b[91m━━━━━━━━━━━━━━━━━━━━━━━━━━━━━━━━━━━━\u001b[0m\u001b[91m╸\u001b[0m \u001b[32m776.3/776.4 MB\u001b[0m \u001b[31m170.3 MB/s\u001b[0m eta \u001b[36m0:00:01\u001b[0m\r",
      "\u001b[2K     \u001b[91m━━━━━━━━━━━━━━━━━━━━━━━━━━━━━━━━━━━━\u001b[0m\u001b[91m╸\u001b[0m \u001b[32m776.3/776.4 MB\u001b[0m \u001b[31m170.3 MB/s\u001b[0m eta \u001b[36m0:00:01\u001b[0m"
     ]
    },
    {
     "name": "stdout",
     "output_type": "stream",
     "text": [
      "\r",
      "\u001b[2K     \u001b[91m━━━━━━━━━━━━━━━━━━━━━━━━━━━━━━━━━━━━\u001b[0m\u001b[91m╸\u001b[0m \u001b[32m776.3/776.4 MB\u001b[0m \u001b[31m170.3 MB/s\u001b[0m eta \u001b[36m0:00:01\u001b[0m"
     ]
    },
    {
     "name": "stdout",
     "output_type": "stream",
     "text": [
      "\r",
      "\u001b[2K     \u001b[91m━━━━━━━━━━━━━━━━━━━━━━━━━━━━━━━━━━━━\u001b[0m\u001b[91m╸\u001b[0m \u001b[32m776.3/776.4 MB\u001b[0m \u001b[31m170.3 MB/s\u001b[0m eta \u001b[36m0:00:01\u001b[0m\r",
      "\u001b[2K     \u001b[91m━━━━━━━━━━━━━━━━━━━━━━━━━━━━━━━━━━━━\u001b[0m\u001b[91m╸\u001b[0m \u001b[32m776.3/776.4 MB\u001b[0m \u001b[31m170.3 MB/s\u001b[0m eta \u001b[36m0:00:01\u001b[0m"
     ]
    },
    {
     "name": "stdout",
     "output_type": "stream",
     "text": [
      "\r",
      "\u001b[2K     \u001b[91m━━━━━━━━━━━━━━━━━━━━━━━━━━━━━━━━━━━━\u001b[0m\u001b[91m╸\u001b[0m \u001b[32m776.3/776.4 MB\u001b[0m \u001b[31m170.3 MB/s\u001b[0m eta \u001b[36m0:00:01\u001b[0m"
     ]
    },
    {
     "name": "stdout",
     "output_type": "stream",
     "text": [
      "\r",
      "\u001b[2K     \u001b[91m━━━━━━━━━━━━━━━━━━━━━━━━━━━━━━━━━━━━\u001b[0m\u001b[91m╸\u001b[0m \u001b[32m776.3/776.4 MB\u001b[0m \u001b[31m170.3 MB/s\u001b[0m eta \u001b[36m0:00:01\u001b[0m\r",
      "\u001b[2K     \u001b[91m━━━━━━━━━━━━━━━━━━━━━━━━━━━━━━━━━━━━\u001b[0m\u001b[91m╸\u001b[0m \u001b[32m776.3/776.4 MB\u001b[0m \u001b[31m170.3 MB/s\u001b[0m eta \u001b[36m0:00:01\u001b[0m"
     ]
    },
    {
     "name": "stdout",
     "output_type": "stream",
     "text": [
      "\r",
      "\u001b[2K     \u001b[91m━━━━━━━━━━━━━━━━━━━━━━━━━━━━━━━━━━━━\u001b[0m\u001b[91m╸\u001b[0m \u001b[32m776.3/776.4 MB\u001b[0m \u001b[31m170.3 MB/s\u001b[0m eta \u001b[36m0:00:01\u001b[0m"
     ]
    },
    {
     "name": "stdout",
     "output_type": "stream",
     "text": [
      "\r",
      "\u001b[2K     \u001b[91m━━━━━━━━━━━━━━━━━━━━━━━━━━━━━━━━━━━━\u001b[0m\u001b[91m╸\u001b[0m \u001b[32m776.3/776.4 MB\u001b[0m \u001b[31m170.3 MB/s\u001b[0m eta \u001b[36m0:00:01\u001b[0m"
     ]
    },
    {
     "name": "stdout",
     "output_type": "stream",
     "text": [
      "\r",
      "\u001b[2K     \u001b[91m━━━━━━━━━━━━━━━━━━━━━━━━━━━━━━━━━━━━\u001b[0m\u001b[91m╸\u001b[0m \u001b[32m776.3/776.4 MB\u001b[0m \u001b[31m170.3 MB/s\u001b[0m eta \u001b[36m0:00:01\u001b[0m\r",
      "\u001b[2K     \u001b[91m━━━━━━━━━━━━━━━━━━━━━━━━━━━━━━━━━━━━\u001b[0m\u001b[91m╸\u001b[0m \u001b[32m776.3/776.4 MB\u001b[0m \u001b[31m170.3 MB/s\u001b[0m eta \u001b[36m0:00:01\u001b[0m"
     ]
    },
    {
     "name": "stdout",
     "output_type": "stream",
     "text": [
      "\r",
      "\u001b[2K     \u001b[91m━━━━━━━━━━━━━━━━━━━━━━━━━━━━━━━━━━━━\u001b[0m\u001b[91m╸\u001b[0m \u001b[32m776.3/776.4 MB\u001b[0m \u001b[31m170.3 MB/s\u001b[0m eta \u001b[36m0:00:01\u001b[0m"
     ]
    },
    {
     "name": "stdout",
     "output_type": "stream",
     "text": [
      "\r",
      "\u001b[2K     \u001b[91m━━━━━━━━━━━━━━━━━━━━━━━━━━━━━━━━━━━━\u001b[0m\u001b[91m╸\u001b[0m \u001b[32m776.3/776.4 MB\u001b[0m \u001b[31m170.3 MB/s\u001b[0m eta \u001b[36m0:00:01\u001b[0m\r",
      "\u001b[2K     \u001b[91m━━━━━━━━━━━━━━━━━━━━━━━━━━━━━━━━━━━━\u001b[0m\u001b[91m╸\u001b[0m \u001b[32m776.3/776.4 MB\u001b[0m \u001b[31m170.3 MB/s\u001b[0m eta \u001b[36m0:00:01\u001b[0m"
     ]
    },
    {
     "name": "stdout",
     "output_type": "stream",
     "text": [
      "\r",
      "\u001b[2K     \u001b[91m━━━━━━━━━━━━━━━━━━━━━━━━━━━━━━━━━━━━\u001b[0m\u001b[91m╸\u001b[0m \u001b[32m776.3/776.4 MB\u001b[0m \u001b[31m170.3 MB/s\u001b[0m eta \u001b[36m0:00:01\u001b[0m"
     ]
    },
    {
     "name": "stdout",
     "output_type": "stream",
     "text": [
      "\r",
      "\u001b[2K     \u001b[91m━━━━━━━━━━━━━━━━━━━━━━━━━━━━━━━━━━━━\u001b[0m\u001b[91m╸\u001b[0m \u001b[32m776.3/776.4 MB\u001b[0m \u001b[31m170.3 MB/s\u001b[0m eta \u001b[36m0:00:01\u001b[0m"
     ]
    },
    {
     "name": "stdout",
     "output_type": "stream",
     "text": [
      "\r",
      "\u001b[2K     \u001b[91m━━━━━━━━━━━━━━━━━━━━━━━━━━━━━━━━━━━━\u001b[0m\u001b[91m╸\u001b[0m \u001b[32m776.3/776.4 MB\u001b[0m \u001b[31m170.3 MB/s\u001b[0m eta \u001b[36m0:00:01\u001b[0m\r",
      "\u001b[2K     \u001b[91m━━━━━━━━━━━━━━━━━━━━━━━━━━━━━━━━━━━━\u001b[0m\u001b[91m╸\u001b[0m \u001b[32m776.3/776.4 MB\u001b[0m \u001b[31m170.3 MB/s\u001b[0m eta \u001b[36m0:00:01\u001b[0m"
     ]
    },
    {
     "name": "stdout",
     "output_type": "stream",
     "text": [
      "\r",
      "\u001b[2K     \u001b[91m━━━━━━━━━━━━━━━━━━━━━━━━━━━━━━━━━━━━\u001b[0m\u001b[91m╸\u001b[0m \u001b[32m776.3/776.4 MB\u001b[0m \u001b[31m170.3 MB/s\u001b[0m eta \u001b[36m0:00:01\u001b[0m"
     ]
    },
    {
     "name": "stdout",
     "output_type": "stream",
     "text": [
      "\r",
      "\u001b[2K     \u001b[91m━━━━━━━━━━━━━━━━━━━━━━━━━━━━━━━━━━━━\u001b[0m\u001b[91m╸\u001b[0m \u001b[32m776.3/776.4 MB\u001b[0m \u001b[31m170.3 MB/s\u001b[0m eta \u001b[36m0:00:01\u001b[0m\r",
      "\u001b[2K     \u001b[91m━━━━━━━━━━━━━━━━━━━━━━━━━━━━━━━━━━━━\u001b[0m\u001b[91m╸\u001b[0m \u001b[32m776.3/776.4 MB\u001b[0m \u001b[31m170.3 MB/s\u001b[0m eta \u001b[36m0:00:01\u001b[0m"
     ]
    },
    {
     "name": "stdout",
     "output_type": "stream",
     "text": [
      "\r",
      "\u001b[2K     \u001b[91m━━━━━━━━━━━━━━━━━━━━━━━━━━━━━━━━━━━━\u001b[0m\u001b[91m╸\u001b[0m \u001b[32m776.3/776.4 MB\u001b[0m \u001b[31m170.3 MB/s\u001b[0m eta \u001b[36m0:00:01\u001b[0m"
     ]
    },
    {
     "name": "stdout",
     "output_type": "stream",
     "text": [
      "\r",
      "\u001b[2K     \u001b[91m━━━━━━━━━━━━━━━━━━━━━━━━━━━━━━━━━━━━\u001b[0m\u001b[91m╸\u001b[0m \u001b[32m776.3/776.4 MB\u001b[0m \u001b[31m170.3 MB/s\u001b[0m eta \u001b[36m0:00:01\u001b[0m"
     ]
    },
    {
     "name": "stdout",
     "output_type": "stream",
     "text": [
      "\r",
      "\u001b[2K     \u001b[91m━━━━━━━━━━━━━━━━━━━━━━━━━━━━━━━━━━━━\u001b[0m\u001b[91m╸\u001b[0m \u001b[32m776.3/776.4 MB\u001b[0m \u001b[31m170.3 MB/s\u001b[0m eta \u001b[36m0:00:01\u001b[0m\r",
      "\u001b[2K     \u001b[91m━━━━━━━━━━━━━━━━━━━━━━━━━━━━━━━━━━━━\u001b[0m\u001b[91m╸\u001b[0m \u001b[32m776.3/776.4 MB\u001b[0m \u001b[31m170.3 MB/s\u001b[0m eta \u001b[36m0:00:01\u001b[0m"
     ]
    },
    {
     "name": "stdout",
     "output_type": "stream",
     "text": [
      "\r",
      "\u001b[2K     \u001b[91m━━━━━━━━━━━━━━━━━━━━━━━━━━━━━━━━━━━━\u001b[0m\u001b[91m╸\u001b[0m \u001b[32m776.3/776.4 MB\u001b[0m \u001b[31m170.3 MB/s\u001b[0m eta \u001b[36m0:00:01\u001b[0m"
     ]
    },
    {
     "name": "stdout",
     "output_type": "stream",
     "text": [
      "\r",
      "\u001b[2K     \u001b[91m━━━━━━━━━━━━━━━━━━━━━━━━━━━━━━━━━━━━\u001b[0m\u001b[91m╸\u001b[0m \u001b[32m776.3/776.4 MB\u001b[0m \u001b[31m170.3 MB/s\u001b[0m eta \u001b[36m0:00:01\u001b[0m\r",
      "\u001b[2K     \u001b[91m━━━━━━━━━━━━━━━━━━━━━━━━━━━━━━━━━━━━\u001b[0m\u001b[91m╸\u001b[0m \u001b[32m776.3/776.4 MB\u001b[0m \u001b[31m170.3 MB/s\u001b[0m eta \u001b[36m0:00:01\u001b[0m"
     ]
    },
    {
     "name": "stdout",
     "output_type": "stream",
     "text": [
      "\r",
      "\u001b[2K     \u001b[91m━━━━━━━━━━━━━━━━━━━━━━━━━━━━━━━━━━━━\u001b[0m\u001b[91m╸\u001b[0m \u001b[32m776.3/776.4 MB\u001b[0m \u001b[31m170.3 MB/s\u001b[0m eta \u001b[36m0:00:01\u001b[0m"
     ]
    },
    {
     "name": "stdout",
     "output_type": "stream",
     "text": [
      "\r",
      "\u001b[2K     \u001b[91m━━━━━━━━━━━━━━━━━━━━━━━━━━━━━━━━━━━━\u001b[0m\u001b[91m╸\u001b[0m \u001b[32m776.3/776.4 MB\u001b[0m \u001b[31m170.3 MB/s\u001b[0m eta \u001b[36m0:00:01\u001b[0m"
     ]
    },
    {
     "name": "stdout",
     "output_type": "stream",
     "text": [
      "\r",
      "\u001b[2K     \u001b[91m━━━━━━━━━━━━━━━━━━━━━━━━━━━━━━━━━━━━\u001b[0m\u001b[91m╸\u001b[0m \u001b[32m776.3/776.4 MB\u001b[0m \u001b[31m170.3 MB/s\u001b[0m eta \u001b[36m0:00:01\u001b[0m"
     ]
    },
    {
     "name": "stdout",
     "output_type": "stream",
     "text": [
      "\r",
      "\u001b[2K     \u001b[91m━━━━━━━━━━━━━━━━━━━━━━━━━━━━━━━━━━━━\u001b[0m\u001b[91m╸\u001b[0m \u001b[32m776.3/776.4 MB\u001b[0m \u001b[31m170.3 MB/s\u001b[0m eta \u001b[36m0:00:01\u001b[0m\r",
      "\u001b[2K     \u001b[91m━━━━━━━━━━━━━━━━━━━━━━━━━━━━━━━━━━━━\u001b[0m\u001b[91m╸\u001b[0m \u001b[32m776.3/776.4 MB\u001b[0m \u001b[31m170.3 MB/s\u001b[0m eta \u001b[36m0:00:01\u001b[0m"
     ]
    },
    {
     "name": "stdout",
     "output_type": "stream",
     "text": [
      "\r",
      "\u001b[2K     \u001b[90m━━━━━━━━━━━━━━━━━━━━━━━━━━━━━━━━━━━━━\u001b[0m \u001b[32m776.4/776.4 MB\u001b[0m \u001b[31m547.3 kB/s\u001b[0m eta \u001b[36m0:00:00\u001b[0m\r\n",
      "\u001b[?25h"
     ]
    },
    {
     "name": "stdout",
     "output_type": "stream",
     "text": [
      "Collecting torchvision\r\n",
      "  Downloading torchvision-0.13.1-cp39-cp39-manylinux1_x86_64.whl (19.1 MB)\r\n",
      "\u001b[?25l     \u001b[90m━━━━━━━━━━━━━━━━━━━━━━━━━━━━━━━━━━━━━━━━\u001b[0m \u001b[32m0.0/19.1 MB\u001b[0m \u001b[31m?\u001b[0m eta \u001b[36m-:--:--\u001b[0m"
     ]
    },
    {
     "name": "stdout",
     "output_type": "stream",
     "text": [
      "\r",
      "\u001b[2K     \u001b[91m━━━━━━━━━━━\u001b[0m\u001b[91m╸\u001b[0m\u001b[90m━━━━━━━━━━━━━━━━━━━━━━━━━━━━\u001b[0m \u001b[32m5.6/19.1 MB\u001b[0m \u001b[31m167.6 MB/s\u001b[0m eta \u001b[36m0:00:01\u001b[0m"
     ]
    },
    {
     "name": "stdout",
     "output_type": "stream",
     "text": [
      "\r",
      "\u001b[2K     \u001b[91m━━━━━━━━━━━━━━━━━━━━━━━\u001b[0m\u001b[91m╸\u001b[0m\u001b[90m━━━━━━━━━━━━━━━\u001b[0m \u001b[32m11.6/19.1 MB\u001b[0m \u001b[31m175.7 MB/s\u001b[0m eta \u001b[36m0:00:01\u001b[0m\r",
      "\u001b[2K     \u001b[91m━━━━━━━━━━━━━━━━━━━━━━━━━━━━━━━━━━━━━━\u001b[0m\u001b[91m╸\u001b[0m \u001b[32m19.1/19.1 MB\u001b[0m \u001b[31m200.9 MB/s\u001b[0m eta \u001b[36m0:00:01\u001b[0m"
     ]
    },
    {
     "name": "stdout",
     "output_type": "stream",
     "text": [
      "\r",
      "\u001b[2K     \u001b[91m━━━━━━━━━━━━━━━━━━━━━━━━━━━━━━━━━━━━━━\u001b[0m\u001b[91m╸\u001b[0m \u001b[32m19.1/19.1 MB\u001b[0m \u001b[31m193.5 MB/s\u001b[0m eta \u001b[36m0:00:01\u001b[0m"
     ]
    },
    {
     "name": "stdout",
     "output_type": "stream",
     "text": [
      "\r",
      "\u001b[2K     \u001b[91m━━━━━━━━━━━━━━━━━━━━━━━━━━━━━━━━━━━━━━\u001b[0m\u001b[91m╸\u001b[0m \u001b[32m19.1/19.1 MB\u001b[0m \u001b[31m193.5 MB/s\u001b[0m eta \u001b[36m0:00:01\u001b[0m\r",
      "\u001b[2K     \u001b[91m━━━━━━━━━━━━━━━━━━━━━━━━━━━━━━━━━━━━━━\u001b[0m\u001b[91m╸\u001b[0m \u001b[32m19.1/19.1 MB\u001b[0m \u001b[31m193.5 MB/s\u001b[0m eta \u001b[36m0:00:01\u001b[0m"
     ]
    },
    {
     "name": "stdout",
     "output_type": "stream",
     "text": [
      "\r",
      "\u001b[2K     \u001b[91m━━━━━━━━━━━━━━━━━━━━━━━━━━━━━━━━━━━━━━\u001b[0m\u001b[91m╸\u001b[0m \u001b[32m19.1/19.1 MB\u001b[0m \u001b[31m193.5 MB/s\u001b[0m eta \u001b[36m0:00:01\u001b[0m"
     ]
    },
    {
     "name": "stdout",
     "output_type": "stream",
     "text": [
      "\r",
      "\u001b[2K     \u001b[91m━━━━━━━━━━━━━━━━━━━━━━━━━━━━━━━━━━━━━━\u001b[0m\u001b[91m╸\u001b[0m \u001b[32m19.1/19.1 MB\u001b[0m \u001b[31m193.5 MB/s\u001b[0m eta \u001b[36m0:00:01\u001b[0m\r",
      "\u001b[2K     \u001b[91m━━━━━━━━━━━━━━━━━━━━━━━━━━━━━━━━━━━━━━\u001b[0m\u001b[91m╸\u001b[0m \u001b[32m19.1/19.1 MB\u001b[0m \u001b[31m193.5 MB/s\u001b[0m eta \u001b[36m0:00:01\u001b[0m"
     ]
    },
    {
     "name": "stdout",
     "output_type": "stream",
     "text": [
      "\r",
      "\u001b[2K     \u001b[91m━━━━━━━━━━━━━━━━━━━━━━━━━━━━━━━━━━━━━━\u001b[0m\u001b[91m╸\u001b[0m \u001b[32m19.1/19.1 MB\u001b[0m \u001b[31m193.5 MB/s\u001b[0m eta \u001b[36m0:00:01\u001b[0m"
     ]
    },
    {
     "name": "stdout",
     "output_type": "stream",
     "text": [
      "\r",
      "\u001b[2K     \u001b[91m━━━━━━━━━━━━━━━━━━━━━━━━━━━━━━━━━━━━━━\u001b[0m\u001b[91m╸\u001b[0m \u001b[32m19.1/19.1 MB\u001b[0m \u001b[31m193.5 MB/s\u001b[0m eta \u001b[36m0:00:01\u001b[0m"
     ]
    },
    {
     "name": "stdout",
     "output_type": "stream",
     "text": [
      "\r",
      "\u001b[2K     \u001b[91m━━━━━━━━━━━━━━━━━━━━━━━━━━━━━━━━━━━━━━\u001b[0m\u001b[91m╸\u001b[0m \u001b[32m19.1/19.1 MB\u001b[0m \u001b[31m193.5 MB/s\u001b[0m eta \u001b[36m0:00:01\u001b[0m\r",
      "\u001b[2K     \u001b[91m━━━━━━━━━━━━━━━━━━━━━━━━━━━━━━━━━━━━━━\u001b[0m\u001b[91m╸\u001b[0m \u001b[32m19.1/19.1 MB\u001b[0m \u001b[31m193.5 MB/s\u001b[0m eta \u001b[36m0:00:01\u001b[0m"
     ]
    },
    {
     "name": "stdout",
     "output_type": "stream",
     "text": [
      "\r",
      "\u001b[2K     \u001b[91m━━━━━━━━━━━━━━━━━━━━━━━━━━━━━━━━━━━━━━\u001b[0m\u001b[91m╸\u001b[0m \u001b[32m19.1/19.1 MB\u001b[0m \u001b[31m193.5 MB/s\u001b[0m eta \u001b[36m0:00:01\u001b[0m"
     ]
    },
    {
     "name": "stdout",
     "output_type": "stream",
     "text": [
      "\r",
      "\u001b[2K     \u001b[91m━━━━━━━━━━━━━━━━━━━━━━━━━━━━━━━━━━━━━━\u001b[0m\u001b[91m╸\u001b[0m \u001b[32m19.1/19.1 MB\u001b[0m \u001b[31m193.5 MB/s\u001b[0m eta \u001b[36m0:00:01\u001b[0m\r",
      "\u001b[2K     \u001b[91m━━━━━━━━━━━━━━━━━━━━━━━━━━━━━━━━━━━━━━\u001b[0m\u001b[91m╸\u001b[0m \u001b[32m19.1/19.1 MB\u001b[0m \u001b[31m193.5 MB/s\u001b[0m eta \u001b[36m0:00:01\u001b[0m\r",
      "\u001b[2K     \u001b[90m━━━━━━━━━━━━━━━━━━━━━━━━━━━━━━━━━━━━━━━━\u001b[0m \u001b[32m19.1/19.1 MB\u001b[0m \u001b[31m19.8 MB/s\u001b[0m eta \u001b[36m0:00:00\u001b[0m\r\n",
      "\u001b[?25h"
     ]
    },
    {
     "name": "stdout",
     "output_type": "stream",
     "text": [
      "Requirement already satisfied: typing-extensions in /opt/conda/envs/edc-default-2022.10-14/lib/python3.9/site-packages (from torch) (4.4.0)\r\n",
      "Requirement already satisfied: pillow!=8.3.*,>=5.3.0 in /opt/conda/envs/edc-default-2022.10-14/lib/python3.9/site-packages (from torchvision) (9.2.0)\r\n",
      "Requirement already satisfied: numpy in /opt/conda/envs/edc-default-2022.10-14/lib/python3.9/site-packages (from torchvision) (1.23.3)\r\n",
      "Requirement already satisfied: requests in /opt/conda/envs/edc-default-2022.10-14/lib/python3.9/site-packages (from torchvision) (2.28.1)\r\n",
      "Requirement already satisfied: charset-normalizer<3,>=2 in /opt/conda/envs/edc-default-2022.10-14/lib/python3.9/site-packages (from requests->torchvision) (2.1.1)\r\n",
      "Requirement already satisfied: idna<4,>=2.5 in /opt/conda/envs/edc-default-2022.10-14/lib/python3.9/site-packages (from requests->torchvision) (3.4)\r\n",
      "Requirement already satisfied: certifi>=2017.4.17 in /opt/conda/envs/edc-default-2022.10-14/lib/python3.9/site-packages (from requests->torchvision) (2022.9.24)\r\n",
      "Requirement already satisfied: urllib3<1.27,>=1.21.1 in /opt/conda/envs/edc-default-2022.10-14/lib/python3.9/site-packages (from requests->torchvision) (1.26.11)\r\n"
     ]
    },
    {
     "name": "stdout",
     "output_type": "stream",
     "text": [
      "Installing collected packages: torch, torchvision\r\n"
     ]
    },
    {
     "name": "stdout",
     "output_type": "stream",
     "text": [
      "Successfully installed torch-1.12.1 torchvision-0.13.1\r\n"
     ]
    }
   ],
   "source": [
    "import os\n",
    "import sys\n",
    "\n",
    "!{sys.executable} -m pip install torch torchvision\n",
    "os.environ['EDC_PATH'] + \"/notebooks/contributions/eurocrops-model\"\n",
    "sys.path.append(os.path.join(os.environ['EDC_PATH'] + \"/notebooks/contributions/eurocrops-model\"))"
   ]
  },
  {
   "cell_type": "code",
   "execution_count": 3,
   "id": "f22868cd-049e-4e60-b668-df242d18976e",
   "metadata": {
    "execution": {
     "iopub.execute_input": "2022-10-25T10:03:28.088873Z",
     "iopub.status.busy": "2022-10-25T10:03:28.088233Z",
     "iopub.status.idle": "2022-10-25T10:03:40.148070Z",
     "shell.execute_reply": "2022-10-25T10:03:40.146969Z"
    },
    "papermill": {
     "duration": 12.110578,
     "end_time": "2022-10-25T10:03:40.150777",
     "exception": false,
     "start_time": "2022-10-25T10:03:28.040199",
     "status": "completed"
    },
    "tags": []
   },
   "outputs": [],
   "source": [
    "import json\n",
    "import logging\n",
    "import sys\n",
    "import zipfile\n",
    "\n",
    "import geopandas as gpd\n",
    "import numpy as np\n",
    "import pandas as pd\n",
    "import subprocess\n",
    "from lstm import LSTM\n",
    "from polygon import PolyDataset\n",
    "from transforms import get_sample_n_timestamps\n",
    "from utils import test, train\n",
    "from sklearn.metrics import confusion_matrix\n",
    "from sklearn.model_selection import train_test_split\n",
    "from torch.optim import Adam\n",
    "from torch.utils.data import DataLoader\n",
    "\n",
    "from sentinelhub import parse_time"
   ]
  },
  {
   "cell_type": "markdown",
   "id": "fed6baf1",
   "metadata": {
    "papermill": {
     "duration": 0.035318,
     "end_time": "2022-10-25T10:03:40.218047",
     "exception": false,
     "start_time": "2022-10-25T10:03:40.182729",
     "status": "completed"
    },
    "tags": []
   },
   "source": [
    "## 0. Constants <a name=constants></a>\n",
    "\n",
    "This section initialises paths, constants and utility functions used in the notebook."
   ]
  },
  {
   "cell_type": "code",
   "execution_count": 4,
   "id": "eff171f7-d27b-4150-9fff-65ef5f456aba",
   "metadata": {
    "execution": {
     "iopub.execute_input": "2022-10-25T10:03:40.361240Z",
     "iopub.status.busy": "2022-10-25T10:03:40.360805Z",
     "iopub.status.idle": "2022-10-25T10:03:40.383772Z",
     "shell.execute_reply": "2022-10-25T10:03:40.382915Z"
    },
    "papermill": {
     "duration": 0.102405,
     "end_time": "2022-10-25T10:03:40.394989",
     "exception": false,
     "start_time": "2022-10-25T10:03:40.292584",
     "status": "completed"
    },
    "tags": []
   },
   "outputs": [],
   "source": [
    "# path to local folders, change as desired\n",
    "INPUT_FOLDER = \"./input\"\n",
    "RESULTS_FOLDER = \"./output\"\n",
    "\n",
    "# name of files and folders of downloaded signals, do not change\n",
    "DATAFILE = \"ml-example-data.zip\"\n",
    "DOWNLOAD_URL = f\"https://sinergise0-my.sharepoint.com/:u:/g/personal/nejc_vesel_sinergise_com/ETMx7NG-JHpBntNMJfnsCOMBVuEegDjYq8WtTmJYl8tZ-A?e=Ck5opE&download=1\"\n",
    "EUROCROPS_GPKG = \"input_geometries.gpkg\"\n",
    "SIGNALS_FOLDER = \"ml-example-signals\"\n",
    "\n",
    "\n",
    "# utility function to read json payload into a dataframe\n",
    "def stats_to_df(stats_data):\n",
    "    \"\"\"Transform Statistical API response into a pandas.DataFrame\"\"\"\n",
    "    df_data = []\n",
    "\n",
    "    for single_data in stats_data[\"data\"]:\n",
    "        df_entry = {}\n",
    "        is_valid_entry = True\n",
    "\n",
    "        df_entry[\"interval_from\"] = parse_time(single_data[\"interval\"][\"from\"]).date()\n",
    "        df_entry[\"interval_to\"] = parse_time(single_data[\"interval\"][\"to\"]).date()\n",
    "\n",
    "        for output_name, output_data in single_data[\"outputs\"].items():\n",
    "            for band_name, band_values in output_data[\"bands\"].items():\n",
    "                band_stats = band_values[\"stats\"]\n",
    "                if band_stats[\"sampleCount\"] == band_stats[\"noDataCount\"]:\n",
    "                    is_valid_entry = False\n",
    "                    break\n",
    "\n",
    "                for stat_name, value in band_stats.items():\n",
    "                    col_name = f\"{output_name}_{band_name}_{stat_name}\"\n",
    "                    if stat_name == \"percentiles\":\n",
    "                        for perc, perc_val in value.items():\n",
    "                            perc_col_name = f\"{col_name}_{perc}\"\n",
    "                            df_entry[perc_col_name] = perc_val\n",
    "                    else:\n",
    "                        df_entry[col_name] = value\n",
    "\n",
    "        if is_valid_entry:\n",
    "            df_data.append(df_entry)\n",
    "\n",
    "    return pd.DataFrame(df_data)\n",
    "\n",
    "\n",
    "# utility function to log training progress\n",
    "def define_logger(logger_name) -> logging.Logger:\n",
    "    logger = logging.getLogger(logger_name)\n",
    "    logger.setLevel(logging.INFO)\n",
    "    formatter = logging.Formatter(\"[%(asctime)s] {%(filename)s:%(lineno)d} %(levelname)s - %(message)s\")\n",
    "\n",
    "    stdout_handler = logging.StreamHandler(sys.stdout)\n",
    "    stdout_handler.setFormatter(formatter)\n",
    "    logger.addHandler(stdout_handler)\n",
    "    return logger"
   ]
  },
  {
   "cell_type": "markdown",
   "id": "cd2bdfad",
   "metadata": {
    "papermill": {
     "duration": 0.029166,
     "end_time": "2022-10-25T10:03:40.450398",
     "exception": false,
     "start_time": "2022-10-25T10:03:40.421232",
     "status": "completed"
    },
    "tags": []
   },
   "source": [
    "## 1. Retrieve signals and labels <a name=retrieve-signals></a>\n",
    "\n",
    "In this Section, signals are read from JSON files, while the labels used during model training are extracted from the Eurocrops dataset. For this notebook, sample files are provided and downloaded locally in the following cells. "
   ]
  },
  {
   "cell_type": "code",
   "execution_count": 5,
   "id": "bb9801c0",
   "metadata": {
    "execution": {
     "iopub.execute_input": "2022-10-25T10:03:40.550783Z",
     "iopub.status.busy": "2022-10-25T10:03:40.550180Z",
     "iopub.status.idle": "2022-10-25T10:03:40.555898Z",
     "shell.execute_reply": "2022-10-25T10:03:40.555049Z"
    },
    "papermill": {
     "duration": 0.045038,
     "end_time": "2022-10-25T10:03:40.560901",
     "exception": false,
     "start_time": "2022-10-25T10:03:40.515863",
     "status": "completed"
    },
    "tags": []
   },
   "outputs": [],
   "source": [
    "if not os.path.exists(INPUT_FOLDER):\n",
    "    os.mkdir(INPUT_FOLDER)"
   ]
  },
  {
   "cell_type": "code",
   "execution_count": 6,
   "id": "aeb2e4bb-f12a-44d4-b251-4ff7a6d39d0f",
   "metadata": {
    "execution": {
     "iopub.execute_input": "2022-10-25T10:03:40.681672Z",
     "iopub.status.busy": "2022-10-25T10:03:40.681250Z",
     "iopub.status.idle": "2022-10-25T10:03:45.050471Z",
     "shell.execute_reply": "2022-10-25T10:03:45.044554Z"
    },
    "papermill": {
     "duration": 4.451393,
     "end_time": "2022-10-25T10:03:45.052832",
     "exception": false,
     "start_time": "2022-10-25T10:03:40.601439",
     "status": "completed"
    },
    "tags": []
   },
   "outputs": [
    {
     "name": "stderr",
     "output_type": "stream",
     "text": [
      "--2022-10-25 05:03:40--  https://sinergise0-my.sharepoint.com/:u:/g/personal/nejc_vesel_sinergise_com/ETMx7NG-JHpBntNMJfnsCOMBVuEegDjYq8WtTmJYl8tZ-A?e=Ck5opE&download=1\n",
      "Resolving sinergise0-my.sharepoint.com (sinergise0-my.sharepoint.com)... 13.107.136.9, 13.107.138.9\n",
      "Connecting to sinergise0-my.sharepoint.com (sinergise0-my.sharepoint.com)|13.107.136.9|:443... connected.\n",
      "HTTP request sent, awaiting response... "
     ]
    },
    {
     "name": "stderr",
     "output_type": "stream",
     "text": [
      "302 Found\n",
      "Location: /personal/nejc_vesel_sinergise_com/Documents/ml-example-data.zip?ga=1 [following]\n",
      "--2022-10-25 05:03:41--  https://sinergise0-my.sharepoint.com/personal/nejc_vesel_sinergise_com/Documents/ml-example-data.zip?ga=1\n",
      "Reusing existing connection to sinergise0-my.sharepoint.com:443.\n",
      "HTTP request sent, awaiting response... "
     ]
    },
    {
     "name": "stderr",
     "output_type": "stream",
     "text": [
      "200 OK\n",
      "Length: 88085785 (84M) [application/x-zip-compressed]\n",
      "Saving to: ‘./input/ml-example-data.zip’\n",
      "\n",
      "     0K .......... .......... .......... .......... ..........  0% 5.70M 15s\n",
      "    50K .......... .......... .......... .......... ..........  0% 5.16M 15s\n",
      "   100K .......... .......... .......... .......... ..........  0% 3.81M 18s\n",
      "   150K .......... .......... .......... .......... ..........  0% 5.42M 17s\n",
      "   200K .......... .......... .......... .......... ..........  0%  229M 14s\n",
      "   250K .......... .......... .......... .......... ..........  0% 5.37M 14s\n",
      "   300K .......... .......... .......... .......... ..........  0%  109M 12s\n",
      "   350K .......... .......... .......... .......... ..........  0% 5.85M 12s\n",
      "   400K .......... .......... .......... .......... ..........  0% 80.2M 11s\n",
      "   450K .......... .......... .......... .......... ..........  0% 75.7M 10s\n",
      "   500K .......... .......... .......... .......... ..........  0% 77.3M 9s\n",
      "   550K .......... .......... .......... .......... ..........  0% 6.78M 10s\n",
      "   600K .......... .......... .......... .......... ..........  0% 77.3M 9s\n",
      "   650K .......... .......... .......... .......... ..........  0% 63.1M 8s\n",
      "   700K .......... .......... .......... .......... ..........  0%  148M 8s\n",
      "   750K .......... .......... .......... .......... ..........  0% 1.10M 12s\n",
      "   800K .......... .......... .......... .......... ..........  0%  167M 11s\n",
      "   850K .......... .......... .......... .......... ..........  1% 61.8M 11s\n",
      "   900K .......... .......... .......... .......... ..........  1% 65.2M 10s\n",
      "   950K .......... .......... .......... .......... ..........  1% 65.1M 10s\n",
      "  1000K .......... .......... .......... .......... ..........  1% 48.8M 9s\n",
      "  1050K .......... .......... .......... .......... ..........  1%  130M 9s\n",
      "  1100K .......... .......... .......... .......... ..........  1% 8.83M 9s\n",
      "  1150K .......... .......... .......... .......... ..........  1%  202M 9s\n",
      "  1200K .......... .......... .......... .......... ..........  1%  141M 8s\n",
      "  1250K .......... .......... .......... .......... ..........  1%  220M 8s\n",
      "  1300K .......... .......... .......... .......... ..........  1%  260M 8s\n",
      "  1350K .......... .......... .......... .......... ..........  1% 11.4M 8s\n",
      "  1400K .......... .......... .......... .......... ..........  1% 78.4M 7s\n",
      "  1450K .......... .......... .......... .......... ..........  1% 20.1M 7s\n",
      "  1500K .......... .......... .......... .......... ..........  1% 74.6M 7s\n",
      "  1550K .......... .......... .......... .......... ..........  1% 67.6M 7s\n",
      "  1600K .......... .......... .......... .......... ..........  1% 99.7M 7s\n",
      "  1650K .......... .......... .......... .......... ..........  1% 5.38M 7s\n",
      "  1700K .......... .......... .......... .......... ..........  2%  190M 7s\n",
      "  1750K .......... .......... .......... .......... ..........  2%  161M 7s\n",
      "  1800K .......... .......... .......... .......... ..........  2%  222M 6s\n",
      "  1850K .......... .......... .......... .......... ..........  2% 75.9M 6s\n",
      "  1900K .......... .......... .......... .......... ..........  2%  230M 6s\n",
      "  1950K .......... .......... .......... .......... ..........  2%  331M 6s\n",
      "  2000K .......... .......... .......... .......... ..........  2%  344M 6s\n",
      "  2050K .......... .......... .......... .......... ..........  2%  254M 6s\n",
      "  2100K .......... .......... .......... .......... ..........  2% 7.44M 6s\n",
      "  2150K .......... .......... .......... .......... ..........  2% 70.7M 6s\n",
      "  2200K .......... .......... .......... .......... ..........  2% 94.6M 6s\n",
      "  2250K .......... .......... .......... .......... ..........  2%  101M 6s\n",
      "  2300K .......... .......... .......... .......... ..........  2% 82.8M 5s\n",
      "  2350K .......... .......... .......... .......... ..........  2%  136M 5s\n",
      "  2400K .......... .......... .......... .......... ..........  2%  324M 5s\n",
      "  2450K .......... .......... .......... .......... ..........  2%  231M 5s\n",
      "  2500K .......... .......... .......... .......... ..........  2%  293M 5s\n",
      "  2550K .......... .......... .......... .......... ..........  3% 3.22M 5s\n",
      "  2600K .......... .......... .......... .......... ..........  3% 91.8M 5s\n",
      "  2650K .......... .......... .......... .......... ..........  3% 66.4M 5s\n",
      "  2700K .......... .......... .......... .......... ..........  3%  117M 5s\n",
      "  2750K .......... .......... .......... .......... ..........  3% 77.3M 5s\n",
      "  2800K .......... .......... .......... .......... ..........  3%  184M 5s\n",
      "  2850K .......... .......... .......... .......... ..........  3%  105M 5s\n",
      "  2900K .......... .......... .......... .......... ..........  3%  278M 5s\n",
      "  2950K .......... .......... .......... .......... ..........  3%  210M 5s\n",
      "  3000K .......... .......... .......... .......... ..........  3%  319M 5s\n",
      "  3050K .......... .......... .......... .......... ..........  3%  253M 5s\n",
      "  3100K .......... .......... .......... .......... ..........  3% 84.2M 5s\n",
      "  3150K .......... .......... .......... .......... ..........  3% 9.33M 5s\n",
      "  3200K .......... .......... .......... .......... ..........  3% 16.7M 5s\n",
      "  3250K .......... .......... .......... .......... ..........  3%  108M 5s\n",
      "  3300K .......... .......... .......... .......... ..........  3%  325M 4s\n",
      "  3350K .......... .......... .......... .......... ..........  3%  311M 4s\n",
      "  3400K .......... .......... .......... .......... ..........  4%  338M 4s\n",
      "  3450K .......... .......... .......... .......... ..........  4%  284M 4s\n",
      "  3500K .......... .......... .......... .......... ..........  4%  340M 4s\n",
      "  3550K .......... .......... .......... .......... ..........  4%  330M 4s\n",
      "  3600K .......... .......... .......... .......... ..........  4%  220M 4s\n",
      "  3650K .......... .......... .......... .......... ..........  4%  195M 4s\n",
      "  3700K .......... .......... .......... .......... ..........  4%  172M 4s\n",
      "  3750K .......... .......... .......... .......... ..........  4%  244M 4s\n",
      "  3800K .......... .......... .......... .......... ..........  4% 21.2M 4s\n",
      "  3850K .......... .......... .......... .......... ..........  4% 20.9M 4s\n",
      "  3900K .......... .......... .......... .......... ..........  4%  247M 4s\n",
      "  3950K .......... .......... .......... .......... ..........  4%  331M 4s\n",
      "  4000K .......... .......... .......... .......... ..........  4%  348M 4s\n",
      "  4050K .......... .......... .......... .......... ..........  4%  320M 4s\n",
      "  4100K .......... .......... .......... .......... ..........  4%  335M 4s\n",
      "  4150K .......... .......... .......... .......... ..........  4%  355M 4s\n",
      "  4200K .......... .......... .......... .......... ..........  4%  356M 4s\n",
      "  4250K .......... .......... .......... .......... ..........  4% 31.0M 4s\n",
      "  4300K .......... .......... .......... .......... ..........  5% 66.8M 4s\n",
      "  4350K .......... .......... .......... .."
     ]
    },
    {
     "name": "stderr",
     "output_type": "stream",
     "text": [
      "........ ..........  5% 7.19M 4s\n",
      "  4400K .......... .......... .......... .......... ..........  5%  293M 4s\n",
      "  4450K .......... .......... .......... .......... ..........  5%  307M 4s\n",
      "  4500K .......... .......... .......... .......... ..........  5%  345M 4s\n",
      "  4550K .......... .......... .......... .......... ..........  5%  355M 4s\n",
      "  4600K .......... .......... .......... .......... ..........  5%  188M 3s\n",
      "  4650K .......... .......... .......... .......... ..........  5%  138M 3s\n",
      "  4700K .......... .......... .......... .......... ..........  5%  340M 3s\n",
      "  4750K .......... .......... .......... .......... ..........  5%  341M 3s\n",
      "  4800K .......... .......... .......... .......... ..........  5% 70.0M 3s\n",
      "  4850K .......... .......... .......... .......... ..........  5%  302M 3s\n",
      "  4900K .......... .......... .......... .......... ..........  5%  342M 3s\n",
      "  4950K .......... .......... .......... .......... ..........  5%  190M 3s\n",
      "  5000K .......... .......... .......... .......... ..........  5%  271M 3s\n",
      "  5050K .......... .......... .......... .......... ..........  5%  270M 3s\n",
      "  5100K .......... .......... .......... .......... ..........  5% 7.83M 3s\n",
      "  5150K .......... .......... .......... .......... ..........  6%  320M 3s\n",
      "  5200K .......... .......... .......... .......... ..........  6% 78.8M 3s\n",
      "  5250K .......... .......... .......... .......... ..........  6%  154M 3s\n",
      "  5300K .......... .......... .......... .......... ..........  6%  323M 3s\n",
      "  5350K .......... .......... .......... .......... ..........  6%  352M 3s\n",
      "  5400K .......... .......... .......... .......... ..........  6%  249M 3s\n",
      "  5450K .......... .......... .......... .......... ..........  6%  292M 3s\n",
      "  5500K .......... .......... .......... .......... ..........  6%  351M 3s\n",
      "  5550K .......... .......... .......... .......... ..........  6%  339M 3s\n",
      "  5600K .......... .......... .......... .......... ..........  6%  241M 3s\n",
      "  5650K .......... .......... .......... .......... ..........  6%  309M 3s\n",
      "  5700K .......... .......... .......... .......... ..........  6%  353M 3s\n",
      "  5750K .......... .......... .......... .......... ..........  6%  346M 3s\n",
      "  5800K .......... .......... .......... .......... ..........  6%  352M 3s\n",
      "  5850K .......... .......... .......... .......... ..........  6%  280M 3s\n",
      "  5900K .......... .......... .......... .......... ..........  6% 8.25M 3s\n",
      "  5950K .......... .......... .......... .......... ..........  6%  128M 3s\n",
      "  6000K .......... .......... .......... .......... ..........  7% 34.5M 3s\n",
      "  6050K .......... .......... .......... .......... ..........  7%  112M 3s\n",
      "  6100K .......... .......... .......... .......... ..........  7% 53.3M 3s\n",
      "  6150K .......... .......... .......... .......... ..........  7% 7.87M 3s\n",
      "  6200K .......... .......... .......... .......... ..........  7% 92.9M 3s\n",
      "  6250K .......... .......... .......... .......... ..........  7%  110M 3s\n",
      "  6300K .......... .......... .......... .......... ..........  7%  166M 3s\n",
      "  6350K .......... .......... .......... .......... ..........  7%  102M 3s\n",
      "  6400K .......... .......... .......... .......... ..........  7%  287M 3s\n",
      "  6450K .......... .......... .......... .......... ..........  7%  224M 3s\n",
      "  6500K .......... .......... .......... .......... ..........  7%  307M 3s\n",
      "  6550K .......... .......... .......... .......... ..........  7%  251M 3s\n",
      "  6600K .......... .......... .......... .......... ..........  7%  343M 3s\n",
      "  6650K .......... .......... .......... .......... ..........  7%  279M 3s\n",
      "  6700K .......... .......... .......... .......... ..........  7%  332M 3s\n",
      "  6750K .......... .......... .......... .......... ..........  7%  310M 3s\n",
      "  6800K .......... .......... .......... .......... ..........  7%  344M 3s\n",
      "  6850K .......... .......... .......... .......... ..........  8%  304M 3s\n",
      "  6900K .......... .......... .......... .......... ..........  8%  296M 3s\n",
      "  6950K .......... .......... .......... .......... ..........  8%  348M 3s\n",
      "  7000K .......... .......... .......... .......... ..........  8%  324M 3s\n",
      "  7050K .......... .......... .......... .......... ..........  8% 11.6M 3s\n",
      "  7100K .......... .......... .......... .......... ..........  8%  266M 3s\n",
      "  7150K .......... .......... .......... .......... ..........  8%  112M 3s\n",
      "  7200K .......... .......... .......... .......... ..........  8% 66.6M 3s\n",
      "  7250K .......... .......... .......... .......... ..........  8%  304M 3s\n",
      "  7300K .......... .......... .......... .......... ..........  8%  336M 3s\n",
      "  7350K .......... .......... .......... .......... ..........  8%  358M 3s\n",
      "  7400K .......... .......... .......... .......... ..........  8%  344M 2s\n",
      "  7450K .......... .......... .......... .......... ..........  8% 85.5M 2s\n",
      "  7500K .......... .......... .......... .......... ..........  8%  341M 2s\n",
      "  7550K .......... .......... .......... .......... ..........  8%  335M 2s\n",
      "  7600K .......... .......... .......... .......... ..........  8%  350M 2s\n",
      "  7650K .......... .......... .......... .......... ..........  8%  322M 2s\n",
      "  7700K .......... .......... .......... .......... ..........  9%  356M 2s\n",
      "  7750K .......... .......... .......... .......... ..........  9%  361M 2s\n",
      "  7800K .......... .......... .......... .......... ..........  9%  340M 2s\n",
      "  7850K .......... .......... .......... .......... ..........  9%  296M 2s\n",
      "  7900K .......... .......... .......... .......... ..........  9% 2.89M 3s\n",
      "  7950K .......... .......... .......... .......... ..........  9% 40.8M 2s\n",
      "  8000K .......... .......... .......... .......... ..........  9%  133M 2s\n",
      "  8050K .......... .......... .......... .......... ..........  9% 90.2M 2s\n",
      "  8100K .......... .......... .......... .......... ..........  9%  182M 2s\n",
      "  8150K .......... .......... .......... .......... ..........  9% 47.4M 2s\n",
      "  8200K .......... .......... .......... .......... ..........  9%  110M 2s\n",
      "  8250K .......... .......... .......... .......... ..........  9% 64.2M 2s\n",
      "  8300K .......... .......... .......... .......... ..........  9%  127M 2s\n",
      "  8350K .......... .......... .......... .......... ..........  9%  106M 2s\n",
      "  8400K .......... .......... .......... .......... ..........  9%  108M 2s\n",
      "  8450K .......... .......... .......... .......... ..........  9% 88.1M 2s\n",
      "  8500K .......... .......... .......... .......... ..........  9%  137M 2s\n",
      "  8550K .......... .......... .......... .......... ..........  9%  111M 2s\n",
      "  8600K .......... .......... .......... .......... .......... 10%  184M 2s\n",
      "  8650K .......... .......... .......... .......... .......... 10%  278M 2s\n",
      "  8700K .......... .......... .......... .......... .......... 10%  337M 2s\n",
      "  8750K .......... .......... .......... .......... .......... 10%  339M 2s\n",
      "  8800K .......... .......... .......... .......... .......... 10%  321M 2s\n",
      "  8850K .......... .......... .......... .......... .......... 10%  313M 2s\n",
      "  8900K .......... .......... .......... .......... .......... 10%  114M 2s\n",
      "  8950K .......... .......... .......... .......... .......... 10%  103M 2s\n",
      "  9000K .......... .......... .......... .......... .......... 10%  288M 2s\n",
      "  9050K .......... .......... .......... .......... .......... 10%  227M 2s\n",
      "  9100K .......... .......... .......... .......... .......... 10%  342M 2s\n",
      "  9150K .......... .......... .......... .......... .......... 10%  320M 2s\n",
      "  9200K .......... .......... .......... .......... .......... 10% 92.7M 2s\n",
      "  9250K .......... .......... .......... .......... .......... 10% 93.5M 2s\n",
      "  9300K .......... .......... .......... .......... .......... 10%  332M 2s\n",
      "  9350K .......... .......... .......... .......... .......... 10%  343M 2s\n",
      "  9400K .......... .......... .......... .......... .......... 10%  342M 2s\n",
      "  9450K .......... .......... .......... .......... .......... 11%  280M 2s\n",
      "  9500K .......... .......... .......... .......... .......... 11%  342M 2s\n",
      "  9550K .......... .......... .......... .......... .......... 11%  180M 2s\n",
      "  9600K .......... .......... .......... .......... .......... 11%  345M 2s\n",
      "  9650K .......... .......... .......... .......... .......... 11%  302M 2s\n",
      "  9700K .......... .......... .......... .......... .......... 11%  104M 2s\n",
      "  9750K .......... .......... .......... .......... .......... 11%  146M 2s\n",
      "  9800K .......... .......... .......... .......... .......... 11%  318M 2s\n",
      "  9850K .......... .......... .......... .......... .......... 11%  252M 2s\n",
      "  9900K .......... .......... .......... .......... .......... 11%  315M 2s\n",
      "  9950K .......... .......... .......... .......... .......... 11%  337M 2s\n",
      " 10000K .......... .......... .......... .......... .......... 11%  323M 2s\n",
      " 10050K .......... .......... .......... .......... .......... 11%  268M 2s\n",
      " 10100K .......... .......... .......... .......... .......... 11%  285M 2s\n",
      " 10150K .......... .......... .......... .......... .......... 11%  310M 2s\n",
      " 10200K .......... .......... .......... .......... .......... 11%  206M 2s\n",
      " 10250K .......... .......... .......... .......... .......... 11%  210M 2s\n",
      " 10300K .......... .......... .......... .......... .......... 12%  260M 2s\n",
      " 10350K .......... .......... .......... .......... .......... 12%  264M 2s\n",
      " 10400K .......... .......... .......... .......... .......... 12%  244M 2s\n",
      " 10450K .......... .......... .......... .......... .......... 12% 19.2M 2s\n",
      " 10500K .......... .......... .......... .......... .......... 12%  238M 2s\n",
      " 10550K .......... .......... .......... .......... .......... 12%  306M 2s\n",
      " 10600K .......... .......... .......... .......... .......... 12% 3.30M 2s\n",
      " 10650K .......... .......... .......... .......... .......... 12%  124M 2s\n",
      " 10700K .......... .......... .......... .......... .......... 12%  117M 2s\n",
      " 10750K .......... .......... .......... .......... .......... 12%  153M 2s\n",
      " 10800K .......... .......... .......... .......... .......... 12%  102M 2s\n",
      " 10850K .......... .......... .......... .......... .......... 12%  140M 2s\n",
      " 10900K .......... .......... .......... .......... .......... 12%  170M 2s\n",
      " 10950K .......... .......... .......... .......... .......... 12%  124M 2s\n",
      " 11000K .......... .......... .......... .......... .......... 12% 57.1M 2s\n",
      " 11050K .......... .......... .......... .......... .......... 12% 55.8M 2s\n",
      " 11100K .......... .......... .......... .......... .......... 12%  338M 2s\n",
      " 11150K .......... .......... .......... .......... .......... 13%  301M 2s\n",
      " 11200K .......... .......... .......... .......... .......... 13%  105M 2s\n",
      " 11250K .......... .......... .......... .......... .......... 13%  164M 2s\n",
      " 11300K .......... .......... .......... .......... .......... 13%  274M 2s\n",
      " 11350K .......... .......... .......... .......... .......... 13%  228M 2s\n",
      " 11400K .......... .......... .......... .......... .......... 13%  101M 2s\n",
      " 11450K .......... .......... .......... .......... .......... 13%  151M 2s\n",
      " 11500K .......... .......... .......... .......... .......... 13%  331M 2s\n",
      " 11550K .......... .......... .......... .......... .......... 13%  349M 2s\n",
      " 11600K .......... .......... .......... .......... .......... 13%  350M 2s\n",
      " 11650K .......... .......... .......... .......... .......... 13%  312M 2s\n",
      " 11700K .......... .......... .......... .......... .......... 13%  344M 2s\n",
      " 11750K .......... .......... .......... .......... .......... 13%  330M 2s\n",
      " 11800K .......... .......... .......... .......... .......... 13%  344M 2s\n",
      " 11850K .......... .......... .......... .......... .......... 13%  104M 2s\n",
      " 11900K .......... .......... .......... .......... .......... 13% 85.6M 2s\n",
      " 11950K .......... .......... .......... .......... .......... 13% 33.8M 2s\n",
      " 12000K .......... .......... .......... .......... .......... 14% 56.0M 2s\n",
      " 12050K .......... .......... .......... .......... .......... 14%  154M 2s\n",
      " 12100K .......... .......... .......... .......... .......... 14% 44.9M 2s\n",
      " 12150K .......... .......... .......... .......... .......... 14% 35.8M 2s\n",
      " 12200K .......... .......... .......... .......... .......... 14%  162M 2s\n",
      " 12250K .......... .......... .......... .......... .......... 14% 73.1M 2s\n",
      " 12300K .......... .......... .......... .......... .......... 14%  123M 2s\n",
      " 12350K .......... .......... .......... .......... .......... 14%  344M 2s\n",
      " 12400K .......... .......... .......... .......... .......... 14%  341M 2s\n",
      " 12450K .......... .......... .......... .......... .......... 14%  315M 2s\n",
      " 12500K .......... .......... .......... .......... .......... 14%  328M 2s\n",
      " 12550K .......... .......... .......... .......... .......... 14%  345M 2s\n",
      " 12600K .......... .......... .......... .......... .......... 14%  352M 2s\n",
      " 12650K .......... .......... .......... .......... .......... 14%  276M 2s\n",
      " 12700K .......... .......... .......... .......... .......... 14%  285M 2s\n",
      " 12750K .......... .......... .......... .......... .......... 14%  139M 2s\n",
      " 12800K .......... .......... .......... .......... .......... 14%  128M 2s\n",
      " 12850K .......... .......... .......... .......... .......... 14%  307M 2s\n",
      " 12900K .......... .......... .......... .......... .......... 15%  342M 2s\n",
      " 12950K .......... .......... .......... .......... .......... 15%  348M 2s\n",
      " 13000K .......... .......... .......... .......... .......... 15%  319M 2s\n",
      " 13050K .......... .......... .......... .......... .......... 15%  275M 2s\n",
      " 13100K .......... .......... .......... .......... .......... 15%  325M 2s\n",
      " 13150K .......... .......... .......... .......... .......... 15%  238M 2s\n",
      " 13200K .......... .......... .......... .......... .......... 15%  345M 2s\n",
      " 13250K .......... .......... .......... .......... .......... 15%  294M 2s\n",
      " 13300K .......... .......... .......... .......... .......... 15%  345M 2s\n",
      " 13350K .......... .......... .......... .......... .......... 15%  205M 2s\n",
      " 13400K .......... .......... .......... .......... .......... 15%  339M 2s\n",
      " 13450K .......... .......... .......... .......... .......... 15%  101M 2s\n",
      " 13500K .......... .......... .......... .......... .......... 15%  337M 2s\n",
      " 13550K .......... .......... .......... .......... .......... 15%  346M 2s\n",
      " 13600K .......... .......... .......... .......... .......... 15%  342M 2s\n",
      " 13650K .......... .......... .......... .......... .......... 15%  306M 2s\n",
      " 13700K .......... .......... .......... .......... .......... 15%  275M 2s\n",
      " 13750K .......... .......... .......... .......... .......... 16%  317M 2s\n",
      " 13800K .......... .......... .......... .......... .......... 16%  342M 2s\n",
      " 13850K .......... .......... .......... .......... .......... 16%  237M 2s\n",
      " 13900K .......... .......... .......... .......... .......... 16%  324M 2s\n",
      " 13950K .......... .......... .......... .......... .......... 16%  348M 2s\n",
      " 14000K .......... .......... .......... .......... .......... 16%  356M 2s\n",
      " 14050K .......... .......... .......... .......... .......... 16%  315M 2s\n",
      " 14100K .......... .......... .......... .......... .......... 16%  346M 2s\n",
      " 14150K .......... .......... .......... .......... .......... 16%  337M 2s\n",
      " 14200K .......... .......... .......... .......... .......... 16% 7.16M 2s\n",
      " 14250K .......... .......... .......... .......... .......... 16%  217M 2s\n",
      " 14300K .......... .......... .......... .......... .......... 16%  288M 2s\n",
      " 14350K .......... .......... .......... .......... .......... 16%  350M 2s\n",
      " 14400K .......... .......... .......... .......... .......... 16%  329M 2s\n",
      " 14450K .......... .......... .......... .......... .......... 16%  295M 2s\n",
      " 14500K .......... .......... .......... .......... .......... 16%  356M 2s\n",
      " 14550K .......... .......... .......... .......... .......... 16%  352M 2s\n",
      " 14600K .......... .......... .......... .......... .......... 17%  325M 2s\n",
      " 14650K .......... .......... .......... .......... .......... 17%  283M 2s\n",
      " 14700K .......... .......... .......... .......... .......... 17%  330M 2s\n",
      " 14750K .......... .......... .......... .......... .......... 17%  359M 2s\n",
      " 14800K .......... .......... .......... .......... .......... 17%  346M 2s\n",
      " 14850K .......... .......... .......... .......... .......... 17%  314M 2s\n",
      " 14900K .......... .......... .......... .......... .......... 17%  327M 2s\n",
      " 14950K .......... .......... .......... .......... .......... 17%  361M 2s\n",
      " 15000K .......... .......... .......... .......... .......... 17%  342M 2s\n",
      " 15050K .......... .......... .......... .......... .......... 17%  276M 1s\n",
      " 15100K .......... .......... .......... .......... .......... 17% 37.1M 1s\n",
      " 15150K .......... .......... .......... .......... .......... 17%  136M 1s\n",
      " 15200K .......... .......... .......... .......... .......... 17%  153M 1s\n",
      " 15250K .......... .......... .......... .......... .......... 17%  193M 1s\n",
      " 15300K .......... .......... .......... .......... .......... 17%  199M 1s\n",
      " 15350K .......... .......... .......... .......... .......... 17%  145M 1s\n",
      " 15400K .......... .......... .......... .......... .......... 17%  183M 1s\n",
      " 15450K .......... .......... .......... .......... .......... 18% 40.9M 1s\n",
      " 15500K .......... .......... .......... .......... .......... 18%  112M 1s\n",
      " 15550K .......... .......... .......... .......... .......... 18%  111M 1s\n",
      " 15600K .......... .......... .......... .......... .......... 18%  285M 1s\n",
      " 15650K .......... .......... .......... .......... .......... 18%  307M 1s\n",
      " 15700K .......... .......... .......... .......... .......... 18%  289M 1s\n",
      " 15750K .......... .......... .......... .......... .......... 18%  339M 1s\n",
      " 15800K .......... .......... .......... .......... .......... 18%  307M 1s\n",
      " 15850K .......... .......... .......... .......... .......... 18%  288M 1s\n",
      " 15900K .......... .......... .......... .......... .......... 18%  345M 1s\n",
      " 15950K .......... .......... .......... .......... .......... 18%  333M 1s\n",
      " 16000K .......... .......... .......... .......... .......... 18%  351M 1s\n",
      " 16050K .......... .......... .......... .......... .......... 18%  279M 1s\n",
      " 16100K .......... .......... .......... .......... .......... 18%  313M 1s\n",
      " 16150K .......... .......... .......... .......... .......... 18%  285M 1s\n",
      " 16200K .......... .......... .......... .......... .......... 18%  298M 1s\n",
      " 16250K .......... .......... .......... .......... .......... 18%  278M 1s\n",
      " 16300K .......... .......... .......... .......... .......... 19%  337M 1s\n",
      " 16350K .......... .......... .......... .......... .......... 19%  336M 1s\n",
      " 16400K .......... .......... .......... .......... .......... 19%  356M 1s\n",
      " 16450K .......... .......... .......... .......... .......... 19%  330M 1s\n",
      " 16500K .......... .......... .......... .......... .......... 19%  332M 1s\n",
      " 16550K .......... .......... .......... .......... .......... 19%  366M 1s\n",
      " 16600K .......... .......... .......... .......... .......... 19%  363M 1s\n",
      " 16650K .......... .......... .......... .......... .......... 19% 31.6M 1s\n",
      " 16700K .......... .......... .......... .......... .......... 19% 27.3M 1s\n",
      " 16750K .......... .......... .......... .......... .......... 19%  320M 1s\n",
      " 16800K .......... .......... .......... .......... .......... 19%  349M 1s\n",
      " 16850K .......... .......... .......... .......... .......... 19%  316M 1s\n",
      " 16900K .......... .......... .......... .......... .......... 19%  340M 1s\n",
      " 16950K .......... .......... .......... .......... .......... 19%  330M 1s\n",
      " 17000K .......... .......... .......... .......... .......... 19%  348M 1s\n",
      " 17050K .......... .......... .......... .......... .......... 19%  291M 1s\n",
      " 17100K .......... .......... .......... .......... .......... 19%  352M 1s\n",
      " 17150K .......... .......... .......... .......... .......... 19%  349M 1s\n",
      " 17200K .......... .......... .......... .......... .......... 20%  233M 1s\n",
      " 17250K .......... .......... .......... .......... .......... 20%  267M 1s\n",
      " 17300K .......... .......... .......... .......... .......... 20%  325M 1s\n",
      " 17350K .......... .......... .......... .......... .......... 20%  342M 1s\n",
      " 17400K .......... .......... .......... .......... .......... 20%  343M 1s\n",
      " 17450K .......... .......... .......... .......... .......... 20%  276M 1s\n",
      " 17500K .......... .......... .......... .......... .......... 20%  346M 1s\n",
      " 17550K .......... .......... .......... .......... .......... 20%  344M 1s\n",
      " 17600K .......... .......... .......... .......... .......... 20%  356M 1s\n",
      " 17650K .......... .......... .......... .......... .......... 20%  310M 1s\n",
      " 17700K .......... .......... .......... .......... .......... 20%  358M 1s\n",
      " 17750K .......... .......... .......... .......... .......... 20%  310M 1s\n",
      " 17800K .......... .......... .......... .......... .......... 20% 3.37M 1s\n",
      " 17850K .......... .......... .......... .......... .......... 20%  225M 1s\n",
      " 17900K .......... .......... .......... .......... .......... 20%  309M 1s\n",
      " 17950K .......... .......... .......... .......... .......... 20% 76.5M 1s\n",
      " 18000K .......... .......... .......... .......... .......... 20%  307M 1s\n",
      " 18050K .......... .......... .......... .......... .......... 21%  312M 1s\n",
      " 18100K .......... .......... .......... .......... .......... 21%  344M 1s\n",
      " 18150K .......... .......... .......... .......... .......... 21%  345M 1s\n",
      " 18200K .......... .......... .......... .......... .......... 21%  346M 1s\n",
      " 18250K .......... .......... .......... .......... .......... 21%  220M 1s\n",
      " 18300K .......... .......... .......... .......... .......... 21%  214M 1s\n",
      " 18350K .......... .......... .......... .......... .......... 21%  261M 1s\n",
      " 18400K .......... .......... .......... .......... .......... 21%  185M 1s\n",
      " 18450K .......... .......... .......... .......... .......... 21%  297M 1s\n",
      " 18500K .......... .......... .......... .......... .......... 21%  326M 1s\n",
      " 18550K .......... .......... .......... .......... .......... 21%  342M 1s\n",
      " 18600K .......... .......... .......... .......... .......... 21%  353M 1s\n",
      " 18650K .......... .......... .......... .......... .......... 21% 63.5M 1s\n",
      " 18700K .......... .......... .......... .......... .......... 21% 73.6M 1s\n",
      " 18750K .......... .......... .......... .......... .......... 21%  101M 1s\n",
      " 18800K .......... .......... .......... .......... .......... 21%  161M 1s\n",
      " 18850K .......... .......... .......... .......... .......... 21%  106M 1s\n",
      " 18900K .......... .......... .......... .......... .......... 22%  334M 1s\n",
      " 18950K .......... .......... .......... .......... .......... 22%  345M 1s\n",
      " 19000K .......... .......... .......... .......... .......... 22%  209M 1s\n",
      " 19050K .......... .......... .......... .......... .......... 22%  269M 1s\n",
      " 19100K .......... .......... .......... .......... .......... 22%  339M 1s\n",
      " 19150K .......... .......... .......... .......... .......... 22%  336M 1s\n",
      " 19200K .......... .......... .......... .......... .......... 22%  167M 1s\n",
      " 19250K .......... .......... .......... .......... .......... 22%  313M 1s\n",
      " 19300K .......... .......... .......... .......... .......... 22%  340M 1s\n",
      " 19350K .......... .......... .......... .......... .......... 22%  315M 1s\n",
      " 19400K .......... .......... .......... .......... .......... 22%  297M 1s\n",
      " 19450K .......... .......... .......... .......... .......... 22%  282M 1s\n",
      " 19500K .......... .......... .......... .......... .......... 22%  318M 1s\n",
      " 19550K .......... .......... .......... .......... .......... 22% 14.8M 1s\n",
      " 19600K .......... .......... .......... .......... .......... 22%  265M 1s\n",
      " 19650K .......... .......... .......... .......... .......... 22%  240M 1s\n",
      " 19700K .......... .......... .......... .......... .......... 22%  290M 1s\n",
      " 19750K .......... .......... .......... .......... .......... 23%  286M 1s\n",
      " 19800K .......... .......... .......... .......... .......... 23%  326M 1s\n",
      " 19850K .......... .......... .......... .......... .......... 23%  241M 1s\n",
      " 19900K .......... .......... .......... .......... .......... 23%  310M 1s\n",
      " 19950K .......... .......... .......... .......... .......... 23%  242M 1s\n",
      " 20000K .......... .......... .......... .......... .......... 23%  226M 1s\n",
      " 20050K .......... .......... .......... .......... .......... 23%  314M 1s\n",
      " 20100K .......... .......... .......... .......... .......... 23%  343M 1s\n",
      " 20150K .......... .......... .......... .......... .......... 23%  350M 1s\n",
      " 20200K .......... .......... .......... .......... .......... 23%  330M 1s\n",
      " 20250K .......... .......... .......... .......... .......... 23%  292M 1s\n",
      " 20300K .......... .......... .......... .......... .......... 23%  352M 1s\n",
      " 20350K .......... .......... .......... .......... .......... 23%  317M 1s\n",
      " 20400K .......... .......... .......... .......... .......... 23%  350M 1s\n",
      " 20450K .......... .......... .......... .......... .......... 23%  313M 1s\n",
      " 20500K .......... .......... .......... .......... .......... 23%  345M 1s\n",
      " 20550K .......... .......... .......... .......... .......... 23%  320M 1s\n",
      " 20600K .......... .......... .......... .......... .......... 24%  340M 1s\n",
      " 20650K .......... .......... .......... .......... .......... 24%  274M 1s\n",
      " 20700K .......... .......... .......... .......... .......... 24%  318M 1s\n",
      " 20750K .......... .......... .......... .......... .......... 24%  341M 1s\n",
      " 20800K .......... .......... .......... .......... .......... 24% 73.8M 1s\n",
      " 20850K .......... .......... .......... .......... .......... 24% 95.7M 1s\n",
      " 20900K .......... .......... .......... .......... .......... 24%  106M 1s\n",
      " 20950K .......... .......... .......... .......... .......... 24%  118M 1s\n",
      " 21000K .......... .......... .......... .......... .......... 24% 4.63M 1s\n",
      " 21050K .......... .......... .......... .......... .......... 24% 89.0M 1s\n",
      " 21100K .......... .......... .......... .......... .......... 24% 63.3M 1s\n",
      " 21150K .......... .......... .......... .......... .......... 24% 50.1M 1s\n",
      " 21200K .......... .......... .......... .......... .......... 24% 67.0M 1s\n",
      " 21250K .......... .......... .......... .......... .......... 24%  131M 1s\n",
      " 21300K .......... .......... .......... .......... .......... 24%  211M 1s\n",
      " 21350K .......... .......... .......... .......... .......... 24%  217M 1s\n",
      " 21400K .......... .......... .......... .......... .......... 24% 56.6M 1s\n",
      " 21450K .......... .......... .......... .......... .......... 24%  110M 1s\n",
      " 21500K .......... .......... .......... .......... .......... 25%  250M 1s\n",
      " 21550K .......... .......... .......... .......... .......... 25%  246M 1s\n",
      " 21600K .......... .......... .......... .......... .......... 25%  261M 1s\n",
      " 21650K .......... .......... .......... .......... .......... 25%  232M 1s\n",
      " 21700K .......... .......... .......... .......... .......... 25%  258M 1s\n",
      " 21750K .......... .......... .......... .......... .......... 25%  256M 1s\n",
      " 21800K .......... .......... .......... .......... .......... 25%  228M 1s\n",
      " 21850K .......... .......... .......... .......... .......... 25%  209M 1s\n",
      " 21900K .......... .......... .......... .......... .......... 25%  259M 1s\n",
      " 21950K .......... .......... .......... .......... .......... 25%  217M 1s\n",
      " 22000K .......... .......... .......... .......... .......... 25%  226M 1s\n",
      " 22050K .......... .......... .......... .......... .......... 25%  210M 1s\n",
      " 22100K .......... .......... .......... .......... .......... 25% 62.4M 1s\n",
      " 22150K .......... .......... .......... .......... .......... 25% 44.0M 1s\n",
      " 22200K .......... .......... .......... .......... .......... 25% 58.7M 1s\n",
      " 22250K .......... .......... .......... .......... .......... 25%  111M 1s\n",
      " 22300K .......... .......... .......... .......... .......... 25%  264M 1s\n",
      " 22350K .......... .......... .......... .......... .......... 26%  263M 1s\n",
      " 22400K .......... .......... .......... .......... .......... 26%  271M 1s\n",
      " 22450K .......... .......... .......... .......... .......... 26%  241M 1s\n",
      " 22500K .......... .......... .......... .......... .......... 26%  275M 1s\n",
      " 22550K .......... .......... .......... .......... .......... 26%  229M 1s\n",
      " 22600K .......... .......... .......... .......... .......... 26%  267M 1s\n",
      " 22650K .......... .......... .......... .......... .......... 26%  214M 1s\n",
      " 22700K .......... .......... .......... .......... .......... 26%  269M 1s\n",
      " 22750K .......... .......... .......... .......... .......... 26%  263M 1s\n",
      " 22800K .......... .......... .......... .......... .......... 26%  276M 1s\n",
      " 22850K .......... .......... .......... .......... .......... 26%  248M 1s\n",
      " 22900K .......... .......... .......... .......... .......... 26%  274M 1s\n",
      " 22950K .......... .......... .......... .......... .......... 26%  268M 1s\n",
      " 23000K .......... .......... .......... .......... .......... 26%  266M 1s\n",
      " 23050K .......... .......... .......... .......... .......... 26%  224M 1s\n",
      " 23100K .......... .......... .......... .......... .......... 26%  266M 1s\n",
      " 23150K .......... .......... .......... .......... .......... 26%  270M 1s\n",
      " 23200K .......... .......... .......... .......... .......... 27%  240M 1s\n",
      " 23250K .......... .......... .......... .......... .......... 27%  234M 1s\n",
      " 23300K .......... .......... .......... .......... .......... 27%  191M 1s\n",
      " 23350K .......... .......... .......... .......... .......... 27%  269M 1s\n",
      " 23400K .......... .......... .......... .......... .......... 27%  236M 1s\n",
      " 23450K .......... .......... .......... .......... .......... 27%  212M 1s\n",
      " 23500K .......... .......... .......... .......... .......... 27%  243M 1s\n",
      " 23550K .......... .......... .......... .......... .......... 27%  229M 1s\n",
      " 23600K .......... .......... .......... .......... .......... 27%  257M 1s\n",
      " 23650K .......... .......... .......... .......... .......... 27%  198M 1s\n",
      " 23700K .......... .......... .......... .......... .......... 27%  257M 1s\n",
      " 23750K .......... .......... .......... .......... .......... 27%  269M 1s\n",
      " 23800K .......... .......... .......... .......... .......... 27%  239M 1s\n",
      " 23850K .......... .......... .......... .......... .......... 27%  220M 1s\n",
      " 23900K .......... .......... .......... .......... .......... 27%  227M 1s\n",
      " 23950K .......... .......... .......... .......... .......... 27%  258M 1s\n",
      " 24000K .......... .......... .......... .......... .......... 27%  268M 1s\n",
      " 24050K .......... .......... ....."
     ]
    },
    {
     "name": "stderr",
     "output_type": "stream",
     "text": [
      "..... .......... .......... 28%  450K 1s\n",
      " 24100K .......... .......... .......... .......... .......... 28%  292M 1s\n",
      " 24150K .......... .......... .......... .......... .......... 28%  164M 1s\n",
      " 24200K .......... .......... .......... .......... .......... 28% 86.7M 1s\n",
      " 24250K .......... .......... .......... .......... .......... 28% 85.0M 1s\n",
      " 24300K .......... .......... .......... .......... .......... 28%  143M 1s\n",
      " 24350K .......... .......... .......... .......... .......... 28% 32.5M 1s\n",
      " 24400K .......... .......... .......... .......... .......... 28%  103M 1s\n",
      " 24450K .......... .......... .......... .......... .......... 28%  154M 1s\n",
      " 24500K .......... .......... .......... .......... .......... 28%  106M 1s\n",
      " 24550K .......... .......... .......... .......... .......... 28% 77.4M 1s\n",
      " 24600K .......... .......... .......... .......... .......... 28%  241M 1s\n",
      " 24650K .......... .......... .......... .......... .......... 28%  113M 1s\n",
      " 24700K .......... .......... .......... .......... .......... 28% 96.1M 1s\n",
      " 24750K .......... .......... .......... .......... .......... 28% 95.5M 1s\n",
      " 24800K .......... .......... .......... .......... .......... 28% 50.4M 1s\n",
      " 24850K .......... .......... .......... .......... .......... 28%  153M 1s\n",
      " 24900K .......... .......... .......... .......... .......... 29%  221M 1s\n",
      " 24950K .......... .......... .......... .......... .......... 29%  249M 1s\n",
      " 25000K .......... .......... .......... .......... .......... 29% 32.5M 1s\n",
      " 25050K .......... .......... .......... .......... .......... 29%  137M 1s\n",
      " 25100K .......... .......... .......... .......... .......... 29%  127M 1s\n",
      " 25150K .......... .......... .......... .......... .......... 29%  100M 1s\n",
      " 25200K .......... .......... .......... .......... .......... 29% 63.1M 1s\n",
      " 25250K .......... .......... .......... .......... .......... 29%  140M 1s\n",
      " 25300K .......... .......... .......... .......... .......... 29%  218M 1s\n",
      " 25350K .......... .......... .......... .......... .......... 29%  175M 1s\n",
      " 25400K .......... .......... .......... .......... .......... 29%  144M 1s\n",
      " 25450K .......... .......... .......... .......... .......... 29%  120M 1s\n",
      " 25500K .......... .......... .......... .......... .......... 29%  336M 1s\n",
      " 25550K .......... .......... .......... .......... .......... 29%  317M 1s\n",
      " 25600K .......... .......... .......... .......... .......... 29%  333M 1s\n",
      " 25650K .......... .......... .......... .......... .......... 29%  206M 1s\n",
      " 25700K .......... .......... .......... .......... .......... 29%  319M 1s\n",
      " 25750K .......... .......... .......... .......... .......... 29%  232M 1s\n",
      " 25800K .......... .......... .......... .......... .......... 30%  265M 1s\n",
      " 25850K .......... .......... .......... .......... .......... 30%  268M 1s\n",
      " 25900K .......... .......... .......... .......... .......... 30%  201M 1s\n",
      " 25950K .......... .......... .......... .......... .......... 30%  334M 1s\n",
      " 26000K .......... .......... .......... .......... .......... 30%  343M 1s\n",
      " 26050K .......... .......... .......... .......... .......... 30%  251M 1s\n",
      " 26100K .......... .......... .......... .......... .......... 30%  335M 1s\n",
      " 26150K .......... .......... .......... .......... .......... 30%  344M 1s\n",
      " 26200K .......... .......... .......... .......... .......... 30%  216M 1s\n",
      " 26250K .......... .......... .......... .......... .......... 30%  145M 1s\n",
      " 26300K .......... .......... .......... .......... .......... 30%  201M 1s\n",
      " 26350K .......... .......... .......... .......... .......... 30%  276M 1s\n",
      " 26400K .......... .......... .......... .......... .......... 30%  272M 1s\n",
      " 26450K .......... .......... .......... .......... .......... 30%  281M 1s\n",
      " 26500K .......... .......... .......... .......... .......... 30%  346M 1s\n",
      " 26550K .......... .......... .......... .......... .......... 30%  233M 1s\n",
      " 26600K .......... .......... .......... .......... .......... 30%  335M 1s\n",
      " 26650K .......... .......... .......... .......... .......... 31%  278M 1s\n",
      " 26700K .......... .......... .......... .......... .......... 31%  262M 1s\n",
      " 26750K .......... .......... .......... .......... .......... 31%  343M 1s\n",
      " 26800K .......... .......... .......... .......... .......... 31%  327M 1s\n",
      " 26850K .......... .......... .......... .......... .......... 31%  227M 1s\n",
      " 26900K .......... .......... .......... .......... .......... 31%  324M 1s\n",
      " 26950K .......... .......... .......... .......... .......... 31%  262M 1s\n",
      " 27000K .......... .......... .......... .......... .......... 31%  308M 1s\n",
      " 27050K .......... .......... .......... .......... .......... 31%  230M 1s\n",
      " 27100K .......... .......... .......... .......... .......... 31%  325M 1s\n",
      " 27150K .......... .......... .......... .......... .......... 31%  293M 1s\n",
      " 27200K .......... .......... .......... .......... .......... 31%  274M 1s\n",
      " 27250K .......... .......... .......... .......... .......... 31%  295M 1s\n",
      " 27300K .......... .......... .......... .......... .......... 31%  350M 1s\n",
      " 27350K .......... .......... .......... .......... .......... 31%  310M 1s\n",
      " 27400K .......... .......... .......... .......... .......... 31%  353M 1s\n",
      " 27450K .......... .......... .......... .......... .......... 31%  270M 1s\n",
      " 27500K .......... .......... .......... .......... .......... 32%  287M 1s\n",
      " 27550K .......... .......... .......... .......... .......... 32%  346M 1s\n",
      " 27600K .......... .......... .......... .......... .......... 32%  328M 1s\n",
      " 27650K .......... .......... .......... .......... .......... 32%  316M 1s\n",
      " 27700K .......... .......... .......... .......... .......... 32%  345M 1s\n",
      " 27750K .......... .......... .......... .......... .......... 32%  336M 1s\n",
      " 27800K .......... .......... .......... .......... .......... 32%  331M 1s\n",
      " 27850K .......... .......... .......... .......... .......... 32%  138M 1s\n",
      " 27900K .......... .......... .......... .......... .......... 32%  256M 1s\n",
      " 27950K .......... .......... .......... .......... .......... 32%  207M 1s\n",
      " 28000K .......... .......... .......... .......... .......... 32%  205M 1s\n",
      " 28050K .......... .......... .......... .......... .......... 32%  217M 1s\n",
      " 28100K .......... .......... .......... .......... .......... 32%  228M 1s\n",
      " 28150K .......... .......... .......... .......... .......... 32%  233M 1s\n",
      " 28200K .......... .......... .......... .......... .......... 32%  237M 1s\n",
      " 28250K .......... .......... .......... .......... .......... 32%  178M 1s\n",
      " 28300K .......... .......... .......... .......... .......... 32%  196M 1s\n",
      " 28350K .......... .......... .......... .......... .......... 33%  194M 1s\n",
      " 28400K .......... .......... .......... .......... .......... 33%  218M 1s\n",
      " 28450K .......... .......... .......... .......... .......... 33%  293M 1s\n",
      " 28500K .......... .......... .......... .......... .......... 33%  331M 1s\n",
      " 28550K .......... .......... .......... .......... .......... 33%  320M 1s\n",
      " 28600K .......... .......... .......... .......... .......... 33%  356M 1s\n",
      " 28650K .......... .......... .......... .......... .......... 33%  266M 1s\n",
      " 28700K .......... .......... .......... .......... .......... 33%  217M 1s\n",
      " 28750K .......... .......... .......... .......... .......... 33%  340M 1s\n",
      " 28800K .......... .......... .......... .......... .......... 33%  324M 1s\n",
      " 28850K .......... .......... .......... .......... .......... 33%  295M 1s\n",
      " 28900K .......... .......... .......... .......... .......... 33%  354M 1s\n",
      " 28950K .......... .......... .......... .......... .......... 33%  348M 1s\n",
      " 29000K .......... .......... .......... .......... .......... 33%  345M 1s\n",
      " 29050K .......... .......... .......... .......... .......... 33%  250M 1s\n",
      " 29100K .......... .......... .......... .......... .......... 33%  348M 1s\n",
      " 29150K .......... .......... .......... .......... .......... 33%  323M 1s\n",
      " 29200K .......... .......... .......... .......... .......... 34%  331M 1s\n",
      " 29250K .......... .......... .......... .......... .......... 34%  316M 1s\n",
      " 29300K .......... .......... .......... .......... .......... 34%  349M 1s\n",
      " 29350K .......... .......... .......... .......... .......... 34%  251M 1s\n",
      " 29400K .......... .......... .......... .......... .......... 34%  240M 1s\n",
      " 29450K .......... .......... .......... .......... .......... 34% 21.1M 1s\n",
      " 29500K .......... .......... .......... .......... .......... 34%  173M 1s\n",
      " 29550K .......... .......... .......... .......... .......... 34%  329M 1s\n",
      " 29600K .......... .......... .......... .......... .......... 34%  273M 1s\n",
      " 29650K .......... .......... .......... .......... .......... 34%  311M 1s\n",
      " 29700K .......... .......... .......... .......... .......... 34%  336M 1s\n",
      " 29750K .......... .......... .......... .......... .......... 34%  327M 1s\n",
      " 29800K .......... .......... .......... .......... .......... 34%  347M 1s\n",
      " 29850K .......... .......... .......... .......... .......... 34%  293M 1s\n",
      " 29900K .......... .......... .......... .......... .......... 34%  354M 1s\n",
      " 29950K .......... .......... .......... .......... .......... 34%  349M 1s\n",
      " 30000K .......... .......... .......... .......... .......... 34%  330M 1s\n",
      " 30050K .......... .......... .......... .......... .......... 34%  322M 1s\n",
      " 30100K .......... .......... .......... .......... .......... 35% 95.4M 1s\n",
      " 30150K .......... .......... .......... .......... .......... 35%  149M 1s\n",
      " 30200K .......... .......... .......... .......... .......... 35%  340M 1s\n",
      " 30250K .......... .......... .......... .......... .......... 35%  137M 1s\n",
      " 30300K .......... .......... .......... .......... .......... 35% 68.0M 1s\n",
      " 30350K .......... .......... .......... .......... .......... 35%  255M 1s\n",
      " 30400K .......... .......... .......... .......... .......... 35%  191M 1s\n",
      " 30450K .......... .......... .......... .......... .......... 35%  265M 1s\n",
      " 30500K .......... .......... .......... .......... .......... 35%  222M 1s\n",
      " 30550K .......... .......... .......... .......... .......... 35%  330M 1s\n",
      " 30600K .......... .......... .......... .......... .......... 35%  347M 1s\n",
      " 30650K .......... .......... .......... .......... .......... 35%  268M 1s\n",
      " 30700K .......... .......... .......... .......... .......... 35%  348M 1s\n",
      " 30750K .......... .......... .......... .......... .......... 35%  340M 1s\n",
      " 30800K .......... .......... .......... .......... .......... 35%  354M 1s\n",
      " 30850K .......... .......... .......... .......... .......... 35%  317M 1s\n",
      " 30900K .......... .......... .......... .......... .......... 35%  177M 1s\n",
      " 30950K .......... .......... .......... .......... .......... 36%  354M 1s\n",
      " 31000K .......... .......... .......... .......... .......... 36%  328M 1s\n",
      " 31050K .......... .......... .......... .......... .......... 36%  293M 1s\n",
      " 31100K .......... .......... .......... .......... .......... 36%  350M 1s\n",
      " 31150K .......... .......... .......... .......... .......... 36%  353M 1s\n",
      " 31200K .......... .......... .......... .......... .......... 36%  353M 1s\n",
      " 31250K .......... .......... .......... .......... .......... 36%  325M 1s\n",
      " 31300K .......... .......... .......... .......... .......... 36% 74.2M 1s\n",
      " 31350K .......... .......... .......... .......... .......... 36% 64.5M 1s\n",
      " 31400K .......... .......... .......... .......... .......... 36%  163M 1s\n",
      " 31450K .......... .......... .......... .......... .......... 36%  299M 1s\n",
      " 31500K .......... .......... .......... .......... .......... 36% 55.8M 1s\n",
      " 31550K .......... .......... .......... .......... .......... 36%  229M 1s\n",
      " 31600K .......... .......... .......... .......... .......... 36% 86.3M 1s\n",
      " 31650K .......... .......... .......... .......... .......... 36%  125M 1s\n",
      " 31700K .......... .......... .......... .......... .......... 36% 43.0M 1s\n",
      " 31750K .......... .......... .......... .......... .......... 36% 71.8M 1s\n",
      " 31800K .......... .......... .......... .......... .......... 37%  214M 1s\n",
      " 31850K .......... .......... .......... .......... .......... 37%  282M 1s\n",
      " 31900K .......... .......... .......... .......... .......... 37%  225M 1s\n",
      " 31950K .......... .......... .......... .......... .......... 37%  312M 1s\n",
      " 32000K .......... .......... .......... .......... .......... 37%  283M 1s\n",
      " 32050K .......... .......... .......... .......... .......... 37%  314M 1s\n",
      " 32100K .......... .......... .......... .......... .......... 37%  347M 1s\n",
      " 32150K .......... .......... .......... .......... .......... 37%  345M 1s\n",
      " 32200K .......... .......... .......... .......... .......... 37%  134M 1s\n",
      " 32250K .......... .......... .......... .......... .......... 37%  205M 1s\n",
      " 32300K .......... .......... .......... .......... .......... 37%  201M 1s\n",
      " 32350K .......... .......... .......... .......... .......... 37%  343M 1s\n",
      " 32400K .......... .......... .......... .......... .......... 37%  315M 1s\n",
      " 32450K .......... .......... .......... .......... .......... 37%  304M 1s\n",
      " 32500K .......... .......... .......... .......... .......... 37%  351M 1s\n",
      " 32550K .......... .......... .......... .......... .......... 37%  338M 1s\n",
      " 32600K .......... .......... .......... .......... .......... 37%  349M 1s\n",
      " 32650K .......... .......... .......... .......... .......... 38%  292M 1s\n",
      " 32700K .......... .......... .......... .......... .......... 38%  337M 1s\n",
      " 32750K .......... .......... .......... .......... .......... 38%  296M 1s\n",
      " 32800K .......... .......... .......... .......... .......... 38%  216M 1s\n",
      " 32850K .......... .......... .......... .......... .......... 38%  291M 1s\n",
      " 32900K .......... .......... .......... .......... .......... 38%  340M 1s\n",
      " 32950K .......... .......... .......... .......... .......... 38%  320M 1s\n",
      " 33000K .......... .......... .......... .......... .......... 38%  103M 1s\n",
      " 33050K .......... .......... .......... .......... .......... 38%  274M 1s\n",
      " 33100K .......... .......... .......... .......... .......... 38%  149M 1s\n",
      " 33150K .......... .......... .......... .......... .......... 38%  341M 1s\n",
      " 33200K .......... .......... .......... .......... .......... 38%  338M 1s\n",
      " 33250K .......... .......... .......... .......... .......... 38%  313M 1s\n",
      " 33300K .......... .......... .......... .......... .......... 38%  180M 1s\n",
      " 33350K .......... .......... .......... .......... .......... 38%  292M 1s\n",
      " 33400K .......... .......... .......... .......... .......... 38% 45.2M 1s\n",
      " 33450K .......... .......... .......... .......... .......... 38%  256M 1s\n",
      " 33500K .......... .......... .......... .......... .......... 39%  281M 1s\n",
      " 33550K .......... .......... .......... .......... .......... 39%  319M 1s\n",
      " 33600K .......... .......... .......... .......... .......... 39%  100M 1s\n",
      " 33650K .......... .......... .......... .......... .......... 39% 72.7M 1s\n",
      " 33700K .......... .......... .......... .......... .......... 39%  164M 1s\n",
      " 33750K .......... .......... .......... .......... .......... 39%  328M 1s\n",
      " 33800K .......... .......... .......... .......... .......... 39%  344M 1s\n",
      " 33850K .......... .......... .......... .......... .......... 39%  290M 1s\n",
      " 33900K .......... .......... .......... .......... .......... 39%  355M 1s\n",
      " 33950K .......... .......... .......... .......... .......... 39%  352M 1s\n",
      " 34000K .......... .......... .......... .......... .......... 39%  347M 1s\n",
      " 34050K .......... .......... .......... .......... .......... 39%  300M 1s\n",
      " 34100K .......... .......... .......... .......... .......... 39%  349M 1s\n",
      " 34150K .......... .......... .......... .......... .......... 39%  357M 1s\n",
      " 34200K .......... .......... .......... .......... .......... 39%  352M 1s\n",
      " 34250K .......... .......... .......... .......... .......... 39%  275M 1s\n",
      " 34300K .......... .......... .......... .......... .......... 39%  344M 1s\n",
      " 34350K .......... .......... .......... .......... .......... 39%  350M 1s\n",
      " 34400K .......... .......... .......... .......... .......... 40%  356M 1s\n",
      " 34450K .......... .......... .......... .......... .......... 40%  324M 1s\n",
      " 34500K .......... .......... .......... .......... .......... 40%  358M 1s\n",
      " 34550K .......... .......... .......... .......... .......... 40%  230M 1s\n",
      " 34600K .......... .......... .......... .......... .......... 40%  351M 1s\n",
      " 34650K .......... .......... .......... .......... .......... 40%  283M 1s\n",
      " 34700K .......... .......... .......... .......... .......... 40%  322M 1s\n",
      " 34750K .......... .......... .......... .......... .......... 40%  362M 1s\n",
      " 34800K .......... .......... .......... .......... .......... 40% 17.1M 1s\n",
      " 34850K .......... .......... .......... .......... .......... 40% 32.2M 1s\n",
      " 34900K .......... .......... .......... .......... .......... 40%  239M 1s\n",
      " 34950K .......... .......... .......... .......... .......... 40%  241M 1s\n",
      " 35000K .......... .......... .......... .......... .......... 40%  249M 1s\n",
      " 35050K .......... .......... .......... .......... .......... 40% 59.0M 1s\n",
      " 35100K .......... .......... .......... .......... .......... 40%  302M 1s\n",
      " 35150K .......... .......... .......... .......... .......... 40%  349M 1s\n",
      " 35200K .......... .......... .......... .......... .......... 40%  346M 1s\n",
      " 35250K .......... .......... .......... .......... .......... 41%  315M 1s\n",
      " 35300K .......... .......... .......... .......... .......... 41%  193M 1s\n",
      " 35350K .......... .......... .......... .......... .......... 41%  328M 1s\n",
      " 35400K .......... .......... .......... .......... .......... 41%  108M 1s\n",
      " 35450K .......... .......... .......... .......... .......... 41%  157M 1s\n",
      " 35500K .......... .......... .......... .......... .......... 41%  314M 1s\n",
      " 35550K .......... .......... .......... .......... .......... 41%  338M 1s\n",
      " 35600K .......... .......... .......... .......... .......... 41%  326M 1s\n",
      " 35650K .......... .......... .......... .......... .......... 41%  314M 1s\n",
      " 35700K .......... .......... .......... .......... .......... 41%  121M 1s\n",
      " 35750K .......... .......... .......... .......... .......... 41%  310M 1s\n",
      " 35800K .......... .......... .......... .......... .......... 41%  339M 1s\n",
      " 35850K .......... .......... .......... .......... .......... 41%  275M 1s\n",
      " 35900K .......... .......... .......... .......... .......... 41%  346M 1s\n",
      " 35950K .......... .......... .......... .......... .......... 41%  345M 1s\n",
      " 36000K .......... .......... .......... .......... .......... 41%  347M 1s\n",
      " 36050K .......... .......... .......... .......... .......... 41%  310M 1s\n",
      " 36100K .......... .......... .......... .......... .......... 42%  335M 1s\n",
      " 36150K .......... .......... .......... .......... .......... 42%  351M 1s\n",
      " 36200K .......... .......... .......... .......... .......... 42%  327M 1s\n",
      " 36250K .......... .......... .......... .......... .......... 42%  291M 1s\n",
      " 36300K .......... .......... .......... .......... .......... 42%  336M 1s\n",
      " 36350K .......... .......... .......... .......... .......... 42%  349M 1s\n",
      " 36400K .......... .......... .......... .......... .......... 42%  349M 1s\n",
      " 36450K .......... .......... .......... .......... .......... 42%  207M 1s\n",
      " 36500K .......... .......... .......... .......... .......... 42%  341M 1s\n",
      " 36550K .......... .......... .......... .......... .......... 42%  349M 1s\n",
      " 36600K .......... .......... .......... .......... .......... 42%  197M 1s\n",
      " 36650K .......... .......... .......... .......... .......... 42% 57.1M 1s\n",
      " 36700K .......... .......... .......... .......... .......... 42%  259M 1s\n",
      " 36750K .......... .......... .......... .......... .......... 42%  348M 1s\n",
      " 36800K .......... .......... .......... .......... .......... 42%  358M 1s\n",
      " 36850K .......... .......... .......... .......... .......... 42%  311M 1s\n",
      " 36900K .......... .......... .......... .......... .......... 42%  228M 1s\n",
      " 36950K .......... .......... .......... .......... .......... 43%  353M 1s\n",
      " 37000K .......... .......... .......... .......... .......... 43% 82.9M 1s\n",
      " 37050K .......... .......... .......... .......... .......... 43%  285M 1s\n",
      " 37100K .......... .......... .......... .......... .......... 43%  344M 1s\n",
      " 37150K .......... .......... .......... .......... .......... 43% 89.8M 1s\n",
      " 37200K .......... .......... .......... .......... .......... 43%  135M 1s\n",
      " 37250K .......... .......... .......... .......... .......... 43%  217M 1s\n",
      " 37300K .......... .......... .......... .......... .......... 43%  212M 1s\n",
      " 37350K .......... .......... .......... .......... .......... 43%  255M 1s\n",
      " 37400K .......... .......... .......... .......... .......... 43%  274M 1s\n",
      " 37450K .......... .......... .......... .......... .......... 43%  295M 1s\n",
      " 37500K .......... .......... .......... .......... .......... 43%  348M 1s\n",
      " 37550K .......... .......... .......... .......... .......... 43%  348M 1s\n",
      " 37600K .......... .......... .......... .......... .......... 43%  349M 1s\n",
      " 37650K .......... .......... .......... .......... .......... 43% 97.0M 1s\n",
      " 37700K .......... .......... .......... .......... .......... 43%  334M 1s\n",
      " 37750K .......... .......... .......... .......... .......... 43%  346M 1s\n",
      " 37800K .......... .......... .......... .......... .......... 44%  283M 1s\n",
      " 37850K .......... .......... .......... .......... .......... 44%  167M 1s\n",
      " 37900K .......... .......... .......... .......... .......... 44%  332M 1s\n",
      " 37950K .......... .......... .......... .......... .......... 44%  347M 1s\n",
      " 38000K .......... .......... .......... .......... .......... 44%  345M 1s\n",
      " 38050K .......... .......... .......... .......... .......... 44%  309M 1s\n",
      " 38100K .......... .......... .......... .......... .......... 44%  351M 1s\n",
      " 38150K .......... .......... .......... .......... .......... 44%  336M 1s\n",
      " 38200K .......... .......... .......... .......... .......... 44%  350M 1s\n",
      " 38250K .......... .......... .......... .......... .......... 44%  286M 1s\n",
      " 38300K .......... .......... .......... .......... .......... 44%  352M 1s\n",
      " 38350K .......... .......... .......... .......... .......... 44%  340M 1s\n",
      " 38400K .......... .......... .......... .......... .......... 44% 66.1M 1s\n",
      " 38450K .......... .......... .......... .......... .......... 44%  147M 1s\n",
      " 38500K .......... .......... .......... .......... .......... 44% 85.6M 1s\n",
      " 38550K .......... .......... .......... .......... .......... 44% 55.6M 1s\n",
      " 38600K .......... .......... .......... .......... .......... 44%  338M 1s\n",
      " 38650K .......... .......... .......... .......... .......... 44%  286M 1s\n",
      " 38700K .......... .......... .......... .......... .......... 45%  279M 1s\n",
      " 38750K .......... .......... .......... .......... .......... 45%  334M 1s\n",
      " 38800K .......... .......... .......... .......... .......... 45%  323M 1s\n",
      " 38850K .......... .......... .......... .......... .......... 45% 22.5M 1s\n",
      " 38900K .......... .......... .......... .......... .......... 45% 88.0M 1s\n",
      " 38950K .......... .......... .......... .......... .......... 45% 92.3M 1s\n",
      " 39000K .......... .......... .......... .......... .......... 45%  199M 1s\n",
      " 39050K .......... .......... .......... .......... .......... 45% 84.5M 1s\n",
      " 39100K .......... .......... .......... .......... .......... 45% 20.8M 1s\n",
      " 39150K .......... .......... .......... .......... .......... 45% 85.4M 1s\n",
      " 39200K .......... .......... .......... .......... .......... 45%  135M 1s\n",
      " 39250K .......... .......... .......... .......... .......... 45% 20.0M 1s\n",
      " 39300K .......... .......... .......... .......... .......... 45%  127M 1s\n",
      " 39350K .......... .......... .......... .......... .......... 45% 85.6M 1s\n",
      " 39400K .......... .......... .......... .......... .......... 45% 79.7M 1s\n",
      " 39450K .......... .......... .......... .......... .......... 45%  165M 1s\n",
      " 39500K .......... .......... .......... .......... .......... 45% 87.3M 1s\n",
      " 39550K .......... .......... .......... .......... .......... 46% 55.8M 1s\n",
      " 39600K .......... .......... .......... .......... .......... 46% 52.3M 1s\n",
      " 39650K .......... .......... .......... .......... .......... 46%  120M 1s\n",
      " 39700K .......... .......... .......... .......... .......... 46%  127M 1s\n",
      " 39750K .......... .......... .......... .......... .......... 46%  237M 1s\n",
      " 39800K .......... .......... .......... .......... .......... 46% 92.5M 1s\n",
      " 39850K .......... .......... .......... .......... .......... 46% 43.5M 1s\n",
      " 39900K .......... .......... .......... .......... .......... 46%  132M 1s\n",
      " 39950K .......... .......... .......... .......... .......... 46% 83.8M 1s\n",
      " 40000K .......... .......... .......... .......... .......... 46%  159M 1s\n",
      " 40050K .......... .......... .......... .......... .......... 46%  151M 1s\n",
      " 40100K .......... .......... .......... .......... .......... 46%  339M 1s\n",
      " 40150K .......... .......... .......... .......... .......... 46%  340M 1s\n",
      " 40200K .......... .......... .......... .......... .......... 46%  170M 1s\n",
      " 40250K .......... .......... .......... .......... .......... 46% 53.7M 1s\n",
      " 40300K .......... .......... .......... .......... .......... 46%  317M 1s\n",
      " 40350K .......... .......... .......... .......... .......... 46%  349M 1s\n",
      " 40400K .......... .......... .......... .......... .......... 47%  345M 1s\n",
      " 40450K .......... .......... .......... .......... .......... 47%  310M 1s\n",
      " 40500K .......... .......... .......... .......... .......... 47%  346M 1s\n",
      " 40550K .......... .......... .......... .......... .......... 47%  333M 1s\n",
      " 40600K .......... .......... .......... .......... .......... 47%  191M 1s\n",
      " 40650K .......... .......... .......... .......... .......... 47%  232M 1s\n",
      " 40700K .......... .......... .......... .......... .......... 47%  328M 1s\n",
      " 40750K .......... .......... .......... .......... .......... 47%  154M 1s\n",
      " 40800K .......... .......... .......... .......... .......... 47%  160M 1s\n",
      " 40850K .......... .......... .......... .......... .......... 47%  216M 1s\n",
      " 40900K .......... .......... .......... .......... .......... 47%  264M 1s\n",
      " 40950K .......... .......... .......... .......... .......... 47%  253M 1s\n",
      " 41000K .......... .......... .......... .......... .......... 47%  202M 1s\n",
      " 41050K .......... .......... .......... .......... .......... 47%  260M 1s\n",
      " 41100K .......... .......... .......... .......... .......... 47%  129M 1s\n",
      " 41150K .......... .......... .......... .......... .......... 47%  330M 1s\n",
      " 41200K .......... .......... .......... .......... .......... 47%  336M 1s\n",
      " 41250K .......... .......... .......... .......... .......... 48%  312M 1s\n",
      " 41300K .......... .......... .......... .......... .......... 48%  328M 1s\n",
      " 41350K .......... .......... .......... .......... .......... 48%  345M 1s\n",
      " 41400K .......... .......... .......... .......... .......... 48%  347M 1s\n",
      " 41450K .......... .......... .......... .......... .......... 48%  281M 1s\n",
      " 41500K .......... .......... .......... .......... .......... 48%  344M 1s\n",
      " 41550K .......... .......... .......... .......... .......... 48%  201M 1s\n",
      " 41600K .......... .......... .......... .......... .......... 48%  304M 1s\n",
      " 41650K .......... .......... .......... .......... .......... 48%  221M 1s\n",
      " 41700K .......... .......... .......... .......... .......... 48%  338M 1s\n",
      " 41750K .......... .......... .......... .......... .......... 48%  343M 1s\n",
      " 41800K .......... .......... .......... .......... .......... 48%  332M 1s\n",
      " 41850K .......... .......... .......... .......... .......... 48%  111M 1s\n",
      " 41900K .......... .......... .......... .......... .......... 48%  112M 1s\n",
      " 41950K .......... .......... .......... .......... .......... 48%  282M 1s\n",
      " 42000K .......... .......... .......... .......... .......... 48%  142M 1s\n",
      " 42050K .......... .......... .......... .......... .......... 48%  221M 1s\n",
      " 42100K .......... .......... .......... .......... .......... 48%  340M 1s\n",
      " 42150K .......... .......... .......... .......... .......... 49%  321M 1s\n",
      " 42200K .......... .......... .......... .......... .......... 49%  357M 1s\n",
      " 42250K .......... .......... .......... .......... .......... 49%  291M 1s\n",
      " 42300K .......... .......... .......... .......... .......... 49%  339M 1s\n",
      " 42350K .......... .......... .......... .......... .......... 49%  314M 1s\n",
      " 42400K .......... .......... .......... .......... .......... 49%  349M 1s\n",
      " 42450K .......... .......... .......... .......... .......... 49% 99.7M 1s\n",
      " 42500K .......... .......... .......... .......... .......... 49%  209M 1s\n",
      " 42550K .......... .......... .......... .......... .......... 49%  247M 1s\n",
      " 42600K .......... .......... .......... .......... .......... 49%  327M 1s\n",
      " 42650K .......... .......... .......... .......... .......... 49%  107M 1s\n",
      " 42700K .......... .......... .......... .......... .......... 49%  270M 1s\n",
      " 42750K .......... .......... .......... .......... .......... 49%  154M 1s\n",
      " 42800K .......... .......... .......... .......... .......... 49%  278M 1s\n",
      " 42850K .......... .......... .......... .......... .......... 49%  286M 1s\n",
      " 42900K .......... .......... .......... .......... .......... 49%  308M 1s\n",
      " 42950K .......... .......... .......... .......... .......... 49%  200M 1s\n",
      " 43000K .......... .......... .......... .......... .......... 50%  320M 1s\n",
      " 43050K .......... .......... .......... .......... .......... 50%  271M 1s\n",
      " 43100K .......... .......... .......... .......... .......... 50% 64.3M 1s\n",
      " 43150K .......... .......... .......... .......... .......... 50%  334M 1s\n",
      " 43200K .......... .......... .......... .......... .......... 50%  196M 1s\n",
      " 43250K .......... .......... .......... .......... .......... 50%  306M 1s\n",
      " 43300K .......... .......... .......... .......... .......... 50%  153M 1s\n",
      " 43350K .......... .......... .......... .......... .......... 50% 99.9M 1s\n",
      " 43400K .......... .......... .......... .......... .......... 50%  313M 1s\n",
      " 43450K .......... .......... .......... .......... .......... 50% 71.5M 1s\n",
      " 43500K .......... .......... .......... .......... .......... 50%  259M 1s\n",
      " 43550K .......... .......... .......... .......... .......... 50%  344M 1s\n",
      " 43600K .......... .......... .......... .......... .......... 50%  239M 1s\n",
      " 43650K .......... .......... .......... .......... .......... 50%  108M 1s\n",
      " 43700K .......... .......... .......... .......... .......... 50%  129M 1s\n",
      " 43750K .......... .......... .......... .......... .......... 50%  290M 1s\n",
      " 43800K .......... .......... .......... .......... .......... 50%  188M 1s\n",
      " 43850K .......... .......... .......... .......... .......... 51%  282M 1s\n",
      " 43900K .......... .......... .......... .......... .......... 51%  271M 1s\n",
      " 43950K .......... .......... .......... .......... .......... 51%  334M 1s\n",
      " 44000K .......... .......... .......... .......... .......... 51%  343M 1s\n",
      " 44050K .......... .......... .......... .......... .......... 51%  214M 1s\n",
      " 44100K .......... .......... .......... .......... .......... 51%  339M 1s\n",
      " 44150K .......... .......... .......... .......... .......... 51%  306M 1s\n",
      " 44200K .......... .......... .......... .......... .......... 51%  280M 1s\n",
      " 44250K .......... .......... .......... .......... .......... 51%  273M 1s\n",
      " 44300K .......... .......... .......... .......... .......... 51%  340M 1s\n",
      " 44350K .......... .......... .......... .......... .......... 51%  209M 1s\n",
      " 44400K .......... .......... .......... .......... .......... 51%  297M 1s\n",
      " 44450K .......... .......... .......... .......... .......... 51%  298M 1s\n",
      " 44500K .......... .......... .......... .......... .......... 51%  248M 1s\n",
      " 44550K .......... .......... .......... .......... .......... 51%  308M 1s\n",
      " 44600K .......... .......... .......... .......... .......... 51% 44.6M 1s\n",
      " 44650K .......... .......... .......... .......... .......... 51%  188M 1s\n",
      " 44700K .......... .......... .......... .......... .......... 52%  290M 1s\n",
      " 44750K .......... .......... .......... .......... .......... 52%  197M 1s\n",
      " 44800K .......... .......... .......... .......... .......... 52%  205M 1s\n",
      " 44850K .......... .......... .......... .......... .......... 52% 66.1M 1s\n",
      " 44900K .......... .......... .......... .......... .......... 52%  297M 1s\n",
      " 44950K .......... .......... .......... .......... .......... 52%  319M 1s\n",
      " 45000K .......... .......... .......... .......... .......... 52%  318M 1s\n",
      " 45050K .......... .......... .......... .......... .......... 52%  262M 1s\n",
      " 45100K .......... .......... .......... .......... .......... 52%  313M 1s\n",
      " 45150K .......... .......... .......... .......... .......... 52%  317M 1s\n",
      " 45200K .......... .......... .......... .......... .......... 52%  308M 1s\n",
      " 45250K .......... .......... .......... .......... .......... 52%  290M 1s\n",
      " 45300K .......... .......... .......... .......... .......... 52%  319M 1s\n",
      " 45350K .......... .......... .......... .......... .......... 52%  239M 1s\n",
      " 45400K .......... .......... .......... .......... .......... 52%  315M 1s\n",
      " 45450K .......... .......... .......... .......... .......... 52%  128M 1s\n",
      " 45500K .......... .......... .......... .......... .......... 52% 82.5M 1s\n",
      " 45550K .......... .......... .......... .......... .......... 53% 76.0M 1s\n",
      " 45600K .......... .......... .......... .......... .......... 53% 78.1M 1s\n",
      " 45650K .......... .......... .......... .......... .......... 53%  311M 1s\n",
      " 45700K .......... .......... .......... .......... .......... 53%  346M 1s\n",
      " 45750K .......... .......... .......... .......... .......... 53%  342M 1s\n",
      " 45800K .......... .......... .......... .......... .......... 53%  345M 1s\n",
      " 45850K .......... .......... .......... .......... .......... 53%  293M 1s\n",
      " 45900K .......... .......... .......... .......... .......... 53%  341M 1s\n",
      " 45950K .......... .......... .......... .......... .......... 53%  351M 1s\n",
      " 46000K .......... .......... .......... .......... .......... 53%  174M 1s\n",
      " 46050K .......... .......... .......... .......... .......... 53%  311M 1s\n",
      " 46100K .......... .......... .......... .......... .......... 53%  346M 1s\n",
      " 46150K .......... .......... .......... .......... .......... 53%  356M 1s\n",
      " 46200K .......... .......... .......... .......... .......... 53%  340M 1s\n",
      " 46250K .......... .......... .......... .......... .......... 53%  274M 1s\n",
      " 46300K .......... .......... .......... .......... .......... 53% 39.9M 1s\n",
      " 46350K .......... .......... .......... .......... .......... 53% 52.7M 1s\n",
      " 46400K .......... .......... .......... .......... .......... 53%  345M 1s\n",
      " 46450K .......... .......... .......... .......... .......... 54%  233M 1s\n",
      " 46500K .......... .......... .......... .......... .......... 54%  337M 1s\n",
      " 46550K .......... .......... .......... .......... .......... 54%  345M 1s\n",
      " 46600K .......... .......... .......... .......... .......... 54%  125M 1s\n",
      " 46650K .......... .......... .......... .......... .......... 54%  289M 1s\n",
      " 46700K .......... .......... .......... .......... .......... 54%  191M 1s\n",
      " 46750K .......... .......... .......... .......... .......... 54%  322M 1s\n",
      " 46800K .......... .......... .......... .......... .......... 54%  337M 1s\n",
      " 46850K .......... .......... .......... .......... .......... 54%  308M 1s\n",
      " 46900K .......... .......... .......... .......... .......... 54%  335M 1s\n",
      " 46950K .......... .......... .......... .......... .......... 54%  347M 1s\n",
      " 47000K .......... .......... .......... .......... .......... 54%  335M 1s\n",
      " 47050K .......... .......... .......... .......... .......... 54%  270M 1s\n",
      " 47100K .......... .......... .......... .......... .......... 54%  347M 1s\n",
      " 47150K .......... .......... .......... .......... .......... 54%  342M 1s\n",
      " 47200K .......... .......... .......... .......... .......... 54%  340M 1s\n",
      " 47250K .......... .......... .......... .......... .......... 54%  238M 1s\n",
      " 47300K .......... .......... .......... .......... .......... 55%  293M 1s\n",
      " 47350K .......... .......... .......... .......... .......... 55%  322M 1s\n",
      " 47400K .......... .......... .......... .......... .......... 55%  331M 1s\n",
      " 47450K .......... .......... .......... .......... .......... 55%  283M 1s\n",
      " 47500K .......... .......... .......... .......... .......... 55%  316M 1s\n",
      " 47550K .......... .......... .......... .......... .......... 55%  221M 1s\n",
      " 47600K .......... .......... .......... .......... .......... 55%  234M 1s\n",
      " 47650K .......... .......... .......... .......... .......... 55%  289M 1s\n",
      " 47700K .......... .......... .......... .......... .......... 55%  345M 1s\n",
      " 47750K .......... .......... .......... .......... .......... 55%  298M 1s\n",
      " 47800K .......... .......... .......... .......... .......... 55%  334M 1s\n",
      " 47850K .......... .......... .......... .......... .......... 55%  272M 1s\n",
      " 47900K .......... .......... .......... .......... .......... 55%  320M 1s\n",
      " 47950K .......... .......... .......... .......... .......... 55%  326M 1s\n",
      " 48000K .......... .......... .......... .......... .......... 55%  339M 1s\n",
      " 48050K .......... .......... .......... .......... .......... 55%  314M 1s\n",
      " 48100K .......... .......... .......... .......... .......... 55%  315M 1s\n",
      " 48150K .......... .......... .......... .......... .......... 56%  340M 1s\n",
      " 48200K .......... .......... .......... .......... .......... 56%  342M 1s\n",
      " 48250K .......... ......."
     ]
    },
    {
     "name": "stderr",
     "output_type": "stream",
     "text": [
      "... .......... .......... .......... 56%  413K 1s\n",
      " 48300K .......... .......... .......... .......... .......... 56%  274M 1s\n",
      " 48350K .......... .......... .......... .......... .......... 56%  111M 1s\n",
      " 48400K .......... .......... .......... .......... .......... 56%  117M 1s\n",
      " 48450K .......... .......... .......... .......... .......... 56%  176M 1s\n",
      " 48500K .......... .......... .......... .......... .......... 56% 71.6M 1s\n",
      " 48550K .......... .......... .......... .......... .......... 56%  100M 1s\n",
      " 48600K .......... .......... .......... .......... .......... 56%  104M 1s\n",
      " 48650K .......... .......... .......... .......... .......... 56% 33.0M 1s\n",
      " 48700K .......... .......... .......... .......... .......... 56%  144M 1s\n",
      " 48750K .......... .......... .......... .......... .......... 56%  204M 1s\n",
      " 48800K .......... .......... .......... .......... .......... 56% 27.5M 1s\n",
      " 48850K .......... .......... .......... .......... .......... 56% 65.7M 1s\n",
      " 48900K .......... .......... .......... .......... .......... 56%  123M 1s\n",
      " 48950K .......... .......... .......... .......... .......... 56%  236M 1s\n",
      " 49000K .......... .......... .......... .......... .......... 57%  126M 1s\n",
      " 49050K .......... .......... .......... .......... .......... 57% 40.6M 1s\n",
      " 49100K .......... .......... .......... .......... .......... 57%  318M 1s\n",
      " 49150K .......... .......... .......... .......... .......... 57%  334M 1s\n",
      " 49200K .......... .......... .......... .......... .......... 57%  341M 1s\n",
      " 49250K .......... .......... .......... .......... .......... 57%  140M 1s\n",
      " 49300K .......... .......... .......... .......... .......... 57%  348M 1s\n",
      " 49350K .......... .......... .......... .......... .......... 57%  349M 1s\n",
      " 49400K .......... .......... .......... .......... .......... 57%  348M 1s\n",
      " 49450K .......... .......... .......... .......... .......... 57%  292M 1s\n",
      " 49500K .......... .......... .......... .......... .......... 57%  350M 1s\n",
      " 49550K .......... .......... .......... .......... .......... 57%  335M 1s\n",
      " 49600K .......... .......... .......... .......... .......... 57%  336M 1s\n",
      " 49650K .......... .......... .......... .......... .......... 57%  264M 1s\n",
      " 49700K .......... .......... .......... .......... .......... 57%  183M 1s\n",
      " 49750K .......... .......... .......... .......... .......... 57%  253M 1s\n",
      " 49800K .......... .......... .......... .......... .......... 57%  224M 1s\n",
      " 49850K .......... .......... .......... .......... .......... 58%  251M 1s\n",
      " 49900K .......... .......... .......... .......... .......... 58%  336M 1s\n",
      " 49950K .......... .......... .......... .......... .......... 58%  349M 1s\n",
      " 50000K .......... .......... .......... .......... .......... 58%  292M 1s\n",
      " 50050K .......... .......... .......... .......... .......... 58%  310M 1s\n",
      " 50100K .......... .......... .......... .......... .......... 58% 51.0M 1s\n",
      " 50150K .......... .......... .......... .......... .......... 58% 92.1M 1s\n",
      " 50200K .......... .......... .......... .......... .......... 58%  230M 1s\n",
      " 50250K .......... .......... .......... .......... .......... 58%  275M 1s\n",
      " 50300K .......... .......... .......... .......... .......... 58%  344M 1s\n",
      " 50350K .......... .......... .......... .......... .......... 58%  165M 1s\n",
      " 50400K .......... .......... .......... .......... .......... 58%  156M 1s\n",
      " 50450K .......... .......... .......... .......... .......... 58%  306M 1s\n",
      " 50500K .......... .......... .......... .......... .......... 58%  322M 1s\n",
      " 50550K .......... .......... .......... .......... .......... 58%  346M 1s\n",
      " 50600K .......... .......... .......... .......... .......... 58%  176M 1s\n",
      " 50650K .......... .......... .......... .......... .......... 58%  211M 1s\n",
      " 50700K .......... .......... .......... .......... .......... 58%  331M 1s\n",
      " 50750K .......... .......... .......... .......... .......... 59%  337M 1s\n",
      " 50800K .......... .......... .......... .......... .......... 59%  331M 1s\n",
      " 50850K .......... .......... .......... .......... .......... 59%  311M 1s\n",
      " 50900K .......... .......... .......... .......... .......... 59%  236M 1s\n",
      " 50950K .......... .......... .......... .......... .......... 59%  321M 1s\n",
      " 51000K .......... .......... .......... .......... .......... 59%  334M 1s\n",
      " 51050K .......... .......... .......... .......... .......... 59%  280M 1s\n",
      " 51100K .......... .......... .......... .......... .......... 59%  323M 1s\n",
      " 51150K .......... .......... .......... .......... .......... 59%  319M 1s\n",
      " 51200K .......... .......... .......... .......... .......... 59%  339M 1s\n",
      " 51250K .......... .......... .......... .......... .......... 59%  108M 1s\n",
      " 51300K .......... .......... .......... .......... .......... 59% 83.0M 1s\n",
      " 51350K .......... .......... .......... .......... .......... 59% 26.6M 1s\n",
      " 51400K .......... .......... .......... .......... .......... 59%  264M 1s\n",
      " 51450K .......... .......... .......... .......... .......... 59%  281M 1s\n",
      " 51500K .......... .......... .......... .......... .......... 59%  336M 1s\n",
      " 51550K .......... .......... .......... .......... .......... 59% 82.9M 1s\n",
      " 51600K .......... .......... .......... .......... .......... 60% 39.3M 1s\n",
      " 51650K .......... .......... .......... .......... .......... 60%  127M 1s\n",
      " 51700K .......... .......... .......... .......... .......... 60% 54.6M 1s\n",
      " 51750K .......... .......... .......... .......... .......... 60%  150M 1s\n",
      " 51800K .......... .......... .......... .......... .......... 60%  127M 1s\n",
      " 51850K .......... .......... .......... .......... .......... 60% 62.6M 1s\n",
      " 51900K .......... .......... .......... .......... .......... 60% 37.7M 1s\n",
      " 51950K .......... .......... .......... .......... .......... 60% 84.5M 1s\n",
      " 52000K .......... .......... .......... .......... .......... 60% 28.9M 1s\n",
      " 52050K .......... .......... .......... .......... .......... 60% 80.5M 1s\n",
      " 52100K .......... .......... .......... .......... .......... 60% 40.1M 1s\n",
      " 52150K .......... .......... .......... .......... .......... 60%  152M 1s\n",
      " 52200K .......... .......... .......... .......... .......... 60%  148M 1s\n",
      " 52250K .......... .......... .......... .......... .......... 60%  227M 1s\n",
      " 52300K .......... .......... .......... .......... .......... 60% 87.7M 1s\n",
      " 52350K .......... .......... .......... .......... .......... 60%  159M 1s\n",
      " 52400K .......... .......... .......... .......... .......... 60%  205M 1s\n",
      " 52450K .......... .......... .......... .......... .......... 61%  261M 1s\n",
      " 52500K .......... .......... .......... .......... .......... 61%  340M 1s\n",
      " 52550K .......... .......... .......... .......... .......... 61%  345M 1s\n",
      " 52600K .......... .......... .......... .......... .......... 61%  126M 1s\n",
      " 52650K .......... .......... .......... .......... .......... 61%  269M 1s\n",
      " 52700K .......... .......... .......... .......... .......... 61%  318M 1s\n",
      " 52750K .......... .......... .......... .......... .......... 61%  340M 1s\n",
      " 52800K .......... .......... .......... .......... .......... 61%  343M 0s\n",
      " 52850K .......... .......... .......... .......... .......... 61%  303M 0s\n",
      " 52900K .......... .......... .......... .......... .......... 61% 44.5M 0s\n",
      " 52950K .......... .......... .......... .......... .......... 61%  102M 0s\n",
      " 53000K .......... .......... .......... .......... .......... 61%  139M 0s\n",
      " 53050K .......... .......... .......... .......... .......... 61%  110M 0s\n",
      " 53100K .......... .......... .......... .......... .......... 61% 58.8M 0s\n",
      " 53150K .......... .......... .......... .......... .......... 61% 90.8M 0s\n",
      " 53200K .......... .......... .......... .......... .......... 61%  114M 0s\n",
      " 53250K .......... .......... .......... .......... .......... 61%  222M 0s\n",
      " 53300K .......... .......... .......... .......... .......... 62%  167M 0s\n",
      " 53350K .......... .......... .......... .......... .......... 62% 96.1M 0s\n",
      " 53400K .......... .......... .......... .......... .......... 62% 81.8M 0s\n",
      " 53450K .......... .......... .......... .......... .......... 62% 81.4M 0s\n",
      " 53500K .......... .......... .......... .......... .......... 62%  146M 0s\n",
      " 53550K .......... .......... .......... .......... .......... 62%  212M 0s\n",
      " 53600K .......... .......... .......... .......... .......... 62%  301M 0s\n",
      " 53650K .......... .......... .......... .......... .......... 62%  102M 0s\n",
      " 53700K .......... .......... .......... .......... .......... 62%  286M 0s\n",
      " 53750K .......... .......... .......... .......... .......... 62%  285M 0s\n",
      " 53800K .......... .......... .......... .......... .......... 62%  300M 0s\n",
      " 53850K .......... .......... .......... .......... .......... 62%  190M 0s\n",
      " 53900K .......... .......... .......... .......... .......... 62%  286M 0s\n",
      " 53950K .......... .......... .......... .......... .......... 62%  279M 0s\n",
      " 54000K .......... .......... .......... .......... .......... 62%  299M 0s\n",
      " 54050K .......... .......... .......... .......... .......... 62%  199M 0s\n",
      " 54100K .......... .......... .......... .......... .......... 62%  309M 0s\n",
      " 54150K .......... .......... .......... .......... .......... 63% 99.8M 0s\n",
      " 54200K .......... .......... .......... .......... .......... 63%  193M 0s\n",
      " 54250K .......... .......... .......... .......... .......... 63%  120M 0s\n",
      " 54300K .......... .......... .......... .......... .......... 63%  206M 0s\n",
      " 54350K .......... .......... .......... .......... .......... 63%  298M 0s\n",
      " 54400K .......... .......... .......... .......... .......... 63%  300M 0s\n",
      " 54450K .......... .......... .......... .......... .......... 63%  116M 0s\n",
      " 54500K .......... .......... .......... .......... .......... 63%  259M 0s\n",
      " 54550K .......... .......... .......... .......... .......... 63%  266M 0s\n",
      " 54600K .......... .......... .......... .......... .......... 63%  181M 0s\n",
      " 54650K .......... .......... .......... .......... .......... 63% 92.6M 0s\n",
      " 54700K .......... .......... .......... .......... .......... 63%  311M 0s\n",
      " 54750K .......... .......... .......... .......... .......... 63%  339M 0s\n",
      " 54800K .......... .......... .......... .......... .......... 63%  341M 0s\n",
      " 54850K .......... .......... .......... .......... .......... 63%  308M 0s\n",
      " 54900K .......... .......... .......... .......... .......... 63%  340M 0s\n",
      " 54950K .......... .......... .......... .......... .......... 63%  306M 0s\n",
      " 55000K .......... .......... .......... .......... .......... 63%  344M 0s\n",
      " 55050K .......... .......... .......... .......... .......... 64%  283M 0s\n",
      " 55100K .......... .......... .......... .......... .......... 64%  322M 0s\n",
      " 55150K .......... .......... .......... .......... .......... 64%  106M 0s\n",
      " 55200K .......... .......... .......... .......... .......... 64%  331M 0s\n",
      " 55250K .......... .......... .......... .......... .......... 64%  306M 0s\n",
      " 55300K .......... .......... .......... .......... .......... 64%  325M 0s\n",
      " 55350K .......... .......... .......... .......... .......... 64%  341M 0s\n",
      " 55400K .......... .......... .......... .......... .......... 64%  218M 0s\n",
      " 55450K .......... .......... .......... .......... .......... 64%  141M 0s\n",
      " 55500K .......... .......... .......... .......... .......... 64%  182M 0s\n",
      " 55550K .......... .......... .......... .......... .......... 64%  315M 0s\n",
      " 55600K .......... .......... .......... .......... .......... 64%  337M 0s\n",
      " 55650K .......... .......... .......... .......... .......... 64% 7.81M 0s\n",
      " 55700K .......... .......... .......... .......... .......... 64% 38.7M 0s\n",
      " 55750K .......... .......... .......... .......... .......... 64%  110M 0s\n",
      " 55800K .......... .......... .......... .......... .......... 64% 17.4M 0s\n",
      " 55850K .......... .......... .......... .......... .......... 64%  108M 0s\n",
      " 55900K .......... .......... .......... .......... .......... 65%  250M 0s\n",
      " 55950K .......... .......... .......... .......... .......... 65%  253M 0s\n",
      " 56000K .......... .......... .......... .......... .......... 65% 95.5M 0s\n",
      " 56050K .......... .......... .......... .......... .......... 65% 46.8M 0s\n",
      " 56100K .......... .......... .......... .......... .......... 65%  328M 0s\n",
      " 56150K .......... .......... .......... .......... .......... 65%  338M 0s\n",
      " 56200K .......... .......... .......... .......... .......... 65%  349M 0s\n",
      " 56250K .......... .......... .......... .......... .......... 65%  281M 0s\n",
      " 56300K .......... .......... .......... .......... .......... 65%  323M 0s\n",
      " 56350K .......... .......... .......... .......... .......... 65%  349M 0s\n",
      " 56400K .......... .......... .......... .......... .......... 65%  338M 0s\n",
      " 56450K .......... .......... .......... .......... .......... 65%  186M 0s\n",
      " 56500K .......... .......... .......... .......... .......... 65%  331M 0s\n",
      " 56550K .......... .......... .......... .......... .......... 65%  306M 0s\n",
      " 56600K .......... .......... .......... .......... .......... 65%  352M 0s\n",
      " 56650K .......... .......... .......... .......... .......... 65%  286M 0s\n",
      " 56700K .......... .......... .......... .......... .......... 65%  311M 0s\n",
      " 56750K .......... .......... .......... .......... .......... 66% 83.3M 0s\n",
      " 56800K .......... .......... .......... .......... .......... 66%  330M 0s\n",
      " 56850K .......... .......... .......... .......... .......... 66%  229M 0s\n",
      " 56900K .......... .......... .......... .......... .......... 66%  249M 0s\n",
      " 56950K .......... .......... .......... .......... .......... 66%  324M 0s\n",
      " 57000K .......... .......... .......... .......... .......... 66%  107M 0s\n",
      " 57050K .......... .......... .......... .......... .......... 66%  263M 0s\n",
      " 57100K .......... .......... .......... .......... .......... 66%  342M 0s\n",
      " 57150K .......... .......... .......... .......... .......... 66%  325M 0s\n",
      " 57200K .......... .......... .......... .......... .......... 66%  341M 0s\n",
      " 57250K .......... .......... .......... .......... .......... 66%  312M 0s\n",
      " 57300K .......... .......... .......... .......... .......... 66%  342M 0s\n",
      " 57350K .......... .......... .......... .......... .......... 66%  343M 0s\n",
      " 57400K .......... .......... .......... .......... .......... 66%  308M 0s\n",
      " 57450K .......... .......... .......... .......... .......... 66%  251M 0s\n",
      " 57500K .......... .......... .......... .......... .......... 66%  347M 0s\n",
      " 57550K .......... .......... .......... .......... .......... 66%  348M 0s\n",
      " 57600K .......... .......... .......... .......... .......... 67%  341M 0s\n",
      " 57650K .......... .......... .......... .......... .......... 67% 30.1M 0s\n",
      " 57700K .......... .......... .......... .......... .......... 67%  309M 0s\n",
      " 57750K .......... .......... .......... .......... .......... 67%  234M 0s\n",
      " 57800K .......... .......... .......... .......... .......... 67%  337M 0s\n",
      " 57850K .......... .......... .......... .......... .......... 67%  225M 0s\n",
      " 57900K .......... .......... .......... .......... .......... 67%  331M 0s\n",
      " 57950K .......... .......... .......... .......... .......... 67%  321M 0s\n",
      " 58000K .......... .......... .......... .......... .......... 67%  340M 0s\n",
      " 58050K .......... .......... .......... .......... .......... 67%  306M 0s\n",
      " 58100K .......... .......... .......... .......... .......... 67%  317M 0s\n",
      " 58150K .......... .......... .......... .......... .......... 67%  162M 0s\n",
      " 58200K .......... .......... .......... .......... .......... 67%  297M 0s\n",
      " 58250K .......... .......... .......... .......... .......... 67%  271M 0s\n",
      " 58300K .......... .......... .......... .......... .......... 67%  321M 0s\n",
      " 58350K .......... .......... .......... .......... .......... 67%  339M 0s\n",
      " 58400K .......... .......... .......... .......... .......... 67%  313M 0s\n",
      " 58450K .......... .......... .......... .......... .......... 68%  314M 0s\n",
      " 58500K .......... .......... .......... .......... .......... 68%  226M 0s\n",
      " 58550K .......... .......... .......... .......... .......... 68%  302M 0s\n",
      " 58600K .......... .......... .......... .......... .......... 68%  309M 0s\n",
      " 58650K .......... .......... .......... .......... .......... 68%  278M 0s\n",
      " 58700K .......... .......... .......... .......... .......... 68%  272M 0s\n",
      " 58750K .......... .......... .......... .......... .......... 68%  331M 0s\n",
      " 58800K .......... .......... .......... .......... .......... 68%  150M 0s\n",
      " 58850K .......... .......... .......... .......... .......... 68%  282M 0s\n",
      " 58900K .......... .......... .......... .......... .......... 68% 88.4M 0s\n",
      " 58950K .......... .......... .......... .......... .......... 68% 57.2M 0s\n",
      " 59000K .......... .......... .......... .......... .......... 68%  112M 0s\n",
      " 59050K .......... .......... .......... .......... .......... 68%  261M 0s\n",
      " 59100K .......... .......... .......... .......... .......... 68%  207M 0s\n",
      " 59150K .......... .......... .......... .......... .......... 68%  199M 0s\n",
      " 59200K .......... .......... .......... .......... .......... 68%  260M 0s\n",
      " 59250K .......... .......... .......... .......... .......... 68%  299M 0s\n",
      " 59300K .......... .......... .......... .......... .......... 68%  328M 0s\n",
      " 59350K .......... .......... .......... .......... .......... 69%  343M 0s\n",
      " 59400K .......... .......... .......... .......... .......... 69%  294M 0s\n",
      " 59450K .......... .......... .......... .......... .......... 69% 92.8M 0s\n",
      " 59500K .......... .......... .......... .......... .......... 69%  102M 0s\n",
      " 59550K .......... .......... .......... .......... .......... 69% 77.1M 0s\n",
      " 59600K .......... .......... .......... .......... .......... 69%  289M 0s\n",
      " 59650K .......... .......... .......... .......... .......... 69%  198M 0s\n",
      " 59700K .......... .......... .......... .......... .......... 69%  349M 0s\n",
      " 59750K .......... .......... .......... .......... .......... 69%  341M 0s\n",
      " 59800K .......... .......... .......... .......... .......... 69%  253M 0s\n",
      " 59850K .......... .......... .......... .......... .......... 69%  287M 0s\n",
      " 59900K .......... .......... .......... .......... .......... 69%  245M 0s\n",
      " 59950K .......... .......... .......... .......... .......... 69%  338M 0s\n",
      " 60000K .......... .......... .......... .......... .......... 69%  333M 0s\n",
      " 60050K .......... .......... .......... .......... .......... 69%  286M 0s\n",
      " 60100K .......... .......... .......... .......... .......... 69%  321M 0s\n",
      " 60150K .......... .......... .......... .......... .......... 69%  336M 0s\n",
      " 60200K .......... .......... .......... .......... .......... 70%  334M 0s\n",
      " 60250K .......... .......... .......... .......... .......... 70%  162M 0s\n",
      " 60300K .......... .......... .......... .......... .......... 70%  294M 0s\n",
      " 60350K .......... .......... .......... .......... .......... 70%  319M 0s\n",
      " 60400K .......... .......... .......... .......... .......... 70%  308M 0s\n",
      " 60450K .......... .......... .......... .......... .......... 70%  310M 0s\n",
      " 60500K .......... .......... .......... .......... .......... 70%  349M 0s\n",
      " 60550K .......... .......... .......... .......... .......... 70%  234M 0s\n",
      " 60600K .......... .......... .......... .......... .......... 70%  319M 0s\n",
      " 60650K .......... .......... .......... .......... .......... 70%  282M 0s\n",
      " 60700K .......... .......... .......... .......... .......... 70%  337M 0s\n",
      " 60750K .......... .......... .......... .......... .......... 70%  326M 0s\n",
      " 60800K .......... .......... .......... .......... .......... 70%  339M 0s\n",
      " 60850K .......... .......... .......... .......... .......... 70%  214M 0s\n",
      " 60900K .......... .......... .......... .......... .......... 70%  309M 0s\n",
      " 60950K .......... .......... .......... .......... .......... 70%  339M 0s\n",
      " 61000K .......... .......... .......... .......... .......... 70%  260M 0s\n",
      " 61050K .......... .......... .......... .......... .......... 71%  270M 0s\n",
      " 61100K .......... .......... .......... .......... .......... 71%  337M 0s\n",
      " 61150K .......... .......... .......... .......... .......... 71%  354M 0s\n",
      " 61200K .......... .......... .......... .......... .......... 71%  284M 0s\n",
      " 61250K .......... .......... .......... .......... .......... 71%  291M 0s\n",
      " 61300K .......... .......... .......... .......... .......... 71%  254M 0s\n",
      " 61350K .......... .......... .......... .......... .......... 71% 55.4M 0s\n",
      " 61400K .......... .......... .......... .......... .......... 71%  171M 0s\n",
      " 61450K .......... .......... .......... .......... .......... 71% 60.1M 0s\n",
      " 61500K .......... .......... .......... .......... .......... 71%  336M 0s\n",
      " 61550K .......... .......... .......... .......... .......... 71%  285M 0s\n",
      " 61600K .......... .......... .......... .......... .......... 71%  311M 0s\n",
      " 61650K .......... .......... .......... .......... .......... 71%  231M 0s\n",
      " 61700K .......... .......... .......... .......... .......... 71%  272M 0s\n",
      " 61750K .......... .......... .......... .......... .......... 71%  338M 0s\n",
      " 61800K .......... .......... .......... .......... .......... 71%  341M 0s\n",
      " 61850K .......... .......... .......... .......... .......... 71%  284M 0s\n",
      " 61900K .......... .......... .......... .......... .......... 72%  325M 0s\n",
      " 61950K .......... .......... .......... .......... .......... 72%  347M 0s\n",
      " 62000K .......... .......... .......... .......... .......... 72%  342M 0s\n",
      " 62050K .......... .......... .......... .......... .......... 72%  312M 0s\n",
      " 62100K .......... .......... .......... .......... .......... 72%  347M 0s\n",
      " 62150K .......... .......... .......... .......... .......... 72%  336M 0s\n",
      " 62200K .......... .......... .......... .......... .......... 72% 64.0M 0s\n",
      " 62250K .......... .......... .......... .......... .......... 72%  165M 0s\n",
      " 62300K .......... .......... .......... .......... .......... 72%  333M 0s\n",
      " 62350K .......... .......... .......... .......... .......... 72%  279M 0s\n",
      " 62400K .......... .......... .......... .......... .......... 72%  325M 0s\n",
      " 62450K .......... .......... .......... .......... .......... 72%  307M 0s\n",
      " 62500K .......... .......... .......... .......... .......... 72%  343M 0s\n",
      " 62550K .......... .......... .......... .......... .......... 72%  343M 0s\n",
      " 62600K .......... .......... .......... .......... .......... 72%  258M 0s\n",
      " 62650K .......... .......... .......... .......... .......... 72%  264M 0s\n",
      " 62700K .......... .......... .......... .......... .......... 72%  225M 0s\n",
      " 62750K .......... .......... .......... .......... .......... 73%  342M 0s\n",
      " 62800K .......... .......... .......... .......... .......... 73%  240M 0s\n",
      " 62850K .......... .......... .......... .......... .......... 73%  201M 0s\n",
      " 62900K .......... .......... .......... .......... .......... 73%  310M 0s\n",
      " 62950K .......... .......... .......... .......... .......... 73%  286M 0s\n",
      " 63000K .......... .......... .......... .......... .......... 73%  343M 0s\n",
      " 63050K .......... .......... .......... .......... .......... 73%  274M 0s\n",
      " 63100K .......... .......... .......... .......... .......... 73%  331M 0s\n",
      " 63150K .......... .......... .......... .......... .......... 73%  347M 0s\n",
      " 63200K .......... .......... .......... .......... .......... 73%  143M 0s\n",
      " 63250K .......... .......... .......... .......... .......... 73%  179M 0s\n",
      " 63300K .......... .......... .......... .......... .......... 73% 73.0M 0s\n",
      " 63350K .......... .......... .......... .......... .......... 73%  342M 0s\n",
      " 63400K .......... .......... .......... .......... .......... 73% 34.4M 0s\n",
      " 63450K .......... .......... .......... .......... .......... 73%  189M 0s\n",
      " 63500K .......... .......... .......... .......... .......... 73%  344M 0s\n",
      " 63550K .......... .......... .......... .......... .......... 73%  262M 0s\n",
      " 63600K .......... .......... .......... .......... .......... 73%  351M 0s\n",
      " 63650K .......... .......... .......... .......... .......... 74%  302M 0s\n",
      " 63700K .......... .......... .......... .......... .......... 74%  286M 0s\n",
      " 63750K .......... .......... .......... .......... .......... 74%  354M 0s\n",
      " 63800K .......... .......... .......... .......... .......... 74%  217M 0s\n",
      " 63850K .......... .......... .......... .......... .......... 74% 55.6M 0s\n",
      " 63900K .......... .......... .......... .......... .......... 74%  321M 0s\n",
      " 63950K .......... .......... .......... .......... .......... 74%  353M 0s\n",
      " 64000K .......... .......... .......... .......... .......... 74%  351M 0s\n",
      " 64050K .......... .......... .......... .......... .......... 74%  321M 0s\n",
      " 64100K .......... .......... .......... .......... .......... 74%  355M 0s\n",
      " 64150K .......... .......... .......... .......... .......... 74%  345M 0s\n",
      " 64200K .......... .......... .......... .......... .......... 74%  360M 0s\n",
      " 64250K .......... .......... .......... .......... .......... 74%  300M 0s\n",
      " 64300K .......... .......... .......... .......... .......... 74%  361M 0s\n",
      " 64350K .......... .......... .......... .......... .......... 74%  357M 0s\n",
      " 64400K .......... .......... .......... .......... .......... 74%  353M 0s\n",
      " 64450K .......... .......... .......... .......... .......... 74%  326M 0s\n",
      " 64500K .......... .......... .......... .......... .......... 75%  363M 0s\n",
      " 64550K .......... .......... .......... .......... .......... 75%  360M 0s\n",
      " 64600K .......... .......... .......... .......... .......... 75%  361M 0s\n",
      " 64650K .......... .......... .......... .......... .......... 75% 10.6M 0s\n",
      " 64700K .......... .......... .......... .......... .......... 75%  203M 0s\n",
      " 64750K .......... .......... .......... .......... .......... 75% 50.7M 0s\n",
      " 64800K .......... .......... .......... .......... .......... 75%  320M 0s\n",
      " 64850K .......... .......... .......... .......... .......... 75%  302M 0s\n",
      " 64900K .......... .......... .......... .......... .......... 75%  326M 0s\n",
      " 64950K .......... .......... .......... .......... .......... 75%  209M 0s\n",
      " 65000K .......... .......... .......... .......... .......... 75%  342M 0s\n",
      " 65050K .......... .......... .......... .......... .......... 75%  282M 0s\n",
      " 65100K .......... .......... .......... .......... .......... 75%  337M 0s\n",
      " 65150K .......... .......... .......... .......... .......... 75%  275M 0s\n",
      " 65200K .......... .......... .......... .......... .......... 75%  344M 0s\n",
      " 65250K .......... .......... .......... .......... .......... 75%  303M 0s\n",
      " 65300K .......... .......... .......... .......... .......... 75%  345M 0s\n",
      " 65350K .......... .......... .......... .......... .......... 76%  346M 0s\n",
      " 65400K .......... .......... .......... .......... .......... 76% 58.1M 0s\n",
      " 65450K .......... .......... .......... .......... .......... 76%  200M 0s\n",
      " 65500K .......... .......... .......... .......... .......... 76%  255M 0s\n",
      " 65550K .......... .......... .......... .......... .......... 76%  278M 0s\n",
      " 65600K .......... .......... .......... .......... .......... 76%  318M 0s\n",
      " 65650K .......... .......... .......... .......... .......... 76%  265M 0s\n",
      " 65700K .......... .......... .......... .......... .......... 76%  271M 0s\n",
      " 65750K .......... .......... .......... .......... .......... 76%  267M 0s\n",
      " 65800K .......... .......... .......... .......... .......... 76%  184M 0s\n",
      " 65850K .......... .......... .......... .......... .......... 76%  202M 0s\n",
      " 65900K .......... .......... .......... .......... .......... 76%  301M 0s\n",
      " 65950K .......... .......... .......... .......... .......... 76%  228M 0s\n",
      " 66000K .......... .......... .......... .......... .......... 76%  335M 0s\n",
      " 66050K .......... .......... .......... .......... .......... 76%  306M 0s\n",
      " 66100K .......... .......... .......... .......... .......... 76%  222M 0s\n",
      " 66150K .......... .......... .......... .......... .......... 76%  311M 0s\n",
      " 66200K .......... .......... .......... .......... .......... 77%  313M 0s\n",
      " 66250K .......... .......... .......... .......... .......... 77%  270M 0s\n",
      " 66300K .......... .......... .......... .......... .......... 77%  325M 0s\n",
      " 66350K .......... .......... .......... .......... .......... 77%  189M 0s\n",
      " 66400K .......... .......... .......... .......... .......... 77%  178M 0s\n",
      " 66450K .......... .......... .......... .......... .......... 77%  297M 0s\n",
      " 66500K .......... .......... .......... .......... .......... 77%  347M 0s\n",
      " 66550K .......... .......... .......... .......... .......... 77%  279M 0s\n",
      " 66600K .......... .......... .......... .......... .......... 77%  344M 0s\n",
      " 66650K .......... .......... .......... .......... .......... 77%  302M 0s\n",
      " 66700K .......... .......... .......... .......... .......... 77% 36.2M 0s\n",
      " 66750K .......... .......... .......... .......... .......... 77% 82.1M 0s\n",
      " 66800K .......... .......... .......... .......... .......... 77% 76.7M 0s\n",
      " 66850K .......... .......... .......... .......... .......... 77%  302M 0s\n",
      " 66900K .......... .......... .......... .......... .......... 77%  354M 0s\n",
      " 66950K .......... .......... .......... .......... .......... 77%  354M 0s\n",
      " 67000K .......... .......... .......... .......... .......... 77%  363M 0s\n",
      " 67050K .......... .......... .......... .......... .......... 78%  291M 0s\n",
      " 67100K .......... .......... .......... .......... .......... 78%  178M 0s\n",
      " 67150K .......... .......... .......... .......... .......... 78% 86.9M 0s\n",
      " 67200K .......... .......... .......... .......... .......... 78%  119M 0s\n",
      " 67250K .......... .......... .......... .......... .......... 78%  224M 0s\n",
      " 67300K .......... .......... .......... .......... .......... 78%  229M 0s\n",
      " 67350K .......... .......... .......... .......... .......... 78%  318M 0s\n",
      " 67400K .......... .......... .......... .......... .......... 78%  344M 0s\n",
      " 67450K .......... .......... .......... .......... .......... 78%  290M 0s\n",
      " 67500K .......... .......... .......... .......... .......... 78%  338M 0s\n",
      " 67550K .......... .......... .......... .......... .......... 78%  347M 0s\n",
      " 67600K .......... .......... .......... .......... .......... 78%  327M 0s\n",
      " 67650K .......... .......... .......... .......... .......... 78%  313M 0s\n",
      " 67700K .......... .......... .......... .......... .......... 78%  342M 0s\n",
      " 67750K .......... .......... .......... .......... .......... 78%  349M 0s\n",
      " 67800K .......... .......... .......... .......... .......... 78%  345M 0s\n",
      " 67850K .......... .......... .......... .......... .......... 78%  281M 0s\n",
      " 67900K .......... .......... .......... .......... .......... 78%  341M 0s\n",
      " 67950K .......... .......... .......... .......... .......... 79%  348M 0s\n",
      " 68000K .......... .......... .......... .......... .......... 79%  330M 0s\n",
      " 68050K .......... .......... .......... .......... .......... 79%  284M 0s\n",
      " 68100K .......... .......... .......... .......... .......... 79%  331M 0s\n",
      " 68150K .......... .......... .......... .......... .......... 79%  124M 0s\n",
      " 68200K .......... .......... .......... .......... .......... 79%  186M 0s\n",
      " 68250K .......... .......... .......... .......... .......... 79%  170M 0s\n",
      " 68300K .......... .......... .......... .......... .......... 79%  348M 0s\n",
      " 68350K .......... .......... .......... .......... .......... 79%  340M 0s\n",
      " 68400K .......... .......... .......... .......... .......... 79%  346M 0s\n",
      " 68450K .......... .......... .......... .......... .......... 79%  314M 0s\n",
      " 68500K .......... .......... .......... .......... .......... 79%  340M 0s\n",
      " 68550K .......... .......... .......... .......... .......... 79%  337M 0s\n",
      " 68600K .......... .......... .......... .......... .......... 79%  369M 0s\n",
      " 68650K .......... .......... .......... .......... .......... 79% 25.3M 0s\n",
      " 68700K .......... .......... .......... .......... .......... 79% 66.1M 0s\n",
      " 68750K .......... .......... .......... .......... .......... 79%  206M 0s\n",
      " 68800K .......... .......... .......... .......... .......... 80% 17.8M 0s\n",
      " 68850K .......... .......... .......... .......... .......... 80%  174M 0s\n",
      " 68900K .......... .......... .......... .......... .......... 80%  342M 0s\n",
      " 68950K .......... .......... .......... .......... .......... 80%  331M 0s\n",
      " 69000K .......... .......... .......... .......... .......... 80%  259M 0s\n",
      " 69050K .......... .......... .......... .......... .......... 80%  281M 0s\n",
      " 69100K .......... .......... .......... .......... .......... 80%  314M 0s\n",
      " 69150K .......... .......... .......... .......... .......... 80%  335M 0s\n",
      " 69200K .......... .......... .......... .......... .......... 80%  324M 0s\n",
      " 69250K .......... .......... .......... .......... .......... 80%  316M 0s\n",
      " 69300K .......... .......... .......... .......... .......... 80%  343M 0s\n",
      " 69350K .......... .......... .......... .......... .......... 80%  339M 0s\n",
      " 69400K .......... .......... .......... .......... .......... 80%  344M 0s\n",
      " 69450K .......... .......... .......... .......... .......... 80%  274M 0s\n",
      " 69500K .......... .......... .......... .......... .......... 80%  347M 0s\n",
      " 69550K .......... .......... .......... .......... .......... 80%  347M 0s\n",
      " 69600K .......... .......... .......... .......... .......... 80%  347M 0s\n",
      " 69650K .......... .......... .......... .......... .......... 81%  313M 0s\n",
      " 69700K .......... .......... .......... .......... .......... 81%  176M 0s\n",
      " 69750K .......... .......... .......... .......... .......... 81%  343M 0s\n",
      " 69800K .......... .......... .......... .......... .......... 81%  194M 0s\n",
      " 69850K .......... .......... .......... .......... .......... 81%  276M 0s\n",
      " 69900K .......... .......... .......... .......... .......... 81%  224M 0s\n",
      " 69950K .......... .......... .......... .......... .......... 81%  349M 0s\n",
      " 70000K .......... .......... .......... .......... .......... 81%  346M 0s\n",
      " 70050K .......... .......... .......... .......... .......... 81%  150M 0s\n",
      " 70100K .......... .......... .......... .......... .......... 81%  117M 0s\n",
      " 70150K .......... .......... .......... .......... .......... 81%  249M 0s\n",
      " 70200K .......... .......... .......... .......... .......... 81%  328M 0s\n",
      " 70250K .......... .......... .......... .......... .......... 81%  214M 0s\n",
      " 70300K .......... .......... .......... .......... .......... 81%  113M 0s\n",
      " 70350K .......... .......... .......... .......... .......... 81%  229M 0s\n",
      " 70400K .......... .......... .......... .......... .......... 81%  336M 0s\n",
      " 70450K .......... .......... .......... .......... .......... 81%  308M 0s\n",
      " 70500K .......... .......... .......... .......... .......... 82%  294M 0s\n",
      " 70550K .......... .......... .......... .......... .......... 82%  248M 0s\n",
      " 70600K .......... .......... .......... .......... .......... 82%  272M 0s\n",
      " 70650K .......... .......... .......... .......... .......... 82%  213M 0s\n",
      " 70700K .......... .......... .......... .......... .......... 82%  239M 0s\n",
      " 70750K .......... .......... .......... .......... .......... 82%  259M 0s\n",
      " 70800K .......... .......... .......... .......... .......... 82%  235M 0s\n",
      " 70850K .......... .......... .......... .......... .......... 82%  223M 0s\n",
      " 70900K .......... .......... .......... .......... .......... 82%  304M 0s\n",
      " 70950K .......... .......... .......... .......... .......... 82%  348M 0s\n",
      " 71000K .......... .......... .......... .......... .......... 82%  343M 0s\n",
      " 71050K .......... .......... .......... .......... .......... 82%  243M 0s\n",
      " 71100K .......... .......... .......... .......... .......... 82%  228M 0s\n",
      " 71150K .......... .......... .......... .......... .......... 82%  264M 0s\n",
      " 71200K .......... .......... .......... .......... .......... 82%  199M 0s\n",
      " 71250K .......... .......... .......... .......... .......... 82%  219M 0s\n",
      " 71300K .......... .......... .......... .......... .......... 82%  237M 0s\n",
      " 71350K .......... .......... .......... .......... .......... 83%  225M 0s\n",
      " 71400K .......... .......... .......... .......... .......... 83%  342M 0s\n",
      " 71450K .......... .......... .......... .......... .......... 83%  265M 0s\n",
      " 71500K .......... .......... .......... .......... .......... 83%  353M 0s\n",
      " 71550K .......... .......... .......... .......... .......... 83%  349M 0s\n",
      " 71600K .......... .......... .......... .......... .......... 83%  342M 0s\n",
      " 71650K .......... .......... .......... .......... .......... 83%  286M 0s\n",
      " 71700K .......... .......... .......... .......... .......... 83%  344M 0s\n",
      " 71750K .......... .......... .......... .......... .......... 83%  340M 0s\n",
      " 71800K .......... .......... .......... .......... .......... 83%  341M 0s\n",
      " 71850K .......... .......... .......... .......... .......... 83%  267M 0s\n",
      " 71900K .......... .......... .......... .......... .......... 83%  324M 0s\n",
      " 71950K .......... .......... .......... .......... .......... 83%  251M 0s\n",
      " 72000K .......... .......... .......... .......... .......... 83%  268M 0s\n",
      " 72050K .......... .......... .......... .......... .......... 83%  281M 0s\n",
      " 72100K .......... .......... .......... .......... .......... 83%  257M 0s\n",
      " 72150K .......... .......... .......... .......... .......... 83%  317M 0s\n",
      " 72200K .......... .......... .......... .......... .......... 83%  238M 0s\n",
      " 72250K .......... .......... .......... .......... .......... 84%  230M 0s\n",
      " 72300K .......... .......... .......... .......... .......... 84%  259M 0s\n",
      " 72350K .......... .......... .......... .......... .......... 84%  355M 0s\n",
      " 72400K .......... .......... .......... .......... .......... 84%  165M 0s\n",
      " 72450K .......... .......... .......... .......... .......... 84%  295M 0s\n",
      " 72500K .......... .......... .......... .......... .......... 84%  290M 0s\n",
      " 72550K .......... .......... .......... .......... .......... 84%  164M 0s\n",
      " 72600K .......... .......... .......... .......... .......... 84%  165M 0s\n",
      " 72650K .......... .......... .......... .......... .......... 84%  257M 0s\n",
      " 72700K .......... .......... .......... .......... .......... 84%  145M 0s\n",
      " 72750K .......... .......... .......... .......... .......... 84%  144M 0s\n",
      " 72800K .......... .......... .......... .......... .......... 84%  166M 0s\n",
      " 72850K .......... .......... .......... .......... .......... 84%  131M 0s\n",
      " 72900K .......... .......... .......... .......... .......... 84%  277M 0s\n",
      " 72950K .......... .......... .......... .......... .......... 84%  329M 0s\n",
      " 73000K .......... .......... .......... .......... .......... 84%  342M 0s\n",
      " 73050K .......... .......... .......... .......... .......... 84%  289M 0s\n",
      " 73100K .......... .......... .......... .......... .......... 85%  256M 0s\n",
      " 73150K .......... .......... .......... .......... .......... 85%  304M 0s\n",
      " 73200K .......... .......... .......... .......... .......... 85%  336M 0s\n",
      " 73250K .......... .......... .......... .......... .......... 85%  326M 0s\n",
      " 73300K .......... .......... .......... .......... .......... 85%  312M 0s\n",
      " 73350K ....."
     ]
    },
    {
     "name": "stderr",
     "output_type": "stream",
     "text": [
      "..... .......... .......... .......... .......... 85% 19.5K 1s\n",
      " 73400K .......... .......... .......... .......... .......... 85%  208M 1s\n",
      " 73450K .......... .......... .......... .......... .......... 85%  161M 1s\n",
      " 73500K .......... .......... .......... .......... .......... 85%  255M 1s\n",
      " 73550K .......... .......... .......... .......... .......... 85%  322M 1s\n",
      " 73600K .......... .......... .......... .......... .......... 85%  227M 1s\n",
      " 73650K .......... .......... .......... .......... .......... 85%  238M 1s\n",
      " 73700K .......... .......... .......... .......... .......... 85%  307M 1s\n",
      " 73750K .......... .......... .......... .......... .......... 85%  268M 1s\n",
      " 73800K .......... .......... .......... .......... .......... 85%  230M 1s\n",
      " 73850K .......... .......... .......... .......... .......... 85%  253M 1s\n",
      " 73900K .......... .......... .......... .......... .......... 85%  326M 1s\n",
      " 73950K .......... .......... .......... .......... .......... 86%  285M 1s\n",
      " 74000K .......... .......... .......... .......... .......... 86%  304M 1s\n",
      " 74050K .......... .......... .......... .......... .......... 86%  310M 1s\n",
      " 74100K .......... .......... .......... .......... .......... 86%  346M 1s\n",
      " 74150K .......... .......... .......... .......... .......... 86%  346M 1s\n",
      " 74200K .......... .......... .......... .......... .......... 86%  321M 1s\n",
      " 74250K .......... .......... .......... .......... .......... 86%  290M 1s\n",
      " 74300K .......... .......... .......... .......... .......... 86%  345M 1s\n",
      " 74350K .......... .......... .......... .......... .......... 86%  350M 1s\n",
      " 74400K .......... .......... .......... .......... .......... 86%  323M 1s\n",
      " 74450K .......... .......... .......... .......... .......... 86%  316M 1s\n",
      " 74500K .......... .......... .......... .......... .......... 86%  239M 1s\n",
      " 74550K .......... .......... .......... .......... .......... 86%  288M 1s\n",
      " 74600K .......... .......... .......... .......... .......... 86%  281M 1s\n",
      " 74650K .......... .......... .......... .......... .......... 86%  202M 1s\n",
      " 74700K .......... .......... .......... .......... .......... 86%  253M 1s\n",
      " 74750K .......... .......... .......... .......... .......... 86%  236M 1s\n",
      " 74800K .......... .......... .......... .......... .......... 87%  227M 1s\n",
      " 74850K .......... .......... .......... .......... .......... 87%  304M 1s\n",
      " 74900K .......... .......... .......... .......... .......... 87%  322M 1s\n",
      " 74950K .......... .......... .......... .......... .......... 87%  305M 1s\n",
      " 75000K .......... .......... .......... .......... .......... 87%  341M 1s\n",
      " 75050K .......... .......... .......... .......... .......... 87%  268M 1s\n",
      " 75100K .......... .......... .......... .......... .......... 87%  265M 1s\n",
      " 75150K .......... .......... .......... .......... .......... 87%  331M 0s\n",
      " 75200K .......... .......... .......... .......... .......... 87%  319M 0s\n",
      " 75250K .......... .......... .......... .......... .......... 87% 30.2M 0s\n",
      " 75300K .......... .......... .......... .......... .......... 87% 32.1M 0s\n",
      " 75350K .......... .......... .......... .......... .......... 87% 78.6M 0s\n",
      " 75400K .......... .......... .......... .......... .......... 87%  103M 0s\n",
      " 75450K .......... .......... .......... .......... .......... 87%  100M 0s\n",
      " 75500K .......... .......... .......... .......... .......... 87%  191M 0s\n",
      " 75550K .......... .......... .......... .......... .......... 87%  146M 0s\n",
      " 75600K .......... .......... .......... .......... .......... 87%  313M 0s\n",
      " 75650K .......... .......... .......... .......... .......... 88%  248M 0s\n",
      " 75700K .......... .......... .......... .......... .......... 88% 93.3M 0s\n",
      " 75750K .......... .......... .......... .......... .......... 88%  225M 0s\n",
      " 75800K .......... .......... .......... .......... .......... 88%  340M 0s\n",
      " 75850K .......... .......... .......... .......... .......... 88%  204M 0s\n",
      " 75900K .......... .......... .......... .......... .......... 88%  147M 0s\n",
      " 75950K .......... .......... .......... .......... .......... 88%  335M 0s\n",
      " 76000K .......... .......... .......... .......... .......... 88%  334M 0s\n",
      " 76050K .......... .......... .......... .......... .......... 88%  316M 0s\n",
      " 76100K .......... .......... .......... .......... .......... 88%  354M 0s\n",
      " 76150K .......... .......... .......... .......... .......... 88%  346M 0s\n",
      " 76200K .......... .......... .......... .......... .......... 88%  349M 0s\n",
      " 76250K .......... .......... .......... .......... .......... 88%  275M 0s\n",
      " 76300K .......... .......... .......... .......... .......... 88%  249M 0s\n",
      " 76350K .......... .......... .......... .......... .......... 88%  334M 0s\n",
      " 76400K .......... .......... .......... .......... .......... 88%  348M 0s\n",
      " 76450K .......... .......... .......... .......... .......... 88%  311M 0s\n",
      " 76500K .......... .......... .......... .......... .......... 88%  297M 0s\n",
      " 76550K .......... .......... .......... .......... .......... 89%  322M 0s\n",
      " 76600K .......... .......... .......... .......... .......... 89%  309M 0s\n",
      " 76650K .......... .......... .......... .......... .......... 89%  284M 0s\n",
      " 76700K .......... .......... .......... .......... .......... 89%  343M 0s\n",
      " 76750K .......... .......... .......... .......... .......... 89%  215M 0s\n",
      " 76800K .......... .......... .......... .......... .......... 89%  337M 0s\n",
      " 76850K .......... .......... .......... .......... .......... 89%  300M 0s\n",
      " 76900K .......... .......... .......... .......... .......... 89%  332M 0s\n",
      " 76950K .......... .......... .......... .......... .......... 89%  195M 0s\n",
      " 77000K .......... .......... .......... .......... .......... 89%  259M 0s\n",
      " 77050K .......... .......... .......... .......... .......... 89%  251M 0s\n",
      " 77100K .......... .......... .......... .......... .......... 89%  333M 0s\n",
      " 77150K .......... .......... .......... .......... .......... 89%  346M 0s\n",
      " 77200K .......... .......... .......... .......... .......... 89% 84.2M 0s\n",
      " 77250K .......... .......... .......... .......... .......... 89% 46.6M 0s\n",
      " 77300K .......... .......... .......... .......... .......... 89%  341M 0s\n",
      " 77350K .......... .......... .......... .......... .......... 89%  349M 0s\n",
      " 77400K .......... .......... .......... .......... .......... 90%  365M 0s\n",
      " 77450K .......... .......... .......... .......... .......... 90%  309M 0s\n",
      " 77500K .......... .......... .......... .......... .......... 90%  368M 0s\n",
      " 77550K .......... .......... .......... .......... .......... 90% 58.9M 0s\n",
      " 77600K .......... .......... .......... .......... .......... 90%  328M 0s\n",
      " 77650K .......... .......... .......... .......... .......... 90%  327M 0s\n",
      " 77700K .......... .......... .......... .......... .......... 90%  361M 0s\n",
      " 77750K .......... .......... .......... .......... .......... 90% 75.4M 0s\n",
      " 77800K .......... .......... .......... .......... .......... 90%  340M 0s\n",
      " 77850K .......... .......... .......... .......... .......... 90%  278M 0s\n",
      " 77900K .......... .......... .......... .......... .......... 90%  347M 0s\n",
      " 77950K .......... .......... .......... .......... .......... 90%  352M 0s\n",
      " 78000K .......... .......... .......... .......... .......... 90%  352M 0s\n",
      " 78050K .......... .......... .......... .......... .......... 90%  320M 0s\n",
      " 78100K .......... .......... .......... .......... .......... 90%  341M 0s\n",
      " 78150K .......... .......... .......... .......... .......... 90%  349M 0s\n",
      " 78200K .......... .......... .......... .......... .......... 90%  351M 0s\n",
      " 78250K .......... .......... .......... .......... .......... 91%  297M 0s\n",
      " 78300K .......... .......... .......... .......... .......... 91%  358M 0s\n",
      " 78350K .......... .......... .......... .......... .......... 91%  334M 0s\n",
      " 78400K .......... .......... .......... .......... .......... 91%  364M 0s\n",
      " 78450K .......... .......... .......... .......... .......... 91%  319M 0s\n",
      " 78500K .......... .......... .......... .......... .......... 91%  275M 0s\n",
      " 78550K .......... .......... .......... .......... .......... 91%  276M 0s\n",
      " 78600K .......... .......... .......... .......... .......... 91% 88.8M 0s\n",
      " 78650K .......... .......... .......... .......... .......... 91%  273M 0s\n",
      " 78700K .......... .......... .......... .......... .......... 91%  106M 0s\n",
      " 78750K .......... .......... .......... .......... .......... 91%  223M 0s\n",
      " 78800K .......... .......... .......... .......... .......... 91%  176M 0s\n",
      " 78850K .......... .......... .......... .......... .......... 91%  321M 0s\n",
      " 78900K .......... .......... .......... .......... .......... 91%  264M 0s\n",
      " 78950K .......... .......... .......... .......... .......... 91%  294M 0s\n",
      " 79000K .......... .......... .......... .......... .......... 91%  230M 0s\n",
      " 79050K .......... .......... .......... .......... .......... 91%  311M 0s\n",
      " 79100K .......... .......... .......... .......... .......... 92%  384M 0s\n",
      " 79150K .......... .......... .......... .......... .......... 92% 14.7M 0s\n",
      " 79200K .......... .......... .......... .......... .......... 92%  109M 0s\n",
      " 79250K .......... .......... .......... .......... .......... 92%  315M 0s\n",
      " 79300K .......... .......... .......... .......... .......... 92%  342M 0s\n",
      " 79350K .......... .......... .......... .......... .......... 92%  343M 0s\n",
      " 79400K .......... .......... .......... .......... .......... 92%  340M 0s\n",
      " 79450K .......... .......... .......... .......... .......... 92%  292M 0s\n",
      " 79500K .......... .......... .......... .......... .......... 92%  357M 0s\n",
      " 79550K .......... .......... .......... .......... .......... 92%  363M 0s\n",
      " 79600K .......... .......... .......... .......... .......... 92% 19.4M 0s\n",
      " 79650K .......... .......... .......... .......... .......... 92% 34.2M 0s\n",
      " 79700K .......... .......... .......... .......... .......... 92% 75.8M 0s\n",
      " 79750K .......... .......... .......... .......... .......... 92%  178M 0s\n",
      " 79800K .......... .......... .......... .......... .......... 92% 63.2M 0s\n",
      " 79850K .......... .......... .......... .......... .......... 92%  185M 0s\n",
      " 79900K .......... .......... .......... .......... .......... 92% 62.7M 0s\n",
      " 79950K .......... .......... .......... .......... .......... 93%  328M 0s\n",
      " 80000K .......... .......... .......... .......... .......... 93%  341M 0s\n",
      " 80050K .......... .......... .......... .......... .......... 93%  313M 0s\n",
      " 80100K .......... .......... .......... .......... .......... 93%  118M 0s\n",
      " 80150K .......... .......... .......... .......... .......... 93%  321M 0s\n",
      " 80200K .......... .......... .......... .......... .......... 93%  338M 0s\n",
      " 80250K .......... .......... .......... .......... .......... 93% 84.1M 0s\n",
      " 80300K .......... .......... .......... .......... .......... 93%  282M 0s\n",
      " 80350K .......... .......... .......... .......... .......... 93%  312M 0s\n",
      " 80400K .......... .......... .......... .......... .......... 93%  327M 0s\n",
      " 80450K .......... .......... .......... .......... .......... 93%  310M 0s\n",
      " 80500K .......... .......... .......... .......... .......... 93%  351M 0s\n",
      " 80550K .......... .......... .......... .......... .......... 93%  275M 0s\n",
      " 80600K .......... .......... .......... .......... .......... 93%  342M 0s\n",
      " 80650K .......... .......... .......... .......... .......... 93%  277M 0s\n",
      " 80700K .......... .......... .......... .......... .......... 93%  349M 0s\n",
      " 80750K .......... .......... .......... .......... .......... 93%  345M 0s\n",
      " 80800K .......... .......... .......... .......... .......... 93%  245M 0s\n",
      " 80850K .......... .......... .......... .......... .......... 94%  213M 0s\n",
      " 80900K .......... .......... .......... .......... .......... 94%  321M 0s\n",
      " 80950K .......... .......... .......... .......... .......... 94%  346M 0s\n",
      " 81000K .......... .......... .......... .......... .......... 94%  352M 0s\n",
      " 81050K .......... .......... .......... .......... .......... 94%  284M 0s\n",
      " 81100K .......... .......... .......... .......... .......... 94%  349M 0s\n",
      " 81150K .......... .......... .......... .......... .......... 94%  317M 0s\n",
      " 81200K .......... .......... .......... .......... .......... 94%  347M 0s\n",
      " 81250K .......... .......... .......... .......... .......... 94%  313M 0s\n",
      " 81300K .......... .......... .......... .......... .......... 94%  337M 0s\n",
      " 81350K .......... .......... .......... .......... .......... 94% 41.3M 0s\n",
      " 81400K .......... .......... .......... .......... .......... 94% 65.4M 0s\n",
      " 81450K .......... .......... .......... .......... .......... 94% 96.3M 0s\n",
      " 81500K .......... .......... .......... .......... .......... 94%  235M 0s\n",
      " 81550K .......... .......... .......... .......... .......... 94%  354M 0s\n",
      " 81600K .......... .......... .......... .......... .......... 94%  363M 0s\n",
      " 81650K .......... .......... .......... .......... .......... 94%  320M 0s\n",
      " 81700K .......... .......... .......... .......... .......... 95%  352M 0s\n",
      " 81750K .......... .......... .......... .......... .......... 95%  340M 0s\n",
      " 81800K .......... .......... .......... .......... .......... 95%  355M 0s\n",
      " 81850K .......... .......... .......... .......... .......... 95%  297M 0s\n",
      " 81900K .......... .......... .......... .......... .......... 95%  348M 0s\n",
      " 81950K .......... .......... .......... .......... .......... 95%  367M 0s\n",
      " 82000K .......... .......... .......... .......... .......... 95%  337M 0s\n",
      " 82050K .......... .......... .......... .......... .......... 95%  324M 0s\n",
      " 82100K .......... .......... .......... .......... .......... 95%  351M 0s\n",
      " 82150K .......... .......... .......... .......... .......... 95%  353M 0s\n",
      " 82200K .......... .......... .......... .......... .......... 95%  101M 0s\n",
      " 82250K .......... .......... .......... .......... .......... 95%  236M 0s\n",
      " 82300K .......... .......... .......... .......... .......... 95%  259M 0s\n",
      " 82350K .......... .......... .......... .......... .......... 95%  126M 0s\n",
      " 82400K .......... .......... .......... .......... .......... 95%  327M 0s\n",
      " 82450K .......... .......... .......... .......... .......... 95%  318M 0s\n",
      " 82500K .......... .......... .......... .......... .......... 95%  317M 0s\n",
      " 82550K .......... .......... .......... .......... .......... 96%  360M 0s\n",
      " 82600K .......... .......... .......... .......... .......... 96%  365M 0s\n",
      " 82650K .......... .......... .......... .......... .......... 96%  238M 0s\n",
      " 82700K .......... .......... .......... .......... .......... 96%  358M 0s\n",
      " 82750K .......... .......... .......... .......... .......... 96%  350M 0s\n",
      " 82800K .......... .......... .......... .......... .......... 96%  362M 0s\n",
      " 82850K .......... .......... .......... .......... .......... 96%  184M 0s\n",
      " 82900K .......... .......... .......... .......... .......... 96%  239M 0s\n",
      " 82950K .......... .......... .......... .......... .......... 96%  345M 0s\n",
      " 83000K .......... .......... .......... .......... .......... 96%  330M 0s\n",
      " 83050K .......... .......... .......... .......... .......... 96%  299M 0s\n",
      " 83100K .......... .......... .......... .......... .......... 96%  352M 0s\n",
      " 83150K .......... .......... .......... .......... .......... 96%  352M 0s\n",
      " 83200K .......... .......... .......... .......... .......... 96%  339M 0s\n",
      " 83250K .......... .......... .......... .......... .......... 96%  224M 0s\n",
      " 83300K .......... .......... .......... .......... .......... 96%  302M 0s\n",
      " 83350K .......... .......... .......... .......... .......... 96%  327M 0s\n",
      " 83400K .......... .......... .......... .......... .......... 97%  229M 0s\n",
      " 83450K .......... .......... .......... .......... .......... 97%  138M 0s\n",
      " 83500K .......... .......... .......... .......... .......... 97%  366M 0s\n",
      " 83550K .......... .......... .......... .......... .......... 97%  385M 0s\n",
      " 83600K .......... .......... .......... .......... .......... 97%  369M 0s\n",
      " 83650K .......... .......... .......... .......... .......... 97% 26.1M 0s\n",
      " 83700K .......... .......... .......... .......... .......... 97% 45.0M 0s\n",
      " 83750K .......... .......... .......... .......... .......... 97%  141M 0s\n",
      " 83800K .......... .......... .......... .......... .......... 97%  148M 0s\n",
      " 83850K .......... .......... .......... .......... .......... 97%  252M 0s\n",
      " 83900K .......... .......... .......... .......... .......... 97% 89.6M 0s\n",
      " 83950K .......... .......... .......... .......... .......... 97%  324M 0s\n",
      " 84000K .......... .......... .......... .......... .......... 97%  308M 0s\n",
      " 84050K .......... .......... .......... .......... .......... 97%  244M 0s\n",
      " 84100K .......... .......... .......... .......... .......... 97%  345M 0s\n",
      " 84150K .......... .......... .......... .......... .......... 97%  340M 0s\n",
      " 84200K .......... .......... .......... .......... .......... 97%  326M 0s\n",
      " 84250K .......... .......... .......... .......... .......... 97%  252M 0s\n",
      " 84300K .......... .......... .......... .......... .......... 98%  345M 0s\n",
      " 84350K .......... .......... .......... .......... .......... 98%  349M 0s\n",
      " 84400K .......... .......... .......... .......... .......... 98%  316M 0s\n",
      " 84450K .......... .......... .......... .......... .......... 98%  304M 0s\n",
      " 84500K .......... .......... .......... .......... .......... 98%  331M 0s\n",
      " 84550K .......... .......... .......... .......... .......... 98%  288M 0s\n",
      " 84600K .......... .......... .......... .......... .......... 98%  350M 0s\n",
      " 84650K .......... .......... .......... .......... .......... 98%  231M 0s\n",
      " 84700K .......... .......... .......... .......... .......... 98%  315M 0s\n",
      " 84750K .......... .......... .......... .......... .......... 98%  316M 0s\n",
      " 84800K .......... .......... .......... .......... .......... 98%  342M 0s\n",
      " 84850K .......... .......... .......... .......... .......... 98% 88.5M 0s\n",
      " 84900K .......... .......... .......... .......... .......... 98%  203M 0s\n",
      " 84950K .......... .......... .......... .......... .......... 98%  115M 0s\n",
      " 85000K .......... .......... .......... .......... .......... 98%  190M 0s\n",
      " 85050K .......... .......... .......... .......... .......... 98%  182M 0s\n",
      " 85100K .......... .......... .......... .......... .......... 98%  233M 0s\n",
      " 85150K .......... .......... .......... .......... .......... 99%  257M 0s\n",
      " 85200K .......... .......... .......... .......... .......... 99%  231M 0s\n",
      " 85250K .......... .......... .......... .......... .......... 99% 95.4M 0s\n",
      " 85300K .......... .......... .......... .......... .......... 99%  255M 0s\n",
      " 85350K .......... .......... .......... .......... .......... 99%  165M 0s\n",
      " 85400K .......... .......... .......... .......... .......... 99%  217M 0s\n",
      " 85450K .......... .......... .......... .......... .......... 99%  266M 0s\n",
      " 85500K .......... .......... .......... .......... .......... 99%  285M 0s\n",
      " 85550K .......... .......... .......... .......... .......... 99%  326M 0s\n",
      " 85600K .......... .......... .......... .......... .......... 99%  293M 0s\n",
      " 85650K .......... .......... .......... .......... .......... 99%  319M 0s\n",
      " 85700K .......... .......... .......... .......... .......... 99%  175M 0s\n",
      " 85750K .......... .......... .......... .......... .......... 99%  274M 0s\n",
      " 85800K .......... .......... .......... .......... .......... 99%  311M 0s\n",
      " 85850K .......... .......... .......... .......... .......... 99%  290M 0s\n",
      " 85900K .......... .......... .......... .......... .......... 99% 52.8M 0s\n",
      " 85950K .......... .......... .......... .......... .......... 99% 65.4M 0s\n",
      " 86000K .......... .......... .                               100%  150M=3.5s\n",
      "\n",
      "2022-10-25 05:03:45 (23.8 MB/s) - ‘./input/ml-example-data.zip’ saved [88085785/88085785]\n",
      "\n"
     ]
    },
    {
     "data": {
      "text/plain": [
       "0"
      ]
     },
     "execution_count": 6,
     "metadata": {},
     "output_type": "execute_result"
    }
   ],
   "source": [
    "wget_str = f\"wget {DOWNLOAD_URL} -O {os.path.join(INPUT_FOLDER, DATAFILE)}\"\n",
    "subprocess.call(wget_str.split(\" \"))"
   ]
  },
  {
   "cell_type": "code",
   "execution_count": 7,
   "id": "f2cb779b",
   "metadata": {
    "execution": {
     "iopub.execute_input": "2022-10-25T10:03:45.119219Z",
     "iopub.status.busy": "2022-10-25T10:03:45.118634Z",
     "iopub.status.idle": "2022-10-25T10:03:47.606745Z",
     "shell.execute_reply": "2022-10-25T10:03:47.605871Z"
    },
    "papermill": {
     "duration": 2.520152,
     "end_time": "2022-10-25T10:03:47.608863",
     "exception": false,
     "start_time": "2022-10-25T10:03:45.088711",
     "status": "completed"
    },
    "tags": []
   },
   "outputs": [],
   "source": [
    "# unzip files\n",
    "with zipfile.ZipFile(os.path.join(INPUT_FOLDER, DATAFILE), \"r\") as zip_ref:\n",
    "    zip_ref.extractall(INPUT_FOLDER)"
   ]
  },
  {
   "cell_type": "code",
   "execution_count": 8,
   "id": "28ac7a66",
   "metadata": {
    "execution": {
     "iopub.execute_input": "2022-10-25T10:03:47.702822Z",
     "iopub.status.busy": "2022-10-25T10:03:47.702121Z",
     "iopub.status.idle": "2022-10-25T10:03:48.518102Z",
     "shell.execute_reply": "2022-10-25T10:03:48.517092Z"
    },
    "papermill": {
     "duration": 0.882441,
     "end_time": "2022-10-25T10:03:48.521544",
     "exception": false,
     "start_time": "2022-10-25T10:03:47.639103",
     "status": "completed"
    },
    "tags": []
   },
   "outputs": [
    {
     "name": "stdout",
     "output_type": "stream",
     "text": [
      "input_geometries.gpkg  ml-example-data.zip  ml-example-signals\r\n"
     ]
    }
   ],
   "source": [
    "!ls {INPUT_FOLDER}"
   ]
  },
  {
   "cell_type": "markdown",
   "id": "85cfdb78",
   "metadata": {
    "papermill": {
     "duration": 0.029741,
     "end_time": "2022-10-25T10:03:48.598873",
     "exception": false,
     "start_time": "2022-10-25T10:03:48.569132",
     "status": "completed"
    },
    "tags": []
   },
   "source": [
    "Read signals from JSON files as returned by Statistical API and create a dataframe."
   ]
  },
  {
   "cell_type": "code",
   "execution_count": 9,
   "id": "666a76b4-d7de-4f41-a373-cf1627e6a77a",
   "metadata": {
    "execution": {
     "iopub.execute_input": "2022-10-25T10:03:48.666503Z",
     "iopub.status.busy": "2022-10-25T10:03:48.665441Z",
     "iopub.status.idle": "2022-10-25T10:04:40.551119Z",
     "shell.execute_reply": "2022-10-25T10:04:40.550472Z"
    },
    "papermill": {
     "duration": 51.920723,
     "end_time": "2022-10-25T10:04:40.553097",
     "exception": false,
     "start_time": "2022-10-25T10:03:48.632374",
     "status": "completed"
    },
    "tags": []
   },
   "outputs": [],
   "source": [
    "dfs = []\n",
    "for result_json in os.listdir(os.path.join(INPUT_FOLDER, \"ml-example-signals\")):\n",
    "    with open(os.path.join(INPUT_FOLDER, \"ml-example-signals\", result_json)) as f:\n",
    "        result = json.load(f)\n",
    "\n",
    "    result_df = stats_to_df(result[\"response\"])\n",
    "    result_df[\"identifier\"] = int(result[\"identifier\"])\n",
    "    dfs.append(result_df)\n",
    "\n",
    "signals = pd.concat(dfs)"
   ]
  },
  {
   "cell_type": "markdown",
   "id": "9da514cc",
   "metadata": {
    "papermill": {
     "duration": 0.02622,
     "end_time": "2022-10-25T10:04:40.674071",
     "exception": false,
     "start_time": "2022-10-25T10:04:40.647851",
     "status": "completed"
    },
    "tags": []
   },
   "source": [
    "Check size of dataset and one time observation."
   ]
  },
  {
   "cell_type": "code",
   "execution_count": 10,
   "id": "0e4c9d9b",
   "metadata": {
    "execution": {
     "iopub.execute_input": "2022-10-25T10:04:40.729803Z",
     "iopub.status.busy": "2022-10-25T10:04:40.729006Z",
     "iopub.status.idle": "2022-10-25T10:04:40.736858Z",
     "shell.execute_reply": "2022-10-25T10:04:40.736178Z"
    },
    "papermill": {
     "duration": 0.03828,
     "end_time": "2022-10-25T10:04:40.738565",
     "exception": false,
     "start_time": "2022-10-25T10:04:40.700285",
     "status": "completed"
    },
    "tags": []
   },
   "outputs": [
    {
     "data": {
      "text/plain": [
       "157500"
      ]
     },
     "execution_count": 10,
     "metadata": {},
     "output_type": "execute_result"
    }
   ],
   "source": [
    "len(signals)"
   ]
  },
  {
   "cell_type": "code",
   "execution_count": 11,
   "id": "aa1fe9cf",
   "metadata": {
    "execution": {
     "iopub.execute_input": "2022-10-25T10:04:40.796537Z",
     "iopub.status.busy": "2022-10-25T10:04:40.796253Z",
     "iopub.status.idle": "2022-10-25T10:04:40.803892Z",
     "shell.execute_reply": "2022-10-25T10:04:40.803001Z"
    },
    "papermill": {
     "duration": 0.040374,
     "end_time": "2022-10-25T10:04:40.805545",
     "exception": false,
     "start_time": "2022-10-25T10:04:40.765171",
     "status": "completed"
    },
    "tags": []
   },
   "outputs": [
    {
     "data": {
      "text/plain": [
       "interval_from            2021-01-05\n",
       "interval_to              2021-01-06\n",
       "clm_B0_min                      1.0\n",
       "clm_B0_max                      1.0\n",
       "clm_B0_mean                     1.0\n",
       "                            ...    \n",
       "bands_B12_mean             0.028348\n",
       "bands_B12_stDev            0.003333\n",
       "bands_B12_sampleCount            96\n",
       "bands_B12_noDataCount            65\n",
       "identifier                   331393\n",
       "Name: 0, Length: 93, dtype: object"
      ]
     },
     "execution_count": 11,
     "metadata": {},
     "output_type": "execute_result"
    }
   ],
   "source": [
    "signals.iloc[0]"
   ]
  },
  {
   "cell_type": "markdown",
   "id": "97033027-af60-48d6-833c-674407b503aa",
   "metadata": {
    "papermill": {
     "duration": 0.026604,
     "end_time": "2022-10-25T10:04:40.860179",
     "exception": false,
     "start_time": "2022-10-25T10:04:40.833575",
     "status": "completed"
    },
    "tags": []
   },
   "source": [
    "Read labels from provided geopackage file. These labels can be directly retrieved from GeoDB."
   ]
  },
  {
   "cell_type": "code",
   "execution_count": 12,
   "id": "553487e1-a87a-4188-9440-44afcce73fdd",
   "metadata": {
    "execution": {
     "iopub.execute_input": "2022-10-25T10:04:40.915243Z",
     "iopub.status.busy": "2022-10-25T10:04:40.914650Z",
     "iopub.status.idle": "2022-10-25T10:04:43.505021Z",
     "shell.execute_reply": "2022-10-25T10:04:43.504364Z"
    },
    "papermill": {
     "duration": 2.619714,
     "end_time": "2022-10-25T10:04:43.507501",
     "exception": false,
     "start_time": "2022-10-25T10:04:40.887787",
     "status": "completed"
    },
    "tags": []
   },
   "outputs": [],
   "source": [
    "eurocrops_gdf = gpd.read_file(os.path.join(INPUT_FOLDER, EUROCROPS_GPKG))"
   ]
  },
  {
   "cell_type": "markdown",
   "id": "d49d47b7",
   "metadata": {
    "papermill": {
     "duration": 0.040269,
     "end_time": "2022-10-25T10:04:43.579699",
     "exception": false,
     "start_time": "2022-10-25T10:04:43.539430",
     "status": "completed"
    },
    "tags": []
   },
   "source": [
    "Merge signals and crop labels into a single dataframe, by looking at the identifier of the field of interest (FOI)."
   ]
  },
  {
   "cell_type": "code",
   "execution_count": 13,
   "id": "6063c9e9",
   "metadata": {
    "execution": {
     "iopub.execute_input": "2022-10-25T10:04:43.667636Z",
     "iopub.status.busy": "2022-10-25T10:04:43.666784Z",
     "iopub.status.idle": "2022-10-25T10:04:44.795750Z",
     "shell.execute_reply": "2022-10-25T10:04:44.794919Z"
    },
    "papermill": {
     "duration": 1.168133,
     "end_time": "2022-10-25T10:04:44.798083",
     "exception": false,
     "start_time": "2022-10-25T10:04:43.629950",
     "status": "completed"
    },
    "tags": []
   },
   "outputs": [],
   "source": [
    "eurocrops_signals = pd.merge(eurocrops_gdf, signals, on=\"identifier\")"
   ]
  },
  {
   "cell_type": "code",
   "execution_count": 14,
   "id": "bb9feeb3",
   "metadata": {
    "execution": {
     "iopub.execute_input": "2022-10-25T10:04:44.851580Z",
     "iopub.status.busy": "2022-10-25T10:04:44.851003Z",
     "iopub.status.idle": "2022-10-25T10:04:44.858437Z",
     "shell.execute_reply": "2022-10-25T10:04:44.857715Z"
    },
    "papermill": {
     "duration": 0.036517,
     "end_time": "2022-10-25T10:04:44.860190",
     "exception": false,
     "start_time": "2022-10-25T10:04:44.823673",
     "status": "completed"
    },
    "tags": []
   },
   "outputs": [
    {
     "data": {
      "text/plain": [
       "identifier                                         296351\n",
       "created_at               2022-07-06T21:34:12.027081+00:00\n",
       "modified_at                                          None\n",
       "_fid                                                  NaN\n",
       "fs_kennung                                            NaN\n",
       "                                       ...               \n",
       "bands_B12_max                                      0.3369\n",
       "bands_B12_mean                                    0.28427\n",
       "bands_B12_stDev                                   0.03697\n",
       "bands_B12_sampleCount                                 112\n",
       "bands_B12_noDataCount                                  72\n",
       "Name: 0, Length: 121, dtype: object"
      ]
     },
     "execution_count": 14,
     "metadata": {},
     "output_type": "execute_result"
    }
   ],
   "source": [
    "eurocrops_signals.iloc[0]"
   ]
  },
  {
   "cell_type": "markdown",
   "id": "ae235877",
   "metadata": {
    "papermill": {
     "duration": 0.026803,
     "end_time": "2022-10-25T10:04:44.913506",
     "exception": false,
     "start_time": "2022-10-25T10:04:44.886703",
     "status": "completed"
    },
    "tags": []
   },
   "source": [
    "## 2. AI-ready dataset <a name=dataset></a>\n",
    "\n",
    "This Section adds some features to be added to the raw bands which will be used by the model."
   ]
  },
  {
   "cell_type": "code",
   "execution_count": 15,
   "id": "159580ae-6aec-4ecf-bb02-0d195b75a35d",
   "metadata": {
    "execution": {
     "iopub.execute_input": "2022-10-25T10:04:44.978598Z",
     "iopub.status.busy": "2022-10-25T10:04:44.978170Z",
     "iopub.status.idle": "2022-10-25T10:04:45.162058Z",
     "shell.execute_reply": "2022-10-25T10:04:45.161124Z"
    },
    "papermill": {
     "duration": 0.215991,
     "end_time": "2022-10-25T10:04:45.164084",
     "exception": false,
     "start_time": "2022-10-25T10:04:44.948093",
     "status": "completed"
    },
    "tags": []
   },
   "outputs": [],
   "source": [
    "# add column for cloud probability\n",
    "eurocrops_signals[\"CLP\"] = eurocrops_signals[\"clp_B0_mean\"] / 255\n",
    "# compute NDVI\n",
    "eurocrops_signals[\"NDVI\"] = (eurocrops_signals[\"bands_B7_mean\"] - eurocrops_signals[\"bands_B3_mean\"]) / (\n",
    "    eurocrops_signals[\"bands_B7_mean\"] + eurocrops_signals[\"bands_B3_mean\"]\n",
    ")\n",
    "# compute day-of-year from timestamp\n",
    "eurocrops_signals[\"DOY\"] = eurocrops_signals.interval_from.apply(lambda x: x.timetuple().tm_yday)"
   ]
  },
  {
   "cell_type": "code",
   "execution_count": 16,
   "id": "c4011f68-c1f3-4538-a69c-195583412d56",
   "metadata": {
    "execution": {
     "iopub.execute_input": "2022-10-25T10:04:45.229273Z",
     "iopub.status.busy": "2022-10-25T10:04:45.228969Z",
     "iopub.status.idle": "2022-10-25T10:04:45.235673Z",
     "shell.execute_reply": "2022-10-25T10:04:45.234718Z"
    },
    "papermill": {
     "duration": 0.042899,
     "end_time": "2022-10-25T10:04:45.237175",
     "exception": false,
     "start_time": "2022-10-25T10:04:45.194276",
     "status": "completed"
    },
    "tags": []
   },
   "outputs": [],
   "source": [
    "# get name of columns to be used as features, i.e. mean values of raw bands\n",
    "feature_cols = [x for x in eurocrops_signals.columns if x.startswith(\"bands_\") and x.endswith(\"_mean\")]\n",
    "# name of utility features\n",
    "doy_feature = \"DOY\"\n",
    "crop_type_feature = \"ec_hcat_c\"\n",
    "crop_name_feature = \"ec_hcat_n\"\n",
    "label_feature = \"label\"\n",
    "identifier_feature = \"identifier\""
   ]
  },
  {
   "cell_type": "markdown",
   "id": "5fc82601",
   "metadata": {
    "papermill": {
     "duration": 0.03883,
     "end_time": "2022-10-25T10:04:45.302134",
     "exception": false,
     "start_time": "2022-10-25T10:04:45.263304",
     "status": "completed"
    },
    "tags": []
   },
   "source": [
    "Map all the possible crop-types to specific groups assigned in Eurocrops."
   ]
  },
  {
   "cell_type": "code",
   "execution_count": 17,
   "id": "27f58085-8c34-4fbc-903e-b0e288ecd1ec",
   "metadata": {
    "execution": {
     "iopub.execute_input": "2022-10-25T10:04:45.365824Z",
     "iopub.status.busy": "2022-10-25T10:04:45.364101Z",
     "iopub.status.idle": "2022-10-25T10:04:45.394631Z",
     "shell.execute_reply": "2022-10-25T10:04:45.393735Z"
    },
    "papermill": {
     "duration": 0.061516,
     "end_time": "2022-10-25T10:04:45.397480",
     "exception": false,
     "start_time": "2022-10-25T10:04:45.335964",
     "status": "completed"
    },
    "tags": []
   },
   "outputs": [],
   "source": [
    "crop_id_to_label_mapping = {val: idx for idx, val in enumerate(eurocrops_signals[crop_type_feature].unique())}"
   ]
  },
  {
   "cell_type": "code",
   "execution_count": 18,
   "id": "a29f0fb5-ae9b-4fb6-96e5-83ee541767c3",
   "metadata": {
    "execution": {
     "iopub.execute_input": "2022-10-25T10:04:45.479220Z",
     "iopub.status.busy": "2022-10-25T10:04:45.478194Z",
     "iopub.status.idle": "2022-10-25T10:04:45.695203Z",
     "shell.execute_reply": "2022-10-25T10:04:45.694179Z"
    },
    "papermill": {
     "duration": 0.247292,
     "end_time": "2022-10-25T10:04:45.697279",
     "exception": false,
     "start_time": "2022-10-25T10:04:45.449987",
     "status": "completed"
    },
    "tags": []
   },
   "outputs": [],
   "source": [
    "crop_id_to_name_mapping = {\n",
    "    crop_id: crop_name\n",
    "    for crop_id, crop_name in eurocrops_signals[[crop_type_feature, crop_name_feature]].drop_duplicates().values\n",
    "}"
   ]
  },
  {
   "cell_type": "code",
   "execution_count": 19,
   "id": "00e62c85-77f7-4398-a6b3-47a7b9065cc3",
   "metadata": {
    "execution": {
     "iopub.execute_input": "2022-10-25T10:04:45.751554Z",
     "iopub.status.busy": "2022-10-25T10:04:45.751235Z",
     "iopub.status.idle": "2022-10-25T10:04:45.783084Z",
     "shell.execute_reply": "2022-10-25T10:04:45.774386Z"
    },
    "papermill": {
     "duration": 0.063967,
     "end_time": "2022-10-25T10:04:45.787075",
     "exception": false,
     "start_time": "2022-10-25T10:04:45.723108",
     "status": "completed"
    },
    "tags": []
   },
   "outputs": [],
   "source": [
    "eurocrops_signals[label_feature] = eurocrops_signals[crop_type_feature].map(crop_id_to_label_mapping)"
   ]
  },
  {
   "cell_type": "markdown",
   "id": "1f6ee569",
   "metadata": {
    "papermill": {
     "duration": 0.026092,
     "end_time": "2022-10-25T10:04:45.839135",
     "exception": false,
     "start_time": "2022-10-25T10:04:45.813043",
     "status": "completed"
    },
    "tags": []
   },
   "source": [
    "Split the signals into a training and validation set. This datasets are demonstrative only, as in reality, a larger dataset would be required, and more robust validation strategies required to robustly estimate the performance of the model."
   ]
  },
  {
   "cell_type": "code",
   "execution_count": 20,
   "id": "856e14fa-8bd9-4f85-8cf8-2a583503df5b",
   "metadata": {
    "execution": {
     "iopub.execute_input": "2022-10-25T10:04:45.902344Z",
     "iopub.status.busy": "2022-10-25T10:04:45.901378Z",
     "iopub.status.idle": "2022-10-25T10:04:45.910796Z",
     "shell.execute_reply": "2022-10-25T10:04:45.909880Z"
    },
    "papermill": {
     "duration": 0.043504,
     "end_time": "2022-10-25T10:04:45.912552",
     "exception": false,
     "start_time": "2022-10-25T10:04:45.869048",
     "status": "completed"
    },
    "tags": []
   },
   "outputs": [],
   "source": [
    "train_ids, val_ids = train_test_split(\n",
    "    eurocrops_signals[identifier_feature].unique(), train_size=0.6, test_size=0.4, random_state=42\n",
    ")"
   ]
  },
  {
   "cell_type": "code",
   "execution_count": 21,
   "id": "ef588253-0165-4ce7-90d7-b8174ad747c7",
   "metadata": {
    "execution": {
     "iopub.execute_input": "2022-10-25T10:04:45.971609Z",
     "iopub.status.busy": "2022-10-25T10:04:45.970605Z",
     "iopub.status.idle": "2022-10-25T10:04:46.129150Z",
     "shell.execute_reply": "2022-10-25T10:04:46.126527Z"
    },
    "papermill": {
     "duration": 0.193929,
     "end_time": "2022-10-25T10:04:46.132366",
     "exception": false,
     "start_time": "2022-10-25T10:04:45.938437",
     "status": "completed"
    },
    "tags": []
   },
   "outputs": [],
   "source": [
    "train_df = eurocrops_signals[eurocrops_signals[identifier_feature].isin(train_ids)]\n",
    "val_df = eurocrops_signals[eurocrops_signals[identifier_feature].isin(val_ids)]"
   ]
  },
  {
   "cell_type": "markdown",
   "id": "85be9692",
   "metadata": {
    "papermill": {
     "duration": 0.027488,
     "end_time": "2022-10-25T10:04:46.189654",
     "exception": false,
     "start_time": "2022-10-25T10:04:46.162166",
     "status": "completed"
    },
    "tags": []
   },
   "source": [
    "Create the training and validation datasets to be used for model training and validation."
   ]
  },
  {
   "cell_type": "code",
   "execution_count": 22,
   "id": "7ee42057-7193-4ceb-9c82-aaef0fe9146e",
   "metadata": {
    "execution": {
     "iopub.execute_input": "2022-10-25T10:04:46.258596Z",
     "iopub.status.busy": "2022-10-25T10:04:46.257981Z",
     "iopub.status.idle": "2022-10-25T10:04:46.440888Z",
     "shell.execute_reply": "2022-10-25T10:04:46.439862Z"
    },
    "papermill": {
     "duration": 0.225947,
     "end_time": "2022-10-25T10:04:46.442907",
     "exception": false,
     "start_time": "2022-10-25T10:04:46.216960",
     "status": "completed"
    },
    "tags": []
   },
   "outputs": [],
   "source": [
    "train_poly_dataset = PolyDataset(\n",
    "    train_df,\n",
    "    feature_cols=feature_cols,\n",
    "    label_col=label_feature,\n",
    "    poly_id_col=identifier_feature,\n",
    "    doys_col=doy_feature,\n",
    "    online_transform=get_sample_n_timestamps(40),\n",
    ")\n",
    "\n",
    "val_poly_dataset = PolyDataset(\n",
    "    val_df,\n",
    "    feature_cols=feature_cols,\n",
    "    label_col=label_feature,\n",
    "    poly_id_col=identifier_feature,\n",
    "    doys_col=doy_feature,\n",
    "    online_transform=get_sample_n_timestamps(40),\n",
    ")"
   ]
  },
  {
   "cell_type": "markdown",
   "id": "e2f77110",
   "metadata": {
    "papermill": {
     "duration": 0.039776,
     "end_time": "2022-10-25T10:04:46.514385",
     "exception": false,
     "start_time": "2022-10-25T10:04:46.474609",
     "status": "completed"
    },
    "tags": []
   },
   "source": [
    "## 3. Model training <a name=model-training></a>\n",
    "\n",
    "In this Section, a LSTM model is trained on the signals for estimation of crop-type. The parameters of the LSTM might need tuning to different use-cases."
   ]
  },
  {
   "cell_type": "code",
   "execution_count": 23,
   "id": "4703803c-8913-4986-b629-bceca97c7f0e",
   "metadata": {
    "execution": {
     "iopub.execute_input": "2022-10-25T10:04:46.596864Z",
     "iopub.status.busy": "2022-10-25T10:04:46.596245Z",
     "iopub.status.idle": "2022-10-25T10:04:46.601605Z",
     "shell.execute_reply": "2022-10-25T10:04:46.600761Z"
    },
    "papermill": {
     "duration": 0.04228,
     "end_time": "2022-10-25T10:04:46.603540",
     "exception": false,
     "start_time": "2022-10-25T10:04:46.561260",
     "status": "completed"
    },
    "tags": []
   },
   "outputs": [],
   "source": [
    "BATCH_SIZE = 16\n",
    "N_WORKERS = 4\n",
    "SHUFFLE = True"
   ]
  },
  {
   "cell_type": "markdown",
   "id": "eb997aa6-b510-4652-aa47-3180ac5ceb6e",
   "metadata": {
    "papermill": {
     "duration": 0.031202,
     "end_time": "2022-10-25T10:04:46.665532",
     "exception": false,
     "start_time": "2022-10-25T10:04:46.634330",
     "status": "completed"
    },
    "tags": []
   },
   "source": [
    "The number of epochs is set to 5 to for this demonstration. For more accurate results, it is recommended that this is increased (i.e. to 20 or 30). "
   ]
  },
  {
   "cell_type": "code",
   "execution_count": 24,
   "id": "15de7f79-3a3c-42cb-9cb1-7979a7f72dc2",
   "metadata": {
    "execution": {
     "iopub.execute_input": "2022-10-25T10:04:46.741567Z",
     "iopub.status.busy": "2022-10-25T10:04:46.741066Z",
     "iopub.status.idle": "2022-10-25T10:04:46.748822Z",
     "shell.execute_reply": "2022-10-25T10:04:46.747270Z"
    },
    "papermill": {
     "duration": 0.052173,
     "end_time": "2022-10-25T10:04:46.750730",
     "exception": false,
     "start_time": "2022-10-25T10:04:46.698557",
     "status": "completed"
    },
    "tags": []
   },
   "outputs": [],
   "source": [
    "N_EPOCHS = 5 "
   ]
  },
  {
   "cell_type": "code",
   "execution_count": 25,
   "id": "7d538682-39d2-44fc-ba13-09cd00882845",
   "metadata": {
    "execution": {
     "iopub.execute_input": "2022-10-25T10:04:46.819844Z",
     "iopub.status.busy": "2022-10-25T10:04:46.819140Z",
     "iopub.status.idle": "2022-10-25T10:04:46.825418Z",
     "shell.execute_reply": "2022-10-25T10:04:46.824743Z"
    },
    "papermill": {
     "duration": 0.046415,
     "end_time": "2022-10-25T10:04:46.829675",
     "exception": false,
     "start_time": "2022-10-25T10:04:46.783260",
     "status": "completed"
    },
    "tags": []
   },
   "outputs": [],
   "source": [
    "train_loader = DataLoader(dataset=train_poly_dataset, batch_size=BATCH_SIZE, num_workers=N_WORKERS, shuffle=SHUFFLE)\n",
    "\n",
    "val_loader = DataLoader(dataset=val_poly_dataset, batch_size=BATCH_SIZE, num_workers=N_WORKERS, shuffle=False)"
   ]
  },
  {
   "cell_type": "markdown",
   "id": "a08880b5",
   "metadata": {
    "papermill": {
     "duration": 0.028598,
     "end_time": "2022-10-25T10:04:46.885872",
     "exception": false,
     "start_time": "2022-10-25T10:04:46.857274",
     "status": "completed"
    },
    "tags": []
   },
   "source": [
    "Initialise the model."
   ]
  },
  {
   "cell_type": "code",
   "execution_count": 26,
   "id": "1a3c10f6-e322-4f8c-a8c9-d0a32146cd86",
   "metadata": {
    "execution": {
     "iopub.execute_input": "2022-10-25T10:04:46.949323Z",
     "iopub.status.busy": "2022-10-25T10:04:46.947608Z",
     "iopub.status.idle": "2022-10-25T10:04:46.974488Z",
     "shell.execute_reply": "2022-10-25T10:04:46.973546Z"
    },
    "papermill": {
     "duration": 0.061286,
     "end_time": "2022-10-25T10:04:46.976931",
     "exception": false,
     "start_time": "2022-10-25T10:04:46.915645",
     "status": "completed"
    },
    "tags": []
   },
   "outputs": [],
   "source": [
    "lstm = LSTM(\n",
    "    input_dim=len(feature_cols),\n",
    "    n_classes=eurocrops_signals[label_feature].nunique(),\n",
    "    hidden_dims=128,\n",
    "    num_rnn_layers=3,\n",
    "    dropout=0.2,\n",
    "    bidirectional=True,\n",
    "    use_batchnorm=False,\n",
    "    use_layernorm=True,\n",
    ")"
   ]
  },
  {
   "cell_type": "markdown",
   "id": "0c138216",
   "metadata": {
    "papermill": {
     "duration": 0.031882,
     "end_time": "2022-10-25T10:04:47.037757",
     "exception": false,
     "start_time": "2022-10-25T10:04:47.005875",
     "status": "completed"
    },
    "tags": []
   },
   "source": [
    "Initialise the optimiser."
   ]
  },
  {
   "cell_type": "code",
   "execution_count": 27,
   "id": "399b93f9-df20-444a-b155-f4795824c3a3",
   "metadata": {
    "execution": {
     "iopub.execute_input": "2022-10-25T10:04:47.096714Z",
     "iopub.status.busy": "2022-10-25T10:04:47.096288Z",
     "iopub.status.idle": "2022-10-25T10:04:47.101092Z",
     "shell.execute_reply": "2022-10-25T10:04:47.100202Z"
    },
    "papermill": {
     "duration": 0.03462,
     "end_time": "2022-10-25T10:04:47.102621",
     "exception": false,
     "start_time": "2022-10-25T10:04:47.068001",
     "status": "completed"
    },
    "tags": []
   },
   "outputs": [],
   "source": [
    "optimizer = Adam(\n",
    "    filter(lambda x: x.requires_grad, lstm.parameters()),\n",
    "    betas=(0.9, 0.98),\n",
    "    eps=1e-09,\n",
    "    lr=0.001,\n",
    ")"
   ]
  },
  {
   "cell_type": "markdown",
   "id": "a23dc1d1",
   "metadata": {
    "papermill": {
     "duration": 0.030537,
     "end_time": "2022-10-25T10:04:47.161125",
     "exception": false,
     "start_time": "2022-10-25T10:04:47.130588",
     "status": "completed"
    },
    "tags": []
   },
   "source": [
    "Initialise the logger."
   ]
  },
  {
   "cell_type": "code",
   "execution_count": 28,
   "id": "19ab3732-eedb-4659-872f-b2540f562013",
   "metadata": {
    "execution": {
     "iopub.execute_input": "2022-10-25T10:04:47.218882Z",
     "iopub.status.busy": "2022-10-25T10:04:47.218196Z",
     "iopub.status.idle": "2022-10-25T10:04:47.222433Z",
     "shell.execute_reply": "2022-10-25T10:04:47.221676Z"
    },
    "papermill": {
     "duration": 0.036496,
     "end_time": "2022-10-25T10:04:47.224578",
     "exception": false,
     "start_time": "2022-10-25T10:04:47.188082",
     "status": "completed"
    },
    "tags": []
   },
   "outputs": [],
   "source": [
    "logger = define_logger(\"Training\")"
   ]
  },
  {
   "cell_type": "markdown",
   "id": "21cc6508",
   "metadata": {
    "papermill": {
     "duration": 0.034134,
     "end_time": "2022-10-25T10:04:47.300214",
     "exception": false,
     "start_time": "2022-10-25T10:04:47.266080",
     "status": "completed"
    },
    "tags": []
   },
   "source": [
    "Train the model !!"
   ]
  },
  {
   "cell_type": "code",
   "execution_count": 29,
   "id": "ae0d4508-18f0-4474-a041-0e485e9fec21",
   "metadata": {
    "execution": {
     "iopub.execute_input": "2022-10-25T10:04:47.365376Z",
     "iopub.status.busy": "2022-10-25T10:04:47.364567Z",
     "iopub.status.idle": "2022-10-25T10:10:35.855295Z",
     "shell.execute_reply": "2022-10-25T10:10:35.854429Z"
    },
    "papermill": {
     "duration": 348.592981,
     "end_time": "2022-10-25T10:10:35.928835",
     "exception": false,
     "start_time": "2022-10-25T10:04:47.335854",
     "status": "completed"
    },
    "tags": []
   },
   "outputs": [
    {
     "name": "stdout",
     "output_type": "stream",
     "text": [
      "[2022-10-25 05:05:56,135] {utils.py:87} INFO - Epoch 0: train loss 2.269 | val loss 1.974 | val acc = 0.434\n"
     ]
    },
    {
     "name": "stdout",
     "output_type": "stream",
     "text": [
      "[2022-10-25 05:07:04,745] {utils.py:87} INFO - Epoch 1: train loss 1.864 | val loss 1.842 | val acc = 0.498\n"
     ]
    },
    {
     "name": "stdout",
     "output_type": "stream",
     "text": [
      "[2022-10-25 05:08:15,846] {utils.py:87} INFO - Epoch 2: train loss 1.687 | val loss 1.696 | val acc = 0.557\n"
     ]
    },
    {
     "name": "stdout",
     "output_type": "stream",
     "text": [
      "[2022-10-25 05:09:26,054] {utils.py:87} INFO - Epoch 3: train loss 1.555 | val loss 1.566 | val acc = 0.569\n"
     ]
    },
    {
     "name": "stdout",
     "output_type": "stream",
     "text": [
      "[2022-10-25 05:10:35,850] {utils.py:87} INFO - Epoch 4: train loss 1.549 | val loss 1.529 | val acc = 0.575\n"
     ]
    }
   ],
   "source": [
    "lstm = train(lstm, optimizer, train_loader, val_loader, N_EPOCHS, verbose=False, logger=logger)"
   ]
  },
  {
   "cell_type": "markdown",
   "id": "27791c5a",
   "metadata": {
    "papermill": {
     "duration": 0.030748,
     "end_time": "2022-10-25T10:10:35.995497",
     "exception": false,
     "start_time": "2022-10-25T10:10:35.964749",
     "status": "completed"
    },
    "tags": []
   },
   "source": [
    "## 4. Model evaluation <a name=model-evaluation></a>\n",
    "\n",
    "This Section evaluates the performance of the trained model on the validation dataset. Perfomance is displayed as a confusion matrix, where estimated and reference crop-types are compared."
   ]
  },
  {
   "cell_type": "code",
   "execution_count": 30,
   "id": "ba600cea-3134-4f44-b0e8-fdbbacb830c4",
   "metadata": {
    "execution": {
     "iopub.execute_input": "2022-10-25T10:10:36.064000Z",
     "iopub.status.busy": "2022-10-25T10:10:36.062854Z",
     "iopub.status.idle": "2022-10-25T10:10:36.071375Z",
     "shell.execute_reply": "2022-10-25T10:10:36.069643Z"
    },
    "papermill": {
     "duration": 0.05021,
     "end_time": "2022-10-25T10:10:36.073618",
     "exception": false,
     "start_time": "2022-10-25T10:10:36.023408",
     "status": "completed"
    },
    "tags": []
   },
   "outputs": [],
   "source": [
    "import numpy as np"
   ]
  },
  {
   "cell_type": "code",
   "execution_count": 31,
   "id": "9fb79354-2a4a-4249-86b1-7f8c638ee989",
   "metadata": {
    "execution": {
     "iopub.execute_input": "2022-10-25T10:10:36.141539Z",
     "iopub.status.busy": "2022-10-25T10:10:36.140700Z",
     "iopub.status.idle": "2022-10-25T10:10:36.150845Z",
     "shell.execute_reply": "2022-10-25T10:10:36.150126Z"
    },
    "papermill": {
     "duration": 0.04835,
     "end_time": "2022-10-25T10:10:36.154720",
     "exception": false,
     "start_time": "2022-10-25T10:10:36.106370",
     "status": "completed"
    },
    "tags": []
   },
   "outputs": [],
   "source": [
    "def plot_confusion_matrix(cm,\n",
    "                          target_names,\n",
    "                          title='Confusion matrix',\n",
    "                          cmap=None,\n",
    "                          normalize=True):\n",
    "    \"\"\"\n",
    "    given a sklearn confusion matrix (cm), make a nice plot\n",
    "\n",
    "    Arguments\n",
    "    ---------\n",
    "    cm:           confusion matrix from sklearn.metrics.confusion_matrix\n",
    "\n",
    "    target_names: given classification classes such as [0, 1, 2]\n",
    "                  the class names, for example: ['high', 'medium', 'low']\n",
    "\n",
    "    title:        the text to display at the top of the matrix\n",
    "\n",
    "    cmap:         the gradient of the values displayed from matplotlib.pyplot.cm\n",
    "                  see http://matplotlib.org/examples/color/colormaps_reference.html\n",
    "                  plt.get_cmap('jet') or plt.cm.Blues\n",
    "\n",
    "    normalize:    If False, plot the raw numbers\n",
    "                  If True, plot the proportions\n",
    "\n",
    "    Usage\n",
    "    -----\n",
    "    plot_confusion_matrix(cm           = cm,                  # confusion matrix created by\n",
    "                                                              # sklearn.metrics.confusion_matrix\n",
    "                          normalize    = True,                # show proportions\n",
    "                          target_names = y_labels_vals,       # list of names of the classes\n",
    "                          title        = best_estimator_name) # title of graph\n",
    "\n",
    "    Citiation\n",
    "    ---------\n",
    "    http://scikit-learn.org/stable/auto_examples/model_selection/plot_confusion_matrix.html\n",
    "\n",
    "    \"\"\"\n",
    "    import matplotlib.pyplot as plt\n",
    "    import numpy as np\n",
    "    import itertools\n",
    "\n",
    "    accuracy = np.trace(cm) / np.sum(cm).astype('float')\n",
    "    misclass = 1 - accuracy\n",
    "\n",
    "    if cmap is None:\n",
    "        cmap = plt.get_cmap('Blues')\n",
    "\n",
    "    plt.figure(figsize=(20, 20))\n",
    "    plt.imshow(cm, interpolation='nearest', cmap=cmap)\n",
    "\n",
    "    if target_names is not None:\n",
    "        tick_marks = np.arange(len(target_names))\n",
    "        plt.xticks(tick_marks, target_names, rotation=90)\n",
    "        plt.yticks(tick_marks, target_names)\n",
    "\n",
    "    if normalize:\n",
    "        cm = cm.astype('float') / cm.sum(axis=1)[:, np.newaxis]\n",
    "\n",
    "\n",
    "    thresh = np.nanmax(cm) / 1.5 if normalize else np.nanmax(cm) / 2\n",
    "    for i, j in itertools.product(range(cm.shape[0]), range(cm.shape[1])):\n",
    "        if normalize:\n",
    "            plt.text(j, i, \"{:0.2f}\".format(cm[i, j]),\n",
    "                     horizontalalignment=\"center\",\n",
    "                     color=\"white\" if cm[i, j] > thresh else \"black\")\n",
    "        else:\n",
    "            plt.text(j, i, \"{:,}\".format(cm[i, j]),\n",
    "                     horizontalalignment=\"center\",\n",
    "                     color=\"white\" if cm[i, j] > thresh else \"black\")\n",
    "\n",
    "\n",
    "    plt.tight_layout()\n",
    "    plt.ylabel('True label')\n",
    "    plt.xlabel('Predicted label\\naccuracy={:0.2f}; misclass={:0.2f}'.format(accuracy, misclass))\n",
    "    plt.show()\n"
   ]
  },
  {
   "cell_type": "code",
   "execution_count": 32,
   "id": "cfd5edda-9132-48e3-97d8-1e83f8bd9397",
   "metadata": {
    "execution": {
     "iopub.execute_input": "2022-10-25T10:10:36.219290Z",
     "iopub.status.busy": "2022-10-25T10:10:36.218972Z",
     "iopub.status.idle": "2022-10-25T10:10:50.452227Z",
     "shell.execute_reply": "2022-10-25T10:10:50.451284Z"
    },
    "papermill": {
     "duration": 14.266621,
     "end_time": "2022-10-25T10:10:50.454423",
     "exception": false,
     "start_time": "2022-10-25T10:10:36.187802",
     "status": "completed"
    },
    "tags": []
   },
   "outputs": [],
   "source": [
    "predictions, targets, polygon_ids, logprobabilities = test(lstm, val_loader)"
   ]
  },
  {
   "cell_type": "code",
   "execution_count": 33,
   "id": "13404427-32cf-4eb1-99cc-9852862c71a8",
   "metadata": {
    "execution": {
     "iopub.execute_input": "2022-10-25T10:10:50.581677Z",
     "iopub.status.busy": "2022-10-25T10:10:50.580794Z",
     "iopub.status.idle": "2022-10-25T10:10:50.588015Z",
     "shell.execute_reply": "2022-10-25T10:10:50.587233Z"
    },
    "papermill": {
     "duration": 0.045181,
     "end_time": "2022-10-25T10:10:50.591810",
     "exception": false,
     "start_time": "2022-10-25T10:10:50.546629",
     "status": "completed"
    },
    "tags": []
   },
   "outputs": [],
   "source": [
    "cm = confusion_matrix(targets, predictions, labels=list(crop_id_to_label_mapping.values()))"
   ]
  },
  {
   "cell_type": "code",
   "execution_count": 34,
   "id": "227b8146-5986-4e54-9c8b-e549b8aad220",
   "metadata": {
    "execution": {
     "iopub.execute_input": "2022-10-25T10:10:50.646705Z",
     "iopub.status.busy": "2022-10-25T10:10:50.646272Z",
     "iopub.status.idle": "2022-10-25T10:10:57.626135Z",
     "shell.execute_reply": "2022-10-25T10:10:57.624896Z"
    },
    "papermill": {
     "duration": 7.015248,
     "end_time": "2022-10-25T10:10:57.633655",
     "exception": false,
     "start_time": "2022-10-25T10:10:50.618407",
     "status": "completed"
    },
    "tags": []
   },
   "outputs": [
    {
     "name": "stderr",
     "output_type": "stream",
     "text": [
      "/tmp/ipykernel_70/2388789195.py:57: RuntimeWarning: invalid value encountered in divide\n",
      "  cm = cm.astype('float') / cm.sum(axis=1)[:, np.newaxis]\n"
     ]
    },
    {
     "data": {
      "image/png": "[encoded data removed]",
      "text/plain": [
       "<Figure size 2000x2000 with 1 Axes>"
      ]
     },
     "metadata": {},
     "output_type": "display_data"
    }
   ],
   "source": [
    "plot_confusion_matrix(cm, target_names=[crop_id_to_name_mapping[x] for x in crop_id_to_label_mapping.keys()])"
   ]
  }
 ],
 "metadata": {
  "interpreter": {
   "hash": "2880452117879b878aa515f032d494a3ad190d8310d205bde4fb9215fd3620a0"
  },
  "kernelspec": {
   "display_name": "Python 3 (ipykernel)",
   "language": "python",
   "name": "python3"
  },
  "language_info": {
   "codemirror_mode": {
    "name": "ipython",
    "version": 3
   },
   "file_extension": ".py",
   "mimetype": "text/x-python",
   "name": "python",
   "nbconvert_exporter": "python",
   "pygments_lexer": "ipython3",
   "version": "3.9.13"
  },
  "papermill": {
   "default_parameters": {},
   "duration": 503.784301,
   "end_time": "2022-10-25T10:10:58.795936",
   "environment_variables": {},
   "exception": null,
   "input_path": "/tmp/tmpeu4095a3",
   "output_path": "/tmp/notebook_output.ipynb",
   "parameters": {},
   "start_time": "2022-10-25T10:02:35.011635",
   "version": "2.3.4"
  },
  "properties": {
   "authors": [
    {
     "id": "f0a99622-4b85-4610-8669-c73e560d096b",
     "name": "eoresearch@sinergise.com"
    }
   ],
   "description": "Crop classification algorithm for Sentinel-2 time-series.",
   "id": "b5d6fe35-1f1f-495d-ace4-56f55adaf71a",
   "license": null,
   "name": "Crop-classification using Sentinel-2 time-series",
   "requirements": [],
   "tags": [
    "Sentinel Data",
    "Sentinel Hub",
    "Machine Learning",
    "EO Data",
    "Crop-type-Classification"
   ],
   "tosAgree": true,
   "type": "Jupyter Notebook",
   "version": "0.0.1"
  }
 },
 "nbformat": 4,
 "nbformat_minor": 5
}