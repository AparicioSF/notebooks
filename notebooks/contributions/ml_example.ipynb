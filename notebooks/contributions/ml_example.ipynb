{
 "cells": [
  {
   "cell_type": "code",
   "execution_count": 1,
   "id": "62f7ab77",
   "metadata": {
    "execution": {
     "iopub.execute_input": "2022-10-24T18:36:25.726071Z",
     "iopub.status.busy": "2022-10-24T18:36:25.725307Z",
     "iopub.status.idle": "2022-10-24T18:36:25.780063Z",
     "shell.execute_reply": "2022-10-24T18:36:25.779358Z"
    },
    "papermill": {
     "duration": 0.064369,
     "end_time": "2022-10-24T18:36:25.781722",
     "exception": false,
     "start_time": "2022-10-24T18:36:25.717353",
     "status": "completed"
    },
    "tags": []
   },
   "outputs": [
    {
     "data": {
      "text/html": [
       "<script type=\"text/javascript\">\n",
       "        function toggle(id) {\n",
       "            el = document.getElementById(id);\n",
       "            el.style.display = el.style.display === \"none\" ? \"block\" : \"none\";\n",
       "        }\n",
       "    </script>"
      ],
      "text/plain": [
       "<IPython.core.display.HTML object>"
      ]
     },
     "metadata": {},
     "output_type": "display_data"
    },
    {
     "data": {
      "text/html": [
       "This notebook is compatible with this base image version (user-2022.10-14)."
      ],
      "text/plain": [
       "<IPython.core.display.HTML object>"
      ]
     },
     "metadata": {},
     "output_type": "display_data"
    }
   ],
   "source": [
    "from eoxhub import check_compatibility\n",
    "check_compatibility(\"user-2022.10-14\", dependencies=[])"
   ]
  },
  {
   "cell_type": "markdown",
   "id": "0a615556-b62f-4392-a82e-9746d300e708",
   "metadata": {
    "papermill": {
     "duration": 0.005305,
     "end_time": "2022-10-24T18:36:25.792673",
     "exception": false,
     "start_time": "2022-10-24T18:36:25.787368",
     "status": "completed"
    },
    "tags": []
   },
   "source": [
    "# Crop-classification using Sentinel-2 time-series\n",
    "\n",
    "This notebook implements a crop classification algorithm for Sentinel-2 time-series based on deep learning. The input time-series are derived from the signals computed by the Eurocrops BYOA. The method here implemented is described in more detail in the [crop-classification marker blog-post](https://medium.com/sentinel-hub/area-monitoring-crop-type-marker-1e70f672bf44).\n",
    "\n",
    "For more examples on how to create markers for monitoring agricultural activity using Sentinel-2 signals, consult [this blog series](https://medium.com/sentinel-hub/area-monitoring-concept-effc2c262583).\n",
    "\n",
    "This notebook will use a sample of pre-downloaded signals, and can be run on a CPU-based instance or laptop.\n",
    "\n",
    "**Table of Contents**:\n",
    "\n",
    " 0. [Constants](#constants)\n",
    " 1. [Retrieve signals and labels](#retrieve-signals)\n",
    " 2. [AI-ready dataset](#dataset)\n",
    " 3. [Model training](#model-training)\n",
    " 4. [Model evaluation](#model-evaluation)"
   ]
  },
  {
   "cell_type": "code",
   "execution_count": 2,
   "id": "36298b14-3b51-4455-9bda-f6dfbe45e947",
   "metadata": {
    "execution": {
     "iopub.execute_input": "2022-10-24T18:36:25.804514Z",
     "iopub.status.busy": "2022-10-24T18:36:25.803916Z",
     "iopub.status.idle": "2022-10-24T18:36:59.120231Z",
     "shell.execute_reply": "2022-10-24T18:36:59.118193Z"
    },
    "papermill": {
     "duration": 33.324523,
     "end_time": "2022-10-24T18:36:59.122391",
     "exception": false,
     "start_time": "2022-10-24T18:36:25.797868",
     "status": "completed"
    },
    "tags": []
   },
   "outputs": [
    {
     "name": "stdout",
     "output_type": "stream",
     "text": [
      "Collecting torch\r\n",
      "  Downloading torch-1.12.1-cp39-cp39-manylinux1_x86_64.whl (776.4 MB)\r\n",
      "\u001b[?25l     \u001b[90m━━━━━━━━━━━━━━━━━━━━━━━━━━━━━━━━━━━━━━━━\u001b[0m \u001b[32m0.0/776.4 MB\u001b[0m \u001b[31m?\u001b[0m eta \u001b[36m-:--:--\u001b[0m"
     ]
    },
    {
     "name": "stdout",
     "output_type": "stream",
     "text": [
      "\r",
      "\u001b[2K     \u001b[90m━━━━━━━━━━━━━━━━━━━━━━━━━━━━━━━━━━━━━━━\u001b[0m \u001b[32m5.5/776.4 MB\u001b[0m \u001b[31m165.4 MB/s\u001b[0m eta \u001b[36m0:00:05\u001b[0m"
     ]
    },
    {
     "name": "stdout",
     "output_type": "stream",
     "text": [
      "\r",
      "\u001b[2K     \u001b[91m╸\u001b[0m\u001b[90m━━━━━━━━━━━━━━━━━━━━━━━━━━━━━━━━━━━━━\u001b[0m \u001b[32m12.0/776.4 MB\u001b[0m \u001b[31m183.4 MB/s\u001b[0m eta \u001b[36m0:00:05\u001b[0m"
     ]
    },
    {
     "name": "stdout",
     "output_type": "stream",
     "text": [
      "\r",
      "\u001b[2K     \u001b[91m╸\u001b[0m\u001b[90m━━━━━━━━━━━━━━━━━━━━━━━━━━━━━━━━━━━━━\u001b[0m \u001b[32m17.5/776.4 MB\u001b[0m \u001b[31m171.9 MB/s\u001b[0m eta \u001b[36m0:00:05\u001b[0m\r",
      "\u001b[2K     \u001b[91m━\u001b[0m\u001b[90m╺\u001b[0m\u001b[90m━━━━━━━━━━━━━━━━━━━━━━━━━━━━━━━━━━━━\u001b[0m \u001b[32m26.4/776.4 MB\u001b[0m \u001b[31m215.7 MB/s\u001b[0m eta \u001b[36m0:00:04\u001b[0m"
     ]
    },
    {
     "name": "stdout",
     "output_type": "stream",
     "text": [
      "\r",
      "\u001b[2K     \u001b[91m━\u001b[0m\u001b[91m╸\u001b[0m\u001b[90m━━━━━━━━━━━━━━━━━━━━━━━━━━━━━━━━━━━━\u001b[0m \u001b[32m35.1/776.4 MB\u001b[0m \u001b[31m251.0 MB/s\u001b[0m eta \u001b[36m0:00:03\u001b[0m"
     ]
    },
    {
     "name": "stdout",
     "output_type": "stream",
     "text": [
      "\r",
      "\u001b[2K     \u001b[91m━\u001b[0m\u001b[91m╸\u001b[0m\u001b[90m━━━━━━━━━━━━━━━━━━━━━━━━━━━━━━━━━━━━\u001b[0m \u001b[32m40.4/776.4 MB\u001b[0m \u001b[31m188.4 MB/s\u001b[0m eta \u001b[36m0:00:04\u001b[0m\r",
      "\u001b[2K     \u001b[91m━━\u001b[0m\u001b[90m╺\u001b[0m\u001b[90m━━━━━━━━━━━━━━━━━━━━━━━━━━━━━━━━━━━\u001b[0m \u001b[32m46.7/776.4 MB\u001b[0m \u001b[31m165.0 MB/s\u001b[0m eta \u001b[36m0:00:05\u001b[0m"
     ]
    },
    {
     "name": "stdout",
     "output_type": "stream",
     "text": [
      "\r",
      "\u001b[2K     \u001b[91m━━\u001b[0m\u001b[91m╸\u001b[0m\u001b[90m━━━━━━━━━━━━━━━━━━━━━━━━━━━━━━━━━━━\u001b[0m \u001b[32m53.2/776.4 MB\u001b[0m \u001b[31m187.1 MB/s\u001b[0m eta \u001b[36m0:00:04\u001b[0m"
     ]
    },
    {
     "name": "stdout",
     "output_type": "stream",
     "text": [
      "\r",
      "\u001b[2K     \u001b[91m━━\u001b[0m\u001b[91m╸\u001b[0m\u001b[90m━━━━━━━━━━━━━━━━━━━━━━━━━━━━━━━━━━━\u001b[0m \u001b[32m58.6/776.4 MB\u001b[0m \u001b[31m170.5 MB/s\u001b[0m eta \u001b[36m0:00:05\u001b[0m\r",
      "\u001b[2K     \u001b[91m━━━\u001b[0m\u001b[90m╺\u001b[0m\u001b[90m━━━━━━━━━━━━━━━━━━━━━━━━━━━━━━━━━━\u001b[0m \u001b[32m64.8/776.4 MB\u001b[0m \u001b[31m165.2 MB/s\u001b[0m eta \u001b[36m0:00:05\u001b[0m"
     ]
    },
    {
     "name": "stdout",
     "output_type": "stream",
     "text": [
      "\r",
      "\u001b[2K     \u001b[91m━━━\u001b[0m\u001b[91m╸\u001b[0m\u001b[90m━━━━━━━━━━━━━━━━━━━━━━━━━━━━━━━━━━\u001b[0m \u001b[32m73.3/776.4 MB\u001b[0m \u001b[31m227.8 MB/s\u001b[0m eta \u001b[36m0:00:04\u001b[0m"
     ]
    },
    {
     "name": "stdout",
     "output_type": "stream",
     "text": [
      "\r",
      "\u001b[2K     \u001b[91m━━━\u001b[0m\u001b[91m╸\u001b[0m\u001b[90m━━━━━━━━━━━━━━━━━━━━━━━━━━━━━━━━━━\u001b[0m \u001b[32m78.7/776.4 MB\u001b[0m \u001b[31m189.5 MB/s\u001b[0m eta \u001b[36m0:00:04\u001b[0m\r",
      "\u001b[2K     \u001b[91m━━━━\u001b[0m\u001b[90m╺\u001b[0m\u001b[90m━━━━━━━━━━━━━━━━━━━━━━━━━━━━━━━━━\u001b[0m \u001b[32m86.2/776.4 MB\u001b[0m \u001b[31m208.7 MB/s\u001b[0m eta \u001b[36m0:00:04\u001b[0m"
     ]
    },
    {
     "name": "stdout",
     "output_type": "stream",
     "text": [
      "\r",
      "\u001b[2K     \u001b[91m━━━━\u001b[0m\u001b[91m╸\u001b[0m\u001b[90m━━━━━━━━━━━━━━━━━━━━━━━━━━━━━━━━━\u001b[0m \u001b[32m92.6/776.4 MB\u001b[0m \u001b[31m196.2 MB/s\u001b[0m eta \u001b[36m0:00:04\u001b[0m"
     ]
    },
    {
     "name": "stdout",
     "output_type": "stream",
     "text": [
      "\r",
      "\u001b[2K     \u001b[91m━━━━\u001b[0m\u001b[91m╸\u001b[0m\u001b[90m━━━━━━━━━━━━━━━━━━━━━━━━━━━━━━━━━\u001b[0m \u001b[32m98.1/776.4 MB\u001b[0m \u001b[31m169.6 MB/s\u001b[0m eta \u001b[36m0:00:04\u001b[0m"
     ]
    },
    {
     "name": "stdout",
     "output_type": "stream",
     "text": [
      "\r",
      "\u001b[2K     \u001b[91m━━━━━\u001b[0m\u001b[90m╺\u001b[0m\u001b[90m━━━━━━━━━━━━━━━━━━━━━━━━━━━━━━━\u001b[0m \u001b[32m105.5/776.4 MB\u001b[0m \u001b[31m203.2 MB/s\u001b[0m eta \u001b[36m0:00:04\u001b[0m\r",
      "\u001b[2K     \u001b[91m━━━━━\u001b[0m\u001b[90m╺\u001b[0m\u001b[90m━━━━━━━━━━━━━━━━━━━━━━━━━━━━━━━\u001b[0m \u001b[32m112.5/776.4 MB\u001b[0m \u001b[31m206.5 MB/s\u001b[0m eta \u001b[36m0:00:04\u001b[0m"
     ]
    },
    {
     "name": "stdout",
     "output_type": "stream",
     "text": [
      "\r",
      "\u001b[2K     \u001b[91m━━━━━\u001b[0m\u001b[91m╸\u001b[0m\u001b[90m━━━━━━━━━━━━━━━━━━━━━━━━━━━━━━━\u001b[0m \u001b[32m120.2/776.4 MB\u001b[0m \u001b[31m195.4 MB/s\u001b[0m eta \u001b[36m0:00:04\u001b[0m"
     ]
    },
    {
     "name": "stdout",
     "output_type": "stream",
     "text": [
      "\r",
      "\u001b[2K     \u001b[91m━━━━━━\u001b[0m\u001b[90m╺\u001b[0m\u001b[90m━━━━━━━━━━━━━━━━━━━━━━━━━━━━━━\u001b[0m \u001b[32m127.8/776.4 MB\u001b[0m \u001b[31m219.9 MB/s\u001b[0m eta \u001b[36m0:00:03\u001b[0m\r",
      "\u001b[2K     \u001b[91m━━━━━━\u001b[0m\u001b[90m╺\u001b[0m\u001b[90m━━━━━━━━━━━━━━━━━━━━━━━━━━━━━━\u001b[0m \u001b[32m134.1/776.4 MB\u001b[0m \u001b[31m193.6 MB/s\u001b[0m eta \u001b[36m0:00:04\u001b[0m"
     ]
    },
    {
     "name": "stdout",
     "output_type": "stream",
     "text": [
      "\r",
      "\u001b[2K     \u001b[91m━━━━━━\u001b[0m\u001b[91m╸\u001b[0m\u001b[90m━━━━━━━━━━━━━━━━━━━━━━━━━━━━━━\u001b[0m \u001b[32m140.5/776.4 MB\u001b[0m \u001b[31m174.7 MB/s\u001b[0m eta \u001b[36m0:00:04\u001b[0m"
     ]
    },
    {
     "name": "stdout",
     "output_type": "stream",
     "text": [
      "\r",
      "\u001b[2K     \u001b[91m━━━━━━━\u001b[0m\u001b[90m╺\u001b[0m\u001b[90m━━━━━━━━━━━━━━━━━━━━━━━━━━━━━\u001b[0m \u001b[32m147.1/776.4 MB\u001b[0m \u001b[31m188.6 MB/s\u001b[0m eta \u001b[36m0:00:04\u001b[0m\r",
      "\u001b[2K     \u001b[91m━━━━━━━\u001b[0m\u001b[90m╺\u001b[0m\u001b[90m━━━━━━━━━━━━━━━━━━━━━━━━━━━━━\u001b[0m \u001b[32m154.5/776.4 MB\u001b[0m \u001b[31m205.6 MB/s\u001b[0m eta \u001b[36m0:00:04\u001b[0m"
     ]
    },
    {
     "name": "stdout",
     "output_type": "stream",
     "text": [
      "\r",
      "\u001b[2K     \u001b[91m━━━━━━━\u001b[0m\u001b[91m╸\u001b[0m\u001b[90m━━━━━━━━━━━━━━━━━━━━━━━━━━━━━\u001b[0m \u001b[32m163.1/776.4 MB\u001b[0m \u001b[31m246.8 MB/s\u001b[0m eta \u001b[36m0:00:03\u001b[0m"
     ]
    },
    {
     "name": "stdout",
     "output_type": "stream",
     "text": [
      "\r",
      "\u001b[2K     \u001b[91m━━━━━━━━\u001b[0m\u001b[90m╺\u001b[0m\u001b[90m━━━━━━━━━━━━━━━━━━━━━━━━━━━━\u001b[0m \u001b[32m171.8/776.4 MB\u001b[0m \u001b[31m247.6 MB/s\u001b[0m eta \u001b[36m0:00:03\u001b[0m"
     ]
    },
    {
     "name": "stdout",
     "output_type": "stream",
     "text": [
      "\r",
      "\u001b[2K     \u001b[91m━━━━━━━━\u001b[0m\u001b[90m╺\u001b[0m\u001b[90m━━━━━━━━━━━━━━━━━━━━━━━━━━━━\u001b[0m \u001b[32m178.3/776.4 MB\u001b[0m \u001b[31m207.3 MB/s\u001b[0m eta \u001b[36m0:00:03\u001b[0m\r",
      "\u001b[2K     \u001b[91m━━━━━━━━\u001b[0m\u001b[91m╸\u001b[0m\u001b[90m━━━━━━━━━━━━━━━━━━━━━━━━━━━━\u001b[0m \u001b[32m187.3/776.4 MB\u001b[0m \u001b[31m255.1 MB/s\u001b[0m eta \u001b[36m0:00:03\u001b[0m"
     ]
    },
    {
     "name": "stdout",
     "output_type": "stream",
     "text": [
      "\r",
      "\u001b[2K     \u001b[91m━━━━━━━━━\u001b[0m\u001b[90m╺\u001b[0m\u001b[90m━━━━━━━━━━━━━━━━━━━━━━━━━━━\u001b[0m \u001b[32m195.3/776.4 MB\u001b[0m \u001b[31m232.5 MB/s\u001b[0m eta \u001b[36m0:00:03\u001b[0m"
     ]
    },
    {
     "name": "stdout",
     "output_type": "stream",
     "text": [
      "\r",
      "\u001b[2K     \u001b[91m━━━━━━━━━\u001b[0m\u001b[91m╸\u001b[0m\u001b[90m━━━━━━━━━━━━━━━━━━━━━━━━━━━\u001b[0m \u001b[32m202.2/776.4 MB\u001b[0m \u001b[31m210.4 MB/s\u001b[0m eta \u001b[36m0:00:03\u001b[0m\r",
      "\u001b[2K     \u001b[91m━━━━━━━━━\u001b[0m\u001b[91m╸\u001b[0m\u001b[90m━━━━━━━━━━━━━━━━━━━━━━━━━━━\u001b[0m \u001b[32m202.6/776.4 MB\u001b[0m \u001b[31m199.8 MB/s\u001b[0m eta \u001b[36m0:00:03\u001b[0m"
     ]
    },
    {
     "name": "stdout",
     "output_type": "stream",
     "text": [
      "\r",
      "\u001b[2K     \u001b[91m━━━━━━━━━\u001b[0m\u001b[91m╸\u001b[0m\u001b[90m━━━━━━━━━━━━━━━━━━━━━━━━━━━━\u001b[0m \u001b[32m202.7/776.4 MB\u001b[0m \u001b[31m90.9 MB/s\u001b[0m eta \u001b[36m0:00:07\u001b[0m"
     ]
    },
    {
     "name": "stdout",
     "output_type": "stream",
     "text": [
      "\r",
      "\u001b[2K     \u001b[91m━━━━━━━━━━\u001b[0m\u001b[90m╺\u001b[0m\u001b[90m━━━━━━━━━━━━━━━━━━━━━━━━━━━\u001b[0m \u001b[32m208.3/776.4 MB\u001b[0m \u001b[31m83.6 MB/s\u001b[0m eta \u001b[36m0:00:07\u001b[0m\r",
      "\u001b[2K     \u001b[91m━━━━━━━━━━\u001b[0m\u001b[90m╺\u001b[0m\u001b[90m━━━━━━━━━━━━━━━━━━━━━━━━━━\u001b[0m \u001b[32m215.0/776.4 MB\u001b[0m \u001b[31m189.6 MB/s\u001b[0m eta \u001b[36m0:00:03\u001b[0m"
     ]
    },
    {
     "name": "stdout",
     "output_type": "stream",
     "text": [
      "\r",
      "\u001b[2K     \u001b[91m━━━━━━━━━━\u001b[0m\u001b[91m╸\u001b[0m\u001b[90m━━━━━━━━━━━━━━━━━━━━━━━━━━\u001b[0m \u001b[32m221.6/776.4 MB\u001b[0m \u001b[31m192.5 MB/s\u001b[0m eta \u001b[36m0:00:03\u001b[0m"
     ]
    },
    {
     "name": "stdout",
     "output_type": "stream",
     "text": [
      "\r",
      "\u001b[2K     \u001b[91m━━━━━━━━━━\u001b[0m\u001b[91m╸\u001b[0m\u001b[90m━━━━━━━━━━━━━━━━━━━━━━━━━━\u001b[0m \u001b[32m227.7/776.4 MB\u001b[0m \u001b[31m181.1 MB/s\u001b[0m eta \u001b[36m0:00:04\u001b[0m"
     ]
    },
    {
     "name": "stdout",
     "output_type": "stream",
     "text": [
      "\r",
      "\u001b[2K     \u001b[91m━━━━━━━━━━━\u001b[0m\u001b[90m╺\u001b[0m\u001b[90m━━━━━━━━━━━━━━━━━━━━━━━━━\u001b[0m \u001b[32m233.2/776.4 MB\u001b[0m \u001b[31m164.6 MB/s\u001b[0m eta \u001b[36m0:00:04\u001b[0m\r",
      "\u001b[2K     \u001b[91m━━━━━━━━━━━\u001b[0m\u001b[90m╺\u001b[0m\u001b[90m━━━━━━━━━━━━━━━━━━━━━━━━━\u001b[0m \u001b[32m237.9/776.4 MB\u001b[0m \u001b[31m139.3 MB/s\u001b[0m eta \u001b[36m0:00:04\u001b[0m"
     ]
    },
    {
     "name": "stdout",
     "output_type": "stream",
     "text": [
      "\r",
      "\u001b[2K     \u001b[91m━━━━━━━━━━━\u001b[0m\u001b[91m╸\u001b[0m\u001b[90m━━━━━━━━━━━━━━━━━━━━━━━━━\u001b[0m \u001b[32m246.1/776.4 MB\u001b[0m \u001b[31m187.2 MB/s\u001b[0m eta \u001b[36m0:00:03\u001b[0m"
     ]
    },
    {
     "name": "stdout",
     "output_type": "stream",
     "text": [
      "\r",
      "\u001b[2K     \u001b[91m━━━━━━━━━━━━\u001b[0m\u001b[90m╺\u001b[0m\u001b[90m━━━━━━━━━━━━━━━━━━━━━━━━\u001b[0m \u001b[32m254.6/776.4 MB\u001b[0m \u001b[31m241.0 MB/s\u001b[0m eta \u001b[36m0:00:03\u001b[0m\r",
      "\u001b[2K     \u001b[91m━━━━━━━━━━━━\u001b[0m\u001b[90m╺\u001b[0m\u001b[90m━━━━━━━━━━━━━━━━━━━━━━━━\u001b[0m \u001b[32m261.6/776.4 MB\u001b[0m \u001b[31m211.6 MB/s\u001b[0m eta \u001b[36m0:00:03\u001b[0m"
     ]
    },
    {
     "name": "stdout",
     "output_type": "stream",
     "text": [
      "\r",
      "\u001b[2K     \u001b[91m━━━━━━━━━━━━\u001b[0m\u001b[91m╸\u001b[0m\u001b[90m━━━━━━━━━━━━━━━━━━━━━━━━\u001b[0m \u001b[32m270.1/776.4 MB\u001b[0m \u001b[31m241.1 MB/s\u001b[0m eta \u001b[36m0:00:03\u001b[0m"
     ]
    },
    {
     "name": "stdout",
     "output_type": "stream",
     "text": [
      "\r",
      "\u001b[2K     \u001b[91m━━━━━━━━━━━━━\u001b[0m\u001b[90m╺\u001b[0m\u001b[90m━━━━━━━━━━━━━━━━━━━━━━━\u001b[0m \u001b[32m278.1/776.4 MB\u001b[0m \u001b[31m230.4 MB/s\u001b[0m eta \u001b[36m0:00:03\u001b[0m\r",
      "\u001b[2K     \u001b[91m━━━━━━━━━━━━━\u001b[0m\u001b[91m╸\u001b[0m\u001b[90m━━━━━━━━━━━━━━━━━━━━━━━\u001b[0m \u001b[32m284.6/776.4 MB\u001b[0m \u001b[31m204.0 MB/s\u001b[0m eta \u001b[36m0:00:03\u001b[0m"
     ]
    },
    {
     "name": "stdout",
     "output_type": "stream",
     "text": [
      "\r",
      "\u001b[2K     \u001b[91m━━━━━━━━━━━━━\u001b[0m\u001b[91m╸\u001b[0m\u001b[90m━━━━━━━━━━━━━━━━━━━━━━━\u001b[0m \u001b[32m292.8/776.4 MB\u001b[0m \u001b[31m234.4 MB/s\u001b[0m eta \u001b[36m0:00:03\u001b[0m"
     ]
    },
    {
     "name": "stdout",
     "output_type": "stream",
     "text": [
      "\r",
      "\u001b[2K     \u001b[91m━━━━━━━━━━━━━━\u001b[0m\u001b[90m╺\u001b[0m\u001b[90m━━━━━━━━━━━━━━━━━━━━━━\u001b[0m \u001b[32m300.9/776.4 MB\u001b[0m \u001b[31m241.6 MB/s\u001b[0m eta \u001b[36m0:00:02\u001b[0m"
     ]
    },
    {
     "name": "stdout",
     "output_type": "stream",
     "text": [
      "\r",
      "\u001b[2K     \u001b[91m━━━━━━━━━━━━━━\u001b[0m\u001b[91m╸\u001b[0m\u001b[90m━━━━━━━━━━━━━━━━━━━━━━\u001b[0m \u001b[32m309.2/776.4 MB\u001b[0m \u001b[31m210.6 MB/s\u001b[0m eta \u001b[36m0:00:03\u001b[0m\r",
      "\u001b[2K     \u001b[91m━━━━━━━━━━━━━━━\u001b[0m\u001b[90m╺\u001b[0m\u001b[90m━━━━━━━━━━━━━━━━━━━━━\u001b[0m \u001b[32m317.6/776.4 MB\u001b[0m \u001b[31m237.4 MB/s\u001b[0m eta \u001b[36m0:00:02\u001b[0m"
     ]
    },
    {
     "name": "stdout",
     "output_type": "stream",
     "text": [
      "\r",
      "\u001b[2K     \u001b[91m━━━━━━━━━━━━━━━\u001b[0m\u001b[90m╺\u001b[0m\u001b[90m━━━━━━━━━━━━━━━━━━━━━\u001b[0m \u001b[32m324.1/776.4 MB\u001b[0m \u001b[31m202.3 MB/s\u001b[0m eta \u001b[36m0:00:03\u001b[0m"
     ]
    },
    {
     "name": "stdout",
     "output_type": "stream",
     "text": [
      "\r",
      "\u001b[2K     \u001b[91m━━━━━━━━━━━━━━━\u001b[0m\u001b[91m╸\u001b[0m\u001b[90m━━━━━━━━━━━━━━━━━━━━━\u001b[0m \u001b[32m332.9/776.4 MB\u001b[0m \u001b[31m242.2 MB/s\u001b[0m eta \u001b[36m0:00:02\u001b[0m\r",
      "\u001b[2K     \u001b[91m━━━━━━━━━━━━━━━━\u001b[0m\u001b[90m╺\u001b[0m\u001b[90m━━━━━━━━━━━━━━━━━━━━\u001b[0m \u001b[32m341.7/776.4 MB\u001b[0m \u001b[31m250.7 MB/s\u001b[0m eta \u001b[36m0:00:02\u001b[0m"
     ]
    },
    {
     "name": "stdout",
     "output_type": "stream",
     "text": [
      "\r",
      "\u001b[2K     \u001b[91m━━━━━━━━━━━━━━━━\u001b[0m\u001b[91m╸\u001b[0m\u001b[90m━━━━━━━━━━━━━━━━━━━━\u001b[0m \u001b[32m349.1/776.4 MB\u001b[0m \u001b[31m220.4 MB/s\u001b[0m eta \u001b[36m0:00:02\u001b[0m"
     ]
    },
    {
     "name": "stdout",
     "output_type": "stream",
     "text": [
      "\r",
      "\u001b[2K     \u001b[91m━━━━━━━━━━━━━━━━━\u001b[0m\u001b[90m╺\u001b[0m\u001b[90m━━━━━━━━━━━━━━━━━━━\u001b[0m \u001b[32m358.0/776.4 MB\u001b[0m \u001b[31m249.8 MB/s\u001b[0m eta \u001b[36m0:00:02\u001b[0m"
     ]
    },
    {
     "name": "stdout",
     "output_type": "stream",
     "text": [
      "\r",
      "\u001b[2K     \u001b[91m━━━━━━━━━━━━━━━━━\u001b[0m\u001b[90m╺\u001b[0m\u001b[90m━━━━━━━━━━━━━━━━━━━\u001b[0m \u001b[32m366.9/776.4 MB\u001b[0m \u001b[31m250.5 MB/s\u001b[0m eta \u001b[36m0:00:02\u001b[0m\r",
      "\u001b[2K     \u001b[91m━━━━━━━━━━━━━━━━━\u001b[0m\u001b[91m╸\u001b[0m\u001b[90m━━━━━━━━━━━━━━━━━━━\u001b[0m \u001b[32m373.4/776.4 MB\u001b[0m \u001b[31m204.7 MB/s\u001b[0m eta \u001b[36m0:00:02\u001b[0m"
     ]
    },
    {
     "name": "stdout",
     "output_type": "stream",
     "text": [
      "\r",
      "\u001b[2K     \u001b[91m━━━━━━━━━━━━━━━━━━\u001b[0m\u001b[90m╺\u001b[0m\u001b[90m━━━━━━━━━━━━━━━━━━\u001b[0m \u001b[32m382.3/776.4 MB\u001b[0m \u001b[31m248.0 MB/s\u001b[0m eta \u001b[36m0:00:02\u001b[0m"
     ]
    },
    {
     "name": "stdout",
     "output_type": "stream",
     "text": [
      "\r",
      "\u001b[2K     \u001b[91m━━━━━━━━━━━━━━━━━━\u001b[0m\u001b[90m╺\u001b[0m\u001b[90m━━━━━━━━━━━━━━━━━━\u001b[0m \u001b[32m388.1/776.4 MB\u001b[0m \u001b[31m198.0 MB/s\u001b[0m eta \u001b[36m0:00:02\u001b[0m\r",
      "\u001b[2K     \u001b[91m━━━━━━━━━━━━━━━━━━\u001b[0m\u001b[91m╸\u001b[0m\u001b[90m━━━━━━━━━━━━━━━━━━\u001b[0m \u001b[32m396.7/776.4 MB\u001b[0m \u001b[31m204.6 MB/s\u001b[0m eta \u001b[36m0:00:02\u001b[0m"
     ]
    },
    {
     "name": "stdout",
     "output_type": "stream",
     "text": [
      "\r",
      "\u001b[2K     \u001b[91m━━━━━━━━━━━━━━━━━━━\u001b[0m\u001b[90m╺\u001b[0m\u001b[90m━━━━━━━━━━━━━━━━━\u001b[0m \u001b[32m405.1/776.4 MB\u001b[0m \u001b[31m241.9 MB/s\u001b[0m eta \u001b[36m0:00:02\u001b[0m"
     ]
    },
    {
     "name": "stdout",
     "output_type": "stream",
     "text": [
      "\r",
      "\u001b[2K     \u001b[91m━━━━━━━━━━━━━━━━━━━\u001b[0m\u001b[91m╸\u001b[0m\u001b[90m━━━━━━━━━━━━━━━━━\u001b[0m \u001b[32m411.5/776.4 MB\u001b[0m \u001b[31m202.3 MB/s\u001b[0m eta \u001b[36m0:00:02\u001b[0m"
     ]
    },
    {
     "name": "stdout",
     "output_type": "stream",
     "text": [
      "\r",
      "\u001b[2K     \u001b[91m━━━━━━━━━━━━━━━━━━━\u001b[0m\u001b[91m╸\u001b[0m\u001b[90m━━━━━━━━━━━━━━━━━\u001b[0m \u001b[32m417.9/776.4 MB\u001b[0m \u001b[31m172.6 MB/s\u001b[0m eta \u001b[36m0:00:03\u001b[0m\r",
      "\u001b[2K     \u001b[91m━━━━━━━━━━━━━━━━━━━━\u001b[0m\u001b[90m╺\u001b[0m\u001b[90m━━━━━━━━━━━━━━━━\u001b[0m \u001b[32m426.5/776.4 MB\u001b[0m \u001b[31m231.1 MB/s\u001b[0m eta \u001b[36m0:00:02\u001b[0m"
     ]
    },
    {
     "name": "stdout",
     "output_type": "stream",
     "text": [
      "\r",
      "\u001b[2K     \u001b[91m━━━━━━━━━━━━━━━━━━━━\u001b[0m\u001b[91m╸\u001b[0m\u001b[90m━━━━━━━━━━━━━━━━\u001b[0m \u001b[32m434.7/776.4 MB\u001b[0m \u001b[31m234.8 MB/s\u001b[0m eta \u001b[36m0:00:02\u001b[0m"
     ]
    },
    {
     "name": "stdout",
     "output_type": "stream",
     "text": [
      "\r",
      "\u001b[2K     \u001b[91m━━━━━━━━━━━━━━━━━━━━━\u001b[0m\u001b[90m╺\u001b[0m\u001b[90m━━━━━━━━━━━━━━━\u001b[0m \u001b[32m442.5/776.4 MB\u001b[0m \u001b[31m223.6 MB/s\u001b[0m eta \u001b[36m0:00:02\u001b[0m\r",
      "\u001b[2K     \u001b[91m━━━━━━━━━━━━━━━━━━━━━\u001b[0m\u001b[91m╸\u001b[0m\u001b[90m━━━━━━━━━━━━━━━\u001b[0m \u001b[32m451.5/776.4 MB\u001b[0m \u001b[31m258.0 MB/s\u001b[0m eta \u001b[36m0:00:02\u001b[0m"
     ]
    },
    {
     "name": "stdout",
     "output_type": "stream",
     "text": [
      "\r",
      "\u001b[2K     \u001b[91m━━━━━━━━━━━━━━━━━━━━━\u001b[0m\u001b[91m╸\u001b[0m\u001b[90m━━━━━━━━━━━━━━━\u001b[0m \u001b[32m459.6/776.4 MB\u001b[0m \u001b[31m235.5 MB/s\u001b[0m eta \u001b[36m0:00:02\u001b[0m"
     ]
    },
    {
     "name": "stdout",
     "output_type": "stream",
     "text": [
      "\r",
      "\u001b[2K     \u001b[91m━━━━━━━━━━━━━━━━━━━━━━\u001b[0m\u001b[90m╺\u001b[0m\u001b[90m━━━━━━━━━━━━━━\u001b[0m \u001b[32m468.2/776.4 MB\u001b[0m \u001b[31m247.7 MB/s\u001b[0m eta \u001b[36m0:00:02\u001b[0m\r",
      "\u001b[2K     \u001b[91m━━━━━━━━━━━━━━━━━━━━━━\u001b[0m\u001b[91m╸\u001b[0m\u001b[90m━━━━━━━━━━━━━━\u001b[0m \u001b[32m477.0/776.4 MB\u001b[0m \u001b[31m254.4 MB/s\u001b[0m eta \u001b[36m0:00:02\u001b[0m"
     ]
    },
    {
     "name": "stdout",
     "output_type": "stream",
     "text": [
      "\r",
      "\u001b[2K     \u001b[91m━━━━━━━━━━━━━━━━━━━━━━━\u001b[0m\u001b[90m╺\u001b[0m\u001b[90m━━━━━━━━━━━━━\u001b[0m \u001b[32m483.0/776.4 MB\u001b[0m \u001b[31m200.3 MB/s\u001b[0m eta \u001b[36m0:00:02\u001b[0m"
     ]
    },
    {
     "name": "stdout",
     "output_type": "stream",
     "text": [
      "\r",
      "\u001b[2K     \u001b[91m━━━━━━━━━━━━━━━━━━━━━━━\u001b[0m\u001b[90m╺\u001b[0m\u001b[90m━━━━━━━━━━━━━\u001b[0m \u001b[32m490.4/776.4 MB\u001b[0m \u001b[31m210.1 MB/s\u001b[0m eta \u001b[36m0:00:02\u001b[0m\r",
      "\u001b[2K     \u001b[91m━━━━━━━━━━━━━━━━━━━━━━━\u001b[0m\u001b[91m╸\u001b[0m\u001b[90m━━━━━━━━━━━━━\u001b[0m \u001b[32m496.7/776.4 MB\u001b[0m \u001b[31m209.0 MB/s\u001b[0m eta \u001b[36m0:00:02\u001b[0m"
     ]
    },
    {
     "name": "stdout",
     "output_type": "stream",
     "text": [
      "\r",
      "\u001b[2K     \u001b[91m━━━━━━━━━━━━━━━━━━━━━━━━\u001b[0m\u001b[90m╺\u001b[0m\u001b[90m━━━━━━━━━━━━\u001b[0m \u001b[32m504.5/776.4 MB\u001b[0m \u001b[31m181.2 MB/s\u001b[0m eta \u001b[36m0:00:02\u001b[0m"
     ]
    },
    {
     "name": "stdout",
     "output_type": "stream",
     "text": [
      "\r",
      "\u001b[2K     \u001b[91m━━━━━━━━━━━━━━━━━━━━━━━━\u001b[0m\u001b[90m╺\u001b[0m\u001b[90m━━━━━━━━━━━━\u001b[0m \u001b[32m513.5/776.4 MB\u001b[0m \u001b[31m239.3 MB/s\u001b[0m eta \u001b[36m0:00:02\u001b[0m"
     ]
    },
    {
     "name": "stdout",
     "output_type": "stream",
     "text": [
      "\r",
      "\u001b[2K     \u001b[91m━━━━━━━━━━━━━━━━━━━━━━━━\u001b[0m\u001b[91m╸\u001b[0m\u001b[90m━━━━━━━━━━━━\u001b[0m \u001b[32m521.0/776.4 MB\u001b[0m \u001b[31m222.4 MB/s\u001b[0m eta \u001b[36m0:00:02\u001b[0m\r",
      "\u001b[2K     \u001b[91m━━━━━━━━━━━━━━━━━━━━━━━━━\u001b[0m\u001b[90m╺\u001b[0m\u001b[90m━━━━━━━━━━━\u001b[0m \u001b[32m527.9/776.4 MB\u001b[0m \u001b[31m188.3 MB/s\u001b[0m eta \u001b[36m0:00:02\u001b[0m"
     ]
    },
    {
     "name": "stdout",
     "output_type": "stream",
     "text": [
      "\r",
      "\u001b[2K     \u001b[91m━━━━━━━━━━━━━━━━━━━━━━━━━\u001b[0m\u001b[91m╸\u001b[0m\u001b[90m━━━━━━━━━━━\u001b[0m \u001b[32m536.7/776.4 MB\u001b[0m \u001b[31m253.5 MB/s\u001b[0m eta \u001b[36m0:00:01\u001b[0m"
     ]
    },
    {
     "name": "stdout",
     "output_type": "stream",
     "text": [
      "\r",
      "\u001b[2K     \u001b[91m━━━━━━━━━━━━━━━━━━━━━━━━━\u001b[0m\u001b[91m╸\u001b[0m\u001b[90m━━━━━━━━━━━\u001b[0m \u001b[32m542.8/776.4 MB\u001b[0m \u001b[31m196.6 MB/s\u001b[0m eta \u001b[36m0:00:02\u001b[0m\r",
      "\u001b[2K     \u001b[91m━━━━━━━━━━━━━━━━━━━━━━━━━━\u001b[0m\u001b[90m╺\u001b[0m\u001b[90m━━━━━━━━━━\u001b[0m \u001b[32m550.8/776.4 MB\u001b[0m \u001b[31m204.3 MB/s\u001b[0m eta \u001b[36m0:00:02\u001b[0m"
     ]
    },
    {
     "name": "stdout",
     "output_type": "stream",
     "text": [
      "\r",
      "\u001b[2K     \u001b[91m━━━━━━━━━━━━━━━━━━━━━━━━━━\u001b[0m\u001b[91m╸\u001b[0m\u001b[90m━━━━━━━━━━\u001b[0m \u001b[32m559.8/776.4 MB\u001b[0m \u001b[31m253.7 MB/s\u001b[0m eta \u001b[36m0:00:01\u001b[0m"
     ]
    },
    {
     "name": "stdout",
     "output_type": "stream",
     "text": [
      "\r",
      "\u001b[2K     \u001b[91m━━━━━━━━━━━━━━━━━━━━━━━━━━━\u001b[0m\u001b[90m╺\u001b[0m\u001b[90m━━━━━━━━━\u001b[0m \u001b[32m568.4/776.4 MB\u001b[0m \u001b[31m247.4 MB/s\u001b[0m eta \u001b[36m0:00:01\u001b[0m"
     ]
    },
    {
     "name": "stdout",
     "output_type": "stream",
     "text": [
      "\r",
      "\u001b[2K     \u001b[91m━━━━━━━━━━━━━━━━━━━━━━━━━━━\u001b[0m\u001b[90m╺\u001b[0m\u001b[90m━━━━━━━━━\u001b[0m \u001b[32m574.7/776.4 MB\u001b[0m \u001b[31m199.3 MB/s\u001b[0m eta \u001b[36m0:00:02\u001b[0m\r",
      "\u001b[2K     \u001b[91m━━━━━━━━━━━━━━━━━━━━━━━━━━━\u001b[0m\u001b[91m╸\u001b[0m\u001b[90m━━━━━━━━━\u001b[0m \u001b[32m583.5/776.4 MB\u001b[0m \u001b[31m238.0 MB/s\u001b[0m eta \u001b[36m0:00:01\u001b[0m"
     ]
    },
    {
     "name": "stdout",
     "output_type": "stream",
     "text": [
      "\r",
      "\u001b[2K     \u001b[91m━━━━━━━━━━━━━━━━━━━━━━━━━━━━\u001b[0m\u001b[90m╺\u001b[0m\u001b[90m━━━━━━━━\u001b[0m \u001b[32m592.5/776.4 MB\u001b[0m \u001b[31m246.3 MB/s\u001b[0m eta \u001b[36m0:00:01\u001b[0m"
     ]
    },
    {
     "name": "stdout",
     "output_type": "stream",
     "text": [
      "\r",
      "\u001b[2K     \u001b[91m━━━━━━━━━━━━━━━━━━━━━━━━━━━━\u001b[0m\u001b[91m╸\u001b[0m\u001b[90m━━━━━━━━\u001b[0m \u001b[32m601.5/776.4 MB\u001b[0m \u001b[31m252.2 MB/s\u001b[0m eta \u001b[36m0:00:01\u001b[0m\r",
      "\u001b[2K     \u001b[91m━━━━━━━━━━━━━━━━━━━━━━━━━━━━\u001b[0m\u001b[91m╸\u001b[0m\u001b[90m━━━━━━━━\u001b[0m \u001b[32m606.5/776.4 MB\u001b[0m \u001b[31m185.8 MB/s\u001b[0m eta \u001b[36m0:00:01\u001b[0m"
     ]
    },
    {
     "name": "stdout",
     "output_type": "stream",
     "text": [
      "\r",
      "\u001b[2K     \u001b[91m━━━━━━━━━━━━━━━━━━━━━━━━━━━━━\u001b[0m\u001b[90m╺\u001b[0m\u001b[90m━━━━━━━\u001b[0m \u001b[32m613.1/776.4 MB\u001b[0m \u001b[31m161.6 MB/s\u001b[0m eta \u001b[36m0:00:02\u001b[0m"
     ]
    },
    {
     "name": "stdout",
     "output_type": "stream",
     "text": [
      "\r",
      "\u001b[2K     \u001b[91m━━━━━━━━━━━━━━━━━━━━━━━━━━━━━\u001b[0m\u001b[91m╸\u001b[0m\u001b[90m━━━━━━━\u001b[0m \u001b[32m619.9/776.4 MB\u001b[0m \u001b[31m195.3 MB/s\u001b[0m eta \u001b[36m0:00:01\u001b[0m\r",
      "\u001b[2K     \u001b[91m━━━━━━━━━━━━━━━━━━━━━━━━━━━━━\u001b[0m\u001b[91m╸\u001b[0m\u001b[90m━━━━━━━\u001b[0m \u001b[32m627.3/776.4 MB\u001b[0m \u001b[31m207.3 MB/s\u001b[0m eta \u001b[36m0:00:01\u001b[0m"
     ]
    },
    {
     "name": "stdout",
     "output_type": "stream",
     "text": [
      "\r",
      "\u001b[2K     \u001b[91m━━━━━━━━━━━━━━━━━━━━━━━━━━━━━━\u001b[0m\u001b[90m╺\u001b[0m\u001b[90m━━━━━━\u001b[0m \u001b[32m635.8/776.4 MB\u001b[0m \u001b[31m241.4 MB/s\u001b[0m eta \u001b[36m0:00:01\u001b[0m"
     ]
    },
    {
     "name": "stdout",
     "output_type": "stream",
     "text": [
      "\r",
      "\u001b[2K     \u001b[91m━━━━━━━━━━━━━━━━━━━━━━━━━━━━━━\u001b[0m\u001b[91m╸\u001b[0m\u001b[90m━━━━━━\u001b[0m \u001b[32m644.4/776.4 MB\u001b[0m \u001b[31m244.0 MB/s\u001b[0m eta \u001b[36m0:00:01\u001b[0m"
     ]
    },
    {
     "name": "stdout",
     "output_type": "stream",
     "text": [
      "\r",
      "\u001b[2K     \u001b[91m━━━━━━━━━━━━━━━━━━━━━━━━━━━━━━\u001b[0m\u001b[91m╸\u001b[0m\u001b[90m━━━━━━\u001b[0m \u001b[32m648.4/776.4 MB\u001b[0m \u001b[31m198.8 MB/s\u001b[0m eta \u001b[36m0:00:01\u001b[0m\r",
      "\u001b[2K     \u001b[91m━━━━━━━━━━━━━━━━━━━━━━━━━━━━━━━\u001b[0m\u001b[90m╺\u001b[0m\u001b[90m━━━━━\u001b[0m \u001b[32m653.3/776.4 MB\u001b[0m \u001b[31m134.4 MB/s\u001b[0m eta \u001b[36m0:00:01\u001b[0m"
     ]
    },
    {
     "name": "stdout",
     "output_type": "stream",
     "text": [
      "\r",
      "\u001b[2K     \u001b[91m━━━━━━━━━━━━━━━━━━━━━━━━━━━━━━━\u001b[0m\u001b[91m╸\u001b[0m\u001b[90m━━━━━\u001b[0m \u001b[32m661.5/776.4 MB\u001b[0m \u001b[31m223.1 MB/s\u001b[0m eta \u001b[36m0:00:01\u001b[0m"
     ]
    },
    {
     "name": "stdout",
     "output_type": "stream",
     "text": [
      "\r",
      "\u001b[2K     \u001b[91m━━━━━━━━━━━━━━━━━━━━━━━━━━━━━━━\u001b[0m\u001b[91m╸\u001b[0m\u001b[90m━━━━━\u001b[0m \u001b[32m670.0/776.4 MB\u001b[0m \u001b[31m243.0 MB/s\u001b[0m eta \u001b[36m0:00:01\u001b[0m\r",
      "\u001b[2K     \u001b[91m━━━━━━━━━━━━━━━━━━━━━━━━━━━━━━━━\u001b[0m\u001b[90m╺\u001b[0m\u001b[90m━━━━\u001b[0m \u001b[32m677.3/776.4 MB\u001b[0m \u001b[31m212.6 MB/s\u001b[0m eta \u001b[36m0:00:01\u001b[0m"
     ]
    },
    {
     "name": "stdout",
     "output_type": "stream",
     "text": [
      "\r",
      "\u001b[2K     \u001b[91m━━━━━━━━━━━━━━━━━━━━━━━━━━━━━━━━\u001b[0m\u001b[90m╺\u001b[0m\u001b[90m━━━━\u001b[0m \u001b[32m678.2/776.4 MB\u001b[0m \u001b[31m131.1 MB/s\u001b[0m eta \u001b[36m0:00:01\u001b[0m"
     ]
    },
    {
     "name": "stdout",
     "output_type": "stream",
     "text": [
      "\r",
      "\u001b[2K     \u001b[91m━━━━━━━━━━━━━━━━━━━━━━━━━━━━━━━━\u001b[0m\u001b[90m╺\u001b[0m\u001b[90m━━━━\u001b[0m \u001b[32m678.9/776.4 MB\u001b[0m \u001b[31m103.2 MB/s\u001b[0m eta \u001b[36m0:00:01\u001b[0m\r",
      "\u001b[2K     \u001b[91m━━━━━━━━━━━━━━━━━━━━━━━━━━━━━━━━━\u001b[0m\u001b[90m╺\u001b[0m\u001b[90m━━━━\u001b[0m \u001b[32m680.4/776.4 MB\u001b[0m \u001b[31m73.9 MB/s\u001b[0m eta \u001b[36m0:00:02\u001b[0m"
     ]
    },
    {
     "name": "stdout",
     "output_type": "stream",
     "text": [
      "\r",
      "\u001b[2K     \u001b[91m━━━━━━━━━━━━━━━━━━━━━━━━━━━━━━━━━\u001b[0m\u001b[90m╺\u001b[0m\u001b[90m━━━━\u001b[0m \u001b[32m681.8/776.4 MB\u001b[0m \u001b[31m60.6 MB/s\u001b[0m eta \u001b[36m0:00:02\u001b[0m"
     ]
    },
    {
     "name": "stdout",
     "output_type": "stream",
     "text": [
      "\r",
      "\u001b[2K     \u001b[91m━━━━━━━━━━━━━━━━━━━━━━━━━━━━━━━━━\u001b[0m\u001b[90m╺\u001b[0m\u001b[90m━━━━\u001b[0m \u001b[32m683.2/776.4 MB\u001b[0m \u001b[31m51.4 MB/s\u001b[0m eta \u001b[36m0:00:02\u001b[0m"
     ]
    },
    {
     "name": "stdout",
     "output_type": "stream",
     "text": [
      "\r",
      "\u001b[2K     \u001b[91m━━━━━━━━━━━━━━━━━━━━━━━━━━━━━━━━━\u001b[0m\u001b[90m╺\u001b[0m\u001b[90m━━━━\u001b[0m \u001b[32m684.1/776.4 MB\u001b[0m \u001b[31m44.4 MB/s\u001b[0m eta \u001b[36m0:00:03\u001b[0m\r",
      "\u001b[2K     \u001b[91m━━━━━━━━━━━━━━━━━━━━━━━━━━━━━━━━━\u001b[0m\u001b[91m╸\u001b[0m\u001b[90m━━━━\u001b[0m \u001b[32m684.8/776.4 MB\u001b[0m \u001b[31m39.9 MB/s\u001b[0m eta \u001b[36m0:00:03\u001b[0m"
     ]
    },
    {
     "name": "stdout",
     "output_type": "stream",
     "text": [
      "\r",
      "\u001b[2K     \u001b[91m━━━━━━━━━━━━━━━━━━━━━━━━━━━━━━━━━\u001b[0m\u001b[91m╸\u001b[0m\u001b[90m━━━━\u001b[0m \u001b[32m685.3/776.4 MB\u001b[0m \u001b[31m36.3 MB/s\u001b[0m eta \u001b[36m0:00:03\u001b[0m"
     ]
    },
    {
     "name": "stdout",
     "output_type": "stream",
     "text": [
      "\r",
      "\u001b[2K     \u001b[91m━━━━━━━━━━━━━━━━━━━━━━━━━━━━━━━━━\u001b[0m\u001b[91m╸\u001b[0m\u001b[90m━━━━\u001b[0m \u001b[32m687.5/776.4 MB\u001b[0m \u001b[31m32.3 MB/s\u001b[0m eta \u001b[36m0:00:03\u001b[0m\r",
      "\u001b[2K     \u001b[91m━━━━━━━━━━━━━━━━━━━━━━━━━━━━━━━━━\u001b[0m\u001b[91m╸\u001b[0m\u001b[90m━━━━\u001b[0m \u001b[32m688.4/776.4 MB\u001b[0m \u001b[31m32.1 MB/s\u001b[0m eta \u001b[36m0:00:03\u001b[0m"
     ]
    },
    {
     "name": "stdout",
     "output_type": "stream",
     "text": [
      "\r",
      "\u001b[2K     \u001b[91m━━━━━━━━━━━━━━━━━━━━━━━━━━━━━━━━━\u001b[0m\u001b[91m╸\u001b[0m\u001b[90m━━━━\u001b[0m \u001b[32m688.4/776.4 MB\u001b[0m \u001b[31m32.1 MB/s\u001b[0m eta \u001b[36m0:00:03\u001b[0m"
     ]
    },
    {
     "name": "stdout",
     "output_type": "stream",
     "text": [
      "\r",
      "\u001b[2K     \u001b[91m━━━━━━━━━━━━━━━━━━━━━━━━━━━━━━━━━\u001b[0m\u001b[91m╸\u001b[0m\u001b[90m━━━━\u001b[0m \u001b[32m688.4/776.4 MB\u001b[0m \u001b[31m32.1 MB/s\u001b[0m eta \u001b[36m0:00:03\u001b[0m\r",
      "\u001b[2K     \u001b[91m━━━━━━━━━━━━━━━━━━━━━━━━━━━━━━━━━\u001b[0m\u001b[91m╸\u001b[0m\u001b[90m━━━━\u001b[0m \u001b[32m689.0/776.4 MB\u001b[0m \u001b[31m25.3 MB/s\u001b[0m eta \u001b[36m0:00:04\u001b[0m"
     ]
    },
    {
     "name": "stdout",
     "output_type": "stream",
     "text": [
      "\r",
      "\u001b[2K     \u001b[91m━━━━━━━━━━━━━━━━━━━━━━━━━━━━━━━━━\u001b[0m\u001b[91m╸\u001b[0m\u001b[90m━━━━\u001b[0m \u001b[32m689.2/776.4 MB\u001b[0m \u001b[31m27.8 MB/s\u001b[0m eta \u001b[36m0:00:04\u001b[0m"
     ]
    },
    {
     "name": "stdout",
     "output_type": "stream",
     "text": [
      "\r",
      "\u001b[2K     \u001b[91m━━━━━━━━━━━━━━━━━━━━━━━━━━━━━━━━━\u001b[0m\u001b[91m╸\u001b[0m\u001b[90m━━━━\u001b[0m \u001b[32m689.5/776.4 MB\u001b[0m \u001b[31m24.5 MB/s\u001b[0m eta \u001b[36m0:00:04\u001b[0m"
     ]
    },
    {
     "name": "stdout",
     "output_type": "stream",
     "text": [
      "\r",
      "\u001b[2K     \u001b[91m━━━━━━━━━━━━━━━━━━━━━━━━━━━━━━━━━\u001b[0m\u001b[91m╸\u001b[0m\u001b[90m━━━━\u001b[0m \u001b[32m690.7/776.4 MB\u001b[0m \u001b[31m22.3 MB/s\u001b[0m eta \u001b[36m0:00:04\u001b[0m\r",
      "\u001b[2K     \u001b[91m━━━━━━━━━━━━━━━━━━━━━━━━━━━━━━━━━\u001b[0m\u001b[91m╸\u001b[0m\u001b[90m━━━━\u001b[0m \u001b[32m693.0/776.4 MB\u001b[0m \u001b[31m23.7 MB/s\u001b[0m eta \u001b[36m0:00:04\u001b[0m"
     ]
    },
    {
     "name": "stdout",
     "output_type": "stream",
     "text": [
      "\r",
      "\u001b[2K     \u001b[91m━━━━━━━━━━━━━━━━━━━━━━━━━━━━━━━━━━\u001b[0m\u001b[90m╺\u001b[0m\u001b[90m━━━\u001b[0m \u001b[32m697.6/776.4 MB\u001b[0m \u001b[31m31.9 MB/s\u001b[0m eta \u001b[36m0:00:03\u001b[0m"
     ]
    },
    {
     "name": "stdout",
     "output_type": "stream",
     "text": [
      "\r",
      "\u001b[2K     \u001b[91m━━━━━━━━━━━━━━━━━━━━━━━━━━━━━━━━━━\u001b[0m\u001b[90m╺\u001b[0m\u001b[90m━━━\u001b[0m \u001b[32m698.7/776.4 MB\u001b[0m \u001b[31m31.9 MB/s\u001b[0m eta \u001b[36m0:00:03\u001b[0m\r",
      "\u001b[2K     \u001b[91m━━━━━━━━━━━━━━━━━━━━━━━━━━━━━━━━━━\u001b[0m\u001b[90m╺\u001b[0m\u001b[90m━━━\u001b[0m \u001b[32m699.1/776.4 MB\u001b[0m \u001b[31m43.9 MB/s\u001b[0m eta \u001b[36m0:00:02\u001b[0m"
     ]
    },
    {
     "name": "stdout",
     "output_type": "stream",
     "text": [
      "\r",
      "\u001b[2K     \u001b[91m━━━━━━━━━━━━━━━━━━━━━━━━━━━━━━━━━━\u001b[0m\u001b[90m╺\u001b[0m\u001b[90m━━━\u001b[0m \u001b[32m702.2/776.4 MB\u001b[0m \u001b[31m67.7 MB/s\u001b[0m eta \u001b[36m0:00:02\u001b[0m"
     ]
    },
    {
     "name": "stdout",
     "output_type": "stream",
     "text": [
      "\r",
      "\u001b[2K     \u001b[91m━━━━━━━━━━━━━━━━━━━━━━━━━━━━━━━━━━\u001b[0m\u001b[91m╸\u001b[0m\u001b[90m━━━\u001b[0m \u001b[32m706.1/776.4 MB\u001b[0m \u001b[31m62.0 MB/s\u001b[0m eta \u001b[36m0:00:02\u001b[0m\r",
      "\u001b[2K     \u001b[91m━━━━━━━━━━━━━━━━━━━━━━━━━━━━━━━━━\u001b[0m\u001b[91m╸\u001b[0m\u001b[90m━━━\u001b[0m \u001b[32m712.6/776.4 MB\u001b[0m \u001b[31m161.6 MB/s\u001b[0m eta \u001b[36m0:00:01\u001b[0m"
     ]
    },
    {
     "name": "stdout",
     "output_type": "stream",
     "text": [
      "\r",
      "\u001b[2K     \u001b[91m━━━━━━━━━━━━━━━━━━━━━━━━━━━━━━━━━\u001b[0m\u001b[91m╸\u001b[0m\u001b[90m━━━\u001b[0m \u001b[32m712.6/776.4 MB\u001b[0m \u001b[31m161.6 MB/s\u001b[0m eta \u001b[36m0:00:01\u001b[0m"
     ]
    },
    {
     "name": "stdout",
     "output_type": "stream",
     "text": [
      "\r",
      "\u001b[2K     \u001b[91m━━━━━━━━━━━━━━━━━━━━━━━━━━━━━━━━━━\u001b[0m\u001b[91m╸\u001b[0m\u001b[90m━━━\u001b[0m \u001b[32m713.9/776.4 MB\u001b[0m \u001b[31m85.0 MB/s\u001b[0m eta \u001b[36m0:00:01\u001b[0m\r",
      "\u001b[2K     \u001b[91m━━━━━━━━━━━━━━━━━━━━━━━━━━━━━━━━━━━\u001b[0m\u001b[90m╺\u001b[0m\u001b[90m━━\u001b[0m \u001b[32m718.2/776.4 MB\u001b[0m \u001b[31m77.3 MB/s\u001b[0m eta \u001b[36m0:00:01\u001b[0m"
     ]
    },
    {
     "name": "stdout",
     "output_type": "stream",
     "text": [
      "\r",
      "\u001b[2K     \u001b[91m━━━━━━━━━━━━━━━━━━━━━━━━━━━━━━━━━━\u001b[0m\u001b[90m╺\u001b[0m\u001b[90m━━\u001b[0m \u001b[32m723.6/776.4 MB\u001b[0m \u001b[31m135.1 MB/s\u001b[0m eta \u001b[36m0:00:01\u001b[0m"
     ]
    },
    {
     "name": "stdout",
     "output_type": "stream",
     "text": [
      "\r",
      "\u001b[2K     \u001b[91m━━━━━━━━━━━━━━━━━━━━━━━━━━━━━━━━━━\u001b[0m\u001b[91m╸\u001b[0m\u001b[90m━━\u001b[0m \u001b[32m731.6/776.4 MB\u001b[0m \u001b[31m198.5 MB/s\u001b[0m eta \u001b[36m0:00:01\u001b[0m"
     ]
    },
    {
     "name": "stdout",
     "output_type": "stream",
     "text": [
      "\r",
      "\u001b[2K     \u001b[91m━━━━━━━━━━━━━━━━━━━━━━━━━━━━━━━━━━━\u001b[0m\u001b[90m╺\u001b[0m\u001b[90m━\u001b[0m \u001b[32m737.2/776.4 MB\u001b[0m \u001b[31m186.7 MB/s\u001b[0m eta \u001b[36m0:00:01\u001b[0m\r",
      "\u001b[2K     \u001b[91m━━━━━━━━━━━━━━━━━━━━━━━━━━━━━━━━━━━\u001b[0m\u001b[90m╺\u001b[0m\u001b[90m━\u001b[0m \u001b[32m744.4/776.4 MB\u001b[0m \u001b[31m185.4 MB/s\u001b[0m eta \u001b[36m0:00:01\u001b[0m"
     ]
    },
    {
     "name": "stdout",
     "output_type": "stream",
     "text": [
      "\r",
      "\u001b[2K     \u001b[91m━━━━━━━━━━━━━━━━━━━━━━━━━━━━━━━━━━━\u001b[0m\u001b[91m╸\u001b[0m\u001b[90m━\u001b[0m \u001b[32m751.0/776.4 MB\u001b[0m \u001b[31m195.7 MB/s\u001b[0m eta \u001b[36m0:00:01\u001b[0m"
     ]
    },
    {
     "name": "stdout",
     "output_type": "stream",
     "text": [
      "\r",
      "\u001b[2K     \u001b[91m━━━━━━━━━━━━━━━━━━━━━━━━━━━━━━━━━━━━\u001b[0m\u001b[90m╺\u001b[0m \u001b[32m759.3/776.4 MB\u001b[0m \u001b[31m229.8 MB/s\u001b[0m eta \u001b[36m0:00:01\u001b[0m\r",
      "\u001b[2K     \u001b[91m━━━━━━━━━━━━━━━━━━━━━━━━━━━━━━━━━━━━\u001b[0m\u001b[91m╸\u001b[0m \u001b[32m766.7/776.4 MB\u001b[0m \u001b[31m215.4 MB/s\u001b[0m eta \u001b[36m0:00:01\u001b[0m"
     ]
    },
    {
     "name": "stdout",
     "output_type": "stream",
     "text": [
      "\r",
      "\u001b[2K     \u001b[91m━━━━━━━━━━━━━━━━━━━━━━━━━━━━━━━━━━━━\u001b[0m\u001b[91m╸\u001b[0m \u001b[32m773.0/776.4 MB\u001b[0m \u001b[31m201.2 MB/s\u001b[0m eta \u001b[36m0:00:01\u001b[0m"
     ]
    },
    {
     "name": "stdout",
     "output_type": "stream",
     "text": [
      "\r",
      "\u001b[2K     \u001b[91m━━━━━━━━━━━━━━━━━━━━━━━━━━━━━━━━━━━━\u001b[0m\u001b[91m╸\u001b[0m \u001b[32m776.3/776.4 MB\u001b[0m \u001b[31m197.3 MB/s\u001b[0m eta \u001b[36m0:00:01\u001b[0m"
     ]
    },
    {
     "name": "stdout",
     "output_type": "stream",
     "text": [
      "\r",
      "\u001b[2K     \u001b[91m━━━━━━━━━━━━━━━━━━━━━━━━━━━━━━━━━━━━\u001b[0m\u001b[91m╸\u001b[0m \u001b[32m776.3/776.4 MB\u001b[0m \u001b[31m197.3 MB/s\u001b[0m eta \u001b[36m0:00:01\u001b[0m\r",
      "\u001b[2K     \u001b[91m━━━━━━━━━━━━━━━━━━━━━━━━━━━━━━━━━━━━\u001b[0m\u001b[91m╸\u001b[0m \u001b[32m776.3/776.4 MB\u001b[0m \u001b[31m197.3 MB/s\u001b[0m eta \u001b[36m0:00:01\u001b[0m"
     ]
    },
    {
     "name": "stdout",
     "output_type": "stream",
     "text": [
      "\r",
      "\u001b[2K     \u001b[91m━━━━━━━━━━━━━━━━━━━━━━━━━━━━━━━━━━━━\u001b[0m\u001b[91m╸\u001b[0m \u001b[32m776.3/776.4 MB\u001b[0m \u001b[31m197.3 MB/s\u001b[0m eta \u001b[36m0:00:01\u001b[0m"
     ]
    },
    {
     "name": "stdout",
     "output_type": "stream",
     "text": [
      "\r",
      "\u001b[2K     \u001b[91m━━━━━━━━━━━━━━━━━━━━━━━━━━━━━━━━━━━━\u001b[0m\u001b[91m╸\u001b[0m \u001b[32m776.3/776.4 MB\u001b[0m \u001b[31m197.3 MB/s\u001b[0m eta \u001b[36m0:00:01\u001b[0m\r",
      "\u001b[2K     \u001b[91m━━━━━━━━━━━━━━━━━━━━━━━━━━━━━━━━━━━━\u001b[0m\u001b[91m╸\u001b[0m \u001b[32m776.3/776.4 MB\u001b[0m \u001b[31m197.3 MB/s\u001b[0m eta \u001b[36m0:00:01\u001b[0m"
     ]
    },
    {
     "name": "stdout",
     "output_type": "stream",
     "text": [
      "\r",
      "\u001b[2K     \u001b[91m━━━━━━━━━━━━━━━━━━━━━━━━━━━━━━━━━━━━\u001b[0m\u001b[91m╸\u001b[0m \u001b[32m776.3/776.4 MB\u001b[0m \u001b[31m197.3 MB/s\u001b[0m eta \u001b[36m0:00:01\u001b[0m"
     ]
    },
    {
     "name": "stdout",
     "output_type": "stream",
     "text": [
      "\r",
      "\u001b[2K     \u001b[91m━━━━━━━━━━━━━━━━━━━━━━━━━━━━━━━━━━━━\u001b[0m\u001b[91m╸\u001b[0m \u001b[32m776.3/776.4 MB\u001b[0m \u001b[31m197.3 MB/s\u001b[0m eta \u001b[36m0:00:01\u001b[0m\r",
      "\u001b[2K     \u001b[91m━━━━━━━━━━━━━━━━━━━━━━━━━━━━━━━━━━━━\u001b[0m\u001b[91m╸\u001b[0m \u001b[32m776.3/776.4 MB\u001b[0m \u001b[31m197.3 MB/s\u001b[0m eta \u001b[36m0:00:01\u001b[0m"
     ]
    },
    {
     "name": "stdout",
     "output_type": "stream",
     "text": [
      "\r",
      "\u001b[2K     \u001b[91m━━━━━━━━━━━━━━━━━━━━━━━━━━━━━━━━━━━━\u001b[0m\u001b[91m╸\u001b[0m \u001b[32m776.3/776.4 MB\u001b[0m \u001b[31m197.3 MB/s\u001b[0m eta \u001b[36m0:00:01\u001b[0m"
     ]
    },
    {
     "name": "stdout",
     "output_type": "stream",
     "text": [
      "\r",
      "\u001b[2K     \u001b[91m━━━━━━━━━━━━━━━━━━━━━━━━━━━━━━━━━━━━\u001b[0m\u001b[91m╸\u001b[0m \u001b[32m776.3/776.4 MB\u001b[0m \u001b[31m197.3 MB/s\u001b[0m eta \u001b[36m0:00:01\u001b[0m"
     ]
    },
    {
     "name": "stdout",
     "output_type": "stream",
     "text": [
      "\r",
      "\u001b[2K     \u001b[91m━━━━━━━━━━━━━━━━━━━━━━━━━━━━━━━━━━━━\u001b[0m\u001b[91m╸\u001b[0m \u001b[32m776.3/776.4 MB\u001b[0m \u001b[31m197.3 MB/s\u001b[0m eta \u001b[36m0:00:01\u001b[0m\r",
      "\u001b[2K     \u001b[91m━━━━━━━━━━━━━━━━━━━━━━━━━━━━━━━━━━━━\u001b[0m\u001b[91m╸\u001b[0m \u001b[32m776.3/776.4 MB\u001b[0m \u001b[31m197.3 MB/s\u001b[0m eta \u001b[36m0:00:01\u001b[0m"
     ]
    },
    {
     "name": "stdout",
     "output_type": "stream",
     "text": [
      "\r",
      "\u001b[2K     \u001b[91m━━━━━━━━━━━━━━━━━━━━━━━━━━━━━━━━━━━━\u001b[0m\u001b[91m╸\u001b[0m \u001b[32m776.3/776.4 MB\u001b[0m \u001b[31m197.3 MB/s\u001b[0m eta \u001b[36m0:00:01\u001b[0m"
     ]
    },
    {
     "name": "stdout",
     "output_type": "stream",
     "text": [
      "\r",
      "\u001b[2K     \u001b[91m━━━━━━━━━━━━━━━━━━━━━━━━━━━━━━━━━━━━\u001b[0m\u001b[91m╸\u001b[0m \u001b[32m776.3/776.4 MB\u001b[0m \u001b[31m197.3 MB/s\u001b[0m eta \u001b[36m0:00:01\u001b[0m\r",
      "\u001b[2K     \u001b[91m━━━━━━━━━━━━━━━━━━━━━━━━━━━━━━━━━━━━\u001b[0m\u001b[91m╸\u001b[0m \u001b[32m776.3/776.4 MB\u001b[0m \u001b[31m197.3 MB/s\u001b[0m eta \u001b[36m0:00:01\u001b[0m"
     ]
    },
    {
     "name": "stdout",
     "output_type": "stream",
     "text": [
      "\r",
      "\u001b[2K     \u001b[91m━━━━━━━━━━━━━━━━━━━━━━━━━━━━━━━━━━━━\u001b[0m\u001b[91m╸\u001b[0m \u001b[32m776.3/776.4 MB\u001b[0m \u001b[31m197.3 MB/s\u001b[0m eta \u001b[36m0:00:01\u001b[0m"
     ]
    },
    {
     "name": "stdout",
     "output_type": "stream",
     "text": [
      "\r",
      "\u001b[2K     \u001b[91m━━━━━━━━━━━━━━━━━━━━━━━━━━━━━━━━━━━━\u001b[0m\u001b[91m╸\u001b[0m \u001b[32m776.3/776.4 MB\u001b[0m \u001b[31m197.3 MB/s\u001b[0m eta \u001b[36m0:00:01\u001b[0m\r",
      "\u001b[2K     \u001b[91m━━━━━━━━━━━━━━━━━━━━━━━━━━━━━━━━━━━━\u001b[0m\u001b[91m╸\u001b[0m \u001b[32m776.3/776.4 MB\u001b[0m \u001b[31m197.3 MB/s\u001b[0m eta \u001b[36m0:00:01\u001b[0m"
     ]
    },
    {
     "name": "stdout",
     "output_type": "stream",
     "text": [
      "\r",
      "\u001b[2K     \u001b[91m━━━━━━━━━━━━━━━━━━━━━━━━━━━━━━━━━━━━\u001b[0m\u001b[91m╸\u001b[0m \u001b[32m776.3/776.4 MB\u001b[0m \u001b[31m197.3 MB/s\u001b[0m eta \u001b[36m0:00:01\u001b[0m"
     ]
    },
    {
     "name": "stdout",
     "output_type": "stream",
     "text": [
      "\r",
      "\u001b[2K     \u001b[91m━━━━━━━━━━━━━━━━━━━━━━━━━━━━━━━━━━━━\u001b[0m\u001b[91m╸\u001b[0m \u001b[32m776.3/776.4 MB\u001b[0m \u001b[31m197.3 MB/s\u001b[0m eta \u001b[36m0:00:01\u001b[0m"
     ]
    },
    {
     "name": "stdout",
     "output_type": "stream",
     "text": [
      "\r",
      "\u001b[2K     \u001b[91m━━━━━━━━━━━━━━━━━━━━━━━━━━━━━━━━━━━━\u001b[0m\u001b[91m╸\u001b[0m \u001b[32m776.3/776.4 MB\u001b[0m \u001b[31m197.3 MB/s\u001b[0m eta \u001b[36m0:00:01\u001b[0m\r",
      "\u001b[2K     \u001b[91m━━━━━━━━━━━━━━━━━━━━━━━━━━━━━━━━━━━━\u001b[0m\u001b[91m╸\u001b[0m \u001b[32m776.3/776.4 MB\u001b[0m \u001b[31m197.3 MB/s\u001b[0m eta \u001b[36m0:00:01\u001b[0m"
     ]
    },
    {
     "name": "stdout",
     "output_type": "stream",
     "text": [
      "\r",
      "\u001b[2K     \u001b[91m━━━━━━━━━━━━━━━━━━━━━━━━━━━━━━━━━━━━\u001b[0m\u001b[91m╸\u001b[0m \u001b[32m776.3/776.4 MB\u001b[0m \u001b[31m197.3 MB/s\u001b[0m eta \u001b[36m0:00:01\u001b[0m"
     ]
    },
    {
     "name": "stdout",
     "output_type": "stream",
     "text": [
      "\r",
      "\u001b[2K     \u001b[91m━━━━━━━━━━━━━━━━━━━━━━━━━━━━━━━━━━━━\u001b[0m\u001b[91m╸\u001b[0m \u001b[32m776.3/776.4 MB\u001b[0m \u001b[31m197.3 MB/s\u001b[0m eta \u001b[36m0:00:01\u001b[0m\r",
      "\u001b[2K     \u001b[91m━━━━━━━━━━━━━━━━━━━━━━━━━━━━━━━━━━━━\u001b[0m\u001b[91m╸\u001b[0m \u001b[32m776.3/776.4 MB\u001b[0m \u001b[31m197.3 MB/s\u001b[0m eta \u001b[36m0:00:01\u001b[0m"
     ]
    },
    {
     "name": "stdout",
     "output_type": "stream",
     "text": [
      "\r",
      "\u001b[2K     \u001b[91m━━━━━━━━━━━━━━━━━━━━━━━━━━━━━━━━━━━━\u001b[0m\u001b[91m╸\u001b[0m \u001b[32m776.3/776.4 MB\u001b[0m \u001b[31m197.3 MB/s\u001b[0m eta \u001b[36m0:00:01\u001b[0m"
     ]
    },
    {
     "name": "stdout",
     "output_type": "stream",
     "text": [
      "\r",
      "\u001b[2K     \u001b[91m━━━━━━━━━━━━━━━━━━━━━━━━━━━━━━━━━━━━\u001b[0m\u001b[91m╸\u001b[0m \u001b[32m776.3/776.4 MB\u001b[0m \u001b[31m197.3 MB/s\u001b[0m eta \u001b[36m0:00:01\u001b[0m\r",
      "\u001b[2K     \u001b[91m━━━━━━━━━━━━━━━━━━━━━━━━━━━━━━━━━━━━\u001b[0m\u001b[91m╸\u001b[0m \u001b[32m776.3/776.4 MB\u001b[0m \u001b[31m197.3 MB/s\u001b[0m eta \u001b[36m0:00:01\u001b[0m"
     ]
    },
    {
     "name": "stdout",
     "output_type": "stream",
     "text": [
      "\r",
      "\u001b[2K     \u001b[91m━━━━━━━━━━━━━━━━━━━━━━━━━━━━━━━━━━━━\u001b[0m\u001b[91m╸\u001b[0m \u001b[32m776.3/776.4 MB\u001b[0m \u001b[31m197.3 MB/s\u001b[0m eta \u001b[36m0:00:01\u001b[0m"
     ]
    },
    {
     "name": "stdout",
     "output_type": "stream",
     "text": [
      "\r",
      "\u001b[2K     \u001b[91m━━━━━━━━━━━━━━━━━━━━━━━━━━━━━━━━━━━━\u001b[0m\u001b[91m╸\u001b[0m \u001b[32m776.3/776.4 MB\u001b[0m \u001b[31m197.3 MB/s\u001b[0m eta \u001b[36m0:00:01\u001b[0m\r",
      "\u001b[2K     \u001b[91m━━━━━━━━━━━━━━━━━━━━━━━━━━━━━━━━━━━━\u001b[0m\u001b[91m╸\u001b[0m \u001b[32m776.3/776.4 MB\u001b[0m \u001b[31m197.3 MB/s\u001b[0m eta \u001b[36m0:00:01\u001b[0m"
     ]
    },
    {
     "name": "stdout",
     "output_type": "stream",
     "text": [
      "\r",
      "\u001b[2K     \u001b[91m━━━━━━━━━━━━━━━━━━━━━━━━━━━━━━━━━━━━\u001b[0m\u001b[91m╸\u001b[0m \u001b[32m776.3/776.4 MB\u001b[0m \u001b[31m197.3 MB/s\u001b[0m eta \u001b[36m0:00:01\u001b[0m"
     ]
    },
    {
     "name": "stdout",
     "output_type": "stream",
     "text": [
      "\r",
      "\u001b[2K     \u001b[91m━━━━━━━━━━━━━━━━━━━━━━━━━━━━━━━━━━━━\u001b[0m\u001b[91m╸\u001b[0m \u001b[32m776.3/776.4 MB\u001b[0m \u001b[31m197.3 MB/s\u001b[0m eta \u001b[36m0:00:01\u001b[0m"
     ]
    },
    {
     "name": "stdout",
     "output_type": "stream",
     "text": [
      "\r",
      "\u001b[2K     \u001b[91m━━━━━━━━━━━━━━━━━━━━━━━━━━━━━━━━━━━━\u001b[0m\u001b[91m╸\u001b[0m \u001b[32m776.3/776.4 MB\u001b[0m \u001b[31m197.3 MB/s\u001b[0m eta \u001b[36m0:00:01\u001b[0m\r",
      "\u001b[2K     \u001b[91m━━━━━━━━━━━━━━━━━━━━━━━━━━━━━━━━━━━━\u001b[0m\u001b[91m╸\u001b[0m \u001b[32m776.3/776.4 MB\u001b[0m \u001b[31m197.3 MB/s\u001b[0m eta \u001b[36m0:00:01\u001b[0m"
     ]
    },
    {
     "name": "stdout",
     "output_type": "stream",
     "text": [
      "\r",
      "\u001b[2K     \u001b[91m━━━━━━━━━━━━━━━━━━━━━━━━━━━━━━━━━━━━\u001b[0m\u001b[91m╸\u001b[0m \u001b[32m776.3/776.4 MB\u001b[0m \u001b[31m197.3 MB/s\u001b[0m eta \u001b[36m0:00:01\u001b[0m"
     ]
    },
    {
     "name": "stdout",
     "output_type": "stream",
     "text": [
      "\r",
      "\u001b[2K     \u001b[91m━━━━━━━━━━━━━━━━━━━━━━━━━━━━━━━━━━━━\u001b[0m\u001b[91m╸\u001b[0m \u001b[32m776.3/776.4 MB\u001b[0m \u001b[31m197.3 MB/s\u001b[0m eta \u001b[36m0:00:01\u001b[0m\r",
      "\u001b[2K     \u001b[91m━━━━━━━━━━━━━━━━━━━━━━━━━━━━━━━━━━━━\u001b[0m\u001b[91m╸\u001b[0m \u001b[32m776.3/776.4 MB\u001b[0m \u001b[31m197.3 MB/s\u001b[0m eta \u001b[36m0:00:01\u001b[0m"
     ]
    },
    {
     "name": "stdout",
     "output_type": "stream",
     "text": [
      "\r",
      "\u001b[2K     \u001b[91m━━━━━━━━━━━━━━━━━━━━━━━━━━━━━━━━━━━━\u001b[0m\u001b[91m╸\u001b[0m \u001b[32m776.3/776.4 MB\u001b[0m \u001b[31m197.3 MB/s\u001b[0m eta \u001b[36m0:00:01\u001b[0m"
     ]
    },
    {
     "name": "stdout",
     "output_type": "stream",
     "text": [
      "\r",
      "\u001b[2K     \u001b[91m━━━━━━━━━━━━━━━━━━━━━━━━━━━━━━━━━━━━\u001b[0m\u001b[91m╸\u001b[0m \u001b[32m776.3/776.4 MB\u001b[0m \u001b[31m197.3 MB/s\u001b[0m eta \u001b[36m0:00:01\u001b[0m\r",
      "\u001b[2K     \u001b[91m━━━━━━━━━━━━━━━━━━━━━━━━━━━━━━━━━━━━\u001b[0m\u001b[91m╸\u001b[0m \u001b[32m776.3/776.4 MB\u001b[0m \u001b[31m197.3 MB/s\u001b[0m eta \u001b[36m0:00:01\u001b[0m"
     ]
    },
    {
     "name": "stdout",
     "output_type": "stream",
     "text": [
      "\r",
      "\u001b[2K     \u001b[91m━━━━━━━━━━━━━━━━━━━━━━━━━━━━━━━━━━━━\u001b[0m\u001b[91m╸\u001b[0m \u001b[32m776.3/776.4 MB\u001b[0m \u001b[31m197.3 MB/s\u001b[0m eta \u001b[36m0:00:01\u001b[0m"
     ]
    },
    {
     "name": "stdout",
     "output_type": "stream",
     "text": [
      "\r",
      "\u001b[2K     \u001b[91m━━━━━━━━━━━━━━━━━━━━━━━━━━━━━━━━━━━━\u001b[0m\u001b[91m╸\u001b[0m \u001b[32m776.3/776.4 MB\u001b[0m \u001b[31m197.3 MB/s\u001b[0m eta \u001b[36m0:00:01\u001b[0m"
     ]
    },
    {
     "name": "stdout",
     "output_type": "stream",
     "text": [
      "\r",
      "\u001b[2K     \u001b[91m━━━━━━━━━━━━━━━━━━━━━━━━━━━━━━━━━━━━\u001b[0m\u001b[91m╸\u001b[0m \u001b[32m776.3/776.4 MB\u001b[0m \u001b[31m197.3 MB/s\u001b[0m eta \u001b[36m0:00:01\u001b[0m\r",
      "\u001b[2K     \u001b[91m━━━━━━━━━━━━━━━━━━━━━━━━━━━━━━━━━━━━\u001b[0m\u001b[91m╸\u001b[0m \u001b[32m776.3/776.4 MB\u001b[0m \u001b[31m197.3 MB/s\u001b[0m eta \u001b[36m0:00:01\u001b[0m"
     ]
    },
    {
     "name": "stdout",
     "output_type": "stream",
     "text": [
      "\r",
      "\u001b[2K     \u001b[91m━━━━━━━━━━━━━━━━━━━━━━━━━━━━━━━━━━━━\u001b[0m\u001b[91m╸\u001b[0m \u001b[32m776.3/776.4 MB\u001b[0m \u001b[31m197.3 MB/s\u001b[0m eta \u001b[36m0:00:01\u001b[0m"
     ]
    },
    {
     "name": "stdout",
     "output_type": "stream",
     "text": [
      "\r",
      "\u001b[2K     \u001b[91m━━━━━━━━━━━━━━━━━━━━━━━━━━━━━━━━━━━━\u001b[0m\u001b[91m╸\u001b[0m \u001b[32m776.3/776.4 MB\u001b[0m \u001b[31m197.3 MB/s\u001b[0m eta \u001b[36m0:00:01\u001b[0m\r",
      "\u001b[2K     \u001b[91m━━━━━━━━━━━━━━━━━━━━━━━━━━━━━━━━━━━━\u001b[0m\u001b[91m╸\u001b[0m \u001b[32m776.3/776.4 MB\u001b[0m \u001b[31m197.3 MB/s\u001b[0m eta \u001b[36m0:00:01\u001b[0m"
     ]
    },
    {
     "name": "stdout",
     "output_type": "stream",
     "text": [
      "\r",
      "\u001b[2K     \u001b[91m━━━━━━━━━━━━━━━━━━━━━━━━━━━━━━━━━━━━\u001b[0m\u001b[91m╸\u001b[0m \u001b[32m776.3/776.4 MB\u001b[0m \u001b[31m197.3 MB/s\u001b[0m eta \u001b[36m0:00:01\u001b[0m"
     ]
    },
    {
     "name": "stdout",
     "output_type": "stream",
     "text": [
      "\r",
      "\u001b[2K     \u001b[91m━━━━━━━━━━━━━━━━━━━━━━━━━━━━━━━━━━━━\u001b[0m\u001b[91m╸\u001b[0m \u001b[32m776.3/776.4 MB\u001b[0m \u001b[31m197.3 MB/s\u001b[0m eta \u001b[36m0:00:01\u001b[0m\r",
      "\u001b[2K     \u001b[91m━━━━━━━━━━━━━━━━━━━━━━━━━━━━━━━━━━━━\u001b[0m\u001b[91m╸\u001b[0m \u001b[32m776.3/776.4 MB\u001b[0m \u001b[31m197.3 MB/s\u001b[0m eta \u001b[36m0:00:01\u001b[0m"
     ]
    },
    {
     "name": "stdout",
     "output_type": "stream",
     "text": [
      "\r",
      "\u001b[2K     \u001b[91m━━━━━━━━━━━━━━━━━━━━━━━━━━━━━━━━━━━━\u001b[0m\u001b[91m╸\u001b[0m \u001b[32m776.3/776.4 MB\u001b[0m \u001b[31m197.3 MB/s\u001b[0m eta \u001b[36m0:00:01\u001b[0m"
     ]
    },
    {
     "name": "stdout",
     "output_type": "stream",
     "text": [
      "\r",
      "\u001b[2K     \u001b[91m━━━━━━━━━━━━━━━━━━━━━━━━━━━━━━━━━━━━\u001b[0m\u001b[91m╸\u001b[0m \u001b[32m776.3/776.4 MB\u001b[0m \u001b[31m197.3 MB/s\u001b[0m eta \u001b[36m0:00:01\u001b[0m\r",
      "\u001b[2K     \u001b[91m━━━━━━━━━━━━━━━━━━━━━━━━━━━━━━━━━━━━\u001b[0m\u001b[91m╸\u001b[0m \u001b[32m776.3/776.4 MB\u001b[0m \u001b[31m197.3 MB/s\u001b[0m eta \u001b[36m0:00:01\u001b[0m"
     ]
    },
    {
     "name": "stdout",
     "output_type": "stream",
     "text": [
      "\r",
      "\u001b[2K     \u001b[91m━━━━━━━━━━━━━━━━━━━━━━━━━━━━━━━━━━━━\u001b[0m\u001b[91m╸\u001b[0m \u001b[32m776.3/776.4 MB\u001b[0m \u001b[31m197.3 MB/s\u001b[0m eta \u001b[36m0:00:01\u001b[0m"
     ]
    },
    {
     "name": "stdout",
     "output_type": "stream",
     "text": [
      "\r",
      "\u001b[2K     \u001b[91m━━━━━━━━━━━━━━━━━━━━━━━━━━━━━━━━━━━━\u001b[0m\u001b[91m╸\u001b[0m \u001b[32m776.3/776.4 MB\u001b[0m \u001b[31m197.3 MB/s\u001b[0m eta \u001b[36m0:00:01\u001b[0m"
     ]
    },
    {
     "name": "stdout",
     "output_type": "stream",
     "text": [
      "\r",
      "\u001b[2K     \u001b[91m━━━━━━━━━━━━━━━━━━━━━━━━━━━━━━━━━━━━\u001b[0m\u001b[91m╸\u001b[0m \u001b[32m776.3/776.4 MB\u001b[0m \u001b[31m197.3 MB/s\u001b[0m eta \u001b[36m0:00:01\u001b[0m\r",
      "\u001b[2K     \u001b[91m━━━━━━━━━━━━━━━━━━━━━━━━━━━━━━━━━━━━\u001b[0m\u001b[91m╸\u001b[0m \u001b[32m776.3/776.4 MB\u001b[0m \u001b[31m197.3 MB/s\u001b[0m eta \u001b[36m0:00:01\u001b[0m"
     ]
    },
    {
     "name": "stdout",
     "output_type": "stream",
     "text": [
      "\r",
      "\u001b[2K     \u001b[91m━━━━━━━━━━━━━━━━━━━━━━━━━━━━━━━━━━━━\u001b[0m\u001b[91m╸\u001b[0m \u001b[32m776.3/776.4 MB\u001b[0m \u001b[31m197.3 MB/s\u001b[0m eta \u001b[36m0:00:01\u001b[0m"
     ]
    },
    {
     "name": "stdout",
     "output_type": "stream",
     "text": [
      "\r",
      "\u001b[2K     \u001b[91m━━━━━━━━━━━━━━━━━━━━━━━━━━━━━━━━━━━━\u001b[0m\u001b[91m╸\u001b[0m \u001b[32m776.3/776.4 MB\u001b[0m \u001b[31m197.3 MB/s\u001b[0m eta \u001b[36m0:00:01\u001b[0m\r",
      "\u001b[2K     \u001b[91m━━━━━━━━━━━━━━━━━━━━━━━━━━━━━━━━━━━━\u001b[0m\u001b[91m╸\u001b[0m \u001b[32m776.3/776.4 MB\u001b[0m \u001b[31m197.3 MB/s\u001b[0m eta \u001b[36m0:00:01\u001b[0m"
     ]
    },
    {
     "name": "stdout",
     "output_type": "stream",
     "text": [
      "\r",
      "\u001b[2K     \u001b[91m━━━━━━━━━━━━━━━━━━━━━━━━━━━━━━━━━━━━\u001b[0m\u001b[91m╸\u001b[0m \u001b[32m776.3/776.4 MB\u001b[0m \u001b[31m197.3 MB/s\u001b[0m eta \u001b[36m0:00:01\u001b[0m"
     ]
    },
    {
     "name": "stdout",
     "output_type": "stream",
     "text": [
      "\r",
      "\u001b[2K     \u001b[91m━━━━━━━━━━━━━━━━━━━━━━━━━━━━━━━━━━━━\u001b[0m\u001b[91m╸\u001b[0m \u001b[32m776.3/776.4 MB\u001b[0m \u001b[31m197.3 MB/s\u001b[0m eta \u001b[36m0:00:01\u001b[0m\r",
      "\u001b[2K     \u001b[91m━━━━━━━━━━━━━━━━━━━━━━━━━━━━━━━━━━━━\u001b[0m\u001b[91m╸\u001b[0m \u001b[32m776.3/776.4 MB\u001b[0m \u001b[31m197.3 MB/s\u001b[0m eta \u001b[36m0:00:01\u001b[0m"
     ]
    },
    {
     "name": "stdout",
     "output_type": "stream",
     "text": [
      "\r",
      "\u001b[2K     \u001b[91m━━━━━━━━━━━━━━━━━━━━━━━━━━━━━━━━━━━━\u001b[0m\u001b[91m╸\u001b[0m \u001b[32m776.3/776.4 MB\u001b[0m \u001b[31m197.3 MB/s\u001b[0m eta \u001b[36m0:00:01\u001b[0m"
     ]
    },
    {
     "name": "stdout",
     "output_type": "stream",
     "text": [
      "\r",
      "\u001b[2K     \u001b[91m━━━━━━━━━━━━━━━━━━━━━━━━━━━━━━━━━━━━\u001b[0m\u001b[91m╸\u001b[0m \u001b[32m776.3/776.4 MB\u001b[0m \u001b[31m197.3 MB/s\u001b[0m eta \u001b[36m0:00:01\u001b[0m\r",
      "\u001b[2K     \u001b[91m━━━━━━━━━━━━━━━━━━━━━━━━━━━━━━━━━━━━\u001b[0m\u001b[91m╸\u001b[0m \u001b[32m776.3/776.4 MB\u001b[0m \u001b[31m197.3 MB/s\u001b[0m eta \u001b[36m0:00:01\u001b[0m"
     ]
    },
    {
     "name": "stdout",
     "output_type": "stream",
     "text": [
      "\r",
      "\u001b[2K     \u001b[91m━━━━━━━━━━━━━━━━━━━━━━━━━━━━━━━━━━━━\u001b[0m\u001b[91m╸\u001b[0m \u001b[32m776.3/776.4 MB\u001b[0m \u001b[31m197.3 MB/s\u001b[0m eta \u001b[36m0:00:01\u001b[0m"
     ]
    },
    {
     "name": "stdout",
     "output_type": "stream",
     "text": [
      "\r",
      "\u001b[2K     \u001b[91m━━━━━━━━━━━━━━━━━━━━━━━━━━━━━━━━━━━━\u001b[0m\u001b[91m╸\u001b[0m \u001b[32m776.3/776.4 MB\u001b[0m \u001b[31m197.3 MB/s\u001b[0m eta \u001b[36m0:00:01\u001b[0m"
     ]
    },
    {
     "name": "stdout",
     "output_type": "stream",
     "text": [
      "\r",
      "\u001b[2K     \u001b[91m━━━━━━━━━━━━━━━━━━━━━━━━━━━━━━━━━━━━\u001b[0m\u001b[91m╸\u001b[0m \u001b[32m776.3/776.4 MB\u001b[0m \u001b[31m197.3 MB/s\u001b[0m eta \u001b[36m0:00:01\u001b[0m\r",
      "\u001b[2K     \u001b[91m━━━━━━━━━━━━━━━━━━━━━━━━━━━━━━━━━━━━\u001b[0m\u001b[91m╸\u001b[0m \u001b[32m776.3/776.4 MB\u001b[0m \u001b[31m197.3 MB/s\u001b[0m eta \u001b[36m0:00:01\u001b[0m"
     ]
    },
    {
     "name": "stdout",
     "output_type": "stream",
     "text": [
      "\r",
      "\u001b[2K     \u001b[91m━━━━━━━━━━━━━━━━━━━━━━━━━━━━━━━━━━━━\u001b[0m\u001b[91m╸\u001b[0m \u001b[32m776.3/776.4 MB\u001b[0m \u001b[31m197.3 MB/s\u001b[0m eta \u001b[36m0:00:01\u001b[0m"
     ]
    },
    {
     "name": "stdout",
     "output_type": "stream",
     "text": [
      "\r",
      "\u001b[2K     \u001b[91m━━━━━━━━━━━━━━━━━━━━━━━━━━━━━━━━━━━━\u001b[0m\u001b[91m╸\u001b[0m \u001b[32m776.3/776.4 MB\u001b[0m \u001b[31m197.3 MB/s\u001b[0m eta \u001b[36m0:00:01\u001b[0m\r",
      "\u001b[2K     \u001b[91m━━━━━━━━━━━━━━━━━━━━━━━━━━━━━━━━━━━━\u001b[0m\u001b[91m╸\u001b[0m \u001b[32m776.3/776.4 MB\u001b[0m \u001b[31m197.3 MB/s\u001b[0m eta \u001b[36m0:00:01\u001b[0m"
     ]
    },
    {
     "name": "stdout",
     "output_type": "stream",
     "text": [
      "\r",
      "\u001b[2K     \u001b[91m━━━━━━━━━━━━━━━━━━━━━━━━━━━━━━━━━━━━\u001b[0m\u001b[91m╸\u001b[0m \u001b[32m776.3/776.4 MB\u001b[0m \u001b[31m197.3 MB/s\u001b[0m eta \u001b[36m0:00:01\u001b[0m"
     ]
    },
    {
     "name": "stdout",
     "output_type": "stream",
     "text": [
      "\r",
      "\u001b[2K     \u001b[91m━━━━━━━━━━━━━━━━━━━━━━━━━━━━━━━━━━━━\u001b[0m\u001b[91m╸\u001b[0m \u001b[32m776.3/776.4 MB\u001b[0m \u001b[31m197.3 MB/s\u001b[0m eta \u001b[36m0:00:01\u001b[0m\r",
      "\u001b[2K     \u001b[91m━━━━━━━━━━━━━━━━━━━━━━━━━━━━━━━━━━━━\u001b[0m\u001b[91m╸\u001b[0m \u001b[32m776.3/776.4 MB\u001b[0m \u001b[31m197.3 MB/s\u001b[0m eta \u001b[36m0:00:01\u001b[0m"
     ]
    },
    {
     "name": "stdout",
     "output_type": "stream",
     "text": [
      "\r",
      "\u001b[2K     \u001b[91m━━━━━━━━━━━━━━━━━━━━━━━━━━━━━━━━━━━━\u001b[0m\u001b[91m╸\u001b[0m \u001b[32m776.3/776.4 MB\u001b[0m \u001b[31m197.3 MB/s\u001b[0m eta \u001b[36m0:00:01\u001b[0m"
     ]
    },
    {
     "name": "stdout",
     "output_type": "stream",
     "text": [
      "\r",
      "\u001b[2K     \u001b[91m━━━━━━━━━━━━━━━━━━━━━━━━━━━━━━━━━━━━\u001b[0m\u001b[91m╸\u001b[0m \u001b[32m776.3/776.4 MB\u001b[0m \u001b[31m197.3 MB/s\u001b[0m eta \u001b[36m0:00:01\u001b[0m\r",
      "\u001b[2K     \u001b[91m━━━━━━━━━━━━━━━━━━━━━━━━━━━━━━━━━━━━\u001b[0m\u001b[91m╸\u001b[0m \u001b[32m776.3/776.4 MB\u001b[0m \u001b[31m197.3 MB/s\u001b[0m eta \u001b[36m0:00:01\u001b[0m"
     ]
    },
    {
     "name": "stdout",
     "output_type": "stream",
     "text": [
      "\r",
      "\u001b[2K     \u001b[91m━━━━━━━━━━━━━━━━━━━━━━━━━━━━━━━━━━━━\u001b[0m\u001b[91m╸\u001b[0m \u001b[32m776.3/776.4 MB\u001b[0m \u001b[31m197.3 MB/s\u001b[0m eta \u001b[36m0:00:01\u001b[0m"
     ]
    },
    {
     "name": "stdout",
     "output_type": "stream",
     "text": [
      "\r",
      "\u001b[2K     \u001b[91m━━━━━━━━━━━━━━━━━━━━━━━━━━━━━━━━━━━━\u001b[0m\u001b[91m╸\u001b[0m \u001b[32m776.3/776.4 MB\u001b[0m \u001b[31m197.3 MB/s\u001b[0m eta \u001b[36m0:00:01\u001b[0m"
     ]
    },
    {
     "name": "stdout",
     "output_type": "stream",
     "text": [
      "\r",
      "\u001b[2K     \u001b[91m━━━━━━━━━━━━━━━━━━━━━━━━━━━━━━━━━━━━\u001b[0m\u001b[91m╸\u001b[0m \u001b[32m776.3/776.4 MB\u001b[0m \u001b[31m197.3 MB/s\u001b[0m eta \u001b[36m0:00:01\u001b[0m\r",
      "\u001b[2K     \u001b[91m━━━━━━━━━━━━━━━━━━━━━━━━━━━━━━━━━━━━\u001b[0m\u001b[91m╸\u001b[0m \u001b[32m776.3/776.4 MB\u001b[0m \u001b[31m197.3 MB/s\u001b[0m eta \u001b[36m0:00:01\u001b[0m"
     ]
    },
    {
     "name": "stdout",
     "output_type": "stream",
     "text": [
      "\r",
      "\u001b[2K     \u001b[91m━━━━━━━━━━━━━━━━━━━━━━━━━━━━━━━━━━━━\u001b[0m\u001b[91m╸\u001b[0m \u001b[32m776.3/776.4 MB\u001b[0m \u001b[31m197.3 MB/s\u001b[0m eta \u001b[36m0:00:01\u001b[0m"
     ]
    },
    {
     "name": "stdout",
     "output_type": "stream",
     "text": [
      "\r",
      "\u001b[2K     \u001b[91m━━━━━━━━━━━━━━━━━━━━━━━━━━━━━━━━━━━━\u001b[0m\u001b[91m╸\u001b[0m \u001b[32m776.3/776.4 MB\u001b[0m \u001b[31m197.3 MB/s\u001b[0m eta \u001b[36m0:00:01\u001b[0m\r",
      "\u001b[2K     \u001b[91m━━━━━━━━━━━━━━━━━━━━━━━━━━━━━━━━━━━━\u001b[0m\u001b[91m╸\u001b[0m \u001b[32m776.3/776.4 MB\u001b[0m \u001b[31m197.3 MB/s\u001b[0m eta \u001b[36m0:00:01\u001b[0m"
     ]
    },
    {
     "name": "stdout",
     "output_type": "stream",
     "text": [
      "\r",
      "\u001b[2K     \u001b[91m━━━━━━━━━━━━━━━━━━━━━━━━━━━━━━━━━━━━\u001b[0m\u001b[91m╸\u001b[0m \u001b[32m776.3/776.4 MB\u001b[0m \u001b[31m197.3 MB/s\u001b[0m eta \u001b[36m0:00:01\u001b[0m"
     ]
    },
    {
     "name": "stdout",
     "output_type": "stream",
     "text": [
      "\r",
      "\u001b[2K     \u001b[91m━━━━━━━━━━━━━━━━━━━━━━━━━━━━━━━━━━━━\u001b[0m\u001b[91m╸\u001b[0m \u001b[32m776.3/776.4 MB\u001b[0m \u001b[31m197.3 MB/s\u001b[0m eta \u001b[36m0:00:01\u001b[0m\r",
      "\u001b[2K     \u001b[91m━━━━━━━━━━━━━━━━━━━━━━━━━━━━━━━━━━━━\u001b[0m\u001b[91m╸\u001b[0m \u001b[32m776.3/776.4 MB\u001b[0m \u001b[31m197.3 MB/s\u001b[0m eta \u001b[36m0:00:01\u001b[0m"
     ]
    },
    {
     "name": "stdout",
     "output_type": "stream",
     "text": [
      "\r",
      "\u001b[2K     \u001b[91m━━━━━━━━━━━━━━━━━━━━━━━━━━━━━━━━━━━━\u001b[0m\u001b[91m╸\u001b[0m \u001b[32m776.3/776.4 MB\u001b[0m \u001b[31m197.3 MB/s\u001b[0m eta \u001b[36m0:00:01\u001b[0m"
     ]
    },
    {
     "name": "stdout",
     "output_type": "stream",
     "text": [
      "\r",
      "\u001b[2K     \u001b[91m━━━━━━━━━━━━━━━━━━━━━━━━━━━━━━━━━━━━\u001b[0m\u001b[91m╸\u001b[0m \u001b[32m776.3/776.4 MB\u001b[0m \u001b[31m197.3 MB/s\u001b[0m eta \u001b[36m0:00:01\u001b[0m\r",
      "\u001b[2K     \u001b[91m━━━━━━━━━━━━━━━━━━━━━━━━━━━━━━━━━━━━\u001b[0m\u001b[91m╸\u001b[0m \u001b[32m776.3/776.4 MB\u001b[0m \u001b[31m197.3 MB/s\u001b[0m eta \u001b[36m0:00:01\u001b[0m"
     ]
    },
    {
     "name": "stdout",
     "output_type": "stream",
     "text": [
      "\r",
      "\u001b[2K     \u001b[91m━━━━━━━━━━━━━━━━━━━━━━━━━━━━━━━━━━━━\u001b[0m\u001b[91m╸\u001b[0m \u001b[32m776.3/776.4 MB\u001b[0m \u001b[31m197.3 MB/s\u001b[0m eta \u001b[36m0:00:01\u001b[0m"
     ]
    },
    {
     "name": "stdout",
     "output_type": "stream",
     "text": [
      "\r",
      "\u001b[2K     \u001b[91m━━━━━━━━━━━━━━━━━━━━━━━━━━━━━━━━━━━━\u001b[0m\u001b[91m╸\u001b[0m \u001b[32m776.3/776.4 MB\u001b[0m \u001b[31m197.3 MB/s\u001b[0m eta \u001b[36m0:00:01\u001b[0m"
     ]
    },
    {
     "name": "stdout",
     "output_type": "stream",
     "text": [
      "\r",
      "\u001b[2K     \u001b[91m━━━━━━━━━━━━━━━━━━━━━━━━━━━━━━━━━━━━\u001b[0m\u001b[91m╸\u001b[0m \u001b[32m776.3/776.4 MB\u001b[0m \u001b[31m197.3 MB/s\u001b[0m eta \u001b[36m0:00:01\u001b[0m\r",
      "\u001b[2K     \u001b[91m━━━━━━━━━━━━━━━━━━━━━━━━━━━━━━━━━━━━\u001b[0m\u001b[91m╸\u001b[0m \u001b[32m776.3/776.4 MB\u001b[0m \u001b[31m197.3 MB/s\u001b[0m eta \u001b[36m0:00:01\u001b[0m"
     ]
    },
    {
     "name": "stdout",
     "output_type": "stream",
     "text": [
      "\r",
      "\u001b[2K     \u001b[91m━━━━━━━━━━━━━━━━━━━━━━━━━━━━━━━━━━━━\u001b[0m\u001b[91m╸\u001b[0m \u001b[32m776.3/776.4 MB\u001b[0m \u001b[31m197.3 MB/s\u001b[0m eta \u001b[36m0:00:01\u001b[0m"
     ]
    },
    {
     "name": "stdout",
     "output_type": "stream",
     "text": [
      "\r",
      "\u001b[2K     \u001b[91m━━━━━━━━━━━━━━━━━━━━━━━━━━━━━━━━━━━━\u001b[0m\u001b[91m╸\u001b[0m \u001b[32m776.3/776.4 MB\u001b[0m \u001b[31m197.3 MB/s\u001b[0m eta \u001b[36m0:00:01\u001b[0m\r",
      "\u001b[2K     \u001b[91m━━━━━━━━━━━━━━━━━━━━━━━━━━━━━━━━━━━━\u001b[0m\u001b[91m╸\u001b[0m \u001b[32m776.3/776.4 MB\u001b[0m \u001b[31m197.3 MB/s\u001b[0m eta \u001b[36m0:00:01\u001b[0m"
     ]
    },
    {
     "name": "stdout",
     "output_type": "stream",
     "text": [
      "\r",
      "\u001b[2K     \u001b[91m━━━━━━━━━━━━━━━━━━━━━━━━━━━━━━━━━━━━\u001b[0m\u001b[91m╸\u001b[0m \u001b[32m776.3/776.4 MB\u001b[0m \u001b[31m197.3 MB/s\u001b[0m eta \u001b[36m0:00:01\u001b[0m"
     ]
    },
    {
     "name": "stdout",
     "output_type": "stream",
     "text": [
      "\r",
      "\u001b[2K     \u001b[91m━━━━━━━━━━━━━━━━━━━━━━━━━━━━━━━━━━━━\u001b[0m\u001b[91m╸\u001b[0m \u001b[32m776.3/776.4 MB\u001b[0m \u001b[31m197.3 MB/s\u001b[0m eta \u001b[36m0:00:01\u001b[0m\r",
      "\u001b[2K     \u001b[91m━━━━━━━━━━━━━━━━━━━━━━━━━━━━━━━━━━━━\u001b[0m\u001b[91m╸\u001b[0m \u001b[32m776.3/776.4 MB\u001b[0m \u001b[31m197.3 MB/s\u001b[0m eta \u001b[36m0:00:01\u001b[0m"
     ]
    },
    {
     "name": "stdout",
     "output_type": "stream",
     "text": [
      "\r",
      "\u001b[2K     \u001b[91m━━━━━━━━━━━━━━━━━━━━━━━━━━━━━━━━━━━━\u001b[0m\u001b[91m╸\u001b[0m \u001b[32m776.3/776.4 MB\u001b[0m \u001b[31m197.3 MB/s\u001b[0m eta \u001b[36m0:00:01\u001b[0m"
     ]
    },
    {
     "name": "stdout",
     "output_type": "stream",
     "text": [
      "\r",
      "\u001b[2K     \u001b[91m━━━━━━━━━━━━━━━━━━━━━━━━━━━━━━━━━━━━\u001b[0m\u001b[91m╸\u001b[0m \u001b[32m776.3/776.4 MB\u001b[0m \u001b[31m197.3 MB/s\u001b[0m eta \u001b[36m0:00:01\u001b[0m\r",
      "\u001b[2K     \u001b[91m━━━━━━━━━━━━━━━━━━━━━━━━━━━━━━━━━━━━\u001b[0m\u001b[91m╸\u001b[0m \u001b[32m776.3/776.4 MB\u001b[0m \u001b[31m197.3 MB/s\u001b[0m eta \u001b[36m0:00:01\u001b[0m"
     ]
    },
    {
     "name": "stdout",
     "output_type": "stream",
     "text": [
      "\r",
      "\u001b[2K     \u001b[91m━━━━━━━━━━━━━━━━━━━━━━━━━━━━━━━━━━━━\u001b[0m\u001b[91m╸\u001b[0m \u001b[32m776.3/776.4 MB\u001b[0m \u001b[31m197.3 MB/s\u001b[0m eta \u001b[36m0:00:01\u001b[0m"
     ]
    },
    {
     "name": "stdout",
     "output_type": "stream",
     "text": [
      "\r",
      "\u001b[2K     \u001b[91m━━━━━━━━━━━━━━━━━━━━━━━━━━━━━━━━━━━━\u001b[0m\u001b[91m╸\u001b[0m \u001b[32m776.3/776.4 MB\u001b[0m \u001b[31m197.3 MB/s\u001b[0m eta \u001b[36m0:00:01\u001b[0m"
     ]
    },
    {
     "name": "stdout",
     "output_type": "stream",
     "text": [
      "\r",
      "\u001b[2K     \u001b[91m━━━━━━━━━━━━━━━━━━━━━━━━━━━━━━━━━━━━\u001b[0m\u001b[91m╸\u001b[0m \u001b[32m776.3/776.4 MB\u001b[0m \u001b[31m197.3 MB/s\u001b[0m eta \u001b[36m0:00:01\u001b[0m\r",
      "\u001b[2K     \u001b[91m━━━━━━━━━━━━━━━━━━━━━━━━━━━━━━━━━━━━\u001b[0m\u001b[91m╸\u001b[0m \u001b[32m776.3/776.4 MB\u001b[0m \u001b[31m197.3 MB/s\u001b[0m eta \u001b[36m0:00:01\u001b[0m"
     ]
    },
    {
     "name": "stdout",
     "output_type": "stream",
     "text": [
      "\r",
      "\u001b[2K     \u001b[91m━━━━━━━━━━━━━━━━━━━━━━━━━━━━━━━━━━━━\u001b[0m\u001b[91m╸\u001b[0m \u001b[32m776.3/776.4 MB\u001b[0m \u001b[31m197.3 MB/s\u001b[0m eta \u001b[36m0:00:01\u001b[0m"
     ]
    },
    {
     "name": "stdout",
     "output_type": "stream",
     "text": [
      "\r",
      "\u001b[2K     \u001b[91m━━━━━━━━━━━━━━━━━━━━━━━━━━━━━━━━━━━━\u001b[0m\u001b[91m╸\u001b[0m \u001b[32m776.3/776.4 MB\u001b[0m \u001b[31m197.3 MB/s\u001b[0m eta \u001b[36m0:00:01\u001b[0m\r",
      "\u001b[2K     \u001b[91m━━━━━━━━━━━━━━━━━━━━━━━━━━━━━━━━━━━━\u001b[0m\u001b[91m╸\u001b[0m \u001b[32m776.3/776.4 MB\u001b[0m \u001b[31m197.3 MB/s\u001b[0m eta \u001b[36m0:00:01\u001b[0m"
     ]
    },
    {
     "name": "stdout",
     "output_type": "stream",
     "text": [
      "\r",
      "\u001b[2K     \u001b[91m━━━━━━━━━━━━━━━━━━━━━━━━━━━━━━━━━━━━\u001b[0m\u001b[91m╸\u001b[0m \u001b[32m776.3/776.4 MB\u001b[0m \u001b[31m197.3 MB/s\u001b[0m eta \u001b[36m0:00:01\u001b[0m"
     ]
    },
    {
     "name": "stdout",
     "output_type": "stream",
     "text": [
      "\r",
      "\u001b[2K     \u001b[91m━━━━━━━━━━━━━━━━━━━━━━━━━━━━━━━━━━━━\u001b[0m\u001b[91m╸\u001b[0m \u001b[32m776.3/776.4 MB\u001b[0m \u001b[31m197.3 MB/s\u001b[0m eta \u001b[36m0:00:01\u001b[0m\r",
      "\u001b[2K     \u001b[91m━━━━━━━━━━━━━━━━━━━━━━━━━━━━━━━━━━━━\u001b[0m\u001b[91m╸\u001b[0m \u001b[32m776.3/776.4 MB\u001b[0m \u001b[31m197.3 MB/s\u001b[0m eta \u001b[36m0:00:01\u001b[0m"
     ]
    },
    {
     "name": "stdout",
     "output_type": "stream",
     "text": [
      "\r",
      "\u001b[2K     \u001b[91m━━━━━━━━━━━━━━━━━━━━━━━━━━━━━━━━━━━━\u001b[0m\u001b[91m╸\u001b[0m \u001b[32m776.3/776.4 MB\u001b[0m \u001b[31m197.3 MB/s\u001b[0m eta \u001b[36m0:00:01\u001b[0m"
     ]
    },
    {
     "name": "stdout",
     "output_type": "stream",
     "text": [
      "\r",
      "\u001b[2K     \u001b[91m━━━━━━━━━━━━━━━━━━━━━━━━━━━━━━━━━━━━\u001b[0m\u001b[91m╸\u001b[0m \u001b[32m776.3/776.4 MB\u001b[0m \u001b[31m197.3 MB/s\u001b[0m eta \u001b[36m0:00:01\u001b[0m\r",
      "\u001b[2K     \u001b[91m━━━━━━━━━━━━━━━━━━━━━━━━━━━━━━━━━━━━\u001b[0m\u001b[91m╸\u001b[0m \u001b[32m776.3/776.4 MB\u001b[0m \u001b[31m197.3 MB/s\u001b[0m eta \u001b[36m0:00:01\u001b[0m"
     ]
    },
    {
     "name": "stdout",
     "output_type": "stream",
     "text": [
      "\r",
      "\u001b[2K     \u001b[91m━━━━━━━━━━━━━━━━━━━━━━━━━━━━━━━━━━━━\u001b[0m\u001b[91m╸\u001b[0m \u001b[32m776.3/776.4 MB\u001b[0m \u001b[31m197.3 MB/s\u001b[0m eta \u001b[36m0:00:01\u001b[0m"
     ]
    },
    {
     "name": "stdout",
     "output_type": "stream",
     "text": [
      "\r",
      "\u001b[2K     \u001b[91m━━━━━━━━━━━━━━━━━━━━━━━━━━━━━━━━━━━━\u001b[0m\u001b[91m╸\u001b[0m \u001b[32m776.3/776.4 MB\u001b[0m \u001b[31m197.3 MB/s\u001b[0m eta \u001b[36m0:00:01\u001b[0m"
     ]
    },
    {
     "name": "stdout",
     "output_type": "stream",
     "text": [
      "\r",
      "\u001b[2K     \u001b[91m━━━━━━━━━━━━━━━━━━━━━━━━━━━━━━━━━━━━\u001b[0m\u001b[91m╸\u001b[0m \u001b[32m776.3/776.4 MB\u001b[0m \u001b[31m197.3 MB/s\u001b[0m eta \u001b[36m0:00:01\u001b[0m\r",
      "\u001b[2K     \u001b[91m━━━━━━━━━━━━━━━━━━━━━━━━━━━━━━━━━━━━\u001b[0m\u001b[91m╸\u001b[0m \u001b[32m776.3/776.4 MB\u001b[0m \u001b[31m197.3 MB/s\u001b[0m eta \u001b[36m0:00:01\u001b[0m"
     ]
    },
    {
     "name": "stdout",
     "output_type": "stream",
     "text": [
      "\r",
      "\u001b[2K     \u001b[91m━━━━━━━━━━━━━━━━━━━━━━━━━━━━━━━━━━━━\u001b[0m\u001b[91m╸\u001b[0m \u001b[32m776.3/776.4 MB\u001b[0m \u001b[31m197.3 MB/s\u001b[0m eta \u001b[36m0:00:01\u001b[0m"
     ]
    },
    {
     "name": "stdout",
     "output_type": "stream",
     "text": [
      "\r",
      "\u001b[2K     \u001b[91m━━━━━━━━━━━━━━━━━━━━━━━━━━━━━━━━━━━━\u001b[0m\u001b[91m╸\u001b[0m \u001b[32m776.3/776.4 MB\u001b[0m \u001b[31m197.3 MB/s\u001b[0m eta \u001b[36m0:00:01\u001b[0m\r",
      "\u001b[2K     \u001b[91m━━━━━━━━━━━━━━━━━━━━━━━━━━━━━━━━━━━━\u001b[0m\u001b[91m╸\u001b[0m \u001b[32m776.3/776.4 MB\u001b[0m \u001b[31m197.3 MB/s\u001b[0m eta \u001b[36m0:00:01\u001b[0m"
     ]
    },
    {
     "name": "stdout",
     "output_type": "stream",
     "text": [
      "\r",
      "\u001b[2K     \u001b[91m━━━━━━━━━━━━━━━━━━━━━━━━━━━━━━━━━━━━\u001b[0m\u001b[91m╸\u001b[0m \u001b[32m776.3/776.4 MB\u001b[0m \u001b[31m197.3 MB/s\u001b[0m eta \u001b[36m0:00:01\u001b[0m"
     ]
    },
    {
     "name": "stdout",
     "output_type": "stream",
     "text": [
      "\r",
      "\u001b[2K     \u001b[91m━━━━━━━━━━━━━━━━━━━━━━━━━━━━━━━━━━━━\u001b[0m\u001b[91m╸\u001b[0m \u001b[32m776.3/776.4 MB\u001b[0m \u001b[31m197.3 MB/s\u001b[0m eta \u001b[36m0:00:01\u001b[0m\r",
      "\u001b[2K     \u001b[91m━━━━━━━━━━━━━━━━━━━━━━━━━━━━━━━━━━━━\u001b[0m\u001b[91m╸\u001b[0m \u001b[32m776.3/776.4 MB\u001b[0m \u001b[31m197.3 MB/s\u001b[0m eta \u001b[36m0:00:01\u001b[0m"
     ]
    },
    {
     "name": "stdout",
     "output_type": "stream",
     "text": [
      "\r",
      "\u001b[2K     \u001b[91m━━━━━━━━━━━━━━━━━━━━━━━━━━━━━━━━━━━━\u001b[0m\u001b[91m╸\u001b[0m \u001b[32m776.3/776.4 MB\u001b[0m \u001b[31m197.3 MB/s\u001b[0m eta \u001b[36m0:00:01\u001b[0m"
     ]
    },
    {
     "name": "stdout",
     "output_type": "stream",
     "text": [
      "\r",
      "\u001b[2K     \u001b[91m━━━━━━━━━━━━━━━━━━━━━━━━━━━━━━━━━━━━\u001b[0m\u001b[91m╸\u001b[0m \u001b[32m776.3/776.4 MB\u001b[0m \u001b[31m197.3 MB/s\u001b[0m eta \u001b[36m0:00:01\u001b[0m\r",
      "\u001b[2K     \u001b[91m━━━━━━━━━━━━━━━━━━━━━━━━━━━━━━━━━━━━\u001b[0m\u001b[91m╸\u001b[0m \u001b[32m776.3/776.4 MB\u001b[0m \u001b[31m197.3 MB/s\u001b[0m eta \u001b[36m0:00:01\u001b[0m"
     ]
    },
    {
     "name": "stdout",
     "output_type": "stream",
     "text": [
      "\r",
      "\u001b[2K     \u001b[91m━━━━━━━━━━━━━━━━━━━━━━━━━━━━━━━━━━━━\u001b[0m\u001b[91m╸\u001b[0m \u001b[32m776.3/776.4 MB\u001b[0m \u001b[31m197.3 MB/s\u001b[0m eta \u001b[36m0:00:01\u001b[0m"
     ]
    },
    {
     "name": "stdout",
     "output_type": "stream",
     "text": [
      "\r",
      "\u001b[2K     \u001b[91m━━━━━━━━━━━━━━━━━━━━━━━━━━━━━━━━━━━━\u001b[0m\u001b[91m╸\u001b[0m \u001b[32m776.3/776.4 MB\u001b[0m \u001b[31m197.3 MB/s\u001b[0m eta \u001b[36m0:00:01\u001b[0m"
     ]
    },
    {
     "name": "stdout",
     "output_type": "stream",
     "text": [
      "\r",
      "\u001b[2K     \u001b[91m━━━━━━━━━━━━━━━━━━━━━━━━━━━━━━━━━━━━\u001b[0m\u001b[91m╸\u001b[0m \u001b[32m776.3/776.4 MB\u001b[0m \u001b[31m197.3 MB/s\u001b[0m eta \u001b[36m0:00:01\u001b[0m\r",
      "\u001b[2K     \u001b[91m━━━━━━━━━━━━━━━━━━━━━━━━━━━━━━━━━━━━\u001b[0m\u001b[91m╸\u001b[0m \u001b[32m776.3/776.4 MB\u001b[0m \u001b[31m197.3 MB/s\u001b[0m eta \u001b[36m0:00:01\u001b[0m"
     ]
    },
    {
     "name": "stdout",
     "output_type": "stream",
     "text": [
      "\r",
      "\u001b[2K     \u001b[91m━━━━━━━━━━━━━━━━━━━━━━━━━━━━━━━━━━━━\u001b[0m\u001b[91m╸\u001b[0m \u001b[32m776.3/776.4 MB\u001b[0m \u001b[31m197.3 MB/s\u001b[0m eta \u001b[36m0:00:01\u001b[0m"
     ]
    },
    {
     "name": "stdout",
     "output_type": "stream",
     "text": [
      "\r",
      "\u001b[2K     \u001b[91m━━━━━━━━━━━━━━━━━━━━━━━━━━━━━━━━━━━━\u001b[0m\u001b[91m╸\u001b[0m \u001b[32m776.3/776.4 MB\u001b[0m \u001b[31m197.3 MB/s\u001b[0m eta \u001b[36m0:00:01\u001b[0m\r",
      "\u001b[2K     \u001b[91m━━━━━━━━━━━━━━━━━━━━━━━━━━━━━━━━━━━━\u001b[0m\u001b[91m╸\u001b[0m \u001b[32m776.3/776.4 MB\u001b[0m \u001b[31m197.3 MB/s\u001b[0m eta \u001b[36m0:00:01\u001b[0m"
     ]
    },
    {
     "name": "stdout",
     "output_type": "stream",
     "text": [
      "\r",
      "\u001b[2K     \u001b[91m━━━━━━━━━━━━━━━━━━━━━━━━━━━━━━━━━━━━\u001b[0m\u001b[91m╸\u001b[0m \u001b[32m776.3/776.4 MB\u001b[0m \u001b[31m197.3 MB/s\u001b[0m eta \u001b[36m0:00:01\u001b[0m"
     ]
    },
    {
     "name": "stdout",
     "output_type": "stream",
     "text": [
      "\r",
      "\u001b[2K     \u001b[91m━━━━━━━━━━━━━━━━━━━━━━━━━━━━━━━━━━━━\u001b[0m\u001b[91m╸\u001b[0m \u001b[32m776.3/776.4 MB\u001b[0m \u001b[31m197.3 MB/s\u001b[0m eta \u001b[36m0:00:01\u001b[0m\r",
      "\u001b[2K     \u001b[91m━━━━━━━━━━━━━━━━━━━━━━━━━━━━━━━━━━━━\u001b[0m\u001b[91m╸\u001b[0m \u001b[32m776.3/776.4 MB\u001b[0m \u001b[31m197.3 MB/s\u001b[0m eta \u001b[36m0:00:01\u001b[0m"
     ]
    },
    {
     "name": "stdout",
     "output_type": "stream",
     "text": [
      "\r",
      "\u001b[2K     \u001b[91m━━━━━━━━━━━━━━━━━━━━━━━━━━━━━━━━━━━━\u001b[0m\u001b[91m╸\u001b[0m \u001b[32m776.3/776.4 MB\u001b[0m \u001b[31m197.3 MB/s\u001b[0m eta \u001b[36m0:00:01\u001b[0m"
     ]
    },
    {
     "name": "stdout",
     "output_type": "stream",
     "text": [
      "\r",
      "\u001b[2K     \u001b[91m━━━━━━━━━━━━━━━━━━━━━━━━━━━━━━━━━━━━\u001b[0m\u001b[91m╸\u001b[0m \u001b[32m776.3/776.4 MB\u001b[0m \u001b[31m197.3 MB/s\u001b[0m eta \u001b[36m0:00:01\u001b[0m\r",
      "\u001b[2K     \u001b[91m━━━━━━━━━━━━━━━━━━━━━━━━━━━━━━━━━━━━\u001b[0m\u001b[91m╸\u001b[0m \u001b[32m776.3/776.4 MB\u001b[0m \u001b[31m197.3 MB/s\u001b[0m eta \u001b[36m0:00:01\u001b[0m"
     ]
    },
    {
     "name": "stdout",
     "output_type": "stream",
     "text": [
      "\r",
      "\u001b[2K     \u001b[91m━━━━━━━━━━━━━━━━━━━━━━━━━━━━━━━━━━━━\u001b[0m\u001b[91m╸\u001b[0m \u001b[32m776.3/776.4 MB\u001b[0m \u001b[31m197.3 MB/s\u001b[0m eta \u001b[36m0:00:01\u001b[0m"
     ]
    },
    {
     "name": "stdout",
     "output_type": "stream",
     "text": [
      "\r",
      "\u001b[2K     \u001b[91m━━━━━━━━━━━━━━━━━━━━━━━━━━━━━━━━━━━━\u001b[0m\u001b[91m╸\u001b[0m \u001b[32m776.3/776.4 MB\u001b[0m \u001b[31m197.3 MB/s\u001b[0m eta \u001b[36m0:00:01\u001b[0m"
     ]
    },
    {
     "name": "stdout",
     "output_type": "stream",
     "text": [
      "\r",
      "\u001b[2K     \u001b[91m━━━━━━━━━━━━━━━━━━━━━━━━━━━━━━━━━━━━\u001b[0m\u001b[91m╸\u001b[0m \u001b[32m776.3/776.4 MB\u001b[0m \u001b[31m197.3 MB/s\u001b[0m eta \u001b[36m0:00:01\u001b[0m\r",
      "\u001b[2K     \u001b[91m━━━━━━━━━━━━━━━━━━━━━━━━━━━━━━━━━━━━\u001b[0m\u001b[91m╸\u001b[0m \u001b[32m776.3/776.4 MB\u001b[0m \u001b[31m197.3 MB/s\u001b[0m eta \u001b[36m0:00:01\u001b[0m"
     ]
    },
    {
     "name": "stdout",
     "output_type": "stream",
     "text": [
      "\r",
      "\u001b[2K     \u001b[91m━━━━━━━━━━━━━━━━━━━━━━━━━━━━━━━━━━━━\u001b[0m\u001b[91m╸\u001b[0m \u001b[32m776.3/776.4 MB\u001b[0m \u001b[31m197.3 MB/s\u001b[0m eta \u001b[36m0:00:01\u001b[0m"
     ]
    },
    {
     "name": "stdout",
     "output_type": "stream",
     "text": [
      "\r",
      "\u001b[2K     \u001b[91m━━━━━━━━━━━━━━━━━━━━━━━━━━━━━━━━━━━━\u001b[0m\u001b[91m╸\u001b[0m \u001b[32m776.3/776.4 MB\u001b[0m \u001b[31m197.3 MB/s\u001b[0m eta \u001b[36m0:00:01\u001b[0m\r",
      "\u001b[2K     \u001b[91m━━━━━━━━━━━━━━━━━━━━━━━━━━━━━━━━━━━━\u001b[0m\u001b[91m╸\u001b[0m \u001b[32m776.3/776.4 MB\u001b[0m \u001b[31m197.3 MB/s\u001b[0m eta \u001b[36m0:00:01\u001b[0m"
     ]
    },
    {
     "name": "stdout",
     "output_type": "stream",
     "text": [
      "\r",
      "\u001b[2K     \u001b[91m━━━━━━━━━━━━━━━━━━━━━━━━━━━━━━━━━━━━\u001b[0m\u001b[91m╸\u001b[0m \u001b[32m776.3/776.4 MB\u001b[0m \u001b[31m197.3 MB/s\u001b[0m eta \u001b[36m0:00:01\u001b[0m"
     ]
    },
    {
     "name": "stdout",
     "output_type": "stream",
     "text": [
      "\r",
      "\u001b[2K     \u001b[91m━━━━━━━━━━━━━━━━━━━━━━━━━━━━━━━━━━━━\u001b[0m\u001b[91m╸\u001b[0m \u001b[32m776.3/776.4 MB\u001b[0m \u001b[31m197.3 MB/s\u001b[0m eta \u001b[36m0:00:01\u001b[0m\r",
      "\u001b[2K     \u001b[91m━━━━━━━━━━━━━━━━━━━━━━━━━━━━━━━━━━━━\u001b[0m\u001b[91m╸\u001b[0m \u001b[32m776.3/776.4 MB\u001b[0m \u001b[31m197.3 MB/s\u001b[0m eta \u001b[36m0:00:01\u001b[0m"
     ]
    },
    {
     "name": "stdout",
     "output_type": "stream",
     "text": [
      "\r",
      "\u001b[2K     \u001b[91m━━━━━━━━━━━━━━━━━━━━━━━━━━━━━━━━━━━━\u001b[0m\u001b[91m╸\u001b[0m \u001b[32m776.3/776.4 MB\u001b[0m \u001b[31m197.3 MB/s\u001b[0m eta \u001b[36m0:00:01\u001b[0m"
     ]
    },
    {
     "name": "stdout",
     "output_type": "stream",
     "text": [
      "\r",
      "\u001b[2K     \u001b[91m━━━━━━━━━━━━━━━━━━━━━━━━━━━━━━━━━━━━\u001b[0m\u001b[91m╸\u001b[0m \u001b[32m776.3/776.4 MB\u001b[0m \u001b[31m197.3 MB/s\u001b[0m eta \u001b[36m0:00:01\u001b[0m\r",
      "\u001b[2K     \u001b[91m━━━━━━━━━━━━━━━━━━━━━━━━━━━━━━━━━━━━\u001b[0m\u001b[91m╸\u001b[0m \u001b[32m776.3/776.4 MB\u001b[0m \u001b[31m197.3 MB/s\u001b[0m eta \u001b[36m0:00:01\u001b[0m"
     ]
    },
    {
     "name": "stdout",
     "output_type": "stream",
     "text": [
      "\r",
      "\u001b[2K     \u001b[91m━━━━━━━━━━━━━━━━━━━━━━━━━━━━━━━━━━━━\u001b[0m\u001b[91m╸\u001b[0m \u001b[32m776.3/776.4 MB\u001b[0m \u001b[31m197.3 MB/s\u001b[0m eta \u001b[36m0:00:01\u001b[0m"
     ]
    },
    {
     "name": "stdout",
     "output_type": "stream",
     "text": [
      "\r",
      "\u001b[2K     \u001b[91m━━━━━━━━━━━━━━━━━━━━━━━━━━━━━━━━━━━━\u001b[0m\u001b[91m╸\u001b[0m \u001b[32m776.3/776.4 MB\u001b[0m \u001b[31m197.3 MB/s\u001b[0m eta \u001b[36m0:00:01\u001b[0m"
     ]
    },
    {
     "name": "stdout",
     "output_type": "stream",
     "text": [
      "\r",
      "\u001b[2K     \u001b[91m━━━━━━━━━━━━━━━━━━━━━━━━━━━━━━━━━━━━\u001b[0m\u001b[91m╸\u001b[0m \u001b[32m776.3/776.4 MB\u001b[0m \u001b[31m197.3 MB/s\u001b[0m eta \u001b[36m0:00:01\u001b[0m\r",
      "\u001b[2K     \u001b[91m━━━━━━━━━━━━━━━━━━━━━━━━━━━━━━━━━━━━\u001b[0m\u001b[91m╸\u001b[0m \u001b[32m776.3/776.4 MB\u001b[0m \u001b[31m197.3 MB/s\u001b[0m eta \u001b[36m0:00:01\u001b[0m"
     ]
    },
    {
     "name": "stdout",
     "output_type": "stream",
     "text": [
      "\r",
      "\u001b[2K     \u001b[91m━━━━━━━━━━━━━━━━━━━━━━━━━━━━━━━━━━━━\u001b[0m\u001b[91m╸\u001b[0m \u001b[32m776.3/776.4 MB\u001b[0m \u001b[31m197.3 MB/s\u001b[0m eta \u001b[36m0:00:01\u001b[0m"
     ]
    },
    {
     "name": "stdout",
     "output_type": "stream",
     "text": [
      "\r",
      "\u001b[2K     \u001b[91m━━━━━━━━━━━━━━━━━━━━━━━━━━━━━━━━━━━━\u001b[0m\u001b[91m╸\u001b[0m \u001b[32m776.3/776.4 MB\u001b[0m \u001b[31m197.3 MB/s\u001b[0m eta \u001b[36m0:00:01\u001b[0m\r",
      "\u001b[2K     \u001b[91m━━━━━━━━━━━━━━━━━━━━━━━━━━━━━━━━━━━━\u001b[0m\u001b[91m╸\u001b[0m \u001b[32m776.3/776.4 MB\u001b[0m \u001b[31m197.3 MB/s\u001b[0m eta \u001b[36m0:00:01\u001b[0m"
     ]
    },
    {
     "name": "stdout",
     "output_type": "stream",
     "text": [
      "\r",
      "\u001b[2K     \u001b[91m━━━━━━━━━━━━━━━━━━━━━━━━━━━━━━━━━━━━\u001b[0m\u001b[91m╸\u001b[0m \u001b[32m776.3/776.4 MB\u001b[0m \u001b[31m197.3 MB/s\u001b[0m eta \u001b[36m0:00:01\u001b[0m"
     ]
    },
    {
     "name": "stdout",
     "output_type": "stream",
     "text": [
      "\r",
      "\u001b[2K     \u001b[91m━━━━━━━━━━━━━━━━━━━━━━━━━━━━━━━━━━━━\u001b[0m\u001b[91m╸\u001b[0m \u001b[32m776.3/776.4 MB\u001b[0m \u001b[31m197.3 MB/s\u001b[0m eta \u001b[36m0:00:01\u001b[0m\r",
      "\u001b[2K     \u001b[91m━━━━━━━━━━━━━━━━━━━━━━━━━━━━━━━━━━━━\u001b[0m\u001b[91m╸\u001b[0m \u001b[32m776.3/776.4 MB\u001b[0m \u001b[31m197.3 MB/s\u001b[0m eta \u001b[36m0:00:01\u001b[0m"
     ]
    },
    {
     "name": "stdout",
     "output_type": "stream",
     "text": [
      "\r",
      "\u001b[2K     \u001b[91m━━━━━━━━━━━━━━━━━━━━━━━━━━━━━━━━━━━━\u001b[0m\u001b[91m╸\u001b[0m \u001b[32m776.3/776.4 MB\u001b[0m \u001b[31m197.3 MB/s\u001b[0m eta \u001b[36m0:00:01\u001b[0m"
     ]
    },
    {
     "name": "stdout",
     "output_type": "stream",
     "text": [
      "\r",
      "\u001b[2K     \u001b[91m━━━━━━━━━━━━━━━━━━━━━━━━━━━━━━━━━━━━\u001b[0m\u001b[91m╸\u001b[0m \u001b[32m776.3/776.4 MB\u001b[0m \u001b[31m197.3 MB/s\u001b[0m eta \u001b[36m0:00:01\u001b[0m\r",
      "\u001b[2K     \u001b[91m━━━━━━━━━━━━━━━━━━━━━━━━━━━━━━━━━━━━\u001b[0m\u001b[91m╸\u001b[0m \u001b[32m776.3/776.4 MB\u001b[0m \u001b[31m197.3 MB/s\u001b[0m eta \u001b[36m0:00:01\u001b[0m"
     ]
    },
    {
     "name": "stdout",
     "output_type": "stream",
     "text": [
      "\r",
      "\u001b[2K     \u001b[91m━━━━━━━━━━━━━━━━━━━━━━━━━━━━━━━━━━━━\u001b[0m\u001b[91m╸\u001b[0m \u001b[32m776.3/776.4 MB\u001b[0m \u001b[31m197.3 MB/s\u001b[0m eta \u001b[36m0:00:01\u001b[0m"
     ]
    },
    {
     "name": "stdout",
     "output_type": "stream",
     "text": [
      "\r",
      "\u001b[2K     \u001b[91m━━━━━━━━━━━━━━━━━━━━━━━━━━━━━━━━━━━━\u001b[0m\u001b[91m╸\u001b[0m \u001b[32m776.3/776.4 MB\u001b[0m \u001b[31m197.3 MB/s\u001b[0m eta \u001b[36m0:00:01\u001b[0m"
     ]
    },
    {
     "name": "stdout",
     "output_type": "stream",
     "text": [
      "\r",
      "\u001b[2K     \u001b[91m━━━━━━━━━━━━━━━━━━━━━━━━━━━━━━━━━━━━\u001b[0m\u001b[91m╸\u001b[0m \u001b[32m776.3/776.4 MB\u001b[0m \u001b[31m197.3 MB/s\u001b[0m eta \u001b[36m0:00:01\u001b[0m"
     ]
    },
    {
     "name": "stdout",
     "output_type": "stream",
     "text": [
      "\r",
      "\u001b[2K     \u001b[91m━━━━━━━━━━━━━━━━━━━━━━━━━━━━━━━━━━━━\u001b[0m\u001b[91m╸\u001b[0m \u001b[32m776.3/776.4 MB\u001b[0m \u001b[31m197.3 MB/s\u001b[0m eta \u001b[36m0:00:01\u001b[0m\r",
      "\u001b[2K     \u001b[91m━━━━━━━━━━━━━━━━━━━━━━━━━━━━━━━━━━━━\u001b[0m\u001b[91m╸\u001b[0m \u001b[32m776.3/776.4 MB\u001b[0m \u001b[31m197.3 MB/s\u001b[0m eta \u001b[36m0:00:01\u001b[0m"
     ]
    },
    {
     "name": "stdout",
     "output_type": "stream",
     "text": [
      "\r",
      "\u001b[2K     \u001b[91m━━━━━━━━━━━━━━━━━━━━━━━━━━━━━━━━━━━━\u001b[0m\u001b[91m╸\u001b[0m \u001b[32m776.3/776.4 MB\u001b[0m \u001b[31m197.3 MB/s\u001b[0m eta \u001b[36m0:00:01\u001b[0m"
     ]
    },
    {
     "name": "stdout",
     "output_type": "stream",
     "text": [
      "\r",
      "\u001b[2K     \u001b[90m━━━━━━━━━━━━━━━━━━━━━━━━━━━━━━━━━━━━━━━\u001b[0m \u001b[32m776.4/776.4 MB\u001b[0m \u001b[31m1.5 MB/s\u001b[0m eta \u001b[36m0:00:00\u001b[0m\r\n",
      "\u001b[?25h"
     ]
    },
    {
     "name": "stdout",
     "output_type": "stream",
     "text": [
      "Collecting torchvision\r\n",
      "  Downloading torchvision-0.13.1-cp39-cp39-manylinux1_x86_64.whl (19.1 MB)\r\n",
      "\u001b[?25l     \u001b[90m━━━━━━━━━━━━━━━━━━━━━━━━━━━━━━━━━━━━━━━━\u001b[0m \u001b[32m0.0/19.1 MB\u001b[0m \u001b[31m?\u001b[0m eta \u001b[36m-:--:--\u001b[0m"
     ]
    },
    {
     "name": "stdout",
     "output_type": "stream",
     "text": [
      "\r",
      "\u001b[2K     \u001b[91m━━\u001b[0m\u001b[91m╸\u001b[0m\u001b[90m━━━━━━━━━━━━━━━━━━━━━━━━━━━━━━━━━━━━━\u001b[0m \u001b[32m1.4/19.1 MB\u001b[0m \u001b[31m81.7 MB/s\u001b[0m eta \u001b[36m0:00:01\u001b[0m\r",
      "\u001b[2K     \u001b[91m━━━━\u001b[0m\u001b[91m╸\u001b[0m\u001b[90m━━━━━━━━━━━━━━━━━━━━━━━━━━━━━━━━━━━\u001b[0m \u001b[32m2.3/19.1 MB\u001b[0m \u001b[31m43.1 MB/s\u001b[0m eta \u001b[36m0:00:01\u001b[0m"
     ]
    },
    {
     "name": "stdout",
     "output_type": "stream",
     "text": [
      "\r",
      "\u001b[2K     \u001b[91m━━━━━━\u001b[0m\u001b[90m╺\u001b[0m\u001b[90m━━━━━━━━━━━━━━━━━━━━━━━━━━━━━━━━━\u001b[0m \u001b[32m3.1/19.1 MB\u001b[0m \u001b[31m34.6 MB/s\u001b[0m eta \u001b[36m0:00:01\u001b[0m"
     ]
    },
    {
     "name": "stdout",
     "output_type": "stream",
     "text": [
      "\r",
      "\u001b[2K     \u001b[91m━━━━━━━━\u001b[0m\u001b[90m╺\u001b[0m\u001b[90m━━━━━━━━━━━━━━━━━━━━━━━━━━━━━━━\u001b[0m \u001b[32m3.9/19.1 MB\u001b[0m \u001b[31m33.1 MB/s\u001b[0m eta \u001b[36m0:00:01\u001b[0m"
     ]
    },
    {
     "name": "stdout",
     "output_type": "stream",
     "text": [
      "\r",
      "\u001b[2K     \u001b[91m━━━━━━━━━━\u001b[0m\u001b[90m╺\u001b[0m\u001b[90m━━━━━━━━━━━━━━━━━━━━━━━━━━━━━\u001b[0m \u001b[32m4.9/19.1 MB\u001b[0m \u001b[31m32.0 MB/s\u001b[0m eta \u001b[36m0:00:01\u001b[0m\r",
      "\u001b[2K     \u001b[91m━━━━━━━━━━━━\u001b[0m\u001b[90m╺\u001b[0m\u001b[90m━━━━━━━━━━━━━━━━━━━━━━━━━━━\u001b[0m \u001b[32m5.8/19.1 MB\u001b[0m \u001b[31m30.1 MB/s\u001b[0m eta \u001b[36m0:00:01\u001b[0m"
     ]
    },
    {
     "name": "stdout",
     "output_type": "stream",
     "text": [
      "\r",
      "\u001b[2K     \u001b[91m━━━━━━━━━━━━━━\u001b[0m\u001b[90m╺\u001b[0m\u001b[90m━━━━━━━━━━━━━━━━━━━━━━━━━\u001b[0m \u001b[32m6.9/19.1 MB\u001b[0m \u001b[31m30.5 MB/s\u001b[0m eta \u001b[36m0:00:01\u001b[0m"
     ]
    },
    {
     "name": "stdout",
     "output_type": "stream",
     "text": [
      "\r",
      "\u001b[2K     \u001b[91m━━━━━━━━━━━━━━━━\u001b[0m\u001b[90m╺\u001b[0m\u001b[90m━━━━━━━━━━━━━━━━━━━━━━━\u001b[0m \u001b[32m7.7/19.1 MB\u001b[0m \u001b[31m30.4 MB/s\u001b[0m eta \u001b[36m0:00:01\u001b[0m\r",
      "\u001b[2K     \u001b[91m━━━━━━━━━━━━━━━━━\u001b[0m\u001b[91m╸\u001b[0m\u001b[90m━━━━━━━━━━━━━━━━━━━━━━\u001b[0m \u001b[32m8.4/19.1 MB\u001b[0m \u001b[31m28.0 MB/s\u001b[0m eta \u001b[36m0:00:01\u001b[0m"
     ]
    },
    {
     "name": "stdout",
     "output_type": "stream",
     "text": [
      "\r",
      "\u001b[2K     \u001b[91m━━━━━━━━━━━━━━━━━━━\u001b[0m\u001b[90m╺\u001b[0m\u001b[90m━━━━━━━━━━━━━━━━━━━━\u001b[0m \u001b[32m9.2/19.1 MB\u001b[0m \u001b[31m28.5 MB/s\u001b[0m eta \u001b[36m0:00:01\u001b[0m"
     ]
    },
    {
     "name": "stdout",
     "output_type": "stream",
     "text": [
      "\r",
      "\u001b[2K     \u001b[91m━━━━━━━━━━━━━━━━━━━━\u001b[0m\u001b[91m╸\u001b[0m\u001b[90m━━━━━━━━━━━━━━━━━━━\u001b[0m \u001b[32m10.0/19.1 MB\u001b[0m \u001b[31m27.5 MB/s\u001b[0m eta \u001b[36m0:00:01\u001b[0m\r",
      "\u001b[2K     \u001b[91m━━━━━━━━━━━━━━━━━━━━━━━\u001b[0m\u001b[90m╺\u001b[0m\u001b[90m━━━━━━━━━━━━━━━━\u001b[0m \u001b[32m11.1/19.1 MB\u001b[0m \u001b[31m25.5 MB/s\u001b[0m eta \u001b[36m0:00:01\u001b[0m"
     ]
    },
    {
     "name": "stdout",
     "output_type": "stream",
     "text": [
      "\r",
      "\u001b[2K     \u001b[91m━━━━━━━━━━━━━━━━━━━━━━━━━\u001b[0m\u001b[90m╺\u001b[0m\u001b[90m━━━━━━━━━━━━━━\u001b[0m \u001b[32m12.1/19.1 MB\u001b[0m \u001b[31m25.3 MB/s\u001b[0m eta \u001b[36m0:00:01\u001b[0m"
     ]
    },
    {
     "name": "stdout",
     "output_type": "stream",
     "text": [
      "\r",
      "\u001b[2K     \u001b[91m━━━━━━━━━━━━━━━━━━━━━━━━━━━\u001b[0m\u001b[90m╺\u001b[0m\u001b[90m━━━━━━━━━━━━\u001b[0m \u001b[32m13.0/19.1 MB\u001b[0m \u001b[31m25.9 MB/s\u001b[0m eta \u001b[36m0:00:01\u001b[0m\r",
      "\u001b[2K     \u001b[91m━━━━━━━━━━━━━━━━━━━━━━━━━━━━\u001b[0m\u001b[91m╸\u001b[0m\u001b[90m━━━━━━━━━━━\u001b[0m \u001b[32m13.8/19.1 MB\u001b[0m \u001b[31m25.3 MB/s\u001b[0m eta \u001b[36m0:00:01\u001b[0m"
     ]
    },
    {
     "name": "stdout",
     "output_type": "stream",
     "text": [
      "\r",
      "\u001b[2K     \u001b[91m━━━━━━━━━━━━━━━━━━━━━━━━━━━━━━\u001b[0m\u001b[90m╺\u001b[0m\u001b[90m━━━━━━━━━\u001b[0m \u001b[32m14.5/19.1 MB\u001b[0m \u001b[31m24.9 MB/s\u001b[0m eta \u001b[36m0:00:01\u001b[0m"
     ]
    },
    {
     "name": "stdout",
     "output_type": "stream",
     "text": [
      "\r",
      "\u001b[2K     \u001b[91m━━━━━━━━━━━━━━━━━━━━━━━━━━━━━━━\u001b[0m\u001b[91m╸\u001b[0m\u001b[90m━━━━━━━━\u001b[0m \u001b[32m15.1/19.1 MB\u001b[0m \u001b[31m24.0 MB/s\u001b[0m eta \u001b[36m0:00:01\u001b[0m"
     ]
    },
    {
     "name": "stdout",
     "output_type": "stream",
     "text": [
      "\r",
      "\u001b[2K     \u001b[91m━━━━━━━━━━━━━━━━━━━━━━━━━━━━━━━━━\u001b[0m\u001b[90m╺\u001b[0m\u001b[90m━━━━━━\u001b[0m \u001b[32m15.9/19.1 MB\u001b[0m \u001b[31m24.6 MB/s\u001b[0m eta \u001b[36m0:00:01\u001b[0m\r",
      "\u001b[2K     \u001b[91m━━━━━━━━━━━━━━━━━━━━━━━━━━━━━━━━━━\u001b[0m\u001b[91m╸\u001b[0m\u001b[90m━━━━━\u001b[0m \u001b[32m16.6/19.1 MB\u001b[0m \u001b[31m23.5 MB/s\u001b[0m eta \u001b[36m0:00:01\u001b[0m"
     ]
    },
    {
     "name": "stdout",
     "output_type": "stream",
     "text": [
      "\r",
      "\u001b[2K     \u001b[91m━━━━━━━━━━━━━━━━━━━━━━━━━━━━━━━━━━━━━━━\u001b[0m\u001b[91m╸\u001b[0m \u001b[32m19.1/19.1 MB\u001b[0m \u001b[31m28.6 MB/s\u001b[0m eta \u001b[36m0:00:01\u001b[0m"
     ]
    },
    {
     "name": "stdout",
     "output_type": "stream",
     "text": [
      "\r",
      "\u001b[2K     \u001b[91m━━━━━━━━━━━━━━━━━━━━━━━━━━━━━━━━━━━━━━━\u001b[0m\u001b[91m╸\u001b[0m \u001b[32m19.1/19.1 MB\u001b[0m \u001b[31m28.6 MB/s\u001b[0m eta \u001b[36m0:00:01\u001b[0m\r",
      "\u001b[2K     \u001b[91m━━━━━━━━━━━━━━━━━━━━━━━━━━━━━━━━━━━━━━━\u001b[0m\u001b[91m╸\u001b[0m \u001b[32m19.1/19.1 MB\u001b[0m \u001b[31m28.6 MB/s\u001b[0m eta \u001b[36m0:00:01\u001b[0m"
     ]
    },
    {
     "name": "stdout",
     "output_type": "stream",
     "text": [
      "\r",
      "\u001b[2K     \u001b[91m━━━━━━━━━━━━━━━━━━━━━━━━━━━━━━━━━━━━━━━\u001b[0m\u001b[91m╸\u001b[0m \u001b[32m19.1/19.1 MB\u001b[0m \u001b[31m28.6 MB/s\u001b[0m eta \u001b[36m0:00:01\u001b[0m"
     ]
    },
    {
     "name": "stdout",
     "output_type": "stream",
     "text": [
      "\r",
      "\u001b[2K     \u001b[91m━━━━━━━━━━━━━━━━━━━━━━━━━━━━━━━━━━━━━━━\u001b[0m\u001b[91m╸\u001b[0m \u001b[32m19.1/19.1 MB\u001b[0m \u001b[31m28.6 MB/s\u001b[0m eta \u001b[36m0:00:01\u001b[0m"
     ]
    },
    {
     "name": "stdout",
     "output_type": "stream",
     "text": [
      "\r",
      "\u001b[2K     \u001b[91m━━━━━━━━━━━━━━━━━━━━━━━━━━━━━━━━━━━━━━━\u001b[0m\u001b[91m╸\u001b[0m \u001b[32m19.1/19.1 MB\u001b[0m \u001b[31m28.6 MB/s\u001b[0m eta \u001b[36m0:00:01\u001b[0m\r",
      "\u001b[2K     \u001b[91m━━━━━━━━━━━━━━━━━━━━━━━━━━━━━━━━━━━━━━━\u001b[0m\u001b[91m╸\u001b[0m \u001b[32m19.1/19.1 MB\u001b[0m \u001b[31m28.6 MB/s\u001b[0m eta \u001b[36m0:00:01\u001b[0m"
     ]
    },
    {
     "name": "stdout",
     "output_type": "stream",
     "text": [
      "\r",
      "\u001b[2K     \u001b[91m━━━━━━━━━━━━━━━━━━━━━━━━━━━━━━━━━━━━━━━\u001b[0m\u001b[91m╸\u001b[0m \u001b[32m19.1/19.1 MB\u001b[0m \u001b[31m28.6 MB/s\u001b[0m eta \u001b[36m0:00:01\u001b[0m"
     ]
    },
    {
     "name": "stdout",
     "output_type": "stream",
     "text": [
      "\r",
      "\u001b[2K     \u001b[91m━━━━━━━━━━━━━━━━━━━━━━━━━━━━━━━━━━━━━━━\u001b[0m\u001b[91m╸\u001b[0m \u001b[32m19.1/19.1 MB\u001b[0m \u001b[31m28.6 MB/s\u001b[0m eta \u001b[36m0:00:01\u001b[0m\r",
      "\u001b[2K     \u001b[90m━━━━━━━━━━━━━━━━━━━━━━━━━━━━━━━━━━━━━━━━\u001b[0m \u001b[32m19.1/19.1 MB\u001b[0m \u001b[31m15.5 MB/s\u001b[0m eta \u001b[36m0:00:00\u001b[0m\r\n",
      "\u001b[?25h"
     ]
    },
    {
     "name": "stdout",
     "output_type": "stream",
     "text": [
      "Requirement already satisfied: typing-extensions in /opt/conda/envs/edc-default-2022.10-14/lib/python3.9/site-packages (from torch) (4.4.0)\r\n",
      "Requirement already satisfied: numpy in /opt/conda/envs/edc-default-2022.10-14/lib/python3.9/site-packages (from torchvision) (1.23.3)\r\n",
      "Requirement already satisfied: pillow!=8.3.*,>=5.3.0 in /opt/conda/envs/edc-default-2022.10-14/lib/python3.9/site-packages (from torchvision) (9.2.0)\r\n",
      "Requirement already satisfied: requests in /opt/conda/envs/edc-default-2022.10-14/lib/python3.9/site-packages (from torchvision) (2.28.1)\r\n",
      "Requirement already satisfied: urllib3<1.27,>=1.21.1 in /opt/conda/envs/edc-default-2022.10-14/lib/python3.9/site-packages (from requests->torchvision) (1.26.11)\r\n",
      "Requirement already satisfied: charset-normalizer<3,>=2 in /opt/conda/envs/edc-default-2022.10-14/lib/python3.9/site-packages (from requests->torchvision) (2.1.1)\r\n",
      "Requirement already satisfied: certifi>=2017.4.17 in /opt/conda/envs/edc-default-2022.10-14/lib/python3.9/site-packages (from requests->torchvision) (2022.9.24)\r\n",
      "Requirement already satisfied: idna<4,>=2.5 in /opt/conda/envs/edc-default-2022.10-14/lib/python3.9/site-packages (from requests->torchvision) (3.4)\r\n"
     ]
    },
    {
     "name": "stdout",
     "output_type": "stream",
     "text": [
      "Installing collected packages: torch, torchvision\r\n"
     ]
    },
    {
     "name": "stdout",
     "output_type": "stream",
     "text": [
      "Successfully installed torch-1.12.1 torchvision-0.13.1\r\n"
     ]
    }
   ],
   "source": [
    "import os\n",
    "import sys\n",
    "\n",
    "!{sys.executable} -m pip install torch torchvision\n",
    "os.environ['EDC_PATH'] + \"/notebooks/contributions/eurocrops-model\"\n",
    "sys.path.append(os.path.join(os.environ['EDC_PATH'] + \"/notebooks/contributions/eurocrops-model\"))"
   ]
  },
  {
   "cell_type": "code",
   "execution_count": 3,
   "id": "f22868cd-049e-4e60-b668-df242d18976e",
   "metadata": {
    "execution": {
     "iopub.execute_input": "2022-10-24T18:36:59.153496Z",
     "iopub.status.busy": "2022-10-24T18:36:59.153228Z",
     "iopub.status.idle": "2022-10-24T18:37:02.901761Z",
     "shell.execute_reply": "2022-10-24T18:37:02.901164Z"
    },
    "papermill": {
     "duration": 3.76668,
     "end_time": "2022-10-24T18:37:02.903948",
     "exception": false,
     "start_time": "2022-10-24T18:36:59.137268",
     "status": "completed"
    },
    "tags": []
   },
   "outputs": [],
   "source": [
    "import json\n",
    "import logging\n",
    "import sys\n",
    "import zipfile\n",
    "\n",
    "import geopandas as gpd\n",
    "import numpy as np\n",
    "import pandas as pd\n",
    "import subprocess\n",
    "from lstm import LSTM\n",
    "from polygon import PolyDataset\n",
    "from transforms import get_sample_n_timestamps\n",
    "from utils import test, train\n",
    "from sklearn.metrics import confusion_matrix\n",
    "from sklearn.model_selection import train_test_split\n",
    "from torch.optim import Adam\n",
    "from torch.utils.data import DataLoader\n",
    "\n",
    "from sentinelhub import parse_time"
   ]
  },
  {
   "cell_type": "markdown",
   "id": "fed6baf1",
   "metadata": {
    "papermill": {
     "duration": 0.015709,
     "end_time": "2022-10-24T18:37:02.936567",
     "exception": false,
     "start_time": "2022-10-24T18:37:02.920858",
     "status": "completed"
    },
    "tags": []
   },
   "source": [
    "## 0. Constants <a name=constants></a>\n",
    "\n",
    "This section initialises paths, constants and utility functions used in the notebook."
   ]
  },
  {
   "cell_type": "code",
   "execution_count": 4,
   "id": "eff171f7-d27b-4150-9fff-65ef5f456aba",
   "metadata": {
    "execution": {
     "iopub.execute_input": "2022-10-24T18:37:02.968428Z",
     "iopub.status.busy": "2022-10-24T18:37:02.967760Z",
     "iopub.status.idle": "2022-10-24T18:37:02.976885Z",
     "shell.execute_reply": "2022-10-24T18:37:02.976065Z"
    },
    "papermill": {
     "duration": 0.027406,
     "end_time": "2022-10-24T18:37:02.979033",
     "exception": false,
     "start_time": "2022-10-24T18:37:02.951627",
     "status": "completed"
    },
    "tags": []
   },
   "outputs": [],
   "source": [
    "# path to local folders, change as desired\n",
    "INPUT_FOLDER = \"./input\"\n",
    "RESULTS_FOLDER = \"./output\"\n",
    "\n",
    "# name of files and folders of downloaded signals, do not change\n",
    "DATAFILE = \"ml-example-data.zip\"\n",
    "DOWNLOAD_URL = f\"https://sinergise0-my.sharepoint.com/:u:/g/personal/nejc_vesel_sinergise_com/ETMx7NG-JHpBntNMJfnsCOMBVuEegDjYq8WtTmJYl8tZ-A?e=Ck5opE&download=1\"\n",
    "EUROCROPS_GPKG = \"input_geometries.gpkg\"\n",
    "SIGNALS_FOLDER = \"ml-example-signals\"\n",
    "\n",
    "\n",
    "# utility function to read json payload into a dataframe\n",
    "def stats_to_df(stats_data):\n",
    "    \"\"\"Transform Statistical API response into a pandas.DataFrame\"\"\"\n",
    "    df_data = []\n",
    "\n",
    "    for single_data in stats_data[\"data\"]:\n",
    "        df_entry = {}\n",
    "        is_valid_entry = True\n",
    "\n",
    "        df_entry[\"interval_from\"] = parse_time(single_data[\"interval\"][\"from\"]).date()\n",
    "        df_entry[\"interval_to\"] = parse_time(single_data[\"interval\"][\"to\"]).date()\n",
    "\n",
    "        for output_name, output_data in single_data[\"outputs\"].items():\n",
    "            for band_name, band_values in output_data[\"bands\"].items():\n",
    "                band_stats = band_values[\"stats\"]\n",
    "                if band_stats[\"sampleCount\"] == band_stats[\"noDataCount\"]:\n",
    "                    is_valid_entry = False\n",
    "                    break\n",
    "\n",
    "                for stat_name, value in band_stats.items():\n",
    "                    col_name = f\"{output_name}_{band_name}_{stat_name}\"\n",
    "                    if stat_name == \"percentiles\":\n",
    "                        for perc, perc_val in value.items():\n",
    "                            perc_col_name = f\"{col_name}_{perc}\"\n",
    "                            df_entry[perc_col_name] = perc_val\n",
    "                    else:\n",
    "                        df_entry[col_name] = value\n",
    "\n",
    "        if is_valid_entry:\n",
    "            df_data.append(df_entry)\n",
    "\n",
    "    return pd.DataFrame(df_data)\n",
    "\n",
    "\n",
    "# utility function to log training progress\n",
    "def define_logger(logger_name) -> logging.Logger:\n",
    "    logger = logging.getLogger(logger_name)\n",
    "    logger.setLevel(logging.INFO)\n",
    "    formatter = logging.Formatter(\"[%(asctime)s] {%(filename)s:%(lineno)d} %(levelname)s - %(message)s\")\n",
    "\n",
    "    stdout_handler = logging.StreamHandler(sys.stdout)\n",
    "    stdout_handler.setFormatter(formatter)\n",
    "    logger.addHandler(stdout_handler)\n",
    "    return logger"
   ]
  },
  {
   "cell_type": "markdown",
   "id": "cd2bdfad",
   "metadata": {
    "papermill": {
     "duration": 0.019926,
     "end_time": "2022-10-24T18:37:03.016554",
     "exception": false,
     "start_time": "2022-10-24T18:37:02.996628",
     "status": "completed"
    },
    "tags": []
   },
   "source": [
    "## 1. Retrieve signals and labels <a name=retrieve-signals></a>\n",
    "\n",
    "In this Section, signals are read from JSON files, while the labels used during model training are extracted from the Eurocrops dataset. For this notebook, sample files are provided and downloaded locally in the following cells. "
   ]
  },
  {
   "cell_type": "code",
   "execution_count": 5,
   "id": "bb9801c0",
   "metadata": {
    "execution": {
     "iopub.execute_input": "2022-10-24T18:37:03.045995Z",
     "iopub.status.busy": "2022-10-24T18:37:03.045589Z",
     "iopub.status.idle": "2022-10-24T18:37:03.049857Z",
     "shell.execute_reply": "2022-10-24T18:37:03.048975Z"
    },
    "papermill": {
     "duration": 0.020973,
     "end_time": "2022-10-24T18:37:03.051662",
     "exception": false,
     "start_time": "2022-10-24T18:37:03.030689",
     "status": "completed"
    },
    "tags": []
   },
   "outputs": [],
   "source": [
    "if not os.path.exists(INPUT_FOLDER):\n",
    "    os.mkdir(INPUT_FOLDER)"
   ]
  },
  {
   "cell_type": "code",
   "execution_count": 6,
   "id": "aeb2e4bb-f12a-44d4-b251-4ff7a6d39d0f",
   "metadata": {
    "execution": {
     "iopub.execute_input": "2022-10-24T18:37:03.082968Z",
     "iopub.status.busy": "2022-10-24T18:37:03.082206Z",
     "iopub.status.idle": "2022-10-24T18:37:04.934041Z",
     "shell.execute_reply": "2022-10-24T18:37:04.933047Z"
    },
    "papermill": {
     "duration": 1.869725,
     "end_time": "2022-10-24T18:37:04.936236",
     "exception": false,
     "start_time": "2022-10-24T18:37:03.066511",
     "status": "completed"
    },
    "tags": []
   },
   "outputs": [
    {
     "name": "stderr",
     "output_type": "stream",
     "text": [
      "--2022-10-24 13:37:03--  https://sinergise0-my.sharepoint.com/:u:/g/personal/nejc_vesel_sinergise_com/ETMx7NG-JHpBntNMJfnsCOMBVuEegDjYq8WtTmJYl8tZ-A?e=Ck5opE&download=1\n",
      "Resolving sinergise0-my.sharepoint.com (sinergise0-my.sharepoint.com)... 13.107.136.9, 13.107.138.9\n",
      "Connecting to sinergise0-my.sharepoint.com (sinergise0-my.sharepoint.com)|13.107.136.9|:443... connected.\n",
      "HTTP request sent, awaiting response... "
     ]
    },
    {
     "name": "stderr",
     "output_type": "stream",
     "text": [
      "302 Found\n",
      "Location: /personal/nejc_vesel_sinergise_com/Documents/ml-example-data.zip?ga=1 [following]\n",
      "--2022-10-24 13:37:03--  https://sinergise0-my.sharepoint.com/personal/nejc_vesel_sinergise_com/Documents/ml-example-data.zip?ga=1\n",
      "Reusing existing connection to sinergise0-my.sharepoint.com:443.\n",
      "HTTP request sent, awaiting response... "
     ]
    },
    {
     "name": "stderr",
     "output_type": "stream",
     "text": [
      "200 OK\n",
      "Length: 88085785 (84M) [application/x-zip-compressed]\n",
      "Saving to: ‘./input/ml-example-data.zip’\n",
      "\n",
      "     0K .......... .......... .......... .......... ..........  0% 5.54M 15s\n",
      "    50K .......... .......... .......... .......... ..........  0% 5.40M 15s\n",
      "   100K .......... .......... .......... .......... ..........  0% 5.93M 15s\n",
      "   150K .......... .......... .......... .......... ..........  0% 79.5M 11s\n",
      "   200K .......... .......... .......... .......... ..........  0% 5.98M 12s\n",
      "   250K .......... .......... .......... .......... ..........  0% 55.4M 10s\n",
      "   300K .......... .......... .......... .......... ..........  0%  113M 9s\n",
      "   350K .......... .......... .......... .......... ..........  0% 73.8M 8s\n",
      "   400K .......... .......... .......... .......... ..........  0% 6.52M 8s\n",
      "   450K .......... .......... .......... .......... ..........  0% 69.1M 8s\n",
      "   500K .......... .......... .......... .......... ..........  0% 62.4M 7s\n",
      "   550K .......... .......... .......... .......... ..........  0% 67.8M 7s\n",
      "   600K .......... .......... .......... .......... ..........  0% 8.53M 7s\n",
      "   650K .......... .......... .......... .......... ..........  0% 80.7M 6s\n",
      "   700K .......... .......... .......... .......... ..........  0%  145M 6s\n",
      "   750K .......... .......... .......... .......... ..........  0%  123M 6s\n",
      "   800K .......... .......... .......... .......... ..........  0% 75.6M 5s\n",
      "   850K .......... .......... .......... .......... ..........  1% 97.3M 5s\n",
      "   900K .......... .......... .......... .......... ..........  1% 1.66M 8s\n",
      "   950K .......... .......... .......... .......... ..........  1%  178M 7s\n",
      "  1000K .......... .......... .......... .......... ..........  1%  125M 7s\n",
      "  1050K .......... .......... .......... .......... ..........  1% 74.9M 7s\n",
      "  1100K .......... .......... .......... .......... ..........  1%  132M 6s\n",
      "  1150K .......... .......... .......... .......... ..........  1% 82.7M 6s\n",
      "  1200K .......... .......... .......... .......... ..........  1% 59.4M 6s\n",
      "  1250K .......... .......... .......... .......... ..........  1% 8.52M 6s\n",
      "  1300K .......... .......... .......... .......... ..........  1%  111M 6s\n",
      "  1350K .......... .......... .......... .......... ..........  1%  243M 6s\n",
      "  1400K .......... .......... .......... .......... ..........  1%  139M 5s\n",
      "  1450K .......... .......... .......... .......... ..........  1% 84.1M 5s\n",
      "  1500K .......... .......... .......... .......... ..........  1%  341M 5s\n",
      "  1550K .......... .......... .......... .......... ..........  1%  304M 5s\n",
      "  1600K .......... .......... .......... .......... ..........  1%  332M 5s\n",
      "  1650K .......... .......... .......... .......... ..........  1%  374M 5s\n",
      "  1700K .......... .......... .......... .......... ..........  2%  361M 5s\n",
      "  1750K .......... .......... .......... .......... ..........  2% 7.68M 5s\n",
      "  1800K .......... .......... .......... .......... ..........  2%  247M 5s\n",
      "  1850K .......... .......... .......... .......... ..........  2% 98.6M 5s\n",
      "  1900K .......... .......... .......... .......... ..........  2%  370M 4s\n",
      "  1950K .......... .......... .......... .......... ..........  2%  359M 4s\n",
      "  2000K .......... .......... .......... .......... ..........  2%  343M 4s\n",
      "  2050K .......... .......... .......... .......... ..........  2%  283M 4s\n",
      "  2100K .......... .......... .......... .......... ..........  2%  361M 4s\n",
      "  2150K .......... .......... .......... .......... ..........  2%  358M 4s\n",
      "  2200K .......... .......... .......... .......... ..........  2%  284M 4s\n",
      "  2250K .......... .......... .......... .......... ..........  2%  379M 4s\n",
      "  2300K .......... .......... .......... .......... ..........  2% 6.79M 4s\n",
      "  2350K .......... .......... .......... .......... ..........  2%  225M 4s\n",
      "  2400K .......... .......... .......... .......... ..........  2%  112M 4s\n",
      "  2450K .......... .......... .......... .......... ..........  2%  328M 4s\n",
      "  2500K .......... .......... .......... .......... ..........  2%  368M 4s\n",
      "  2550K .......... .......... .......... .......... ..........  3%  371M 4s\n",
      "  2600K .......... .......... .......... .......... ..........  3%  313M 4s\n",
      "  2650K .......... .......... .......... .......... ..........  3% 20.1M 4s\n",
      "  2700K .......... .......... .......... .......... ..........  3%  108M 3s\n",
      "  2750K .......... .......... .......... .......... ..........  3%  153M 3s\n",
      "  2800K .......... .......... .......... .......... ..........  3%  110M 3s\n",
      "  2850K .......... .......... .......... .......... ..........  3%  282M 3s\n",
      "  2900K .......... .......... .......... .......... ..........  3% 16.4M 3s\n",
      "  2950K .......... .......... .......... .......... ..........  3%  134M 3s\n",
      "  3000K .......... .......... .......... .......... ..........  3% 80.6M 3s\n",
      "  3050K .......... .......... .......... .......... ..........  3%  187M 3s\n",
      "  3100K .......... .......... .......... .......... ..........  3%  246M 3s\n",
      "  3150K .......... .......... .......... .......... ..........  3%  383M 3s\n",
      "  3200K .......... .......... .......... .......... ..........  3%  339M 3s\n",
      "  3250K .......... .......... .......... .......... ..........  3%  322M 3s\n",
      "  3300K .......... .......... .......... .......... ..........  3%  387M 3s\n",
      "  3350K .......... .......... .......... .......... ..........  3% 18.7M 3s\n",
      "  3400K .......... .......... .......... .......... ..........  4%  136M 3s\n",
      "  3450K .......... .......... .......... .......... ..........  4%  150M 3s\n",
      "  3500K .......... .......... .......... .......... ..........  4%  125M 3s\n",
      "  3550K .......... .......... .......... .......... ..........  4% 2.90M 3s\n",
      "  3600K .......... .......... .......... .......... ..........  4% 63.6M 3s\n",
      "  3650K .......... .......... .......... .......... ..........  4%  344M 3s\n",
      "  3700K .......... .......... .......... .......... ..........  4%  353M 3s\n",
      "  3750K .......... .......... .......... .......... ..........  4%  375M 3s\n",
      "  3800K .......... .......... .......... .......... ..........  4%  311M 3s\n",
      "  3850K .......... .......... .......... .......... ..........  4%  376M 3s\n",
      "  3900K .......... .......... .......... .......... ..........  4%  372M 3s\n",
      "  3950K .......... .......... .......... .......... ..........  4%  263M 3s\n",
      "  4000K .......... .......... .......... .......... ..........  4%  301M 3s\n",
      "  4050K .......... .......... .......... .......... ..........  4%  361M 3s\n",
      "  4100K .......... .......... .......... .......... ..........  4%  371M 3s\n",
      "  4150K .......... .......... .......... .......... ..........  4%  382M 3s\n",
      "  4200K .......... .......... .......... .......... ..........  4%  301M 3s\n",
      "  4250K .......... .......... .......... .......... ..........  4%  376M 3s\n",
      "  4300K .......... .......... .......... .......... ..........  5%  378M 3s\n",
      "  4350K .......... .......... .......... .......... ..........  5%  380M 3s\n",
      "  4400K .......... .......... .......... .......... ..........  5% 8.52M 3s\n",
      "  4450K .......... .......... .......... .......... ..........  5% 34.3M 3s\n",
      "  4500K .......... .......... .......... .......... ..........  5%  156M 3s\n",
      "  4550K .......... .......... .......... .......... ..........  5%  139M 3s\n",
      "  4600K .......... .......... .......... .......... ..........  5%  289M 3s\n",
      "  4650K .......... .......... .......... .......... ..........  5%  372M 3s\n",
      "  4700K .......... .......... .......... .......... ..........  5%  358M 3s\n",
      "  4750K .......... .......... .......... .......... ..........  5%  353M 3s\n",
      "  4800K .......... .......... .......... .......... ..........  5%  296M 3s\n",
      "  4850K .......... .......... .......... .......... ..........  5%  372M 3s\n",
      "  4900K .......... .......... .......... .......... ..........  5%  364M 3s\n",
      "  4950K .......... .......... .......... .......... ..........  5%  348M 2s\n",
      "  5000K .......... .......... .......... .......... ..........  5%  306M 2s\n",
      "  5050K .......... .......... .......... .......... ..........  5%  374M 2s\n",
      "  5100K .......... .......... .......... .......... ..........  5%  369M 2s\n",
      "  5150K .......... .......... .......... .......... ..........  6%  375M 2s\n",
      "  5200K .......... .......... .......... .......... ..........  6%  298M 2s\n",
      "  5250K .......... .......... .......... .......... ..........  6% 10.9M 2s\n",
      "  5300K .......... .......... .......... .......... ..........  6%  205M 2s\n",
      "  5350K .......... .......... .......... .......... ..........  6% 4.24M 3s\n",
      "  5400K .......... .......... .......... .......... ..........  6%  233M 3s\n",
      "  5450K .......... .......... .......... .......... ..........  6%  354M 2s\n",
      "  5500K .......... .......... .......... .......... ..........  6%  364M 2s\n",
      "  5550K .......... .......... .......... .......... ..........  6%  361M 2s\n",
      "  5600K .......... .......... .......... .......... ..........  6%  327M 2s\n",
      "  5650K .......... .......... .......... .......... ..........  6%  175M 2s\n",
      "  5700K .......... .......... .......... .......... ..........  6%  170M 2s\n",
      "  5750K .......... .......... .......... .......... ..........  6%  178M 2s\n",
      "  5800K .......... .......... .......... .......... ..........  6%  266M 2s\n",
      "  5850K .......... .......... .......... .......... ..........  6%  316M 2s\n",
      "  5900K .......... .......... .......... .......... ..........  6%  364M 2s\n",
      "  5950K .......... .......... .......... .......... ..........  6%  367M 2s\n",
      "  6000K .......... .......... .......... .......... ..........  7%  320M 2s\n",
      "  6050K .......... .......... .......... .......... ..........  7%  348M 2s\n",
      "  6100K .......... .......... .......... .......... ..........  7%  317M 2s\n",
      "  6150K .......... .......... .......... .......... ..........  7%  365M 2s\n",
      "  6200K .......... .......... .......... .......... ..........  7%  298M 2s\n",
      "  6250K .......... .......... .......... .......... ..........  7%  330M 2s\n",
      "  6300K .......... .......... .......... .......... ..........  7%  361M 2s\n",
      "  6350K .......... .......... .......... .......... ..........  7% 8.81M 2s\n",
      "  6400K .......... .......... .......... .......... ..........  7%  116M 2s\n",
      "  6450K .......... .......... .......... .......... ..........  7%  356M 2s\n",
      "  6500K .......... .......... .......... .......... ..........  7%  366M 2s\n",
      "  6550K .......... .......... .......... .......... ..........  7%  343M 2s\n",
      "  6600K .......... .......... .......... .......... ..........  7%  269M 2s\n",
      "  6650K .......... .......... .......... .......... ..........  7%  326M 2s\n",
      "  6700K .......... .......... .......... .......... ..........  7%  269M 2s\n",
      "  6750K .......... .......... .......... .......... ..........  7%  221M 2s\n",
      "  6800K .......... .......... .......... .......... ..........  7%  210M 2s\n",
      "  6850K .......... .......... .......... .......... ..........  8%  251M 2s\n",
      "  6900K .......... .......... .......... .......... ..........  8%  245M 2s\n",
      "  6950K .......... .......... .......... .......... ..........  8%  243M 2s\n",
      "  7000K .......... .......... .......... .......... ..........  8%  181M 2s\n",
      "  7050K .......... .......... .......... .......... ..........  8%  237M 2s\n",
      "  7100K .......... .......... .......... .......... ..........  8%  255M 2s\n",
      "  7150K .......... .......... .......... .......... ..........  8% 3.53M 2s\n",
      "  7200K .......... .......... .......... .......... ..........  8%  216M 2s\n",
      "  7250K .......... .......... .......... .......... ..........  8%  250M 2s\n",
      "  7300K .......... .......... .......... .......... ..........  8%  260M 2s\n",
      "  7350K .......... .......... .......... .......... ..........  8%  222M 2s\n",
      "  7400K .......... .......... .......... .......... ..........  8%  195M 2s\n",
      "  7450K .......... .......... .......... .......... ..........  8%  268M 2s\n",
      "  7500K .......... .......... .......... .......... ..........  8%  260M 2s\n",
      "  7550K .......... .......... .......... .......... ..........  8%  275M 2s\n",
      "  7600K .......... .......... .......... .......... ..........  8%  249M 2s\n",
      "  7650K .......... .......... .......... .......... ..........  8%  304M 2s\n",
      "  7700K .......... .......... .......... .......... ..........  9%  332M 2s\n",
      "  7750K .......... .......... .......... .......... ..........  9%  275M 2s\n",
      "  7800K .......... .......... .......... .......... ..........  9%  199M 2s\n",
      "  7850K .......... .......... .......... .......... ..........  9%  261M 2s\n",
      "  7900K .......... .......... .......... .......... ..........  9%  253M 2s\n",
      "  7950K .......... .......... .......... .......... ..........  9%  246M 2s\n",
      "  8000K .......... .......... .......... .......... ..........  9%  182M 2s\n",
      "  8050K .......... .......... .......... .......... ..........  9%  280M 2s\n",
      "  8100K .......... .......... .......... .......... ..........  9%  276M 2s\n",
      "  8150K .......... .......... .......... .......... ..........  9%  264M 2s\n",
      "  8200K .......... .......... .......... .......... ..........  9%  224M 2s\n",
      "  8250K .......... .......... .........."
     ]
    },
    {
     "name": "stderr",
     "output_type": "stream",
     "text": [
      " .......... ..........  9% 10.8M 2s\n",
      "  8300K .......... .......... .......... .......... ..........  9%  107M 2s\n",
      "  8350K .......... .......... .......... .......... ..........  9% 45.1M 2s\n",
      "  8400K .......... .......... .......... .......... ..........  9%  310M 2s\n",
      "  8450K .......... .......... .......... .......... ..........  9%  373M 2s\n",
      "  8500K .......... .......... .......... .......... ..........  9%  376M 2s\n",
      "  8550K .......... .......... .......... .......... ..........  9%  371M 2s\n",
      "  8600K .......... .......... .......... .......... .......... 10%  255M 2s\n",
      "  8650K .......... .......... .......... .......... .......... 10%  267M 2s\n",
      "  8700K .......... .......... .......... .......... .......... 10%  213M 2s\n",
      "  8750K .......... .......... .......... .......... .......... 10%  334M 2s\n",
      "  8800K .......... .......... .......... .......... .......... 10%  110M 2s\n",
      "  8850K .......... .......... .......... .......... .......... 10%  325M 2s\n",
      "  8900K .......... .......... .......... .......... .......... 10%  343M 2s\n",
      "  8950K .......... .......... .......... .......... .......... 10%  353M 2s\n",
      "  9000K .......... .......... .......... .......... .......... 10%  307M 2s\n",
      "  9050K .......... .......... .......... .......... .......... 10%  362M 2s\n",
      "  9100K .......... .......... .......... .......... .......... 10%  355M 2s\n",
      "  9150K .......... .......... .......... .......... .......... 10%  302M 2s\n",
      "  9200K .......... .......... .......... .......... .......... 10%  330M 2s\n",
      "  9250K .......... .......... .......... .......... .......... 10%  360M 2s\n",
      "  9300K .......... .......... .......... .......... .......... 10%  372M 2s\n",
      "  9350K .......... .......... .......... .......... .......... 10%  325M 2s\n",
      "  9400K .......... .......... .......... .......... .......... 10%  232M 2s\n",
      "  9450K .......... .......... .......... .......... .......... 11%  258M 2s\n",
      "  9500K .......... .......... .......... .......... .......... 11%  311M 2s\n",
      "  9550K .......... .......... .......... .......... .......... 11%  373M 2s\n",
      "  9600K .......... .......... .......... .......... .......... 11% 15.7M 2s\n",
      "  9650K .......... .......... .......... .......... .......... 11%  261M 2s\n",
      "  9700K .......... .......... .......... .......... .......... 11% 66.5M 2s\n",
      "  9750K .......... .......... .......... .......... .......... 11%  348M 2s\n",
      "  9800K .......... .......... .......... .......... .......... 11%  318M 2s\n",
      "  9850K .......... .......... .......... .......... .......... 11%  375M 2s\n",
      "  9900K .......... .......... .......... .......... .......... 11%  396M 2s\n",
      "  9950K .......... .......... .......... .......... .......... 11%  388M 2s\n",
      " 10000K .......... .......... .......... .......... .......... 11% 49.4M 2s\n",
      " 10050K .......... .......... .......... .......... .......... 11%  342M 2s\n",
      " 10100K .......... .......... .......... .......... .......... 11%  371M 2s\n",
      " 10150K .......... .......... .......... .......... .......... 11%  374M 2s\n",
      " 10200K .......... .......... .......... .......... .......... 11%  303M 2s\n",
      " 10250K .......... .......... .......... .......... .......... 11%  356M 2s\n",
      " 10300K .......... .......... .......... .......... .......... 12%  382M 2s\n",
      " 10350K .......... .......... .......... .......... .......... 12%  312M 2s\n",
      " 10400K .......... .......... .......... .......... .......... 12%  332M 2s\n",
      " 10450K .......... .......... .......... .......... .......... 12%  364M 2s\n",
      " 10500K .......... .......... .......... .......... .......... 12%  361M 2s\n",
      " 10550K .......... .......... .......... .......... .......... 12%  373M 2s\n",
      " 10600K .......... .......... .......... .......... .......... 12%  304M 2s\n",
      " 10650K .......... .......... .......... .......... .......... 12%  377M 2s\n",
      " 10700K .......... .......... .......... .......... .......... 12%  378M 2s\n",
      " 10750K .......... .......... .......... .......... .......... 12% 5.01M 2s\n",
      " 10800K .......... .......... .......... .......... .......... 12%  309M 2s\n",
      " 10850K .......... .......... .......... .......... .......... 12%  355M 2s\n",
      " 10900K .......... .......... .......... .......... .......... 12%  357M 2s\n",
      " 10950K .......... .......... .......... .......... .......... 12%  362M 2s\n",
      " 11000K .......... .......... .......... .......... .......... 12%  270M 2s\n",
      " 11050K .......... .......... .......... .......... .......... 12%  370M 2s\n",
      " 11100K .......... .......... .......... .......... .......... 12%  378M 2s\n",
      " 11150K .......... .......... .......... .......... .......... 13%  377M 2s\n",
      " 11200K .......... .......... .......... .......... .......... 13%  269M 2s\n",
      " 11250K .......... .......... .......... .......... .......... 13% 99.9M 2s\n",
      " 11300K .......... .......... .......... .......... .......... 13%  134M 2s\n",
      " 11350K .......... .......... .......... .......... .......... 13% 61.2M 2s\n",
      " 11400K .......... .......... .......... .......... .......... 13% 28.7M 2s\n",
      " 11450K .......... .......... .......... .......... .......... 13% 76.2M 2s\n",
      " 11500K .......... .......... .......... .......... .......... 13%  115M 2s\n",
      " 11550K .......... .......... .......... .......... .......... 13%  235M 1s\n",
      " 11600K .......... .......... .......... .......... .......... 13%  317M 1s\n",
      " 11650K .......... .......... .......... .......... .......... 13%  360M 1s\n",
      " 11700K .......... .......... .......... .......... .......... 13%  358M 1s\n",
      " 11750K .......... .......... .......... .......... .......... 13%  324M 1s\n",
      " 11800K .......... .......... .......... .......... .......... 13%  304M 1s\n",
      " 11850K .......... .......... .......... .......... .......... 13%  362M 1s\n",
      " 11900K .......... .......... .......... .......... .......... 13%  364M 1s\n",
      " 11950K .......... .......... .......... .......... .......... 13%  359M 1s\n",
      " 12000K .......... .......... .......... .......... .......... 14%  314M 1s\n",
      " 12050K .......... .......... .......... .......... .......... 14%  377M 1s\n",
      " 12100K .......... .......... .......... .......... .......... 14%  371M 1s\n",
      " 12150K .......... .......... .......... .......... .......... 14%  126M 1s\n",
      " 12200K .......... .......... .......... .......... .......... 14%  299M 1s\n",
      " 12250K .......... .......... .......... .......... .......... 14% 82.5M 1s\n",
      " 12300K .......... .......... .......... .......... .......... 14%  112M 1s\n",
      " 12350K .......... .......... .......... .......... .......... 14%  202M 1s\n",
      " 12400K .......... .......... .......... .......... .......... 14%  325M 1s\n",
      " 12450K .......... .......... .......... .......... .......... 14%  370M 1s\n",
      " 12500K .......... .......... .......... .......... .......... 14%  346M 1s\n",
      " 12550K .......... .......... .......... .......... .......... 14%  369M 1s\n",
      " 12600K .......... .......... .......... .......... .......... 14%  306M 1s\n",
      " 12650K .......... .......... .......... .......... .......... 14%  342M 1s\n",
      " 12700K .......... .......... .......... .......... .......... 14%  369M 1s\n",
      " 12750K .......... .......... .......... .......... .......... 14%  326M 1s\n",
      " 12800K .......... .......... .......... .......... .......... 14%  339M 1s\n",
      " 12850K .......... .......... .......... .......... .......... 14%  383M 1s\n",
      " 12900K .......... .......... .......... .......... .......... 15%  381M 1s\n",
      " 12950K .......... .......... .......... .......... .......... 15%  384M 1s\n",
      " 13000K .......... .......... .......... .......... .......... 15%  306M 1s\n",
      " 13050K .......... .......... .......... .......... .......... 15%  384M 1s\n",
      " 13100K .......... .......... .......... .......... .......... 15%  387M 1s\n",
      " 13150K .......... .......... .......... .......... .......... 15%  384M 1s\n",
      " 13200K .......... .......... .......... .......... .......... 15% 66.2M 1s\n",
      " 13250K .......... .......... .......... .......... .......... 15%  232M 1s\n",
      " 13300K .......... .......... .......... .......... .......... 15% 86.8M 1s\n",
      " 13350K .......... .......... .......... .......... .......... 15%  158M 1s\n",
      " 13400K .......... .......... .......... .......... .......... 15% 4.67M 1s\n",
      " 13450K .......... .......... .......... .......... .......... 15%  141M 1s\n",
      " 13500K .......... .......... .......... .......... .......... 15%  265M 1s\n",
      " 13550K .......... .......... .......... .......... .......... 15%  143M 1s\n",
      " 13600K .......... .......... .......... .......... .......... 15% 69.9M 1s\n",
      " 13650K .......... .......... .......... .......... .......... 15%  136M 1s\n",
      " 13700K .......... .......... .......... .......... .......... 15%  145M 1s\n",
      " 13750K .......... .......... .......... .......... .......... 16%  122M 1s\n",
      " 13800K .......... .......... .......... .......... .......... 16%  107M 1s\n",
      " 13850K .......... .......... .......... .......... .......... 16%  258M 1s\n",
      " 13900K .......... .......... .......... .......... .......... 16%  107M 1s\n",
      " 13950K .......... .......... .......... .......... .......... 16%  169M 1s\n",
      " 14000K .......... .......... .......... .......... .......... 16% 91.9M 1s\n",
      " 14050K .......... .......... .......... .......... .......... 16%  158M 1s\n",
      " 14100K .......... .......... .......... .......... .......... 16%  295M 1s\n",
      " 14150K .......... .......... .......... .......... .......... 16%  360M 1s\n",
      " 14200K .......... .......... .......... .......... .......... 16%  304M 1s\n",
      " 14250K .......... .......... .......... .......... .......... 16%  281M 1s\n",
      " 14300K .......... .......... .......... .......... .......... 16%  356M 1s\n",
      " 14350K .......... .......... .......... .......... .......... 16%  357M 1s\n",
      " 14400K .......... .......... .......... .......... .......... 16%  318M 1s\n",
      " 14450K .......... .......... .......... .......... .......... 16%  343M 1s\n",
      " 14500K .......... .......... .......... .......... .......... 16%  359M 1s\n",
      " 14550K .......... .......... .......... .......... .......... 16%  359M 1s\n",
      " 14600K .......... .......... .......... .......... .......... 17%  270M 1s\n",
      " 14650K .......... .......... .......... .......... .......... 17%  317M 1s\n",
      " 14700K .......... .......... .......... .......... .......... 17%  380M 1s\n",
      " 14750K .......... .......... .......... .......... .......... 17%  361M 1s\n",
      " 14800K .......... .......... .......... .......... .......... 17%  339M 1s\n",
      " 14850K .......... .......... .......... .......... .......... 17%  340M 1s\n",
      " 14900K .......... .......... .......... .......... .......... 17%  373M 1s\n",
      " 14950K .......... .......... .......... .......... .......... 17%  369M 1s\n",
      " 15000K .......... .......... .......... .......... .......... 17%  294M 1s\n",
      " 15050K .......... .......... .......... .......... .......... 17%  299M 1s\n",
      " 15100K .......... .......... .......... .......... .......... 17%  317M 1s\n",
      " 15150K .......... .......... .......... .......... .......... 17% 96.2M 1s\n",
      " 15200K .......... .......... .......... .......... .......... 17% 45.0M 1s\n",
      " 15250K .......... .......... .......... .......... .......... 17%  244M 1s\n",
      " 15300K .......... .......... .......... .......... .......... 17%  338M 1s\n",
      " 15350K .......... .......... .......... .......... .......... 17%  360M 1s\n",
      " 15400K .......... .......... .......... .......... .......... 17%  295M 1s\n",
      " 15450K .......... .......... .......... .......... .......... 18%  364M 1s\n",
      " 15500K .......... .......... .......... .......... .......... 18%  362M 1s\n",
      " 15550K .......... .......... .......... .......... .......... 18%  322M 1s\n",
      " 15600K .......... .......... .......... .......... .......... 18% 27.4M 1s\n",
      " 15650K .......... .......... .......... .......... .......... 18% 68.3M 1s\n",
      " 15700K .......... .......... .......... .......... .......... 18% 78.2M 1s\n",
      " 15750K .......... .......... .......... .......... .......... 18%  287M 1s\n",
      " 15800K .......... .......... .......... .......... .......... 18%  259M 1s\n",
      " 15850K .......... .......... .......... .......... .......... 18%  308M 1s\n",
      " 15900K .......... .......... .......... .......... .......... 18%  299M 1s\n",
      " 15950K .......... .......... .......... .......... .......... 18%  293M 1s\n",
      " 16000K .......... .......... .......... .......... .......... 18%  286M 1s\n",
      " 16050K .......... .......... .......... .......... .......... 18%  328M 1s\n",
      " 16100K .......... .......... .......... .......... .......... 18%  293M 1s\n",
      " 16150K .......... .......... .......... .......... .......... 18%  329M 1s\n",
      " 16200K .......... .......... .......... .......... .......... 18%  270M 1s\n",
      " 16250K .......... .......... .......... .......... .......... 18%  310M 1s\n",
      " 16300K .......... .......... .......... .......... .......... 19%  243M 1s\n",
      " 16350K .......... .......... .......... .......... .......... 19%  357M 1s\n",
      " 16400K .......... .......... .......... .......... .......... 19%  314M 1s\n",
      " 16450K .......... .......... .......... .......... .......... 19%  365M 1s\n",
      " 16500K .......... .......... .......... .......... .......... 19%  380M 1s\n",
      " 16550K .......... .......... .......... .......... .......... 19%  356M 1s\n",
      " 16600K .......... .......... .......... .......... .......... 19%  313M 1s\n",
      " 16650K .......... .......... .......... .......... .......... 19%  349M 1s\n",
      " 16700K .......... .......... .......... .......... .......... 19%  380M 1s\n",
      " 16750K .......... .......... .......... .......... .......... 19%  161M 1s\n",
      " 16800K .......... .......... .......... .......... .......... 19%  314M 1s\n",
      " 16850K .......... .......... .......... .......... .......... 19%  270M 1s\n",
      " 16900K .......... .......... .......... .......... .......... 19%  359M 1s\n",
      " 16950K .......... .......... .......... .......... .......... 19%  378M 1s\n",
      " 17000K .......... .......... .......... .......... .......... 19%  285M 1s\n",
      " 17050K .......... .......... .......... .......... .......... 19%  124M 1s\n",
      " 17100K .......... .......... .......... .......... .......... 19%  141M 1s\n",
      " 17150K .......... .......... .......... .......... .......... 19%  357M 1s\n",
      " 17200K .......... .......... .......... .......... .......... 20%  339M 1s\n",
      " 17250K .......... .......... .......... .......... .......... 20%  383M 1s\n",
      " 17300K .......... .......... .......... .......... .......... 20%  384M 1s\n",
      " 17350K .......... .......... .......... .......... .......... 20%  389M 1s\n",
      " 17400K .......... .......... .......... .......... .......... 20%  312M 1s\n",
      " 17450K .......... .......... .......... .......... .......... 20%  392M 1s\n",
      " 17500K .......... .......... .......... .......... .......... 20% 54.3M 1s\n",
      " 17550K .......... .......... .......... .......... .......... 20% 41.9M 1s\n",
      " 17600K .......... .......... .......... .......... .......... 20%  108M 1s\n",
      " 17650K .......... .......... .......... .......... .......... 20% 96.2M 1s\n",
      " 17700K .......... .......... .......... .......... .......... 20% 88.8M 1s\n",
      " 17750K .......... .......... .......... .......... .......... 20% 83.3M 1s\n",
      " 17800K .......... .......... .......... .......... .......... 20%  181M 1s\n",
      " 17850K .......... .......... .......... .......... .......... 20%  134M 1s\n",
      " 17900K .......... .......... .......... .......... .......... 20% 9.28M 1s\n",
      " 17950K .......... .......... .......... .......... .......... 20%  236M 1s\n",
      " 18000K .......... .......... .......... .......... .......... 20%  225M 1s\n",
      " 18050K .......... .......... .......... .......... .......... 21%  246M 1s\n",
      " 18100K .......... .......... .......... .......... .......... 21%  203M 1s\n",
      " 18150K .......... .......... .......... .......... .......... 21%  139M 1s\n",
      " 18200K .......... .......... .......... .......... .......... 21%  135M 1s\n",
      " 18250K .......... .......... .......... .......... .......... 21% 73.7M 1s\n",
      " 18300K .......... .......... .......... .......... .......... 21%  143M 1s\n",
      " 18350K .......... .......... .......... .......... .......... 21%  116M 1s\n",
      " 18400K .......... .......... .......... .......... .......... 21%  107M 1s\n",
      " 18450K .......... .......... .......... .......... .......... 21% 90.5M 1s\n",
      " 18500K .......... .......... .......... .......... .......... 21%  268M 1s\n",
      " 18550K .......... .......... .......... .......... .......... 21%  257M 1s\n",
      " 18600K .......... .......... .......... .......... .......... 21%  236M 1s\n",
      " 18650K .......... .......... .......... .......... .......... 21%  263M 1s\n",
      " 18700K .......... .......... .......... .......... .......... 21%  112M 1s\n",
      " 18750K .......... .......... .......... .......... .......... 21%  280M 1s\n",
      " 18800K .......... .......... .......... .......... .......... 21%  171M 1s\n",
      " 18850K .......... .......... .......... .......... .......... 21%  111M 1s\n",
      " 18900K .......... .......... .......... .......... .......... 22%  267M 1s\n",
      " 18950K .......... .......... .......... .......... .......... 22%  251M 1s\n",
      " 19000K .......... .......... .......... .......... .......... 22%  257M 1s\n",
      " 19050K .......... .......... .......... .......... .......... 22%  253M 1s\n",
      " 19100K .......... .......... .......... .......... .......... 22%  237M 1s\n",
      " 19150K .......... .......... .......... .......... .......... 22%  346M 1s\n",
      " 19200K .......... .......... .......... .......... .......... 22%  307M 1s\n",
      " 19250K .......... .......... .......... .......... .......... 22%  376M 1s\n",
      " 19300K .......... .......... .......... .......... .......... 22%  303M 1s\n",
      " 19350K .......... .......... .......... .......... .......... 22%  308M 1s\n",
      " 19400K .......... .......... .......... .......... .......... 22%  297M 1s\n",
      " 19450K .......... .......... .......... .......... .......... 22%  346M 1s\n",
      " 19500K .......... .......... .......... .......... .......... 22%  311M 1s\n",
      " 19550K .......... .......... .......... .......... .......... 22%  363M 1s\n",
      " 19600K .......... .......... .......... .......... .......... 22%  324M 1s\n",
      " 19650K .......... .......... .......... .......... .......... 22%  352M 1s\n",
      " 19700K .......... .......... .......... .......... .......... 22%  344M 1s\n",
      " 19750K .......... .......... .......... .......... .......... 23%  339M 1s\n",
      " 19800K .......... .......... .......... .......... .......... 23%  303M 1s\n",
      " 19850K .......... .......... .......... .......... .......... 23%  348M 1s\n",
      " 19900K .......... .......... .......... .......... .......... 23%  368M 1s\n",
      " 19950K .......... .......... .......... .......... .......... 23%  352M 1s\n",
      " 20000K .......... .......... .......... .......... .......... 23%  116M 1s\n",
      " 20050K .......... .......... .......... .......... .......... 23%  328M 1s\n",
      " 20100K .......... .......... .......... .......... .......... 23% 55.6M 1s\n",
      " 20150K .......... .......... .......... .......... .......... 23%  110M 1s\n",
      " 20200K .......... .......... .......... .......... .......... 23%  295M 1s\n",
      " 20250K .......... .......... .......... .......... .......... 23% 78.9M 1s\n",
      " 20300K .......... .......... .......... .......... .......... 23%  310M 1s\n",
      " 20350K .......... .......... .......... .......... .......... 23%  343M 1s\n",
      " 20400K .......... .......... .......... .......... .......... 23%  287M 1s\n",
      " 20450K .......... .......... .......... .......... .......... 23%  288M 1s\n",
      " 20500K .......... .......... .......... .......... .......... 23%  364M 1s\n",
      " 20550K .......... .......... .......... .......... .......... 23%  375M 1s\n",
      " 20600K .......... .......... .......... .......... .......... 24%  303M 1s\n",
      " 20650K .......... .......... .......... .......... .......... 24%  364M 1s\n",
      " 20700K .......... .......... .......... .......... .......... 24%  327M 1s\n",
      " 20750K .......... .......... .......... .......... .......... 24%  339M 1s\n",
      " 20800K .......... .......... .......... .......... .......... 24%  326M 1s\n",
      " 20850K .......... .......... .......... .......... .......... 24%  300M 1s\n",
      " 20900K .......... .......... .......... .......... .......... 24%  305M 1s\n",
      " 20950K .......... .......... .......... .......... .......... 24%  339M 1s\n",
      " 21000K .......... .......... .......... .......... .......... 24%  313M 1s\n",
      " 21050K .......... .......... .......... .......... .......... 24%  379M 1s\n",
      " 21100K .......... .......... .......... .......... .......... 24%  383M 1s\n",
      " 21150K .......... .......... .......... .......... .......... 24%  378M 1s\n",
      " 21200K .......... .......... .......... .......... .......... 24%  313M 1s\n",
      " 21250K .......... .......... .......... .......... .......... 24%  384M 1s\n",
      " 21300K .......... .......... .......... .......... .......... 24%  382M 1s\n",
      " 21350K .......... .......... .......... .......... .......... 24%  373M 1s\n",
      " 21400K .......... .......... .......... .......... .......... 24%  311M 1s\n",
      " 21450K .......... .......... .......... .......... .......... 24%  318M 1s\n",
      " 21500K .......... .......... .......... .......... .......... 25% 4.17M 1s\n",
      " 21550K .......... .......... .......... .......... .......... 25%  303M 1s\n",
      " 21600K .......... .......... .......... .......... .......... 25%  210M 1s\n",
      " 21650K .......... .......... .......... .......... .......... 25%  306M 1s\n",
      " 21700K .......... .......... .......... .......... .......... 25%  123M 1s\n",
      " 21750K .......... .......... .......... .......... .......... 25%  108M 1s\n",
      " 21800K .......... .......... .......... .......... .......... 25%  204M 1s\n",
      " 21850K .......... .......... .......... .......... .......... 25%  366M 1s\n",
      " 21900K .......... .......... .......... .......... .......... 25%  372M 1s\n",
      " 21950K .......... .......... .......... .......... .......... 25%  372M 1s\n",
      " 22000K .......... .......... .......... .......... .......... 25%  296M 1s\n",
      " 22050K .......... .......... .......... .......... .......... 25%  329M 1s\n",
      " 22100K .......... .......... .......... .......... .......... 25%  336M 1s\n",
      " 22150K .......... .......... .......... .......... .......... 25%  242M 1s\n",
      " 22200K .......... .......... .......... .......... .......... 25%  252M 1s\n",
      " 22250K .......... .......... .......... .......... .......... 25%  314M 1s\n",
      " 22300K .......... .......... .......... .......... .......... 25%  350M 1s\n",
      " 22350K .......... .......... .......... .......... .......... 26%  262M 1s\n",
      " 22400K .......... .......... .......... .......... .......... 26%  323M 1s\n",
      " 22450K .......... .......... .......... .......... .......... 26%  375M 1s\n",
      " 22500K .......... .......... .......... .......... .......... 26%  365M 1s\n",
      " 22550K .......... .......... .......... .......... .......... 26%  367M 1s\n",
      " 22600K .......... .......... .......... .......... .......... 26%  311M 1s\n",
      " 22650K .......... .......... .......... .......... .......... 26%  331M 1s\n",
      " 22700K .......... .......... .......... .......... .......... 26%  291M 1s\n",
      " 22750K .......... .......... .......... .......... .......... 26%  363M 1s\n",
      " 22800K .......... .......... .......... .......... .......... 26%  320M 1s\n",
      " 22850K .......... .......... .......... .......... .......... 26%  377M 1s\n",
      " 22900K .......... .......... .......... .......... .......... 26%  365M 1s\n",
      " 22950K .......... .......... .......... .......... .......... 26%  320M 1s\n",
      " 23000K .......... .......... .......... .......... .......... 26%  212M 1s\n",
      " 23050K .......... .......... .......... .......... .......... 26%  187M 1s\n",
      " 23100K .......... .......... .......... .......... .......... 26%  224M 1s\n",
      " 23150K .......... .......... .......... .......... .......... 26%  287M 1s\n",
      " 23200K .......... .......... .......... .......... .......... 27%  260M 1s\n",
      " 23250K .......... .......... .......... .......... .......... 27%  274M 1s\n",
      " 23300K .......... .......... .......... .......... .......... 27%  270M 1s\n",
      " 23350K .......... .......... .......... .......... .......... 27%  261M 1s\n",
      " 23400K .......... .......... .......... .......... .......... 27%  278M 1s\n",
      " 23450K .......... .......... .......... .......... .......... 27%  317M 1s\n",
      " 23500K .......... .......... .......... .......... .......... 27%  348M 1s\n",
      " 23550K .......... .......... .......... .......... .......... 27%  339M 1s\n",
      " 23600K .......... .......... .......... .......... .......... 27%  303M 1s\n",
      " 23650K .......... .......... .......... .......... .......... 27%  311M 1s\n",
      " 23700K .......... .......... .......... .......... .......... 27%  325M 1s\n",
      " 23750K .......... .......... .......... .......... .......... 27% 49.7M 1s\n",
      " 23800K .......... .......... .......... .......... .......... 27%  189M 1s\n",
      " 23850K .......... .......... .......... .......... .......... 27% 94.3M 1s\n",
      " 23900K .......... .......... .......... .......... .......... 27%  252M 1s\n",
      " 23950K .......... .......... .......... .......... .......... 27%  187M 1s\n",
      " 24000K .......... .......... .......... .......... .......... 27%  145M 1s\n",
      " 24050K .......... .......... .......... .......... .......... 28%  184M 1s\n",
      " 24100K .......... .......... .......... .......... .......... 28%  298M 1s\n",
      " 24150K .......... .......... .......... .......... .......... 28%  160M 1s"
     ]
    },
    {
     "name": "stderr",
     "output_type": "stream",
     "text": [
      "\n",
      " 24200K .......... .......... .......... .......... .......... 28%  532K 1s\n",
      " 24250K .......... .......... .......... .......... .......... 28%  239M 1s\n",
      " 24300K .......... .......... .......... .......... .......... 28%  211M 1s\n",
      " 24350K .......... .......... .......... .......... .......... 28%  268M 1s\n",
      " 24400K .......... .......... .......... .......... .......... 28%  106M 1s\n",
      " 24450K .......... .......... .......... .......... .......... 28%  204M 1s\n",
      " 24500K .......... .......... .......... .......... .......... 28%  366M 1s\n",
      " 24550K .......... .......... .......... .......... .......... 28%  271M 1s\n",
      " 24600K .......... .......... .......... .......... .......... 28% 72.7M 1s\n",
      " 24650K .......... .......... .......... .......... .......... 28% 78.1M 1s\n",
      " 24700K .......... .......... .......... .......... .......... 28%  333M 1s\n",
      " 24750K .......... .......... .......... .......... .......... 28%  339M 1s\n",
      " 24800K .......... .......... .......... .......... .......... 28%  285M 1s\n",
      " 24850K .......... .......... .......... .......... .......... 28%  353M 1s\n",
      " 24900K .......... .......... .......... .......... .......... 29%  349M 1s\n",
      " 24950K .......... .......... .......... .......... .......... 29%  346M 1s\n",
      " 25000K .......... .......... .......... .......... .......... 29%  294M 1s\n",
      " 25050K .......... .......... .......... .......... .......... 29%  357M 1s\n",
      " 25100K .......... .......... .......... .......... .......... 29%  363M 1s\n",
      " 25150K .......... .......... .......... .......... .......... 29%  320M 1s\n",
      " 25200K .......... .......... .......... .......... .......... 29%  319M 1s\n",
      " 25250K .......... .......... .......... .......... .......... 29%  365M 1s\n",
      " 25300K .......... .......... .......... .......... .......... 29%  156M 1s\n",
      " 25350K .......... .......... .......... .......... .......... 29% 51.3M 1s\n",
      " 25400K .......... .......... .......... .......... .......... 29%  237M 1s\n",
      " 25450K .......... .......... .......... .......... .......... 29%  296M 1s\n",
      " 25500K .......... .......... .......... .......... .......... 29%  319M 1s\n",
      " 25550K .......... .......... .......... .......... .......... 29%  323M 1s\n",
      " 25600K .......... .......... .......... .......... .......... 29%  286M 1s\n",
      " 25650K .......... .......... .......... .......... .......... 29%  345M 1s\n",
      " 25700K .......... .......... .......... .......... .......... 29%  357M 1s\n",
      " 25750K .......... .......... .......... .......... .......... 29%  358M 1s\n",
      " 25800K .......... .......... .......... .......... .......... 30%  276M 1s\n",
      " 25850K .......... .......... .......... .......... .......... 30%  201M 1s\n",
      " 25900K .......... .......... .......... .......... .......... 30%  157M 1s\n",
      " 25950K .......... .......... .......... .......... .......... 30%  184M 1s\n",
      " 26000K .......... .......... .......... .......... .......... 30%  331M 1s\n",
      " 26050K .......... .......... .......... .......... .......... 30%  336M 1s\n",
      " 26100K .......... .......... .......... .......... .......... 30%  382M 1s\n",
      " 26150K .......... .......... .......... .......... .......... 30%  372M 1s\n",
      " 26200K .......... .......... .......... .......... .......... 30%  301M 1s\n",
      " 26250K .......... .......... .......... .......... .......... 30%  378M 1s\n",
      " 26300K .......... .......... .......... .......... .......... 30%  376M 1s\n",
      " 26350K .......... .......... .......... .......... .......... 30%  370M 1s\n",
      " 26400K .......... .......... .......... .......... .......... 30%  339M 1s\n",
      " 26450K .......... .......... .......... .......... .......... 30%  313M 1s\n",
      " 26500K .......... .......... .......... .......... .......... 30%  177M 1s\n",
      " 26550K .......... .......... .......... .......... .......... 30%  134M 1s\n",
      " 26600K .......... .......... .......... .......... .......... 30%  305M 1s\n",
      " 26650K .......... .......... .......... .......... .......... 31%  373M 1s\n",
      " 26700K .......... .......... .......... .......... .......... 31%  361M 1s\n",
      " 26750K .......... .......... .......... .......... .......... 31%  387M 1s\n",
      " 26800K .......... .......... .......... .......... .......... 31%  338M 1s\n",
      " 26850K .......... .......... .......... .......... .......... 31%  374M 1s\n",
      " 26900K .......... .......... .......... .......... .......... 31%  190M 1s\n",
      " 26950K .......... .......... .......... .......... .......... 31%  191M 1s\n",
      " 27000K .......... .......... .......... .......... .......... 31%  294M 1s\n",
      " 27050K .......... .......... .......... .......... .......... 31%  377M 1s\n",
      " 27100K .......... .......... .......... .......... .......... 31%  374M 1s\n",
      " 27150K .......... .......... .......... .......... .......... 31%  373M 1s\n",
      " 27200K .......... .......... .......... .......... .......... 31%  322M 1s\n",
      " 27250K .......... .......... .......... .......... .......... 31%  324M 1s\n",
      " 27300K .......... .......... .......... .......... .......... 31%  375M 1s\n",
      " 27350K .......... .......... .......... .......... .......... 31%  382M 1s\n",
      " 27400K .......... .......... .......... .......... .......... 31%  287M 1s\n",
      " 27450K .......... .......... .......... .......... .......... 31%  385M 1s\n",
      " 27500K .......... .......... .......... .......... .......... 32%  361M 1s\n",
      " 27550K .......... .......... .......... .......... .......... 32%  389M 1s\n",
      " 27600K .......... .......... .......... .......... .......... 32%  347M 1s\n",
      " 27650K .......... .......... .......... .......... .......... 32%  369M 1s\n",
      " 27700K .......... .......... .......... .......... .......... 32%  173M 1s\n",
      " 27750K .......... .......... .......... .......... .......... 32% 4.09M 1s\n",
      " 27800K .......... .......... .......... .......... .......... 32%  131M 1s\n",
      " 27850K .......... .......... .......... .......... .......... 32%  306M 1s\n",
      " 27900K .......... .......... .......... .......... .......... 32%  222M 1s\n",
      " 27950K .......... .......... .......... .......... .......... 32%  189M 1s\n",
      " 28000K .......... .......... .......... .......... .......... 32%  176M 1s\n",
      " 28050K .......... .......... .......... .......... .......... 32%  138M 1s\n",
      " 28100K .......... .......... .......... .......... .......... 32%  343M 1s\n",
      " 28150K .......... .......... .......... .......... .......... 32%  226M 1s\n",
      " 28200K .......... .......... .......... .......... .......... 32%  205M 1s\n",
      " 28250K .......... .......... .......... .......... .......... 32%  250M 1s\n",
      " 28300K .......... .......... .......... .......... .......... 32% 79.8M 1s\n",
      " 28350K .......... .......... .......... .......... .......... 33% 85.2M 1s\n",
      " 28400K .......... .......... .......... .......... .......... 33% 78.1M 1s\n",
      " 28450K .......... .......... .......... .......... .......... 33%  188M 1s\n",
      " 28500K .......... .......... .......... .......... .......... 33%  151M 1s\n",
      " 28550K .......... .......... .......... .......... .......... 33%  156M 1s\n",
      " 28600K .......... .......... .......... .......... .......... 33% 81.3M 1s\n",
      " 28650K .......... .......... .......... .......... .......... 33%  140M 1s\n",
      " 28700K .......... .......... .......... .......... .......... 33%  339M 1s\n",
      " 28750K .......... .......... .......... .......... .......... 33%  307M 1s\n",
      " 28800K .......... .......... .......... .......... .......... 33%  262M 1s\n",
      " 28850K .......... .......... .......... .......... .......... 33%  299M 1s\n",
      " 28900K .......... .......... .......... .......... .......... 33%  237M 1s\n",
      " 28950K .......... .......... .......... .......... .......... 33%  263M 1s\n",
      " 29000K .......... .......... .......... .......... .......... 33%  287M 1s\n",
      " 29050K .......... .......... .......... .......... .......... 33%  328M 1s\n",
      " 29100K .......... .......... .......... .......... .......... 33%  374M 1s\n",
      " 29150K .......... .......... .......... .......... .......... 33%  369M 1s\n",
      " 29200K .......... .......... .......... .......... .......... 34%  270M 1s\n",
      " 29250K .......... .......... .......... .......... .......... 34%  308M 1s\n",
      " 29300K .......... .......... .......... .......... .......... 34%  376M 1s\n",
      " 29350K .......... .......... .......... .......... .......... 34%  379M 1s\n",
      " 29400K .......... .......... .......... .......... .......... 34%  295M 1s\n",
      " 29450K .......... .......... .......... .......... .......... 34%  377M 1s\n",
      " 29500K .......... .......... .......... .......... .......... 34%  323M 1s\n",
      " 29550K .......... .......... .......... .......... .......... 34%  323M 1s\n",
      " 29600K .......... .......... .......... .......... .......... 34%  316M 1s\n",
      " 29650K .......... .......... .......... .......... .......... 34%  336M 1s\n",
      " 29700K .......... .......... .......... .......... .......... 34%  295M 1s\n",
      " 29750K .......... .......... .......... .......... .......... 34%  311M 1s\n",
      " 29800K .......... .......... .......... .......... .......... 34%  299M 1s\n",
      " 29850K .......... .......... .......... .......... .......... 34%  352M 1s\n",
      " 29900K .......... .......... .......... .......... .......... 34%  342M 1s\n",
      " 29950K .......... .......... .......... .......... .......... 34%  371M 1s\n",
      " 30000K .......... .......... .......... .......... .......... 34%  325M 1s\n",
      " 30050K .......... .......... .......... .......... .......... 34%  354M 1s\n",
      " 30100K .......... .......... .......... .......... .......... 35%  348M 1s\n",
      " 30150K .......... .......... .......... .......... .......... 35%  337M 1s\n",
      " 30200K .......... .......... .......... .......... .......... 35%  286M 1s\n",
      " 30250K .......... .......... .......... .......... .......... 35%  377M 1s\n",
      " 30300K .......... .......... .......... .......... .......... 35%  374M 1s\n",
      " 30350K .......... .......... .......... .......... .......... 35%  376M 1s\n",
      " 30400K .......... .......... .......... .......... .......... 35%  303M 1s\n",
      " 30450K .......... .......... .......... .......... .......... 35%  371M 1s\n",
      " 30500K .......... .......... .......... .......... .......... 35%  361M 1s\n",
      " 30550K .......... .......... .......... .......... .......... 35%  391M 1s\n",
      " 30600K .......... .......... .......... .......... .......... 35%  228M 1s\n",
      " 30650K .......... .......... .......... .......... .......... 35%  294M 1s\n",
      " 30700K .......... .......... .......... .......... .......... 35%  326M 1s\n",
      " 30750K .......... .......... .......... .......... .......... 35%  344M 1s\n",
      " 30800K .......... .......... .......... .......... .......... 35%  300M 1s\n",
      " 30850K .......... .......... .......... .......... .......... 35%  308M 1s\n",
      " 30900K .......... .......... .......... .......... .......... 35%  353M 1s\n",
      " 30950K .......... .......... .......... .......... .......... 36%  373M 1s\n",
      " 31000K .......... .......... .......... .......... .......... 36%  306M 1s\n",
      " 31050K .......... .......... .......... .......... .......... 36%  357M 1s\n",
      " 31100K .......... .......... .......... .......... .......... 36%  332M 1s\n",
      " 31150K .......... .......... .......... .......... .......... 36%  324M 1s\n",
      " 31200K .......... .......... .......... .......... .......... 36%  322M 1s\n",
      " 31250K .......... .......... .......... .......... .......... 36%  351M 1s\n",
      " 31300K .......... .......... .......... .......... .......... 36%  367M 1s\n",
      " 31350K .......... .......... .......... .......... .......... 36%  363M 1s\n",
      " 31400K .......... .......... .......... .......... .......... 36%  277M 1s\n",
      " 31450K .......... .......... .......... .......... .......... 36%  343M 1s\n",
      " 31500K .......... .......... .......... .......... .......... 36%  359M 1s\n",
      " 31550K .......... .......... .......... .......... .......... 36%  273M 1s\n",
      " 31600K .......... .......... .......... .......... .......... 36%  332M 1s\n",
      " 31650K .......... .......... .......... .......... .......... 36%  343M 1s\n",
      " 31700K .......... .......... .......... .......... .......... 36%  313M 1s\n",
      " 31750K .......... .......... .......... .......... .......... 36%  333M 1s\n",
      " 31800K .......... .......... .......... .......... .......... 37%  277M 1s\n",
      " 31850K .......... .......... .......... .......... .......... 37%  371M 1s\n",
      " 31900K .......... .......... .......... .......... .......... 37%  265M 1s\n",
      " 31950K .......... .......... .......... .......... .......... 37%  281M 1s\n",
      " 32000K .......... .......... .......... .......... .......... 37%  297M 1s\n",
      " 32050K .......... .......... .......... .......... .......... 37%  300M 1s\n",
      " 32100K .......... .......... .......... .......... .......... 37%  252M 1s\n",
      " 32150K .......... .......... .......... .......... .......... 37%  307M 1s\n",
      " 32200K .......... .......... .......... .......... .......... 37%  304M 1s\n",
      " 32250K .......... .......... .......... .......... .......... 37% 3.43M 1s\n",
      " 32300K .......... .......... .......... .......... .......... 37%  329M 1s\n",
      " 32350K .......... .......... .......... .......... .......... 37%  374M 1s\n",
      " 32400K .......... .......... .......... .......... .......... 37%  334M 1s\n",
      " 32450K .......... .......... .......... .......... .......... 37%  378M 1s\n",
      " 32500K .......... .......... .......... .......... .......... 37%  300M 1s\n",
      " 32550K .......... .......... .......... .......... .......... 37%  289M 1s\n",
      " 32600K .......... .......... .......... .......... .......... 37%  207M 1s\n",
      " 32650K .......... .......... .......... .......... .......... 38%  280M 1s\n",
      " 32700K .......... .......... .......... .......... .......... 38%  273M 1s\n",
      " 32750K .......... .......... .......... .......... .......... 38%  299M 1s\n",
      " 32800K .......... .......... .......... .......... .......... 38%  318M 1s\n",
      " 32850K .......... .......... .......... .......... .......... 38%  378M 1s\n",
      " 32900K .......... .......... .......... .......... .......... 38% 47.7M 1s\n",
      " 32950K .......... .......... .......... .......... .......... 38%  326M 1s\n",
      " 33000K .......... .......... .......... .......... .......... 38%  303M 1s\n",
      " 33050K .......... .......... .......... .......... .......... 38%  352M 1s\n",
      " 33100K .......... .......... .......... .......... .......... 38%  344M 1s\n",
      " 33150K .......... .......... .......... .......... .......... 38%  380M 1s\n",
      " 33200K .......... .......... .......... .......... .......... 38%  341M 1s\n",
      " 33250K .......... .......... .......... .......... .......... 38%  374M 1s\n",
      " 33300K .......... .......... .......... .......... .......... 38%  359M 1s\n",
      " 33350K .......... .......... .......... .......... .......... 38%  383M 1s\n",
      " 33400K .......... .......... .......... .......... .......... 38%  311M 1s\n",
      " 33450K .......... .......... .......... .......... .......... 38%  383M 1s\n",
      " 33500K .......... .......... .......... .......... .......... 39%  333M 1s\n",
      " 33550K .......... .......... .......... .......... .......... 39%  348M 1s\n",
      " 33600K .......... .......... .......... .......... .......... 39%  255M 1s\n",
      " 33650K .......... .......... .......... .......... .......... 39%  299M 1s\n",
      " 33700K .......... .......... .......... .......... .......... 39% 80.2M 1s\n",
      " 33750K .......... .......... .......... .......... .......... 39% 67.7M 1s\n",
      " 33800K .......... .......... .......... .......... .......... 39%  280M 1s\n",
      " 33850K .......... .......... .......... .......... .......... 39%  366M 1s\n",
      " 33900K .......... .......... .......... .......... .......... 39%  367M 1s\n",
      " 33950K .......... .......... .......... .......... .......... 39%  371M 1s\n",
      " 34000K .......... .......... .......... .......... .......... 39%  319M 1s\n",
      " 34050K .......... .......... .......... .......... .......... 39%  378M 1s\n",
      " 34100K .......... .......... .......... .......... .......... 39%  363M 1s\n",
      " 34150K .......... .......... .......... .......... .......... 39%  345M 1s\n",
      " 34200K .......... .......... .......... .......... .......... 39%  195M 1s\n",
      " 34250K .......... .......... .......... .......... .......... 39% 77.4M 1s\n",
      " 34300K .......... .......... .......... .......... .......... 39%  115M 1s\n",
      " 34350K .......... .......... .......... .......... .......... 39%  363M 1s\n",
      " 34400K .......... .......... .......... .......... .......... 40%  333M 1s\n",
      " 34450K .......... .......... .......... .......... .......... 40%  375M 1s\n",
      " 34500K .......... .......... .......... .......... .......... 40%  359M 1s\n",
      " 34550K .......... .......... .......... .......... .......... 40%  373M 1s\n",
      " 34600K .......... .......... .......... .......... .......... 40%  312M 1s\n",
      " 34650K .......... .......... .......... .......... .......... 40%  269M 1s\n",
      " 34700K .......... .......... .......... .......... .......... 40%  267M 1s\n",
      " 34750K .......... .......... .......... .......... .......... 40%  245M 1s\n",
      " 34800K .......... .......... .......... .......... .......... 40%  254M 1s\n",
      " 34850K .......... .......... .......... .......... .......... 40%  288M 1s\n",
      " 34900K .......... .......... .......... .......... .......... 40%  101M 1s\n",
      " 34950K .......... .......... .......... .......... .......... 40%  257M 1s\n",
      " 35000K .......... .......... .......... .......... .......... 40%  228M 1s\n",
      " 35050K .......... .......... .......... .......... .......... 40%  285M 1s\n",
      " 35100K .......... .......... .......... .......... .......... 40%  283M 1s\n",
      " 35150K .......... .......... .......... .......... .......... 40%  251M 1s\n",
      " 35200K .......... .......... .......... .......... .......... 40%  252M 1s\n",
      " 35250K .......... .......... .......... .......... .......... 41%  324M 1s\n",
      " 35300K .......... .......... .......... .......... .......... 41%  372M 1s\n",
      " 35350K .......... .......... .......... .......... .......... 41%  309M 1s\n",
      " 35400K .......... .......... .......... .......... .......... 41%  200M 1s\n",
      " 35450K .......... .......... .......... .......... .......... 41%  296M 1s\n",
      " 35500K .......... .......... .......... .......... .......... 41%  241M 1s\n",
      " 35550K .......... .......... .......... .......... .......... 41%  235M 1s\n",
      " 35600K .......... .......... .......... .......... .......... 41%  243M 1s\n",
      " 35650K .......... .......... .......... .......... .......... 41%  320M 1s\n",
      " 35700K .......... .......... .......... .......... .......... 41%  350M 1s\n",
      " 35750K .......... .......... .......... .......... .......... 41%  381M 1s\n",
      " 35800K .......... .......... .......... .......... .......... 41% 3.95M 1s\n",
      " 35850K .......... .......... .......... .......... .......... 41%  133M 1s\n",
      " 35900K .......... .......... .......... .......... .......... 41%  268M 1s\n",
      " 35950K .......... .......... .......... .......... .......... 41%  246M 1s\n",
      " 36000K .......... .......... .......... .......... .......... 41%  221M 1s\n",
      " 36050K .......... .......... .......... .......... .......... 41%  265M 1s\n",
      " 36100K .......... .......... .......... .......... .......... 42%  268M 1s\n",
      " 36150K .......... .......... .......... .......... .......... 42%  344M 1s\n",
      " 36200K .......... .......... .......... .......... .......... 42%  297M 1s\n",
      " 36250K .......... .......... .......... .......... .......... 42%  370M 1s\n",
      " 36300K .......... .......... .......... .......... .......... 42%  381M 1s\n",
      " 36350K .......... .......... .......... .......... .......... 42%  351M 1s\n",
      " 36400K .......... .......... .......... .......... .......... 42%  230M 1s\n",
      " 36450K .......... .......... .......... .......... .......... 42%  287M 1s\n",
      " 36500K .......... .......... .......... .......... .......... 42%  125M 1s\n",
      " 36550K .......... .......... .......... .......... .......... 42% 65.7M 1s\n",
      " 36600K .......... .......... .......... .......... .......... 42%  304M 1s\n",
      " 36650K .......... .......... .......... .......... .......... 42%  114M 1s\n",
      " 36700K .......... .......... .......... .......... .......... 42% 86.2M 1s\n",
      " 36750K .......... .......... .......... .......... .......... 42%  116M 1s\n",
      " 36800K .......... .......... .......... .......... .......... 42% 83.6M 1s\n",
      " 36850K .......... .......... .......... .......... .......... 42% 69.2M 1s\n",
      " 36900K .......... .......... .......... .......... .......... 42%  353M 1s\n",
      " 36950K .......... .......... .......... .......... .......... 43%  350M 1s\n",
      " 37000K .......... .......... .......... .......... .......... 43%  315M 1s\n",
      " 37050K .......... .......... .......... .......... .......... 43%  367M 1s\n",
      " 37100K .......... .......... .......... .......... .......... 43%  377M 1s\n",
      " 37150K .......... .......... .......... .......... .......... 43%  366M 1s\n",
      " 37200K .......... .......... .......... .......... .......... 43%  327M 1s\n",
      " 37250K .......... .......... .......... .......... .......... 43%  366M 1s\n",
      " 37300K .......... .......... .......... .......... .......... 43%  373M 1s\n",
      " 37350K .......... .......... .......... .......... .......... 43%  289M 1s\n",
      " 37400K .......... .......... .......... .......... .......... 43%  307M 1s\n",
      " 37450K .......... .......... .......... .......... .......... 43%  297M 1s\n",
      " 37500K .......... .......... .......... .......... .......... 43%  353M 1s\n",
      " 37550K .......... .......... .......... .......... .......... 43%  107M 1s\n",
      " 37600K .......... .......... .......... .......... .......... 43% 75.0M 1s\n",
      " 37650K .......... .......... .......... .......... .......... 43%  373M 1s\n",
      " 37700K .......... .......... .......... .......... .......... 43%  355M 1s\n",
      " 37750K .......... .......... .......... .......... .......... 43%  369M 1s\n",
      " 37800K .......... .......... .......... .......... .......... 44%  309M 1s\n",
      " 37850K .......... .......... .......... .......... .......... 44%  339M 1s\n",
      " 37900K .......... .......... .......... .......... .......... 44%  353M 1s\n",
      " 37950K .......... .......... .......... .......... .......... 44%  359M 1s\n",
      " 38000K .......... .......... .......... .......... .......... 44%  337M 1s\n",
      " 38050K .......... .......... .......... .......... .......... 44%  372M 1s\n",
      " 38100K .......... .......... .......... .......... .......... 44%  378M 1s\n",
      " 38150K .......... .......... .......... .......... .......... 44%  376M 1s\n",
      " 38200K .......... .......... .......... .......... .......... 44%  297M 1s\n",
      " 38250K .......... .......... .......... .......... .......... 44%  320M 1s\n",
      " 38300K .......... .......... .......... .......... .......... 44%  127M 1s\n",
      " 38350K .......... .......... .......... .......... .......... 44%  337M 1s\n",
      " 38400K .......... .......... .......... .......... .......... 44%  327M 1s\n",
      " 38450K .......... .......... .......... .......... .......... 44%  319M 1s\n",
      " 38500K .......... .......... .......... .......... .......... 44%  329M 1s\n",
      " 38550K .......... .......... .......... .......... .......... 44%  352M 1s\n",
      " 38600K .......... .......... .......... .......... .......... 44%  304M 1s\n",
      " 38650K .......... .......... .......... .......... .......... 44%  362M 1s\n",
      " 38700K .......... .......... .......... .......... .......... 45%  355M 1s\n",
      " 38750K .......... .......... .......... .......... .......... 45%  364M 1s\n",
      " 38800K .......... .......... .......... .......... .......... 45%  179M 1s\n",
      " 38850K .......... .......... .......... .......... .......... 45%  253M 1s\n",
      " 38900K .......... .......... .......... .......... .......... 45%  265M 1s\n",
      " 38950K .......... .......... .......... .......... .......... 45%  212M 1s\n",
      " 39000K .......... .......... .......... .......... .......... 45%  220M 1s\n",
      " 39050K .......... .......... .......... .......... .......... 45%  275M 1s\n",
      " 39100K .......... .......... .......... .......... .......... 45%  248M 1s\n",
      " 39150K .......... .......... .......... .......... .......... 45%  232M 1s\n",
      " 39200K .......... .......... .......... .......... .......... 45%  250M 1s\n",
      " 39250K .......... .......... .......... .......... .......... 45%  284M 1s\n",
      " 39300K .......... .......... .......... .......... .......... 45%  358M 1s\n",
      " 39350K .......... .......... .......... .......... .......... 45%  375M 1s\n",
      " 39400K .......... .......... .......... .......... .......... 45% 4.01M 1s\n",
      " 39450K .......... .......... .......... .......... .......... 45%  322M 1s\n",
      " 39500K .......... .......... .......... .......... .......... 45%  362M 1s\n",
      " 39550K .......... .......... .......... .......... .......... 46%  301M 1s\n",
      " 39600K .......... .......... .......... .......... .......... 46%  300M 1s\n",
      " 39650K .......... .......... .......... .......... .......... 46%  244M 1s\n",
      " 39700K .......... .......... .......... .......... .......... 46%  230M 1s\n",
      " 39750K .......... .......... .......... .......... .......... 46%  326M 1s\n",
      " 39800K .......... .......... .......... .......... .......... 46%  291M 1s\n",
      " 39850K .......... .......... .......... .......... .......... 46%  329M 1s\n",
      " 39900K .......... .......... .......... .......... .......... 46%  363M 1s\n",
      " 39950K .......... .......... .......... .......... .......... 46%  348M 1s\n",
      " 40000K .......... .......... .......... .......... .......... 46%  333M 1s\n",
      " 40050K .......... .......... .......... .......... .......... 46%  372M 1s\n",
      " 40100K .......... .......... .......... .......... .......... 46%  374M 1s\n",
      " 40150K .......... .......... .......... .......... .......... 46%  381M 1s\n",
      " 40200K .......... .......... .......... .......... .......... 46%  304M 1s\n",
      " 40250K .......... .......... .......... .......... .......... 46%  300M 1s\n",
      " 40300K .......... .......... .......... .......... .......... 46% 49.1M 1s\n",
      " 40350K .......... .......... .......... .......... .......... 46%  346M 1s\n",
      " 40400K .......... .......... .......... .......... .......... 47%  258M 1s\n",
      " 40450K .......... .......... .......... .......... .......... 47%  349M 1s\n",
      " 40500K .......... .......... .......... .......... .......... 47%  372M 1s\n",
      " 40550K .......... .......... .......... .......... .......... 47%  347M 1s\n",
      " 40600K .......... .......... .......... .......... .......... 47%  262M 1s\n",
      " 40650K .......... .......... .......... .......... .......... 47%  356M 1s\n",
      " 40700K .......... .......... .......... .......... .......... 47%  368M 1s\n",
      " 40750K .......... .......... .......... .......... .......... 47%  360M 1s\n",
      " 40800K .......... .......... .......... .......... .......... 47%  330M 1s\n",
      " 40850K .......... .......... .......... .......... .......... 47%  343M 1s\n",
      " 40900K .......... .......... .......... .......... .......... 47%  368M 1s\n",
      " 40950K .......... .......... .......... .......... .......... 47%  324M 1s\n",
      " 41000K .......... .......... .......... .......... .......... 47%  314M 1s\n",
      " 41050K .......... .......... .......... .......... .......... 47%  389M 1s\n",
      " 41100K .......... .......... .......... .......... .......... 47%  360M 1s\n",
      " 41150K .......... .......... .......... .......... .......... 47%  391M 1s\n",
      " 41200K .......... .......... .......... .......... .......... 47% 64.6M 1s\n",
      " 41250K .......... .......... .......... .......... .......... 48%  358M 1s\n",
      " 41300K .......... .......... .......... .......... .......... 48%  377M 1s\n",
      " 41350K .......... .......... .......... .......... .......... 48%  353M 1s\n",
      " 41400K .......... .......... .......... .......... .......... 48%  314M 1s\n",
      " 41450K .......... .......... .......... .......... .......... 48%  376M 1s\n",
      " 41500K .......... .......... .......... .......... .......... 48%  373M 1s\n",
      " 41550K .......... .......... .......... .......... .......... 48% 99.8M 1s\n",
      " 41600K .......... .......... .......... .......... .......... 48%  296M 1s\n",
      " 41650K .......... .......... .......... .......... .......... 48%  310M 1s\n",
      " 41700K .......... .......... .......... .......... .......... 48%  372M 1s\n",
      " 41750K .......... .......... .......... .......... .......... 48% 45.9M 1s\n",
      " 41800K .......... .......... .......... .......... .......... 48%  305M 1s\n",
      " 41850K .......... .......... .......... .......... .......... 48%  297M 1s\n",
      " 41900K .......... .......... .......... .......... .......... 48%  335M 1s\n",
      " 41950K .......... .......... .......... .......... .......... 48%  372M 1s\n",
      " 42000K .......... .......... .......... .......... .......... 48%  343M 1s\n",
      " 42050K .......... .......... .......... .......... .......... 48%  381M 1s\n",
      " 42100K .......... .......... .......... .......... .......... 48%  359M 1s\n",
      " 42150K .......... .......... .......... .......... .......... 49%  331M 1s\n",
      " 42200K .......... .......... .......... .......... .......... 49%  308M 1s\n",
      " 42250K .......... .......... .......... .......... .......... 49%  379M 1s\n",
      " 42300K .......... .......... .......... .......... .......... 49%  373M 1s\n",
      " 42350K .......... .......... .......... .......... .......... 49%  379M 1s\n",
      " 42400K .......... .......... .......... .......... .......... 49%  323M 1s\n",
      " 42450K .......... .......... .......... .......... .......... 49%  376M 1s\n",
      " 42500K .......... .......... .......... .......... .......... 49% 79.4M 1s\n",
      " 42550K .......... .......... .......... .......... .......... 49%  107M 1s\n",
      " 42600K .......... .......... .......... .......... .......... 49%  290M 1s\n",
      " 42650K .......... .......... .......... .......... .......... 49%  376M 1s\n",
      " 42700K .......... .......... .......... .......... .......... 49%  368M 1s\n",
      " 42750K .......... .......... .......... .......... .......... 49%  376M 1s\n",
      " 42800K .......... .......... .......... .......... .......... 49%  333M 1s\n",
      " 42850K .......... .......... .......... .......... .......... 49%  343M 1s\n",
      " 42900K .......... .......... .......... .......... .......... 49%  364M 1s\n",
      " 42950K .......... .......... .......... .......... .......... 49%  377M 1s\n",
      " 43000K .......... .......... .......... .......... .......... 50%  317M 1s\n",
      " 43050K .......... .......... .......... .......... .......... 50%  378M 1s\n",
      " 43100K .......... .......... .......... .......... .......... 50%  387M 1s\n",
      " 43150K .......... .......... .......... .......... .......... 50%  363M 1s\n",
      " 43200K .......... .......... .......... .......... .......... 50%  346M 1s\n",
      " 43250K .......... .......... .......... .......... .......... 50%  381M 1s\n",
      " 43300K .......... .......... .......... .......... .......... 50%  269M 1s\n",
      " 43350K .......... .......... .......... .......... .......... 50%  117M 1s\n",
      " 43400K .......... .......... .......... .......... .......... 50%  298M 1s\n",
      " 43450K .......... .......... .......... .......... .......... 50%  347M 1s\n",
      " 43500K .......... .......... .......... .......... .......... 50%  343M 1s\n",
      " 43550K .......... .......... .......... .......... .......... 50%  358M 1s\n",
      " 43600K .......... .......... .......... .......... .......... 50%  314M 1s\n",
      " 43650K .......... .......... .......... .......... .......... 50%  389M 1s\n",
      " 43700K .......... .......... .......... .......... .......... 50%  390M 1s\n",
      " 43750K .......... .......... .......... .......... .......... 50%  313M 1s\n",
      " 43800K .......... .......... .......... .......... .......... 50%  293M 1s\n",
      " 43850K .......... .......... .......... .......... .......... 51%  379M 1s\n",
      " 43900K .......... .......... .......... .......... .......... 51% 3.67M 1s\n",
      " 43950K .......... .......... .......... .......... .......... 51% 59.9M 1s\n",
      " 44000K .......... .......... .......... .......... .......... 51% 95.5M 1s\n",
      " 44050K .......... .......... .......... .......... .......... 51%  353M 1s\n",
      " 44100K .......... .......... .......... .......... .......... 51%  334M 1s\n",
      " 44150K .......... .......... .......... .......... .......... 51% 88.8M 1s\n",
      " 44200K .......... .......... .......... .......... .......... 51% 76.3M 1s\n",
      " 44250K .......... .......... .......... .......... .......... 51%  357M 1s\n",
      " 44300K .......... .......... .......... .......... .......... 51%  368M 1s\n",
      " 44350K .......... .......... .......... .......... .......... 51%  367M 1s\n",
      " 44400K .......... .......... .......... .......... .......... 51%  327M 1s\n",
      " 44450K .......... .......... .......... .......... .......... 51%  348M 1s\n",
      " 44500K .......... .......... .......... .......... .......... 51%  341M 1s\n",
      " 44550K .......... .......... .......... .......... .......... 51%  377M 1s\n",
      " 44600K .......... .......... .......... .......... .......... 51%  318M 1s\n",
      " 44650K .......... .......... .......... .......... .......... 51%  381M 1s\n",
      " 44700K .......... .......... .......... .......... .......... 52%  358M 1s\n",
      " 44750K .......... .......... .......... .......... .......... 52%  378M 1s\n",
      " 44800K .......... .......... .......... .......... .......... 52%  342M 1s\n",
      " 44850K .......... .......... .......... .......... .......... 52%  377M 1s\n",
      " 44900K .......... .......... .......... .......... .......... 52%  341M 1s\n",
      " 44950K .......... .......... .......... .......... .......... 52%  361M 1s\n",
      " 45000K .......... .......... .......... .......... .......... 52%  236M 1s\n",
      " 45050K .......... .......... .......... .......... .......... 52% 57.7M 1s\n",
      " 45100K .......... .......... .......... .......... .......... 52%  235M 1s\n",
      " 45150K .......... .......... .......... .......... .......... 52%  356M 1s\n",
      " 45200K .......... .......... .......... .......... .......... 52%  284M 1s\n",
      " 45250K .......... .......... .......... .......... .......... 52%  368M 1s\n",
      " 45300K .......... .......... .......... .......... .......... 52%  364M 1s\n",
      " 45350K .......... .......... .......... .......... .......... 52%  365M 1s\n",
      " 45400K .......... .......... .......... .......... .......... 52%  291M 1s\n",
      " 45450K .......... .......... .......... .......... .......... 52%  372M 0s\n",
      " 45500K .......... .......... .......... .......... .......... 52%  367M 0s\n",
      " 45550K .......... .......... .......... .......... .......... 53%  369M 0s\n",
      " 45600K .......... .......... .......... .......... .......... 53%  339M 0s\n",
      " 45650K .......... .......... .......... .......... .......... 53% 89.7M 0s\n",
      " 45700K .......... .......... .......... .......... .......... 53%  168M 0s\n",
      " 45750K .......... .......... .......... .......... .......... 53%  186M 0s\n",
      " 45800K .......... .......... .......... .......... .......... 53%  262M 0s\n",
      " 45850K .......... .......... .......... .......... .......... 53%  371M 0s\n",
      " 45900K .......... .......... .......... .......... .......... 53%  354M 0s\n",
      " 45950K .......... .......... .......... .......... .......... 53%  376M 0s\n",
      " 46000K .......... .......... .......... .......... .......... 53%  337M 0s\n",
      " 46050K .......... .......... .......... .......... .......... 53%  380M 0s\n",
      " 46100K .......... .......... .......... .......... .......... 53%  375M 0s\n",
      " 46150K .......... .......... .......... .......... .......... 53%  367M 0s\n",
      " 46200K .......... .......... .......... .......... .......... 53%  319M 0s\n",
      " 46250K .......... .......... .......... .......... .......... 53%  386M 0s\n",
      " 46300K .......... .......... .......... .......... .......... 53%  379M 0s\n",
      " 46350K .......... .......... .......... .......... .......... 53%  383M 0s\n",
      " 46400K .......... .......... .......... .......... .......... 53%  139M 0s\n",
      " 46450K .......... .......... .......... .......... .......... 54%  197M 0s\n",
      " 46500K .......... .......... .......... .......... .......... 54%  214M 0s\n",
      " 46550K .......... .......... .......... .......... .......... 54%  245M 0s\n",
      " 46600K .......... .......... .......... .......... .......... 54%  220M 0s\n",
      " 46650K .......... .......... .......... .......... .......... 54%  268M 0s\n",
      " 46700K .......... .......... .......... .......... .......... 54%  376M 0s\n",
      " 46750K .......... .......... .......... .......... .......... 54%  378M 0s\n",
      " 46800K .......... .......... .......... .......... .......... 54%  340M 0s\n",
      " 46850K .......... .......... .......... .......... .......... 54%  381M 0s\n",
      " 46900K .......... .......... .......... .......... .......... 54%  332M 0s\n",
      " 46950K .......... .......... .......... .......... .......... 54%  379M 0s\n",
      " 47000K .......... .......... .......... .......... .......... 54%  313M 0s\n",
      " 47050K .......... .......... .......... .......... .......... 54%  325M 0s\n",
      " 47100K .......... .......... .......... .......... .......... 54%  355M 0s\n",
      " 47150K .......... .......... .......... .......... .......... 54%  376M 0s\n",
      " 47200K .......... .......... .......... .......... .......... 54%  334M 0s\n",
      " 47250K .......... .......... .......... .......... .......... 54%  369M 0s\n",
      " 47300K .......... .......... .......... .......... .......... 55%  382M 0s\n",
      " 47350K .......... .......... .......... .......... .......... 55%  384M 0s\n",
      " 47400K .......... .......... .......... .......... .......... 55%  298M 0s\n",
      " 47450K .......... .......... .......... .......... .......... 55% 4.15M 0s\n",
      " 47500K .......... .......... .......... .......... .......... 55% 38.8M 0s\n",
      " 47550K .......... .......... .......... .......... .......... 55% 61.5M 0s\n",
      " 47600K .......... .......... .......... .......... .......... 55%  152M 0s\n",
      " 47650K .......... .......... .......... .......... .......... 55%  284M 0s\n",
      " 47700K .......... .......... .......... .......... .......... 55%  281M 0s\n",
      " 47750K .......... .......... .......... .......... .......... 55%  254M 0s\n",
      " 47800K .......... .......... .......... .......... .......... 55%  143M 0s\n",
      " 47850K .......... .......... .......... .......... .......... 55%  252M 0s\n",
      " 47900K .......... .......... .......... .......... .......... 55%  279M 0s\n",
      " 47950K .......... .......... .......... .......... .......... 55%  269M 0s\n",
      " 48000K .......... .......... .......... .......... .......... 55%  250M 0s\n",
      " 48050K .......... .......... .......... .......... .......... 55%  249M 0s\n",
      " 48100K .......... .......... .......... .......... .......... 55%  253M 0s\n",
      " 48150K .......... .......... .......... .......... .......... 56%  256M 0s\n",
      " 48200K .......... .......... .......... .......... .......... 56%  272M 0s\n",
      " 48250K .......... .......... .......... .......... .......... 56%  285M 0s\n",
      " 48300K .......... .......... .......... .......... .......... 56%  355M 0s\n",
      " 48350K .......... .......... .......... .......... .."
     ]
    },
    {
     "name": "stderr",
     "output_type": "stream",
     "text": [
      "........ 56% 1.40M 0s\n",
      " 48400K .......... .......... .......... .......... .......... 56% 55.8M 0s\n",
      " 48450K .......... .......... .......... .......... .......... 56% 59.1M 0s\n",
      " 48500K .......... .......... .......... .......... .......... 56%  311M 0s\n",
      " 48550K .......... .......... .......... .......... .......... 56%  266M 0s\n",
      " 48600K .......... .......... .......... .......... .......... 56%  118M 0s\n",
      " 48650K .......... .......... .......... .......... .......... 56% 99.1M 0s\n",
      " 48700K .......... .......... .......... .......... .......... 56% 52.2M 0s\n",
      " 48750K .......... .......... .......... .......... .......... 56%  344M 0s\n",
      " 48800K .......... .......... .......... .......... .......... 56%  301M 0s\n",
      " 48850K .......... .......... .......... .......... .......... 56%  362M 0s\n",
      " 48900K .......... .......... .......... .......... .......... 56%  370M 0s\n",
      " 48950K .......... .......... .......... .......... .......... 56%  352M 0s\n",
      " 49000K .......... .......... .......... .......... .......... 57%  311M 0s\n",
      " 49050K .......... .......... .......... .......... .......... 57%  311M 0s\n",
      " 49100K .......... .......... .......... .......... .......... 57%  363M 0s\n",
      " 49150K .......... .......... .......... .......... .......... 57%  357M 0s\n",
      " 49200K .......... .......... .......... .......... .......... 57%  318M 0s\n",
      " 49250K .......... .......... .......... .......... .......... 57%  368M 0s\n",
      " 49300K .......... .......... .......... .......... .......... 57%  367M 0s\n",
      " 49350K .......... .......... .......... .......... .......... 57%  360M 0s\n",
      " 49400K .......... .......... .......... .......... .......... 57% 59.1M 0s\n",
      " 49450K .......... .......... .......... .......... .......... 57%  339M 0s\n",
      " 49500K .......... .......... .......... .......... .......... 57%  311M 0s\n",
      " 49550K .......... .......... .......... .......... .......... 57%  330M 0s\n",
      " 49600K .......... .......... .......... .......... .......... 57%  331M 0s\n",
      " 49650K .......... .......... .......... .......... .......... 57%  314M 0s\n",
      " 49700K .......... .......... .......... .......... .......... 57%  305M 0s\n",
      " 49750K .......... .......... .......... .......... .......... 57%  300M 0s\n",
      " 49800K .......... .......... .......... .......... .......... 57%  278M 0s\n",
      " 49850K .......... .......... .......... .......... .......... 58%  371M 0s\n",
      " 49900K .......... .......... .......... .......... .......... 58%  338M 0s\n",
      " 49950K .......... .......... .......... .......... .......... 58%  361M 0s\n",
      " 50000K .......... .......... .......... .......... .......... 58%  127M 0s\n",
      " 50050K .......... .......... .......... .......... .......... 58%  371M 0s\n",
      " 50100K .......... .......... .......... .......... .......... 58%  351M 0s\n",
      " 50150K .......... .......... .......... .......... .......... 58% 76.0M 0s\n",
      " 50200K .......... .......... .......... .......... .......... 58%  125M 0s\n",
      " 50250K .......... .......... .......... .......... .......... 58%  358M 0s\n",
      " 50300K .......... .......... .......... .......... .......... 58%  338M 0s\n",
      " 50350K .......... .......... .......... .......... .......... 58%  374M 0s\n",
      " 50400K .......... .......... .......... .......... .......... 58%  336M 0s\n",
      " 50450K .......... .......... .......... .......... .......... 58%  358M 0s\n",
      " 50500K .......... .......... .......... .......... .......... 58%  376M 0s\n",
      " 50550K .......... .......... .......... .......... .......... 58%  377M 0s\n",
      " 50600K .......... .......... .......... .......... .......... 58%  246M 0s\n",
      " 50650K .......... .......... .......... .......... .......... 58%  262M 0s\n",
      " 50700K .......... .......... .......... .......... .......... 58%  231M 0s\n",
      " 50750K .......... .......... .......... .......... .......... 59%  113M 0s\n",
      " 50800K .......... .......... .......... .......... .......... 59%  322M 0s\n",
      " 50850K .......... .......... .......... .......... .......... 59%  374M 0s\n",
      " 50900K .......... .......... .......... .......... .......... 59%  371M 0s\n",
      " 50950K .......... .......... .......... .......... .......... 59%  354M 0s\n",
      " 51000K .......... .......... .......... .......... .......... 59%  101M 0s\n",
      " 51050K .......... .......... .......... .......... .......... 59%  360M 0s\n",
      " 51100K .......... .......... .......... .......... .......... 59%  362M 0s\n",
      " 51150K .......... .......... .......... .......... .......... 59%  359M 0s\n",
      " 51200K .......... .......... .......... .......... .......... 59%  308M 0s\n",
      " 51250K .......... .......... .......... .......... .......... 59%  364M 0s\n",
      " 51300K .......... .......... .......... .......... .......... 59%  370M 0s\n",
      " 51350K .......... .......... .......... .......... .......... 59%  365M 0s\n",
      " 51400K .......... .......... .......... .......... .......... 59%  284M 0s\n",
      " 51450K .......... .......... .......... .......... .......... 59%  333M 0s\n",
      " 51500K .......... .......... .......... .......... .......... 59%  362M 0s\n",
      " 51550K .......... .......... .......... .......... .......... 59%  379M 0s\n",
      " 51600K .......... .......... .......... .......... .......... 60%  324M 0s\n",
      " 51650K .......... .......... .......... .......... .......... 60%  310M 0s\n",
      " 51700K .......... .......... .......... .......... .......... 60%  374M 0s\n",
      " 51750K .......... .......... .......... .......... .......... 60% 67.7M 0s\n",
      " 51800K .......... .......... .......... .......... .......... 60%  281M 0s\n",
      " 51850K .......... .......... .......... .......... .......... 60%  381M 0s\n",
      " 51900K .......... .......... .......... .......... .......... 60%  381M 0s\n",
      " 51950K .......... .......... .......... .......... .......... 60%  378M 0s\n",
      " 52000K .......... .......... .......... .......... .......... 60%  286M 0s\n",
      " 52050K .......... .......... .......... .......... .......... 60%  283M 0s\n",
      " 52100K .......... .......... .......... .......... .......... 60%  376M 0s\n",
      " 52150K .......... .......... .......... .......... .......... 60%  378M 0s\n",
      " 52200K .......... .......... .......... .......... .......... 60%  253M 0s\n",
      " 52250K .......... .......... .......... .......... .......... 60%  308M 0s\n",
      " 52300K .......... .......... .......... .......... .......... 60%  319M 0s\n",
      " 52350K .......... .......... .......... .......... .......... 60%  369M 0s\n",
      " 52400K .......... .......... .......... .......... .......... 60%  310M 0s\n",
      " 52450K .......... .......... .......... .......... .......... 61%  356M 0s\n",
      " 52500K .......... .......... .......... .......... .......... 61%  375M 0s\n",
      " 52550K .......... .......... .......... .......... .......... 61%  343M 0s\n",
      " 52600K .......... .......... .......... .......... .......... 61%  288M 0s\n",
      " 52650K .......... .......... .......... .......... .......... 61%  371M 0s\n",
      " 52700K .......... .......... .......... .......... .......... 61%  361M 0s\n",
      " 52750K .......... .......... .......... .......... .......... 61%  364M 0s\n",
      " 52800K .......... .......... .......... .......... .......... 61%  345M 0s\n",
      " 52850K .......... .......... .......... .......... .......... 61% 4.08M 0s\n",
      " 52900K .......... .......... .......... .......... .......... 61%  196M 0s\n",
      " 52950K .......... .......... .......... .......... .......... 61% 90.7M 0s\n",
      " 53000K .......... .......... .......... .......... .......... 61%  124M 0s\n",
      " 53050K .......... .......... .......... .......... .......... 61% 77.7M 0s\n",
      " 53100K .......... .......... .......... .......... .......... 61% 23.9M 0s\n",
      " 53150K .......... .......... .......... .......... .......... 61% 42.5M 0s\n",
      " 53200K .......... .......... .......... .......... .......... 61% 61.4M 0s\n",
      " 53250K .......... .......... .......... .......... .......... 61% 91.0M 0s\n",
      " 53300K .......... .......... .......... .......... .......... 62%  129M 0s\n",
      " 53350K .......... .......... .......... .......... .......... 62%  179M 0s\n",
      " 53400K .......... .......... .......... .......... .......... 62% 96.1M 0s\n",
      " 53450K .......... .......... .......... .......... .......... 62% 31.1M 0s\n",
      " 53500K .......... .......... .......... .......... .......... 62%  287M 0s\n",
      " 53550K .......... .......... .......... .......... .......... 62%  244M 0s\n",
      " 53600K .......... .......... .......... .......... .......... 62%  285M 0s\n",
      " 53650K .......... .......... .......... .......... .......... 62%  336M 0s\n",
      " 53700K .......... .......... .......... .......... .......... 62%  336M 0s\n",
      " 53750K .......... .......... .......... .......... .......... 62%  314M 0s\n",
      " 53800K .......... .......... .......... .......... .......... 62%  194M 0s\n",
      " 53850K .......... .......... .......... .......... .......... 62%  278M 0s\n",
      " 53900K .......... .......... .......... .......... .......... 62%  335M 0s\n",
      " 53950K .......... .......... .......... .......... .......... 62%  145M 0s\n",
      " 54000K .......... .......... .......... .......... .......... 62%  284M 0s\n",
      " 54050K .......... .......... .......... .......... .......... 62%  357M 0s\n",
      " 54100K .......... .......... .......... .......... .......... 62%  250M 0s\n",
      " 54150K .......... .......... .......... .......... .......... 63%  331M 0s\n",
      " 54200K .......... .......... .......... .......... .......... 63%  303M 0s\n",
      " 54250K .......... .......... .......... .......... .......... 63%  361M 0s\n",
      " 54300K .......... .......... .......... .......... .......... 63%  217M 0s\n",
      " 54350K .......... .......... .......... .......... .......... 63%  357M 0s\n",
      " 54400K .......... .......... .......... .......... .......... 63%  319M 0s\n",
      " 54450K .......... .......... .......... .......... .......... 63%  311M 0s\n",
      " 54500K .......... .......... .......... .......... .......... 63%  293M 0s\n",
      " 54550K .......... .......... .......... .......... .......... 63%  312M 0s\n",
      " 54600K .......... .......... .......... .......... .......... 63%  301M 0s\n",
      " 54650K .......... .......... .......... .......... .......... 63%  379M 0s\n",
      " 54700K .......... .......... .......... .......... .......... 63%  355M 0s\n",
      " 54750K .......... .......... .......... .......... .......... 63%  349M 0s\n",
      " 54800K .......... .......... .......... .......... .......... 63%  336M 0s\n",
      " 54850K .......... .......... .......... .......... .......... 63%  293M 0s\n",
      " 54900K .......... .......... .......... .......... .......... 63%  278M 0s\n",
      " 54950K .......... .......... .......... .......... .......... 63%  376M 0s\n",
      " 55000K .......... .......... .......... .......... .......... 63%  259M 0s\n",
      " 55050K .......... .......... .......... .......... .......... 64%  351M 0s\n",
      " 55100K .......... .......... .......... .......... .......... 64%  343M 0s\n",
      " 55150K .......... .......... .......... .......... .......... 64%  357M 0s\n",
      " 55200K .......... .......... .......... .......... .......... 64%  324M 0s\n",
      " 55250K .......... .......... .......... .......... .......... 64%  329M 0s\n",
      " 55300K .......... .......... .......... .......... .......... 64%  356M 0s\n",
      " 55350K .......... .......... .......... .......... .......... 64%  357M 0s\n",
      " 55400K .......... .......... .......... .......... .......... 64%  267M 0s\n",
      " 55450K .......... .......... .......... .......... .......... 64%  366M 0s\n",
      " 55500K .......... .......... .......... .......... .......... 64%  372M 0s\n",
      " 55550K .......... .......... .......... .......... .......... 64%  349M 0s\n",
      " 55600K .......... .......... .......... .......... .......... 64%  323M 0s\n",
      " 55650K .......... .......... .......... .......... .......... 64%  335M 0s\n",
      " 55700K .......... .......... .......... .......... .......... 64%  361M 0s\n",
      " 55750K .......... .......... .......... .......... .......... 64%  323M 0s\n",
      " 55800K .......... .......... .......... .......... .......... 64%  201M 0s\n",
      " 55850K .......... .......... .......... .......... .......... 64%  247M 0s\n",
      " 55900K .......... .......... .......... .......... .......... 65%  275M 0s\n",
      " 55950K .......... .......... .......... .......... .......... 65%  341M 0s\n",
      " 56000K .......... .......... .......... .......... .......... 65%  302M 0s\n",
      " 56050K .......... .......... .......... .......... .......... 65%  318M 0s\n",
      " 56100K .......... .......... .......... .......... .......... 65%  366M 0s\n",
      " 56150K .......... .......... .......... .......... .......... 65%  321M 0s\n",
      " 56200K .......... .......... .......... .......... .......... 65%  249M 0s\n",
      " 56250K .......... .......... .......... .......... .......... 65%  372M 0s\n",
      " 56300K .......... .......... .......... .......... .......... 65%  284M 0s\n",
      " 56350K .......... .......... .......... .......... .......... 65%  347M 0s\n",
      " 56400K .......... .......... .......... .......... .......... 65%  308M 0s\n",
      " 56450K .......... .......... .......... .......... .......... 65% 6.05M 0s\n",
      " 56500K .......... .......... .......... .......... .......... 65%  176M 0s\n",
      " 56550K .......... .......... .......... .......... .......... 65%  233M 0s\n",
      " 56600K .......... .......... .......... .......... .......... 65% 54.6M 0s\n",
      " 56650K .......... .......... .......... .......... .......... 65% 32.5M 0s\n",
      " 56700K .......... .......... .......... .......... .......... 65% 77.7M 0s\n",
      " 56750K .......... .......... .......... .......... .......... 66%  211M 0s\n",
      " 56800K .......... .......... .......... .......... .......... 66%  223M 0s\n",
      " 56850K .......... .......... .......... .......... .......... 66%  248M 0s\n",
      " 56900K .......... .......... .......... .......... .......... 66%  221M 0s\n",
      " 56950K .......... .......... .......... .......... .......... 66%  248M 0s\n",
      " 57000K .......... .......... .......... .......... .......... 66%  196M 0s\n",
      " 57050K .......... .......... .......... .......... .......... 66%  262M 0s\n",
      " 57100K .......... .......... .......... .......... .......... 66%  229M 0s\n",
      " 57150K .......... .......... .......... .......... .......... 66%  237M 0s\n",
      " 57200K .......... .......... .......... .......... .......... 66%  236M 0s\n",
      " 57250K .......... .......... .......... .......... .......... 66%  287M 0s\n",
      " 57300K .......... .......... .......... .......... .......... 66%  234M 0s\n",
      " 57350K .......... .......... .......... .......... .......... 66%  285M 0s\n",
      " 57400K .......... .......... .......... .......... .......... 66%  235M 0s\n",
      " 57450K .......... .......... .......... .......... .......... 66%  290M 0s\n",
      " 57500K .......... .......... .......... .......... .......... 66%  269M 0s\n",
      " 57550K .......... .......... .......... .......... .......... 66%  292M 0s\n",
      " 57600K .......... .......... .......... .......... .......... 67%  259M 0s\n",
      " 57650K .......... .......... .......... .......... .......... 67%  263M 0s\n",
      " 57700K .......... .......... .......... .......... .......... 67%  265M 0s\n",
      " 57750K .......... .......... .......... .......... .......... 67%  206M 0s\n",
      " 57800K .......... .......... .......... .......... .......... 67%  223M 0s\n",
      " 57850K .......... .......... .......... .......... .......... 67% 35.8M 0s\n",
      " 57900K .......... .......... .......... .......... .......... 67%  275M 0s\n",
      " 57950K .......... .......... .......... .......... .......... 67%  259M 0s\n",
      " 58000K .......... .......... .......... .......... .......... 67%  264M 0s\n",
      " 58050K .......... .......... .......... .......... .......... 67%  253M 0s\n",
      " 58100K .......... .......... .......... .......... .......... 67%  289M 0s\n",
      " 58150K .......... .......... .......... .......... .......... 67%  290M 0s\n",
      " 58200K .......... .......... .......... .......... .......... 67%  232M 0s\n",
      " 58250K .......... .......... .......... .......... .......... 67%  314M 0s\n",
      " 58300K .......... .......... .......... .......... .......... 67%  290M 0s\n",
      " 58350K .......... .......... .......... .......... .......... 67% 38.4M 0s\n",
      " 58400K .......... .......... .......... .......... .......... 67%  243M 0s\n",
      " 58450K .......... .......... .......... .......... .......... 68%  266M 0s\n",
      " 58500K .......... .......... .......... .......... .......... 68%  285M 0s\n",
      " 58550K .......... .......... .......... .......... .......... 68%  272M 0s\n",
      " 58600K .......... .......... .......... .......... .......... 68%  240M 0s\n",
      " 58650K .......... .......... .......... .......... .......... 68%  278M 0s\n",
      " 58700K .......... .......... .......... .......... .......... 68%  264M 0s\n",
      " 58750K .......... .......... .......... .......... .......... 68%  274M 0s\n",
      " 58800K .......... .......... .......... .......... .......... 68%  248M 0s\n",
      " 58850K .......... .......... .......... .......... .......... 68%  250M 0s\n",
      " 58900K .......... .......... .......... .......... .......... 68%  269M 0s\n",
      " 58950K .......... .......... .......... .......... .......... 68%  273M 0s\n",
      " 59000K .......... .......... .......... .......... .......... 68%  222M 0s\n",
      " 59050K .......... .......... .......... .......... .......... 68%  275M 0s\n",
      " 59100K .......... .......... .......... .......... .......... 68%  237M 0s\n",
      " 59150K .......... .......... .......... .......... .......... 68%  248M 0s\n",
      " 59200K .......... .......... .......... .......... .......... 68%  216M 0s\n",
      " 59250K .......... .......... .......... .......... .......... 68%  227M 0s\n",
      " 59300K .......... .......... .......... .......... .......... 68%  264M 0s\n",
      " 59350K .......... .......... .......... .......... .......... 69%  256M 0s\n",
      " 59400K .......... .......... .......... .......... .......... 69%  205M 0s\n",
      " 59450K .......... .......... .......... .......... .......... 69%  267M 0s\n",
      " 59500K .......... .......... .......... .......... .......... 69%  253M 0s\n",
      " 59550K .......... .......... .......... .......... .......... 69%  237M 0s\n",
      " 59600K .......... .......... .......... .......... .......... 69%  248M 0s\n",
      " 59650K .......... .......... .......... .......... .......... 69%  273M 0s\n",
      " 59700K .......... .......... .......... .......... .......... 69%  255M 0s\n",
      " 59750K .......... .......... .......... .......... .......... 69%  273M 0s\n",
      " 59800K .......... .......... .......... .......... .......... 69%  229M 0s\n",
      " 59850K .......... .......... .......... .......... .......... 69%  222M 0s\n",
      " 59900K .......... .......... .......... .......... .......... 69% 18.8M 0s\n",
      " 59950K .......... .......... .......... .......... .......... 69%  257M 0s\n",
      " 60000K .......... .......... .......... .......... .......... 69%  248M 0s\n",
      " 60050K .......... .......... .......... .......... .......... 69%  317M 0s\n",
      " 60100K .......... .......... .......... .......... .......... 69%  373M 0s\n",
      " 60150K .......... .......... .......... .......... .......... 69%  316M 0s\n",
      " 60200K .......... .......... .......... .......... .......... 70%  274M 0s\n",
      " 60250K .......... .......... .......... .......... .......... 70%  371M 0s\n",
      " 60300K .......... .......... .......... .......... .......... 70%  291M 0s\n",
      " 60350K .......... .......... .......... .......... .......... 70%  310M 0s\n",
      " 60400K .......... .......... .......... .......... .......... 70%  236M 0s\n",
      " 60450K .......... .......... .......... .......... .......... 70%  334M 0s\n",
      " 60500K .......... .......... .......... .......... .......... 70%  370M 0s\n",
      " 60550K .......... .......... .......... .......... .......... 70%  336M 0s\n",
      " 60600K .......... .......... .......... .......... .......... 70%  312M 0s\n",
      " 60650K .......... .......... .......... .......... .......... 70%  375M 0s\n",
      " 60700K .......... .......... .......... .......... .......... 70%  285M 0s\n",
      " 60750K .......... .......... .......... .......... .......... 70%  377M 0s\n",
      " 60800K .......... .......... .......... .......... .......... 70%  314M 0s\n",
      " 60850K .......... .......... .......... .......... .......... 70%  262M 0s\n",
      " 60900K .......... .......... .......... .......... .......... 70% 9.68M 0s\n",
      " 60950K .......... .......... .......... .......... .......... 70% 87.6M 0s\n",
      " 61000K .......... .......... .......... .......... .......... 70%  109M 0s\n",
      " 61050K .......... .......... .......... .......... .......... 71%  215M 0s\n",
      " 61100K .......... .......... .......... .......... .......... 71%  275M 0s\n",
      " 61150K .......... .......... .......... .......... .......... 71%  271M 0s\n",
      " 61200K .......... .......... .......... .......... .......... 71%  249M 0s\n",
      " 61250K .......... .......... .......... .......... .......... 71%  279M 0s\n",
      " 61300K .......... .......... .......... .......... .......... 71% 34.5M 0s\n",
      " 61350K .......... .......... .......... .......... .......... 71%  143M 0s\n",
      " 61400K .......... .......... .......... .......... .......... 71% 99.2M 0s\n",
      " 61450K .......... .......... .......... .......... .......... 71%  133M 0s\n",
      " 61500K .......... .......... .......... .......... .......... 71%  141M 0s\n",
      " 61550K .......... .......... .......... .......... .......... 71% 39.4M 0s\n",
      " 61600K .......... .......... .......... .......... .......... 71% 91.2M 0s\n",
      " 61650K .......... .......... .......... .......... .......... 71%  125M 0s\n",
      " 61700K .......... .......... .......... .......... .......... 71% 88.7M 0s\n",
      " 61750K .......... .......... .......... .......... .......... 71% 32.5M 0s\n",
      " 61800K .......... .......... .......... .......... .......... 71% 76.3M 0s\n",
      " 61850K .......... .......... .......... .......... .......... 71%  345M 0s\n",
      " 61900K .......... .......... .......... .......... .......... 72%  354M 0s\n",
      " 61950K .......... .......... .......... .......... .......... 72%  339M 0s\n",
      " 62000K .......... .......... .......... .......... .......... 72%  322M 0s\n",
      " 62050K .......... .......... .......... .......... .......... 72%  365M 0s\n",
      " 62100K .......... .......... .......... .......... .......... 72%  364M 0s\n",
      " 62150K .......... .......... .......... .......... .......... 72%  364M 0s\n",
      " 62200K .......... .......... .......... .......... .......... 72%  109M 0s\n",
      " 62250K .......... .......... .......... .......... .......... 72%  349M 0s\n",
      " 62300K .......... .......... .......... .......... .......... 72%  355M 0s\n",
      " 62350K .......... .......... .......... .......... .......... 72%  347M 0s\n",
      " 62400K .......... .......... .......... .......... .......... 72%  322M 0s\n",
      " 62450K .......... .......... .......... .......... .......... 72%  334M 0s\n",
      " 62500K .......... .......... .......... .......... .......... 72%  317M 0s\n",
      " 62550K .......... .......... .......... .......... .......... 72%  350M 0s\n",
      " 62600K .......... .......... .......... .......... .......... 72%  297M 0s\n",
      " 62650K .......... .......... .......... .......... .......... 72%  365M 0s\n",
      " 62700K .......... .......... .......... .......... .......... 72%  349M 0s\n",
      " 62750K .......... .......... .......... .......... .......... 73%  339M 0s\n",
      " 62800K .......... .......... .......... .......... .......... 73%  328M 0s\n",
      " 62850K .......... .......... .......... .......... .......... 73%  359M 0s\n",
      " 62900K .......... .......... .......... .......... .......... 73%  282M 0s\n",
      " 62950K .......... .......... .......... .......... .......... 73%  273M 0s\n",
      " 63000K .......... .......... .......... .......... .......... 73%  291M 0s\n",
      " 63050K .......... .......... .......... .......... .......... 73%  341M 0s\n",
      " 63100K .......... .......... .......... .......... .......... 73%  364M 0s\n",
      " 63150K .......... .......... .......... .......... .......... 73%  367M 0s\n",
      " 63200K .......... .......... .......... .......... .......... 73%  306M 0s\n",
      " 63250K .......... .......... .......... .......... .......... 73%  346M 0s\n",
      " 63300K .......... .......... .......... .......... .......... 73%  368M 0s\n",
      " 63350K .......... .......... .......... .......... .......... 73%  363M 0s\n",
      " 63400K .......... .......... .......... .......... .......... 73%  190M 0s\n",
      " 63450K .......... .......... .......... .......... .......... 73%  298M 0s\n",
      " 63500K .......... .......... .......... .......... .......... 73%  353M 0s\n",
      " 63550K .......... .......... .......... .......... .......... 73%  325M 0s\n",
      " 63600K .......... .......... .......... .......... .......... 73%  317M 0s\n",
      " 63650K .......... .......... .......... .......... .......... 74%  354M 0s\n",
      " 63700K .......... .......... .......... .......... .......... 74%  360M 0s\n",
      " 63750K .......... .......... .......... .......... .......... 74%  328M 0s\n",
      " 63800K .......... .......... .......... .......... .......... 74%  277M 0s\n",
      " 63850K .......... .......... .......... .......... .......... 74%  327M 0s\n",
      " 63900K .......... .......... .......... .......... .......... 74%  348M 0s\n",
      " 63950K .......... .......... .......... .......... .......... 74%  361M 0s\n",
      " 64000K .......... .......... .......... .......... .......... 74%  233M 0s\n",
      " 64050K .......... .......... .......... .......... .......... 74%  258M 0s\n",
      " 64100K .......... .......... .......... .......... .......... 74%  290M 0s\n",
      " 64150K .......... .......... .......... .......... .......... 74%  268M 0s\n",
      " 64200K .......... .......... .......... .......... .......... 74%  226M 0s\n",
      " 64250K .......... .......... .......... .......... .......... 74%  295M 0s\n",
      " 64300K .......... .......... .......... .......... .......... 74%  262M 0s\n",
      " 64350K .......... .......... .......... .......... .......... 74%  263M 0s\n",
      " 64400K .......... .......... .......... .......... .......... 74%  258M 0s\n",
      " 64450K .......... .......... .......... .......... .......... 74%  285M 0s\n",
      " 64500K .......... .......... .......... .......... .......... 75% 7.09M 0s\n",
      " 64550K .......... .......... .......... .......... .......... 75%  215M 0s\n",
      " 64600K .......... .......... .......... .......... .......... 75%  208M 0s\n",
      " 64650K .......... .......... .......... .......... .......... 75%  235M 0s\n",
      " 64700K .......... .......... .......... .......... .......... 75%  238M 0s\n",
      " 64750K .......... .......... .......... .......... .......... 75%  210M 0s\n",
      " 64800K .......... .......... .......... .......... .......... 75%  255M 0s\n",
      " 64850K .......... .......... .......... .......... .......... 75%  289M 0s\n",
      " 64900K .......... .......... .......... .......... .......... 75%  236M 0s\n",
      " 64950K .......... .......... .......... .......... .......... 75%  245M 0s\n",
      " 65000K .......... .......... .......... .......... .......... 75%  208M 0s\n",
      " 65050K .......... .......... .......... .......... .......... 75%  312M 0s\n",
      " 65100K .......... .......... .......... .......... .......... 75%  316M 0s\n",
      " 65150K .......... .......... .......... .......... .......... 75%  361M 0s\n",
      " 65200K .......... .......... .......... .......... .......... 75%  317M 0s\n",
      " 65250K .......... .......... .......... .......... .......... 75%  267M 0s\n",
      " 65300K .......... .......... .......... .......... .......... 75%  232M 0s\n",
      " 65350K .......... .......... .......... .......... .......... 76%  232M 0s\n",
      " 65400K .......... .......... .......... .......... .......... 76%  213M 0s\n",
      " 65450K .......... .......... .......... .......... .......... 76%  248M 0s\n",
      " 65500K .......... .......... .......... .......... .......... 76%  256M 0s\n",
      " 65550K .......... .......... .......... .......... .......... 76%  246M 0s\n",
      " 65600K .......... .......... .......... .......... .......... 76%  285M 0s\n",
      " 65650K .......... .......... .......... .......... .......... 76%  277M 0s\n",
      " 65700K .......... .......... .......... .......... .......... 76%  307M 0s\n",
      " 65750K .......... .......... .......... .......... .......... 76%  326M 0s\n",
      " 65800K .......... .......... .......... .......... .......... 76%  283M 0s\n",
      " 65850K .......... .......... .......... .......... .......... 76%  349M 0s\n",
      " 65900K .......... .......... .......... .......... .......... 76%  354M 0s\n",
      " 65950K .......... .......... .......... .......... .......... 76%  304M 0s\n",
      " 66000K .......... .......... .......... .......... .......... 76%  271M 0s\n",
      " 66050K .......... .......... .......... .......... .......... 76% 12.7M 0s\n",
      " 66100K .......... .......... .......... .......... .......... 76%  256M 0s\n",
      " 66150K .......... .......... .......... .......... .......... 76%  219M 0s\n",
      " 66200K .......... .......... .......... .......... .......... 77%  204M 0s\n",
      " 66250K .......... .......... .......... .......... .......... 77%  224M 0s\n",
      " 66300K .......... .......... .......... .......... .......... 77%  249M 0s\n",
      " 66350K .......... .......... .......... .......... .......... 77%  232M 0s\n",
      " 66400K .......... .......... .......... .......... .......... 77%  240M 0s\n",
      " 66450K .......... .......... .......... .......... .......... 77%  350M 0s\n",
      " 66500K .......... .......... .......... .......... .......... 77%  368M 0s\n",
      " 66550K .......... .......... .......... .......... .......... 77%  355M 0s\n",
      " 66600K .......... .......... .......... .......... .......... 77%  297M 0s\n",
      " 66650K .......... .......... .......... .......... .......... 77%  372M 0s\n",
      " 66700K .......... .......... .......... .......... .......... 77%  372M 0s\n",
      " 66750K .......... .......... .......... .......... .......... 77%  296M 0s\n",
      " 66800K .......... .......... .......... .......... .......... 77%  288M 0s\n",
      " 66850K .......... .......... .......... .......... .......... 77%  364M 0s\n",
      " 66900K .......... .......... .......... .......... .......... 77%  353M 0s\n",
      " 66950K .......... .......... .......... .......... .......... 77%  353M 0s\n",
      " 67000K .......... .......... .......... .......... .......... 77%  307M 0s\n",
      " 67050K .......... .......... .......... .......... .......... 78%  324M 0s\n",
      " 67100K .......... .......... .......... .......... .......... 78%  367M 0s\n",
      " 67150K .......... .......... .......... .......... .......... 78%  364M 0s\n",
      " 67200K .......... .......... .......... .......... .......... 78% 9.26M 0s\n",
      " 67250K .......... .......... .......... .......... .......... 78%  312M 0s\n",
      " 67300K .......... .......... .......... .......... .......... 78%  347M 0s\n",
      " 67350K .......... .......... .......... .......... .......... 78%  326M 0s\n",
      " 67400K .......... .......... .......... .......... .......... 78%  301M 0s\n",
      " 67450K .......... .......... .......... .......... .......... 78%  366M 0s\n",
      " 67500K .......... .......... .......... .......... .......... 78%  374M 0s\n",
      " 67550K .......... .......... .......... .......... .......... 78%  370M 0s\n",
      " 67600K .......... .......... .......... .......... .......... 78%  333M 0s\n",
      " 67650K .......... .......... .......... .......... .......... 78%  369M 0s\n",
      " 67700K .......... .......... .......... .......... .......... 78%  367M 0s\n",
      " 67750K .......... .......... .......... .......... .......... 78%  367M 0s\n",
      " 67800K .......... .......... .......... .......... .......... 78%  170M 0s\n",
      " 67850K .......... .......... .......... .......... .......... 78%  338M 0s\n",
      " 67900K .......... .......... .......... .......... .......... 78%  344M 0s\n",
      " 67950K .......... .......... .......... .......... .......... 79%  320M 0s\n",
      " 68000K .......... .......... .......... .......... .......... 79%  327M 0s\n",
      " 68050K .......... .......... .......... .......... .......... 79%  371M 0s\n",
      " 68100K .......... .......... .......... .......... .......... 79% 8.05M 0s\n",
      " 68150K .......... .......... .......... .......... .......... 79% 87.0M 0s\n",
      " 68200K .......... .......... .......... .......... .......... 79%  297M 0s\n",
      " 68250K .......... .......... .......... .......... .......... 79%  370M 0s\n",
      " 68300K .......... .......... .......... .......... .......... 79%  292M 0s\n",
      " 68350K .......... .......... .......... .......... .......... 79%  328M 0s\n",
      " 68400K .......... .......... .......... .......... .......... 79%  249M 0s\n",
      " 68450K .......... .......... .......... .......... .......... 79%  342M 0s\n",
      " 68500K .......... .......... .......... .......... .......... 79%  348M 0s\n",
      " 68550K .......... .......... .......... .......... .......... 79%  324M 0s\n",
      " 68600K .......... .......... .......... .......... .......... 79%  275M 0s\n",
      " 68650K .......... .......... .......... .......... .......... 79%  370M 0s\n",
      " 68700K .......... .......... .......... .......... .......... 79%  326M 0s\n",
      " 68750K .......... .......... .......... .......... .......... 79%  362M 0s\n",
      " 68800K .......... .......... .......... .......... .......... 80%  321M 0s\n",
      " 68850K .......... .......... .......... .......... .......... 80%  337M 0s\n",
      " 68900K .......... .......... .......... .......... .......... 80% 89.1M 0s\n",
      " 68950K .......... .......... .......... .......... .......... 80% 80.9M 0s\n",
      " 69000K .......... .......... .......... .......... .......... 80%  303M 0s\n",
      " 69050K .......... .......... .......... .......... .......... 80%  349M 0s\n",
      " 69100K .......... .......... .......... .......... .......... 80%  367M 0s\n",
      " 69150K .......... .......... .......... .......... .......... 80%  367M 0s\n",
      " 69200K .......... .......... .......... .......... .......... 80%  339M 0s\n",
      " 69250K .......... .......... .......... .......... .......... 80%  372M 0s\n",
      " 69300K .......... .......... .......... .......... .......... 80%  363M 0s\n",
      " 69350K .......... .......... .......... .......... .......... 80%  363M 0s\n",
      " 69400K .......... .......... .......... .......... .......... 80%  256M 0s\n",
      " 69450K .......... .......... .......... .......... .......... 80%  358M 0s\n",
      " 69500K .......... .......... .......... .......... .......... 80%  355M 0s\n",
      " 69550K .......... .......... .......... .......... .......... 80%  339M 0s\n",
      " 69600K .......... .......... .......... .......... .......... 80%  336M 0s\n",
      " 69650K .......... .......... .......... .......... .......... 81%  377M 0s\n",
      " 69700K .......... .......... .......... .......... .......... 81%  375M 0s\n",
      " 69750K .......... .......... .......... .......... .......... 81%  383M 0s\n",
      " 69800K .......... .......... .......... .......... .......... 81% 60.6M 0s\n",
      " 69850K .......... .......... .......... .......... .......... 81%  355M 0s\n",
      " 69900K .......... .......... .......... .......... .......... 81%  365M 0s\n",
      " 69950K .......... .......... .......... .......... .......... 81%  361M 0s\n",
      " 70000K .......... .......... .......... .......... .......... 81%  330M 0s\n",
      " 70050K .......... .......... .......... .......... .......... 81%  342M 0s\n",
      " 70100K .......... .......... .......... .......... .......... 81%  364M 0s\n",
      " 70150K .......... .......... .......... .......... .......... 81%  135M 0s\n",
      " 70200K .......... .......... .......... .......... .......... 81%  311M 0s\n",
      " 70250K .......... .......... .......... .......... .......... 81%  374M 0s\n",
      " 70300K .......... .......... .......... .......... .......... 81%  357M 0s\n",
      " 70350K .......... .......... .......... .......... .......... 81%  377M 0s\n",
      " 70400K .......... .......... .......... .......... .......... 81%  341M 0s\n",
      " 70450K .......... .......... .......... .......... .......... 81%  385M 0s\n",
      " 70500K .......... .......... .......... .......... .......... 82%  336M 0s\n",
      " 70550K .......... .......... .......... .......... .......... 82%  264M 0s\n",
      " 70600K .......... .......... .......... .......... .......... 82%  238M 0s\n",
      " 70650K .......... .......... .......... .......... .......... 82% 58.8M 0s\n",
      " 70700K .......... .......... .......... .......... .......... 82%  370M 0s\n",
      " 70750K .......... .......... .......... .......... .......... 82%  316M 0s\n",
      " 70800K .......... .......... .......... .......... .......... 82%  234M 0s\n",
      " 70850K .......... .......... .......... .......... .......... 82%  324M 0s\n",
      " 70900K .......... .......... .......... .......... .......... 82%  312M 0s\n",
      " 70950K .......... .......... .......... .......... .......... 82%  323M 0s\n",
      " 71000K .......... .......... .......... .......... .......... 82%  277M 0s\n",
      " 71050K .......... .......... .......... .......... .......... 82%  282M 0s\n",
      " 71100K .......... .......... .......... .......... .......... 82% 60.3M 0s\n",
      " 71150K .......... .......... .......... .......... .......... 82%  342M 0s\n",
      " 71200K .......... .......... .......... .......... .......... 82%  323M 0s\n",
      " 71250K .......... .......... .......... .......... .......... 82%  368M 0s\n",
      " 71300K .......... .......... .......... .......... .......... 82%  364M 0s\n",
      " 71350K .......... .......... .......... .......... .......... 83%  232M 0s\n",
      " 71400K .......... .......... .......... .......... .......... 83%  304M 0s\n",
      " 71450K .......... .......... .......... .......... .......... 83%  348M 0s\n",
      " 71500K .......... .......... .......... .......... .......... 83%  368M 0s\n",
      " 71550K .......... .......... .......... .......... .......... 83%  373M 0s\n",
      " 71600K .......... .......... .......... .......... .......... 83%  324M 0s\n",
      " 71650K .......... .......... .......... .......... .......... 83%  380M 0s\n",
      " 71700K .......... .......... .......... .......... .......... 83%  377M 0s\n",
      " 71750K .......... .......... .......... .......... .......... 83%  377M 0s\n",
      " 71800K .......... .......... .......... .......... .......... 83%  303M 0s\n",
      " 71850K .......... .......... .......... .......... .......... 83%  363M 0s\n",
      " 71900K .......... .......... .......... .......... .......... 83%  317M 0s\n",
      " 71950K .......... .......... .......... .......... .......... 83%  367M 0s\n",
      " 72000K .......... .......... .......... .......... .......... 83% 5.57M 0s\n",
      " 72050K .......... .......... .......... .......... .......... 83% 99.9M 0s\n",
      " 72100K .......... .......... .......... .......... .......... 83% 78.0M 0s\n",
      " 72150K .......... .......... .......... .......... .......... 83%  120M 0s\n",
      " 72200K .......... .......... .......... .......... .......... 83%  133M 0s\n",
      " 72250K .......... .......... .......... .......... .......... 84%  361M 0s\n",
      " 72300K .......... .......... .......... .......... .......... 84%  367M 0s\n",
      " 72350K .......... .......... .......... .......... .......... 84%  366M 0s\n",
      " 72400K .......... .......... .......... .......... .......... 84%  263M 0s\n",
      " 72450K .......... .......... .......... .......... .......... 84%  293M 0s\n",
      " 72500K .......... .......... .......... .......... .......... 84%  290M 0s\n",
      " 72550K .......... .......... .......... .......... .......... 84% 13.7M 0s\n",
      " 72600K .......... .......... .......... .......... .......... 84%  253M 0s\n",
      " 72650K .......... .......... .......... .......... .......... 84%  337M 0s\n",
      " 72700K .......... .......... .......... .......... .......... 84%  360M 0s\n",
      " 72750K .......... .......... .......... .......... .......... 84%  359M 0s\n",
      " 72800K .......... .......... .......... .......... .......... 84%  270M 0s\n",
      " 72850K .......... .......... .......... .......... .......... 84%  281M 0s\n",
      " 72900K .......... .......... .......... .......... .......... 84%  253M 0s\n",
      " 72950K .......... .......... .......... .......... .......... 84%  286M 0s\n",
      " 73000K .......... .......... .......... .......... .......... 84%  273M 0s\n",
      " 73050K .......... .......... .......... .......... .......... 84%  351M 0s\n",
      " 73100K .......... .......... .......... .......... .......... 85%  353M 0s\n",
      " 73150K .......... .......... .......... .......... .......... 85%  310M 0s\n",
      " 73200K .......... .......... .......... .......... .......... 85%  223M 0s\n",
      " 73250K .......... .......... .......... .......... .......... 85%  257M 0s\n",
      " 73300K .......... .......... .......... .......... .......... 85%  252M 0s\n",
      " 73350K .......... .......... .......... .......... .......... 85%  230M 0s\n",
      " 73400K .......... .......... .......... .......... .......... 85%  247M 0s\n",
      " 73450K .......... .......... .........."
     ]
    },
    {
     "name": "stderr",
     "output_type": "stream",
     "text": [
      " .......... .......... 85%  133K 0s\n",
      " 73500K .......... .......... .......... .......... .......... 85%  245M 0s\n",
      " 73550K .......... .......... .......... .......... .......... 85%  299M 0s\n",
      " 73600K .......... .......... .......... .......... .......... 85%  245M 0s\n",
      " 73650K .......... .......... .......... .......... .......... 85%  360M 0s\n",
      " 73700K .......... .......... .......... .......... .......... 85%  364M 0s\n",
      " 73750K .......... .......... .......... .......... .......... 85%  363M 0s\n",
      " 73800K .......... .......... .......... .......... .......... 85%  259M 0s\n",
      " 73850K .......... .......... .......... .......... .......... 85%  333M 0s\n",
      " 73900K .......... .......... .......... .......... .......... 85%  354M 0s\n",
      " 73950K .......... .......... .......... .......... .......... 86%  357M 0s\n",
      " 74000K .......... .......... .......... .......... .......... 86%  322M 0s\n",
      " 74050K .......... .......... .......... .......... .......... 86%  360M 0s\n",
      " 74100K .......... .......... .......... .......... .......... 86%  335M 0s\n",
      " 74150K .......... .......... .......... .......... .......... 86%  351M 0s\n",
      " 74200K .......... .......... .......... .......... .......... 86%  300M 0s\n",
      " 74250K .......... .......... .......... .......... .......... 86% 46.3M 0s\n",
      " 74300K .......... .......... .......... .......... .......... 86%  227M 0s\n",
      " 74350K .......... .......... .......... .......... .......... 86%  318M 0s\n",
      " 74400K .......... .......... .......... .......... .......... 86%  300M 0s\n",
      " 74450K .......... .......... .......... .......... .......... 86%  373M 0s\n",
      " 74500K .......... .......... .......... .......... .......... 86%  369M 0s\n",
      " 74550K .......... .......... .......... .......... .......... 86%  316M 0s\n",
      " 74600K .......... .......... .......... .......... .......... 86%  299M 0s\n",
      " 74650K .......... .......... .......... .......... .......... 86%  370M 0s\n",
      " 74700K .......... .......... .......... .......... .......... 86%  358M 0s\n",
      " 74750K .......... .......... .......... .......... .......... 86%  370M 0s\n",
      " 74800K .......... .......... .......... .......... .......... 87%  332M 0s\n",
      " 74850K .......... .......... .......... .......... .......... 87% 53.3M 0s\n",
      " 74900K .......... .......... .......... .......... .......... 87%  327M 0s\n",
      " 74950K .......... .......... .......... .......... .......... 87%  358M 0s\n",
      " 75000K .......... .......... .......... .......... .......... 87%  285M 0s\n",
      " 75050K .......... .......... .......... .......... .......... 87%  373M 0s\n",
      " 75100K .......... .......... .......... .......... .......... 87%  363M 0s\n",
      " 75150K .......... .......... .......... .......... .......... 87%  375M 0s\n",
      " 75200K .......... .......... .......... .......... .......... 87%  346M 0s\n",
      " 75250K .......... .......... .......... .......... .......... 87%  381M 0s\n",
      " 75300K .......... .......... .......... .......... .......... 87%  374M 0s\n",
      " 75350K .......... .......... .......... .......... .......... 87%  361M 0s\n",
      " 75400K .......... .......... .......... .......... .......... 87%  286M 0s\n",
      " 75450K .......... .......... .......... .......... .......... 87% 95.6M 0s\n",
      " 75500K .......... .......... .......... .......... .......... 87% 96.9M 0s\n",
      " 75550K .......... .......... .......... .......... .......... 87%  366M 0s\n",
      " 75600K .......... .......... .......... .......... .......... 87%  316M 0s\n",
      " 75650K .......... .......... .......... .......... .......... 88%  376M 0s\n",
      " 75700K .......... .......... .......... .......... .......... 88%  380M 0s\n",
      " 75750K .......... .......... .......... .......... .......... 88%  313M 0s\n",
      " 75800K .......... .......... .......... .......... .......... 88% 93.8M 0s\n",
      " 75850K .......... .......... .......... .......... .......... 88%  342M 0s\n",
      " 75900K .......... .......... .......... .......... .......... 88%  367M 0s\n",
      " 75950K .......... .......... .......... .......... .......... 88%  370M 0s\n",
      " 76000K .......... .......... .......... .......... .......... 88%  323M 0s\n",
      " 76050K .......... .......... .......... .......... .......... 88%  339M 0s\n",
      " 76100K .......... .......... .......... .......... .......... 88%  362M 0s\n",
      " 76150K .......... .......... .......... .......... .......... 88%  372M 0s\n",
      " 76200K .......... .......... .......... .......... .......... 88%  312M 0s\n",
      " 76250K .......... .......... .......... .......... .......... 88%  384M 0s\n",
      " 76300K .......... .......... .......... .......... .......... 88%  381M 0s\n",
      " 76350K .......... .......... .......... .......... .......... 88%  364M 0s\n",
      " 76400K .......... .......... .......... .......... .......... 88%  350M 0s\n",
      " 76450K .......... .......... .......... .......... .......... 88%  128M 0s\n",
      " 76500K .......... .......... .......... .......... .......... 88%  373M 0s\n",
      " 76550K .......... .......... .......... .......... .......... 89%  376M 0s\n",
      " 76600K .......... .......... .......... .......... .......... 89%  305M 0s\n",
      " 76650K .......... .......... .......... .......... .......... 89%  385M 0s\n",
      " 76700K .......... .......... .......... .......... .......... 89%  394M 0s\n",
      " 76750K .......... .......... .......... .......... .......... 89%  387M 0s\n",
      " 76800K .......... .......... .......... .......... .......... 89%  296M 0s\n",
      " 76850K .......... .......... .......... .......... .......... 89%  369M 0s\n",
      " 76900K .......... .......... .......... .......... .......... 89%  375M 0s\n",
      " 76950K .......... .......... .......... .......... .......... 89%  370M 0s\n",
      " 77000K .......... .......... .......... .......... .......... 89%  283M 0s\n",
      " 77050K .......... .......... .......... .......... .......... 89% 3.85M 0s\n",
      " 77100K .......... .......... .......... .......... .......... 89%  218M 0s\n",
      " 77150K .......... .......... .......... .......... .......... 89%  331M 0s\n",
      " 77200K .......... .......... .......... .......... .......... 89%  335M 0s\n",
      " 77250K .......... .......... .......... .......... .......... 89%  371M 0s\n",
      " 77300K .......... .......... .......... .......... .......... 89%  354M 0s\n",
      " 77350K .......... .......... .......... .......... .......... 89%  375M 0s\n",
      " 77400K .......... .......... .......... .......... .......... 90%  317M 0s\n",
      " 77450K .......... .......... .......... .......... .......... 90%  372M 0s\n",
      " 77500K .......... .......... .......... .......... .......... 90%  376M 0s\n",
      " 77550K .......... .......... .......... .......... .......... 90%  316M 0s\n",
      " 77600K .......... .......... .......... .......... .......... 90%  322M 0s\n",
      " 77650K .......... .......... .......... .......... .......... 90%  377M 0s\n",
      " 77700K .......... .......... .......... .......... .......... 90%  342M 0s\n",
      " 77750K .......... .......... .......... .......... .......... 90%  241M 0s\n",
      " 77800K .......... .......... .......... .......... .......... 90% 58.0M 0s\n",
      " 77850K .......... .......... .......... .......... .......... 90% 60.5M 0s\n",
      " 77900K .......... .......... .......... .......... .......... 90%  251M 0s\n",
      " 77950K .......... .......... .......... .......... .......... 90%  247M 0s\n",
      " 78000K .......... .......... .......... .......... .......... 90%  235M 0s\n",
      " 78050K .......... .......... .......... .......... .......... 90%  322M 0s\n",
      " 78100K .......... .......... .......... .......... .......... 90%  376M 0s\n",
      " 78150K .......... .......... .......... .......... .......... 90%  377M 0s\n",
      " 78200K .......... .......... .......... .......... .......... 90%  313M 0s\n",
      " 78250K .......... .......... .......... .......... .......... 91% 62.1M 0s\n",
      " 78300K .......... .......... .......... .......... .......... 91% 47.4M 0s\n",
      " 78350K .......... .......... .......... .......... .......... 91%  199M 0s\n",
      " 78400K .......... .......... .......... .......... .......... 91%  261M 0s\n",
      " 78450K .......... .......... .......... .......... .......... 91%  363M 0s\n",
      " 78500K .......... .......... .......... .......... .......... 91%  369M 0s\n",
      " 78550K .......... .......... .......... .......... .......... 91%  348M 0s\n",
      " 78600K .......... .......... .......... .......... .......... 91%  206M 0s\n",
      " 78650K .......... .......... .......... .......... .......... 91%  364M 0s\n",
      " 78700K .......... .......... .......... .......... .......... 91% 82.7M 0s\n",
      " 78750K .......... .......... .......... .......... .......... 91%  198M 0s\n",
      " 78800K .......... .......... .......... .......... .......... 91%  325M 0s\n",
      " 78850K .......... .......... .......... .......... .......... 91%  133M 0s\n",
      " 78900K .......... .......... .......... .......... .......... 91%  373M 0s\n",
      " 78950K .......... .......... .......... .......... .......... 91%  340M 0s\n",
      " 79000K .......... .......... .......... .......... .......... 91%  258M 0s\n",
      " 79050K .......... .......... .......... .......... .......... 91%  356M 0s\n",
      " 79100K .......... .......... .......... .......... .......... 92%  385M 0s\n",
      " 79150K .......... .......... .......... .......... .......... 92%  379M 0s\n",
      " 79200K .......... .......... .......... .......... .......... 92%  341M 0s\n",
      " 79250K .......... .......... .......... .......... .......... 92%  375M 0s\n",
      " 79300K .......... .......... .......... .......... .......... 92%  354M 0s\n",
      " 79350K .......... .......... .......... .......... .......... 92%  244M 0s\n",
      " 79400K .......... .......... .......... .......... .......... 92%  290M 0s\n",
      " 79450K .......... .......... .......... .......... .......... 92%  384M 0s\n",
      " 79500K .......... .......... .......... .......... .......... 92%  297M 0s\n",
      " 79550K .......... .......... .......... .......... .......... 92%  351M 0s\n",
      " 79600K .......... .......... .......... .......... .......... 92%  332M 0s\n",
      " 79650K .......... .......... .......... .......... .......... 92%  112M 0s\n",
      " 79700K .......... .......... .......... .......... .......... 92% 64.2M 0s\n",
      " 79750K .......... .......... .......... .......... .......... 92%  303M 0s\n",
      " 79800K .......... .......... .......... .......... .......... 92%  298M 0s\n",
      " 79850K .......... .......... .......... .......... .......... 92%  378M 0s\n",
      " 79900K .......... .......... .......... .......... .......... 92%  378M 0s\n",
      " 79950K .......... .......... .......... .......... .......... 93%  382M 0s\n",
      " 80000K .......... .......... .......... .......... .......... 93%  284M 0s\n",
      " 80050K .......... .......... .......... .......... .......... 93%  334M 0s\n",
      " 80100K .......... .......... .......... .......... .......... 93%  152M 0s\n",
      " 80150K .......... .......... .......... .......... .......... 93%  176M 0s\n",
      " 80200K .......... .......... .......... .......... .......... 93%  306M 0s\n",
      " 80250K .......... .......... .......... .......... .......... 93%  381M 0s\n",
      " 80300K .......... .......... .......... .......... .......... 93%  360M 0s\n",
      " 80350K .......... .......... .......... .......... .......... 93%  381M 0s\n",
      " 80400K .......... .......... .......... .......... .......... 93%  208M 0s\n",
      " 80450K .......... .......... .......... .......... .......... 93%  320M 0s\n",
      " 80500K .......... .......... .......... .......... .......... 93%  360M 0s\n",
      " 80550K .......... .......... .......... .......... .......... 93%  356M 0s\n",
      " 80600K .......... .......... .......... .......... .......... 93%  301M 0s\n",
      " 80650K .......... .......... .......... .......... .......... 93%  369M 0s\n",
      " 80700K .......... .......... .......... .......... .......... 93%  369M 0s\n",
      " 80750K .......... .......... .......... .......... .......... 93%  276M 0s\n",
      " 80800K .......... .......... .......... .......... .......... 93%  268M 0s\n",
      " 80850K .......... .......... .......... .......... .......... 94%  365M 0s\n",
      " 80900K .......... .......... .......... .......... .......... 94%  367M 0s\n",
      " 80950K .......... .......... .......... .......... .......... 94%  315M 0s\n",
      " 81000K .......... .......... .......... .......... .......... 94%  254M 0s\n",
      " 81050K .......... .......... .......... .......... .......... 94%  376M 0s\n",
      " 81100K .......... .......... .......... .......... .......... 94%  344M 0s\n",
      " 81150K .......... .......... .......... .......... .......... 94%  375M 0s\n",
      " 81200K .......... .......... .......... .......... .......... 94%  307M 0s\n",
      " 81250K .......... .......... .......... .......... .......... 94%  299M 0s\n",
      " 81300K .......... .......... .......... .......... .......... 94%  317M 0s\n",
      " 81350K .......... .......... .......... .......... .......... 94%  382M 0s\n",
      " 81400K .......... .......... .......... .......... .......... 94%  315M 0s\n",
      " 81450K .......... .......... .......... .......... .......... 94%  330M 0s\n",
      " 81500K .......... .......... .......... .......... .......... 94% 4.38M 0s\n",
      " 81550K .......... .......... .......... .......... .......... 94%  236M 0s\n",
      " 81600K .......... .......... .......... .......... .......... 94%  313M 0s\n",
      " 81650K .......... .......... .......... .......... .......... 94%  363M 0s\n",
      " 81700K .......... .......... .......... .......... .......... 95%  368M 0s\n",
      " 81750K .......... .......... .......... .......... .......... 95%  361M 0s\n",
      " 81800K .......... .......... .......... .......... .......... 95%  307M 0s\n",
      " 81850K .......... .......... .......... .......... .......... 95%  354M 0s\n",
      " 81900K .......... .......... .......... .......... .......... 95%  371M 0s\n",
      " 81950K .......... .......... .......... .......... .......... 95%  372M 0s\n",
      " 82000K .......... .......... .......... .......... .......... 95%  339M 0s\n",
      " 82050K .......... .......... .......... .......... .......... 95%  368M 0s\n",
      " 82100K .......... .......... .......... .......... .......... 95%  310M 0s\n",
      " 82150K .......... .......... .......... .......... .......... 95%  341M 0s\n",
      " 82200K .......... .......... .......... .......... .......... 95%  307M 0s\n",
      " 82250K .......... .......... .......... .......... .......... 95%  365M 0s\n",
      " 82300K .......... .......... .......... .......... .......... 95% 48.7M 0s\n",
      " 82350K .......... .......... .......... .......... .......... 95%  345M 0s\n",
      " 82400K .......... .......... .......... .......... .......... 95%  320M 0s\n",
      " 82450K .......... .......... .......... .......... .......... 95%  378M 0s\n",
      " 82500K .......... .......... .......... .......... .......... 95%  378M 0s\n",
      " 82550K .......... .......... .......... .......... .......... 96%  265M 0s\n",
      " 82600K .......... .......... .......... .......... .......... 96%  215M 0s\n",
      " 82650K .......... .......... .......... .......... .......... 96%  242M 0s\n",
      " 82700K .......... .......... .......... .......... .......... 96%  272M 0s\n",
      " 82750K .......... .......... .......... .......... .......... 96%  289M 0s\n",
      " 82800K .......... .......... .......... .......... .......... 96%  335M 0s\n",
      " 82850K .......... .......... .......... .......... .......... 96%  363M 0s\n",
      " 82900K .......... .......... .......... .......... .......... 96%  358M 0s\n",
      " 82950K .......... .......... .......... .......... .......... 96% 99.2M 0s\n",
      " 83000K .......... .......... .......... .......... .......... 96%  240M 0s\n",
      " 83050K .......... .......... .......... .......... .......... 96%  360M 0s\n",
      " 83100K .......... .......... .......... .......... .......... 96%  372M 0s\n",
      " 83150K .......... .......... .......... .......... .......... 96%  353M 0s\n",
      " 83200K .......... .......... .......... .......... .......... 96%  328M 0s\n",
      " 83250K .......... .......... .......... .......... .......... 96%  370M 0s\n",
      " 83300K .......... .......... .......... .......... .......... 96%  374M 0s\n",
      " 83350K .......... .......... .......... .......... .......... 96%  376M 0s\n",
      " 83400K .......... .......... .......... .......... .......... 97%  281M 0s\n",
      " 83450K .......... .......... .......... .......... .......... 97%  383M 0s\n",
      " 83500K .......... .......... .......... .......... .......... 97%  390M 0s\n",
      " 83550K .......... .......... .......... .......... .......... 97%  381M 0s\n",
      " 83600K .......... .......... .......... .......... .......... 97%  344M 0s\n",
      " 83650K .......... .......... .......... .......... .......... 97% 24.0M 0s\n",
      " 83700K .......... .......... .......... .......... .......... 97% 88.4M 0s\n",
      " 83750K .......... .......... .......... .......... .......... 97%  177M 0s\n",
      " 83800K .......... .......... .......... .......... .......... 97%  155M 0s\n",
      " 83850K .......... .......... .......... .......... .......... 97% 30.9M 0s\n",
      " 83900K .......... .......... .......... .......... .......... 97%  118M 0s\n",
      " 83950K .......... .......... .......... .......... .......... 97%  294M 0s\n",
      " 84000K .......... .......... .......... .......... .......... 97%  180M 0s\n",
      " 84050K .......... .......... .......... .......... .......... 97%  262M 0s\n",
      " 84100K .......... .......... .......... .......... .......... 97%  325M 0s\n",
      " 84150K .......... .......... .......... .......... .......... 97%  236M 0s\n",
      " 84200K .......... .......... .......... .......... .......... 97%  178M 0s\n",
      " 84250K .......... .......... .......... .......... .......... 97%  189M 0s\n",
      " 84300K .......... .......... .......... .......... .......... 98%  186M 0s\n",
      " 84350K .......... .......... .......... .......... .......... 98%  343M 0s\n",
      " 84400K .......... .......... .......... .......... .......... 98%  302M 0s\n",
      " 84450K .......... .......... .......... .......... .......... 98%  356M 0s\n",
      " 84500K .......... .......... .......... .......... .......... 98%  343M 0s\n",
      " 84550K .......... .......... .......... .......... .......... 98%  370M 0s\n",
      " 84600K .......... .......... .......... .......... .......... 98% 38.4M 0s\n",
      " 84650K .......... .......... .......... .......... .......... 98%  256M 0s\n",
      " 84700K .......... .......... .......... .......... .......... 98%  307M 0s\n",
      " 84750K .......... .......... .......... .......... .......... 98%  354M 0s\n",
      " 84800K .......... .......... .......... .......... .......... 98%  213M 0s\n",
      " 84850K .......... .......... .......... .......... .......... 98%  299M 0s\n",
      " 84900K .......... .......... .......... .......... .......... 98%  360M 0s\n",
      " 84950K .......... .......... .......... .......... .......... 98%  353M 0s\n",
      " 85000K .......... .......... .......... .......... .......... 98%  285M 0s\n",
      " 85050K .......... .......... .......... .......... .......... 98%  344M 0s\n",
      " 85100K .......... .......... .......... .......... .......... 98% 6.30M 0s\n",
      " 85150K .......... .......... .......... .......... .......... 99%  156M 0s\n",
      " 85200K .......... .......... .......... .......... .......... 99%  280M 0s\n",
      " 85250K .......... .......... .......... .......... .......... 99%  149M 0s\n",
      " 85300K .......... .......... .......... .......... .......... 99%  108M 0s\n",
      " 85350K .......... .......... .......... .......... .......... 99%  141M 0s\n",
      " 85400K .......... .......... .......... .......... .......... 99%  288M 0s\n",
      " 85450K .......... .......... .......... .......... .......... 99%  142M 0s\n",
      " 85500K .......... .......... .......... .......... .......... 99%  107M 0s\n",
      " 85550K .......... .......... .......... .......... .......... 99%  160M 0s\n",
      " 85600K .......... .......... .......... .......... .......... 99%  309M 0s\n",
      " 85650K .......... .......... .......... .......... .......... 99%  362M 0s\n",
      " 85700K .......... .......... .......... .......... .......... 99%  372M 0s\n",
      " 85750K .......... .......... .......... .......... .......... 99%  361M 0s\n",
      " 85800K .......... .......... .......... .......... .......... 99%  265M 0s\n",
      " 85850K .......... .......... .......... .......... .......... 99%  341M 0s\n",
      " 85900K .......... .......... .......... .......... .......... 99%  366M 0s\n",
      " 85950K .......... .......... .......... .......... .......... 99%  370M 0s\n",
      " 86000K .......... .......... .                               100%  235M=1.3s\n",
      "\n",
      "2022-10-24 13:37:04 (67.1 MB/s) - ‘./input/ml-example-data.zip’ saved [88085785/88085785]\n",
      "\n"
     ]
    },
    {
     "data": {
      "text/plain": [
       "0"
      ]
     },
     "execution_count": 6,
     "metadata": {},
     "output_type": "execute_result"
    }
   ],
   "source": [
    "wget_str = f\"wget {DOWNLOAD_URL} -O {os.path.join(INPUT_FOLDER, DATAFILE)}\"\n",
    "subprocess.call(wget_str.split(\" \"))"
   ]
  },
  {
   "cell_type": "code",
   "execution_count": 7,
   "id": "f2cb779b",
   "metadata": {
    "execution": {
     "iopub.execute_input": "2022-10-24T18:37:04.972297Z",
     "iopub.status.busy": "2022-10-24T18:37:04.971588Z",
     "iopub.status.idle": "2022-10-24T18:37:06.996615Z",
     "shell.execute_reply": "2022-10-24T18:37:06.995788Z"
    },
    "papermill": {
     "duration": 2.04518,
     "end_time": "2022-10-24T18:37:06.998698",
     "exception": false,
     "start_time": "2022-10-24T18:37:04.953518",
     "status": "completed"
    },
    "tags": []
   },
   "outputs": [],
   "source": [
    "# unzip files\n",
    "with zipfile.ZipFile(os.path.join(INPUT_FOLDER, DATAFILE), \"r\") as zip_ref:\n",
    "    zip_ref.extractall(INPUT_FOLDER)"
   ]
  },
  {
   "cell_type": "code",
   "execution_count": 8,
   "id": "28ac7a66",
   "metadata": {
    "execution": {
     "iopub.execute_input": "2022-10-24T18:37:07.033505Z",
     "iopub.status.busy": "2022-10-24T18:37:07.033076Z",
     "iopub.status.idle": "2022-10-24T18:37:07.730619Z",
     "shell.execute_reply": "2022-10-24T18:37:07.729764Z"
    },
    "papermill": {
     "duration": 0.717405,
     "end_time": "2022-10-24T18:37:07.732918",
     "exception": false,
     "start_time": "2022-10-24T18:37:07.015513",
     "status": "completed"
    },
    "tags": []
   },
   "outputs": [
    {
     "name": "stdout",
     "output_type": "stream",
     "text": [
      "input_geometries.gpkg  ml-example-data.zip  ml-example-signals\r\n"
     ]
    }
   ],
   "source": [
    "!ls {INPUT_FOLDER}"
   ]
  },
  {
   "cell_type": "markdown",
   "id": "85cfdb78",
   "metadata": {
    "papermill": {
     "duration": 0.018379,
     "end_time": "2022-10-24T18:37:07.769256",
     "exception": false,
     "start_time": "2022-10-24T18:37:07.750877",
     "status": "completed"
    },
    "tags": []
   },
   "source": [
    "Read signals from JSON files as returned by Statistical API and create a dataframe."
   ]
  },
  {
   "cell_type": "code",
   "execution_count": 9,
   "id": "666a76b4-d7de-4f41-a373-cf1627e6a77a",
   "metadata": {
    "execution": {
     "iopub.execute_input": "2022-10-24T18:37:07.805358Z",
     "iopub.status.busy": "2022-10-24T18:37:07.804681Z",
     "iopub.status.idle": "2022-10-24T18:37:53.377750Z",
     "shell.execute_reply": "2022-10-24T18:37:53.376843Z"
    },
    "papermill": {
     "duration": 45.593377,
     "end_time": "2022-10-24T18:37:53.379693",
     "exception": false,
     "start_time": "2022-10-24T18:37:07.786316",
     "status": "completed"
    },
    "tags": []
   },
   "outputs": [],
   "source": [
    "dfs = []\n",
    "for result_json in os.listdir(os.path.join(INPUT_FOLDER, \"ml-example-signals\")):\n",
    "    with open(os.path.join(INPUT_FOLDER, \"ml-example-signals\", result_json)) as f:\n",
    "        result = json.load(f)\n",
    "\n",
    "    result_df = stats_to_df(result[\"response\"])\n",
    "    result_df[\"identifier\"] = int(result[\"identifier\"])\n",
    "    dfs.append(result_df)\n",
    "\n",
    "signals = pd.concat(dfs)"
   ]
  },
  {
   "cell_type": "markdown",
   "id": "9da514cc",
   "metadata": {
    "papermill": {
     "duration": 0.016453,
     "end_time": "2022-10-24T18:37:53.412555",
     "exception": false,
     "start_time": "2022-10-24T18:37:53.396102",
     "status": "completed"
    },
    "tags": []
   },
   "source": [
    "Check size of dataset and one time observation."
   ]
  },
  {
   "cell_type": "code",
   "execution_count": 10,
   "id": "0e4c9d9b",
   "metadata": {
    "execution": {
     "iopub.execute_input": "2022-10-24T18:37:53.448967Z",
     "iopub.status.busy": "2022-10-24T18:37:53.448216Z",
     "iopub.status.idle": "2022-10-24T18:37:53.453562Z",
     "shell.execute_reply": "2022-10-24T18:37:53.452756Z"
    },
    "papermill": {
     "duration": 0.026469,
     "end_time": "2022-10-24T18:37:53.456782",
     "exception": false,
     "start_time": "2022-10-24T18:37:53.430313",
     "status": "completed"
    },
    "tags": []
   },
   "outputs": [
    {
     "data": {
      "text/plain": [
       "157500"
      ]
     },
     "execution_count": 10,
     "metadata": {},
     "output_type": "execute_result"
    }
   ],
   "source": [
    "len(signals)"
   ]
  },
  {
   "cell_type": "code",
   "execution_count": 11,
   "id": "aa1fe9cf",
   "metadata": {
    "execution": {
     "iopub.execute_input": "2022-10-24T18:37:53.497942Z",
     "iopub.status.busy": "2022-10-24T18:37:53.497381Z",
     "iopub.status.idle": "2022-10-24T18:37:53.504803Z",
     "shell.execute_reply": "2022-10-24T18:37:53.504148Z"
    },
    "papermill": {
     "duration": 0.027095,
     "end_time": "2022-10-24T18:37:53.506459",
     "exception": false,
     "start_time": "2022-10-24T18:37:53.479364",
     "status": "completed"
    },
    "tags": []
   },
   "outputs": [
    {
     "data": {
      "text/plain": [
       "interval_from            2021-01-05\n",
       "interval_to              2021-01-06\n",
       "clm_B0_min                      1.0\n",
       "clm_B0_max                      1.0\n",
       "clm_B0_mean                     1.0\n",
       "                            ...    \n",
       "bands_B12_mean             0.028348\n",
       "bands_B12_stDev            0.003333\n",
       "bands_B12_sampleCount            96\n",
       "bands_B12_noDataCount            65\n",
       "identifier                   331393\n",
       "Name: 0, Length: 93, dtype: object"
      ]
     },
     "execution_count": 11,
     "metadata": {},
     "output_type": "execute_result"
    }
   ],
   "source": [
    "signals.iloc[0]"
   ]
  },
  {
   "cell_type": "markdown",
   "id": "97033027-af60-48d6-833c-674407b503aa",
   "metadata": {
    "papermill": {
     "duration": 0.01662,
     "end_time": "2022-10-24T18:37:53.540064",
     "exception": false,
     "start_time": "2022-10-24T18:37:53.523444",
     "status": "completed"
    },
    "tags": []
   },
   "source": [
    "Read labels from provided geopackage file. These labels can be directly retrieved from GeoDB."
   ]
  },
  {
   "cell_type": "code",
   "execution_count": 12,
   "id": "553487e1-a87a-4188-9440-44afcce73fdd",
   "metadata": {
    "execution": {
     "iopub.execute_input": "2022-10-24T18:37:53.634486Z",
     "iopub.status.busy": "2022-10-24T18:37:53.633701Z",
     "iopub.status.idle": "2022-10-24T18:37:53.849963Z",
     "shell.execute_reply": "2022-10-24T18:37:53.849276Z"
    },
    "papermill": {
     "duration": 0.236636,
     "end_time": "2022-10-24T18:37:53.852023",
     "exception": false,
     "start_time": "2022-10-24T18:37:53.615387",
     "status": "completed"
    },
    "tags": []
   },
   "outputs": [],
   "source": [
    "eurocrops_gdf = gpd.read_file(os.path.join(INPUT_FOLDER, EUROCROPS_GPKG))"
   ]
  },
  {
   "cell_type": "markdown",
   "id": "d49d47b7",
   "metadata": {
    "papermill": {
     "duration": 0.017855,
     "end_time": "2022-10-24T18:37:53.886538",
     "exception": false,
     "start_time": "2022-10-24T18:37:53.868683",
     "status": "completed"
    },
    "tags": []
   },
   "source": [
    "Merge signals and crop labels into a single dataframe, by looking at the identifier of the field of interest (FOI)."
   ]
  },
  {
   "cell_type": "code",
   "execution_count": 13,
   "id": "6063c9e9",
   "metadata": {
    "execution": {
     "iopub.execute_input": "2022-10-24T18:37:53.922033Z",
     "iopub.status.busy": "2022-10-24T18:37:53.921332Z",
     "iopub.status.idle": "2022-10-24T18:37:55.328437Z",
     "shell.execute_reply": "2022-10-24T18:37:55.327506Z"
    },
    "papermill": {
     "duration": 1.426789,
     "end_time": "2022-10-24T18:37:55.330460",
     "exception": false,
     "start_time": "2022-10-24T18:37:53.903671",
     "status": "completed"
    },
    "tags": []
   },
   "outputs": [],
   "source": [
    "eurocrops_signals = pd.merge(eurocrops_gdf, signals, on=\"identifier\")"
   ]
  },
  {
   "cell_type": "code",
   "execution_count": 14,
   "id": "bb9feeb3",
   "metadata": {
    "execution": {
     "iopub.execute_input": "2022-10-24T18:37:55.367914Z",
     "iopub.status.busy": "2022-10-24T18:37:55.367452Z",
     "iopub.status.idle": "2022-10-24T18:37:55.375390Z",
     "shell.execute_reply": "2022-10-24T18:37:55.374446Z"
    },
    "papermill": {
     "duration": 0.029706,
     "end_time": "2022-10-24T18:37:55.377070",
     "exception": false,
     "start_time": "2022-10-24T18:37:55.347364",
     "status": "completed"
    },
    "tags": []
   },
   "outputs": [
    {
     "data": {
      "text/plain": [
       "identifier                                         296351\n",
       "created_at               2022-07-06T21:34:12.027081+00:00\n",
       "modified_at                                          None\n",
       "_fid                                                  NaN\n",
       "fs_kennung                                            NaN\n",
       "                                       ...               \n",
       "bands_B12_max                                      0.3369\n",
       "bands_B12_mean                                    0.28427\n",
       "bands_B12_stDev                                   0.03697\n",
       "bands_B12_sampleCount                                 112\n",
       "bands_B12_noDataCount                                  72\n",
       "Name: 0, Length: 121, dtype: object"
      ]
     },
     "execution_count": 14,
     "metadata": {},
     "output_type": "execute_result"
    }
   ],
   "source": [
    "eurocrops_signals.iloc[0]"
   ]
  },
  {
   "cell_type": "markdown",
   "id": "ae235877",
   "metadata": {
    "papermill": {
     "duration": 0.01698,
     "end_time": "2022-10-24T18:37:55.410822",
     "exception": false,
     "start_time": "2022-10-24T18:37:55.393842",
     "status": "completed"
    },
    "tags": []
   },
   "source": [
    "## 2. AI-ready dataset <a name=dataset></a>\n",
    "\n",
    "This Section adds some features to be added to the raw bands which will be used by the model."
   ]
  },
  {
   "cell_type": "code",
   "execution_count": 15,
   "id": "159580ae-6aec-4ecf-bb02-0d195b75a35d",
   "metadata": {
    "execution": {
     "iopub.execute_input": "2022-10-24T18:37:55.447695Z",
     "iopub.status.busy": "2022-10-24T18:37:55.447138Z",
     "iopub.status.idle": "2022-10-24T18:37:55.621961Z",
     "shell.execute_reply": "2022-10-24T18:37:55.621281Z"
    },
    "papermill": {
     "duration": 0.195463,
     "end_time": "2022-10-24T18:37:55.624003",
     "exception": false,
     "start_time": "2022-10-24T18:37:55.428540",
     "status": "completed"
    },
    "tags": []
   },
   "outputs": [],
   "source": [
    "# add column for cloud probability\n",
    "eurocrops_signals[\"CLP\"] = eurocrops_signals[\"clp_B0_mean\"] / 255\n",
    "# compute NDVI\n",
    "eurocrops_signals[\"NDVI\"] = (eurocrops_signals[\"bands_B7_mean\"] - eurocrops_signals[\"bands_B3_mean\"]) / (\n",
    "    eurocrops_signals[\"bands_B7_mean\"] + eurocrops_signals[\"bands_B3_mean\"]\n",
    ")\n",
    "# compute day-of-year from timestamp\n",
    "eurocrops_signals[\"DOY\"] = eurocrops_signals.interval_from.apply(lambda x: x.timetuple().tm_yday)"
   ]
  },
  {
   "cell_type": "code",
   "execution_count": 16,
   "id": "c4011f68-c1f3-4538-a69c-195583412d56",
   "metadata": {
    "execution": {
     "iopub.execute_input": "2022-10-24T18:37:55.663206Z",
     "iopub.status.busy": "2022-10-24T18:37:55.662432Z",
     "iopub.status.idle": "2022-10-24T18:37:55.667632Z",
     "shell.execute_reply": "2022-10-24T18:37:55.667001Z"
    },
    "papermill": {
     "duration": 0.027907,
     "end_time": "2022-10-24T18:37:55.669466",
     "exception": false,
     "start_time": "2022-10-24T18:37:55.641559",
     "status": "completed"
    },
    "tags": []
   },
   "outputs": [],
   "source": [
    "# get name of columns to be used as features, i.e. mean values of raw bands\n",
    "feature_cols = [x for x in eurocrops_signals.columns if x.startswith(\"bands_\") and x.endswith(\"_mean\")]\n",
    "# name of utility features\n",
    "doy_feature = \"DOY\"\n",
    "crop_type_feature = \"ec_hcat_c\"\n",
    "crop_name_feature = \"ec_hcat_n\"\n",
    "label_feature = \"label\"\n",
    "identifier_feature = \"identifier\""
   ]
  },
  {
   "cell_type": "markdown",
   "id": "5fc82601",
   "metadata": {
    "papermill": {
     "duration": 0.017379,
     "end_time": "2022-10-24T18:37:55.703882",
     "exception": false,
     "start_time": "2022-10-24T18:37:55.686503",
     "status": "completed"
    },
    "tags": []
   },
   "source": [
    "Map all the possible crop-types to specific groups assigned in Eurocrops."
   ]
  },
  {
   "cell_type": "code",
   "execution_count": 17,
   "id": "27f58085-8c34-4fbc-903e-b0e288ecd1ec",
   "metadata": {
    "execution": {
     "iopub.execute_input": "2022-10-24T18:37:55.739575Z",
     "iopub.status.busy": "2022-10-24T18:37:55.739153Z",
     "iopub.status.idle": "2022-10-24T18:37:55.750722Z",
     "shell.execute_reply": "2022-10-24T18:37:55.749967Z"
    },
    "papermill": {
     "duration": 0.035095,
     "end_time": "2022-10-24T18:37:55.756240",
     "exception": false,
     "start_time": "2022-10-24T18:37:55.721145",
     "status": "completed"
    },
    "tags": []
   },
   "outputs": [],
   "source": [
    "crop_id_to_label_mapping = {val: idx for idx, val in enumerate(eurocrops_signals[crop_type_feature].unique())}"
   ]
  },
  {
   "cell_type": "code",
   "execution_count": 18,
   "id": "a29f0fb5-ae9b-4fb6-96e5-83ee541767c3",
   "metadata": {
    "execution": {
     "iopub.execute_input": "2022-10-24T18:37:55.793180Z",
     "iopub.status.busy": "2022-10-24T18:37:55.792369Z",
     "iopub.status.idle": "2022-10-24T18:37:56.002345Z",
     "shell.execute_reply": "2022-10-24T18:37:56.001659Z"
    },
    "papermill": {
     "duration": 0.230843,
     "end_time": "2022-10-24T18:37:56.004342",
     "exception": false,
     "start_time": "2022-10-24T18:37:55.773499",
     "status": "completed"
    },
    "tags": []
   },
   "outputs": [],
   "source": [
    "crop_id_to_name_mapping = {\n",
    "    crop_id: crop_name\n",
    "    for crop_id, crop_name in eurocrops_signals[[crop_type_feature, crop_name_feature]].drop_duplicates().values\n",
    "}"
   ]
  },
  {
   "cell_type": "code",
   "execution_count": 19,
   "id": "00e62c85-77f7-4398-a6b3-47a7b9065cc3",
   "metadata": {
    "execution": {
     "iopub.execute_input": "2022-10-24T18:37:56.039763Z",
     "iopub.status.busy": "2022-10-24T18:37:56.039186Z",
     "iopub.status.idle": "2022-10-24T18:37:56.056956Z",
     "shell.execute_reply": "2022-10-24T18:37:56.056408Z"
    },
    "papermill": {
     "duration": 0.037327,
     "end_time": "2022-10-24T18:37:56.058602",
     "exception": false,
     "start_time": "2022-10-24T18:37:56.021275",
     "status": "completed"
    },
    "tags": []
   },
   "outputs": [],
   "source": [
    "eurocrops_signals[label_feature] = eurocrops_signals[crop_type_feature].map(crop_id_to_label_mapping)"
   ]
  },
  {
   "cell_type": "markdown",
   "id": "1f6ee569",
   "metadata": {
    "papermill": {
     "duration": 0.017541,
     "end_time": "2022-10-24T18:37:56.092809",
     "exception": false,
     "start_time": "2022-10-24T18:37:56.075268",
     "status": "completed"
    },
    "tags": []
   },
   "source": [
    "Split the signals into a training and validation set. This datasets are demonstrative only, as in reality, a larger dataset would be required, and more robust validation strategies required to robustly estimate the performance of the model."
   ]
  },
  {
   "cell_type": "code",
   "execution_count": 20,
   "id": "856e14fa-8bd9-4f85-8cf8-2a583503df5b",
   "metadata": {
    "execution": {
     "iopub.execute_input": "2022-10-24T18:37:56.128716Z",
     "iopub.status.busy": "2022-10-24T18:37:56.127853Z",
     "iopub.status.idle": "2022-10-24T18:37:56.134149Z",
     "shell.execute_reply": "2022-10-24T18:37:56.133620Z"
    },
    "papermill": {
     "duration": 0.025917,
     "end_time": "2022-10-24T18:37:56.135709",
     "exception": false,
     "start_time": "2022-10-24T18:37:56.109792",
     "status": "completed"
    },
    "tags": []
   },
   "outputs": [],
   "source": [
    "train_ids, val_ids = train_test_split(\n",
    "    eurocrops_signals[identifier_feature].unique(), train_size=0.6, test_size=0.4, random_state=42\n",
    ")"
   ]
  },
  {
   "cell_type": "code",
   "execution_count": 21,
   "id": "ef588253-0165-4ce7-90d7-b8174ad747c7",
   "metadata": {
    "execution": {
     "iopub.execute_input": "2022-10-24T18:37:56.180346Z",
     "iopub.status.busy": "2022-10-24T18:37:56.180062Z",
     "iopub.status.idle": "2022-10-24T18:37:56.300519Z",
     "shell.execute_reply": "2022-10-24T18:37:56.299792Z"
    },
    "papermill": {
     "duration": 0.150094,
     "end_time": "2022-10-24T18:37:56.302557",
     "exception": false,
     "start_time": "2022-10-24T18:37:56.152463",
     "status": "completed"
    },
    "tags": []
   },
   "outputs": [],
   "source": [
    "train_df = eurocrops_signals[eurocrops_signals[identifier_feature].isin(train_ids)]\n",
    "val_df = eurocrops_signals[eurocrops_signals[identifier_feature].isin(val_ids)]"
   ]
  },
  {
   "cell_type": "markdown",
   "id": "85be9692",
   "metadata": {
    "papermill": {
     "duration": 0.018334,
     "end_time": "2022-10-24T18:37:56.337826",
     "exception": false,
     "start_time": "2022-10-24T18:37:56.319492",
     "status": "completed"
    },
    "tags": []
   },
   "source": [
    "Create the training and validation datasets to be used for model training and validation."
   ]
  },
  {
   "cell_type": "code",
   "execution_count": 22,
   "id": "7ee42057-7193-4ceb-9c82-aaef0fe9146e",
   "metadata": {
    "execution": {
     "iopub.execute_input": "2022-10-24T18:37:56.381072Z",
     "iopub.status.busy": "2022-10-24T18:37:56.380688Z",
     "iopub.status.idle": "2022-10-24T18:37:56.509695Z",
     "shell.execute_reply": "2022-10-24T18:37:56.508992Z"
    },
    "papermill": {
     "duration": 0.156836,
     "end_time": "2022-10-24T18:37:56.511739",
     "exception": false,
     "start_time": "2022-10-24T18:37:56.354903",
     "status": "completed"
    },
    "tags": []
   },
   "outputs": [],
   "source": [
    "train_poly_dataset = PolyDataset(\n",
    "    train_df,\n",
    "    feature_cols=feature_cols,\n",
    "    label_col=label_feature,\n",
    "    poly_id_col=identifier_feature,\n",
    "    doys_col=doy_feature,\n",
    "    online_transform=get_sample_n_timestamps(40),\n",
    ")\n",
    "\n",
    "val_poly_dataset = PolyDataset(\n",
    "    val_df,\n",
    "    feature_cols=feature_cols,\n",
    "    label_col=label_feature,\n",
    "    poly_id_col=identifier_feature,\n",
    "    doys_col=doy_feature,\n",
    "    online_transform=get_sample_n_timestamps(40),\n",
    ")"
   ]
  },
  {
   "cell_type": "markdown",
   "id": "e2f77110",
   "metadata": {
    "papermill": {
     "duration": 0.017032,
     "end_time": "2022-10-24T18:37:56.546222",
     "exception": false,
     "start_time": "2022-10-24T18:37:56.529190",
     "status": "completed"
    },
    "tags": []
   },
   "source": [
    "## 3. Model training <a name=model-training></a>\n",
    "\n",
    "In this Section, a LSTM model is trained on the signals for estimation of crop-type. The parameters of the LSTM might need tuning to different use-cases."
   ]
  },
  {
   "cell_type": "code",
   "execution_count": 23,
   "id": "4703803c-8913-4986-b629-bceca97c7f0e",
   "metadata": {
    "execution": {
     "iopub.execute_input": "2022-10-24T18:37:56.587571Z",
     "iopub.status.busy": "2022-10-24T18:37:56.587274Z",
     "iopub.status.idle": "2022-10-24T18:37:56.590909Z",
     "shell.execute_reply": "2022-10-24T18:37:56.590168Z"
    },
    "papermill": {
     "duration": 0.024565,
     "end_time": "2022-10-24T18:37:56.592482",
     "exception": false,
     "start_time": "2022-10-24T18:37:56.567917",
     "status": "completed"
    },
    "tags": []
   },
   "outputs": [],
   "source": [
    "BATCH_SIZE = 16\n",
    "N_WORKERS = 4\n",
    "SHUFFLE = True"
   ]
  },
  {
   "cell_type": "code",
   "execution_count": 24,
   "id": "7d538682-39d2-44fc-ba13-09cd00882845",
   "metadata": {
    "execution": {
     "iopub.execute_input": "2022-10-24T18:37:56.631061Z",
     "iopub.status.busy": "2022-10-24T18:37:56.630482Z",
     "iopub.status.idle": "2022-10-24T18:37:56.634669Z",
     "shell.execute_reply": "2022-10-24T18:37:56.634151Z"
    },
    "papermill": {
     "duration": 0.025391,
     "end_time": "2022-10-24T18:37:56.636393",
     "exception": false,
     "start_time": "2022-10-24T18:37:56.611002",
     "status": "completed"
    },
    "tags": []
   },
   "outputs": [],
   "source": [
    "train_loader = DataLoader(dataset=train_poly_dataset, batch_size=BATCH_SIZE, num_workers=N_WORKERS, shuffle=SHUFFLE)\n",
    "\n",
    "val_loader = DataLoader(dataset=val_poly_dataset, batch_size=BATCH_SIZE, num_workers=N_WORKERS, shuffle=False)"
   ]
  },
  {
   "cell_type": "markdown",
   "id": "a08880b5",
   "metadata": {
    "papermill": {
     "duration": 0.021122,
     "end_time": "2022-10-24T18:37:56.674584",
     "exception": false,
     "start_time": "2022-10-24T18:37:56.653462",
     "status": "completed"
    },
    "tags": []
   },
   "source": [
    "Initialise the model."
   ]
  },
  {
   "cell_type": "code",
   "execution_count": 25,
   "id": "1a3c10f6-e322-4f8c-a8c9-d0a32146cd86",
   "metadata": {
    "execution": {
     "iopub.execute_input": "2022-10-24T18:37:56.712409Z",
     "iopub.status.busy": "2022-10-24T18:37:56.711835Z",
     "iopub.status.idle": "2022-10-24T18:37:56.724288Z",
     "shell.execute_reply": "2022-10-24T18:37:56.723624Z"
    },
    "papermill": {
     "duration": 0.031889,
     "end_time": "2022-10-24T18:37:56.725839",
     "exception": false,
     "start_time": "2022-10-24T18:37:56.693950",
     "status": "completed"
    },
    "tags": []
   },
   "outputs": [],
   "source": [
    "lstm = LSTM(\n",
    "    input_dim=len(feature_cols),\n",
    "    n_classes=eurocrops_signals[label_feature].nunique(),\n",
    "    hidden_dims=128,\n",
    "    num_rnn_layers=3,\n",
    "    dropout=0.2,\n",
    "    bidirectional=True,\n",
    "    use_batchnorm=False,\n",
    "    use_layernorm=True,\n",
    ")"
   ]
  },
  {
   "cell_type": "markdown",
   "id": "0c138216",
   "metadata": {
    "papermill": {
     "duration": 0.025364,
     "end_time": "2022-10-24T18:37:56.768356",
     "exception": false,
     "start_time": "2022-10-24T18:37:56.742992",
     "status": "completed"
    },
    "tags": []
   },
   "source": [
    "Initialise the optimiser."
   ]
  },
  {
   "cell_type": "code",
   "execution_count": 26,
   "id": "399b93f9-df20-444a-b155-f4795824c3a3",
   "metadata": {
    "execution": {
     "iopub.execute_input": "2022-10-24T18:37:56.804565Z",
     "iopub.status.busy": "2022-10-24T18:37:56.803763Z",
     "iopub.status.idle": "2022-10-24T18:37:56.807898Z",
     "shell.execute_reply": "2022-10-24T18:37:56.807369Z"
    },
    "papermill": {
     "duration": 0.023553,
     "end_time": "2022-10-24T18:37:56.809264",
     "exception": false,
     "start_time": "2022-10-24T18:37:56.785711",
     "status": "completed"
    },
    "tags": []
   },
   "outputs": [],
   "source": [
    "optimizer = Adam(\n",
    "    filter(lambda x: x.requires_grad, lstm.parameters()),\n",
    "    betas=(0.9, 0.98),\n",
    "    eps=1e-09,\n",
    "    lr=0.001,\n",
    ")"
   ]
  },
  {
   "cell_type": "markdown",
   "id": "a23dc1d1",
   "metadata": {
    "papermill": {
     "duration": 0.017105,
     "end_time": "2022-10-24T18:37:56.843104",
     "exception": false,
     "start_time": "2022-10-24T18:37:56.825999",
     "status": "completed"
    },
    "tags": []
   },
   "source": [
    "Initialise the logger."
   ]
  },
  {
   "cell_type": "code",
   "execution_count": 27,
   "id": "19ab3732-eedb-4659-872f-b2540f562013",
   "metadata": {
    "execution": {
     "iopub.execute_input": "2022-10-24T18:37:56.881387Z",
     "iopub.status.busy": "2022-10-24T18:37:56.880578Z",
     "iopub.status.idle": "2022-10-24T18:37:56.884480Z",
     "shell.execute_reply": "2022-10-24T18:37:56.883737Z"
    },
    "papermill": {
     "duration": 0.023455,
     "end_time": "2022-10-24T18:37:56.885830",
     "exception": false,
     "start_time": "2022-10-24T18:37:56.862375",
     "status": "completed"
    },
    "tags": []
   },
   "outputs": [],
   "source": [
    "logger = define_logger(\"Training\")"
   ]
  },
  {
   "cell_type": "markdown",
   "id": "21cc6508",
   "metadata": {
    "papermill": {
     "duration": 0.018507,
     "end_time": "2022-10-24T18:37:56.921048",
     "exception": false,
     "start_time": "2022-10-24T18:37:56.902541",
     "status": "completed"
    },
    "tags": []
   },
   "source": [
    "Train the model !!"
   ]
  },
  {
   "cell_type": "code",
   "execution_count": 28,
   "id": "ae0d4508-18f0-4474-a041-0e485e9fec21",
   "metadata": {
    "execution": {
     "iopub.execute_input": "2022-10-24T18:37:56.958018Z",
     "iopub.status.busy": "2022-10-24T18:37:56.957262Z"
    },
    "papermill": {
     "duration": 506.132993,
     "end_time": "2022-10-24T18:46:23.070792",
     "exception": false,
     "start_time": "2022-10-24T18:37:56.937799",
     "status": "completed"
    },
    "tags": []
   },
   "outputs": [
    {
     "name": "stdout",
     "output_type": "stream",
     "text": [
      "[2022-10-24 13:38:51,372] {utils.py:87} INFO - Epoch 0: train loss 2.235 | val loss 1.877 | val acc = 0.482\n"
     ]
    },
    {
     "name": "stdout",
     "output_type": "stream",
     "text": [
      "[2022-10-24 13:39:45,773] {utils.py:87} INFO - Epoch 1: train loss 1.783 | val loss 1.665 | val acc = 0.566\n"
     ]
    },
    {
     "name": "stdout",
     "output_type": "stream",
     "text": [
      "[2022-10-24 13:40:38,163] {utils.py:87} INFO - Epoch 2: train loss 1.669 | val loss 1.716 | val acc = 0.543\n"
     ]
    },
    {
     "name": "stdout",
     "output_type": "stream",
     "text": [
      "[2022-10-24 13:41:32,762] {utils.py:87} INFO - Epoch 3: train loss 1.610 | val loss 1.645 | val acc = 0.562\n"
     ]
    },
    {
     "name": "stdout",
     "output_type": "stream",
     "text": [
      "[2022-10-24 13:42:27,675] {utils.py:87} INFO - Epoch 4: train loss 1.502 | val loss 1.709 | val acc = 0.532\n"
     ]
    },
    {
     "name": "stdout",
     "output_type": "stream",
     "text": [
      "[2022-10-24 13:43:20,078] {utils.py:87} INFO - Epoch 5: train loss 1.445 | val loss 1.557 | val acc = 0.584\n"
     ]
    },
    {
     "name": "stdout",
     "output_type": "stream",
     "text": [
      "[2022-10-24 13:44:13,485] {utils.py:87} INFO - Epoch 6: train loss 1.394 | val loss 1.441 | val acc = 0.623\n"
     ]
    },
    {
     "name": "stdout",
     "output_type": "stream",
     "text": [
      "[2022-10-24 13:45:07,382] {utils.py:87} INFO - Epoch 7: train loss 1.371 | val loss 1.532 | val acc = 0.596\n"
     ]
    },
    {
     "name": "stdout",
     "output_type": "stream",
     "text": [
      "[2022-10-24 13:46:00,682] {utils.py:87} INFO - Epoch 8: train loss 1.349 | val loss 1.423 | val acc = 0.625\n"
     ]
    }
   ],
   "source": [
    "lstm = train(lstm, optimizer, train_loader, val_loader, 30, verbose=False, logger=logger)"
   ]
  },
  {
   "cell_type": "markdown",
   "id": "27791c5a",
   "metadata": {
    "papermill": {
     "duration": null,
     "end_time": null,
     "exception": null,
     "start_time": null,
     "status": "completed"
    },
    "tags": []
   },
   "source": [
    "## 4. Model evaluation <a name=model-evaluation></a>\n",
    "\n",
    "This Section evaluates the performance of the trained model on the validation dataset. Perfomance is displayed as a confusion matrix, where estimated and reference crop-types are compared."
   ]
  },
  {
   "cell_type": "code",
   "execution_count": null,
   "id": "ba600cea-3134-4f44-b0e8-fdbbacb830c4",
   "metadata": {
    "papermill": {
     "duration": null,
     "end_time": null,
     "exception": null,
     "start_time": null,
     "status": "completed"
    },
    "tags": []
   },
   "outputs": [],
   "source": [
    "import numpy as np"
   ]
  },
  {
   "cell_type": "code",
   "execution_count": null,
   "id": "9fb79354-2a4a-4249-86b1-7f8c638ee989",
   "metadata": {
    "papermill": {
     "duration": null,
     "end_time": null,
     "exception": null,
     "start_time": null,
     "status": "completed"
    },
    "tags": []
   },
   "outputs": [],
   "source": [
    "def plot_confusion_matrix(cm,\n",
    "                          target_names,\n",
    "                          title='Confusion matrix',\n",
    "                          cmap=None,\n",
    "                          normalize=True):\n",
    "    \"\"\"\n",
    "    given a sklearn confusion matrix (cm), make a nice plot\n",
    "\n",
    "    Arguments\n",
    "    ---------\n",
    "    cm:           confusion matrix from sklearn.metrics.confusion_matrix\n",
    "\n",
    "    target_names: given classification classes such as [0, 1, 2]\n",
    "                  the class names, for example: ['high', 'medium', 'low']\n",
    "\n",
    "    title:        the text to display at the top of the matrix\n",
    "\n",
    "    cmap:         the gradient of the values displayed from matplotlib.pyplot.cm\n",
    "                  see http://matplotlib.org/examples/color/colormaps_reference.html\n",
    "                  plt.get_cmap('jet') or plt.cm.Blues\n",
    "\n",
    "    normalize:    If False, plot the raw numbers\n",
    "                  If True, plot the proportions\n",
    "\n",
    "    Usage\n",
    "    -----\n",
    "    plot_confusion_matrix(cm           = cm,                  # confusion matrix created by\n",
    "                                                              # sklearn.metrics.confusion_matrix\n",
    "                          normalize    = True,                # show proportions\n",
    "                          target_names = y_labels_vals,       # list of names of the classes\n",
    "                          title        = best_estimator_name) # title of graph\n",
    "\n",
    "    Citiation\n",
    "    ---------\n",
    "    http://scikit-learn.org/stable/auto_examples/model_selection/plot_confusion_matrix.html\n",
    "\n",
    "    \"\"\"\n",
    "    import matplotlib.pyplot as plt\n",
    "    import numpy as np\n",
    "    import itertools\n",
    "\n",
    "    accuracy = np.trace(cm) / np.sum(cm).astype('float')\n",
    "    misclass = 1 - accuracy\n",
    "\n",
    "    if cmap is None:\n",
    "        cmap = plt.get_cmap('Blues')\n",
    "\n",
    "    plt.figure(figsize=(20, 20))\n",
    "    plt.imshow(cm, interpolation='nearest', cmap=cmap)\n",
    "\n",
    "    if target_names is not None:\n",
    "        tick_marks = np.arange(len(target_names))\n",
    "        plt.xticks(tick_marks, target_names, rotation=90)\n",
    "        plt.yticks(tick_marks, target_names)\n",
    "\n",
    "    if normalize:\n",
    "        cm = cm.astype('float') / cm.sum(axis=1)[:, np.newaxis]\n",
    "\n",
    "\n",
    "    thresh = np.nanmax(cm) / 1.5 if normalize else np.nanmax(cm) / 2\n",
    "    for i, j in itertools.product(range(cm.shape[0]), range(cm.shape[1])):\n",
    "        if normalize:\n",
    "            plt.text(j, i, \"{:0.2f}\".format(cm[i, j]),\n",
    "                     horizontalalignment=\"center\",\n",
    "                     color=\"white\" if cm[i, j] > thresh else \"black\")\n",
    "        else:\n",
    "            plt.text(j, i, \"{:,}\".format(cm[i, j]),\n",
    "                     horizontalalignment=\"center\",\n",
    "                     color=\"white\" if cm[i, j] > thresh else \"black\")\n",
    "\n",
    "\n",
    "    plt.tight_layout()\n",
    "    plt.ylabel('True label')\n",
    "    plt.xlabel('Predicted label\\naccuracy={:0.2f}; misclass={:0.2f}'.format(accuracy, misclass))\n",
    "    plt.show()\n"
   ]
  },
  {
   "cell_type": "code",
   "execution_count": null,
   "id": "cfd5edda-9132-48e3-97d8-1e83f8bd9397",
   "metadata": {
    "papermill": {
     "duration": null,
     "end_time": null,
     "exception": null,
     "start_time": null,
     "status": "completed"
    },
    "tags": []
   },
   "outputs": [],
   "source": [
    "predictions, targets, polygon_ids, logprobabilities = test(lstm, val_loader)"
   ]
  },
  {
   "cell_type": "code",
   "execution_count": null,
   "id": "13404427-32cf-4eb1-99cc-9852862c71a8",
   "metadata": {
    "papermill": {
     "duration": null,
     "end_time": null,
     "exception": null,
     "start_time": null,
     "status": "completed"
    },
    "tags": []
   },
   "outputs": [],
   "source": [
    "cm = confusion_matrix(targets, predictions, labels=list(crop_id_to_label_mapping.values()))"
   ]
  },
  {
   "cell_type": "code",
   "execution_count": null,
   "id": "227b8146-5986-4e54-9c8b-e549b8aad220",
   "metadata": {
    "papermill": {
     "duration": null,
     "end_time": null,
     "exception": null,
     "start_time": null,
     "status": "completed"
    },
    "tags": []
   },
   "outputs": [],
   "source": [
    "plot_confusion_matrix(cm, target_names=[crop_id_to_name_mapping[x] for x in crop_id_to_label_mapping.keys()])"
   ]
  }
 ],
 "metadata": {
  "interpreter": {
   "hash": "2880452117879b878aa515f032d494a3ad190d8310d205bde4fb9215fd3620a0"
  },
  "kernelspec": {
   "display_name": "Python 3 (ipykernel)",
   "language": "python",
   "name": "python3"
  },
  "language_info": {
   "codemirror_mode": {
    "name": "ipython",
    "version": 3
   },
   "file_extension": ".py",
   "mimetype": "text/x-python",
   "name": "python",
   "nbconvert_exporter": "python",
   "pygments_lexer": "ipython3",
   "version": "3.9.4"
  },
  "papermill": {
   "default_parameters": {},
   "duration": 600.606463,
   "end_time": "2022-10-24T18:46:25.274155",
   "environment_variables": {},
   "exception": null,
   "input_path": "/tmp/tmp_dy_mmeq",
   "output_path": "/tmp/notebook_output.ipynb",
   "parameters": {},
   "start_time": "2022-10-24T18:36:24.667692",
   "version": "2.3.4"
  },
  "properties": {
   "authors": [
    {
     "id": "f0a99622-4b85-4610-8669-c73e560d096b",
     "name": "eoresearch@sinergise.com"
    }
   ],
   "description": "Crop classification algorithm for Sentinel-2 time-series.",
   "id": "b5d6fe35-1f1f-495d-ace4-56f55adaf71a",
   "license": null,
   "name": "Crop-classification using Sentinel-2 time-series",
   "requirements": [],
   "tags": [
    "Sentinel Data",
    "Sentinel Hub",
    "Machine Learning",
    "EO Data",
    "Crop-type-Classification"
   ],
   "tosAgree": true,
   "type": "Jupyter Notebook",
   "version": "0.0.1"
  }
 },
 "nbformat": 4,
 "nbformat_minor": 5
}