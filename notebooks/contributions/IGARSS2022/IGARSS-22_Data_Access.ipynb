{
 "cells": [
  {
   "cell_type": "code",
   "execution_count": 1,
   "id": "c7e863ce",
   "metadata": {
    "execution": {
     "iopub.execute_input": "2022-10-13T12:27:19.669870Z",
     "iopub.status.busy": "2022-10-13T12:27:19.669247Z",
     "iopub.status.idle": "2022-10-13T12:27:19.772692Z",
     "shell.execute_reply": "2022-10-13T12:27:19.771181Z"
    },
    "papermill": {
     "duration": 0.134381,
     "end_time": "2022-10-13T12:27:19.775797",
     "exception": false,
     "start_time": "2022-10-13T12:27:19.641416",
     "status": "completed"
    },
    "tags": []
   },
   "outputs": [
    {
     "data": {
      "text/html": [
       "<script type=\"text/javascript\">\n",
       "        function toggle(id) {\n",
       "            el = document.getElementById(id);\n",
       "            el.style.display = el.style.display === \"none\" ? \"block\" : \"none\";\n",
       "        }\n",
       "    </script>"
      ],
      "text/plain": [
       "<IPython.core.display.HTML object>"
      ]
     },
     "metadata": {},
     "output_type": "display_data"
    },
    {
     "data": {
      "text/html": [
       "This notebook is compatible with this base image version (user-2022.10-14)."
      ],
      "text/plain": [
       "<IPython.core.display.HTML object>"
      ]
     },
     "metadata": {},
     "output_type": "display_data"
    },
    {
     "data": {
      "text/markdown": [
       "\n",
       "\n",
       "---------\n",
       "\n",
       "The following environment variables are available:\n",
       "\n",
       "* `GEODB_AUTH_AUD`, `GEODB_AUTH_CLIENT_ID`, `GEODB_AUTH_DOMAIN`, `GEODB_API_SERVER_URL`, `GEODB_AUTH_CLIENT_SECRET`, `GEODB_API_SERVER_PORT`\n",
       "* `SH_CLIENT_ID`, `SH_INSTANCE_ID`, `SH_CLIENT_NAME`, `SH_CLIENT_SECRET`\n"
      ],
      "text/plain": [
       "<IPython.core.display.Markdown object>"
      ]
     },
     "metadata": {},
     "output_type": "display_data"
    }
   ],
   "source": [
    "from eoxhub import check_compatibility\n",
    "check_compatibility(\"user-2022.10-14\", dependencies=[\"GEODB\", \"SH\"])"
   ]
  },
  {
   "cell_type": "markdown",
   "id": "67253235-8502-4d00-84b1-fe8dd50ed7ee",
   "metadata": {
    "papermill": {
     "duration": 0.012731,
     "end_time": "2022-10-13T12:27:19.804931",
     "exception": false,
     "start_time": "2022-10-13T12:27:19.792200",
     "status": "completed"
    },
    "tags": []
   },
   "source": [
    "# Data Access\n",
    "\n",
    "## Geo-storytelling with EODASHBOARD and the Euro Data Cube - Notebook #1"
   ]
  },
  {
   "cell_type": "markdown",
   "id": "651e6209-928a-4ad8-87c1-6f24b674722f",
   "metadata": {
    "papermill": {
     "duration": 0.012885,
     "end_time": "2022-10-13T12:27:19.831611",
     "exception": false,
     "start_time": "2022-10-13T12:27:19.818726",
     "status": "completed"
    },
    "tags": []
   },
   "source": [
    "This notebook provides information on how to discover and access the data provided by NASA, ESA and JAXA in the frame of the EO Dashboard cooperation.\n",
    "\n",
    "The data provided by the European Space Agency (ESA) can be access through the [Euro Data Cube](https://eurodatacube.com) in both raster and vector format. The raster data is typically available via the [Sentinel Hub](https://docs.sentinel-hub.com/api/latest/) services whie the vector data is stored in a geodatabase and accessible via the GeoDB service. Data in the Euro Data Cube is typically presented as Collections. To browse all collections available, visit https://collections.eurodatacube.com\n",
    "\n",
    "NASA make their datasets discoverable as STAC items and available via an open [API](https://nasa-impact.github.io/veda-documentation/).\n",
    "\n",
    "The Japanse Aerospace Exploration Agency (JAXA) provide some of the data via the Euro Dat Cube (using the same mechanisms as ESA) and others via web services. \n",
    "\n",
    "In this notebook we will show you how to access the different datasets. "
   ]
  },
  {
   "cell_type": "markdown",
   "id": "7189ed6c-ab61-4700-b826-132230c1aefe",
   "metadata": {
    "papermill": {
     "duration": 0.013812,
     "end_time": "2022-10-13T12:27:19.858859",
     "exception": false,
     "start_time": "2022-10-13T12:27:19.845047",
     "status": "completed"
    },
    "tags": []
   },
   "source": [
    "## List of Datasets \n",
    "\n",
    "In EO Dashboard datasets are typically grouped by their primary domain (e.g. Agriculture, or Economy). However, the richness and diversity of the observations make the resources much more valuable when combined. \n",
    "For simplicity, below we list all the datasets grouped by their primary domain.\n",
    "\n",
    "The datasets marked with (EU) are available in the Euro Data Cube but they are not exposed via the EO Dashboard. Instead, they are exposed via the [Rapid Action on Covid-19 and EO (RACE) Platform](https://race.esa.int), which uses the same technology as [EO Dashboard](https://eodashboard.org) but is focused only on Europe. \n",
    "\n"
   ]
  },
  {
   "cell_type": "markdown",
   "id": "156ba644-86ca-4e17-af53-1a3642f2e1fc",
   "metadata": {
    "papermill": {
     "duration": 0.01293,
     "end_time": "2022-10-13T12:27:19.885398",
     "exception": false,
     "start_time": "2022-10-13T12:27:19.872468",
     "status": "completed"
    },
    "tags": []
   },
   "source": [
    "### Economic Datasets"
   ]
  },
  {
   "cell_type": "markdown",
   "id": "a56bafe3-3bc5-4645-89a1-952ee308559a",
   "metadata": {
    "papermill": {
     "duration": 0.012423,
     "end_time": "2022-10-13T12:27:19.911725",
     "exception": false,
     "start_time": "2022-10-13T12:27:19.899302",
     "status": "completed"
    },
    "tags": []
   },
   "source": [
    "#### Raster"
   ]
  },
  {
   "cell_type": "markdown",
   "id": "aa8edb6a-77d2-428a-98f5-fe76f0010441",
   "metadata": {
    "papermill": {
     "duration": 0.013912,
     "end_time": "2022-10-13T12:27:19.938102",
     "exception": false,
     "start_time": "2022-10-13T12:27:19.924190",
     "status": "completed"
    },
    "tags": []
   },
   "source": [
    "- Nightlights [visualise on EO Dashboard](https://www.eodashboard.org/explore?indicator=N5)\n",
    "- Population Density (Meta) [visualise on EO Dashboard](https://www.eodashboard.org/explore?indicator=FB&poi=W7-FB)\n",
    "- Population Density (SEDAC) [visualise on EO Dashboard](https://www.eodashboard.org/explore?indicator=NASAPopulation&poi=W6-NASAPopulation)\n",
    "- Recovery Proxy Maps [visualise on EO Dashboard](https://www.eodashboard.org/explore?indicator=N8&poi=TG01-N8)\n",
    "- Slowdown Proxy Maps [visualise on EO Dashboard](https://www.eodashboard.org/explore?indicator=N7&poi=SG01-N7)\n",
    "- Global Gridded Relative Deprivation Index (GRDI) Subnational Human Development Index (SHDI) Constituent raster [Visualise on EO Dashboard](https://eodashboard.org/explore?poi=W15-GRDI3)\n",
    "- Global Gridded Relative Deprivation Index (GRDI) VIIRS Night Lights (VNL) Slope Constituent raster[Visualise on EO Dashboard](https://eodashboard.org/explore?poi=W16-GRDI4)\n",
    "- Global Gridded Relative Deprivation Index (GRDI) VIIRS Night Lights (VNL) Constituent raster [Visualise on EO Dashboard](https://eodashboard.org/explore?poi=W17-GRDI5)\n",
    "- Global Gridded Relative Deprivation Index (GRDI) raster showing count of constituent inputs that were filled in per cell using the Fill Missing Values tool [Visualise on EO Dashboard](https://eodashboard.org/explore?poi=W18-GRDI6)\n",
    "- Global Gridded Relative Deprivation Index (GRDI) built-up area (BUILT) Constituent raster [Visualise on EO Dashboard](https://eodashboard.org/explore?poi=W13-GRDI1)\n",
    "- Global Gridded Relative Deprivation Index (GRDI), V1 raster [Visualise on EO Dashboard](https://eodashboard.org/explore?poi=W14-GRDI2)\n",
    "- Global Gridded Relative Deprivation Index (GRDI) Infant Mortality Rate (IMR) Constituent raster [Visualise on EO Dashboard](https://eodashboard.org/explore?poi=W19-GRDI7)\n",
    "- Global Gridded Relative Deprivation Index (GRDI) Child Dependency Ratio (CDR) Constituent raster [Visualise on EO Dashboard](https://eodashboard.org/explore?poi=W20-GRDI8)\n",
    "- World Settlement Footprint [visualise on EO Dashboard](https://eodashboard.org/explore?poi=WSF-WSF)\n",
    "- Shipping activity [visualize on EO Dashboard](https://eodashboard.org/explore?search=Dunkirk%3A+Changes+in+Ships+traffic+within+the+Port&x=266294.55559&y=6624119.19455&z=11.65862&poi=FR3-E13c)\n",
    "- Raw Material Inventory [visualize on RACE]( https://race.esa.int/?search=Rotterdam+port%3A+Raw+Material+Inventory&x=455688.89591&y=6791205.67006&z=14.05629&poi=NL3-E3)\n",
    "- Inventory: finished goods [visualize on RACE]( https://race.esa.int/?x=1291592.19759&y=5697818.2159&z=4.13509&search=goods)\n", 
    "- Activity at shopping centers [visualize on RACE](https://race.esa.int/?search=shopping+centers&x=1606596.45395&y=5940964.1322&z=4.62601)\n", 
    "- Border crossing vehicles [vol] [visualize on RACE](https://race.esa.int/?search=border+crossing&x=123436.61737&y=6613432.17485&z=8)\n", 
    "- Parked Airplanes [visualize on EO Dashboard]( https://eodashboard.org/explore?x=-46568.502&y=6703913.86455&z=13.49894&search=Heathrow%3A+Number+of+parked+airplanes&poi=UK4-E13b)\n", 
    "- Population Density [visualize on EO Dashboard]( https://eodashboard.org/explore?search=World%3A+Population+Density+%28Meta%29&x=327446.01684&y=6232281.48929&z=9.47823&clusterOpen=1&poi=W7-FB)\n", 
    "- Built-up areas [visualize on RACE]( https://race.esa.int/?search=World%3A+Builtup+areas&x=311307.99063&y=5472366.91747&z=4.25652&clusterOpen=2&poi=WSF-WSF)" 

   ]
  },
  {
   "cell_type": "markdown",
   "id": "015ce174-d72d-451b-9eb7-ca240e71b802",
   "metadata": {
    "papermill": {
     "duration": 0.012602,
     "end_time": "2022-10-13T12:27:19.963466",
     "exception": false,
     "start_time": "2022-10-13T12:27:19.950864",
     "status": "completed"
    },
    "tags": []
   },
   "source": [
    "#### Vector / Tabular"
   ]
  },
  {
   "cell_type": "markdown",
   "id": "b82037fe-7b41-4510-8367-559ff2002906",
   "metadata": {
    "papermill": {
     "duration": 0.013404,
     "end_time": "2022-10-13T12:27:19.990530",
     "exception": false,
     "start_time": "2022-10-13T12:27:19.977126",
     "status": "completed"
    },
    "tags": []
   },
   "source": [
    "- Airports: Throughput [visualise on EO Dashboard](https://www.eodashboard.org/explore?indicator=E13b&poi=US042-E13b)\n",
    "- Activity (cars/containers) [visualise on EO Dashboard](https://www.eodashboard.org/explore?indicator=E9&poi=US052-E9)\n",
    "- Airpports: airplanes traffic (EU) [visualise on RACE](https://race.esa.int/?indicator=E13d&poi=NO1-E13d)\n",
    "- Mobilility Data [visualise on EO Dashboard](https://www.eodashboard.org/explore?indicator=GG)\n",
    "- Ports and Shipping - Major Harbours [visualise on EO Dashboard](https://www.eodashboard.org/explore?indicator=E13c&poi=US01-E13c)\n",
    "- Ports and Shipping - impact on air quality (EU) [visualise on RACE](https://race.esa.int/?indicator=C1&poi=IT3-C1)\n",
    "- Ports and Shipping - impact on cruises (EU) [visualise on RACE]()\n",
    "- Ports and Shipping - traffic AIS (EU) [visualise on RACE]()\n",
    "- Ports and Shipping - traffic AIS, Sentinel-1, mobile (EU) [visualise on RACE]()\n",
    "- Border crossing points: volume of activity(EU) [visualise on RACE]()\n",
    "- Commercial centres: volume of activity (EU) [visualise on RACE]()\n",
    "- europe: Crude Oil Storage Index (EU) [visualise on RACE](https://race.esa.int/?poi=EU1-OX)\n",
    "- european sites: Crude Oil Storage Index (EU) [visualise on RACE]()\n",
    "- Oil Storage Volume (EU) [visualise on RACE](https://race.esa.int/?indicator=E3&poi=NL3-E3)\n",
    "- Finished Goods Production: output inventory level (EU) [visualise on RACE](https://race.esa.int/?indicator=E8&poi=DE10-E8)\n",
    "- Number of Trucks Timeseries (EU) [visualise on RACE](https://race.esa.int/?poi=W2-E12c)\n",
    "- Vessel Density Timeseries (EU) [visualise on RACE](https://race.esa.int/?poi=World-E13o)\n",
    "- Blue Tarps (PlanetScope) [visualize on EO Dashboard]( https://eodashboard.org/explore?search=Detection+source+data%3A+Blue+Tarps+%28PlanetScope%29&x=-7342878.91609&y=2084785.61924&z=13.74177&clusterOpen=3&poi=det31-N13)\n", 
    "- Blue Tarps Detections [visualize on EO Dashboard]( https://eodashboard.org/explore?search=Detections%3A+Blue+Tarps&x=-7349510.36715&y=2074032.26785&z=13.67634&clusterOpen=3&poi=det62-N14)"

   ]
  },
  {
   "cell_type": "markdown",
   "id": "963765c3-a38e-4904-8b3a-3c72f220ca53",
   "metadata": {
    "papermill": {
     "duration": 0.017062,
     "end_time": "2022-10-13T12:27:20.024120",
     "exception": false,
     "start_time": "2022-10-13T12:27:20.007058",
     "status": "completed"
    },
    "tags": []
   },
   "source": [
    "### Agriculture"
   ]
  },
  {
   "cell_type": "markdown",
   "id": "76b961fe-a395-4ea5-8e3b-210af44f707c",
   "metadata": {
    "papermill": {
     "duration": 0.013521,
     "end_time": "2022-10-13T12:27:20.051570",
     "exception": false,
     "start_time": "2022-10-13T12:27:20.038049",
     "status": "completed"
    },
    "tags": []
   },
   "source": [
    "#### Raster"
   ]
  },
  {
   "cell_type": "markdown",
   "id": "790e7f46-fcb7-4554-b384-24a98326fe21",
   "metadata": {
    "papermill": {
     "duration": 0.015792,
     "end_time": "2022-10-13T12:27:20.086057",
     "exception": false,
     "start_time": "2022-10-13T12:27:20.070265",
     "status": "completed"
    },
    "tags": []
   },
   "source": [
    "- global: Aboveground Biomass [visualise on EO Dashboard](https://eodashboard.org/explore?indicator=NCEO)\n",
    "- global: GEOGLAM Crop Conditions [visualise on EO Dashboard](https://eodashboard.org/explore?poi=W6-N6)\n",
    "- global: Global NDVI [visualise on EO Dashboard](https://eodashboard.org/explore?poi=World-E10e)\n",
    "- global: Soil Moisture [visualise on EO Dashboard](https://eodashboard.org/explore?poi=World-SMC&indicator=SMC)\n",
    "- global: Solar Induced Chlorophyll Fluorescense [visualise on EO Dashboard](https://eodashboard.org/explore?poi=EG01-SIF&indicator=SIF)\n", 
    "– NDVI Average [visualize on EO Dashboard]( https://eodashboard.org/explore?search=Glenn+%28GCOM-C%29%3A+NDVI+%28GCOM-C+SGLI%29+Average+for+Rice+Planted+Area&x=-13558713.97862&y=4679436.27764&z=7.17779&poi=US05-E10c)\n", 
    "- Regional Cropland [visualize on EO Dashboard]( https://eodashboard.org/explore?x=135438.7509&y=659607.36556&z=8&search=Regional+Cropland)\n", 
    "- NDVI GCOM-C [visualize on EO Dashboard](https://eodashboard.org/explore?x=-13279639.49813&y=4685474.11546&z=7.39473&search=Glenn+%28GCOM-C%29%3A+NDVI+%28GCOM-C+SGLI%29+Average+for+Rice+Planted+Area&poi=US05-E10c)\n", 
    "- Cropped area – Global [visualize on EO Dashboard](https://eodashboard.org/explore?search=World%3A+Cropped+Area&x=9490543.73479&y=2595689.79124&z=5.36907&clusterOpen=2&poi=W6-N6)" 

   ]
  },
  {
   "cell_type": "markdown",
   "id": "30639d4a-acf6-45ef-a840-c41c870558c7",
   "metadata": {
    "papermill": {
     "duration": 0.017817,
     "end_time": "2022-10-13T12:27:20.121590",
     "exception": false,
     "start_time": "2022-10-13T12:27:20.103773",
     "status": "completed"
    },
    "tags": []
   },
   "source": [
    "#### Vector / Tabular"
   ]
  },
  {
   "cell_type": "markdown",
   "id": "ac15be0c-9c20-4ef2-b8f7-60b984c85265",
   "metadata": {
    "papermill": {
     "duration": 0.014385,
     "end_time": "2022-10-13T12:27:20.151252",
     "exception": false,
     "start_time": "2022-10-13T12:27:20.136867",
     "status": "completed"
    },
    "tags": []
   },
   "source": [
    "- Activity Indicator [visualise on EO Dashboard](https://eodashboard.org/explore?poi=DE11-E10a2&indicator=E10a2)\n",
    "- Harvesting Activity: cummulative harvested area [visualise on EO Dashboard](https://eodashboard.org/explore?indicator=E10a8&poi=ES41-E10a8)\n",
    "- Harvesting Evolution over time [visualise on EO Dashboard](https://eodashboard.org/explore?indicator=E10a6&poi=ES22a-E10a6)\n",
    "- Planting Activity [visualise on EO Dashboard](https://eodashboard.org/explore?poi=US08-E10c&indicator=E10c)\n",
    "- Productive Area [visualise on EO Dashboard](https://eodashboard.org/explore?poi=DE11-E10a1&indicator=E10a1)\n",
    "- Productive Area Change [visualise on EO Dashboard](https://eodashboard.org/explore?indicator=E10a3&poi=DE11-E10a3)\n",
    "- Regional Cropland [visualise on EO Dashboard](https://eodashboard.org/explore?indicator=E10d&poi=TG01-E10d)\n",
    "- Agricultural Workers (EU) [visualise on RACE](https://race.esa.int/?indicator=E10a9&poi=IT_492-E10a9)\n",
    "- National Harvesting Evolution (EU) [visualise on RACE](https://race.esa.int/?indicator=E10a10&poi=FRa-E10a10)",
    "- White Asparagus area [%] [visualize on RACE](  https://race.esa.int/?x=1454449.66616&y=6742503.3373&z=5.44271&search=Brandenburg+Region%3A+White+Asparagus+area+%5B%25%5D&clusterOpen=2&poi=DE11-E10a2)\n", 
    "- White Asparagus area change [%] [visualize on RACE](https://race.esa.int/?x=1940706.2956&y=6820604.96101&z=6.57719&search=Brandenburg%3A+White+Asparagus+area+change+%5B%25%5D&clusterOpen=2&poi=DE11-E10a3)\n", 
    "– Harvested parcels [%] [visualize on RACE](https://race.esa.int/?search=harvested+parcels&x=-258929.13559&y=4742138.3476&z=5.43456)\n", 
    "- Winter Cereals [ha,%] [visualize on RACE]( https://race.esa.int/?search=winter+cereals&x=1173612.74726&y=5853149.80088&z=3.2951)"

   ]
  },
  {
   "cell_type": "markdown",
   "id": "dcefa1c3-d61e-4dd6-aaed-584fc24897d8",
   "metadata": {
    "papermill": {
     "duration": 0.019953,
     "end_time": "2022-10-13T12:27:20.205973",
     "exception": false,
     "start_time": "2022-10-13T12:27:20.186020",
     "status": "completed"
    },
    "tags": []
   },
   "source": [
    "### Health\n",
    "\n",
    "- Covid-19 Cases [visualise on EO Dashboard]()\n",
    "- Covid-19 Vaccinations [visualise on EO Dashboard]()"
   ]
  },
  {
   "cell_type": "markdown",
   "id": "bc683ff9-3267-4293-80a5-248eeb78bdaa",
   "metadata": {
    "papermill": {
     "duration": 0.025794,
     "end_time": "2022-10-13T12:27:20.246523",
     "exception": false,
     "start_time": "2022-10-13T12:27:20.220729",
     "status": "completed"
    },
    "tags": []
   },
   "source": [
    "### Atmosphere"
   ]
  },
  {
   "cell_type": "markdown",
   "id": "fa5543fb-3f32-45c9-b85a-98739ce2bdc4",
   "metadata": {
    "papermill": {
     "duration": 0.014838,
     "end_time": "2022-10-13T12:27:20.276131",
     "exception": false,
     "start_time": "2022-10-13T12:27:20.261293",
     "status": "completed"
    },
    "tags": []
   },
   "source": [
    "#### Raster"
   ]
  },
  {
   "cell_type": "markdown",
   "id": "61632150-e246-4975-a747-803ff8fcf8d3",
   "metadata": {
    "papermill": {
     "duration": 0.019244,
     "end_time": "2022-10-13T12:27:20.311511",
     "exception": false,
     "start_time": "2022-10-13T12:27:20.292267",
     "status": "completed"
    },
    "tags": []
   },
   "source": [
    "- global: Carbon Monoxide (TROPOMI) [visualise on EO Dashboard](https://eodashboard.org/explore?indicator=N1&poi=WorldCO-N1)\n",
    "- global: Methane (weekly - TROPOMI) [visualise on EO Dashboard](https://eodashboard.org/explore?indicator=N1&poi=CH4-N1)\n",
    "- global: Nitrogen Dioxide (weekly - TROPOMI)[visualise on EO Dashboard](https://eodashboard.org/explore?indicator=N1&poi=W1-N1)\n",
    "- global: Nitrogen Dioxide (monthly - OMI/Aura)[visualise on EO Dashboard](https://eodashboard.org/explore?indicator=N1&poi=W2-N1)\n",
    "- global: Nitrogen Dioxide Difference (monthly compared to baseline - OMI/Aura)[visualise on EO Dashboard](https://eodashboard.org/explore?indicator=N1&poi=W3-N1)\n",
    "- global: Nitrogen Dioxide (yearly - OMI/Aura) [visualise on EO Dashboard](https://eodashboard.org/explore?indicator=N1&poi=W8-N9)\n",
    "- global: Sulfur Dioxide (OMI/Aura) [visualise on EO Dashboard](https://eodashboard.org/explore?indicator=N1&poi=W9-N10)\n",
    "- global: Sulfur Dioxide (TROPOMI) [visualise on EO Dashboard](https://eodashboard.org/explore?indicator=N1&poi=SO2-N1)\n",
    "- global: Carbon Dioxide mean [visualise on EO Dashboard](https://eodashboard.org/explore?poi=W4-N2)\n",
    "- global: Carbon Dioxide Difference  (monthly compared to baseline) [visualise on EO Dashboard](https://eodashboard.org/explore?poi=W5-N2)\n",
    "- europe: C3S Data - Temperature (EU) [visualise on RACE](https://race.esa.int/?poi=CDS-CDS1)\n",
    "- europe: C3S Data - Relative humidity (EU) [visualise on RACE](https://race.esa.int/?poi=CDS-CDS2)\n",
    "- europe: C3S Data - Wind U (EU) [visualise on RACE](https://race.esa.int/?poi=CDS-CDS3)\n",
    "- europe: C3S Data - Wind V (EU) [visualise on RACE](https://race.esa.int/?poi=CDS-CDS4)\n",
    "- europe: CAMS Air Quality - NO2 (EU) [visualise on RACE](https://race.esa.int/?indicator=N1b&poi=GCAQ1-N1b)\n",
    "- europe: CAMS Air Quality - PM2.5 (EU) [visualise on RACE](https://race.esa.int/?indicator=N1b&poi=GCAQ2-N1b)\n",
    "- europe: CAMS Air Quality - PM10 (EU)[visualise on RACE](https://race.esa.int/?indicator=N1b&poi=GCAQ3-N1b)\n",
    "- europe: CAMS Air Quality - O3 (EU) [visualise on RACE](https://race.esa.int/?indicator=N1b&poi=GCAQ4-N1b)", 
    "- City level NO2 (S5P) [visualize on RACE](https://race.esa.int/?search=City+level+NO2+%28S5p%29&x=635634.29243&y=5938046.80661&z=2.88237&clusterOpen=2)\n", 
    "- Air quality [visualize on RACE]( https://race.esa.int/?search=Air+Quality&x=6553373.80167&y=5617805.57381&z=3.17368&clusterOpen=2)\n",
    "- Greenhouse gases [visualize on EO Dashboard]( https://eodashboard.org/explore?search=Greenhouse+Gases&x=12115619.42813&y=2439683.86025&z=2.47371&clusterOpen=2)" 

   ]
  },
  {
   "cell_type": "markdown",
   "id": "2bb7391e-4fcc-4c14-b074-c5f0b1860d50",
   "metadata": {
    "papermill": {
     "duration": 0.014328,
     "end_time": "2022-10-13T12:27:20.346990",
     "exception": false,
     "start_time": "2022-10-13T12:27:20.332662",
     "status": "completed"
    },
    "tags": []
   },
   "source": [
    "#### Vector / Tabular"
   ]
  },
  {
   "cell_type": "markdown",
   "id": "e2e8d68d-84dc-4332-ad02-175da06275ba",
   "metadata": {
    "papermill": {
     "duration": 0.015729,
     "end_time": "2022-10-13T12:27:20.378126",
     "exception": false,
     "start_time": "2022-10-13T12:27:20.362397",
     "status": "completed"
    },
    "tags": []
   },
   "source": [
    "- global cities: Air Quality (NO2) at city level [visualise on EO Dashboard](https://eodashboard.org/explore?poi=US01-N1&indicator=N1)\n",
    "- european cities: CAMS Air Quality - NO2 (EU) [visualise on RACE](https://race.esa.int/?indicator=N1b&poi=IS1-N1b)\n",
    "- european cities: CAMS Air Quality - PM2.5 (EU) [visualise on RACE](https://race.esa.int/?indicator=N1b&poi=IS1-N1a)\n",
    "- european cities: CAMS Air Quality - PM10 (EU) [visualise on RACE](https://race.esa.int/?indicator=N1b&poi=IS1-N1c)\n",
    "- european cities: CAMS Air Quality - O3 (EU) [visualise on RACE](https://race.esa.int/?indicator=N1b&poi=IS1-N1d)"
   ]
  },
  {
   "cell_type": "markdown",
   "id": "05ec8472-f965-4f08-a4bc-0d2066f72064",
   "metadata": {
    "papermill": {
     "duration": 0.018324,
     "end_time": "2022-10-13T12:27:20.418514",
     "exception": false,
     "start_time": "2022-10-13T12:27:20.400190",
     "status": "completed"
    },
    "tags": []
   },
   "source": [
    "### Water & Ocean"
   ]
  },
  {
   "cell_type": "markdown",
   "id": "efaaf997-be0d-436e-80dd-25f87549ea17",
   "metadata": {
    "papermill": {
     "duration": 0.019109,
     "end_time": "2022-10-13T12:27:20.451461",
     "exception": false,
     "start_time": "2022-10-13T12:27:20.432352",
     "status": "completed"
    },
    "tags": []
   },
   "source": [
    "#### Raster"
   ]
  },
  {
   "cell_type": "markdown",
   "id": "041151ac-2e38-487e-a649-e68782ffe54f",
   "metadata": {
    "papermill": {
     "duration": 0.017077,
     "end_time": "2022-10-13T12:27:20.484216",
     "exception": false,
     "start_time": "2022-10-13T12:27:20.467139",
     "status": "completed"
    },
    "tags": []
   },
   "source": [
    "- global: Ocean Primary Productivity [visualise on EO Dashboard](https://eodashboard.org/explore?poi=NPP-NPP)\n",
    "- global: Precipitation Anomaly [visualise on EO Dashboard](https://eodashboard.org/explore?poi=World-PRC)\n",
    "- global: Soil Moisture [visualise on EO Dashboard](https://eodashboard.org/explore?poi=World-SMC)\n",
    "- global: Sea Ice Concentration [visualise on EO Dashboard](https://eodashboard.org/explore?poi=World-N12&indicator=N12)\n",
    "- global: Sea Ice Thickness [visualise on EO Dashboard](https://eodashboard.org/explore?poi=W8-SIE&indicator=SIE)\n",
    "- regional: Water Quality Regional Maps (EU)[visualise on RACE](https://race.esa.int/?poi=World-N3c&indicator=N3a2)\n",
    "- regional: Water Quality Regional Maps [visualise on EO Dashboard](https://eodashboard.org/explore?poi=JP04-N3a2&indicator=N3a2)\n",
    "- europe: CMEMS Water Quality (EU) [visualise on RACE](https://race.esa.int/?poi=World-N3c)\n", 
    "- CHL-a concentration (point) [visualize on RACE](https://race.esa.int/?search=Barcelona%3A+CHL-a+concentration+%28point%29&x=311307.99063&y=5472366.91747&z=4.25652&clusterOpen=2&poi=ES19-N3)\n",
    "- Water Quality [visualize on EO Dashboard]( https://eodashboard.org/explore?search=Barcelona+-+Chlorophyll-a+concentration%3A+Water+Quality+Regional+Maps+%28ESA%29&x=322169.41805&y=4995521.30974&z=8.24445&clusterOpen=2&poi=Barcelona_ESA-N3a2)\n",
    "- CHL-a concentration (map, 300m) [visualize on RACE](https://race.esa.int/?search=Rhone+Delta+-+Chlorophyll-a+concentration%3A+CHL-a+concentration+%28map%2C+300m%29&x=597725.2949&y=5342196.4094&z=9.66445&poi=RhoneDelta-N3a2)\n", 
    "- Solar Induced Chlorophyll Fluorescence [visualize on EO Dashboard]( https://eodashboard.org/explore?search=Solar+Induced+Chlorophyll+Fluorescence&x=973133.33687&y=3724686.46684&z=2.84686)\n", 
    "- Ocean Primary Productivity (BICEP) [visualize on EO Dashboard]( https://eodashboard.org/explore?search=World%3A+Ocean+Primary+Productivity+%28BICEP%29&x=973133.33687&y=3724686.46684&z=2.84686&clusterOpen=1&poi=NPP-NPP)\n",
    "- Sea Ice Concentration (GCOM-W) [visualize on EO Dashboard]( https://eodashboard.org/explore?search=Global%3A+Sea+Ice+Concentration+%28GCOM-W%29&x=9490543.73479&y=2595689.79124&z=5.36907&clusterOpen=2&poi=World-N12)" 
   ]
  },
  {
   "cell_type": "markdown",
   "id": "b29de45c-3729-45b3-93b6-5e4cc09431c6",
   "metadata": {
    "papermill": {
     "duration": 0.014396,
     "end_time": "2022-10-13T12:27:20.516023",
     "exception": false,
     "start_time": "2022-10-13T12:27:20.501627",
     "status": "completed"
    },
    "tags": []
   },
   "source": [
    "#### Vector / Tabular"
   ]
  },
  {
   "cell_type": "markdown",
   "id": "944092d8-e301-42e7-8485-d0f05383ddc0",
   "metadata": {
    "papermill": {
     "duration": 0.018696,
     "end_time": "2022-10-13T12:27:20.552263",
     "exception": false,
     "start_time": "2022-10-13T12:27:20.533567",
     "status": "completed"
    },
    "tags": []
   },
   "source": [
    "- regional: Water Quality Time Series [visualise on EO Dashboard]()"
   ]
  },
  {
   "cell_type": "markdown",
   "id": "946c5268-9920-4387-9929-84aa80a80439",
   "metadata": {
    "papermill": {
     "duration": 0.013562,
     "end_time": "2022-10-13T12:27:20.578968",
     "exception": false,
     "start_time": "2022-10-13T12:27:20.565406",
     "status": "completed"
    },
    "tags": []
   },
   "source": [
    "All the avaialable raster data can be explored in the [EuroDataCube collection archive](https://collections.eurodatacube.com/) where you can easily search for data. The vector data, stored in the GeoDB is listed below."
   ]
  },
  {
   "cell_type": "markdown",
   "id": "68a013d0-6c3b-405f-b8bf-488787f37784",
   "metadata": {
    "papermill": {
     "duration": 0.015475,
     "end_time": "2022-10-13T12:27:20.610871",
     "exception": false,
     "start_time": "2022-10-13T12:27:20.595396",
     "status": "completed"
    },
    "tags": []
   },
   "source": [
    "### How do I access the data?"
   ]
  },
  {
   "cell_type": "markdown",
   "id": "54873d42-ab16-4fcd-984f-3908452b641c",
   "metadata": {
    "papermill": {
     "duration": 0.015988,
     "end_time": "2022-10-13T12:27:20.641476",
     "exception": false,
     "start_time": "2022-10-13T12:27:20.625488",
     "status": "completed"
    },
    "tags": []
   },
   "source": [
    "The vector data is stored in the GeoDB, you can access it using the following steps:"
   ]
  },
  {
   "cell_type": "markdown",
   "id": "7672f93e-ce0b-4538-9a89-05b0ecd5504a",
   "metadata": {
    "papermill": {
     "duration": 0.015729,
     "end_time": "2022-10-13T12:27:20.672472",
     "exception": false,
     "start_time": "2022-10-13T12:27:20.656743",
     "status": "completed"
    },
    "tags": []
   },
   "source": [
    "### 1. Accessing vector data with [GeoDB](https://xcube-geodb.readthedocs.io/en/latest/)"
   ]
  },
  {
   "cell_type": "markdown",
   "id": "bb1c50e0-e92f-4a4c-badc-b767e94ba25b",
   "metadata": {
    "papermill": {
     "duration": 0.016674,
     "end_time": "2022-10-13T12:27:20.708098",
     "exception": false,
     "start_time": "2022-10-13T12:27:20.691424",
     "status": "completed"
    },
    "tags": []
   },
   "source": [
    "This first cell is just checking the appropriate permissions are in place"
   ]
  },
  {
   "cell_type": "code",
   "execution_count": 2,
   "id": "644bcbf5-4377-4ff7-9893-110a57bcb6bc",
   "metadata": {
    "execution": {
     "iopub.execute_input": "2022-10-13T12:27:20.739582Z",
     "iopub.status.busy": "2022-10-13T12:27:20.739238Z",
     "iopub.status.idle": "2022-10-13T12:27:22.404235Z",
     "shell.execute_reply": "2022-10-13T12:27:22.403103Z"
    },
    "papermill": {
     "duration": 1.69994,
     "end_time": "2022-10-13T12:27:22.423138",
     "exception": false,
     "start_time": "2022-10-13T12:27:20.723198",
     "status": "completed"
    },
    "tags": []
   },
   "outputs": [
    {
     "data": {
      "text/plain": [
       "'geodb_418dfeac-15f0-4606-9edb-fd9eb722bf04'"
      ]
     },
     "execution_count": 2,
     "metadata": {},
     "output_type": "execute_result"
    }
   ],
   "source": [
    "from edc import check_compatibility\n",
    "from xcube_geodb.core.geodb import GeoDBClient\n",
    "geodb = GeoDBClient()\n",
    "geodb.whoami"
   ]
  },
  {
   "cell_type": "markdown",
   "id": "fee86636-21d9-42e5-8a46-43881f4c5bf4",
   "metadata": {
    "papermill": {
     "duration": 0.019351,
     "end_time": "2022-10-13T12:27:22.480652",
     "exception": false,
     "start_time": "2022-10-13T12:27:22.461301",
     "status": "completed"
    },
    "tags": []
   },
   "source": [
    "Each indicator has a code which can be used to query the data, we need to define the indicator of interest and the database we are going to query. A full list of the indicators available through the GeoDB is shown bellow. JSON files describing each indicator are available [here](https://github.com/eurodatacube/eodash/tree/master/app/public/data/internal)."
   ]
  },
  {
   "cell_type": "markdown",
   "id": "67796ddf-69ca-4f60-b82a-b960494e783e",
   "metadata": {
    "papermill": {
     "duration": 0.021031,
     "end_time": "2022-10-13T12:27:22.521335",
     "exception": false,
     "start_time": "2022-10-13T12:27:22.500304",
     "status": "completed"
    },
    "tags": []
   },
   "source": [
    " | Name                                                    | Collection Code        | Available Locations |\n",
    "  | ------------------------------------------------------- | ---------------------- | ------------ |\n",
    "  | Import/production sites: status of metallic ores        |   E1                   | Port of Genoa, Gdynia, Gdansk, Gijon, Genova, Hamburg, Dunkirk, Dunkirque, Ghent |\n",
    "  | Productive area                                         |  E10a1_tri             | Brandenburg        |\n",
    "  | Activity Indicator                                      |  E10a2_tri             | Brandenburg        |\n",
    "  | Productive area change                                  |  E10a3_tri             | Brandenburg        |\n",
    "  | Number of berry trucks in 2018-2019                     |   E10a5                | Laguna de las Madres        |\n",
    "  | Regional Harvesting Evolution                           |   E10a6                | Regions of Spain        |\n",
    "  | Harvesting activity: cumulative harvested area          |   E10a8                | Regions of Spain        |\n",
    "  | National Harvesting Evolution                           |   E10a10               | Europe        | \n",
    "  | Commercial centres: volume of activity                  |   E11                  | Warsaw, Brussels, Athens, Milan, Rome, Bucharest       |\n",
    "  | Border crossing points: volume of activity              |   E12b                 | GB Border        |\n",
    "  | Airports: throughput                                    | E13b, E13b_tri         | European Airports      |\n",
    "  | Airports: airplane traffic                              | E13d                   | European Airports        |\n",
    "  | Ports and Shipping - Major Harbours                     | E13c_tri               | Hamburg, Ghent, Gdynia, Dunkirk, Genoa, Suez\n",
    "  | Maritime Traffic                                        | E13e,f,g,h,i,l,m,n     | Gioia Tauro, Genoa        |\n",
    "  | Changes in commertial fluxes                            |   E13n                 | Gijon        |\n",
    "  | Ports and Shipping - Major Harbours                     |   E200                 | Hamburg, Ghent, Gdynia, Dunkirk, Genoa, Suez   |\n",
    "  | Finished goods production: output inventory level       |   E8                   | Swindon, Cassino, Ghent, Mioveni, Russelsheim, Leipzig, Craiova, Nosovice, Martorell, Barcelona, Emden, Ingolstadt, Kvasiny        |\n",
    "  | Activity (cars/containers)                              |   E9_tri               | Beijing, Singapore, Palm Springs, Los Angeles, Arcadia, Nagoya        |\n",
    "  | Air Quality (tropomi NO2)                               |   N1, N1_tri           | European Cities & Major World Cities        |\n",
    "  | CAMS Air Quality (PM 2.5)                               |   N1a                  | European Cities        |\n",
    "  | CAMS Air Quality (NO2)                                  |   N1b                  | European Cities        |\n",
    "  | CAMS Air Quality (PM10)                                 |   N1c                  | European Cities        |\n",
    "  | CAMS Air Quality (O3)                                   |   N1d                  | European Cities        |\n",
    "  | Greenhouse Gas                                          |   N2_tri               | Major World Cities        |\n",
    "  | Water Quality Time Series                               |   N3, N3b_tri          | Barcelona, Marseilles, Venice Lagoon & Major World Ports       |\n"
   ]
  },
  {
   "cell_type": "markdown",
   "id": "2fc3415b-b2ad-4841-be62-f077f5e1b1ea",
   "metadata": {
    "papermill": {
     "duration": 0.016335,
     "end_time": "2022-10-13T12:27:22.551530",
     "exception": false,
     "start_time": "2022-10-13T12:27:22.535195",
     "status": "completed"
    },
    "tags": []
   },
   "source": [
    "Please feel free to change the value of `geodb_collection` and use other indicators."
   ]
  },
  {
   "cell_type": "code",
   "execution_count": 3,
   "id": "dc1b901d-6ee5-4cc4-9f64-921fa2c11dfd",
   "metadata": {
    "execution": {
     "iopub.execute_input": "2022-10-13T12:27:22.582515Z",
     "iopub.status.busy": "2022-10-13T12:27:22.581982Z",
     "iopub.status.idle": "2022-10-13T12:27:22.588333Z",
     "shell.execute_reply": "2022-10-13T12:27:22.586459Z"
    },
    "papermill": {
     "duration": 0.025856,
     "end_time": "2022-10-13T12:27:22.591481",
     "exception": false,
     "start_time": "2022-10-13T12:27:22.565625",
     "status": "completed"
    },
    "tags": []
   },
   "outputs": [],
   "source": [
    "geodb_database = \"eodash\"\n",
    "geodb_collection = \"E13c_tri\""
   ]
  },
  {
   "cell_type": "markdown",
   "id": "5326708f-7018-420f-9b94-cae205e9ea43",
   "metadata": {
    "papermill": {
     "duration": 0.013248,
     "end_time": "2022-10-13T12:27:22.619381",
     "exception": false,
     "start_time": "2022-10-13T12:27:22.606133",
     "status": "completed"
    },
    "tags": []
   },
   "source": [
    "To get an overview over the data we can get the first rows of the dataset. \n",
    "\n",
    "The data contains measured values during a measurement period categorised as \"low\", \"medium\", \"high\" under \"indicator_value\" heading."
   ]
  },
  {
   "cell_type": "code",
   "execution_count": 4,
   "id": "baf38698-bf60-4588-b8dd-25d4bd3f9d74",
   "metadata": {
    "execution": {
     "iopub.execute_input": "2022-10-13T12:27:22.654482Z",
     "iopub.status.busy": "2022-10-13T12:27:22.654037Z",
     "iopub.status.idle": "2022-10-13T12:27:23.219287Z",
     "shell.execute_reply": "2022-10-13T12:27:23.217207Z"
    },
    "papermill": {
     "duration": 0.587507,
     "end_time": "2022-10-13T12:27:23.222001",
     "exception": false,
     "start_time": "2022-10-13T12:27:22.634494",
     "status": "completed"
    },
    "tags": []
   },
   "outputs": [
    {
     "data": {
      "text/html": [
       "<div>\n",
       "<style scoped>\n",
       "    .dataframe tbody tr th:only-of-type {\n",
       "        vertical-align: middle;\n",
       "    }\n",
       "\n",
       "    .dataframe tbody tr th {\n",
       "        vertical-align: top;\n",
       "    }\n",
       "\n",
       "    .dataframe thead th {\n",
       "        text-align: right;\n",
       "    }\n",
       "</style>\n",
       "<table border=\"1\" class=\"dataframe\">\n",
       "  <thead>\n",
       "    <tr style=\"text-align: right;\">\n",
       "      <th></th>\n",
       "      <th>id</th>\n",
       "      <th>created_at</th>\n",
       "      <th>modified_at</th>\n",
       "      <th>geometry</th>\n",
       "      <th>aoi</th>\n",
       "      <th>country</th>\n",
       "      <th>region</th>\n",
       "      <th>city</th>\n",
       "      <th>site_name</th>\n",
       "      <th>description</th>\n",
       "      <th>...</th>\n",
       "      <th>reference_value</th>\n",
       "      <th>rule</th>\n",
       "      <th>indicator_value</th>\n",
       "      <th>sub_aoi</th>\n",
       "      <th>y_axis</th>\n",
       "      <th>indicator_name</th>\n",
       "      <th>color_code</th>\n",
       "      <th>data_provider</th>\n",
       "      <th>aoi_id</th>\n",
       "      <th>update_frequency</th>\n",
       "    </tr>\n",
       "  </thead>\n",
       "  <tbody>\n",
       "    <tr>\n",
       "      <th>0</th>\n",
       "      <td>449</td>\n",
       "      <td>2021-12-14T14:05:59.974126+00:00</td>\n",
       "      <td>2022-02-24T11:16:06.935296+00:00</td>\n",
       "      <td>POINT (18.51089 54.53786)</td>\n",
       "      <td>54.537859,18.510887</td>\n",
       "      <td>PL</td>\n",
       "      <td>/</td>\n",
       "      <td>Gdynia</td>\n",
       "      <td>Port of Gdynia/Gdansk</td>\n",
       "      <td>Ports and Shipping - Major Harbours</td>\n",
       "      <td>...</td>\n",
       "      <td>5</td>\n",
       "      <td>X is the Measurement value. If X&lt;(ref_value-30...</td>\n",
       "      <td>Low</td>\n",
       "      <td>MULTIPOLYGON(((18.56179820666602 54.5171532394...</td>\n",
       "      <td>Number of ships in Port</td>\n",
       "      <td>Changes in Ships traffic within the Port</td>\n",
       "      <td>RED</td>\n",
       "      <td>PLES</td>\n",
       "      <td>PL1</td>\n",
       "      <td>Weekly</td>\n",
       "    </tr>\n",
       "    <tr>\n",
       "      <th>1</th>\n",
       "      <td>450</td>\n",
       "      <td>2021-12-14T14:05:59.974126+00:00</td>\n",
       "      <td>2022-02-24T11:16:06.935296+00:00</td>\n",
       "      <td>POINT (2.28537 51.03614)</td>\n",
       "      <td>51.036138,2.285374</td>\n",
       "      <td>FR</td>\n",
       "      <td>/</td>\n",
       "      <td>Dunkirk</td>\n",
       "      <td>Port of Dunkirk</td>\n",
       "      <td>Ports and Shipping - Major Harbours</td>\n",
       "      <td>...</td>\n",
       "      <td>7</td>\n",
       "      <td>X is the Measurement value. If X&lt;(ref_value-30...</td>\n",
       "      <td>Low</td>\n",
       "      <td>MULTIPOLYGON(((2.1499827079701284 51.034478942...</td>\n",
       "      <td>Number of ships in Port</td>\n",
       "      <td>Changes in Ships traffic within the Port</td>\n",
       "      <td>RED</td>\n",
       "      <td>PLES</td>\n",
       "      <td>FR3</td>\n",
       "      <td>Weekly</td>\n",
       "    </tr>\n",
       "    <tr>\n",
       "      <th>2</th>\n",
       "      <td>453</td>\n",
       "      <td>2021-12-14T14:05:59.974126+00:00</td>\n",
       "      <td>2022-02-24T11:16:06.935296+00:00</td>\n",
       "      <td>POINT (32.31492 30.93955)</td>\n",
       "      <td>30.939554,32.314923</td>\n",
       "      <td>EG</td>\n",
       "      <td>/</td>\n",
       "      <td>Suez</td>\n",
       "      <td>Suez Canal</td>\n",
       "      <td>Ports and Shipping - Major Harbours</td>\n",
       "      <td>...</td>\n",
       "      <td>28</td>\n",
       "      <td>X is the Measurement value. If X&lt;(ref_value-30...</td>\n",
       "      <td>Low</td>\n",
       "      <td>MULTIPOLYGON(((32.2245676834261 31.36554628042...</td>\n",
       "      <td>Number of ships in Port</td>\n",
       "      <td>Changes in Ships traffic within the Port</td>\n",
       "      <td>RED</td>\n",
       "      <td>PLES</td>\n",
       "      <td>EG1</td>\n",
       "      <td>Weekly</td>\n",
       "    </tr>\n",
       "    <tr>\n",
       "      <th>3</th>\n",
       "      <td>463</td>\n",
       "      <td>2022-01-18T10:23:23.995343+00:00</td>\n",
       "      <td>2022-02-24T11:16:06.935296+00:00</td>\n",
       "      <td>POINT (8.88585 44.40814)</td>\n",
       "      <td>44.408142,8.885851</td>\n",
       "      <td>IT</td>\n",
       "      <td>/</td>\n",
       "      <td>Genoa</td>\n",
       "      <td>Port of Genoa and surrounding industrial areas</td>\n",
       "      <td>Ports and Shipping - Major Harbours</td>\n",
       "      <td>...</td>\n",
       "      <td>14</td>\n",
       "      <td>X is the Measurement value. If X&lt;(ref_value-30...</td>\n",
       "      <td>Low</td>\n",
       "      <td>MULTIPOLYGON(((8.917566076705773 44.4026124064...</td>\n",
       "      <td>Number of ships in Port</td>\n",
       "      <td>Changes in Ships traffic within the Port</td>\n",
       "      <td>RED</td>\n",
       "      <td>PLES</td>\n",
       "      <td>IT3</td>\n",
       "      <td>Weekly</td>\n",
       "    </tr>\n",
       "    <tr>\n",
       "      <th>4</th>\n",
       "      <td>467</td>\n",
       "      <td>2022-01-26T22:11:17.719758+00:00</td>\n",
       "      <td>2022-02-24T11:16:06.935296+00:00</td>\n",
       "      <td>POINT (2.28537 51.03614)</td>\n",
       "      <td>51.036138,2.285374</td>\n",
       "      <td>FR</td>\n",
       "      <td>/</td>\n",
       "      <td>Dunkirk</td>\n",
       "      <td>Port of Dunkirk</td>\n",
       "      <td>Ports and Shipping - Major Harbours</td>\n",
       "      <td>...</td>\n",
       "      <td>7</td>\n",
       "      <td>X is the Measurement value. If X&lt;(ref_value-30...</td>\n",
       "      <td>Low</td>\n",
       "      <td>MULTIPOLYGON(((2.1499827079701284 51.034478942...</td>\n",
       "      <td>Number of ships in Port</td>\n",
       "      <td>Changes in Ships traffic within the Port</td>\n",
       "      <td>RED</td>\n",
       "      <td>PLES</td>\n",
       "      <td>FR3</td>\n",
       "      <td>Weekly</td>\n",
       "    </tr>\n",
       "  </tbody>\n",
       "</table>\n",
       "<p>5 rows × 28 columns</p>\n",
       "</div>"
      ],
      "text/plain": [
       "    id                        created_at                       modified_at  \\\n",
       "0  449  2021-12-14T14:05:59.974126+00:00  2022-02-24T11:16:06.935296+00:00   \n",
       "1  450  2021-12-14T14:05:59.974126+00:00  2022-02-24T11:16:06.935296+00:00   \n",
       "2  453  2021-12-14T14:05:59.974126+00:00  2022-02-24T11:16:06.935296+00:00   \n",
       "3  463  2022-01-18T10:23:23.995343+00:00  2022-02-24T11:16:06.935296+00:00   \n",
       "4  467  2022-01-26T22:11:17.719758+00:00  2022-02-24T11:16:06.935296+00:00   \n",
       "\n",
       "                    geometry                  aoi country region     city  \\\n",
       "0  POINT (18.51089 54.53786)  54.537859,18.510887      PL      /   Gdynia   \n",
       "1   POINT (2.28537 51.03614)   51.036138,2.285374      FR      /  Dunkirk   \n",
       "2  POINT (32.31492 30.93955)  30.939554,32.314923      EG      /    Suez    \n",
       "3   POINT (8.88585 44.40814)   44.408142,8.885851      IT      /    Genoa   \n",
       "4   POINT (2.28537 51.03614)   51.036138,2.285374      FR      /  Dunkirk   \n",
       "\n",
       "                                        site_name  \\\n",
       "0                           Port of Gdynia/Gdansk   \n",
       "1                                 Port of Dunkirk   \n",
       "2                                      Suez Canal   \n",
       "3  Port of Genoa and surrounding industrial areas   \n",
       "4                                 Port of Dunkirk   \n",
       "\n",
       "                           description  ... reference_value  \\\n",
       "0  Ports and Shipping - Major Harbours  ...               5   \n",
       "1  Ports and Shipping - Major Harbours  ...               7   \n",
       "2  Ports and Shipping - Major Harbours  ...              28   \n",
       "3  Ports and Shipping - Major Harbours  ...              14   \n",
       "4  Ports and Shipping - Major Harbours  ...               7   \n",
       "\n",
       "                                                rule indicator_value  \\\n",
       "0  X is the Measurement value. If X<(ref_value-30...             Low   \n",
       "1  X is the Measurement value. If X<(ref_value-30...             Low   \n",
       "2  X is the Measurement value. If X<(ref_value-30...             Low   \n",
       "3  X is the Measurement value. If X<(ref_value-30...             Low   \n",
       "4  X is the Measurement value. If X<(ref_value-30...             Low   \n",
       "\n",
       "                                             sub_aoi                   y_axis  \\\n",
       "0  MULTIPOLYGON(((18.56179820666602 54.5171532394...  Number of ships in Port   \n",
       "1  MULTIPOLYGON(((2.1499827079701284 51.034478942...  Number of ships in Port   \n",
       "2  MULTIPOLYGON(((32.2245676834261 31.36554628042...  Number of ships in Port   \n",
       "3  MULTIPOLYGON(((8.917566076705773 44.4026124064...  Number of ships in Port   \n",
       "4  MULTIPOLYGON(((2.1499827079701284 51.034478942...  Number of ships in Port   \n",
       "\n",
       "                             indicator_name color_code data_provider aoi_id  \\\n",
       "0  Changes in Ships traffic within the Port        RED          PLES    PL1   \n",
       "1  Changes in Ships traffic within the Port        RED          PLES    FR3   \n",
       "2  Changes in Ships traffic within the Port        RED          PLES    EG1   \n",
       "3  Changes in Ships traffic within the Port        RED          PLES    IT3   \n",
       "4  Changes in Ships traffic within the Port        RED          PLES    FR3   \n",
       "\n",
       "  update_frequency  \n",
       "0           Weekly  \n",
       "1           Weekly  \n",
       "2           Weekly  \n",
       "3           Weekly  \n",
       "4           Weekly  \n",
       "\n",
       "[5 rows x 28 columns]"
      ]
     },
     "execution_count": 4,
     "metadata": {},
     "output_type": "execute_result"
    }
   ],
   "source": [
    "data = geodb.get_collection(collection=geodb_collection, database=geodb_database)\n",
    "data.head()"
   ]
  },
  {
   "cell_type": "markdown",
   "id": "64891b79-e729-4beb-a03c-8072162022c6",
   "metadata": {
    "papermill": {
     "duration": 0.021025,
     "end_time": "2022-10-13T12:27:23.264982",
     "exception": false,
     "start_time": "2022-10-13T12:27:23.243957",
     "status": "completed"
    },
    "tags": []
   },
   "source": [
    "A valid header line for a CSV uses the strings in bold and looks like this:\n",
    "\n",
    "`AOI,Country,Region,City,Site Name,Description,Method,EO Sensor,Input Data,Indicator code,Time,Measurement Value,Reference Description,Reference time,Reference value,Rule,Indicator Value,Sub-AOI,Y axis,Indicator Name,Color code,Data Provider,AOI_ID,Update Frequency`"
   ]
  },
  {
   "cell_type": "markdown",
   "id": "b19e5f79-8423-4bb6-ac99-ba4432f108e0",
   "metadata": {
    "papermill": {
     "duration": 0.01917,
     "end_time": "2022-10-13T12:27:23.301211",
     "exception": false,
     "start_time": "2022-10-13T12:27:23.282041",
     "status": "completed"
    },
    "tags": []
   },
   "source": [
    "### 2. Accessing Raster Data [(SentinelHub)](https://docs.sentinel-hub.com/api/latest/reference/#tag/process)"
   ]
  },
  {
   "cell_type": "markdown",
   "id": "55ae659e-1f71-4393-840c-46e12e292040",
   "metadata": {
    "papermill": {
     "duration": 0.015394,
     "end_time": "2022-10-13T12:27:23.335607",
     "exception": false,
     "start_time": "2022-10-13T12:27:23.320213",
     "status": "completed"
    },
    "tags": []
   },
   "source": [
    "All the datasets stored [here](https://collections.eurodatacube.com/) are requested using the SentinelHub Processing API, this uncludes satellite data and BYOC datasets.\n",
    "\n",
    "These datasets are requested using an evalscript and a request. In the evalscript you must define the collection ID and the band name, along with the visualisation parameters. "
   ]
  },
  {
   "cell_type": "markdown",
   "id": "59612477-5567-4f09-b59f-198fd4810482",
   "metadata": {
    "papermill": {
     "duration": 0.025726,
     "end_time": "2022-10-13T12:27:23.379284",
     "exception": false,
     "start_time": "2022-10-13T12:27:23.353558",
     "status": "completed"
    },
    "tags": []
   },
   "source": [
    "### BYOC Datasets "
   ]
  },
  {
   "cell_type": "markdown",
   "id": "86439e97-e59f-4af5-adb2-73afee386bec",
   "metadata": {
    "papermill": {
     "duration": 0.019813,
     "end_time": "2022-10-13T12:27:23.422097",
     "exception": false,
     "start_time": "2022-10-13T12:27:23.402284",
     "status": "completed"
    },
    "tags": []
   },
   "source": [
    "These datasets have a custom ID which is used to request the data. Below is a list of the data which is stored in this way:\n",
    "\n",
    "\n",
    "| Public Collection| collection ID| BandName| Description |\n",
    "| -------------------| ----------- | ------- | -----------|\n",
    "| [CHL_water_quality_Saturday]('https://collections.eurodatacube.com/chl_water_quality_saturday/') |82560c29-0b55-44c8-a01c-43b95c359518|chl| Chlorophyll anomaly maps for 3 sites: Lagoon Venice, Marseille and Barcelona regions |\n",
    "|[TSMN_water_quality_Saturday]('https://collections.eurodatacube.com/tsmn_water_quality_saturday/') |358448a1-23c1-4d58-924d-22249ab09048|tsmnn| Total suspended matter maps for 3 sites: Lagoon Venice, Marseille and Barcelona regions |\n",
    "|[E12C_Motorway]('https://collections.eurodatacube.com/e12c_motorway/') |efb2b070-39d6-4cfc-842f-57f8f54f22a0|MotorwayActivity| Detection of moving trucks on motorways in the EU using Sentinel-2 |\n",
    "|[E12D_Primary_corrected]('https://collections.eurodatacube.com/e12d_primary_corrected/')|06e51c55-a10c-43ba-ad93-ddd6258d5e9a|PrimaryRoadsActivity| Detection of moving trucks on motorways in the EU using Sentinel-2 |\n",
    "|[ICEYE_E3]('https://collections.eurodatacube.com/iceye_e3/') |c47fa011-e9cd-4076-9b2f-68a93d757e58|GRD | Oil storages filling up as demand for oil decreases when people are not travelling |\n",
    "|[ICEYE_E11]('https://collections.eurodatacube.com/iceye_e11/')|0771d000-92ca-4f7d-9788-b56ca0411cf7|GRD| Activity for leisure industry reduced |\n",
    "|[ICEYE_E11a]('https://collections.eurodatacube.com/iceye_e11a/')|a9ae7d6a-70c8-4575-854a-1a8f0cb33317|GRD| Activity at leisure facility (Stadium) affected by COVID |\n",
    "|[ICEYE_E13b]('https://collections.eurodatacube.com/iceye_e13b/') |4a537983-1c61-4c6e-9c85-7b3972b7b596|GRD| ICEYE image and detection of parked airplanes |\n",
    "|[JAXA_wq_chla_anomaly]('https://collections.eurodatacube.com/jaxa_wq_chla/')|198aa13a-b0c0-4b78-8f69-e08fc58551a7|chla| Water quality Chlorophyll-a weekly anomaly |\n",
    "|[JAXA_wq_tsm_anomaly]('https://collections.eurodatacube.com/jaxa_wq_tsm/')|925b4bf6-ca1b-45df-a523-88f30823ab07|tsm| Total suspended matter weekly anomoly |\n",
    "|[2mT_2020_Monthly_Average_from_CDS]('https://collections.eurodatacube.com/2mt_2020_monthly_average_from_cds/')|0b3eebec-30de-4fa6-9cd3-4b252d45d847|AIR2MT| Gridded ERA5 is the fifth generation ECMWF reanalysis for the global climate and weather for the past 4 to 7 decades - 2 meter temperature |\n",
    "|[Wind_10m_u]('https://collections.eurodatacube.com/wind_10m_u/')|067fbb53-b1c3-4a57-9c81-adf2488a47ee|windu10m| Gridded ERA5 is the fifth generation ECMWF reanalysis for the global climate and weather for the past 4 to 7 decades - Easterly Winds |\n",
    "|[Wind_10m_v]('https://collections.eurodatacube.com/wind_10m_v/')|3043d07f-3c20-410c-9a87-7da720942ab8|windv10m| Gridded ERA5 is the fifth generation ECMWF reanalysis for the global climate and weather for the past 4 to 7 decades - Northern Winds |\n",
    "|[Population_density]('https://collections.eurodatacube.com/population_density/')|b468089b-2627-4787-b984-89c10434f6c6|populationDensity|Gridded Population of the World v4 for year 2020|\n",
    "|[S5P-NO2-tropno-daily-check]('https://collections.eurodatacube.com/s5p-no2-tropno-daily-check/')|972e67a7-2ca8-4bf6-964a-11fe772e3ac2|tropno2| The data comes from the Copernicus Sentinel-5P satellite and shows the averaged nitrogen dioxide concentrations across the globe |\n",
    "|S5P-SO2-daily|4ad9663f-d173-411d-8d28-3081d4d9e3aa|so2 | The data comes from the Copernicus Sentinel-5P satellite and shows the average solfure dioxide concentrations\n",
    "|S5P-CO-3daily|57a07405-8ec2-4b9c-a273-23e287c173f8|co | The data comes from the Copernicus Sentinel-5P satellite and shows the average carbon monoxide concentrations\n",
    "|S5P-CH4-weekly|0ecb4a55-5ce2-4525-bdcb-a333d37d46ef|ch4 | The data comes from the Copernicus Sentinel-5P satellite and shows the average methane concentrations\n",
    "|Ocean-Net-Primary-Production (BICEP)|a216afca-8a65-4072-87a5-8ed7aa21e08a|pp | This dataset is produced in the frame of project Biological Pump and Carbon Exchange Processes (BICEP)\n"
   ]
  },
  {
   "cell_type": "markdown",
   "id": "bed86db9-cd2b-4293-93d4-92fa7d451bc1",
   "metadata": {
    "papermill": {
     "duration": 0.018018,
     "end_time": "2022-10-13T12:27:23.458051",
     "exception": false,
     "start_time": "2022-10-13T12:27:23.440033",
     "status": "completed"
    },
    "tags": []
   },
   "source": [
    "### Requesting Data"
   ]
  },
  {
   "cell_type": "markdown",
   "id": "dea2a186-3e17-4b38-b542-d06e9928464a",
   "metadata": {
    "papermill": {
     "duration": 0.016109,
     "end_time": "2022-10-13T12:27:23.493476",
     "exception": false,
     "start_time": "2022-10-13T12:27:23.477367",
     "status": "completed"
    },
    "tags": []
   },
   "source": [
    "First the permissions:"
   ]
  },
  {
   "cell_type": "code",
   "execution_count": 5,
   "id": "9f9bf71b-c6d2-43e7-b53a-cc72f608fc10",
   "metadata": {
    "execution": {
     "iopub.execute_input": "2022-10-13T12:27:23.529937Z",
     "iopub.status.busy": "2022-10-13T12:27:23.529410Z",
     "iopub.status.idle": "2022-10-13T12:27:23.717548Z",
     "shell.execute_reply": "2022-10-13T12:27:23.715395Z"
    },
    "papermill": {
     "duration": 0.208046,
     "end_time": "2022-10-13T12:27:23.720587",
     "exception": false,
     "start_time": "2022-10-13T12:27:23.512541",
     "status": "completed"
    },
    "tags": []
   },
   "outputs": [],
   "source": [
    "import os\n",
    "from oauthlib.oauth2 import BackendApplicationClient\n",
    "from requests_oauthlib import OAuth2Session\n",
    "\n",
    "# Your client credentials\n",
    "client_id = os.environ['SH_CLIENT_ID']\n",
    "client_secret = os.environ['SH_CLIENT_SECRET']\n",
    "\n",
    "# Create a session\n",
    "client = BackendApplicationClient(client_id=client_id)\n",
    "oauth = OAuth2Session(client=client)\n",
    "\n",
    "# Get token for the session\n",
    "token = oauth.fetch_token(token_url='https://services.sentinel-hub.com/oauth/token',\n",
    "                          client_id=client_id, client_secret=client_secret)\n",
    "\n",
    "# All requests using this session will have an access token automatically added\n",
    "resp = oauth.get(\"https://services.sentinel-hub.com/oauth/tokeninfo\")"
   ]
  },
  {
   "cell_type": "markdown",
   "id": "b833d682-ecff-4f66-9685-4d00d695749f",
   "metadata": {
    "papermill": {
     "duration": 0.018333,
     "end_time": "2022-10-13T12:27:23.757046",
     "exception": false,
     "start_time": "2022-10-13T12:27:23.738713",
     "status": "completed"
    },
    "tags": []
   },
   "source": [
    "\n",
    "As an example, here we access the population density information for a specific country (Austria).\n",
    "We use the [NUTS Tool](https://ec.europa.eu/eurostat/web/gisco/geodata/reference-data/administrative-units-statistical-units/nuts) to help."
   ]
  },
  {
   "cell_type": "code",
   "execution_count": 6,
   "id": "abafa32a-f8c0-405f-af95-7fb0c4cbbe28",
   "metadata": {
    "execution": {
     "iopub.execute_input": "2022-10-13T12:27:23.818928Z",
     "iopub.status.busy": "2022-10-13T12:27:23.818477Z",
     "iopub.status.idle": "2022-10-13T12:27:24.187230Z",
     "shell.execute_reply": "2022-10-13T12:27:24.186025Z"
    },
    "papermill": {
     "duration": 0.392652,
     "end_time": "2022-10-13T12:27:24.190238",
     "exception": false,
     "start_time": "2022-10-13T12:27:23.797586",
     "status": "completed"
    },
    "tags": []
   },
   "outputs": [],
   "source": [
    "import requests\n",
    "# First let us get the area information of the country from the administratives zones\n",
    "# You can find all the different NUTS levels, resolution here: https://gisco-services.ec.europa.eu/distribution/v2/nuts/nuts-2021-files.html\n",
    "\n",
    "response = requests.get(\n",
    "    \"https://gisco-services.ec.europa.eu/distribution/v2/nuts/geojson/NUTS_RG_10M_2021_4326_LEVL_0.geojson\"\n",
    ")\n",
    "\n",
    "data = response.json()\n",
    "\n",
    "# Now lets find the geometry information for one country\n",
    "match = [x for x in data[\"features\"] if x[\"properties\"][\"CNTR_CODE\"] == 'AT'][0]"
   ]
  },
  {
   "cell_type": "markdown",
   "id": "3999dafe-e0d3-41a0-b005-aa8c7ea8d3a4",
   "metadata": {
    "papermill": {
     "duration": 0.019667,
     "end_time": "2022-10-13T12:27:24.225717",
     "exception": false,
     "start_time": "2022-10-13T12:27:24.206050",
     "status": "completed"
    },
    "tags": []
   },
   "source": [
    "Here we see how to access specifically loaded datasets, for learning how to access default datasets look further down in this tutorial notebook. You have access to a number of [datasets](https://collections.eurodatacube.com/). We display the syntax using population data:\n",
    "\n"
   ]
  },
  {
   "cell_type": "code",
   "execution_count": 7,
   "id": "5c64c1fe-af22-40a4-a39a-9e7fb5cccf55",
   "metadata": {
    "execution": {
     "iopub.execute_input": "2022-10-13T12:27:24.261715Z",
     "iopub.status.busy": "2022-10-13T12:27:24.260645Z",
     "iopub.status.idle": "2022-10-13T12:27:24.362317Z",
     "shell.execute_reply": "2022-10-13T12:27:24.360786Z"
    },
    "papermill": {
     "duration": 0.123705,
     "end_time": "2022-10-13T12:27:24.365987",
     "exception": false,
     "start_time": "2022-10-13T12:27:24.242282",
     "status": "completed"
    },
    "tags": []
   },
   "outputs": [],
   "source": [
    "response = requests.post('https://shservices.mundiwebservices.com/api/v1/process',\n",
    "  headers={\"Authorization\" : \"Bearer %s\"%(token['access_token'])},\n",
    "  json={\n",
    "    \"input\": {\n",
    "        \"bounds\": {\n",
    "            \"geometry\": match[\"geometry\"]\n",
    "        },\n",
    "        \"data\": [{\n",
    "            \"type\": \"byoc-collectionID\"\n",
    "        }]\n",
    "    },\n",
    "    \"output\": {\n",
    "        \"width\": 800,\n",
    "        \"height\": 400,\n",
    "    },\n",
    "    \"evalscript\": \"\"\"\n",
    "    //VERSION=3\n",
    "    function setup() {\n",
    "      return {\n",
    "        input: [{\n",
    "          bands: [\"band_name\", \"dataMask\"], // this sets which bands to use\n",
    "        }],\n",
    "        output: { // this defines the output image type\n",
    "          bands: 4,\n",
    "          sampleType: \"UINT8\"\n",
    "        }\n",
    "      };\n",
    "    }\n",
    "\n",
    "    function evaluatePixel(sample) {\n",
    "      var arr = colorBlend(\n",
    "          sample.band_name,\n",
    "          [1, 5, 25, 250, 1000, 10000],\n",
    "          [[255,242,209],[255,218,166],[250,184,85],[253,141,60],[240,59,32],[189,0,38]]\n",
    "      ); \n",
    "      if (sample.dataMask==1)  arr.push(255);\n",
    "      else arr.push(0);\n",
    "      return arr;\n",
    "    }\n",
    "    \"\"\"\n",
    "})"
   ]
  },
  {
   "cell_type": "markdown",
   "id": "88ede812-e1fc-41e0-a3f7-a860ec1d17b5",
   "metadata": {
    "papermill": {
     "duration": 0.016749,
     "end_time": "2022-10-13T12:27:24.401750",
     "exception": false,
     "start_time": "2022-10-13T12:27:24.385001",
     "status": "completed"
    },
    "tags": []
   },
   "source": [
    "#### Satellite Imagery \n",
    "Now that we have the necessary token we can access the data through the processing API.  \n",
    "As described in the documentation we can access multiple datasets, but for this challenge we consider the following the most relevant:  \n",
    "- [S1GRD](https://docs.sentinel-hub.com/api/latest/data/sentinel-1-grd/)\n",
    "- [S2L1C](https://docs.sentinel-hub.com/api/latest/data/sentinel-2-l1c/#available-bands-and-data)\n",
    "- [S2L2A](https://docs.sentinel-hub.com/api/latest/data/sentinel-2-l2a/#available-bands-and-data)\n",
    "- [S3OLCI](https://docs.sentinel-hub.com/api/latest/data/sentinel-3-olci-l1b/#available-bands-and-data)\n",
    "- [S3SLSTR](https://docs.sentinel-hub.com/api/latest/data/sentinel-3-slstr-l1b/#available-bands-and-data)\n",
    "- [S5PL2](https://docs.sentinel-hub.com/api/latest/data/sentinel-5p-l2/#available-bands-and-data)  \n",
    "\n",
    "Have also a look at the linked references of the list as they also show available bands for the datasets.\n",
    "This identifier can then be used in the data type definition of the request.  \n",
    "The example that follows is taken from the API documentation, we are selecting a bounding box, which bands will be used and a function of how the pixel will be evaluated.   "
   ]
  },
  {
   "cell_type": "code",
   "execution_count": 8,
   "id": "6974c8fb-a80c-4452-bdb5-316eef059933",
   "metadata": {
    "execution": {
     "iopub.execute_input": "2022-10-13T12:27:24.435568Z",
     "iopub.status.busy": "2022-10-13T12:27:24.435112Z",
     "iopub.status.idle": "2022-10-13T12:27:25.480416Z",
     "shell.execute_reply": "2022-10-13T12:27:25.475345Z"
    },
    "papermill": {
     "duration": 1.068201,
     "end_time": "2022-10-13T12:27:25.485482",
     "exception": false,
     "start_time": "2022-10-13T12:27:24.417281",
     "status": "completed"
    },
    "tags": []
   },
   "outputs": [],
   "source": [
    "import requests\n",
    "\n",
    "available_datasets = ['S2L1C', 'S2L2A']\n",
    "responses = {}\n",
    "\n",
    "for ds in available_datasets:\n",
    "    responses[ds] = requests.post('https://services.sentinel-hub.com/api/v1/process',\n",
    "      headers={\"Authorization\" : \"Bearer %s\"%(token['access_token'])},\n",
    "      json={\n",
    "        \"input\": {\n",
    "            \"bounds\": {\n",
    "                \"bbox\": [ 13.45, 45.4, 13.55,45.5 ]\n",
    "            },\n",
    "            \"data\": [{\n",
    "                \"type\": ds\n",
    "            }]\n",
    "        },\n",
    "        \"evalscript\": \"\"\"\n",
    "        //VERSION=3\n",
    "\n",
    "        function setup() {\n",
    "          return {\n",
    "            input: [\"B02\", \"B03\", \"B04\"],\n",
    "            output: {\n",
    "              bands: 3\n",
    "            }\n",
    "          };\n",
    "        }\n",
    "\n",
    "        function evaluatePixel(\n",
    "          sample,\n",
    "          scenes,\n",
    "          inputMetadata,\n",
    "          customData,\n",
    "          outputMetadata\n",
    "        ) {\n",
    "          return [2.5 * sample.B04, 2.5 * sample.B03, 2.5 * sample.B02];\n",
    "        }\n",
    "        \"\"\"\n",
    "    })"
   ]
  },
  {
   "cell_type": "markdown",
   "id": "602af9dd-7a57-401f-bb67-ae806aa0fc07",
   "metadata": {
    "papermill": {
     "duration": 0.015812,
     "end_time": "2022-10-13T12:27:25.515645",
     "exception": false,
     "start_time": "2022-10-13T12:27:25.499833",
     "status": "completed"
    },
    "tags": []
   },
   "source": [
    "### Requesting Data with SentinelHub Function\n",
    "You can also request the data using the [SentinelHub Request Function](https://sentinelhub-py.readthedocs.io/en/latest/examples/process_request.html) which you may find more intuitive. "
   ]
  },
  {
   "cell_type": "code",
   "execution_count": 9,
   "id": "ee05e6a9-0ae9-49e4-a771-ac4ca9e3a69d",
   "metadata": {
    "execution": {
     "iopub.execute_input": "2022-10-13T12:27:25.547550Z",
     "iopub.status.busy": "2022-10-13T12:27:25.547210Z",
     "iopub.status.idle": "2022-10-13T12:27:25.707347Z",
     "shell.execute_reply": "2022-10-13T12:27:25.704895Z"
    },
    "papermill": {
     "duration": 0.179696,
     "end_time": "2022-10-13T12:27:25.711380",
     "exception": false,
     "start_time": "2022-10-13T12:27:25.531684",
     "status": "completed"
    },
    "tags": []
   },
   "outputs": [
    {
     "name": "stdout",
     "output_type": "stream",
     "text": [
      "Warning! To use Process API, please provide the credentials (OAuth client ID and client secret).\n"
     ]
    }
   ],
   "source": [
    "from sentinelhub import (\n",
    "    CRS,\n",
    "    BBox,\n",
    "    DataCollection,\n",
    "    DownloadRequest,\n",
    "    MimeType,\n",
    "    SentinelHubDownloadClient,\n",
    "    SentinelHubRequest,\n",
    "    bbox_to_dimensions,\n",
    ")\n",
    "\n",
    "from sentinelhub import SHConfig\n",
    "\n",
    "config = SHConfig()\n",
    "\n",
    "if not config.sh_client_id or not config.sh_client_secret:\n",
    "    print(\"Warning! To use Process API, please provide the credentials (OAuth client ID and client secret).\")"
   ]
  },
  {
   "cell_type": "code",
   "execution_count": 10,
   "id": "40eb82c9-bf11-4f7a-bbd9-37c62f28c451",
   "metadata": {
    "execution": {
     "iopub.execute_input": "2022-10-13T12:27:25.748883Z",
     "iopub.status.busy": "2022-10-13T12:27:25.747305Z",
     "iopub.status.idle": "2022-10-13T12:27:25.754556Z",
     "shell.execute_reply": "2022-10-13T12:27:25.752585Z"
    },
    "papermill": {
     "duration": 0.028928,
     "end_time": "2022-10-13T12:27:25.757844",
     "exception": false,
     "start_time": "2022-10-13T12:27:25.728916",
     "status": "completed"
    },
    "tags": []
   },
   "outputs": [],
   "source": [
    "# Pass Sentinel Hub credentials to SHConfig\n",
    "config = SHConfig()\n",
    "config.sh_client_id = os.environ[\"SH_CLIENT_ID\"]\n",
    "config.sh_client_secret = os.environ[\"SH_CLIENT_SECRET\"]"
   ]
  },
  {
   "cell_type": "markdown",
   "id": "6a7f4684-9e3b-47ed-8693-29fc02b68def",
   "metadata": {
    "papermill": {
     "duration": 0.017235,
     "end_time": "2022-10-13T12:27:25.791894",
     "exception": false,
     "start_time": "2022-10-13T12:27:25.774659",
     "status": "completed"
    },
    "tags": []
   },
   "source": [
    "Below we define our area using a bbox, which we use to define a [sentinelhub bbox object](https://sentinelhub-py.readthedocs.io/en/latest/_modules/sentinelhub/geometry.html). When requesting data with the bbox object you must also define the size of the area. Be aware the maximum number of pixels is (2500, 2500). \n",
    "\n",
    "The area can also be defined as a [sentinelhub geometry object](https://sentinelhub-py.readthedocs.io/en/latest/_modules/sentinelhub/geometry.html) from any of the following geometry representations:\n",
    "    - `shapely.geometry.Polygon` or `shapely.geometry.MultiPolygon`\n",
    "    - A GeoJSON dictionary with (multi)polygon coordinates\n",
    "    - A WKT string with (multi)polygon coordinates"
   ]
  },
  {
   "cell_type": "code",
   "execution_count": 11,
   "id": "4b538f87-4c2e-456c-b578-27129b9ab401",
   "metadata": {
    "execution": {
     "iopub.execute_input": "2022-10-13T12:27:25.887997Z",
     "iopub.status.busy": "2022-10-13T12:27:25.887610Z",
     "iopub.status.idle": "2022-10-13T12:27:25.897663Z",
     "shell.execute_reply": "2022-10-13T12:27:25.894181Z"
    },
    "papermill": {
     "duration": 0.063053,
     "end_time": "2022-10-13T12:27:25.902453",
     "exception": false,
     "start_time": "2022-10-13T12:27:25.839400",
     "status": "completed"
    },
    "tags": []
   },
   "outputs": [],
   "source": [
    "# define bbox\n",
    "betsiboka_coords_wgs84 = [46.16, -16.15, 46.51, -15.58]"
   ]
  },
  {
   "cell_type": "code",
   "execution_count": 12,
   "id": "f80d0a28-6337-4225-b12a-9e454a3c22fb",
   "metadata": {
    "execution": {
     "iopub.execute_input": "2022-10-13T12:27:25.937468Z",
     "iopub.status.busy": "2022-10-13T12:27:25.937052Z",
     "iopub.status.idle": "2022-10-13T12:27:25.958119Z",
     "shell.execute_reply": "2022-10-13T12:27:25.955792Z"
    },
    "papermill": {
     "duration": 0.0438,
     "end_time": "2022-10-13T12:27:25.963044",
     "exception": false,
     "start_time": "2022-10-13T12:27:25.919244",
     "status": "completed"
    },
    "tags": []
   },
   "outputs": [
    {
     "name": "stdout",
     "output_type": "stream",
     "text": [
      "Image shape at 60 m resolution: (631, 1047) pixels\n"
     ]
    }
   ],
   "source": [
    "# creating SH bbox object\n",
    "resolution = 60\n",
    "betsiboka_bbox = BBox(bbox=betsiboka_coords_wgs84, crs=CRS.WGS84)\n",
    "betsiboka_size = bbox_to_dimensions(betsiboka_bbox, resolution=resolution)\n",
    "\n",
    "print(f\"Image shape at {resolution} m resolution: {betsiboka_size} pixels\")"
   ]
  },
  {
   "cell_type": "code",
   "execution_count": 13,
   "id": "1736475b-eecd-489c-8fbf-d5c5780a86d1",
   "metadata": {
    "execution": {
     "iopub.execute_input": "2022-10-13T12:27:26.002881Z",
     "iopub.status.busy": "2022-10-13T12:27:26.001065Z",
     "iopub.status.idle": "2022-10-13T12:27:27.284182Z",
     "shell.execute_reply": "2022-10-13T12:27:27.281095Z"
    },
    "papermill": {
     "duration": 1.308912,
     "end_time": "2022-10-13T12:27:27.292103",
     "exception": false,
     "start_time": "2022-10-13T12:27:25.983191",
     "status": "completed"
    },
    "tags": []
   },
   "outputs": [],
   "source": [
    "evalscript_true_color = \"\"\"\n",
    "    //VERSION=3\n",
    "\n",
    "    function setup() {\n",
    "        return {\n",
    "            input: [{\n",
    "                bands: [\"B02\", \"B03\", \"B04\"]\n",
    "            }],\n",
    "            output: {\n",
    "                bands: 3\n",
    "            }\n",
    "        };\n",
    "    }\n",
    "\n",
    "    function evaluatePixel(sample) {\n",
    "        return [sample.B04, sample.B03, sample.B02];\n",
    "    }\n",
    "\"\"\"\n",
    "\n",
    "request_true_color = SentinelHubRequest(\n",
    "    evalscript=evalscript_true_color,\n",
    "    input_data=[\n",
    "        SentinelHubRequest.input_data(\n",
    "            data_collection=DataCollection.SENTINEL2_L1C,\n",
    "            time_interval=(\"2020-06-12\", \"2020-06-13\"),\n",
    "        )\n",
    "    ],\n",
    "    responses=[SentinelHubRequest.output_response(\"default\", MimeType.PNG)],\n",
    "    bbox=betsiboka_bbox, # geometry = geometry\n",
    "    size=betsiboka_size, # not needed for geometry object\n",
    "    config=config,\n",
    ")\n",
    "\n",
    "true_color_imgs = request_true_color.get_data()"
   ]
  },
  {
   "cell_type": "markdown",
   "id": "e95a7d3f-cab0-4740-ac95-5a0828712cc7",
   "metadata": {
    "papermill": {
     "duration": 0.016813,
     "end_time": "2022-10-13T12:27:27.330266",
     "exception": false,
     "start_time": "2022-10-13T12:27:27.313453",
     "status": "completed"
    },
    "tags": []
   },
   "source": [
    "### 2. Accessing Raster Data [(NASA API)](https://nasa-impact.github.io/veda-documentation/)"
   ]
  },
  {
   "cell_type": "markdown",
   "id": "6d106ad6-5dc7-4c5d-9301-d5a977ae7ba1",
   "metadata": {
    "papermill": {
     "duration": 0.015951,
     "end_time": "2022-10-13T12:27:27.368846",
     "exception": false,
     "start_time": "2022-10-13T12:27:27.352895",
     "status": "completed"
    },
    "tags": []
   },
   "source": [
    "The data is accessed using a [STAC endpoint](https://staging-stac.delta-backend.com/docs)."
   ]
  },
  {
   "cell_type": "code",
   "execution_count": 14,
   "id": "a9fe829d-2abf-4e27-a781-ded84b5f8bf7",
   "metadata": {
    "execution": {
     "iopub.execute_input": "2022-10-13T12:27:27.413531Z",
     "iopub.status.busy": "2022-10-13T12:27:27.413100Z",
     "iopub.status.idle": "2022-10-13T12:27:31.564494Z",
     "shell.execute_reply": "2022-10-13T12:27:31.563641Z"
    },
    "papermill": {
     "duration": 4.179832,
     "end_time": "2022-10-13T12:27:31.568033",
     "exception": false,
     "start_time": "2022-10-13T12:27:27.388201",
     "status": "completed"
    },
    "tags": []
   },
   "outputs": [
    {
     "name": "stdout",
     "output_type": "stream",
     "text": [
      "Requirement already satisfied: pystac in /opt/conda/envs/edc-default-2022.10-14/lib/python3.9/site-packages (1.6.1)\r\n",
      "Requirement already satisfied: python-dateutil>=2.7.0 in /opt/conda/envs/edc-default-2022.10-14/lib/python3.9/site-packages (from pystac) (2.8.2)\r\n",
      "Requirement already satisfied: six>=1.5 in /opt/conda/envs/edc-default-2022.10-14/lib/python3.9/site-packages (from python-dateutil>=2.7.0->pystac) (1.16.0)\r\n"
     ]
    }
   ],
   "source": [
    "import sys\n",
    "!{sys.executable} -m pip install pystac"
   ]
  },
  {
   "cell_type": "code",
   "execution_count": 15,
   "id": "6088a136-270d-48bd-a1c7-7469ebea7fde",
   "metadata": {
    "execution": {
     "iopub.execute_input": "2022-10-13T12:27:31.613569Z",
     "iopub.status.busy": "2022-10-13T12:27:31.613195Z",
     "iopub.status.idle": "2022-10-13T12:27:32.333418Z",
     "shell.execute_reply": "2022-10-13T12:27:32.332305Z"
    },
    "papermill": {
     "duration": 0.748153,
     "end_time": "2022-10-13T12:27:32.338639",
     "exception": false,
     "start_time": "2022-10-13T12:27:31.590486",
     "status": "completed"
    },
    "tags": []
   },
   "outputs": [],
   "source": [
    "from pystac import Catalog\n",
    "import concurrent.futures\n",
    "import datetime as dt\n",
    "from ipyleaflet import basemaps, Map, GeoJSON\n",
    "import json\n",
    "import requests as re\n",
    "import matplotlib.pyplot as plt\n",
    "import pprint\n",
    "import time\n",
    "\n",
    "STAC_ENDPOINT_URL = \"https://staging-stac.delta-backend.com\""
   ]
  },
  {
   "cell_type": "code",
   "execution_count": 16,
   "id": "7fd4ad2a-651f-49a8-a811-040238e7e865",
   "metadata": {
    "execution": {
     "iopub.execute_input": "2022-10-13T12:27:32.379807Z",
     "iopub.status.busy": "2022-10-13T12:27:32.379325Z",
     "iopub.status.idle": "2022-10-13T12:27:35.160310Z",
     "shell.execute_reply": "2022-10-13T12:27:35.158662Z"
    },
    "papermill": {
     "duration": 2.805457,
     "end_time": "2022-10-13T12:27:35.163492",
     "exception": false,
     "start_time": "2022-10-13T12:27:32.358035",
     "status": "completed"
    },
    "tags": []
   },
   "outputs": [],
   "source": [
    "stac_api_url = 'https://staging-stac.delta-backend.com/'\n",
    "catalog = Catalog.from_file(stac_api_url)"
   ]
  },
  {
   "cell_type": "markdown",
   "id": "0c2fa293-03b1-4dff-90ad-2c10cae8bf0f",
   "metadata": {
    "papermill": {
     "duration": 0.021505,
     "end_time": "2022-10-13T12:27:35.201509",
     "exception": false,
     "start_time": "2022-10-13T12:27:35.180004",
     "status": "completed"
    },
    "tags": []
   },
   "source": [
    "Below we list the availabe datasets."
   ]
  },
  {
   "cell_type": "code",
   "execution_count": 17,
   "id": "c1ea64b2-77a8-4f63-8cda-0a8b4f9a2735",
   "metadata": {
    "execution": {
     "iopub.execute_input": "2022-10-13T12:27:35.239546Z",
     "iopub.status.busy": "2022-10-13T12:27:35.239171Z",
     "iopub.status.idle": "2022-10-13T12:28:25.303441Z",
     "shell.execute_reply": "2022-10-13T12:28:25.301986Z"
    },
    "papermill": {
     "duration": 50.084057,
     "end_time": "2022-10-13T12:28:25.307761",
     "exception": false,
     "start_time": "2022-10-13T12:27:35.223704",
     "status": "completed"
    },
    "tags": []
   },
   "outputs": [
    {
     "name": "stdout",
     "output_type": "stream",
     "text": [
      "EPA-annual-emissions_6D_Composting\n"
     ]
    },
    {
     "name": "stdout",
     "output_type": "stream",
     "text": [
      "nightlights-500m-daily\n"
     ]
    },
    {
     "name": "stdout",
     "output_type": "stream",
     "text": [
      "IS2SITMOGR4-cog\n"
     ]
    },
    {
     "name": "stdout",
     "output_type": "stream",
     "text": [
      "social-vulnerability-index-household\n"
     ]
    },
    {
     "name": "stdout",
     "output_type": "stream",
     "text": [
      "no2-monthly\n"
     ]
    },
    {
     "name": "stdout",
     "output_type": "stream",
     "text": [
      "no2-monthly-diff\n"
     ]
    },
    {
     "name": "stdout",
     "output_type": "stream",
     "text": [
      "lis-tws-trend\n"
     ]
    },
    {
     "name": "stdout",
     "output_type": "stream",
     "text": [
      "lis-tws-anomaly\n"
     ]
    },
    {
     "name": "stdout",
     "output_type": "stream",
     "text": [
      "social-vulnerability-index-housing\n"
     ]
    },
    {
     "name": "stdout",
     "output_type": "stream",
     "text": [
      "grdi-imr-raster\n"
     ]
    },
    {
     "name": "stdout",
     "output_type": "stream",
     "text": [
      "nceo_africa_2017\n"
     ]
    },
    {
     "name": "stdout",
     "output_type": "stream",
     "text": [
      "hls-l30-002-ej-reprocessed\n"
     ]
    },
    {
     "name": "stdout",
     "output_type": "stream",
     "text": [
      "EPA-annual-emissions_1B2b_Natural_Gas_Processing\n"
     ]
    },
    {
     "name": "stdout",
     "output_type": "stream",
     "text": [
      "EPA-annual-emissions_6B_Wastewater_Treatment_Domestic\n"
     ]
    },
    {
     "name": "stdout",
     "output_type": "stream",
     "text": [
      "EPA-annual-emissions_5_Forest_Fire\n"
     ]
    },
    {
     "name": "stdout",
     "output_type": "stream",
     "text": [
      "EPA-annual-emissions_6B_Wastewater_Treatment_Industrial\n"
     ]
    },
    {
     "name": "stdout",
     "output_type": "stream",
     "text": [
      "EPA-annual-emissions_1B2a_Petroleum\n"
     ]
    },
    {
     "name": "stdout",
     "output_type": "stream",
     "text": [
      "EPA-annual-emissions_1B1a_Coal_Mining_Surface\n"
     ]
    },
    {
     "name": "stdout",
     "output_type": "stream",
     "text": [
      "EPA-annual-emissions_1A_Combustion_Mobile\n"
     ]
    },
    {
     "name": "stdout",
     "output_type": "stream",
     "text": [
      "EPA-annual-emissions_4F_Field_Burning\n"
     ]
    },
    {
     "name": "stdout",
     "output_type": "stream",
     "text": [
      "EPA-annual-emissions_2B5_Petrochemical_Production\n"
     ]
    },
    {
     "name": "stdout",
     "output_type": "stream",
     "text": [
      "EPA-monthly-emissions_1B2b_Natural_Gas_Production\n"
     ]
    },
    {
     "name": "stdout",
     "output_type": "stream",
     "text": [
      "co2-mean\n"
     ]
    },
    {
     "name": "stdout",
     "output_type": "stream",
     "text": [
      "nightlights-hd-monthly\n"
     ]
    },
    {
     "name": "stdout",
     "output_type": "stream",
     "text": [
      "grdi-vnl-raster\n"
     ]
    },
    {
     "name": "stdout",
     "output_type": "stream",
     "text": [
      "social-vulnerability-index-housing-nopop\n"
     ]
    },
    {
     "name": "stdout",
     "output_type": "stream",
     "text": [
      "social-vulnerability-index-household-nopop\n"
     ]
    },
    {
     "name": "stdout",
     "output_type": "stream",
     "text": [
      "social-vulnerability-index-socioeconomic\n"
     ]
    },
    {
     "name": "stdout",
     "output_type": "stream",
     "text": [
      "social-vulnerability-index-socioeconomic-nopop\n"
     ]
    },
    {
     "name": "stdout",
     "output_type": "stream",
     "text": [
      "grdi-filled-missing-values-count\n"
     ]
    },
    {
     "name": "stdout",
     "output_type": "stream",
     "text": [
      "OMI_trno2-COG\n"
     ]
    },
    {
     "name": "stdout",
     "output_type": "stream",
     "text": [
      "social-vulnerability-index-overall\n"
     ]
    },
    {
     "name": "stdout",
     "output_type": "stream",
     "text": [
      "social-vulnerability-index-minority-nopop\n"
     ]
    },
    {
     "name": "stdout",
     "output_type": "stream",
     "text": [
      "grdi-cdr-raster\n"
     ]
    },
    {
     "name": "stdout",
     "output_type": "stream",
     "text": [
      "MO_NPP_npp_vgpm\n"
     ]
    },
    {
     "name": "stdout",
     "output_type": "stream",
     "text": [
      "social-vulnerability-index-overall-nopop\n"
     ]
    },
    {
     "name": "stdout",
     "output_type": "stream",
     "text": [
      "grdi-v1-raster\n"
     ]
    },
    {
     "name": "stdout",
     "output_type": "stream",
     "text": [
      "grdi-shdi-raster\n"
     ]
    },
    {
     "name": "stdout",
     "output_type": "stream",
     "text": [
      "blue-tarp-planetscope\n"
     ]
    },
    {
     "name": "stdout",
     "output_type": "stream",
     "text": [
      "nightlights-hd-1band\n"
     ]
    },
    {
     "name": "stdout",
     "output_type": "stream",
     "text": [
      "social-vulnerability-index-minority\n"
     ]
    },
    {
     "name": "stdout",
     "output_type": "stream",
     "text": [
      "OMSO2PCA-COG\n"
     ]
    },
    {
     "name": "stdout",
     "output_type": "stream",
     "text": [
      "EPA-annual-emissions_1B1a_Coal_Mining_Underground\n"
     ]
    },
    {
     "name": "stdout",
     "output_type": "stream",
     "text": [
      "hls-s30-002-ej-reprocessed\n"
     ]
    },
    {
     "name": "stdout",
     "output_type": "stream",
     "text": [
      "grdi-v1-built\n"
     ]
    },
    {
     "name": "stdout",
     "output_type": "stream",
     "text": [
      "grdi-vnl-slope-raster\n"
     ]
    },
    {
     "name": "stdout",
     "output_type": "stream",
     "text": [
      "facebook_population_density\n"
     ]
    },
    {
     "name": "stdout",
     "output_type": "stream",
     "text": [
      "EPA-annual-emissions_1B1a_Abandoned_Coal\n"
     ]
    },
    {
     "name": "stdout",
     "output_type": "stream",
     "text": [
      "EPA-annual-emissions_4B_Manure_Management\n"
     ]
    },
    {
     "name": "stdout",
     "output_type": "stream",
     "text": [
      "EPA-annual-emissions_1A_Combustion_Stationary\n"
     ]
    },
    {
     "name": "stdout",
     "output_type": "stream",
     "text": [
      "EPA-annual-emissions_1B2b_Natural_Gas_Production\n"
     ]
    },
    {
     "name": "stdout",
     "output_type": "stream",
     "text": [
      "EPA-annual-emissions_6A_Landfills_Industrial\n"
     ]
    },
    {
     "name": "stdout",
     "output_type": "stream",
     "text": [
      "EPA-annual-emissions_2C2_Ferroalloy_Production\n"
     ]
    },
    {
     "name": "stdout",
     "output_type": "stream",
     "text": [
      "EPA-annual-emissions_4A_Enteric_Fermentation\n"
     ]
    },
    {
     "name": "stdout",
     "output_type": "stream",
     "text": [
      "EPA-annual-emissions_6A_Landfills_Municipal\n"
     ]
    },
    {
     "name": "stdout",
     "output_type": "stream",
     "text": [
      "EPA-annual-emissions_1B2b_Natural_Gas_Transmission\n"
     ]
    },
    {
     "name": "stdout",
     "output_type": "stream",
     "text": [
      "EPA-annual-emissions_5_Forest_Fires\n"
     ]
    },
    {
     "name": "stdout",
     "output_type": "stream",
     "text": [
      "EPA-annual-emissions_1B2b_Natural_Gas_Distribution\n"
     ]
    },
    {
     "name": "stdout",
     "output_type": "stream",
     "text": [
      "EPA-annual-emissions_4C_Rice_Cultivation\n"
     ]
    },
    {
     "name": "stdout",
     "output_type": "stream",
     "text": [
      "EPA-daily-emissions_5_Forest_Fires\n"
     ]
    },
    {
     "name": "stdout",
     "output_type": "stream",
     "text": [
      "EPA-monthly-emissions_1A_Combustion_Stationary\n"
     ]
    },
    {
     "name": "stdout",
     "output_type": "stream",
     "text": [
      "EPA-monthly-emissions_4F_Field_Burning\n"
     ]
    },
    {
     "name": "stdout",
     "output_type": "stream",
     "text": [
      "EPA-monthly-emissions_4B_Manure_Management\n"
     ]
    },
    {
     "name": "stdout",
     "output_type": "stream",
     "text": [
      "EPA-monthly-emissions_1B2a_Petroleum\n"
     ]
    },
    {
     "name": "stdout",
     "output_type": "stream",
     "text": [
      "blue-tarp-detection\n"
     ]
    },
    {
     "name": "stdout",
     "output_type": "stream",
     "text": [
      "geoglam\n"
     ]
    },
    {
     "name": "stdout",
     "output_type": "stream",
     "text": [
      "EPA-monthly-emissions_4C_Rice_Cultivation\n"
     ]
    },
    {
     "name": "stdout",
     "output_type": "stream",
     "text": [
      "co2-diff\n"
     ]
    }
   ],
   "source": [
    "for root, subcatalogs, items in catalog.walk():\n",
    "    # subcats represents any catalogs or collections owned by root\n",
    "    for cat in subcatalogs:\n",
    "        print(cat.id)"
   ]
  },
  {
   "cell_type": "markdown",
   "id": "10e8ea1e-cc44-4e86-8858-ff6e1b7231e1",
   "metadata": {
    "papermill": {
     "duration": 0.022786,
     "end_time": "2022-10-13T12:28:25.356991",
     "exception": false,
     "start_time": "2022-10-13T12:28:25.334205",
     "status": "completed"
    },
    "tags": []
   },
   "source": [
    "Select an indicator of interesting and load as a json."
   ]
  },
  {
   "cell_type": "code",
   "execution_count": 18,
   "id": "7cec08fa-dd1a-4009-9350-d4596d29c41c",
   "metadata": {
    "execution": {
     "iopub.execute_input": "2022-10-13T12:28:25.416188Z",
     "iopub.status.busy": "2022-10-13T12:28:25.413423Z",
     "iopub.status.idle": "2022-10-13T12:28:26.168563Z",
     "shell.execute_reply": "2022-10-13T12:28:26.165585Z"
    },
    "papermill": {
     "duration": 0.791448,
     "end_time": "2022-10-13T12:28:26.175160",
     "exception": false,
     "start_time": "2022-10-13T12:28:25.383712",
     "status": "completed"
    },
    "tags": []
   },
   "outputs": [
    {
     "data": {
      "text/plain": [
       "{'id': 'no2-monthly',\n",
       " 'type': 'Collection',\n",
       " 'links': [{'rel': 'items',\n",
       "   'type': 'application/geo+json',\n",
       "   'href': 'https://staging-stac.delta-backend.com/collections/no2-monthly/items'},\n",
       "  {'rel': 'parent',\n",
       "   'type': 'application/json',\n",
       "   'href': 'https://staging-stac.delta-backend.com/'},\n",
       "  {'rel': 'root',\n",
       "   'type': 'application/json',\n",
       "   'href': 'https://staging-stac.delta-backend.com/'},\n",
       "  {'rel': 'self',\n",
       "   'type': 'application/json',\n",
       "   'href': 'https://staging-stac.delta-backend.com/collections/no2-monthly'}],\n",
       " 'title': 'NO₂',\n",
       " 'extent': {'spatial': {'bbox': [[-180, -90, 180, 90]]},\n",
       "  'temporal': {'interval': [['2015-12-31 17:00:00-07',\n",
       "     '2022-04-30 18:00:00-06']]}},\n",
       " 'license': 'MIT',\n",
       " 'summaries': {'datetime': ['2016-01-01T00:00:00Z', '2022-05-01T00:00:00Z'],\n",
       "  'cog_default': {'max': 50064805976866816, 'min': -6618294421291008}},\n",
       " 'description': 'Darker colors indicate higher nitrogen dioxide (NO₂) levels and more activity. Lighter colors indicate lower levels of NO₂ and less activity. Missing pixels indicate areas of no data most likely associated with cloud cover or snow.',\n",
       " 'item_assets': {'cog_default': {'type': 'image/tiff; application=geotiff; profile=cloud-optimized',\n",
       "   'roles': ['data', 'layer'],\n",
       "   'title': 'Default COG Layer',\n",
       "   'description': 'Cloud optimized default layer to display on map'}},\n",
       " 'stac_version': '1.0.0',\n",
       " 'stac_extensions': ['https://stac-extensions.github.io/item-assets/v1.0.0/schema.json'],\n",
       " 'dashboard:is_periodic': True,\n",
       " 'dashboard:time_density': 'month'}"
      ]
     },
     "execution_count": 18,
     "metadata": {},
     "output_type": "execute_result"
    }
   ],
   "source": [
    "re.get(f\"{STAC_ENDPOINT_URL}/collections/no2-monthly\").json()"
   ]
  },
  {
   "cell_type": "markdown",
   "id": "abc88039-e6f4-413d-ba17-fa96f9e395f6",
   "metadata": {
    "papermill": {
     "duration": 0.021238,
     "end_time": "2022-10-13T12:28:26.239488",
     "exception": false,
     "start_time": "2022-10-13T12:28:26.218250",
     "status": "completed"
    },
    "tags": []
   },
   "source": [
    "Find the periodicy of the data."
   ]
  },
  {
   "cell_type": "code",
   "execution_count": 19,
   "id": "1c239079-a873-42d7-9ca5-8aaa4dc33166",
   "metadata": {
    "execution": {
     "iopub.execute_input": "2022-10-13T12:28:26.286608Z",
     "iopub.status.busy": "2022-10-13T12:28:26.286000Z",
     "iopub.status.idle": "2022-10-13T12:28:26.989646Z",
     "shell.execute_reply": "2022-10-13T12:28:26.987363Z"
    },
    "papermill": {
     "duration": 0.733282,
     "end_time": "2022-10-13T12:28:26.993764",
     "exception": false,
     "start_time": "2022-10-13T12:28:26.260482",
     "status": "completed"
    },
    "tags": []
   },
   "outputs": [
    {
     "name": "stdout",
     "output_type": "stream",
     "text": [
      "{'dashboard:is_periodic': True,\n",
      " 'dashboard:time_density': 'month',\n",
      " 'summaries': {'cog_default': {'max': 50064805976866816,\n",
      "                               'min': -6618294421291008},\n",
      "               'datetime': ['2016-01-01T00:00:00Z', '2022-05-01T00:00:00Z']}}\n"
     ]
    }
   ],
   "source": [
    "pprint.pprint({\n",
    "    k:v for k,v in re.get(f\"{STAC_ENDPOINT_URL}/collections/no2-monthly\").json().items()\n",
    "    if k in [\"dashboard:is_periodic\", \"dashboard:time_density\", \"summaries\"]\n",
    "})"
   ]
  },
  {
   "cell_type": "markdown",
   "id": "51342733-4cf1-4ec2-b089-8e77f796f1f2",
   "metadata": {
    "papermill": {
     "duration": 0.025216,
     "end_time": "2022-10-13T12:28:27.049989",
     "exception": false,
     "start_time": "2022-10-13T12:28:27.024773",
     "status": "completed"
    },
    "tags": []
   },
   "source": [
    "Inspect one of the monthly measurments."
   ]
  },
  {
   "cell_type": "code",
   "execution_count": 20,
   "id": "c3e365e7-15ae-4397-8349-061ed3b4d718",
   "metadata": {
    "execution": {
     "iopub.execute_input": "2022-10-13T12:28:27.099243Z",
     "iopub.status.busy": "2022-10-13T12:28:27.098884Z",
     "iopub.status.idle": "2022-10-13T12:28:28.418860Z",
     "shell.execute_reply": "2022-10-13T12:28:28.416154Z"
    },
    "papermill": {
     "duration": 1.355095,
     "end_time": "2022-10-13T12:28:28.424886",
     "exception": false,
     "start_time": "2022-10-13T12:28:27.069791",
     "status": "completed"
    },
    "tags": []
   },
   "outputs": [
    {
     "data": {
      "text/plain": [
       "{'id': 'OMI_trno2_0.10x0.10_202205_Col3_V4.nc',\n",
       " 'bbox': [-180.0, -90.0, 180.0, 90.0],\n",
       " 'type': 'Feature',\n",
       " 'links': [{'rel': 'collection',\n",
       "   'type': 'application/json',\n",
       "   'href': 'https://staging-stac.delta-backend.com/collections/no2-monthly'},\n",
       "  {'rel': 'parent',\n",
       "   'type': 'application/json',\n",
       "   'href': 'https://staging-stac.delta-backend.com/collections/no2-monthly'},\n",
       "  {'rel': 'root',\n",
       "   'type': 'application/json',\n",
       "   'href': 'https://staging-stac.delta-backend.com/'},\n",
       "  {'rel': 'self',\n",
       "   'type': 'application/geo+json',\n",
       "   'href': 'https://staging-stac.delta-backend.com/collections/no2-monthly/items/OMI_trno2_0.10x0.10_202205_Col3_V4.nc'}],\n",
       " 'assets': {'cog_default': {'href': 's3://veda-data-store-staging/no2-monthly/OMI_trno2_0.10x0.10_202205_Col3_V4.nc.tif',\n",
       "   'type': 'image/tiff; application=geotiff; profile=cloud-optimized',\n",
       "   'roles': ['data', 'layer'],\n",
       "   'title': 'Default COG Layer',\n",
       "   'description': 'Cloud optimized default layer to display on map',\n",
       "   'raster:bands': [{'scale': 1.0,\n",
       "     'nodata': -1.2676506002282294e+30,\n",
       "     'offset': 0.0,\n",
       "     'sampling': 'area',\n",
       "     'data_type': 'float32',\n",
       "     'histogram': {'max': 16009167399550976,\n",
       "      'min': -2647376502194176.0,\n",
       "      'count': 11.0,\n",
       "      'buckets': [254.0,\n",
       "       378517.0,\n",
       "       28452.0,\n",
       "       2275.0,\n",
       "       668.0,\n",
       "       196.0,\n",
       "       31.0,\n",
       "       15.0,\n",
       "       5.0,\n",
       "       2.0]},\n",
       "     'statistics': {'mean': 420353736794736.56,\n",
       "      'stddev': 570417159377508.8,\n",
       "      'maximum': 16009167399550976,\n",
       "      'minimum': -2647376502194176.0,\n",
       "      'valid_percent': 78.28044891357422}}]}},\n",
       " 'geometry': {'type': 'Polygon',\n",
       "  'coordinates': [[[-180, -90],\n",
       "    [180, -90],\n",
       "    [180, 90],\n",
       "    [-180, 90],\n",
       "    [-180, -90]]]},\n",
       " 'collection': 'no2-monthly',\n",
       " 'properties': {'proj:bbox': [-180.0, -90.0, 180.0, 90.0],\n",
       "  'proj:epsg': 4326.0,\n",
       "  'proj:shape': [1800.0, 3600.0],\n",
       "  'end_datetime': '2022-05-31T00:00:00',\n",
       "  'proj:geometry': {'type': 'Polygon',\n",
       "   'coordinates': [[[-180.0, -90.0],\n",
       "     [180.0, -90.0],\n",
       "     [180.0, 90.0],\n",
       "     [-180.0, 90.0],\n",
       "     [-180.0, -90.0]]]},\n",
       "  'proj:transform': [0.1, 0.0, -180.0, 0.0, -0.1, 90.0, 0.0, 0.0, 1.0],\n",
       "  'start_datetime': '2022-05-01T00:00:00'},\n",
       " 'stac_version': '1.0.0',\n",
       " 'stac_extensions': ['https://stac-extensions.github.io/projection/v1.0.0/schema.json',\n",
       "  'https://stac-extensions.github.io/raster/v1.1.0/schema.json']}"
      ]
     },
     "execution_count": 20,
     "metadata": {},
     "output_type": "execute_result"
    }
   ],
   "source": [
    "items = re.get(f\"{STAC_ENDPOINT_URL}/collections/no2-monthly/items?limit=100\").json()[\"features\"]\n",
    "items[0]"
   ]
  }
 ],
 "metadata": {
  "kernelspec": {
   "display_name": "python3 (edc-default-2022.07-00)",
   "language": "python",
   "name": "conda-env-edc-default-2022.07-00-py"
  },
  "language_info": {
   "codemirror_mode": {
    "name": "ipython",
    "version": 3
   },
   "file_extension": ".py",
   "mimetype": "text/x-python",
   "name": "python",
   "nbconvert_exporter": "python",
   "pygments_lexer": "ipython3",
   "version": "3.9.13"
  },
  "papermill": {
   "default_parameters": {},
   "duration": 70.919801,
   "end_time": "2022-10-13T12:28:29.107331",
   "environment_variables": {},
   "exception": null,
   "input_path": "/tmp/tmp9ciaefvu",
   "output_path": "/tmp/cur_notebook.ipynb",
   "parameters": {},
   "start_time": "2022-10-13T12:27:18.187530",
   "version": "2.3.4"
  },
  "properties": {
   "authors": [
    {
     "id": "edfb9926-6c9d-4be2-a6f0-aaef93b2a038",
     "name": "Tristan.Williams@esa.int"
    }
   ],
   "description": "IGARSS-22 workshop tutorial",
   "id": "116a6935-723d-4672-ba70-1febc5e66c4c",
   "license": null,
   "name": "Data Access",
   "requirements": [
    "eurodatacube-geodb",
    "eurodatacube"
   ],
   "tags": [
    "IGARSS-22",
    "EO Dashboard"
   ],
   "tosAgree": true,
   "type": "Jupyter Notebook",
   "version": "1.0"
  }
 },
 "nbformat": 4,
 "nbformat_minor": 5
}
