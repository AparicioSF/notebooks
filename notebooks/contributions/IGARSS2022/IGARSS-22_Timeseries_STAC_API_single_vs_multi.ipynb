{
 "cells": [
  {
   "cell_type": "code",
   "execution_count": 1,
   "id": "b13a19b0-93e0-4c8a-95e1-629a83b05cd0",
   "metadata": {
    "execution": {
     "iopub.execute_input": "2022-10-13T12:37:35.932961Z",
     "iopub.status.busy": "2022-10-13T12:37:35.932405Z",
     "iopub.status.idle": "2022-10-13T12:37:36.032400Z",
     "shell.execute_reply": "2022-10-13T12:37:36.030437Z"
    },
    "papermill": {
     "duration": 0.11551,
     "end_time": "2022-10-13T12:37:36.036394",
     "exception": false,
     "start_time": "2022-10-13T12:37:35.920884",
     "status": "completed"
    },
    "tags": []
   },
   "outputs": [
    {
     "data": {
      "text/html": [
       "<script type=\"text/javascript\">\n",
       "        function toggle(id) {\n",
       "            el = document.getElementById(id);\n",
       "            el.style.display = el.style.display === \"none\" ? \"block\" : \"none\";\n",
       "        }\n",
       "    </script>"
      ],
      "text/plain": [
       "<IPython.core.display.HTML object>"
      ]
     },
     "metadata": {},
     "output_type": "display_data"
    },
    {
     "data": {
      "text/html": [
       "This notebook is compatible with this base image version (user-2022.10-14)."
      ],
      "text/plain": [
       "<IPython.core.display.HTML object>"
      ]
     },
     "metadata": {},
     "output_type": "display_data"
    }
   ],
   "source": [
    "from eoxhub import check_compatibility\n",
    "check_compatibility(\"user-2022.10-14\", dependencies=[])"
   ]
  },
  {
   "cell_type": "markdown",
   "id": "eb4fb6e5",
   "metadata": {
    "papermill": {
     "duration": 0.00821,
     "end_time": "2022-10-13T12:37:36.053655",
     "exception": false,
     "start_time": "2022-10-13T12:37:36.045445",
     "status": "completed"
    },
    "tags": []
   },
   "source": [
    "# Time series using STAC API statistics endpoints\n",
    "\n",
    "This notebook demonstrates how to generate a timeseries using STAC API statistics endpoints.\n",
    "\n",
    "* Author: Leo Thomas\n",
    "* Lasted Updated Date: July 13, 2022"
   ]
  },
  {
   "cell_type": "code",
   "execution_count": 2,
   "id": "a21597e1",
   "metadata": {
    "execution": {
     "iopub.execute_input": "2022-10-13T12:37:36.076981Z",
     "iopub.status.busy": "2022-10-13T12:37:36.075805Z",
     "iopub.status.idle": "2022-10-13T12:37:37.411332Z",
     "shell.execute_reply": "2022-10-13T12:37:37.410089Z"
    },
    "papermill": {
     "duration": 1.349072,
     "end_time": "2022-10-13T12:37:37.414076",
     "exception": false,
     "start_time": "2022-10-13T12:37:36.065004",
     "status": "completed"
    },
    "tags": []
   },
   "outputs": [],
   "source": [
    "import datetime as dt\n",
    "from ipyleaflet import basemaps, Map, GeoJSON\n",
    "import json\n",
    "import requests as re\n",
    "import matplotlib.pyplot as plt\n",
    "import pprint\n",
    "import time\n",
    "\n",
    "STAC_API_URL = \"https://staging-stac.delta-backend.com\"\n",
    "RASTER_API_URL = \"https://staging-raster.delta-backend.com\""
   ]
  },
  {
   "cell_type": "markdown",
   "id": "e586af7a",
   "metadata": {
    "papermill": {
     "duration": 0.008817,
     "end_time": "2022-10-13T12:37:37.431148",
     "exception": false,
     "start_time": "2022-10-13T12:37:37.422331",
     "status": "completed"
    },
    "tags": []
   },
   "source": [
    "# Declare your collection of interest\n",
    "\n",
    "You can discover available collections the following ways:\n",
    "\n",
    "* Use the `{STAC_ENDPOINT_URL}/collections` API endpoint (JSON response)\n",
    "* Programmatically using `pystac` (see example in the `list-collections.ipynb` notebook\n",
    "* In the STAC Browser: http://delta-staging-stac-browser.s3-website-us-east-1.amazonaws.com/\n"
   ]
  },
  {
   "cell_type": "code",
   "execution_count": 3,
   "id": "b811b704",
   "metadata": {
    "execution": {
     "iopub.execute_input": "2022-10-13T12:37:37.449149Z",
     "iopub.status.busy": "2022-10-13T12:37:37.447569Z",
     "iopub.status.idle": "2022-10-13T12:37:37.465977Z",
     "shell.execute_reply": "2022-10-13T12:37:37.463867Z"
    },
    "papermill": {
     "duration": 0.030333,
     "end_time": "2022-10-13T12:37:37.469117",
     "exception": false,
     "start_time": "2022-10-13T12:37:37.438784",
     "status": "completed"
    },
    "tags": []
   },
   "outputs": [],
   "source": [
    "collection = 'no2-monthly'"
   ]
  },
  {
   "cell_type": "markdown",
   "id": "924655ba",
   "metadata": {
    "papermill": {
     "duration": 0.007718,
     "end_time": "2022-10-13T12:37:37.484892",
     "exception": false,
     "start_time": "2022-10-13T12:37:37.477174",
     "status": "completed"
    },
    "tags": []
   },
   "source": [
    "## Discover data using the STAC endpoint"
   ]
  },
  {
   "cell_type": "code",
   "execution_count": 4,
   "id": "b53ee50a",
   "metadata": {
    "execution": {
     "iopub.execute_input": "2022-10-13T12:37:37.503278Z",
     "iopub.status.busy": "2022-10-13T12:37:37.502930Z",
     "iopub.status.idle": "2022-10-13T12:37:38.226444Z",
     "shell.execute_reply": "2022-10-13T12:37:38.224956Z"
    },
    "papermill": {
     "duration": 0.735386,
     "end_time": "2022-10-13T12:37:38.228935",
     "exception": false,
     "start_time": "2022-10-13T12:37:37.493549",
     "status": "completed"
    },
    "tags": []
   },
   "outputs": [
    {
     "data": {
      "text/plain": [
       "{'id': 'no2-monthly',\n",
       " 'type': 'Collection',\n",
       " 'links': [{'rel': 'items',\n",
       "   'type': 'application/geo+json',\n",
       "   'href': 'https://staging-stac.delta-backend.com/collections/no2-monthly/items'},\n",
       "  {'rel': 'parent',\n",
       "   'type': 'application/json',\n",
       "   'href': 'https://staging-stac.delta-backend.com/'},\n",
       "  {'rel': 'root',\n",
       "   'type': 'application/json',\n",
       "   'href': 'https://staging-stac.delta-backend.com/'},\n",
       "  {'rel': 'self',\n",
       "   'type': 'application/json',\n",
       "   'href': 'https://staging-stac.delta-backend.com/collections/no2-monthly'}],\n",
       " 'title': 'NO₂',\n",
       " 'extent': {'spatial': {'bbox': [[-180, -90, 180, 90]]},\n",
       "  'temporal': {'interval': [['2015-12-31 17:00:00-07',\n",
       "     '2022-04-30 18:00:00-06']]}},\n",
       " 'license': 'MIT',\n",
       " 'summaries': {'datetime': ['2016-01-01T00:00:00Z', '2022-05-01T00:00:00Z'],\n",
       "  'cog_default': {'max': 50064805976866816, 'min': -6618294421291008}},\n",
       " 'description': 'Darker colors indicate higher nitrogen dioxide (NO₂) levels and more activity. Lighter colors indicate lower levels of NO₂ and less activity. Missing pixels indicate areas of no data most likely associated with cloud cover or snow.',\n",
       " 'item_assets': {'cog_default': {'type': 'image/tiff; application=geotiff; profile=cloud-optimized',\n",
       "   'roles': ['data', 'layer'],\n",
       "   'title': 'Default COG Layer',\n",
       "   'description': 'Cloud optimized default layer to display on map'}},\n",
       " 'stac_version': '1.0.0',\n",
       " 'stac_extensions': ['https://stac-extensions.github.io/item-assets/v1.0.0/schema.json'],\n",
       " 'dashboard:is_periodic': True,\n",
       " 'dashboard:time_density': 'month'}"
      ]
     },
     "execution_count": 4,
     "metadata": {},
     "output_type": "execute_result"
    }
   ],
   "source": [
    "re.get(f\"{STAC_API_URL}/collections/{collection}\").json()"
   ]
  },
  {
   "cell_type": "markdown",
   "id": "ea8ac8a9",
   "metadata": {
    "papermill": {
     "duration": 0.008326,
     "end_time": "2022-10-13T12:37:38.244847",
     "exception": false,
     "start_time": "2022-10-13T12:37:38.236521",
     "status": "completed"
    },
    "tags": []
   },
   "source": [
    "## Describe the periodic nature of the data"
   ]
  },
  {
   "cell_type": "code",
   "execution_count": 5,
   "id": "1cb72339",
   "metadata": {
    "execution": {
     "iopub.execute_input": "2022-10-13T12:37:38.264742Z",
     "iopub.status.busy": "2022-10-13T12:37:38.264059Z",
     "iopub.status.idle": "2022-10-13T12:37:38.962128Z",
     "shell.execute_reply": "2022-10-13T12:37:38.961004Z"
    },
    "papermill": {
     "duration": 0.710057,
     "end_time": "2022-10-13T12:37:38.964543",
     "exception": false,
     "start_time": "2022-10-13T12:37:38.254486",
     "status": "completed"
    },
    "scrolled": true,
    "tags": []
   },
   "outputs": [
    {
     "name": "stdout",
     "output_type": "stream",
     "text": [
      "{'dashboard:is_periodic': True,\n",
      " 'dashboard:time_density': 'month',\n",
      " 'summaries': {'cog_default': {'max': 50064805976866816,\n",
      "                               'min': -6618294421291008},\n",
      "               'datetime': ['2016-01-01T00:00:00Z', '2022-05-01T00:00:00Z']}}\n"
     ]
    }
   ],
   "source": [
    "pprint.pprint({\n",
    "    k:v for k,v in re.get(f\"{STAC_API_URL}/collections/no2-monthly\").json().items()\n",
    "    if k in [\"dashboard:is_periodic\", \"dashboard:time_density\", \"summaries\"]\n",
    "})"
   ]
  },
  {
   "cell_type": "markdown",
   "id": "e1744bcd",
   "metadata": {
    "papermill": {
     "duration": 0.007789,
     "end_time": "2022-10-13T12:37:38.980285",
     "exception": false,
     "start_time": "2022-10-13T12:37:38.972496",
     "status": "completed"
    },
    "tags": []
   },
   "source": [
    "## Load and inspect one of the STAC items\n",
    "\n",
    "This step is just for demonstration, to inspect what an item looks like."
   ]
  },
  {
   "cell_type": "code",
   "execution_count": 6,
   "id": "a1554809",
   "metadata": {
    "execution": {
     "iopub.execute_input": "2022-10-13T12:37:38.999538Z",
     "iopub.status.busy": "2022-10-13T12:37:38.999223Z",
     "iopub.status.idle": "2022-10-13T12:37:40.190782Z",
     "shell.execute_reply": "2022-10-13T12:37:40.189020Z"
    },
    "papermill": {
     "duration": 1.203401,
     "end_time": "2022-10-13T12:37:40.193537",
     "exception": false,
     "start_time": "2022-10-13T12:37:38.990136",
     "status": "completed"
    },
    "tags": []
   },
   "outputs": [
    {
     "data": {
      "text/plain": [
       "{'id': 'OMI_trno2_0.10x0.10_202205_Col3_V4.nc',\n",
       " 'bbox': [-180.0, -90.0, 180.0, 90.0],\n",
       " 'type': 'Feature',\n",
       " 'links': [{'rel': 'collection',\n",
       "   'type': 'application/json',\n",
       "   'href': 'https://staging-stac.delta-backend.com/collections/no2-monthly'},\n",
       "  {'rel': 'parent',\n",
       "   'type': 'application/json',\n",
       "   'href': 'https://staging-stac.delta-backend.com/collections/no2-monthly'},\n",
       "  {'rel': 'root',\n",
       "   'type': 'application/json',\n",
       "   'href': 'https://staging-stac.delta-backend.com/'},\n",
       "  {'rel': 'self',\n",
       "   'type': 'application/geo+json',\n",
       "   'href': 'https://staging-stac.delta-backend.com/collections/no2-monthly/items/OMI_trno2_0.10x0.10_202205_Col3_V4.nc'}],\n",
       " 'assets': {'cog_default': {'href': 's3://veda-data-store-staging/no2-monthly/OMI_trno2_0.10x0.10_202205_Col3_V4.nc.tif',\n",
       "   'type': 'image/tiff; application=geotiff; profile=cloud-optimized',\n",
       "   'roles': ['data', 'layer'],\n",
       "   'title': 'Default COG Layer',\n",
       "   'description': 'Cloud optimized default layer to display on map',\n",
       "   'raster:bands': [{'scale': 1.0,\n",
       "     'nodata': -1.2676506002282294e+30,\n",
       "     'offset': 0.0,\n",
       "     'sampling': 'area',\n",
       "     'data_type': 'float32',\n",
       "     'histogram': {'max': 16009167399550976,\n",
       "      'min': -2647376502194176.0,\n",
       "      'count': 11.0,\n",
       "      'buckets': [254.0,\n",
       "       378517.0,\n",
       "       28452.0,\n",
       "       2275.0,\n",
       "       668.0,\n",
       "       196.0,\n",
       "       31.0,\n",
       "       15.0,\n",
       "       5.0,\n",
       "       2.0]},\n",
       "     'statistics': {'mean': 420353736794736.56,\n",
       "      'stddev': 570417159377508.8,\n",
       "      'maximum': 16009167399550976,\n",
       "      'minimum': -2647376502194176.0,\n",
       "      'valid_percent': 78.28044891357422}}]}},\n",
       " 'geometry': {'type': 'Polygon',\n",
       "  'coordinates': [[[-180, -90],\n",
       "    [180, -90],\n",
       "    [180, 90],\n",
       "    [-180, 90],\n",
       "    [-180, -90]]]},\n",
       " 'collection': 'no2-monthly',\n",
       " 'properties': {'proj:bbox': [-180.0, -90.0, 180.0, 90.0],\n",
       "  'proj:epsg': 4326.0,\n",
       "  'proj:shape': [1800.0, 3600.0],\n",
       "  'end_datetime': '2022-05-31T00:00:00',\n",
       "  'proj:geometry': {'type': 'Polygon',\n",
       "   'coordinates': [[[-180.0, -90.0],\n",
       "     [180.0, -90.0],\n",
       "     [180.0, 90.0],\n",
       "     [-180.0, 90.0],\n",
       "     [-180.0, -90.0]]]},\n",
       "  'proj:transform': [0.1, 0.0, -180.0, 0.0, -0.1, 90.0, 0.0, 0.0, 1.0],\n",
       "  'start_datetime': '2022-05-01T00:00:00'},\n",
       " 'stac_version': '1.0.0',\n",
       " 'stac_extensions': ['https://stac-extensions.github.io/projection/v1.0.0/schema.json',\n",
       "  'https://stac-extensions.github.io/raster/v1.1.0/schema.json']}"
      ]
     },
     "execution_count": 6,
     "metadata": {},
     "output_type": "execute_result"
    }
   ],
   "source": [
    "items = re.get(f\"{STAC_API_URL}/collections/{collection}/items?limit=100\").json()[\"features\"]\n",
    "items[0]"
   ]
  },
  {
   "cell_type": "markdown",
   "id": "b95b2001",
   "metadata": {
    "papermill": {
     "duration": 0.010375,
     "end_time": "2022-10-13T12:37:40.213576",
     "exception": false,
     "start_time": "2022-10-13T12:37:40.203201",
     "status": "completed"
    },
    "tags": []
   },
   "source": [
    "## Define a bounding box\n",
    "\n",
    "We've defined a bounding box for France in this case."
   ]
  },
  {
   "cell_type": "code",
   "execution_count": 7,
   "id": "e60f264c",
   "metadata": {
    "execution": {
     "iopub.execute_input": "2022-10-13T12:37:40.235594Z",
     "iopub.status.busy": "2022-10-13T12:37:40.235226Z",
     "iopub.status.idle": "2022-10-13T12:37:40.249955Z",
     "shell.execute_reply": "2022-10-13T12:37:40.248933Z"
    },
    "papermill": {
     "duration": 0.028481,
     "end_time": "2022-10-13T12:37:40.253312",
     "exception": false,
     "start_time": "2022-10-13T12:37:40.224831",
     "status": "completed"
    },
    "tags": []
   },
   "outputs": [],
   "source": [
    "bounding_box_france = { \n",
    "    \"type\": \"Feature\",\n",
    "    \"properties\": {},\n",
    "    \"geometry\": {\n",
    "        \"type\": \"Polygon\",\n",
    "        \"coordinates\": [[\n",
    "            [\n",
    "              -5.4534286,\n",
    "              41.2632185\n",
    "            ],\n",
    "            [\n",
    "              9.8678344,\n",
    "              41.2632185\n",
    "            ],\n",
    "            [\n",
    "              9.8678344,\n",
    "              51.268318\n",
    "            ],\n",
    "            [\n",
    "              -5.4534286,\n",
    "              51.268318\n",
    "            ],\n",
    "            [\n",
    "              -5.4534286,\n",
    "              41.2632185\n",
    "            ]\n",
    "        ]]\n",
    "    }\n",
    "}\n",
    "\n"
   ]
  },
  {
   "cell_type": "markdown",
   "id": "e287ce5b",
   "metadata": {
    "papermill": {
     "duration": 0.009687,
     "end_time": "2022-10-13T12:37:40.275092",
     "exception": false,
     "start_time": "2022-10-13T12:37:40.265405",
     "status": "completed"
    },
    "tags": []
   },
   "source": [
    "## Map the bounding box\n",
    "\n",
    "This step is for visual inspection of the bounding box."
   ]
  },
  {
   "cell_type": "code",
   "execution_count": 8,
   "id": "c7586f0d",
   "metadata": {
    "execution": {
     "iopub.execute_input": "2022-10-13T12:37:40.299096Z",
     "iopub.status.busy": "2022-10-13T12:37:40.298241Z",
     "iopub.status.idle": "2022-10-13T12:37:40.348062Z",
     "shell.execute_reply": "2022-10-13T12:37:40.346774Z"
    },
    "papermill": {
     "duration": 0.080042,
     "end_time": "2022-10-13T12:37:40.367760",
     "exception": false,
     "start_time": "2022-10-13T12:37:40.287718",
     "status": "completed"
    },
    "tags": []
   },
   "outputs": [
    {
     "data": {
      "application/vnd.jupyter.widget-view+json": {
       "model_id": "83f61342cce9428496e0b2c6ba48f660",
       "version_major": 2,
       "version_minor": 0
      },
      "text/plain": [
       "Map(center=[47, 4], controls=(ZoomControl(options=['position', 'zoom_in_text', 'zoom_in_title', 'zoom_out_text…"
      ]
     },
     "execution_count": 8,
     "metadata": {},
     "output_type": "execute_result"
    }
   ],
   "source": [
    "m = Map(\n",
    "    basemap=basemaps.OpenStreetMap.Mapnik,\n",
    "    center=(47,4),\n",
    "    zoom=3\n",
    ")\n",
    "geo = GeoJSON(\n",
    "    data=bounding_box_france,\n",
    "    style={\"color\": \"red\", \"fillOpacity\": 0}\n",
    ")\n",
    "m.add_layer(geo)\n",
    "m"
   ]
  },
  {
   "cell_type": "markdown",
   "id": "b72be43c",
   "metadata": {
    "papermill": {
     "duration": 0.008261,
     "end_time": "2022-10-13T12:37:40.399259",
     "exception": false,
     "start_time": "2022-10-13T12:37:40.390998",
     "status": "completed"
    },
    "tags": []
   },
   "source": [
    "## Use `/cog/statistics` to get data for the bounding box\n",
    "\n",
    "First, we create a `generate_stats` function and then we call it with the bounding box defined for France."
   ]
  },
  {
   "cell_type": "code",
   "execution_count": 9,
   "id": "4ba40c1a",
   "metadata": {
    "execution": {
     "iopub.execute_input": "2022-10-13T12:37:40.442972Z",
     "iopub.status.busy": "2022-10-13T12:37:40.442111Z",
     "iopub.status.idle": "2022-10-13T12:37:40.449944Z",
     "shell.execute_reply": "2022-10-13T12:37:40.448022Z"
    },
    "papermill": {
     "duration": 0.03209,
     "end_time": "2022-10-13T12:37:40.452848",
     "exception": false,
     "start_time": "2022-10-13T12:37:40.420758",
     "status": "completed"
    },
    "tags": []
   },
   "outputs": [],
   "source": [
    "def generate_stats(item, bounding_box):\n",
    "    result = re.post(\n",
    "        f\"{RASTER_API_URL}/cog/statistics\", \n",
    "        params={\n",
    "            \"url\":item[\"assets\"][\"cog_default\"][\"href\"]\n",
    "        },\n",
    "        json=bounding_box\n",
    "    ).json()    \n",
    "    return {\n",
    "        **result[\"properties\"], \"start_datetime\":item[\"properties\"][\"start_datetime\"]\n",
    "    }\n",
    "   "
   ]
  },
  {
   "cell_type": "markdown",
   "id": "69e112b7",
   "metadata": {
    "papermill": {
     "duration": 0.012717,
     "end_time": "2022-10-13T12:37:40.475653",
     "exception": false,
     "start_time": "2022-10-13T12:37:40.462936",
     "status": "completed"
    },
    "tags": []
   },
   "source": [
    "## Generate and estimate time to generate statistics\n",
    "\n",
    "This may take a minute, depending on the network."
   ]
  },
  {
   "cell_type": "code",
   "execution_count": 10,
   "id": "4f859305",
   "metadata": {
    "execution": {
     "iopub.execute_input": "2022-10-13T12:37:40.516216Z",
     "iopub.status.busy": "2022-10-13T12:37:40.515822Z",
     "iopub.status.idle": "2022-10-13T12:39:02.048454Z",
     "shell.execute_reply": "2022-10-13T12:39:02.047444Z"
    },
    "papermill": {
     "duration": 81.563858,
     "end_time": "2022-10-13T12:39:02.059961",
     "exception": false,
     "start_time": "2022-10-13T12:37:40.496103",
     "status": "completed"
    },
    "scrolled": true,
    "tags": []
   },
   "outputs": [
    {
     "name": "stdout",
     "output_type": "stream",
     "text": [
      "Elapsed time for small bounding box (france): 81.53 seconds. Items queried: 77\n"
     ]
    }
   ],
   "source": [
    "start = time.time()\n",
    "stats = [generate_stats(item, bounding_box_france) for item in items]\n",
    "end = time.time()\n",
    "print(f\"Elapsed time for small bounding box (france): {round(end-start,2)} seconds. Items queried: {len(items)}\")"
   ]
  },
  {
   "cell_type": "markdown",
   "id": "83a4e608",
   "metadata": {
    "papermill": {
     "duration": 0.010309,
     "end_time": "2022-10-13T12:39:02.081058",
     "exception": false,
     "start_time": "2022-10-13T12:39:02.070749",
     "status": "completed"
    },
    "tags": []
   },
   "source": [
    "## Inspect one result"
   ]
  },
  {
   "cell_type": "code",
   "execution_count": 11,
   "id": "5340a615",
   "metadata": {
    "execution": {
     "iopub.execute_input": "2022-10-13T12:39:02.103547Z",
     "iopub.status.busy": "2022-10-13T12:39:02.103092Z",
     "iopub.status.idle": "2022-10-13T12:39:02.116628Z",
     "shell.execute_reply": "2022-10-13T12:39:02.114405Z"
    },
    "papermill": {
     "duration": 0.032772,
     "end_time": "2022-10-13T12:39:02.122696",
     "exception": false,
     "start_time": "2022-10-13T12:39:02.089924",
     "status": "completed"
    },
    "tags": []
   },
   "outputs": [
    {
     "data": {
      "text/plain": [
       "{'statistics': {'1': {'min': -1686681841303552.0,\n",
       "   'max': 8037704876949504.0,\n",
       "   'mean': 1719699112594799.0,\n",
       "   'count': 15200.0,\n",
       "   'sum': 2.6139426511440945e+19,\n",
       "   'std': 1311942344229939.8,\n",
       "   'median': 1358823029735424.0,\n",
       "   'majority': 537238232367104.0,\n",
       "   'minority': -1686681841303552.0,\n",
       "   'unique': 15194.0,\n",
       "   'histogram': [[7.0,\n",
       "     568.0,\n",
       "     6212.0,\n",
       "     4554.0,\n",
       "     2093.0,\n",
       "     819.0,\n",
       "     437.0,\n",
       "     271.0,\n",
       "     182.0,\n",
       "     57.0],\n",
       "    [-1686681841303552.0,\n",
       "     -714243169478246.4,\n",
       "     258195502347059.25,\n",
       "     1230634174172365.0,\n",
       "     2203072845997670.5,\n",
       "     3175511517822976.0,\n",
       "     4147950189648282.0,\n",
       "     5120388861473587.0,\n",
       "     6092827533298893.0,\n",
       "     7065266205124199.0,\n",
       "     8037704876949504.0]],\n",
       "   'valid_percent': 99.35,\n",
       "   'masked_pixels': 100.0,\n",
       "   'valid_pixels': 15200.0,\n",
       "   'percentile_98': 5865060032776768.0,\n",
       "   'percentile_2': 116917669524930.58}},\n",
       " 'start_datetime': '2022-04-01T00:00:00'}"
      ]
     },
     "execution_count": 11,
     "metadata": {},
     "output_type": "execute_result"
    }
   ],
   "source": [
    "stats[1]"
   ]
  },
  {
   "cell_type": "code",
   "execution_count": 12,
   "id": "85641f5f",
   "metadata": {
    "execution": {
     "iopub.execute_input": "2022-10-13T12:39:02.150885Z",
     "iopub.status.busy": "2022-10-13T12:39:02.150442Z",
     "iopub.status.idle": "2022-10-13T12:39:02.163489Z",
     "shell.execute_reply": "2022-10-13T12:39:02.161978Z"
    },
    "papermill": {
     "duration": 0.030879,
     "end_time": "2022-10-13T12:39:02.165999",
     "exception": false,
     "start_time": "2022-10-13T12:39:02.135120",
     "status": "completed"
    },
    "tags": []
   },
   "outputs": [],
   "source": [
    "dates = [dt.datetime.strptime(stat[\"start_datetime\"], \"%Y-%m-%dT%H:%M:%S\") for stat in stats]\n",
    "means = [stat[\"statistics\"][\"1\"][\"mean\"] for stat in stats]\n",
    "std_devs = [stat[\"statistics\"][\"1\"][\"std\"] for stat in stats]\n",
    "upper_bounds = [m+s for (m,s) in zip(means, std_devs)]\n",
    "lower_bounds = [m-s for (m,s) in zip(means, std_devs)]"
   ]
  },
  {
   "cell_type": "code",
   "execution_count": 13,
   "id": "e45a4ee7",
   "metadata": {
    "execution": {
     "iopub.execute_input": "2022-10-13T12:39:02.190204Z",
     "iopub.status.busy": "2022-10-13T12:39:02.188910Z",
     "iopub.status.idle": "2022-10-13T12:39:02.847689Z",
     "shell.execute_reply": "2022-10-13T12:39:02.845911Z"
    },
    "papermill": {
     "duration": 0.674311,
     "end_time": "2022-10-13T12:39:02.851119",
     "exception": false,
     "start_time": "2022-10-13T12:39:02.176808",
     "status": "completed"
    },
    "tags": []
   },
   "outputs": [
    {
     "data": {
      "text/plain": [
       "Text(0.5, 1.0, 'NO2 Values in France (2016-2022)')"
      ]
     },
     "execution_count": 13,
     "metadata": {},
     "output_type": "execute_result"
    },
    {
     "data": {
      "image/png": "[encoded data removed]",
      "text/plain": [
       "<Figure size 2000x1000 with 1 Axes>"
      ]
     },
     "metadata": {},
     "output_type": "display_data"
    }
   ],
   "source": [
    "fig = plt.figure(figsize=(20,10))\n",
    "plt.plot(dates, means, 'black', label=\"Mean monthly NO2 values\")\n",
    "\n",
    "plt.fill_between(dates, upper_bounds, lower_bounds, facecolor=\"lightgray\", interpolate=False, label=\"+/- one standard devation\")\n",
    "plt.legend()\n",
    "plt.title(\"NO2 Values in France (2016-2022)\")"
   ]
  },
  {
   "cell_type": "markdown",
   "id": "61a4e527",
   "metadata": {
    "papermill": {
     "duration": 0.013436,
     "end_time": "2022-10-13T12:39:02.880412",
     "exception": false,
     "start_time": "2022-10-13T12:39:02.866976",
     "status": "completed"
    },
    "tags": []
   },
   "source": [
    "### Comparison: multi vs single threaded approach\n",
    "\n",
    "Earlier we requested the statistics from the NASA API for each timestep individually. The API is powered by [AWS Lambda](https://aws.amazon.com/lambda/), which is **highly** scalable. Since each statistics request is for a single timestamp, we can request statistics for multiple timesteps concurrently. We will do this by using the `concurrent.futures` library: "
   ]
  },
  {
   "cell_type": "code",
   "execution_count": 14,
   "id": "d59d40ca",
   "metadata": {
    "execution": {
     "iopub.execute_input": "2022-10-13T12:39:02.907285Z",
     "iopub.status.busy": "2022-10-13T12:39:02.906700Z",
     "iopub.status.idle": "2022-10-13T12:39:11.039480Z",
     "shell.execute_reply": "2022-10-13T12:39:11.038406Z"
    },
    "papermill": {
     "duration": 8.150491,
     "end_time": "2022-10-13T12:39:11.042497",
     "exception": false,
     "start_time": "2022-10-13T12:39:02.892006",
     "status": "completed"
    },
    "tags": []
   },
   "outputs": [
    {
     "name": "stdout",
     "output_type": "stream",
     "text": [
      "Elapsed time for small bounding box (france) with multi-threading: 8.13 seconds. Items queried: 77\n"
     ]
    }
   ],
   "source": [
    "from concurrent.futures import ThreadPoolExecutor \n",
    "\n",
    "def _generate_stats(item):\n",
    "    return generate_stats(item, bounding_box_france)\n",
    "\n",
    "start = time.time()\n",
    "with ThreadPoolExecutor(max_workers=10) as executor: \n",
    "    stats = list(executor.map(_generate_stats, items))\n",
    "end = time.time()\n",
    "print(f\"Elapsed time for small bounding box (france) with multi-threading: {round(end-start,2)} seconds. Items queried: {len(items)}\")"
   ]
  }
 ],
 "metadata": {
  "kernelspec": {
   "display_name": "python3 (edc-default-2022.07-00)",
   "language": "python",
   "name": "conda-env-edc-default-2022.07-00-py"
  },
  "language_info": {
   "codemirror_mode": {
    "name": "ipython",
    "version": 3
   },
   "file_extension": ".py",
   "mimetype": "text/x-python",
   "name": "python",
   "nbconvert_exporter": "python",
   "pygments_lexer": "ipython3",
   "version": "3.9.13"
  },
  "papermill": {
   "default_parameters": {},
   "duration": 96.867067,
   "end_time": "2022-10-13T12:39:11.475621",
   "environment_variables": {},
   "exception": null,
   "input_path": "/tmp/tmpfzh876i9",
   "output_path": "/tmp/cur_notebook.ipynb",
   "parameters": {},
   "start_time": "2022-10-13T12:37:34.608554",
   "version": "2.3.4"
  },
  "properties": {
   "description": "IGARSS-22 workshop tutorial",
   "id": "IGARSS-22_4",
   "license": null,
   "name": "Time series using STAC API statistics endpoints",
   "requirements": [],
   "tags": [
    "IGARSS-22",
    "EO Dashboard"
   ],
   "version": "1.0"
  },
  "widgets": {
   "application/vnd.jupyter.widget-state+json": {
    "state": {
     "021ff6605ba74ba8aea2432641f857bf": {
      "model_module": "jupyter-leaflet",
      "model_module_version": "^0.17",
      "model_name": "LeafletMapStyleModel",
      "state": {
       "_model_module": "jupyter-leaflet",
       "_model_module_version": "^0.17",
       "_model_name": "LeafletMapStyleModel",
       "_view_count": null,
       "_view_module": "@jupyter-widgets/base",
       "_view_module_version": "2.0.0",
       "_view_name": "StyleView",
       "cursor": "move"
      }
     },
     "14a94b4cf19841a28496733e4dc19a44": {
      "model_module": "jupyter-leaflet",
      "model_module_version": "^0.17",
      "model_name": "LeafletZoomControlModel",
      "state": {
       "_model_module": "jupyter-leaflet",
       "_model_module_version": "^0.17",
       "_model_name": "LeafletZoomControlModel",
       "_view_count": null,
       "_view_module": "jupyter-leaflet",
       "_view_module_version": "^0.17",
       "_view_name": "LeafletZoomControlView",
       "options": [
        "position",
        "zoom_in_text",
        "zoom_in_title",
        "zoom_out_text",
        "zoom_out_title"
       ],
       "position": "topleft",
       "zoom_in_text": "+",
       "zoom_in_title": "Zoom in",
       "zoom_out_text": "-",
       "zoom_out_title": "Zoom out"
      }
     },
     "36895795ffdf49dfa0c9412949500c64": {
      "model_module": "jupyter-leaflet",
      "model_module_version": "^0.17",
      "model_name": "LeafletTileLayerModel",
      "state": {
       "_model_module": "jupyter-leaflet",
       "_model_module_version": "^0.17",
       "_model_name": "LeafletTileLayerModel",
       "_view_count": null,
       "_view_module": "jupyter-leaflet",
       "_view_module_version": "^0.17",
       "_view_name": "LeafletTileLayerView",
       "attribution": "&copy; <a href=\"https://www.openstreetmap.org/copyright\">OpenStreetMap</a> contributors",
       "base": true,
       "bottom": true,
       "bounds": null,
       "detect_retina": false,
       "loading": false,
       "max_native_zoom": null,
       "max_zoom": 19,
       "min_native_zoom": null,
       "min_zoom": 1,
       "name": "OpenStreetMap.Mapnik",
       "no_wrap": false,
       "opacity": 1.0,
       "options": [
        "attribution",
        "bounds",
        "detect_retina",
        "max_native_zoom",
        "max_zoom",
        "min_native_zoom",
        "min_zoom",
        "no_wrap",
        "tile_size",
        "tms",
        "zoom_offset"
       ],
       "pane": "",
       "popup": null,
       "popup_max_height": null,
       "popup_max_width": 300,
       "popup_min_width": 50,
       "show_loading": false,
       "tile_size": 256,
       "tms": false,
       "url": "https://tile.openstreetmap.org/{z}/{x}/{y}.png",
       "visible": true,
       "zoom_offset": 0
      }
     },
     "83f61342cce9428496e0b2c6ba48f660": {
      "model_module": "jupyter-leaflet",
      "model_module_version": "^0.17",
      "model_name": "LeafletMapModel",
      "state": {
       "_dom_classes": [],
       "_model_module": "jupyter-leaflet",
       "_model_module_version": "^0.17",
       "_model_name": "LeafletMapModel",
       "_view_count": null,
       "_view_module": "jupyter-leaflet",
       "_view_module_version": "^0.17",
       "_view_name": "LeafletMapView",
       "bottom": 0.0,
       "bounce_at_zoom_limits": true,
       "box_zoom": true,
       "center": [
        47,
        4
       ],
       "close_popup_on_click": true,
       "controls": [
        "IPY_MODEL_14a94b4cf19841a28496733e4dc19a44",
        "IPY_MODEL_ded042fff473432baf001039d64e6148"
       ],
       "crs": {
        "custom": false,
        "name": "EPSG3857"
       },
       "default_style": "IPY_MODEL_ea7446779ee14bb9b021af1c24bccee2",
       "double_click_zoom": true,
       "dragging": true,
       "dragging_style": "IPY_MODEL_021ff6605ba74ba8aea2432641f857bf",
       "east": 0.0,
       "fullscreen": false,
       "inertia": true,
       "inertia_deceleration": 3000,
       "inertia_max_speed": 1500,
       "interpolation": "bilinear",
       "keyboard": true,
       "keyboard_pan_offset": 80,
       "keyboard_zoom_offset": 1,
       "layers": [
        "IPY_MODEL_36895795ffdf49dfa0c9412949500c64",
        "IPY_MODEL_e2a7fefd163048369c97d384961b29e9"
       ],
       "layout": "IPY_MODEL_8b4f2ee21357416a8f2f2ec426c23726",
       "left": 9007199254740991.0,
       "max_zoom": null,
       "min_zoom": null,
       "modisdate": "2022-10-12",
       "north": 0.0,
       "options": [
        "bounce_at_zoom_limits",
        "box_zoom",
        "center",
        "close_popup_on_click",
        "double_click_zoom",
        "dragging",
        "fullscreen",
        "inertia",
        "inertia_deceleration",
        "inertia_max_speed",
        "interpolation",
        "keyboard",
        "keyboard_pan_offset",
        "keyboard_zoom_offset",
        "max_zoom",
        "min_zoom",
        "prefer_canvas",
        "scroll_wheel_zoom",
        "tap",
        "tap_tolerance",
        "touch_zoom",
        "world_copy_jump",
        "zoom",
        "zoom_animation_threshold",
        "zoom_delta",
        "zoom_snap"
       ],
       "panes": {},
       "prefer_canvas": false,
       "right": 0.0,
       "scroll_wheel_zoom": false,
       "south": 0.0,
       "style": "IPY_MODEL_e47ebf04ca424adf94d32d4431df53d9",
       "tabbable": null,
       "tap": true,
       "tap_tolerance": 15,
       "tooltip": null,
       "top": 9007199254740991.0,
       "touch_zoom": true,
       "west": 0.0,
       "window_url": "",
       "world_copy_jump": false,
       "zoom": 3.0,
       "zoom_animation_threshold": 4,
       "zoom_delta": 1.0,
       "zoom_snap": 1.0
      }
     },
     "8b4f2ee21357416a8f2f2ec426c23726": {
      "model_module": "@jupyter-widgets/base",
      "model_module_version": "2.0.0",
      "model_name": "LayoutModel",
      "state": {
       "_model_module": "@jupyter-widgets/base",
       "_model_module_version": "2.0.0",
       "_model_name": "LayoutModel",
       "_view_count": null,
       "_view_module": "@jupyter-widgets/base",
       "_view_module_version": "2.0.0",
       "_view_name": "LayoutView",
       "align_content": null,
       "align_items": null,
       "align_self": null,
       "border_bottom": null,
       "border_left": null,
       "border_right": null,
       "border_top": null,
       "bottom": null,
       "display": null,
       "flex": null,
       "flex_flow": null,
       "grid_area": null,
       "grid_auto_columns": null,
       "grid_auto_flow": null,
       "grid_auto_rows": null,
       "grid_column": null,
       "grid_gap": null,
       "grid_row": null,
       "grid_template_areas": null,
       "grid_template_columns": null,
       "grid_template_rows": null,
       "height": null,
       "justify_content": null,
       "justify_items": null,
       "left": null,
       "margin": null,
       "max_height": null,
       "max_width": null,
       "min_height": null,
       "min_width": null,
       "object_fit": null,
       "object_position": null,
       "order": null,
       "overflow": null,
       "padding": null,
       "right": null,
       "top": null,
       "visibility": null,
       "width": null
      }
     },
     "ded042fff473432baf001039d64e6148": {
      "model_module": "jupyter-leaflet",
      "model_module_version": "^0.17",
      "model_name": "LeafletAttributionControlModel",
      "state": {
       "_model_module": "jupyter-leaflet",
       "_model_module_version": "^0.17",
       "_model_name": "LeafletAttributionControlModel",
       "_view_count": null,
       "_view_module": "jupyter-leaflet",
       "_view_module_version": "^0.17",
       "_view_name": "LeafletAttributionControlView",
       "options": [
        "position",
        "prefix"
       ],
       "position": "bottomright",
       "prefix": "ipyleaflet"
      }
     },
     "e2a7fefd163048369c97d384961b29e9": {
      "model_module": "jupyter-leaflet",
      "model_module_version": "^0.17",
      "model_name": "LeafletGeoJSONModel",
      "state": {
       "_model_module": "jupyter-leaflet",
       "_model_module_version": "^0.17",
       "_model_name": "LeafletGeoJSONModel",
       "_view_count": null,
       "_view_module": "jupyter-leaflet",
       "_view_module_version": "^0.17",
       "_view_name": "LeafletGeoJSONView",
       "base": false,
       "bottom": false,
       "data": {
        "geometry": {
         "coordinates": [
          [
           [
            -5.4534286,
            41.2632185
           ],
           [
            9.8678344,
            41.2632185
           ],
           [
            9.8678344,
            51.268318
           ],
           [
            -5.4534286,
            51.268318
           ],
           [
            -5.4534286,
            41.2632185
           ]
          ]
         ],
         "type": "Polygon"
        },
        "properties": {
         "style": {
          "color": "red",
          "fillOpacity": 0
         }
        },
        "type": "Feature"
       },
       "hover_style": {},
       "layers": [],
       "name": "",
       "options": [],
       "pane": "",
       "point_style": {},
       "popup": null,
       "popup_max_height": null,
       "popup_max_width": 300,
       "popup_min_width": 50,
       "style": {
        "color": "red",
        "fillOpacity": 0
       },
       "visible": true
      }
     },
     "e47ebf04ca424adf94d32d4431df53d9": {
      "model_module": "jupyter-leaflet",
      "model_module_version": "^0.17",
      "model_name": "LeafletMapStyleModel",
      "state": {
       "_model_module": "jupyter-leaflet",
       "_model_module_version": "^0.17",
       "_model_name": "LeafletMapStyleModel",
       "_view_count": null,
       "_view_module": "@jupyter-widgets/base",
       "_view_module_version": "2.0.0",
       "_view_name": "StyleView",
       "cursor": "grab"
      }
     },
     "ea7446779ee14bb9b021af1c24bccee2": {
      "model_module": "jupyter-leaflet",
      "model_module_version": "^0.17",
      "model_name": "LeafletMapStyleModel",
      "state": {
       "_model_module": "jupyter-leaflet",
       "_model_module_version": "^0.17",
       "_model_name": "LeafletMapStyleModel",
       "_view_count": null,
       "_view_module": "@jupyter-widgets/base",
       "_view_module_version": "2.0.0",
       "_view_name": "StyleView",
       "cursor": "grab"
      }
     }
    },
    "version_major": 2,
    "version_minor": 0
   }
  }
 },
 "nbformat": 4,
 "nbformat_minor": 5
}