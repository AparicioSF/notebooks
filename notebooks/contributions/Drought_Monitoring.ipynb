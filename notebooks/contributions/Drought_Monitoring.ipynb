{
 "cells": [
  {
   "cell_type": "markdown",
   "id": "762f8eab",
   "metadata": {
    "tags": [
     "papermill-error-cell-tag"
    ]
   },
   "source": [
    "<span style=\"color:red; font-family:Helvetica Neue, Helvetica, Arial, sans-serif; font-size:2em;\">An Exception was encountered at '<a href=\"#papermill-error-cell\">In [11]</a>'.</span>"
   ]
  },
  {
   "cell_type": "code",
   "execution_count": 1,
   "id": "55f213e3",
   "metadata": {
    "execution": {
     "iopub.execute_input": "2022-11-07T15:08:22.145297Z",
     "iopub.status.busy": "2022-11-07T15:08:22.144717Z",
     "iopub.status.idle": "2022-11-07T15:08:22.218718Z",
     "shell.execute_reply": "2022-11-07T15:08:22.217718Z"
    },
    "papermill": {
     "duration": 0.085312,
     "end_time": "2022-11-07T15:08:22.220709",
     "exception": false,
     "start_time": "2022-11-07T15:08:22.135397",
     "status": "completed"
    },
    "tags": []
   },
   "outputs": [
    {
     "data": {
      "text/html": [
       "<script type=\"text/javascript\">\n",
       "        function toggle(id) {\n",
       "            el = document.getElementById(id);\n",
       "            el.style.display = el.style.display === \"none\" ? \"block\" : \"none\";\n",
       "        }\n",
       "    </script>"
      ],
      "text/plain": [
       "<IPython.core.display.HTML object>"
      ]
     },
     "metadata": {},
     "output_type": "display_data"
    },
    {
     "data": {
      "text/html": [
       "This notebook is compatible with this base image version (user-2022.10-14)."
      ],
      "text/plain": [
       "<IPython.core.display.HTML object>"
      ]
     },
     "metadata": {},
     "output_type": "display_data"
    },
    {
     "data": {
      "text/markdown": [
       "\n",
       "\n",
       "---------\n",
       "\n",
       "The following environment variables are available:\n",
       "\n",
       "* `SH_CLIENT_ID`, `SH_INSTANCE_ID`, `SH_CLIENT_NAME`, `SH_CLIENT_SECRET`\n"
      ],
      "text/plain": [
       "<IPython.core.display.Markdown object>"
      ]
     },
     "metadata": {},
     "output_type": "display_data"
    }
   ],
   "source": [
    "from eoxhub import check_compatibility\n",
    "check_compatibility(\"user-2022.10-14\", dependencies=[\"SH\"])"
   ]
  },
  {
   "cell_type": "markdown",
   "id": "06fc485c",
   "metadata": {
    "papermill": {
     "duration": 0.007316,
     "end_time": "2022-11-07T15:08:22.235794",
     "exception": false,
     "start_time": "2022-11-07T15:08:22.228478",
     "status": "completed"
    },
    "tags": []
   },
   "source": [
    "# Drought impact monitoring platform \n",
    "\n",
    "## EO based Digital Twin precursor of a spatio-temporal drought impact monitoring system in Europe \n",
    "\n",
    "_Eva Ivits<sup>1</sup>, Lars Eklundh<sup>2</sup>, Roel Van Hoolst<sup>3</sup>, Bruno Smets<sup>3</sup>, Hongxiao, Zhanzhang<sup>3</sup>, Grega Milcinski<sup>4</sup>, Anja Vrecko<sup>4</sup>, Maxim Lamare<sup>5</sup>_\n",
    "\n",
    " \n",
    "\n",
    "1: European Environment Agency;\n",
    "2: Lund University;\n",
    "3: VITO;\n",
    "4: Sinergise;\n",
    "5: Sentinel Hub \n"
   ]
  },
  {
   "cell_type": "markdown",
   "id": "f2d194b6",
   "metadata": {
    "papermill": {
     "duration": 0.007238,
     "end_time": "2022-11-07T15:08:22.250245",
     "exception": false,
     "start_time": "2022-11-07T15:08:22.243007",
     "status": "completed"
    },
    "tags": []
   },
   "source": [
    "## Introduction\n",
    "\n",
    "This Jupyter Notebook presents the workflow developped within the ESA funded Drought impact monitoring platform pilot project. The aim of the project was to develop a pan-European scale drought impact monitoring platform using the new CLMS service High Resolution Vegetation Phenology and Productivity (HR-VPP) derived from Sentinel 2 images. The 10m spatial resolution seasonal trajectories and phenology and productivity parameters were used for studying vegetation dynamics as a response to soil moisture deficit during the period 2017-2020 in Europe. The project was initially based on the workflow developed within the framework of the EEA Drought Impact Indicator (EEA 2021).  However, during the development phase of the project, the scientific principles governing the algorithms were consolidated and an entirely new workflow was proposed. \n",
    "\n",
    "\n",
    "This Jupyter Notebook demonstrates how to derive the following variables based on the MR-VPP and HR-VPP datasets:\n",
    "\n",
    "- Soil moisture anomaly \n",
    "\n",
    "- Long Term Average soil moisture anomaly \n",
    "\n",
    "- Monthly drought hazard \n",
    "\n",
    "- Drought pressure \n",
    "\n",
    "- Drought pressure month \n",
    "\n",
    "- Drought pressure intensity \n",
    "\n",
    "- Long Term Average drought pressure intensity \n",
    "\n",
    "- LINT anomaly \n",
    "\n",
    "- Drought impact \n",
    "\n",
    "- Drought impact mask \n",
    "\n",
    "- Drought impact intensity \n",
    "\n",
    "- Drought impact intensity mask \n",
    "\n",
    "- TPROD anomaly \n",
    "\n",
    "- SPROD anomaly \n",
    "\n",
    "- Total drought impact \n",
    "\n",
    "- Seasonal drought impact \n",
    "\n",
    "- Number of Seasons\n",
    "\n",
    "\n",
    "The variable are generated as raster files, accompanied by statistics aggregated by:\n",
    "\n",
    "- Adminstrative area (NUTS3 regions)\n",
    "\n",
    "- Land Cover type\n",
    "\n",
    "- Land Cover flow\n",
    "\n",
    "\n",
    "The workflow is designed to be run at the continental scale. However, for demonstration purposes, this example shows the workflow executed for a single NUTS3 region (Cádiz, Spain)."
   ]
  },
  {
   "cell_type": "markdown",
   "id": "4c9225a6",
   "metadata": {
    "papermill": {
     "duration": 0.007197,
     "end_time": "2022-11-07T15:08:22.264754",
     "exception": false,
     "start_time": "2022-11-07T15:08:22.257557",
     "status": "completed"
    },
    "tags": []
   },
   "source": [
    "## Processing workflow\n",
    "\n",
    "The following figure shows the processing workflow that is implemented in this Jupyter Notebook.\n",
    "\n",
    "- Dark green boxes represent raster inputs.\n",
    "\n",
    "- Light green boxes represent raster outputs.\n",
    "\n",
    "- Dark grey boxes with a thick frame represent JSON outputs (statistics).\n",
    "\n",
    "\n",
    "![Jupyter Notebook processing workflow](https://github.com/eurodatacube/notebooks/blob/master/notebooks/contributions/example_data/drought_monitoring/Drought_diagram.png?raw=true)\n",
    "\n"
   ]
  },
  {
   "cell_type": "markdown",
   "id": "e6b0abe3",
   "metadata": {
    "papermill": {
     "duration": 0.007304,
     "end_time": "2022-11-07T15:08:22.280027",
     "exception": false,
     "start_time": "2022-11-07T15:08:22.272723",
     "status": "completed"
    },
    "tags": []
   },
   "source": [
    "## Step 1: MR-VPP annual and monthly products\n",
    "\n",
    "In a first step, we will compute the annual and monthly drought products based on Medium Resolution Vegetation Phenology and Productivity (MR-VPP)."
   ]
  },
  {
   "cell_type": "code",
   "execution_count": 2,
   "id": "1a2dc232",
   "metadata": {
    "execution": {
     "iopub.execute_input": "2022-11-07T15:08:22.296414Z",
     "iopub.status.busy": "2022-11-07T15:08:22.295783Z",
     "iopub.status.idle": "2022-11-07T15:08:23.127224Z",
     "shell.execute_reply": "2022-11-07T15:08:23.126310Z"
    },
    "papermill": {
     "duration": 0.841906,
     "end_time": "2022-11-07T15:08:23.129534",
     "exception": false,
     "start_time": "2022-11-07T15:08:22.287628",
     "status": "completed"
    },
    "tags": []
   },
   "outputs": [],
   "source": [
    "# Sentinel Hub\n",
    "from sentinelhub import (SHConfig, Geometry, SentinelHubRequest, DataCollection, MimeType, BBox, SentinelHubBatch, BatchRequestStatus)\n",
    "\n",
    "# Geospatial\n",
    "import geopandas as gpd\n",
    "from shapely.geometry import shape, GeometryCollection\n",
    "\n",
    "# Utilities\n",
    "import json\n",
    "import time\n",
    "import datetime as dt\n",
    "import os\n",
    "import urllib3"
   ]
  },
  {
   "cell_type": "markdown",
   "id": "6ad7a0d2",
   "metadata": {
    "papermill": {
     "duration": 0.007457,
     "end_time": "2022-11-07T15:08:23.144535",
     "exception": false,
     "start_time": "2022-11-07T15:08:23.137078",
     "status": "completed"
    },
    "tags": []
   },
   "source": [
    "### Credentials\n",
    "\n",
    "We recommend the use of EDC built-in credentials for Sentinel Hub services."
   ]
  },
  {
   "cell_type": "code",
   "execution_count": 3,
   "id": "71337237",
   "metadata": {
    "execution": {
     "iopub.execute_input": "2022-11-07T15:08:23.160735Z",
     "iopub.status.busy": "2022-11-07T15:08:23.159998Z",
     "iopub.status.idle": "2022-11-07T15:08:23.165715Z",
     "shell.execute_reply": "2022-11-07T15:08:23.164829Z"
    },
    "papermill": {
     "duration": 0.015619,
     "end_time": "2022-11-07T15:08:23.167451",
     "exception": false,
     "start_time": "2022-11-07T15:08:23.151832",
     "status": "completed"
    },
    "tags": []
   },
   "outputs": [],
   "source": [
    "# Set the Sentinel Hub credentials based on EDC managed credentials\n",
    "config = SHConfig()\n",
    "config.sh_client_id = os.environ[\"SH_CLIENT_ID\"]\n",
    "config.sh_client_secret = os.environ[\"SH_CLIENT_SECRET\"]\n",
    "\n",
    "# Change endpoint\n",
    "config.sh_base_url  = \"https://creodias.sentinel-hub.com\""
   ]
  },
  {
   "cell_type": "markdown",
   "id": "28d3910e-5e05-41a3-8de0-500af862e75f",
   "metadata": {
    "papermill": {
     "duration": 0.007472,
     "end_time": "2022-11-07T15:08:23.182906",
     "exception": false,
     "start_time": "2022-11-07T15:08:23.175434",
     "status": "completed"
    },
    "tags": []
   },
   "source": [
    "### Read AOI\n",
    "\n",
    "In the following cells we will specify the geoJSON of the AOI for Batch Processing. Here we will use the NUTS3 region of Cádiz in southern Spain."
   ]
  },
  {
   "cell_type": "code",
   "execution_count": 4,
   "id": "3180f468-b735-4c8b-92b1-15aa66b96dad",
   "metadata": {
    "execution": {
     "iopub.execute_input": "2022-11-07T15:08:23.199256Z",
     "iopub.status.busy": "2022-11-07T15:08:23.198614Z",
     "iopub.status.idle": "2022-11-07T15:08:23.514317Z",
     "shell.execute_reply": "2022-11-07T15:08:23.513280Z"
    },
    "papermill": {
     "duration": 0.32628,
     "end_time": "2022-11-07T15:08:23.516560",
     "exception": false,
     "start_time": "2022-11-07T15:08:23.190280",
     "status": "completed"
    },
    "tags": []
   },
   "outputs": [],
   "source": [
    "# Open Json\n",
    "fullaoi = gpd.read_file(\"https://raw.githubusercontent.com/eurodatacube/notebooks/master/notebooks/contributions/example_data/drought_monitoring/Cadiz.geojson\")\n",
    "\n",
    "# Buffer 500m to make sure the entire AOI is covered\n",
    "buffered_aoi = fullaoi.iloc[0].geometry.buffer(500)\n",
    "\n",
    "# Check number of vertices (Sentinel Hub can only process geometries with < 1500 nodes)\n",
    "nodes = 0\n",
    "for x in buffered_aoi.geoms:\n",
    "    nodes += len(x.exterior.coords)\n",
    "\n",
    "# If too many nodes, progressively simplify\n",
    "sim_nr = 100\n",
    "\n",
    "while nodes >= 1500:\n",
    "    \n",
    "    # Simplify geometry\n",
    "    buffered_aoi = fullaoi.iloc[0].geometry.buffer(500).simplify(sim_nr)\n",
    "    sim_nr += 100\n",
    "\n",
    "    # Recompute nodes\n",
    "    nodes = 0\n",
    "    for x in buffered_aoi.geoms:\n",
    "        nodes += len(x.exterior.coords)\n",
    "\n",
    "cadiz_aoi = Geometry(buffered_aoi, crs=\"EPSG:3035\")"
   ]
  },
  {
   "cell_type": "code",
   "execution_count": 5,
   "id": "9aac0357-d169-448d-9a8a-b634308233e0",
   "metadata": {
    "execution": {
     "iopub.execute_input": "2022-11-07T15:08:23.533023Z",
     "iopub.status.busy": "2022-11-07T15:08:23.532437Z",
     "iopub.status.idle": "2022-11-07T15:08:23.539974Z",
     "shell.execute_reply": "2022-11-07T15:08:23.539180Z"
    },
    "papermill": {
     "duration": 0.017646,
     "end_time": "2022-11-07T15:08:23.541804",
     "exception": false,
     "start_time": "2022-11-07T15:08:23.524158",
     "status": "completed"
    },
    "tags": []
   },
   "outputs": [
    {
     "data": {
      "image/svg+xml": [
       "<svg xmlns=\"http://www.w3.org/2000/svg\" xmlns:xlink=\"http://www.w3.org/1999/xlink\" width=\"300\" height=\"300\" viewBox=\"2844002.051084573 1575698.9778500816 136725.91922291555 122287.69494442083\" preserveAspectRatio=\"xMinYMin meet\"><g transform=\"matrix(1,0,0,-1,0,3273685.650644584)\"><g><path fill-rule=\"evenodd\" fill=\"#66cc99\" stroke=\"#555555\" stroke-width=\"911.5061281527703\" opacity=\"0.6\" d=\"M 2859594.1683012485,1652237.8624481892 L 2860129.0245466214,1652760.69454292 L 2861885.8722715154,1652874.7810992743 L 2862287.877463278,1652557.3231647306 L 2862147.3310098294,1651882.3050150147 L 2862293.3118860316,1651782.3386225854 L 2862527.922349854,1652094.2941502272 L 2863062.247003004,1652216.5876288929 L 2863367.466199886,1652084.746062345 L 2863687.743746652,1651657.7038907837 L 2863751.369449831,1651328.6069062075 L 2863595.1088947305,1650928.2244078661 L 2863322.501806745,1650741.8633587214 L 2862982.282137084,1650767.1925728994 L 2863307.1062271255,1649196.031175231 L 2863940.51965927,1648099.5879496795 L 2863917.9628026206,1647219.7341282184 L 2863340.6563614877,1646202.671881255 L 2863800.4969148412,1644518.0670779303 L 2864987.9121566038,1643652.2345690874 L 2866587.0383697804,1643794.725945133 L 2866947.267595674,1644900.145276849 L 2867248.772393127,1645032.669193043 L 2867784.3441800093,1644980.9735292918 L 2868632.332157788,1645288.1493651615 L 2869144.980877549,1646461.6972625689 L 2870975.6124737835,1647577.8047796665 L 2870995.438529565,1647853.1645971788 L 2869829.6402326594,1648534.677495214 L 2868496.6802341547,1647268.8214991966 L 2867349.151108668,1647290.0408705017 L 2866106.8185159736,1647028.1602476072 L 2865396.330348957,1647296.014867595 L 2864444.3821310266,1648380.6634628836 L 2864427.076852975,1649077.0048904784 L 2863987.9827357125,1649502.9473976837 L 2863904.715967001,1650342.9704852367 L 2864310.369837625,1650881.4658848392 L 2864615.0806885306,1651004.4720585728 L 2866048.8895791136,1650545.5330452595 L 2867397.864619211,1653590.6160044922 L 2867388.390647545,1655100.411706638 L 2866906.553260005,1655543.2681670508 L 2866837.0496403864,1655914.6133607256 L 2866486.592988621,1655934.738165291 L 2865412.9808873013,1655486.5128919657 L 2864295.1111904727,1656112.8523774454 L 2863445.3632855546,1658837.8060207244 L 2862233.0797712696,1660551.7634735212 L 2860944.7794346954,1660625.0873676466 L 2860666.7346602017,1660938.9093477908 L 2860694.9469655952,1661389.5863771345 L 2860072.7600310487,1661792.1575993088 L 2859255.1981057813,1661723.7382451044 L 2858663.2913418286,1662269.2938865323 L 2857977.3533518137,1662120.1752959366 L 2857454.3510065586,1661521.5382864766 L 2857033.99037303,1661517.9462321997 L 2854484.4370622127,1663716.5089857858 L 2853953.6770407804,1664671.4184185246 L 2854221.3205508753,1665751.5890470524 L 2854057.500903209,1667208.399718016 L 2853612.5451058988,1667909.9515942887 L 2851787.4491216354,1674750.9572786444 L 2851935.4663520674,1676917.9027737353 L 2852157.9237268446,1677251.3484772495 L 2853543.8320780667,1678113.904677265 L 2853881.430260304,1678089.8274239795 L 2854301.6355242864,1677763.8382889319 L 2855632.3105749064,1679114.8379112186 L 2856817.0959712137,1679122.7491291012 L 2861649.2611531923,1681256.0988567313 L 2861706.3146788953,1681779.881345416 L 2862072.8888244717,1682282.6993014237 L 2862081.874517743,1683308.1831555201 L 2861672.208068673,1684449.1071549195 L 2861645.766069688,1685005.5914364406 L 2862066.3419188233,1687570.0974604867 L 2863535.468196302,1691481.1930176269 L 2863975.908009007,1692014.1508005476 L 2864724.311758973,1692488.875765282 L 2866385.8828363023,1692693.1529635827 L 2868849.174138748,1692692.186705421 L 2870532.4966824963,1692922.7498603205 L 2872320.9496514946,1690679.7817385853 L 2872877.8580711097,1690525.1518159178 L 2874436.354145351,1690636.8892351217 L 2876234.388618967,1689742.40125838 L 2878178.33167276,1689270.4690166968 L 2880760.909393477,1687839.088652502 L 2883432.4441899075,1684783.5536934854 L 2886220.57615271,1683202.0805837847 L 2889271.799261438,1682401.0631822823 L 2891627.290333847,1681267.8359904233 L 2895709.5162084694,1680077.8424251692 L 2897448.8600842846,1680557.0031742202 L 2900299.85412384,1680035.5119354303 L 2902583.738504438,1678595.0120233253 L 2902539.3000279544,1679140.1956330014 L 2904723.7574503203,1683193.1347509758 L 2905131.3551668,1683561.0433777277 L 2905804.140096273,1683475.9800080026 L 2906587.5764075047,1683897.6038026277 L 2908073.389191656,1685181.3729912154 L 2909583.7581615574,1685123.5270507077 L 2912070.547239632,1685641.2604798109 L 2913539.296495901,1685442.6974471577 L 2916174.342059655,1684844.7356048753 L 2917693.3679084554,1684193.7982860876 L 2918213.013782018,1683688.2978671284 L 2918920.690958048,1683810.7555179393 L 2919905.44130117,1683496.453862316 L 2920709.7404709705,1683748.897931665 L 2921513.1168462243,1684668.7951239971 L 2922216.715577316,1686975.8680160055 L 2924963.0465084175,1688526.9958041736 L 2925290.56359131,1688583.9240390935 L 2925638.3000092558,1688344.758113953 L 2926802.752466066,1685849.6474644463 L 2927713.9233224266,1685357.8211511245 L 2928417.906903989,1685467.1357539583 L 2928724.2985815965,1685352.9551531628 L 2929251.760041275,1683966.0934474668 L 2929843.9697335544,1684606.772803696 L 2930167.8735663565,1684717.2958713376 L 2931130.393758091,1684030.3528285008 L 2931687.6383099775,1684046.9195859483 L 2931979.8288350655,1683895.657557466 L 2932116.6478741635,1683547.73665388 L 2931835.051943278,1680835.1851298157 L 2931923.550305529,1680264.4584398456 L 2934586.5364075587,1678038.0076955978 L 2933919.1502988436,1680301.6393031522 L 2934031.841038808,1680611.7360211634 L 2934669.7557864883,1681258.72592738 L 2934977.0579293924,1681404.4814445432 L 2935674.4445903767,1681342.6221097528 L 2936113.6991810026,1681757.7945304054 L 2936704.762764199,1681885.9784654728 L 2938115.899321172,1683658.7933885974 L 2939112.8713644645,1683796.9007884378 L 2940212.827478249,1684882.6094723986 L 2941386.6882715547,1684977.1405048156 L 2942240.304059597,1685730.4044871065 L 2942227.9097530944,1686410.7574220682 L 2940629.2375219166,1688698.6365539553 L 2939617.160594444,1691441.6000232203 L 2939719.8057217617,1691893.1724459368 L 2941095.9127347055,1692463.933014719 L 2943647.686661112,1692398.6362176137 L 2944441.2847079695,1692027.0856595084 L 2945845.5118014175,1692724.336458439 L 2946401.851217189,1692578.6367713339 L 2947329.523920905,1692708.9614051164 L 2947713.310356573,1692453.4408817834 L 2948105.402802138,1691357.8003737985 L 2948050.48016314,1690467.5214710908 L 2948272.327386393,1688953.9318962493 L 2948166.299619654,1687656.5103514057 L 2946297.866117495,1685299.2650806678 L 2944004.4359239633,1684185.5334888555 L 2944132.7898060647,1682954.8106859345 L 2944673.0653648693,1682177.7122650573 L 2944627.2839206145,1681048.3362855879 L 2944870.554921604,1680100.5184167249 L 2946192.7495052963,1680166.1379479154 L 2946219.7083321833,1680476.1297085057 L 2946772.8366281595,1681477.6300109155 L 2949119.2792129396,1683333.9663151253 L 2951885.0874078753,1684127.3788425515 L 2952372.3553345865,1684802.4334812043 L 2953636.0711743864,1685173.826547519 L 2954168.626156203,1685662.4414649475 L 2954799.1577037247,1686605.70326451 L 2958233.5463147718,1688662.4852188448 L 2958557.815238608,1688728.7898846362 L 2958852.4560726425,1688578.013816935 L 2958988.3611590457,1688276.2250643922 L 2958732.6035398757,1685807.8236496479 L 2960447.1395186787,1682896.167690506 L 2960750.1732468777,1681575.6041983333 L 2961155.259829215,1681067.1201262455 L 2961555.87194721,1679621.9373989361 L 2962795.5249436633,1677185.3973151802 L 2963059.1916348874,1677089.0169974912 L 2965161.589799432,1678791.5495455489 L 2966520.7984978105,1679029.7299476587 L 2969270.042346686,1680111.4598094681 L 2969833.716348956,1680837.1416040726 L 2971853.511051465,1682264.3285143094 L 2972209.729300934,1682118.4802016728 L 2973695.3142121276,1680316.0281972613 L 2974371.304521772,1679873.945872326 L 2974686.509617172,1679142.5335283184 L 2974578.387556037,1678432.0204391845 L 2975664.0473733065,1677399.6170271297 L 2975362.486197678,1676538.5688206388 L 2974492.254328117,1676106.87326398 L 2974632.2088100137,1675708.9545032636 L 2974747.0696905754,1673316.610001883 L 2975203.6302718953,1671943.570091957 L 2974990.526336479,1670927.6661915334 L 2975198.391939202,1669847.6111553274 L 2974920.8943924895,1669577.110539029 L 2973686.8743633195,1669226.098872906 L 2973536.0091672046,1668622.5256120411 L 2972882.212215749,1668273.948418189 L 2972361.919642204,1666881.9555602267 L 2969582.052851554,1663241.4425996114 L 2965803.005483036,1662264.036789419 L 2965491.7660282142,1662347.7460827949 L 2964936.9351482736,1662882.5706886556 L 2964304.948488976,1663067.628682806 L 2963067.8511832603,1664426.8346831927 L 2961488.128682523,1665289.6423353292 L 2961082.209843929,1667151.4056281152 L 2959366.0792802763,1668352.6351607356 L 2958259.363054545,1669520.0947178535 L 2958018.882577946,1670328.0997606067 L 2956577.9268077924,1669685.7151786664 L 2955585.9381387928,1669545.3992192987 L 2954927.8514177455,1668432.7943505223 L 2954061.4442231236,1668221.367786675 L 2952468.751651772,1666963.615399856 L 2951480.6397995637,1665328.2617907848 L 2952268.2307529575,1663566.804011097 L 2952546.6283159084,1661628.8517203839 L 2954586.9646537406,1659993.7787178068 L 2954730.581269319,1659548.696469042 L 2954618.1895108395,1658975.0255570023 L 2954192.455975701,1658178.3443575848 L 2952879.5278426935,1656914.9866115071 L 2952025.75609827,1655193.1279396943 L 2950902.5393166533,1654345.9778511294 L 2950874.837559874,1653806.861990454 L 2950172.967126668,1651873.52942071 L 2950627.5937265647,1651434.122776065 L 2950714.995654285,1650780.561587061 L 2949722.8110008216,1649775.2007302311 L 2949978.098954176,1649104.9635375603 L 2949763.435389087,1648682.8458536163 L 2948720.092440269,1648503.725284329 L 2947713.481136199,1647544.0766039665 L 2943883.1971386005,1645173.3939623982 L 2942141.547910787,1645116.8983954112 L 2940762.6748346565,1644584.1295077535 L 2938958.194373618,1644566.9517229937 L 2938233.5244917707,1644294.560985599 L 2937084.2610240695,1644881.716613974 L 2936135.1295637386,1642127.0963027754 L 2934406.818242016,1640717.3373354857 L 2933152.53835605,1640365.8205359473 L 2931698.540017109,1638362.3145567728 L 2930579.8321263506,1637840.1287340808 L 2929267.2901549707,1636796.1497029674 L 2927628.678648239,1636717.782524477 L 2927067.1505030906,1638002.5881898683 L 2925323.193454941,1638814.4389151093 L 2924712.1454398157,1639568.2226818106 L 2922697.260590537,1640187.9561770342 L 2922134.195020251,1639862.7819384497 L 2922140.380043546,1637962.2996083226 L 2921856.4657946588,1636944.1329069654 L 2922078.4261906086,1636771.9022400463 L 2923630.8545262013,1636914.5194886501 L 2924539.97725689,1636602.7236204138 L 2925621.8017101055,1635358.0979350207 L 2927784.310253759,1634795.7400385493 L 2928500.593677502,1634262.7622908717 L 2928740.929791991,1634320.0741979838 L 2930033.959946311,1636087.1390927113 L 2932101.9654207625,1637702.3766341854 L 2933837.840251195,1637329.6158111717 L 2934249.6433817646,1636796.1691393442 L 2934650.990466043,1637193.746652739 L 2934978.9060039464,1637255.5317402005 L 2937568.1769868094,1636257.0990501277 L 2938077.2522865743,1635126.618133444 L 2939095.034723689,1634255.960155021 L 2939041.1232912536,1631669.6430506997 L 2939344.4944650247,1631265.2601554594 L 2939632.0934757204,1630110.9614362223 L 2939725.2959015863,1628453.0224354425 L 2942540.7026588884,1623762.6983939034 L 2942325.773512812,1622725.9118405094 L 2942982.4090746534,1621882.09500831 L 2943559.428950676,1619068.2037685649 L 2943190.39352103,1616390.391590616 L 2943806.3679185603,1613941.695821946 L 2944302.740304957,1613127.2415129987 L 2944231.0406359993,1612801.9152447053 L 2943534.9029853623,1611853.1992490033 L 2945839.084594437,1612456.5173603112 L 2947161.219176401,1612235.9607090133 L 2948105.852451139,1610567.9881536253 L 2948857.0683971304,1609967.928418627 L 2949310.625179832,1608557.9362003095 L 2949134.664998031,1608118.1249965865 L 2948530.6432715207,1607932.7362109176 L 2947502.970030939,1607105.516209219 L 2947224.1090356195,1606350.3824112492 L 2946090.8174763313,1605062.1490851846 L 2944129.9468844715,1601984.454971296 L 2943523.352589382,1601556.8993233058 L 2942883.370502568,1601512.9206824931 L 2942408.8230639067,1601095.977487642 L 2940355.7248512628,1597472.9054360674 L 2939310.796023836,1595234.9999440496 L 2938326.735346241,1592366.075741537 L 2937962.5974963163,1592283.2898919925 L 2936614.48192054,1592695.1017670021 L 2936093.963073038,1594040.732484064 L 2935333.2928205347,1594754.7191454342 L 2934351.6157373544,1595060.8809406597 L 2934189.3648109203,1595412.882684877 L 2934328.5596129927,1596011.0986814473 L 2933783.207531235,1596331.830126542 L 2933238.315868185,1596129.5293246214 L 2932439.1804230018,1596640.2406258173 L 2932162.8198957965,1596651.1695724989 L 2931737.191352963,1596324.6530529486 L 2931023.2810027036,1596426.1171635468 L 2930605.806080746,1596211.1690136795 L 2929227.4771580757,1594814.8109931948 L 2928795.0759552685,1593432.8408089087 L 2928837.2204864486,1593175.2181867545 L 2929280.7496387507,1592901.8289516321 L 2929184.293371476,1592230.0279223751 L 2929602.342662737,1591956.0541206049 L 2929690.8533872063,1591590.7497628885 L 2928992.051070967,1590878.9606394046 L 2929334.012119781,1589413.464902693 L 2928487.5348045784,1588744.961379144 L 2928236.9697796633,1587996.6618999992 L 2929221.878975955,1587085.784575032 L 2929211.87979364,1585966.248278759 L 2928994.4617404826,1585665.9616134223 L 2925973.414266252,1583798.239693683 L 2924693.241267705,1583608.6093741632 L 2923108.836675671,1584244.8393087357 L 2922377.000235456,1584075.5156282377 L 2920147.280202332,1583114.9448511424 L 2918246.8202060917,1582866.4061536046 L 2914676.593995774,1581751.716912009 L 2911978.611381765,1581603.6861305197 L 2911469.8340087323,1580847.6673595048 L 2910695.4259785856,1580762.9007842636 L 2910458.5156436386,1580989.1757946308 L 2910300.177925305,1581579.2950431162 L 2910392.0759828594,1581860.1871533033 L 2910770.7980559696,1582178.9821334041 L 2909831.7539168843,1584491.9926312412 L 2908514.644421123,1586725.3541142512 L 2905271.721285791,1589377.5601882292 L 2904873.882486708,1589464.1570452382 L 2903363.5998473978,1588941.9136637326 L 2901974.50347991,1589349.9894023284 L 2901086.9828572297,1590274.62104189 L 2899659.231732812,1591130.7605855544 L 2898289.4186707763,1592904.7661214736 L 2897630.5714879036,1593351.3287618482 L 2896580.3822990344,1592674.581993534 L 2895601.9660324818,1592858.610091454 L 2894977.212091048,1594038.416390566 L 2894373.9938049354,1594407.659120482 L 2894145.0536999726,1595478.185565383 L 2893497.8227115977,1596284.6694530926 L 2892477.9209978855,1599032.1962441881 L 2890330.1404256425,1602773.6036972974 L 2887299.617651134,1606445.0775019005 L 2886371.4479620005,1606767.9887855004 L 2886113.090953655,1606562.7998611461 L 2885776.1952712527,1606545.9951102743 L 2884745.78040644,1607085.7836024205 L 2881829.1796374866,1606766.445324725 L 2878098.7909416226,1608539.951630767 L 2877079.805283392,1608259.2688710198 L 2876687.078937559,1608428.4028609497 L 2876093.25541301,1610046.9276733904 L 2875163.7659195988,1611643.0346640758 L 2873762.034019599,1616155.6522640754 L 2873353.4331922606,1618722.5120736323 L 2872531.353739998,1620942.66122671 L 2871731.037754278,1622064.9037464382 L 2869506.9713852825,1622848.2730155615 L 2869274.1335250074,1623068.218260786 L 2868639.792830242,1624593.379492039 L 2867955.0307147643,1629154.3725358066 L 2867232.478526256,1631613.732572572 L 2866718.0083627147,1632278.9811397323 L 2865851.0483760047,1632972.3824079281 L 2864485.430510015,1634937.4181665878 L 2864636.1680843662,1636259.511682641 L 2863973.738608169,1640040.6732594315 L 2862902.794944586,1641911.7980078307 L 2862471.6480425764,1644682.577536489 L 2860944.839516771,1650339.5061159616 L 2860622.9037619797,1650814.7716410086 L 2859698.4825573447,1651364.8437894476 L 2858866.7061004797,1650906.303169796 L 2858520.1588340476,1651082.6379636754 L 2858345.133193449,1651513.1409078932 L 2858470.8136185426,1652139.9023194823 L 2858692.6088967565,1652396.3990448427 L 2859027.044569891,1652452.403474075 L 2859594.1683012485,1652237.8624481892 z\" /><path fill-rule=\"evenodd\" fill=\"#66cc99\" stroke=\"#555555\" stroke-width=\"911.5061281527703\" opacity=\"0.6\" d=\"M 2850200.5925024115,1677704.137190371 L 2850486.697852273,1677293.5967161627 L 2850259.317592674,1676597.512195772 L 2849990.422915354,1676327.2940005127 L 2849609.217462315,1676325.1438577855 L 2849065.974018755,1676989.1881637927 L 2849099.710983728,1677623.5332637753 L 2849544.28856795,1677947.7668861654 L 2850200.5925024115,1677704.137190371 z\" /></g></g></svg>"
      ],
      "text/plain": [
       "<shapely.geometry.multipolygon.MultiPolygon at 0x7f3bf3fb8850>"
      ]
     },
     "execution_count": 5,
     "metadata": {},
     "output_type": "execute_result"
    }
   ],
   "source": [
    "# Show the geometry\n",
    "buffered_aoi"
   ]
  },
  {
   "cell_type": "markdown",
   "id": "880b614b-de2e-4885-a8e8-5551bef03573",
   "metadata": {
    "papermill": {
     "duration": 0.007743,
     "end_time": "2022-11-07T15:08:23.557495",
     "exception": false,
     "start_time": "2022-11-07T15:08:23.549752",
     "status": "completed"
    },
    "tags": []
   },
   "source": [
    "## Evalscript for MR-VPP 500m products\n",
    "\n",
    "The workflow was written as an [Evalscript](https://docs.sentinel-hub.com/api/latest/evalscript/v3/) to enable large-scale processing using Batch API.\n",
    "\n",
    "Here we will import the Evalscript and format it in a way suitable for use with Python:\n",
    "\n",
    "- the variables `YEAR0` and `YEAR1` will be replaced by `{0}` and `{1}` for Python to pass the parameters\n",
    "- the `{` and `}` in the Evalscript will be escaped to `{{` and `}}`"
   ]
  },
  {
   "cell_type": "code",
   "execution_count": 6,
   "id": "7aa12c34-3ccc-47d0-a331-9d2bf6117357",
   "metadata": {
    "execution": {
     "iopub.execute_input": "2022-11-07T15:08:23.574510Z",
     "iopub.status.busy": "2022-11-07T15:08:23.573697Z",
     "iopub.status.idle": "2022-11-07T15:08:23.800341Z",
     "shell.execute_reply": "2022-11-07T15:08:23.799519Z"
    },
    "papermill": {
     "duration": 0.23727,
     "end_time": "2022-11-07T15:08:23.802412",
     "exception": false,
     "start_time": "2022-11-07T15:08:23.565142",
     "status": "completed"
    },
    "tags": []
   },
   "outputs": [],
   "source": [
    "# Open evalscript\n",
    "http = urllib3.PoolManager()\n",
    "response = http.request('GET', \"https://raw.githubusercontent.com/eurodatacube/notebooks/master/notebooks/contributions/example_data/drought_monitoring/mrvpp_500m_monthly_annual_raster_stats.js\")\n",
    "evalscript_mrvpp = response.data.decode('utf-8')\n",
    "\n",
    "# Make replacements\n",
    "evalscript_mrvpp = evalscript_mrvpp.replace('{', '{{')\n",
    "evalscript_mrvpp = evalscript_mrvpp.replace('}', '}}')\n",
    "evalscript_mrvpp = evalscript_mrvpp.replace('YEAR0', '{0}')\n",
    "evalscript_mrvpp = evalscript_mrvpp.replace('YEAR1', '{1}')"
   ]
  },
  {
   "cell_type": "markdown",
   "id": "d6d36a0d-a595-459d-8054-44a09f8725c2",
   "metadata": {
    "papermill": {
     "duration": 0.007728,
     "end_time": "2022-11-07T15:08:23.818113",
     "exception": false,
     "start_time": "2022-11-07T15:08:23.810385",
     "status": "completed"
    },
    "tags": []
   },
   "source": [
    "## Run first Batch request"
   ]
  },
  {
   "cell_type": "markdown",
   "id": "56d020e0-ef7f-4312-9cf7-5421616cfbc8",
   "metadata": {
    "papermill": {
     "duration": 0.007614,
     "end_time": "2022-11-07T15:08:23.833326",
     "exception": false,
     "start_time": "2022-11-07T15:08:23.825712",
     "status": "completed"
    },
    "tags": []
   },
   "source": [
    "### Set CreoDIAS bucket name\n",
    "\n",
    "Set the name of the bucket (that was [correctly setup](https://docs.sentinel-hub.com/api/latest/api/batch/#aws-bucket-settings)) where the results will be saved."
   ]
  },
  {
   "cell_type": "code",
   "execution_count": 7,
   "id": "75dbde3b-d708-4c26-b9d7-9880a0d9acf9",
   "metadata": {
    "execution": {
     "iopub.execute_input": "2022-11-07T15:08:23.851483Z",
     "iopub.status.busy": "2022-11-07T15:08:23.850765Z",
     "iopub.status.idle": "2022-11-07T15:08:23.855088Z",
     "shell.execute_reply": "2022-11-07T15:08:23.854266Z"
    },
    "papermill": {
     "duration": 0.015213,
     "end_time": "2022-11-07T15:08:23.857042",
     "exception": false,
     "start_time": "2022-11-07T15:08:23.841829",
     "status": "completed"
    },
    "tags": []
   },
   "outputs": [],
   "source": [
    "BUCKET_NAME = '<BUCKET-NAME>'"
   ]
  },
  {
   "cell_type": "markdown",
   "id": "b5f17e0b-6ad4-434e-aa17-7452b55aba80",
   "metadata": {
    "papermill": {
     "duration": 0.007746,
     "end_time": "2022-11-07T15:08:23.872737",
     "exception": false,
     "start_time": "2022-11-07T15:08:23.864991",
     "status": "completed"
    },
    "tags": []
   },
   "source": [
    "### Set input data collection IDs\n",
    "\n",
    "For the first step, we will three input layers that are hosted on CreoDIAS / WEkEO. \n",
    "\n",
    "- [Soil moisture index and anomaly](https://edo.jrc.ec.europa.eu/documents/factsheets/factsheet_soilmoisture.pdf)\n",
    "- [MR-VPP](https://www.eea.europa.eu/data-and-maps/data/copernicus-land-monitoring-service-medium)\n",
    "- Statistical indices: a combination of [NUTS3](https://ec.europa.eu/eurostat/web/nuts/background), [CLCA](https://www.eea.europa.eu/data-and-maps/data/corine-land-cover-accounting-layers), and [Land Cover Flow 2000-2018](https://www.eea.europa.eu/data-and-maps/data/land-cover-flows-based-on).\n",
    "\n",
    "Please contact us if you need access to these data collections: `info@sentinel-hub.com`."
   ]
  },
  {
   "cell_type": "code",
   "execution_count": 8,
   "id": "d0781fed-239a-431f-bb63-7719e48dd038",
   "metadata": {
    "execution": {
     "iopub.execute_input": "2022-11-07T15:08:23.889657Z",
     "iopub.status.busy": "2022-11-07T15:08:23.889023Z",
     "iopub.status.idle": "2022-11-07T15:08:23.893450Z",
     "shell.execute_reply": "2022-11-07T15:08:23.892591Z"
    },
    "papermill": {
     "duration": 0.014988,
     "end_time": "2022-11-07T15:08:23.895385",
     "exception": false,
     "start_time": "2022-11-07T15:08:23.880397",
     "status": "completed"
    },
    "tags": []
   },
   "outputs": [],
   "source": [
    "# Set collection IDs for the input layers\n",
    "soil_moisture_id = \"<ID>\"\n",
    "mrvpp_timesat_id = \"<ID>\"\n",
    "statistical_areas_id = \"<ID>\""
   ]
  },
  {
   "cell_type": "markdown",
   "id": "653a867b-42f8-4065-b7f8-916b1f89cdf1",
   "metadata": {
    "papermill": {
     "duration": 0.007819,
     "end_time": "2022-11-07T15:08:23.911246",
     "exception": false,
     "start_time": "2022-11-07T15:08:23.903427",
     "status": "completed"
    },
    "tags": []
   },
   "source": [
    "### Requests for Batch\n",
    "\n",
    "In the next cell we prepare a function to run Batch Processing so that we can easily trigger over many years."
   ]
  },
  {
   "cell_type": "code",
   "execution_count": 9,
   "id": "5c4ff025-da68-4acd-b691-7caeef54ed24",
   "metadata": {
    "execution": {
     "iopub.execute_input": "2022-11-07T15:08:23.928448Z",
     "iopub.status.busy": "2022-11-07T15:08:23.927832Z",
     "iopub.status.idle": "2022-11-07T15:08:23.948079Z",
     "shell.execute_reply": "2022-11-07T15:08:23.947265Z"
    },
    "papermill": {
     "duration": 0.031144,
     "end_time": "2022-11-07T15:08:23.950125",
     "exception": false,
     "start_time": "2022-11-07T15:08:23.918981",
     "status": "completed"
    },
    "tags": []
   },
   "outputs": [],
   "source": [
    "def run_batch_year(thisyear, aoi, evalscript, foldername, myconfig):\n",
    "    \n",
    "    print(f\"Running Year {thisyear}\")\n",
    "        \n",
    "    # Set timesat dates\n",
    "    timesat_start_date = dt.date(thisyear, 1, 1)\n",
    "    timesat_end_date = dt.date(thisyear, 1, 1)\n",
    "\n",
    "    # Automatically calculate Soil moisture dates\n",
    "    sm_start_date = timesat_start_date.replace(year=timesat_start_date.year-1)\n",
    "    sm_end_date = dt.date(timesat_end_date.year, 12, 31)\n",
    "    \n",
    "    # Batch object\n",
    "    batch = SentinelHubBatch(config=myconfig)\n",
    "    \n",
    "    # Make the outputs\n",
    "    shresponses = [SentinelHubRequest.output_response(f'Monthly_Drought_Hazard_{x}_{y}', MimeType.TIFF) for y in range(1,12+1) for x in [str(thisyear-1), thisyear]]\n",
    "    shresponses.append(SentinelHubRequest.output_response(f'Annual_Soil_Moisture_{thisyear}', MimeType.TIFF))\n",
    "    shresponses.append(SentinelHubRequest.output_response(f'Annual_Drought_Pressure_{thisyear}', MimeType.TIFF))\n",
    "    shresponses.append(SentinelHubRequest.output_response(f'Drought_Pressure_Month_{thisyear}', MimeType.TIFF))\n",
    "    shresponses.append(SentinelHubRequest.output_response(f'Annual_Drought_Pressure_Intensity_{thisyear}', MimeType.TIFF))\n",
    "    shresponses.append(SentinelHubRequest.output_response(f'LINT_anomaly_{thisyear}', MimeType.TIFF))\n",
    "    shresponses.append(SentinelHubRequest.output_response(f'Drought_Impact_{thisyear}', MimeType.TIFF))\n",
    "    shresponses.append(SentinelHubRequest.output_response(f'Drought_Impact_Mask_{thisyear}', MimeType.TIFF))\n",
    "    shresponses.append(SentinelHubRequest.output_response(f'Drought_Impact_Intensity_{thisyear}', MimeType.TIFF))\n",
    "    shresponses.append(SentinelHubRequest.output_response(f'Drought_Impact_Intensity_Mask_{thisyear}', MimeType.TIFF))\n",
    "    shresponses.append(SentinelHubRequest.output_response(f'userdata', MimeType.JSON))\n",
    "\n",
    "    \n",
    "    # Make the request for Batch\n",
    "    request_for_batch = SentinelHubRequest(\n",
    "        evalscript=evalscript.format(str(thisyear-1), str(thisyear)),\n",
    "        input_data=[\n",
    "        SentinelHubRequest.input_data(\n",
    "            data_collection=DataCollection.define_byoc(soil_moisture_id),          \n",
    "            identifier=\"SM\",\n",
    "            time_interval=(sm_start_date, sm_end_date),          \n",
    "        ),\n",
    "       SentinelHubRequest.input_data(\n",
    "            data_collection=DataCollection.define_byoc(mrvpp_timesat_id),          \n",
    "            identifier=\"TIMESAT\",\n",
    "            time_interval=(timesat_start_date, timesat_end_date),          \n",
    "        ),\n",
    "        SentinelHubRequest.input_data(\n",
    "            data_collection=DataCollection.define_byoc(mrvpp_timesat_id),          \n",
    "            identifier=\"TIMESATLONG\",\n",
    "            time_interval=(dt.date(2000, 1, 1), dt.date(2021, 1, 1)),          \n",
    "        ),\n",
    "        SentinelHubRequest.input_data(\n",
    "            data_collection=DataCollection.define_byoc(statistical_areas_id),          \n",
    "            identifier=\"INDICES\",\n",
    "            time_interval=(dt.date(2018, 1, 1), dt.date(2018, 1, 1)),          \n",
    "        ),\n",
    "    ],\n",
    "        responses=shresponses,\n",
    "        geometry=aoi,\n",
    "        config=myconfig\n",
    "    )\n",
    "    \n",
    "    # Create Batch request\n",
    "    batch_request = batch.create(\n",
    "        request_for_batch,\n",
    "        tiling_grid=SentinelHubBatch.tiling_grid(\n",
    "            grid_id=6,\n",
    "            resolution=500,\n",
    "            buffer=(0, 0)\n",
    "        ),\n",
    "        description=f'EEA MRVPP FULL 500m year {thisyear}',\n",
    "        output = SentinelHubBatch.output(\n",
    "        defaultTilePath = f\"s3://{BUCKET_NAME}/{foldername}\",\n",
    "        cog_output = True,\n",
    "        create_collection = False,\n",
    "        cog_parameters = {\"resamplingAlgorithm\": \"nearest\"}\n",
    "        )\n",
    "    )\n",
    "    \n",
    "    time.sleep(15)\n",
    "    \n",
    "    batch_request = batch.get_request(batch_request)\n",
    "    \n",
    "    batch.start_analysis(batch_request)\n",
    "    \n",
    "    batch_request = batch.get_request(batch_request)\n",
    "    \n",
    "   \n",
    "   \n",
    "    batch_request = batch.get_request(batch_request)\n",
    "    status = 0\n",
    "    cnt = 0\n",
    "    \n",
    "    while status == 0:\n",
    "\n",
    "        time.sleep(15)\n",
    "        \n",
    "        batch_request = batch.get_request(batch_request)\n",
    "\n",
    "        if batch_request.status == BatchRequestStatus.ANALYSIS_DONE:\n",
    "            status = 1\n",
    "            failed = False\n",
    "            print(\"Analysis done\")\n",
    "        elif batch_request.status == BatchRequestStatus.FAILED:\n",
    "            status = 1\n",
    "            failed = True\n",
    "            print(\"Failed\")\n",
    "        elif batch_request.status == BatchRequestStatus.ANALYSING:\n",
    "            status = 0\n",
    "            print(\"Still analysing\")\n",
    "            time.sleep(5)\n",
    "        else:\n",
    "            status = 0\n",
    "            time.sleep(5)\n",
    "            cnt += 1\n",
    "            print(f\"Ping number: {cnt}\")\n",
    "        \n",
    "    if not failed:\n",
    "        batch_request = batch.get_request(batch_request)\n",
    "        batch.start_job(batch_request)\n",
    "        print(f\"Running {batch_request.request_id}\")\n",
    "    else:\n",
    "        raise RuntimeError(\"Batch failed to analyse\")\n",
    "    batch_request = batch.get_request(batch_request)    \n",
    "    return batch_request.request_id"
   ]
  },
  {
   "cell_type": "markdown",
   "id": "68c26064-0e48-4812-8888-b0828410da1b",
   "metadata": {
    "papermill": {
     "duration": 0.007778,
     "end_time": "2022-11-07T15:08:23.966313",
     "exception": false,
     "start_time": "2022-11-07T15:08:23.958535",
     "status": "completed"
    },
    "tags": []
   },
   "source": [
    "### Run the Batch Processing"
   ]
  },
  {
   "cell_type": "code",
   "execution_count": 10,
   "id": "8483767a-608d-498a-9691-cbf70a1fce07",
   "metadata": {
    "execution": {
     "iopub.execute_input": "2022-11-07T15:08:23.992513Z",
     "iopub.status.busy": "2022-11-07T15:08:23.991753Z",
     "iopub.status.idle": "2022-11-07T15:08:23.995963Z",
     "shell.execute_reply": "2022-11-07T15:08:23.995114Z"
    },
    "papermill": {
     "duration": 0.023697,
     "end_time": "2022-11-07T15:08:23.997834",
     "exception": false,
     "start_time": "2022-11-07T15:08:23.974137",
     "status": "completed"
    },
    "tags": []
   },
   "outputs": [],
   "source": [
    "# Collect information about the Batch Process in a list\n",
    "ids = []"
   ]
  },
  {
   "cell_type": "markdown",
   "id": "fb7f3a9d",
   "metadata": {
    "tags": [
     "papermill-error-cell-tag"
    ]
   },
   "source": [
    "<span id=\"papermill-error-cell\" style=\"color:red; font-family:Helvetica Neue, Helvetica, Arial, sans-serif; font-size:2em;\">Execution using papermill encountered an exception here and stopped:</span>"
   ]
  },
  {
   "cell_type": "code",
   "execution_count": 11,
   "id": "f7aeaf42-4716-420d-8c2c-8bcdc59f1b0c",
   "metadata": {
    "execution": {
     "iopub.execute_input": "2022-11-07T15:08:24.015856Z",
     "iopub.status.busy": "2022-11-07T15:08:24.015229Z",
     "iopub.status.idle": "2022-11-07T15:08:25.508010Z",
     "shell.execute_reply": "2022-11-07T15:08:25.506626Z"
    },
    "papermill": {
     "duration": 1.503754,
     "end_time": "2022-11-07T15:08:25.509591",
     "exception": true,
     "start_time": "2022-11-07T15:08:24.005837",
     "status": "failed"
    },
    "tags": []
   },
   "outputs": [
    {
     "name": "stdout",
     "output_type": "stream",
     "text": [
      "Running Year 2000\n"
     ]
    },
    {
     "ename": "DownloadFailedException",
     "evalue": "Failed to download from:\nhttps://creodias.sentinel-hub.com/api/v1/batch/process\nwith HTTPError:\n400 Client Error: Bad Request for url: https://creodias.sentinel-hub.com/api/v1/batch/process\nServer response: \"Unsupported type: byoc-<ID>\n at [Source: (org.glassfish.jersey.message.internal.ReaderInterceptorExecutor$UnCloseableInputStream); line: 1, column: 17424] (through reference chain: com.sinergise.sentinel.batch.api.BatchProcessRequest[\"processRequest\"]->com.sinergise.sentinel.api.process.request.ProcessRequest[\"input\"]->com.sinergise.sentinel.api.process.request.Input[\"data\"]->java.util.ArrayList[0])\"",
     "output_type": "error",
     "traceback": [
      "\u001b[0;31m---------------------------------------------------------------------------\u001b[0m",
      "\u001b[0;31mHTTPError\u001b[0m                                 Traceback (most recent call last)",
      "File \u001b[0;32m/opt/conda/envs/edc-default-2022.10-14/lib/python3.9/site-packages/sentinelhub/download/handlers.py:41\u001b[0m, in \u001b[0;36mfail_user_errors.<locals>.new_download_func\u001b[0;34m(self, request)\u001b[0m\n\u001b[1;32m     40\u001b[0m \u001b[38;5;28;01mtry\u001b[39;00m:\n\u001b[0;32m---> 41\u001b[0m     \u001b[38;5;28;01mreturn\u001b[39;00m \u001b[43mdownload_func\u001b[49m\u001b[43m(\u001b[49m\u001b[38;5;28;43mself\u001b[39;49m\u001b[43m,\u001b[49m\u001b[43m \u001b[49m\u001b[43mrequest\u001b[49m\u001b[43m)\u001b[49m\n\u001b[1;32m     42\u001b[0m \u001b[38;5;28;01mexcept\u001b[39;00m requests\u001b[38;5;241m.\u001b[39mHTTPError \u001b[38;5;28;01mas\u001b[39;00m exception:\n",
      "File \u001b[0;32m/opt/conda/envs/edc-default-2022.10-14/lib/python3.9/site-packages/sentinelhub/download/sentinelhub_client.py:90\u001b[0m, in \u001b[0;36mSentinelHubDownloadClient._execute_download\u001b[0;34m(self, request)\u001b[0m\n\u001b[1;32m     88\u001b[0m     \u001b[38;5;28;01mcontinue\u001b[39;00m\n\u001b[0;32m---> 90\u001b[0m \u001b[43mresponse\u001b[49m\u001b[38;5;241;43m.\u001b[39;49m\u001b[43mraise_for_status\u001b[49m\u001b[43m(\u001b[49m\u001b[43m)\u001b[49m\n\u001b[1;32m     92\u001b[0m LOGGER\u001b[38;5;241m.\u001b[39mdebug(\u001b[38;5;124m\"\u001b[39m\u001b[38;5;124mSuccessful \u001b[39m\u001b[38;5;132;01m%s\u001b[39;00m\u001b[38;5;124m request to \u001b[39m\u001b[38;5;132;01m%s\u001b[39;00m\u001b[38;5;124m\"\u001b[39m, request\u001b[38;5;241m.\u001b[39mrequest_type\u001b[38;5;241m.\u001b[39mvalue, request\u001b[38;5;241m.\u001b[39murl)\n",
      "File \u001b[0;32m/opt/conda/envs/edc-default-2022.10-14/lib/python3.9/site-packages/requests/models.py:1021\u001b[0m, in \u001b[0;36mResponse.raise_for_status\u001b[0;34m(self)\u001b[0m\n\u001b[1;32m   1020\u001b[0m \u001b[38;5;28;01mif\u001b[39;00m http_error_msg:\n\u001b[0;32m-> 1021\u001b[0m     \u001b[38;5;28;01mraise\u001b[39;00m HTTPError(http_error_msg, response\u001b[38;5;241m=\u001b[39m\u001b[38;5;28mself\u001b[39m)\n",
      "\u001b[0;31mHTTPError\u001b[0m: 400 Client Error: Bad Request for url: https://creodias.sentinel-hub.com/api/v1/batch/process",
      "\nThe above exception was the direct cause of the following exception:\n",
      "\u001b[0;31mDownloadFailedException\u001b[0m                   Traceback (most recent call last)",
      "Cell \u001b[0;32mIn [11], line 3\u001b[0m\n\u001b[1;32m      1\u001b[0m \u001b[38;5;66;03m# Loop from 2000 to 2003 for this example\u001b[39;00m\n\u001b[1;32m      2\u001b[0m \u001b[38;5;28;01mfor\u001b[39;00m x \u001b[38;5;129;01min\u001b[39;00m \u001b[38;5;28mlist\u001b[39m(\u001b[38;5;28mrange\u001b[39m(\u001b[38;5;241m2000\u001b[39m, \u001b[38;5;241m2022\u001b[39m)):\n\u001b[0;32m----> 3\u001b[0m     ids\u001b[38;5;241m.\u001b[39mappend(\u001b[43mrun_batch_year\u001b[49m\u001b[43m(\u001b[49m\u001b[43mx\u001b[49m\u001b[43m,\u001b[49m\u001b[43m \u001b[49m\u001b[43mcadiz_aoi\u001b[49m\u001b[43m,\u001b[49m\u001b[43m \u001b[49m\u001b[43mevalscript_mrvpp\u001b[49m\u001b[43m,\u001b[49m\u001b[43m \u001b[49m\u001b[38;5;124;43m\"\u001b[39;49m\u001b[38;5;124;43mMRVPP_FULL_ANNUAL_MONTHLY\u001b[39;49m\u001b[38;5;124;43m\"\u001b[39;49m\u001b[43m,\u001b[49m\u001b[43m \u001b[49m\u001b[43mconfig\u001b[49m\u001b[43m)\u001b[49m)\n",
      "Cell \u001b[0;32mIn [9], line 61\u001b[0m, in \u001b[0;36mrun_batch_year\u001b[0;34m(thisyear, aoi, evalscript, foldername, myconfig)\u001b[0m\n\u001b[1;32m     31\u001b[0m request_for_batch \u001b[38;5;241m=\u001b[39m SentinelHubRequest(\n\u001b[1;32m     32\u001b[0m     evalscript\u001b[38;5;241m=\u001b[39mevalscript\u001b[38;5;241m.\u001b[39mformat(\u001b[38;5;28mstr\u001b[39m(thisyear\u001b[38;5;241m-\u001b[39m\u001b[38;5;241m1\u001b[39m), \u001b[38;5;28mstr\u001b[39m(thisyear)),\n\u001b[1;32m     33\u001b[0m     input_data\u001b[38;5;241m=\u001b[39m[\n\u001b[0;32m   (...)\u001b[0m\n\u001b[1;32m     57\u001b[0m     config\u001b[38;5;241m=\u001b[39mmyconfig\n\u001b[1;32m     58\u001b[0m )\n\u001b[1;32m     60\u001b[0m \u001b[38;5;66;03m# Create Batch request\u001b[39;00m\n\u001b[0;32m---> 61\u001b[0m batch_request \u001b[38;5;241m=\u001b[39m \u001b[43mbatch\u001b[49m\u001b[38;5;241;43m.\u001b[39;49m\u001b[43mcreate\u001b[49m\u001b[43m(\u001b[49m\n\u001b[1;32m     62\u001b[0m \u001b[43m    \u001b[49m\u001b[43mrequest_for_batch\u001b[49m\u001b[43m,\u001b[49m\n\u001b[1;32m     63\u001b[0m \u001b[43m    \u001b[49m\u001b[43mtiling_grid\u001b[49m\u001b[38;5;241;43m=\u001b[39;49m\u001b[43mSentinelHubBatch\u001b[49m\u001b[38;5;241;43m.\u001b[39;49m\u001b[43mtiling_grid\u001b[49m\u001b[43m(\u001b[49m\n\u001b[1;32m     64\u001b[0m \u001b[43m        \u001b[49m\u001b[43mgrid_id\u001b[49m\u001b[38;5;241;43m=\u001b[39;49m\u001b[38;5;241;43m6\u001b[39;49m\u001b[43m,\u001b[49m\n\u001b[1;32m     65\u001b[0m \u001b[43m        \u001b[49m\u001b[43mresolution\u001b[49m\u001b[38;5;241;43m=\u001b[39;49m\u001b[38;5;241;43m500\u001b[39;49m\u001b[43m,\u001b[49m\n\u001b[1;32m     66\u001b[0m \u001b[43m        \u001b[49m\u001b[43mbuffer\u001b[49m\u001b[38;5;241;43m=\u001b[39;49m\u001b[43m(\u001b[49m\u001b[38;5;241;43m0\u001b[39;49m\u001b[43m,\u001b[49m\u001b[43m \u001b[49m\u001b[38;5;241;43m0\u001b[39;49m\u001b[43m)\u001b[49m\n\u001b[1;32m     67\u001b[0m \u001b[43m    \u001b[49m\u001b[43m)\u001b[49m\u001b[43m,\u001b[49m\n\u001b[1;32m     68\u001b[0m \u001b[43m    \u001b[49m\u001b[43mdescription\u001b[49m\u001b[38;5;241;43m=\u001b[39;49m\u001b[38;5;124;43mf\u001b[39;49m\u001b[38;5;124;43m'\u001b[39;49m\u001b[38;5;124;43mEEA MRVPP FULL 500m year \u001b[39;49m\u001b[38;5;132;43;01m{\u001b[39;49;00m\u001b[43mthisyear\u001b[49m\u001b[38;5;132;43;01m}\u001b[39;49;00m\u001b[38;5;124;43m'\u001b[39;49m\u001b[43m,\u001b[49m\n\u001b[1;32m     69\u001b[0m \u001b[43m    \u001b[49m\u001b[43moutput\u001b[49m\u001b[43m \u001b[49m\u001b[38;5;241;43m=\u001b[39;49m\u001b[43m \u001b[49m\u001b[43mSentinelHubBatch\u001b[49m\u001b[38;5;241;43m.\u001b[39;49m\u001b[43moutput\u001b[49m\u001b[43m(\u001b[49m\n\u001b[1;32m     70\u001b[0m \u001b[43m    \u001b[49m\u001b[43mdefaultTilePath\u001b[49m\u001b[43m \u001b[49m\u001b[38;5;241;43m=\u001b[39;49m\u001b[43m \u001b[49m\u001b[38;5;124;43mf\u001b[39;49m\u001b[38;5;124;43m\"\u001b[39;49m\u001b[38;5;124;43ms3://\u001b[39;49m\u001b[38;5;132;43;01m{\u001b[39;49;00m\u001b[43mBUCKET_NAME\u001b[49m\u001b[38;5;132;43;01m}\u001b[39;49;00m\u001b[38;5;124;43m/\u001b[39;49m\u001b[38;5;132;43;01m{\u001b[39;49;00m\u001b[43mfoldername\u001b[49m\u001b[38;5;132;43;01m}\u001b[39;49;00m\u001b[38;5;124;43m\"\u001b[39;49m\u001b[43m,\u001b[49m\n\u001b[1;32m     71\u001b[0m \u001b[43m    \u001b[49m\u001b[43mcog_output\u001b[49m\u001b[43m \u001b[49m\u001b[38;5;241;43m=\u001b[39;49m\u001b[43m \u001b[49m\u001b[38;5;28;43;01mTrue\u001b[39;49;00m\u001b[43m,\u001b[49m\n\u001b[1;32m     72\u001b[0m \u001b[43m    \u001b[49m\u001b[43mcreate_collection\u001b[49m\u001b[43m \u001b[49m\u001b[38;5;241;43m=\u001b[39;49m\u001b[43m \u001b[49m\u001b[38;5;28;43;01mFalse\u001b[39;49;00m\u001b[43m,\u001b[49m\n\u001b[1;32m     73\u001b[0m \u001b[43m    \u001b[49m\u001b[43mcog_parameters\u001b[49m\u001b[43m \u001b[49m\u001b[38;5;241;43m=\u001b[39;49m\u001b[43m \u001b[49m\u001b[43m{\u001b[49m\u001b[38;5;124;43m\"\u001b[39;49m\u001b[38;5;124;43mresamplingAlgorithm\u001b[39;49m\u001b[38;5;124;43m\"\u001b[39;49m\u001b[43m:\u001b[49m\u001b[43m \u001b[49m\u001b[38;5;124;43m\"\u001b[39;49m\u001b[38;5;124;43mnearest\u001b[39;49m\u001b[38;5;124;43m\"\u001b[39;49m\u001b[43m}\u001b[49m\n\u001b[1;32m     74\u001b[0m \u001b[43m    \u001b[49m\u001b[43m)\u001b[49m\n\u001b[1;32m     75\u001b[0m \u001b[43m\u001b[49m\u001b[43m)\u001b[49m\n\u001b[1;32m     77\u001b[0m time\u001b[38;5;241m.\u001b[39msleep(\u001b[38;5;241m15\u001b[39m)\n\u001b[1;32m     79\u001b[0m batch_request \u001b[38;5;241m=\u001b[39m batch\u001b[38;5;241m.\u001b[39mget_request(batch_request)\n",
      "File \u001b[0;32m/opt/conda/envs/edc-default-2022.10-14/lib/python3.9/site-packages/sentinelhub/api/batch/process.py:98\u001b[0m, in \u001b[0;36mSentinelHubBatch.create\u001b[0;34m(self, sentinelhub_request, tiling_grid, output, bucket_name, description, **kwargs)\u001b[0m\n\u001b[1;32m     95\u001b[0m payload \u001b[38;5;241m=\u001b[39m remove_undefined(payload)\n\u001b[1;32m     97\u001b[0m url \u001b[38;5;241m=\u001b[39m \u001b[38;5;28mself\u001b[39m\u001b[38;5;241m.\u001b[39m_get_processing_url()\n\u001b[0;32m---> 98\u001b[0m request_info \u001b[38;5;241m=\u001b[39m \u001b[38;5;28;43mself\u001b[39;49m\u001b[38;5;241;43m.\u001b[39;49m\u001b[43mclient\u001b[49m\u001b[38;5;241;43m.\u001b[39;49m\u001b[43mget_json_dict\u001b[49m\u001b[43m(\u001b[49m\u001b[43murl\u001b[49m\u001b[43m,\u001b[49m\u001b[43m \u001b[49m\u001b[43mpost_values\u001b[49m\u001b[38;5;241;43m=\u001b[39;49m\u001b[43mpayload\u001b[49m\u001b[43m,\u001b[49m\u001b[43m \u001b[49m\u001b[43muse_session\u001b[49m\u001b[38;5;241;43m=\u001b[39;49m\u001b[38;5;28;43;01mTrue\u001b[39;49;00m\u001b[43m)\u001b[49m\n\u001b[1;32m    100\u001b[0m \u001b[38;5;28;01mreturn\u001b[39;00m BatchRequest\u001b[38;5;241m.\u001b[39mfrom_dict(request_info)\n",
      "File \u001b[0;32m/opt/conda/envs/edc-default-2022.10-14/lib/python3.9/site-packages/sentinelhub/download/client.py:265\u001b[0m, in \u001b[0;36mDownloadClient.get_json_dict\u001b[0;34m(self, url, extract_key, *args, **kwargs)\u001b[0m\n\u001b[1;32m    257\u001b[0m \u001b[38;5;28;01mdef\u001b[39;00m \u001b[38;5;21mget_json_dict\u001b[39m(\u001b[38;5;28mself\u001b[39m, url: \u001b[38;5;28mstr\u001b[39m, \u001b[38;5;241m*\u001b[39margs: Any, extract_key: Optional[\u001b[38;5;28mstr\u001b[39m] \u001b[38;5;241m=\u001b[39m \u001b[38;5;28;01mNone\u001b[39;00m, \u001b[38;5;241m*\u001b[39m\u001b[38;5;241m*\u001b[39mkwargs: Any) \u001b[38;5;241m-\u001b[39m\u001b[38;5;241m>\u001b[39m JsonDict:\n\u001b[1;32m    258\u001b[0m     \u001b[38;5;124;03m\"\"\"Download request as JSON data type, failing if the result is not a dictionary\u001b[39;00m\n\u001b[1;32m    259\u001b[0m \n\u001b[1;32m    260\u001b[0m \u001b[38;5;124;03m    For other parameters see `get_json` method.\u001b[39;00m\n\u001b[0;32m   (...)\u001b[0m\n\u001b[1;32m    263\u001b[0m \u001b[38;5;124;03m    :param extract_key: If provided, the field is automatically extracted, checked, and returned\u001b[39;00m\n\u001b[1;32m    264\u001b[0m \u001b[38;5;124;03m    \"\"\"\u001b[39;00m\n\u001b[0;32m--> 265\u001b[0m     response \u001b[38;5;241m=\u001b[39m \u001b[38;5;28;43mself\u001b[39;49m\u001b[38;5;241;43m.\u001b[39;49m\u001b[43mget_json\u001b[49m\u001b[43m(\u001b[49m\u001b[43murl\u001b[49m\u001b[43m,\u001b[49m\u001b[43m \u001b[49m\u001b[38;5;241;43m*\u001b[39;49m\u001b[43margs\u001b[49m\u001b[43m,\u001b[49m\u001b[43m \u001b[49m\u001b[38;5;241;43m*\u001b[39;49m\u001b[38;5;241;43m*\u001b[39;49m\u001b[43mkwargs\u001b[49m\u001b[43m)\u001b[49m\n\u001b[1;32m    267\u001b[0m     \u001b[38;5;28;01mif\u001b[39;00m \u001b[38;5;129;01mnot\u001b[39;00m \u001b[38;5;28misinstance\u001b[39m(response, \u001b[38;5;28mdict\u001b[39m):\n\u001b[1;32m    268\u001b[0m         \u001b[38;5;28;01mraise\u001b[39;00m MissingDataInRequestException(\n\u001b[1;32m    269\u001b[0m             \u001b[38;5;124mf\u001b[39m\u001b[38;5;124m\"\u001b[39m\u001b[38;5;124mResponse from \u001b[39m\u001b[38;5;132;01m{\u001b[39;00murl\u001b[38;5;132;01m}\u001b[39;00m\u001b[38;5;124m was expected to be a dictionary, but got \u001b[39m\u001b[38;5;132;01m{\u001b[39;00m\u001b[38;5;28mtype\u001b[39m(response)\u001b[38;5;132;01m}\u001b[39;00m\u001b[38;5;124m.\u001b[39m\u001b[38;5;124m\"\u001b[39m\n\u001b[1;32m    270\u001b[0m         )\n",
      "File \u001b[0;32m/opt/conda/envs/edc-default-2022.10-14/lib/python3.9/site-packages/sentinelhub/download/client.py:255\u001b[0m, in \u001b[0;36mDownloadClient.get_json\u001b[0;34m(self, url, post_values, headers, request_type, **kwargs)\u001b[0m\n\u001b[1;32m    244\u001b[0m     json_headers \u001b[38;5;241m=\u001b[39m {\u001b[38;5;124m\"\u001b[39m\u001b[38;5;124mContent-Type\u001b[39m\u001b[38;5;124m\"\u001b[39m: MimeType\u001b[38;5;241m.\u001b[39mJSON\u001b[38;5;241m.\u001b[39mget_string(), \u001b[38;5;241m*\u001b[39m\u001b[38;5;241m*\u001b[39mjson_headers}\n\u001b[1;32m    246\u001b[0m request \u001b[38;5;241m=\u001b[39m DownloadRequest(\n\u001b[1;32m    247\u001b[0m     url\u001b[38;5;241m=\u001b[39murl,\n\u001b[1;32m    248\u001b[0m     headers\u001b[38;5;241m=\u001b[39mjson_headers,\n\u001b[0;32m   (...)\u001b[0m\n\u001b[1;32m    252\u001b[0m     \u001b[38;5;241m*\u001b[39m\u001b[38;5;241m*\u001b[39mkwargs,\n\u001b[1;32m    253\u001b[0m )\n\u001b[0;32m--> 255\u001b[0m \u001b[38;5;28;01mreturn\u001b[39;00m \u001b[38;5;28;43mself\u001b[39;49m\u001b[38;5;241;43m.\u001b[39;49m\u001b[43m_single_download_decoded\u001b[49m\u001b[43m(\u001b[49m\u001b[43mrequest\u001b[49m\u001b[43m)\u001b[49m\n",
      "File \u001b[0;32m/opt/conda/envs/edc-default-2022.10-14/lib/python3.9/site-packages/sentinelhub/download/client.py:133\u001b[0m, in \u001b[0;36mDownloadClient._single_download_decoded\u001b[0;34m(self, request)\u001b[0m\n\u001b[1;32m    131\u001b[0m \u001b[38;5;28;01mdef\u001b[39;00m \u001b[38;5;21m_single_download_decoded\u001b[39m(\u001b[38;5;28mself\u001b[39m, request: DownloadRequest) \u001b[38;5;241m-\u001b[39m\u001b[38;5;241m>\u001b[39m Any:\n\u001b[1;32m    132\u001b[0m     \u001b[38;5;124;03m\"\"\"Downloads a response and decodes it into data. By decoding a single response\"\"\"\u001b[39;00m\n\u001b[0;32m--> 133\u001b[0m     response \u001b[38;5;241m=\u001b[39m \u001b[38;5;28;43mself\u001b[39;49m\u001b[38;5;241;43m.\u001b[39;49m\u001b[43m_single_download\u001b[49m\u001b[43m(\u001b[49m\u001b[43mrequest\u001b[49m\u001b[43m)\u001b[49m\n\u001b[1;32m    134\u001b[0m     \u001b[38;5;28;01mreturn\u001b[39;00m \u001b[38;5;28;01mNone\u001b[39;00m \u001b[38;5;28;01mif\u001b[39;00m response \u001b[38;5;129;01mis\u001b[39;00m \u001b[38;5;28;01mNone\u001b[39;00m \u001b[38;5;28;01melse\u001b[39;00m response\u001b[38;5;241m.\u001b[39mdecode()\n",
      "File \u001b[0;32m/opt/conda/envs/edc-default-2022.10-14/lib/python3.9/site-packages/sentinelhub/download/client.py:146\u001b[0m, in \u001b[0;36mDownloadClient._single_download\u001b[0;34m(self, request)\u001b[0m\n\u001b[1;32m    144\u001b[0m no_local_data \u001b[38;5;241m=\u001b[39m \u001b[38;5;28mself\u001b[39m\u001b[38;5;241m.\u001b[39mredownload \u001b[38;5;129;01mor\u001b[39;00m response_path \u001b[38;5;129;01mis\u001b[39;00m \u001b[38;5;28;01mNone\u001b[39;00m \u001b[38;5;129;01mor\u001b[39;00m \u001b[38;5;129;01mnot\u001b[39;00m os\u001b[38;5;241m.\u001b[39mpath\u001b[38;5;241m.\u001b[39mexists(response_path)\n\u001b[1;32m    145\u001b[0m \u001b[38;5;28;01mif\u001b[39;00m no_local_data:\n\u001b[0;32m--> 146\u001b[0m     response \u001b[38;5;241m=\u001b[39m \u001b[38;5;28;43mself\u001b[39;49m\u001b[38;5;241;43m.\u001b[39;49m\u001b[43m_execute_download\u001b[49m\u001b[43m(\u001b[49m\u001b[43mrequest\u001b[49m\u001b[43m)\u001b[49m\n\u001b[1;32m    147\u001b[0m \u001b[38;5;28;01melse\u001b[39;00m:\n\u001b[1;32m    148\u001b[0m     \u001b[38;5;28;01mif\u001b[39;00m \u001b[38;5;129;01mnot\u001b[39;00m request\u001b[38;5;241m.\u001b[39mreturn_data \u001b[38;5;129;01mor\u001b[39;00m response_path \u001b[38;5;129;01mis\u001b[39;00m \u001b[38;5;28;01mNone\u001b[39;00m:\n",
      "File \u001b[0;32m/opt/conda/envs/edc-default-2022.10-14/lib/python3.9/site-packages/sentinelhub/download/handlers.py:67\u001b[0m, in \u001b[0;36mretry_temporary_errors.<locals>.new_download_func\u001b[0;34m(self, request)\u001b[0m\n\u001b[1;32m     65\u001b[0m \u001b[38;5;28;01mfor\u001b[39;00m attempt_num \u001b[38;5;129;01min\u001b[39;00m \u001b[38;5;28mrange\u001b[39m(download_attempts):\n\u001b[1;32m     66\u001b[0m     \u001b[38;5;28;01mtry\u001b[39;00m:\n\u001b[0;32m---> 67\u001b[0m         \u001b[38;5;28;01mreturn\u001b[39;00m \u001b[43mdownload_func\u001b[49m\u001b[43m(\u001b[49m\u001b[38;5;28;43mself\u001b[39;49m\u001b[43m,\u001b[49m\u001b[43m \u001b[49m\u001b[43mrequest\u001b[49m\u001b[43m)\u001b[49m\n\u001b[1;32m     68\u001b[0m     \u001b[38;5;28;01mexcept\u001b[39;00m requests\u001b[38;5;241m.\u001b[39mRequestException \u001b[38;5;28;01mas\u001b[39;00m exception:\n\u001b[1;32m     69\u001b[0m         \u001b[38;5;28;01mif\u001b[39;00m \u001b[38;5;129;01mnot\u001b[39;00m (\n\u001b[1;32m     70\u001b[0m             _is_temporary_problem(exception)\n\u001b[1;32m     71\u001b[0m             \u001b[38;5;129;01mor\u001b[39;00m (\n\u001b[0;32m   (...)\u001b[0m\n\u001b[1;32m     74\u001b[0m             )\n\u001b[1;32m     75\u001b[0m         ):\n",
      "File \u001b[0;32m/opt/conda/envs/edc-default-2022.10-14/lib/python3.9/site-packages/sentinelhub/download/handlers.py:47\u001b[0m, in \u001b[0;36mfail_user_errors.<locals>.new_download_func\u001b[0;34m(self, request)\u001b[0m\n\u001b[1;32m     42\u001b[0m \u001b[38;5;28;01mexcept\u001b[39;00m requests\u001b[38;5;241m.\u001b[39mHTTPError \u001b[38;5;28;01mas\u001b[39;00m exception:\n\u001b[1;32m     43\u001b[0m     \u001b[38;5;28;01mif\u001b[39;00m (\n\u001b[1;32m     44\u001b[0m         exception\u001b[38;5;241m.\u001b[39mresponse\u001b[38;5;241m.\u001b[39mstatus_code \u001b[38;5;241m<\u001b[39m requests\u001b[38;5;241m.\u001b[39mstatus_codes\u001b[38;5;241m.\u001b[39mcodes\u001b[38;5;241m.\u001b[39mINTERNAL_SERVER_ERROR\n\u001b[1;32m     45\u001b[0m         \u001b[38;5;129;01mand\u001b[39;00m exception\u001b[38;5;241m.\u001b[39mresponse\u001b[38;5;241m.\u001b[39mstatus_code \u001b[38;5;241m!=\u001b[39m requests\u001b[38;5;241m.\u001b[39mstatus_codes\u001b[38;5;241m.\u001b[39mcodes\u001b[38;5;241m.\u001b[39mTOO_MANY_REQUESTS\n\u001b[1;32m     46\u001b[0m     ):\n\u001b[0;32m---> 47\u001b[0m         \u001b[38;5;28;01mraise\u001b[39;00m DownloadFailedException(\n\u001b[1;32m     48\u001b[0m             _create_download_failed_message(exception, request\u001b[38;5;241m.\u001b[39murl), request_exception\u001b[38;5;241m=\u001b[39mexception\n\u001b[1;32m     49\u001b[0m         ) \u001b[38;5;28;01mfrom\u001b[39;00m \u001b[38;5;21;01mexception\u001b[39;00m\n\u001b[1;32m     50\u001b[0m     \u001b[38;5;28;01mraise\u001b[39;00m exception \u001b[38;5;28;01mfrom\u001b[39;00m \u001b[38;5;21;01mexception\u001b[39;00m\n",
      "\u001b[0;31mDownloadFailedException\u001b[0m: Failed to download from:\nhttps://creodias.sentinel-hub.com/api/v1/batch/process\nwith HTTPError:\n400 Client Error: Bad Request for url: https://creodias.sentinel-hub.com/api/v1/batch/process\nServer response: \"Unsupported type: byoc-<ID>\n at [Source: (org.glassfish.jersey.message.internal.ReaderInterceptorExecutor$UnCloseableInputStream); line: 1, column: 17424] (through reference chain: com.sinergise.sentinel.batch.api.BatchProcessRequest[\"processRequest\"]->com.sinergise.sentinel.api.process.request.ProcessRequest[\"input\"]->com.sinergise.sentinel.api.process.request.Input[\"data\"]->java.util.ArrayList[0])\""
     ]
    }
   ],
   "source": [
    "# Loop from 2000 to 2003 for this example\n",
    "for x in list(range(2000, 2022)):\n",
    "    ids.append(run_batch_year(x, cadiz_aoi, evalscript_mrvpp, \"MRVPP_FULL_ANNUAL_MONTHLY\", config))"
   ]
  },
  {
   "cell_type": "markdown",
   "id": "9ebc92be-0d12-4903-b543-6c7038844cd4",
   "metadata": {
    "papermill": {
     "duration": null,
     "end_time": null,
     "exception": null,
     "start_time": null,
     "status": "pending"
    },
    "tags": []
   },
   "source": [
    "## Step 2: MR-VPP long term average products\n",
    "\n",
    "In a second step, we will compute the long term average drought products based on the Medium Resolution Vegetation Phenology and Productivity (MR-VPP) products."
   ]
  },
  {
   "cell_type": "markdown",
   "id": "f03bd640-9f96-47cc-9930-961e4fa5acb3",
   "metadata": {
    "papermill": {
     "duration": null,
     "end_time": null,
     "exception": null,
     "start_time": null,
     "status": "pending"
    },
    "tags": []
   },
   "source": [
    "### Set input data collection IDs\n",
    "\n",
    "For the second step, we will reuse three input layers defined in step 1. \n"
   ]
  },
  {
   "cell_type": "markdown",
   "id": "ac235ac7-49d6-43c3-a587-dce4041ae40e",
   "metadata": {
    "papermill": {
     "duration": null,
     "end_time": null,
     "exception": null,
     "start_time": null,
     "status": "pending"
    },
    "tags": []
   },
   "source": [
    "### Evalscript for MR-VPP 500m products\n",
    "\n",
    "The workflow was written as an [Evalscript](https://docs.sentinel-hub.com/api/latest/evalscript/v3/) to enable large-scale processing using Batch API.\n",
    "\n",
    "Here we will import the Evalscript:"
   ]
  },
  {
   "cell_type": "code",
   "execution_count": null,
   "id": "1abf09e4-07a2-41da-98b5-0ae1a23562c5",
   "metadata": {
    "papermill": {
     "duration": null,
     "end_time": null,
     "exception": null,
     "start_time": null,
     "status": "pending"
    },
    "tags": []
   },
   "outputs": [],
   "source": [
    "# Open evalscript\n",
    "http = urllib3.PoolManager()\n",
    "response = http.request('GET', \"https://raw.githubusercontent.com/eurodatacube/notebooks/master/notebooks/contributions/example_data/drought_monitoring/mrvpp_500m_lta_raster_stats.js\")\n",
    "evalscript_mrvpp_lta = response.data.decode('utf-8')"
   ]
  },
  {
   "cell_type": "markdown",
   "id": "3c45306f-0cb0-40ba-9164-eae2fa11ea94",
   "metadata": {
    "papermill": {
     "duration": null,
     "end_time": null,
     "exception": null,
     "start_time": null,
     "status": "pending"
    },
    "tags": []
   },
   "source": [
    "### Create Batch Request"
   ]
  },
  {
   "cell_type": "code",
   "execution_count": null,
   "id": "1ed9cbee-df3a-4a08-89e2-009eedc93e9c",
   "metadata": {
    "papermill": {
     "duration": null,
     "end_time": null,
     "exception": null,
     "start_time": null,
     "status": "pending"
    },
    "tags": []
   },
   "outputs": [],
   "source": [
    "# Set dates for full range\n",
    "start_date = dt.date(2000, 1, 1)\n",
    "end_date = dt.date(2021, 1, 1)\n",
    "\n",
    "# Batch object\n",
    "batch = SentinelHubBatch(config=config)\n",
    "\n",
    "request_for_batch = SentinelHubRequest(\n",
    "    evalscript=evalscript_mrvpp_lta,\n",
    "    input_data=[\n",
    "        SentinelHubRequest.input_data(\n",
    "            data_collection=DataCollection.define_byoc(soil_moisture_id),          \n",
    "            identifier=\"SM\",\n",
    "            time_interval=(start_date, end_date),          \n",
    "        ),\n",
    "        SentinelHubRequest.input_data(\n",
    "            data_collection=DataCollection.define_byoc(mrvpp_timesat_id),          \n",
    "            identifier=\"TIMESAT\",\n",
    "            time_interval=(start_date, end_date),          \n",
    "        ),\n",
    "        SentinelHubRequest.input_data(\n",
    "            data_collection=DataCollection.define_byoc(statistical_areas_id),          \n",
    "            identifier=\"INDICES\",\n",
    "            time_interval=(dt.date(2018, 1, 1), dt.date(2018, 1, 1)),          \n",
    "        ),\n",
    "    ],\n",
    "    responses=[SentinelHubRequest.output_response('Long_Term_Soil_Moisture', MimeType.TIFF),\n",
    "               SentinelHubRequest.output_response('Long_Term_Drought_Pressure_Intensity', MimeType.TIFF),\n",
    "               SentinelHubRequest.output_response(f'userdata', MimeType.JSON)\n",
    "              ],\n",
    "    geometry=andalusia_aoi,\n",
    "    config=config\n",
    ")\n",
    "\n",
    "# Create Batch request\n",
    "batch_request = batch.create(\n",
    "    request_for_batch,\n",
    "    tiling_grid=SentinelHubBatch.tiling_grid(\n",
    "        grid_id=6,\n",
    "        resolution=500,\n",
    "        buffer=(0, 0)\n",
    "    ),\n",
    "    description=f'EEA 500m Long Term Average',\n",
    "    output = SentinelHubBatch.output(\n",
    "    defaultTilePath = f\"s3://{BUCKET_NAME}/MRVPP_FULL_LTA\",\n",
    "    cog_output = True,\n",
    "    create_collection = False,\n",
    "    cog_parameters = {\"resamplingAlgorithm\": \"nearest\"}\n",
    "    )\n",
    ")\n",
    "\n",
    "batch_request = batch.get_request(batch_request)\n",
    "\n",
    "print(batch_request)"
   ]
  },
  {
   "cell_type": "code",
   "execution_count": null,
   "id": "3b8490c6-690f-4da7-aeff-d8af4f2934d9",
   "metadata": {
    "papermill": {
     "duration": null,
     "end_time": null,
     "exception": null,
     "start_time": null,
     "status": "pending"
    },
    "tags": []
   },
   "outputs": [],
   "source": [
    "# Analyse the request\n",
    "batch.start_analysis(batch_request)\n",
    "\n",
    "time.sleep(45)\n",
    "\n",
    "batch_request = batch.get_request(batch_request)\n",
    "print(batch_request)"
   ]
  },
  {
   "cell_type": "markdown",
   "id": "cdb8b05a-bf9b-4f85-85a5-b04e289e166f",
   "metadata": {
    "papermill": {
     "duration": null,
     "end_time": null,
     "exception": null,
     "start_time": null,
     "status": "pending"
    },
    "tags": []
   },
   "source": [
    "### Run Batch Request"
   ]
  },
  {
   "cell_type": "code",
   "execution_count": null,
   "id": "e018d5a0-a9ed-450a-bc17-3aaa4f8b84cf",
   "metadata": {
    "papermill": {
     "duration": null,
     "end_time": null,
     "exception": null,
     "start_time": null,
     "status": "pending"
    },
    "tags": []
   },
   "outputs": [],
   "source": [
    "batch.start_job(batch_request)"
   ]
  },
  {
   "cell_type": "markdown",
   "id": "04a92611-b5ab-476d-9a31-5f4f5080f17a",
   "metadata": {
    "papermill": {
     "duration": null,
     "end_time": null,
     "exception": null,
     "start_time": null,
     "status": "pending"
    },
    "tags": []
   },
   "source": [
    "## Step 3: HR-VPP products\n",
    "\n",
    "In the third step, we will compute the products derived from the High Resolution Vegetation Phenology and Productivity (HR-VPP) layers at 10m resolution. The products are derived from a combination of HR-VPP, and the products computed in the previous steps."
   ]
  },
  {
   "cell_type": "markdown",
   "id": "b95a42ef-c979-4aeb-83b7-138d54377a24",
   "metadata": {
    "papermill": {
     "duration": null,
     "end_time": null,
     "exception": null,
     "start_time": null,
     "status": "pending"
    },
    "tags": []
   },
   "source": [
    "### Set input data collection IDs\n",
    "\n",
    "For the last step, we will use four input layers that are hosted on CreoDIAS / WEkEO. \n",
    "\n",
    "- [HR-VPP season 1](https://land.copernicus.eu/pan-european/biophysical-parameters/high-resolution-vegetation-phenology-and-productivity): the data for the first season of each year.\n",
    "- [HR-VPP season 2](https://land.copernicus.eu/pan-european/biophysical-parameters/high-resolution-vegetation-phenology-and-productivity): the data for the second season of each year.\n",
    "- Statistical indices: a combination of [NUTS3](https://ec.europa.eu/eurostat/web/nuts/background), [CLCA](https://www.eea.europa.eu/data-and-maps/data/corine-land-cover-accounting-layers), and [Land Cover Flow 2000-2018](https://www.eea.europa.eu/data-and-maps/data/land-cover-flows-based-on).\n",
    "- Previous Yearly MR-VPP results. After running the first steps, the results need to be ingested as [BYOC layers](https://docs.sentinel-hub.com/api/latest/api/byoc/) in CreoDIAS / WEkEO.\n",
    "\n",
    "Please contact us if you need access to these data collections: `info@sentinel-hub.com`."
   ]
  },
  {
   "cell_type": "code",
   "execution_count": null,
   "id": "6baa52f2-920b-4368-8cf7-5c2881d1cdab",
   "metadata": {
    "papermill": {
     "duration": null,
     "end_time": null,
     "exception": null,
     "start_time": null,
     "status": "pending"
    },
    "tags": []
   },
   "outputs": [],
   "source": [
    "# Set collection IDs for the input layers\n",
    "hrvpp_s1_id = \"<ID>\"\n",
    "hrvpp_s2_id = \"<ID>\"\n",
    "statistical_areas_id = \"<ID>\"\n",
    "mrvpp_outputs_id = \"<ID>\""
   ]
  },
  {
   "cell_type": "markdown",
   "id": "3d24371b-ce0e-4bac-a26d-0c82d13f27a0",
   "metadata": {
    "papermill": {
     "duration": null,
     "end_time": null,
     "exception": null,
     "start_time": null,
     "status": "pending"
    },
    "tags": []
   },
   "source": [
    "## Evalscript for MR-VPP 500m products\n",
    "\n",
    "The workflow was written as an [Evalscript](https://docs.sentinel-hub.com/api/latest/evalscript/v3/) to enable large-scale processing using Batch API.\n",
    "\n",
    "Here we will import the Evalscript and format it in a way suitable for use with Python:\n",
    "\n",
    "- the variables `YEAR0` will be replaced by `{0}` for Python to pass the parameters\n",
    "- the `{` and `}` in the Evalscript will be escaped to `{{` and `}}`"
   ]
  },
  {
   "cell_type": "code",
   "execution_count": null,
   "id": "1f3ceafd-1cdc-4330-8ec9-86008b4bb5f5",
   "metadata": {
    "papermill": {
     "duration": null,
     "end_time": null,
     "exception": null,
     "start_time": null,
     "status": "pending"
    },
    "tags": []
   },
   "outputs": [],
   "source": [
    "# Open evalscript\n",
    "http = urllib3.PoolManager()\n",
    "response = http.request('GET', \"https://raw.githubusercontent.com/eurodatacube/notebooks/master/notebooks/contributions/example_data/drought_monitoring/hrvpp_10m_raster_stats.js\")\n",
    "evalscript_hrvpp = response.data.decode('utf-8')\n",
    "\n",
    "# Make replacements\n",
    "evalscript_hrvpp = evalscript_mrvpp.replace('{', '{{')\n",
    "evalscript_hrvpp = evalscript_mrvpp.replace('}', '}}')\n",
    "evalscript_hrvpp = evalscript_mrvpp.replace('YEAR0', '{0}')"
   ]
  },
  {
   "cell_type": "markdown",
   "id": "91da0673-6f90-4faf-8238-32d28c3054d0",
   "metadata": {
    "papermill": {
     "duration": null,
     "end_time": null,
     "exception": null,
     "start_time": null,
     "status": "pending"
    },
    "tags": []
   },
   "source": [
    "### Requests for Batch\n",
    "\n",
    "In the next cell we prepare a function to run Batch Processing so that we can easily trigger over many years."
   ]
  },
  {
   "cell_type": "code",
   "execution_count": null,
   "id": "f17922ca-7c06-44dc-8c76-0c73c5ec1416",
   "metadata": {
    "papermill": {
     "duration": null,
     "end_time": null,
     "exception": null,
     "start_time": null,
     "status": "pending"
    },
    "tags": []
   },
   "outputs": [],
   "source": [
    "def run_batch_year(inyear, aoi, evalscript, BUCKET_NAME, FOLDER_NAME, myconfig):\n",
    "        \n",
    "    # Set timesat dates\n",
    "    start_date = dt.date(2017, 1, 1)\n",
    "    end_date = dt.date(2021, 1, 1)\n",
    "\n",
    "    # Batch object\n",
    "    batch = SentinelHubBatch(config=myconfig)\n",
    "    \n",
    "    # Test make the outputs for Process API\n",
    "    shresponses = [SentinelHubRequest.output_response(f'TPROD_minmax_{inyear}', MimeType.TIFF)]\n",
    "    shresponses.append(SentinelHubRequest.output_response(f'SPROD_minmax_{inyear}', MimeType.TIFF))\n",
    "    shresponses.append(SentinelHubRequest.output_response(f'Total_Drought_Impact_{inyear}', MimeType.TIFF))\n",
    "    shresponses.append(SentinelHubRequest.output_response(f'Seasonal_Drought_Impact_{inyear}', MimeType.TIFF))\n",
    "    shresponses.append(SentinelHubRequest.output_response(f'Season_Length_{inyear}', MimeType.TIFF))\n",
    "    shresponses.append(SentinelHubRequest.output_response(f'Nb_Seasons_{inyear}', MimeType.TIFF))\n",
    "    shresponses.append(SentinelHubRequest.output_response(f'MR_drought_impact_{inyear}', MimeType.TIFF))\n",
    "    shresponses.append(SentinelHubRequest.output_response('userdata', MimeType.JSON))\n",
    "\n",
    "    \n",
    "    # Make the request for Batch\n",
    "    request_for_batch = SentinelHubRequest(\n",
    "        evalscript=evalscript.format(inyear),\n",
    "        input_data=[\n",
    "            SentinelHubRequest.input_data(\n",
    "                data_collection=DataCollection.define_byoc(mrvpp_outputs_id),          \n",
    "                identifier=\"MRVPP\",\n",
    "                time_interval=(f'{inyear}-01-01', f'{inyear}-01-01'),          \n",
    "            ),\n",
    "           SentinelHubRequest.input_data(\n",
    "                data_collection=DataCollection.define_byoc(hrvpp_s1_id),          \n",
    "                identifier=\"VPP1\",\n",
    "                time_interval=(start_date, end_date),          \n",
    "            ),\n",
    "           SentinelHubRequest.input_data(\n",
    "                data_collection=DataCollection.define_byoc(hrvpp_s2_id),          \n",
    "                identifier=\"VPP2\",\n",
    "                time_interval=(start_date, end_date),          \n",
    "            ),\n",
    "            SentinelHubRequest.input_data(\n",
    "                    data_collection=DataCollection.define_byoc(statistical_areas_id),          \n",
    "                    identifier=\"INDICES\",\n",
    "                    time_interval=('2018-01-01', '2018-01-01'),          \n",
    "                ),\n",
    "        ],\n",
    "        responses=shresponses,\n",
    "        geometry=aoi,\n",
    "        config=config\n",
    "    )\n",
    "\n",
    "    # Create Batch request\n",
    "    batch_request = batch.create(\n",
    "        request_for_batch,\n",
    "        tiling_grid=SentinelHubBatch.tiling_grid(\n",
    "            grid_id=7,\n",
    "            resolution=10,\n",
    "            buffer=(0, 0)\n",
    "        ),\n",
    "        description=f'EEA FULL RUN 10m year {inyear}',\n",
    "        output = SentinelHubBatch.output(\n",
    "        defaultTilePath = f\"s3://{BUCKET_NAME}/{FOLDER_NAME}\",\n",
    "        cog_output = True,\n",
    "        create_collection = False,\n",
    "        cog_parameters = {\"resamplingAlgorithm\": \"nearest\"}\n",
    "        )\n",
    "    )\n",
    "    \n",
    "    time.sleep(15)\n",
    "    \n",
    "    batch_request = batch.get_request(batch_request)\n",
    "\n",
    "    print(batch_request)\n",
    "    \n",
    "    batch.start_analysis(batch_request)\n",
    "    \n",
    "    batch_request = batch.get_request(batch_request)\n",
    "    \n",
    "   \n",
    "   \n",
    "    batch_request = batch.get_request(batch_request)\n",
    "    status = 0\n",
    "    \n",
    "    \n",
    "    while status == 0:\n",
    "\n",
    "        time.sleep(15)\n",
    "        \n",
    "        batch_request = batch.get_request(batch_request)\n",
    "\n",
    "        if batch_request.status == BatchRequestStatus.ANALYSIS_DONE:\n",
    "            status = 1\n",
    "            failed = False\n",
    "            print(\"Analysis done\")\n",
    "        elif batch_request.status == BatchRequestStatus.FAILED:\n",
    "            status = 1\n",
    "            failed = True\n",
    "            print(\"Failed\")\n",
    "        elif batch_request.status == BatchRequestStatus.ANALYSING:\n",
    "            status = 0\n",
    "            print(\"Still analysing\")\n",
    "            time.sleep(5)\n",
    "        else:\n",
    "            print(\"Other status\")\n",
    "            status = 0\n",
    "            time.sleep(5)\n",
    "        \n",
    "    if not failed:\n",
    "        batch_request = batch.get_request(batch_request)\n",
    "        batch.start_job(batch_request)\n",
    "        print(f\"Running {batch_request.request_id}\")\n",
    "    else:\n",
    "        raise RuntimeError(\"Batch failed to analyse\")\n",
    "    batch_request = batch.get_request(batch_request)    \n",
    "    return batch_request.request_id"
   ]
  },
  {
   "cell_type": "markdown",
   "id": "154e4c22-acba-48a9-b6e6-6138c6dfe284",
   "metadata": {
    "papermill": {
     "duration": null,
     "end_time": null,
     "exception": null,
     "start_time": null,
     "status": "pending"
    },
    "tags": []
   },
   "source": [
    "### Run the Batch Processing"
   ]
  },
  {
   "cell_type": "code",
   "execution_count": null,
   "id": "0150d8c3-c2df-40f3-8191-fdc3cac05722",
   "metadata": {
    "papermill": {
     "duration": null,
     "end_time": null,
     "exception": null,
     "start_time": null,
     "status": "pending"
    },
    "tags": []
   },
   "outputs": [],
   "source": [
    "# Collect information about the Batch Process in a list\n",
    "ids = []"
   ]
  },
  {
   "cell_type": "code",
   "execution_count": null,
   "id": "5990f69f-2ec5-48db-a5e9-8af078e42660",
   "metadata": {
    "papermill": {
     "duration": null,
     "end_time": null,
     "exception": null,
     "start_time": null,
     "status": "pending"
    },
    "tags": []
   },
   "outputs": [],
   "source": [
    "# Loop from 2017 to 2020 for this example\n",
    "for x in list(range(2017, 2021)):\n",
    "    ids.append(run_batch_year(x, andalusia_aoi, evalscript_hrvpp_avg, BUCKET_NAME, \"HRVPP_FULL\", config))"
   ]
  }
 ],
 "metadata": {
  "kernelspec": {
   "display_name": "Python [conda env:edc-default-2022.10-14]",
   "language": "python",
   "name": "conda-env-edc-default-2022.10-14-py"
  },
  "language_info": {
   "codemirror_mode": {
    "name": "ipython",
    "version": 3
   },
   "file_extension": ".py",
   "mimetype": "text/x-python",
   "name": "python",
   "nbconvert_exporter": "python",
   "pygments_lexer": "ipython3",
   "version": "3.9.13"
  },
  "papermill": {
   "default_parameters": {},
   "duration": 4.994351,
   "end_time": "2022-11-07T15:08:25.935605",
   "environment_variables": {},
   "exception": true,
   "input_path": "/tmp/tmpa3y7_4v9",
   "output_path": "/tmp/notebook_output.ipynb",
   "parameters": {},
   "start_time": "2022-11-07T15:08:20.941254",
   "version": "2.3.4"
  },
  "properties": {
   "authors": [
    {
     "id": "a2b85af8-6b99-4fa2-acf6-e87d74e40431",
     "name": "maxim.lamare@sinergise.com"
    }
   ],
   "description": "Digital Twin precursor of a drought impact monitoring system",
   "id": "94780ab8-aae6-4c09-ae1f-a9804f5aa5ef",
   "license": null,
   "name": "Drought impact monitoring platform",
   "requirements": [
    "eurodatacube"
   ],
   "tags": [
    "EO Data",
    "Jupyter",
    "Mass Processing",
    "Sentinel Hub"
   ],
   "tosAgree": true,
   "type": "Jupyter Notebook",
   "version": "0.0.1"
  }
 },
 "nbformat": 4,
 "nbformat_minor": 5
}