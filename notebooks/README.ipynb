{
 "cells": [
  {
   "cell_type": "code",
   "execution_count": 1,
   "id": "0166ad27",
   "metadata": {
    "execution": {
     "iopub.execute_input": "2022-10-13T12:21:11.000735Z",
     "iopub.status.busy": "2022-10-13T12:21:11.000302Z",
     "iopub.status.idle": "2022-10-13T12:21:11.104121Z",
     "shell.execute_reply": "2022-10-13T12:21:11.102191Z"
    },
    "papermill": {
     "duration": 0.113061,
     "end_time": "2022-10-13T12:21:11.109005",
     "exception": false,
     "start_time": "2022-10-13T12:21:10.995944",
     "status": "completed"
    },
    "tags": []
   },
   "outputs": [
    {
     "data": {
      "text/html": [
       "<script type=\"text/javascript\">\n",
       "        function toggle(id) {\n",
       "            el = document.getElementById(id);\n",
       "            el.style.display = el.style.display === \"none\" ? \"block\" : \"none\";\n",
       "        }\n",
       "    </script>"
      ],
      "text/plain": [
       "<IPython.core.display.HTML object>"
      ]
     },
     "metadata": {},
     "output_type": "display_data"
    },
    {
     "data": {
      "text/html": [
       "This notebook is compatible with this base image version (user-2022.10-14)."
      ],
      "text/plain": [
       "<IPython.core.display.HTML object>"
      ]
     },
     "metadata": {},
     "output_type": "display_data"
    }
   ],
   "source": [
    "from eoxhub import check_compatibility\n",
    "check_compatibility(\"user-2022.10-14\", dependencies=[])"
   ]
  },
  {
   "cell_type": "markdown",
   "id": "a28d20b5",
   "metadata": {
    "papermill": {
     "duration": 0.005325,
     "end_time": "2022-10-13T12:21:11.116156",
     "exception": false,
     "start_time": "2022-10-13T12:21:11.110831",
     "status": "completed"
    },
    "tags": []
   },
   "source": [
    "# Euro Data Cube Notebooks\n",
    "\n",
    "https://www.eurodatacube.com"
   ]
  }
 ],
 "metadata": {
  "kernelspec": {
   "display_name": "EDC 2022.02 (Python3)",
   "language": "python",
   "name": "edc"
  },
  "language_info": {
   "codemirror_mode": {
    "name": "ipython",
    "version": 3
   },
   "file_extension": ".py",
   "mimetype": "text/x-python",
   "name": "python",
   "nbconvert_exporter": "python",
   "pygments_lexer": "ipython3",
   "version": "3.9.13"
  },
  "papermill": {
   "default_parameters": {},
   "duration": 1.942462,
   "end_time": "2022-10-13T12:21:11.337309",
   "environment_variables": {},
   "exception": null,
   "input_path": "/tmp/tmplwej6vhh",
   "output_path": "/tmp/cur_notebook.ipynb",
   "parameters": {},
   "start_time": "2022-10-13T12:21:09.394847",
   "version": "2.3.3"
  },
  "properties": {
   "ignore": true
  }
 },
 "nbformat": 4,
 "nbformat_minor": 5
}